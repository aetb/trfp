{
 "cells": [
  {
   "cell_type": "code",
   "execution_count": 1,
   "metadata": {},
   "outputs": [
    {
     "name": "stdout",
     "output_type": "stream",
     "text": [
      "Welcome to JupyROOT 6.22/02\n"
     ]
    }
   ],
   "source": [
    "import trfp"
   ]
  },
  {
   "cell_type": "code",
   "execution_count": 2,
   "metadata": {},
   "outputs": [],
   "source": [
    "# trfp.root_to_pandas([3956], prefix='/data1/newg2/DataProduction/Offline/ArtTFSDir/v9_21_05_dev/FieldPlainRootOutput_', tr_run=True, sanitize=False)"
   ]
  },
  {
   "cell_type": "code",
   "execution_count": 2,
   "metadata": {},
   "outputs": [],
   "source": [
    "import trfp.field_map_config_run1 as field_map_config"
   ]
  },
  {
   "cell_type": "code",
   "execution_count": 3,
   "metadata": {},
   "outputs": [
    {
     "data": {
      "text/plain": [
       "{'1a': {'fp_df_1': ['tr_df_1', 'tr_df_2']},\n",
       " '1b': {'fp_df_1': ['tr_df_1', 'tr_df_2'], 'fp_df_2': ['tr_df_2', 'tr_df_3']},\n",
       " '1c': {'fp_df_1': ['tr_df_1', 'tr_df_2'],\n",
       "  'fp_df_2': ['tr_df_3', 'tr_df_4a'],\n",
       "  'fp_df_3': ['tr_df_4', 'tr_df_5'],\n",
       "  'fp_df_4': ['tr_df_5', 'tr_df_6']},\n",
       " '1d': {'fp_df_2': ['tr_df_2', 'tr_df_3'],\n",
       "  'fp_df_3': ['tr_df_4', 'tr_df_5'],\n",
       "  'fp_df_4': ['tr_df_6', 'tr_df_7'],\n",
       "  'fp_df_5': ['tr_df_7', 'tr_df_8'],\n",
       "  'fp_df_6': ['tr_df_8', 'tr_df_9']}}"
      ]
     },
     "execution_count": 3,
     "metadata": {},
     "output_type": "execute_result"
    }
   ],
   "source": [
    "field_map_config.pair_dict"
   ]
  },
  {
   "cell_type": "code",
   "execution_count": null,
   "metadata": {},
   "outputs": [],
   "source": []
  }
 ],
 "metadata": {
  "kernelspec": {
   "display_name": "Python 2",
   "language": "python",
   "name": "python2"
  },
  "language_info": {
   "codemirror_mode": {
    "name": "ipython",
    "version": 2
   },
   "file_extension": ".py",
   "mimetype": "text/x-python",
   "name": "python",
   "nbconvert_exporter": "python",
   "pygments_lexer": "ipython2",
   "version": "2.7.5"
  }
 },
 "nbformat": 4,
 "nbformat_minor": 2
}
