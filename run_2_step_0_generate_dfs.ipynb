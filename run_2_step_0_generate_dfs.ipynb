{
 "cells": [
  {
   "cell_type": "code",
   "execution_count": 1,
   "metadata": {},
   "outputs": [
    {
     "name": "stdout",
     "output_type": "stream",
     "text": [
      "Welcome to JupyROOT 6.22/02\n"
     ]
    }
   ],
   "source": [
    "%load_ext autoreload\n",
    "%autoreload 2\n",
    "\n",
    "%matplotlib inline\n",
    "import matplotlib\n",
    "import matplotlib.pyplot as plt\n",
    "import seaborn as sns\n",
    "\n",
    "import numpy as np\n",
    "import pandas as pd\n",
    "\n",
    "from scipy.optimize import curve_fit\n",
    "\n",
    "import gm2\n",
    "import trfp\n",
    "\n",
    "import field_map_config_run2 as map_config\n",
    "import helper_functions as helper\n",
    "\n",
    "\n",
    "## paths and dictionaries\n",
    "\n",
    "prefix = 'FieldPlainRootOutput_'\n",
    "sanitize = True\n",
    "\n",
    "save_dir = 'hdf5/'\n",
    "\n",
    "root_dict = map_config.root_dict\n"
   ]
  },
  {
   "cell_type": "code",
   "execution_count": null,
   "metadata": {},
   "outputs": [],
   "source": [
    "# run = '2a'\n",
    "# helper.save_df(root_dict[run], save_dir, '2021-01-11_run_' + run + '.h5', sanitize=True, prefix=prefix)"
   ]
  },
  {
   "cell_type": "code",
   "execution_count": 2,
   "metadata": {},
   "outputs": [
    {
     "name": "stdout",
     "output_type": "stream",
     "text": [
      "fp_df_1\n",
      "Reading event 113280/113289 99.99%                                         \n",
      "loop done: 100%                                    \n"
     ]
    },
    {
     "name": "stderr",
     "output_type": "stream",
     "text": [
      "helper_functions.py:552: RuntimeWarning: invalid value encountered in greater\n",
      "  drop = np.abs(start_array[i*bin_len:(i+1)*bin_len] - center) > std*width\n",
      "helper_functions.py:558: RuntimeWarning: invalid value encountered in greater\n",
      "  drop = np.abs(start_array[num_bin*bin_len:] - center) > std*width\n"
     ]
    },
    {
     "name": "stdout",
     "output_type": "stream",
     "text": [
      "Saved to: hdf5/2021-01-11_run_2b.h5\n",
      "fp_df_2\n",
      "Reading event 175060/175065 100.00%                                                                                                                   \n",
      "loop done: 100%                                    \n",
      "Saved to: hdf5/2021-01-11_run_2b.h5\n",
      "subrun_df\n",
      "(22666, 24)\n",
      "Saved to: hdf5/2021-01-11_run_2b.h5\n",
      "tr_df_1\n",
      "Reading event 1010/8816 11.46% "
     ]
    },
    {
     "name": "stderr",
     "output_type": "stream",
     "text": [
      "/usr/lib64/python2.7/site-packages/pandas/core/generic.py:2377: PerformanceWarning: \n",
      "your performance may suffer as PyTables will pickle object types that it cannot\n",
      "map directly to c-types [inferred_type->mixed,key->block3_values] [items->['quad_condition', 'kicker_condition', 'field_ok', 'trolley_period', 'field_period', 'ctags_loose_ok', 'quad_loose_ok', 'ctags_repeat_ok', 'losses_repeat_ok', 'fillcuts_repeat_ok']]\n",
      "\n",
      "  return pytables.to_hdf(path_or_buf, key, self, **kwargs)\n"
     ]
    },
    {
     "name": "stdout",
     "output_type": "stream",
     "text": [
      "Reading event 8810/8816 99.93%        \n",
      "loop done: 100%                                    \n",
      "Reading event 3140/3150 99.68% \n",
      "loop done: 100%                                    \n",
      "Saved to: hdf5/2021-01-11_run_2b.h5\n",
      "tr_df_3\n",
      "Reading event 8730/8739 99.90%    \n",
      "loop done: 100%                                    \n",
      "Reading event 3510/3515 99.86%   \n",
      "loop done: 100%                                    \n",
      "Saved to: hdf5/2021-01-11_run_2b.h5\n",
      "tr_df_2\n",
      "Reading event 8740/8749 99.90%       \n",
      "loop done: 100%                                    \n",
      "Reading event 3560/3570 99.72% \n",
      "loop done: 100%                                    \n",
      "Saved to: hdf5/2021-01-11_run_2b.h5\n"
     ]
    },
    {
     "name": "stderr",
     "output_type": "stream",
     "text": [
      "Error in <TFile::TFile>: file /data1/newg2/DataProduction/Offline/ArtTFSDir/v9_52_00_dev2/FieldPlainRootOutput_06792_tier1.root does not exist\n",
      "Error in <TFile::TFile>: file /data1/newg2/DataProduction/Offline/ArtTFSDir/v9_52_00_dev2/FieldPlainRootOutput_06794_tier1.root does not exist\n",
      "Error in <TFile::TFile>: file /data1/newg2/DataProduction/Offline/ArtTFSDir/v9_52_00_dev2/FieldPlainRootOutput_06796_tier1.root does not exist\n",
      "Error in <TFile::TFile>: file /data1/newg2/DataProduction/Offline/ArtTFSDir/v9_52_00_dev2/FieldPlainRootOutput_06798_tier1.root does not exist\n",
      "Error in <TFile::TFile>: file /data1/newg2/DataProduction/Offline/ArtTFSDir/v9_52_00_dev2/FieldPlainRootOutput_06801_tier1.root does not exist\n",
      "Error in <TFile::TFile>: file /data1/newg2/DataProduction/Offline/ArtTFSDir/v9_52_00_dev2/FieldPlainRootOutput_06804_tier1.root does not exist\n",
      "Error in <TFile::TFile>: file /data1/newg2/DataProduction/Offline/ArtTFSDir/v9_52_00_dev2/FieldPlainRootOutput_06805_tier1.root does not exist\n"
     ]
    }
   ],
   "source": [
    "run = '2b'\n",
    "helper.save_df(root_dict[run], save_dir, '2021-01-11_run_' + run + '.h5', sanitize=True, prefix=prefix)"
   ]
  },
  {
   "cell_type": "code",
   "execution_count": null,
   "metadata": {},
   "outputs": [],
   "source": [
    "# run = '2c'\n",
    "# helper.save_df(root_dict[run], save_dir, '2021-01-11_run_' + run + '.h5', sanitize=True, prefix=prefix)"
   ]
  },
  {
   "cell_type": "code",
   "execution_count": null,
   "metadata": {},
   "outputs": [],
   "source": [
    "# run = '2d'\n",
    "# helper.save_df(root_dict[run], save_dir, '2021-01-11_run_' + run + '.h5', sanitize=True, prefix=prefix)"
   ]
  },
  {
   "cell_type": "code",
   "execution_count": null,
   "metadata": {},
   "outputs": [],
   "source": [
    "# run = '2e'\n",
    "# helper.save_df(root_dict[run], save_dir, '2021-01-11_run_' + run + '.h5', sanitize=True, prefix=prefix)"
   ]
  },
  {
   "cell_type": "code",
   "execution_count": null,
   "metadata": {},
   "outputs": [],
   "source": [
    "# run = '2f'\n",
    "# helper.save_df(root_dict[run], save_dir, '2021-01-11_run_' + run + '.h5', sanitize=True, prefix=prefix)"
   ]
  },
  {
   "cell_type": "code",
   "execution_count": null,
   "metadata": {},
   "outputs": [],
   "source": [
    "# run = '2g'\n",
    "# helper.save_df(root_dict[run], save_dir, '2021-01-11_run_' + run + '.h5', sanitize=True, prefix=prefix)"
   ]
  },
  {
   "cell_type": "code",
   "execution_count": null,
   "metadata": {},
   "outputs": [],
   "source": [
    "# run = '2h'\n",
    "# helper.save_df(root_dict[run], save_dir, '2021-01-11_run_' + run + '.h5', sanitize=True, prefix=prefix)"
   ]
  },
  {
   "cell_type": "code",
   "execution_count": null,
   "metadata": {},
   "outputs": [],
   "source": [
    "# run = '2i'\n",
    "# helper.save_df(root_dict[run], save_dir, '2021-01-11_run_' + run + '.h5', sanitize=True, prefix=prefix)"
   ]
  },
  {
   "cell_type": "code",
   "execution_count": null,
   "metadata": {
    "scrolled": true
   },
   "outputs": [],
   "source": [
    "# for run in root_dict:\n",
    "#     print run\n",
    "#     helper.save_df(root_dict[run], save_dir, '2021-01-11_run_' + run + '.h5', sanitize=True, prefix=prefix)"
   ]
  },
  {
   "cell_type": "code",
   "execution_count": null,
   "metadata": {},
   "outputs": [],
   "source": []
  }
 ],
 "metadata": {
  "kernelspec": {
   "display_name": "Python 2",
   "language": "python",
   "name": "python2"
  },
  "language_info": {
   "codemirror_mode": {
    "name": "ipython",
    "version": 2
   },
   "file_extension": ".py",
   "mimetype": "text/x-python",
   "name": "python",
   "nbconvert_exporter": "python",
   "pygments_lexer": "ipython2",
   "version": "2.7.5"
  }
 },
 "nbformat": 4,
 "nbformat_minor": 2
}
