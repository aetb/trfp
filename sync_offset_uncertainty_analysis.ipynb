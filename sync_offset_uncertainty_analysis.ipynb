{
 "cells": [
  {
   "cell_type": "code",
   "execution_count": 1,
   "metadata": {},
   "outputs": [
    {
     "name": "stdout",
     "output_type": "stream",
     "text": [
      "Welcome to JupyROOT 6.12/04\n"
     ]
    }
   ],
   "source": [
    "%load_ext autoreload\n",
    "%autoreload 2\n",
    "\n",
    "%matplotlib inline\n",
    "import matplotlib\n",
    "import matplotlib.pyplot as plt\n",
    "import seaborn as sns\n",
    "\n",
    "import numpy as np\n",
    "import pandas as pd\n",
    "from scipy.optimize import curve_fit\n",
    "import scipy\n",
    "\n",
    "import gm2\n",
    "import trfp\n",
    "import plotting_functions as plt2\n",
    "import analysis_helper as helper\n",
    "import helper_function_candidates as helper_old\n",
    "\n",
    "def gaussian(x, A, x0, sigma): return A*np.exp(-(x-x0)**2/2./sigma**2)\n",
    "\n",
    "def gaussian_mean(sync_offsets):\n",
    "    hist, bins = np.histogram(sync_offsets, bins=50)\n",
    "    \n",
    "    mean = np.mean(sync_offsets)\n",
    "    std = np.std(sync_offsets)\n",
    "    \n",
    "    bins = (bins[:-1] + bins[1:])/2\n",
    "\n",
    "    coeffs, _ = curve_fit(gaussian, bins, hist, p0=[20, mean, std])\n",
    "    \n",
    "    return coeffs[1]\n",
    "\n",
    "matplotlib.rc('xtick', labelsize=10)     \n",
    "matplotlib.rc('ytick', labelsize=10)\n",
    "matplotlib.rc('axes', titlesize=10)\n",
    "matplotlib.rc('axes', labelsize=10)\n",
    "plt.rcParams[\"font.family\"] = \"serif\"\n",
    "\n",
    "sns.set_style('darkgrid')"
   ]
  },
  {
   "cell_type": "markdown",
   "metadata": {},
   "source": [
    "## 60hr data set"
   ]
  },
  {
   "cell_type": "code",
   "execution_count": 2,
   "metadata": {},
   "outputs": [
    {
     "name": "stdout",
     "output_type": "stream",
     "text": [
      "Finished calculating all moments for 4386 events.\n",
      "Finished calculating all moments for 4363 events.\n",
      "Removing trolley image from station 71.                        \n"
     ]
    }
   ],
   "source": [
    "filename = 'hdf5/60hr.h5'\n",
    "\n",
    "tr_interp_df_1 = pd.read_hdf(filename, key='tr_df_1')\n",
    "tr_interp_df_2 = pd.read_hdf(filename, key='tr_df_2')\n",
    "\n",
    "tr_moment_df_1 = helper.calc_moment_df(tr_interp_df_1)\n",
    "tr_moment_df_2 = helper.calc_moment_df(tr_interp_df_2)\n",
    "\n",
    "tr_corr_df_1 = helper_old.trolley_footprint_replacement(tr_moment_df_1)\n",
    "tr_corr_df_2 = helper_old.trolley_footprint_replacement(tr_moment_df_2)\n",
    "\n",
    "sync_offsets_1, delta_t_1 = helper.sync_offset_calc(tr_corr_df_1, tr_corr_df_2)"
   ]
  },
  {
   "cell_type": "code",
   "execution_count": 11,
   "metadata": {},
   "outputs": [
    {
     "data": {
      "image/png": "[encoded data removed]",
      "text/plain": [
       "<Figure size 432x216 with 1 Axes>"
      ]
     },
     "metadata": {
      "needs_background": "light"
     },
     "output_type": "display_data"
    }
   ],
   "source": [
    "fig1, ax1 = plt.subplots(1,1)\n",
    "\n",
    "ax1.plot(range(72), sync_offsets_1[:,0], '.')\n",
    "ax1.plot(range(72), np.full(72,np.mean(sync_offsets_1[:,0])), label='$\\Delta M = '+str(np.round(np.mean(sync_offsets_1[:,0]), 1))+'Hz$')\n",
    "\n",
    "# ax1.set_xlim(1000,2000)\n",
    "ax1.set_xlim(-1,72)\n",
    "ax1.set_xlabel('station number', fontdict={'family':'serif'})\n",
    "ax1.set_ylabel('$m_1$ sync offset (Hz)', fontdict={'family':'serif'})\n",
    "ax1.set_title(r'60 hour $m_1$ sync offsets', fontdict={'family':'serif'})\n",
    "ax1.legend(prop={'size':10, 'family':'serif'})\n",
    "\n",
    "fig1.set_size_inches(6,3)\n",
    "fig1.tight_layout()"
   ]
  },
  {
   "cell_type": "code",
   "execution_count": null,
   "metadata": {},
   "outputs": [],
   "source": [
    "hist_m1, bins_m1 = np.histogram(sync_offsets_1[:,0], bins=50)\n",
    "\n",
    "mean_m1 = np.mean(sync_offsets_1[:,0])\n",
    "std_m1 = np.std(sync_offsets_1[:,0])\n",
    "\n",
    "bins_m1 = (bins_m1[:-1] + bins_m1[1:])/2\n",
    "\n",
    "plt.plot(bins_m1, hist_m1, '.')\n",
    "\n",
    "coeffs_m1, _ = curve_fit(gaussian, bins_m1, hist_m1, p0=[20, mean_m1, std_m1])\n",
    "plt.plot(bins_m1, gaussian(bins_m1, *coeffs_m1))\n",
    "print coeffs_m1"
   ]
  },
  {
   "cell_type": "code",
   "execution_count": null,
   "metadata": {},
   "outputs": [],
   "source": [
    "hist_m2, bins_m2 = np.histogram(sync_offsets_1[:,1], bins=50)\n",
    "\n",
    "mean_m2 = np.mean(sync_offsets_1[:,1])\n",
    "std_m2 = np.std(sync_offsets_1[:,1])\n",
    "\n",
    "bins_m2 = (bins_m2[:-1] + bins_m2[1:])/2\n",
    "\n",
    "plt.plot(bins_m2, hist_m2, '.')\n",
    "\n",
    "coeffs_m2, _ = curve_fit(gaussian, bins_m2, hist_m2, p0=[20, mean_m2, std_m2])\n",
    "plt.plot(bins_m2, gaussian(bins_m2, *coeffs_m2))\n",
    "print coeffs_m2"
   ]
  },
  {
   "cell_type": "code",
   "execution_count": null,
   "metadata": {},
   "outputs": [],
   "source": [
    "hist_m3, bins_m3 = np.histogram(sync_offsets_1[:,2], bins=50)\n",
    "\n",
    "mean_m3 = np.mean(sync_offsets_1[:,2])\n",
    "std_m3 = np.std(sync_offsets_1[:,2])\n",
    "\n",
    "bins_m3 = (bins_m3[:-1] + bins_m3[1:])/2\n",
    "\n",
    "plt.plot(bins_m3, hist_m3, '.')\n",
    "\n",
    "coeffs_m3, _ = curve_fit(gaussian, bins_m3, hist_m3, p0=[20, mean_m3, std_m3])\n",
    "plt.plot(bins_m3, gaussian(bins_m3, *coeffs_m3))\n",
    "print coeffs_m3"
   ]
  },
  {
   "cell_type": "code",
   "execution_count": null,
   "metadata": {},
   "outputs": [],
   "source": [
    "# 60 hour data set conclusions\n",
    "\n",
    "print 'Delta M^2:'\n",
    "print '  m_1 = ' + str(coeffs_m1[1]**2) + r' Hz^2'\n",
    "print '  m_2 = ' + str(coeffs_m2[1]**2) + r' Hz^2'\n",
    "print '  m_3 = ' + str(coeffs_m3[1]**2) + r' Hz^2'\n",
    "print '\\n'\n",
    "print 'sigma:'\n",
    "print '  m_1 = ' + str(np.abs(coeffs_m1[1])/2) + r' Hz^2 = ' + str(np.abs(coeffs_m1[1])/2/61.79*1000) + ' ppb'\n",
    "print '  m_2 = ' + str(np.abs(coeffs_m2[1])/2) + r' Hz^2 = ' + str(np.abs(coeffs_m2[1])/2/61.79*1000) + ' ppb'\n",
    "print '  m_3 = ' + str(np.abs(coeffs_m3[1])/2) + r' Hz^2 = ' + str(np.abs(coeffs_m3[1])/2/61.79*1000) + ' ppb'"
   ]
  },
  {
   "cell_type": "code",
   "execution_count": null,
   "metadata": {},
   "outputs": [],
   "source": [
    "# print 'sigma:'\n",
    "\n",
    "# DM2_1 = gaussian_mean(sync_offsets_1[:,0])**2\n",
    "\n",
    "# avg_sigma_m1 = np.sqrt(DM2_1/4)\n",
    "\n",
    "# print '  m_1 = ' + str(avg_sigma_m1) + r' Hz^2 = ' + str(avg_sigma_m1/61.79*1000) + ' ppb'\n",
    "\n",
    "# ###\n",
    "\n",
    "# DM2_1 = gaussian_mean(sync_offsets_1[:,1])**2\n",
    "\n",
    "# avg_sigma_m2 = np.sqrt(DM2_1/4)\n",
    "\n",
    "# print '  m_2 = ' + str(avg_sigma_m2) + r' Hz^2 = ' + str(avg_sigma_m2/61.79*1000) + ' ppb'\n",
    "\n",
    "# ###\n",
    "\n",
    "# DM2_1 = gaussian_mean(sync_offsets_1[:,2])**2\n",
    "\n",
    "# avg_sigma_m3 = np.sqrt(DM2_1/4)\n",
    "\n",
    "# print '  m_3 = ' + str(avg_sigma_m3) + r' Hz^2 = ' + str(avg_sigma_m3/61.79*1000) + ' ppb'"
   ]
  },
  {
   "cell_type": "code",
   "execution_count": 12,
   "metadata": {},
   "outputs": [
    {
     "name": "stdout",
     "output_type": "stream",
     "text": [
      "sigma:\n",
      "  m_1 = 5.116072807161548 Hz^2 = 82.79774732418754 ppb\n",
      "  m_2 = 0.4222997688260194 Hz^2 = 6.834435488364127 ppb\n",
      "  m_3 = 1.5515631734956132 Hz^2 = 25.11026336778788 ppb\n",
      "  m_4 = 0.35355332102438153 Hz^2 = 5.721853390910852 ppb\n",
      "  m_5 = 1.3743626816187036 Hz^2 = 22.242477449728167 ppb\n"
     ]
    }
   ],
   "source": [
    "print 'sigma:'\n",
    "\n",
    "DM2_1 = np.mean(sync_offsets_1[:,0])**2\n",
    "\n",
    "avg_sigma_m1 = np.sqrt(DM2_1/4)\n",
    "\n",
    "print '  m_1 = ' + str(avg_sigma_m1) + r' Hz^2 = ' + str(avg_sigma_m1/61.79*1000) + ' ppb'\n",
    "\n",
    "###\n",
    "\n",
    "DM2_1 = np.mean(sync_offsets_1[:,1])**2\n",
    "\n",
    "avg_sigma_m2 = np.sqrt(DM2_1/4)\n",
    "\n",
    "print '  m_2 = ' + str(avg_sigma_m2) + r' Hz^2 = ' + str(avg_sigma_m2/61.79*1000) + ' ppb'\n",
    "\n",
    "###\n",
    "\n",
    "DM2_1 = np.mean(sync_offsets_1[:,2])**2\n",
    "\n",
    "avg_sigma_m3 = np.sqrt(DM2_1/4)\n",
    "\n",
    "print '  m_3 = ' + str(avg_sigma_m3) + r' Hz^2 = ' + str(avg_sigma_m3/61.79*1000) + ' ppb'\n",
    "\n",
    "###\n",
    "\n",
    "DM2_1 = np.mean(sync_offsets_1[:,3])**2\n",
    "\n",
    "avg_sigma_m4 = np.sqrt(DM2_1/4)\n",
    "\n",
    "print '  m_4 = ' + str(avg_sigma_m4) + r' Hz^2 = ' + str(avg_sigma_m4/61.79*1000) + ' ppb'\n",
    "\n",
    "###\n",
    "\n",
    "DM2_1 = np.mean(sync_offsets_1[:,4])**2\n",
    "\n",
    "avg_sigma_m5 = np.sqrt(DM2_1/4)\n",
    "\n",
    "print '  m_5 = ' + str(avg_sigma_m5) + r' Hz^2 = ' + str(avg_sigma_m5/61.79*1000) + ' ppb'"
   ]
  },
  {
   "cell_type": "markdown",
   "metadata": {},
   "source": [
    "## 9day data set"
   ]
  },
  {
   "cell_type": "code",
   "execution_count": 13,
   "metadata": {},
   "outputs": [
    {
     "name": "stdout",
     "output_type": "stream",
     "text": [
      "tr run 1\n",
      "Finished calculating all moments for 4344 events.\n",
      "tr run 2\n",
      "Finished calculating all moments for 4357 events.\n",
      "tr run 3\n",
      "Finished calculating all moments for 4359 events.\n",
      "tr run 4\n",
      "Finished calculating all moments for 4360 events.\n",
      "tr run 5\n",
      "Finished calculating all moments for 4702 events.\n",
      "tr run 6\n",
      "Finished calculating all moments for 4356 events.\n",
      "Removing trolley image from station 71.                                                                           \n"
     ]
    }
   ],
   "source": [
    "filename = 'hdf5/9day.h5'\n",
    "\n",
    "print 'tr run 1'\n",
    "tr_moment_df_1 = helper.calc_moment_df(pd.read_hdf(filename, 'tr_df_1'))\n",
    "print 'tr run 2'\n",
    "tr_moment_df_2 = helper.calc_moment_df(pd.read_hdf(filename, 'tr_df_2'))\n",
    "print 'tr run 3'\n",
    "tr_moment_df_3 = helper.calc_moment_df(pd.read_hdf(filename, 'tr_df_3'))\n",
    "print 'tr run 4'\n",
    "tr_moment_df_4 = helper.calc_moment_df(pd.read_hdf(filename, 'tr_df_4'))\n",
    "print 'tr run 5'\n",
    "tr_moment_df_5 = helper.calc_moment_df(pd.read_hdf(filename, 'tr_df_5'))\n",
    "print 'tr run 6'\n",
    "tr_moment_df_6 = helper.calc_moment_df(pd.read_hdf(filename, 'tr_df_6'))\n",
    "\n",
    "tr_corr_df_1 = helper_old.trolley_footprint_replacement(tr_moment_df_1)\n",
    "tr_corr_df_2 = helper_old.trolley_footprint_replacement(tr_moment_df_2)\n",
    "tr_corr_df_3 = helper_old.trolley_footprint_replacement(tr_moment_df_3)\n",
    "tr_corr_df_4 = helper_old.trolley_footprint_replacement(tr_moment_df_4)\n",
    "tr_corr_df_5 = helper_old.trolley_footprint_replacement(tr_moment_df_5)\n",
    "tr_corr_df_6 = helper_old.trolley_footprint_replacement(tr_moment_df_6)\n",
    "\n",
    "sync_offsets_1, delta_t_1 = helper.sync_offset_calc(tr_corr_df_1, tr_corr_df_2)\n",
    "sync_offsets_2, delta_t_2 = helper.sync_offset_calc(tr_corr_df_3, tr_corr_df_4)\n",
    "sync_offsets_3, delta_t_3 = helper.sync_offset_calc(tr_corr_df_4, tr_corr_df_5)\n",
    "sync_offsets_4, delta_t_4 = helper.sync_offset_calc(tr_corr_df_5, tr_corr_df_6)"
   ]
  },
  {
   "cell_type": "code",
   "execution_count": 14,
   "metadata": {},
   "outputs": [
    {
     "name": "stdout",
     "output_type": "stream",
     "text": [
      "sigma:\n",
      "  m_1 = 3.9769474426216456 Hz^2 = 64.3623149801205 ppb\n",
      "  m_2 = 5.004513647472883 Hz^2 = 80.99229078285941 ppb\n",
      "  m_3 = 2.2823988267491466 Hz^2 = 36.93799687245746 ppb\n",
      "  m_4 = 0.3456479641449592 Hz^2 = 5.59391429268424 ppb\n",
      "  m_3 = 1.186949068849619 Hz^2 = 19.209403930241447 ppb\n"
     ]
    }
   ],
   "source": [
    "#use these as estimators for Delta M^2\n",
    "\n",
    "print 'sigma:'\n",
    "\n",
    "t1 = np.mean(delta_t_1[:,0])\n",
    "t2 = np.mean(delta_t_2[:,0])\n",
    "t3 = np.mean(delta_t_3[:,0])\n",
    "t4 = np.mean(delta_t_4[:,0])\n",
    "\n",
    "DM2_1 = np.mean(sync_offsets_1[:,0])**2\n",
    "DM2_2 = np.mean(sync_offsets_2[:,0])**2\n",
    "DM2_3 = np.mean(sync_offsets_3[:,0])**2\n",
    "DM2_4 = np.mean(sync_offsets_4[:,0])**2\n",
    "\n",
    "avg_sigma_m1 = np.sqrt(1./(t1+t2+t3+t4) * (t1*DM2_1/4 + t2*DM2_2/4 + t3*DM2_3/4 + t4*DM2_4/2))\n",
    "\n",
    "print '  m_1 = ' + str(avg_sigma_m1) + r' Hz^2 = ' + str(avg_sigma_m1/61.79*1000) + ' ppb'\n",
    "\n",
    "###\n",
    "\n",
    "t1 = np.mean(delta_t_1[:,1])\n",
    "t2 = np.mean(delta_t_2[:,1])\n",
    "t3 = np.mean(delta_t_3[:,1])\n",
    "t4 = np.mean(delta_t_4[:,1])\n",
    "\n",
    "DM2_1 = np.mean(sync_offsets_1[:,1])**2\n",
    "DM2_2 = np.mean(sync_offsets_2[:,1])**2\n",
    "DM2_3 = np.mean(sync_offsets_3[:,1])**2\n",
    "DM2_4 = np.mean(sync_offsets_4[:,1])**2\n",
    "\n",
    "avg_sigma_m2 = np.sqrt(1./(t1+t2+t3+t4) * (t1*DM2_1/4 + t2*DM2_2/4 + t3*DM2_3/4 + t4*DM2_4/2))\n",
    "\n",
    "print '  m_2 = ' + str(avg_sigma_m2) + r' Hz^2 = ' + str(avg_sigma_m2/61.79*1000) + ' ppb'\n",
    "\n",
    "###\n",
    "\n",
    "t1 = np.mean(delta_t_1[:,2])\n",
    "t2 = np.mean(delta_t_2[:,2])\n",
    "t3 = np.mean(delta_t_3[:,2])\n",
    "t4 = np.mean(delta_t_4[:,2])\n",
    "\n",
    "DM2_1 = np.mean(sync_offsets_1[:,2])**2\n",
    "DM2_2 = np.mean(sync_offsets_2[:,2])**2\n",
    "DM2_3 = np.mean(sync_offsets_3[:,2])**2\n",
    "DM2_4 = np.mean(sync_offsets_4[:,2])**2\n",
    "\n",
    "avg_sigma_m3 = np.sqrt(1./(t1+t2+t3+t4) * (t1*DM2_1/4 + t2*DM2_2/4 + t3*DM2_3/4 + t4*DM2_4/2))\n",
    "\n",
    "print '  m_3 = ' + str(avg_sigma_m3) + r' Hz^2 = ' + str(avg_sigma_m3/61.79*1000) + ' ppb'\n",
    "\n",
    "###\n",
    "\n",
    "t1 = np.mean(delta_t_1[:,3])\n",
    "t2 = np.mean(delta_t_2[:,3])\n",
    "t3 = np.mean(delta_t_3[:,3])\n",
    "t4 = np.mean(delta_t_4[:,3])\n",
    "\n",
    "DM2_1 = np.mean(sync_offsets_1[:,3])**2\n",
    "DM2_2 = np.mean(sync_offsets_2[:,3])**2\n",
    "DM2_3 = np.mean(sync_offsets_3[:,3])**2\n",
    "DM2_4 = np.mean(sync_offsets_4[:,3])**2\n",
    "\n",
    "avg_sigma_m4 = np.sqrt(1./(t1+t2+t3+t4) * (t1*DM2_1/4 + t2*DM2_2/4 + t3*DM2_3/4 + t4*DM2_4/2))\n",
    "\n",
    "print '  m_4 = ' + str(avg_sigma_m4) + r' Hz^2 = ' + str(avg_sigma_m4/61.79*1000) + ' ppb'\n",
    "\n",
    "###\n",
    "\n",
    "t1 = np.mean(delta_t_1[:,4])\n",
    "t2 = np.mean(delta_t_2[:,4])\n",
    "t3 = np.mean(delta_t_3[:,4])\n",
    "t4 = np.mean(delta_t_4[:,4])\n",
    "\n",
    "DM2_1 = np.mean(sync_offsets_1[:,4])**2\n",
    "DM2_2 = np.mean(sync_offsets_2[:,4])**2\n",
    "DM2_3 = np.mean(sync_offsets_3[:,4])**2\n",
    "DM2_4 = np.mean(sync_offsets_4[:,4])**2\n",
    "\n",
    "avg_sigma_m5 = np.sqrt(1./(t1+t2+t3+t4) * (t1*DM2_1/4 + t2*DM2_2/4 + t3*DM2_3/4 + t4*DM2_4/2))\n",
    "\n",
    "print '  m_3 = ' + str(avg_sigma_m5) + r' Hz^2 = ' + str(avg_sigma_m5/61.79*1000) + ' ppb'"
   ]
  },
  {
   "cell_type": "markdown",
   "metadata": {},
   "source": [
    "## Endgame"
   ]
  },
  {
   "cell_type": "code",
   "execution_count": 15,
   "metadata": {},
   "outputs": [
    {
     "name": "stdout",
     "output_type": "stream",
     "text": [
      "tr run 2\n",
      "Finished calculating all moments for 4914 events.\n",
      "tr run 3\n",
      "Finished calculating all moments for 4141 events.\n",
      "tr run 4\n",
      "Finished calculating all moments for 4350 events.\n",
      "tr run 5\n",
      "Finished calculating all moments for 4371 events.\n",
      "tr run 6\n",
      "Finished calculating all moments for 4345 events.\n",
      "tr run 7\n",
      "Finished calculating all moments for 4350 events.\n",
      "tr run 8\n",
      "Finished calculating all moments for 4394 events.\n",
      "Removing trolley image from station 71.                                                                                           \n"
     ]
    }
   ],
   "source": [
    "filename = 'hdf5/endgame.h5'\n",
    "\n",
    "print 'tr run 2'\n",
    "tr_moment_df_2 = helper.calc_moment_df(pd.read_hdf(filename, 'tr_df_2'))\n",
    "print 'tr run 3'\n",
    "tr_moment_df_3 = helper.calc_moment_df(pd.read_hdf(filename, 'tr_df_3'))\n",
    "print 'tr run 4'\n",
    "tr_moment_df_4 = helper.calc_moment_df(pd.read_hdf(filename, 'tr_df_4'))\n",
    "print 'tr run 5'\n",
    "tr_moment_df_5 = helper.calc_moment_df(pd.read_hdf(filename, 'tr_df_5'))\n",
    "print 'tr run 6'\n",
    "tr_moment_df_6 = helper.calc_moment_df(pd.read_hdf(filename, 'tr_df_6'))\n",
    "print 'tr run 7'\n",
    "tr_moment_df_7 = helper.calc_moment_df(pd.read_hdf(filename, 'tr_df_7'))\n",
    "print 'tr run 8'\n",
    "tr_moment_df_8 = helper.calc_moment_df(pd.read_hdf(filename, 'tr_df_8'))\n",
    "\n",
    "tr_corr_df_2 = helper_old.trolley_footprint_replacement(tr_moment_df_2)\n",
    "tr_corr_df_3 = helper_old.trolley_footprint_replacement(tr_moment_df_3)\n",
    "tr_corr_df_4 = helper_old.trolley_footprint_replacement(tr_moment_df_4)\n",
    "tr_corr_df_5 = helper_old.trolley_footprint_replacement(tr_moment_df_5)\n",
    "tr_corr_df_6 = helper_old.trolley_footprint_replacement(tr_moment_df_6)\n",
    "tr_corr_df_7 = helper_old.trolley_footprint_replacement(tr_moment_df_7)\n",
    "tr_corr_df_8 = helper_old.trolley_footprint_replacement(tr_moment_df_8)\n",
    "\n",
    "sync_offsets_1, delta_t_1 = helper.sync_offset_calc(tr_corr_df_2, tr_corr_df_3)\n",
    "sync_offsets_2, delta_t_2 = helper.sync_offset_calc(tr_corr_df_4, tr_corr_df_5)\n",
    "sync_offsets_3, delta_t_3 = helper.sync_offset_calc(tr_corr_df_6, tr_corr_df_7)\n",
    "sync_offsets_4, delta_t_4 = helper.sync_offset_calc(tr_corr_df_7, tr_corr_df_8)"
   ]
  },
  {
   "cell_type": "code",
   "execution_count": 16,
   "metadata": {},
   "outputs": [
    {
     "name": "stdout",
     "output_type": "stream",
     "text": [
      "280859.0\n"
     ]
    }
   ],
   "source": [
    "# need time for last fixed probe run 6\n",
    "\n",
    "fp_interp_df_6 = pd.read_hdf(filename, 'fp_df_6')\n",
    "t5 = np.max(fp_interp_df_6.index.values) - np.min(fp_interp_df_6.index.values)\n",
    "print t5"
   ]
  },
  {
   "cell_type": "code",
   "execution_count": 17,
   "metadata": {},
   "outputs": [
    {
     "name": "stdout",
     "output_type": "stream",
     "text": [
      "29.37635160697983\n",
      "3.1858036366542546\n",
      "-21.18417238446099\n",
      "13.929476131936008\n"
     ]
    }
   ],
   "source": [
    "print np.mean(sync_offsets_1[:,0])\n",
    "print np.mean(sync_offsets_2[:,0])\n",
    "print np.mean(sync_offsets_3[:,0])\n",
    "print np.mean(sync_offsets_4[:,0])"
   ]
  },
  {
   "cell_type": "code",
   "execution_count": 18,
   "metadata": {},
   "outputs": [
    {
     "name": "stdout",
     "output_type": "stream",
     "text": [
      "sigma:\n",
      "  m_1 = 12.834524387526363 Hz^2 = 207.7119985034207 ppb\n",
      "  m_2 = 3.840131910743954 Hz^2 = 62.14811313714119 ppb\n",
      "  m_3 = 1.076515930043033 Hz^2 = 17.422170740298316 ppb\n",
      "  m_4 = 1.4204680770277052 Hz^2 = 22.98864018494425 ppb\n",
      "  m_5 = 4.564276808683672 Hz^2 = 73.8675644713331 ppb\n"
     ]
    }
   ],
   "source": [
    "# use max Delta M^2 from other runs to estimate trolley pair 8-9\n",
    "\n",
    "\n",
    "print 'sigma:'\n",
    "\n",
    "t1 = np.mean(delta_t_1[:,0])\n",
    "t2 = np.mean(delta_t_2[:,0])\n",
    "t3 = np.mean(delta_t_3[:,0])\n",
    "t4 = np.mean(delta_t_4[:,0])\n",
    "\n",
    "DM2_1 = np.mean(sync_offsets_1[:,0])**2\n",
    "DM2_2 = np.mean(sync_offsets_2[:,0])**2\n",
    "DM2_3 = np.mean(sync_offsets_3[:,0])**2\n",
    "DM2_4 = np.mean(sync_offsets_4[:,0])**2\n",
    "\n",
    "DM2_5 = np.max(np.abs(np.array([DM2_1, DM2_2, DM2_3, DM2_4])))\n",
    "\n",
    "avg_sigma_m1 = np.sqrt(1./(t1+t2+t3+t4+t5) * (t1*DM2_1/4 + t2*DM2_2/4 + t3*DM2_3/4 + t4*DM2_4/4 + t5*DM2_5/2))\n",
    "\n",
    "print '  m_1 = ' + str(avg_sigma_m1) + r' Hz^2 = ' + str(avg_sigma_m1/61.79*1000) + ' ppb'\n",
    "\n",
    "###\n",
    "\n",
    "t1 = np.mean(delta_t_1[:,1])\n",
    "t2 = np.mean(delta_t_2[:,1])\n",
    "t3 = np.mean(delta_t_3[:,1])\n",
    "t4 = np.mean(delta_t_4[:,1])\n",
    "\n",
    "DM2_1 = np.mean(sync_offsets_1[:,1])**2\n",
    "DM2_2 = np.mean(sync_offsets_2[:,1])**2\n",
    "DM2_3 = np.mean(sync_offsets_3[:,1])**2\n",
    "DM2_4 = np.mean(sync_offsets_4[:,1])**2\n",
    "\n",
    "DM2_5 = np.max([DM2_1, DM2_2, DM2_3, DM2_4])\n",
    "\n",
    "avg_sigma_m2 = np.sqrt(1./(t1+t2+t3+t4+t5) * (t1*DM2_1/4 + t2*DM2_2/4 + t3*DM2_3/4 + t4*DM2_4/4 + t5*DM2_5/2))\n",
    "\n",
    "print '  m_2 = ' + str(avg_sigma_m2) + r' Hz^2 = ' + str(avg_sigma_m2/61.79*1000) + ' ppb'\n",
    "\n",
    "###\n",
    "\n",
    "t1 = np.mean(delta_t_1[:,2])\n",
    "t2 = np.mean(delta_t_2[:,2])\n",
    "t3 = np.mean(delta_t_3[:,2])\n",
    "t4 = np.mean(delta_t_4[:,2])\n",
    "\n",
    "DM2_1 = np.mean(sync_offsets_1[:,2])**2\n",
    "DM2_2 = np.mean(sync_offsets_2[:,2])**2\n",
    "DM2_3 = np.mean(sync_offsets_3[:,2])**2\n",
    "DM2_4 = np.mean(sync_offsets_4[:,2])**2\n",
    "\n",
    "DM2_5 = np.max([DM2_1, DM2_2, DM2_3, DM2_4])\n",
    "\n",
    "avg_sigma_m3 = np.sqrt(1./(t1+t2+t3+t4+t5) * (t1*DM2_1/4 + t2*DM2_2/4 + t3*DM2_3/4 + t4*DM2_4/4 + t5*DM2_5/2))\n",
    "\n",
    "print '  m_3 = ' + str(avg_sigma_m3) + r' Hz^2 = ' + str(avg_sigma_m3/61.79*1000) + ' ppb'\n",
    "\n",
    "###\n",
    "\n",
    "t1 = np.mean(delta_t_1[:,3])\n",
    "t2 = np.mean(delta_t_2[:,3])\n",
    "t3 = np.mean(delta_t_3[:,3])\n",
    "t4 = np.mean(delta_t_4[:,3])\n",
    "\n",
    "DM2_1 = np.mean(sync_offsets_1[:,3])**2\n",
    "DM2_2 = np.mean(sync_offsets_2[:,3])**2\n",
    "DM2_3 = np.mean(sync_offsets_3[:,3])**2\n",
    "DM2_4 = np.mean(sync_offsets_4[:,3])**2\n",
    "\n",
    "DM2_5 = np.max([DM2_1, DM2_2, DM2_3, DM2_4])\n",
    "\n",
    "avg_sigma_m4 = np.sqrt(1./(t1+t2+t3+t4+t5) * (t1*DM2_1/4 + t2*DM2_2/4 + t3*DM2_3/4 + t4*DM2_4/4 + t5*DM2_5/2))\n",
    "\n",
    "print '  m_4 = ' + str(avg_sigma_m4) + r' Hz^2 = ' + str(avg_sigma_m4/61.79*1000) + ' ppb'\n",
    "\n",
    "###\n",
    "\n",
    "t1 = np.mean(delta_t_1[:,4])\n",
    "t2 = np.mean(delta_t_2[:,4])\n",
    "t3 = np.mean(delta_t_3[:,4])\n",
    "t4 = np.mean(delta_t_4[:,4])\n",
    "\n",
    "DM2_1 = np.mean(sync_offsets_1[:,4])**2\n",
    "DM2_2 = np.mean(sync_offsets_2[:,4])**2\n",
    "DM2_3 = np.mean(sync_offsets_3[:,4])**2\n",
    "DM2_4 = np.mean(sync_offsets_4[:,4])**2\n",
    "\n",
    "DM2_5 = np.max([DM2_1, DM2_2, DM2_3, DM2_4])\n",
    "\n",
    "avg_sigma_m5 = np.sqrt(1./(t1+t2+t3+t4+t5) * (t1*DM2_1/4 + t2*DM2_2/4 + t3*DM2_3/4 + t4*DM2_4/4 + t5*DM2_5/2))\n",
    "\n",
    "print '  m_5 = ' + str(avg_sigma_m5) + r' Hz^2 = ' + str(avg_sigma_m5/61.79*1000) + ' ppb'"
   ]
  },
  {
   "cell_type": "markdown",
   "metadata": {},
   "source": [
    "## high kick"
   ]
  },
  {
   "cell_type": "code",
   "execution_count": 19,
   "metadata": {},
   "outputs": [
    {
     "name": "stdout",
     "output_type": "stream",
     "text": [
      "tr run 1\n",
      "Finished calculating all moments for 4351 events.\n",
      "tr run 2\n",
      "Finished calculating all moments for 4372 events.\n",
      "tr run 3\n",
      "Finished calculating all moments for 4344 events.\n",
      "Removing trolley image from station 71.                                    \n"
     ]
    }
   ],
   "source": [
    "filename = 'hdf5/highkick.h5'\n",
    "\n",
    "print 'tr run 1'\n",
    "tr_moment_df_1 = helper.calc_moment_df(pd.read_hdf(filename, 'tr_df_1'))\n",
    "print 'tr run 2'\n",
    "tr_moment_df_2 = helper.calc_moment_df(pd.read_hdf(filename, 'tr_df_2'))\n",
    "print 'tr run 3'\n",
    "tr_moment_df_3 = helper.calc_moment_df(pd.read_hdf(filename, 'tr_df_3'))\n",
    "\n",
    "tr_corr_df_1 = helper_old.trolley_footprint_replacement(tr_moment_df_1)\n",
    "tr_corr_df_2 = helper_old.trolley_footprint_replacement(tr_moment_df_2)\n",
    "tr_corr_df_3 = helper_old.trolley_footprint_replacement(tr_moment_df_3)\n",
    "\n",
    "sync_offsets_1, delta_t_1 = helper.sync_offset_calc(tr_corr_df_1, tr_corr_df_2)\n",
    "sync_offsets_2, delta_t_2 = helper.sync_offset_calc(tr_corr_df_2, tr_corr_df_3)"
   ]
  },
  {
   "cell_type": "code",
   "execution_count": 21,
   "metadata": {},
   "outputs": [
    {
     "name": "stdout",
     "output_type": "stream",
     "text": [
      "sigma:\n",
      "  m_1 = 5.220585588683714 Hz^2 = 84.4891663486602 ppb\n",
      "  m_2 = 3.0120679008384386 Hz^2 = 48.74685063664733 ppb\n",
      "  m_3 = 1.2510297076272203 Hz^2 = 20.246475281230303 ppb\n",
      "  m_4 = 0.5881238839517761 Hz^2 = 9.518107848386084 ppb\n",
      "  m_5 = 1.0974875750051294 Hz^2 = 17.761572665562866 ppb\n"
     ]
    }
   ],
   "source": [
    "#use these as estimators for Delta M^2\n",
    "\n",
    "print 'sigma:'\n",
    "\n",
    "t1 = np.mean(delta_t_1[:,0])\n",
    "t2 = np.mean(delta_t_2[:,0])\n",
    "\n",
    "DM2_1 = np.mean(sync_offsets_1[:,0])**2\n",
    "DM2_2 = np.mean(sync_offsets_2[:,0])**2\n",
    "\n",
    "avg_sigma_m1 = np.sqrt(1./(t1+t2) * (t1*DM2_1/4 + t2*DM2_2/4))\n",
    "\n",
    "print '  m_1 = ' + str(avg_sigma_m1) + r' Hz^2 = ' + str(avg_sigma_m1/61.79*1000) + ' ppb'\n",
    "\n",
    "###\n",
    "\n",
    "t1 = np.mean(delta_t_1[:,1])\n",
    "t2 = np.mean(delta_t_2[:,1])\n",
    "\n",
    "DM2_1 = np.mean(sync_offsets_1[:,1])**2\n",
    "DM2_2 = np.mean(sync_offsets_2[:,1])**2\n",
    "\n",
    "avg_sigma_m2 = np.sqrt(1./(t1+t2) * (t1*DM2_1/4 + t2*DM2_2/4))\n",
    "\n",
    "print '  m_2 = ' + str(avg_sigma_m2) + r' Hz^2 = ' + str(avg_sigma_m2/61.79*1000) + ' ppb'\n",
    "\n",
    "###\n",
    "\n",
    "t1 = np.mean(delta_t_1[:,2])\n",
    "t2 = np.mean(delta_t_2[:,2])\n",
    "\n",
    "DM2_1 = np.mean(sync_offsets_1[:,2])**2\n",
    "DM2_2 = np.mean(sync_offsets_2[:,2])**2\n",
    "\n",
    "avg_sigma_m3 = np.sqrt(1./(t1+t2) * (t1*DM2_1/4 + t2*DM2_2/4))\n",
    "\n",
    "print '  m_3 = ' + str(avg_sigma_m3) + r' Hz^2 = ' + str(avg_sigma_m3/61.79*1000) + ' ppb'\n",
    "\n",
    "###\n",
    "\n",
    "t1 = np.mean(delta_t_1[:,3])\n",
    "t2 = np.mean(delta_t_2[:,3])\n",
    "\n",
    "DM2_1 = np.mean(sync_offsets_1[:,3])**2\n",
    "DM2_2 = np.mean(sync_offsets_2[:,3])**2\n",
    "\n",
    "avg_sigma_m4 = np.sqrt(1./(t1+t2) * (t1*DM2_1/4 + t2*DM2_2/4))\n",
    "\n",
    "print '  m_4 = ' + str(avg_sigma_m4) + r' Hz^2 = ' + str(avg_sigma_m4/61.79*1000) + ' ppb'\n",
    "\n",
    "###\n",
    "\n",
    "t1 = np.mean(delta_t_1[:,4])\n",
    "t2 = np.mean(delta_t_2[:,4])\n",
    "\n",
    "DM2_1 = np.mean(sync_offsets_1[:,4])**2\n",
    "DM2_2 = np.mean(sync_offsets_2[:,4])**2\n",
    "\n",
    "avg_sigma_m5 = np.sqrt(1./(t1+t2) * (t1*DM2_1/4 + t2*DM2_2/4))\n",
    "\n",
    "print '  m_5 = ' + str(avg_sigma_m5) + r' Hz^2 = ' + str(avg_sigma_m5/61.79*1000) + ' ppb'"
   ]
  },
  {
   "cell_type": "markdown",
   "metadata": {},
   "source": [
    "## lowkick"
   ]
  },
  {
   "cell_type": "code",
   "execution_count": 22,
   "metadata": {},
   "outputs": [
    {
     "name": "stdout",
     "output_type": "stream",
     "text": [
      "tr run 1\n",
      "Finished calculating all moments for 4391 events.\n",
      "tr run 2\n",
      "Finished calculating all moments for 4338 events.\n",
      "Removing trolley image from station 71.                        \n"
     ]
    }
   ],
   "source": [
    "filename = 'hdf5/lowkick.h5'\n",
    "\n",
    "print 'tr run 1'\n",
    "tr_moment_df_1 = helper.calc_moment_df(pd.read_hdf(filename, 'tr_df_1'))\n",
    "print 'tr run 2'\n",
    "tr_moment_df_2 = helper.calc_moment_df(pd.read_hdf(filename, 'tr_df_2'))\n",
    "\n",
    "tr_corr_df_1 = helper_old.trolley_footprint_replacement(tr_moment_df_1)\n",
    "tr_corr_df_2 = helper_old.trolley_footprint_replacement(tr_moment_df_2)\n",
    "\n",
    "sync_offsets_1, delta_t_1 = helper.sync_offset_calc(tr_corr_df_1, tr_corr_df_2)"
   ]
  },
  {
   "cell_type": "code",
   "execution_count": 23,
   "metadata": {},
   "outputs": [
    {
     "name": "stdout",
     "output_type": "stream",
     "text": [
      "sigma:\n",
      "  m_1 = 4.533134942090038 Hz^2 = 73.36356921977729 ppb\n",
      "  m_2 = 0.19381346565577376 Hz^2 = 3.1366477691499233 ppb\n",
      "  m_3 = 0.7406758569060826 Hz^2 = 11.986985869980298 ppb\n",
      "  m_4 = 0.42263286703235653 Hz^2 = 6.839826299277497 ppb\n",
      "  m_5 = 1.3848682528508907 Hz^2 = 22.41249802315732 ppb\n"
     ]
    }
   ],
   "source": [
    "#use these as estimators for Delta M^2\n",
    "\n",
    "print 'sigma:'\n",
    "\n",
    "DM2_1 = np.mean(sync_offsets_1[:,0])**2\n",
    "\n",
    "avg_sigma_m1 = np.sqrt(DM2_1/4)\n",
    "\n",
    "print '  m_1 = ' + str(avg_sigma_m1) + r' Hz^2 = ' + str(avg_sigma_m1/61.79*1000) + ' ppb'\n",
    "\n",
    "###\n",
    "\n",
    "DM2_1 = np.mean(sync_offsets_1[:,1])**2\n",
    "\n",
    "avg_sigma_m2 = np.sqrt(DM2_1/4)\n",
    "\n",
    "print '  m_2 = ' + str(avg_sigma_m2) + r' Hz^2 = ' + str(avg_sigma_m2/61.79*1000) + ' ppb'\n",
    "\n",
    "###\n",
    "\n",
    "DM2_1 = np.mean(sync_offsets_1[:,2])**2\n",
    "\n",
    "avg_sigma_m3 = np.sqrt(DM2_1/4)\n",
    "\n",
    "print '  m_3 = ' + str(avg_sigma_m3) + r' Hz^2 = ' + str(avg_sigma_m3/61.79*1000) + ' ppb'\n",
    "\n",
    "###\n",
    "\n",
    "DM2_1 = np.mean(sync_offsets_1[:,3])**2\n",
    "\n",
    "avg_sigma_m4 = np.sqrt(DM2_1/4)\n",
    "\n",
    "print '  m_4 = ' + str(avg_sigma_m4) + r' Hz^2 = ' + str(avg_sigma_m4/61.79*1000) + ' ppb'\n",
    "\n",
    "###\n",
    "\n",
    "DM2_1 = np.mean(sync_offsets_1[:,4])**2\n",
    "\n",
    "avg_sigma_m5 = np.sqrt(DM2_1/4)\n",
    "\n",
    "print '  m_5 = ' + str(avg_sigma_m5) + r' Hz^2 = ' + str(avg_sigma_m5/61.79*1000) + ' ppb'"
   ]
  },
  {
   "cell_type": "code",
   "execution_count": null,
   "metadata": {},
   "outputs": [],
   "source": []
  }
 ],
 "metadata": {
  "kernelspec": {
   "display_name": "Python 2",
   "language": "python",
   "name": "python2"
  },
  "language_info": {
   "codemirror_mode": {
    "name": "ipython",
    "version": 2
   },
   "file_extension": ".py",
   "mimetype": "text/x-python",
   "name": "python",
   "nbconvert_exporter": "python",
   "pygments_lexer": "ipython2",
   "version": "2.7.14"
  }
 },
 "nbformat": 4,
 "nbformat_minor": 2
}
