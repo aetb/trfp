{
 "cells": [
  {
   "cell_type": "code",
   "execution_count": 1,
   "metadata": {},
   "outputs": [
    {
     "name": "stdout",
     "output_type": "stream",
     "text": [
      "Welcome to JupyROOT 6.12/04\n"
     ]
    }
   ],
   "source": [
    "%load_ext autoreload\n",
    "%autoreload 2\n",
    "\n",
    "%matplotlib inline\n",
    "import matplotlib\n",
    "import matplotlib.pyplot as plt\n",
    "import seaborn as sns\n",
    "\n",
    "import numpy as np\n",
    "import pandas as pd\n",
    "\n",
    "from scipy.optimize import curve_fit\n",
    "\n",
    "import gm2\n",
    "import trfp\n",
    "import plotting_functions as plt2\n",
    "import analysis_helper as helper\n",
    "import helper_function_candidates as helper_old\n",
    "\n",
    "from IPython.display import clear_output\n",
    "\n",
    "# temp imports\n",
    "\n",
    "import generate_dfs_helper as df_gen"
   ]
  },
  {
   "cell_type": "code",
   "execution_count": 56,
   "metadata": {},
   "outputs": [
    {
     "name": "stdout",
     "output_type": "stream",
     "text": [
      "Reading event 8720/8728 99.91%        \n",
      "loop done: 100%                                    \n",
      "Reading event 2620/2621 99.96%         \n",
      "loop done: 100%                                    \n",
      "Reading event 1800/1803 99.83% \n",
      "loop done: 100%                                    \n",
      "Reading event 540/541 99.82%   \n",
      "loop done: 100%                                    \n"
     ]
    }
   ],
   "source": [
    "sanitize=True\n",
    "prefix = 'data1/newg2/DataProduction/Offline/ArtTFSDir/v9_21_05_dev/FieldPlainRootOutput_'\n",
    "\n",
    "tr_df_long = helper.root_to_pandas([4226], prefix=prefix, tr_run=True, sanitize=sanitize)\n",
    "tr_df_shrt = helper.root_to_pandas([4224], prefix=prefix, tr_run=True, sanitize=sanitize)\n",
    "\n",
    "# put stations 39-53 from the short cw run into the main run\n",
    "\n",
    "cut_low = trfp.STATION_BARCODE_EDGES[39]\n",
    "cut_high = trfp.STATION_BARCODE_EDGES[54]\n",
    "\n",
    "df_ccw = tr_df_long.copy()\n",
    "df_ccw = df_ccw[(df_ccw['tr_phi']<cut_low) | (df_ccw['tr_phi']>cut_high)]\n",
    "\n",
    "df_cw = tr_df_shrt.copy()\n",
    "df_cw = df_cw[(df_cw['tr_phi']>cut_low) & (df_cw['tr_phi']<cut_high)]\n",
    "\n",
    "tr_df_4a = df_cw.copy()\n",
    "tr_df_4a = tr_df_4a.append(df_ccw)"
   ]
  },
  {
   "cell_type": "code",
   "execution_count": 58,
   "metadata": {},
   "outputs": [],
   "source": []
  },
  {
   "cell_type": "code",
   "execution_count": 60,
   "metadata": {},
   "outputs": [],
   "source": []
  },
  {
   "cell_type": "code",
   "execution_count": null,
   "metadata": {},
   "outputs": [],
   "source": []
  }
 ],
 "metadata": {
  "kernelspec": {
   "display_name": "Python 2",
   "language": "python",
   "name": "python2"
  },
  "language_info": {
   "codemirror_mode": {
    "name": "ipython",
    "version": 2
   },
   "file_extension": ".py",
   "mimetype": "text/x-python",
   "name": "python",
   "nbconvert_exporter": "python",
   "pygments_lexer": "ipython2",
   "version": "2.7.14"
  }
 },
 "nbformat": 4,
 "nbformat_minor": 2
}
