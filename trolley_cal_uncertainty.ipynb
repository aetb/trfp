{
 "cells": [
  {
   "cell_type": "code",
   "execution_count": 2,
   "metadata": {},
   "outputs": [
    {
     "name": "stdout",
     "output_type": "stream",
     "text": [
      "Welcome to JupyROOT 6.22/02\n"
     ]
    }
   ],
   "source": [
    "import numpy as np\n",
    "\n",
    "import trfp"
   ]
  },
  {
   "cell_type": "code",
   "execution_count": 3,
   "metadata": {},
   "outputs": [],
   "source": [
    "uncs = np.array([0.575, 0.699, 2.371, 0.859, 0.175, 1.518, 1.823, 1.474, 1.177,\n",
    "                 0.748, 2.039, 1.606, 2.432, 2.047, 1.629, 4.779, 3.336])"
   ]
  },
  {
   "cell_type": "code",
   "execution_count": 4,
   "metadata": {},
   "outputs": [],
   "source": [
    "m_uncs = np.sqrt(np.dot(trfp.THETA_TR**2, uncs**2))"
   ]
  },
  {
   "cell_type": "code",
   "execution_count": 8,
   "metadata": {},
   "outputs": [
    {
     "name": "stdout",
     "output_type": "stream",
     "text": [
      "[  0.49921421   1.22144709   1.18763679   1.75796669   1.26766191\n",
      "   2.08497631   1.89315709   2.18265675   2.90602657 190.76712186\n",
      " 105.83332935   2.99472296   0.         314.5286209  174.10503206\n",
      "   0.           0.        ]\n"
     ]
    }
   ],
   "source": [
    "print m_uncs"
   ]
  },
  {
   "cell_type": "code",
   "execution_count": 10,
   "metadata": {},
   "outputs": [
    {
     "name": "stdout",
     "output_type": "stream",
     "text": [
      "[5.88595016e-02 2.75510204e-01 2.75510204e-01 4.55435235e-01\n",
      " 4.37219249e-01 7.52862328e-01 7.52862328e-01 1.24205407e+00\n",
      " 1.24452752e+00 1.22305307e+04 1.22305307e+04 1.70027222e+00\n",
      " 0.00000000e+00 3.34306574e+04 3.34306574e+04 0.00000000e+00\n",
      " 0.00000000e+00]\n"
     ]
    }
   ],
   "source": [
    "print np.dot(trfp.THETA_TR**2, np.ones(17))"
   ]
  },
  {
   "cell_type": "code",
   "execution_count": null,
   "metadata": {},
   "outputs": [],
   "source": []
  }
 ],
 "metadata": {
  "kernelspec": {
   "display_name": "Python 2",
   "language": "python",
   "name": "python2"
  },
  "language_info": {
   "codemirror_mode": {
    "name": "ipython",
    "version": 2
   },
   "file_extension": ".py",
   "mimetype": "text/x-python",
   "name": "python",
   "nbconvert_exporter": "python",
   "pygments_lexer": "ipython2",
   "version": "2.7.5"
  }
 },
 "nbformat": 4,
 "nbformat_minor": 2
}
