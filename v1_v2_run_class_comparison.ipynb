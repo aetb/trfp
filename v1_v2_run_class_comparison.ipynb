{
 "cells": [
  {
   "cell_type": "code",
   "execution_count": 1,
   "metadata": {},
   "outputs": [
    {
     "name": "stdout",
     "output_type": "stream",
     "text": [
      "Welcome to JupyROOT 6.12/04\n"
     ]
    }
   ],
   "source": [
    "import matplotlib\n",
    "import matplotlib.pyplot as plt\n",
    "import seaborn as sns\n",
    "%matplotlib inline\n",
    "\n",
    "import numpy as np\n",
    "import pandas as pd\n",
    "import scipy.optimize\n",
    "\n",
    "from datetime import datetime\n",
    "import pytz\n",
    "\n",
    "import gm2\n",
    "import trfp"
   ]
  },
  {
   "cell_type": "code",
   "execution_count": 2,
   "metadata": {},
   "outputs": [],
   "source": [
    "v1_moment_df = pd.read_hdf('../60hr_trolley_runs_1_v1.h5', 'run_3955_moment_df')\n",
    "v2_moment_df = pd.read_hdf('../60hr_trolley_runs_1_v2.h5', 'run_3955_moment_df')\n",
    "\n",
    "v1_interp_df = pd.read_hdf('../60hr_trolley_runs_1_v1.h5', 'run_3955_interp_df')\n",
    "v2_interp_df = pd.read_hdf('../60hr_trolley_runs_1_v2.h5', 'run_3955_interp_df')"
   ]
  },
  {
   "cell_type": "code",
   "execution_count": 15,
   "metadata": {},
   "outputs": [
    {
     "name": "stdout",
     "output_type": "stream",
     "text": [
      "              tr_phi  tr,m1  tr,m2  tr,m3  tr,m4  tr,m5  tr,m6  tr,m7  tr,m8  \\\n",
      "1.524374e+09     0.0    0.0    0.0    0.0    0.0    0.0    0.0    0.0    0.0   \n",
      "1.524374e+09     0.0    0.0    0.0    0.0    0.0    0.0    0.0    0.0    0.0   \n",
      "1.524374e+09     0.0    0.0    0.0    0.0    0.0    0.0    0.0    0.0    0.0   \n",
      "1.524374e+09     0.0    0.0    0.0    0.0    0.0    0.0    0.0    0.0    0.0   \n",
      "1.524374e+09     0.0    0.0    0.0    0.0    0.0    0.0    0.0    0.0    0.0   \n",
      "\n",
      "              tr,m9   ...     st70,m3  st70,m4  st70,m5  st70,m6  st71,m1  \\\n",
      "1.524374e+09    0.0   ...         0.0      0.0      0.0      0.0      0.0   \n",
      "1.524374e+09    0.0   ...         0.0      0.0      0.0      0.0      0.0   \n",
      "1.524374e+09    0.0   ...         0.0      0.0      0.0      0.0      0.0   \n",
      "1.524374e+09    0.0   ...         0.0      0.0      0.0      0.0      0.0   \n",
      "1.524374e+09    0.0   ...         0.0      0.0      0.0      0.0      0.0   \n",
      "\n",
      "              st71,m2  st71,m3  st71,m4  st71,m5  st71,m6  \n",
      "1.524374e+09      0.0      0.0      0.0      NaN      NaN  \n",
      "1.524374e+09      0.0      0.0      0.0      NaN      NaN  \n",
      "1.524374e+09      0.0      0.0      0.0      NaN      NaN  \n",
      "1.524374e+09      0.0      0.0      0.0      NaN      NaN  \n",
      "1.524374e+09      0.0      0.0      0.0      NaN      NaN  \n",
      "\n",
      "[5 rows x 450 columns]\n"
     ]
    }
   ],
   "source": [
    "print v2_moment_df.subtract(v1_moment_df.iloc[4:]).head()"
   ]
  },
  {
   "cell_type": "code",
   "execution_count": null,
   "metadata": {},
   "outputs": [],
   "source": []
  }
 ],
 "metadata": {
  "kernelspec": {
   "display_name": "Python 2",
   "language": "python",
   "name": "python2"
  },
  "language_info": {
   "codemirror_mode": {
    "name": "ipython",
    "version": 2
   },
   "file_extension": ".py",
   "mimetype": "text/x-python",
   "name": "python",
   "nbconvert_exporter": "python",
   "pygments_lexer": "ipython2",
   "version": "2.7.14"
  }
 },
 "nbformat": 4,
 "nbformat_minor": 2
}
