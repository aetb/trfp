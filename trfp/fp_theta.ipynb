{
 "cells": [
  {
   "cell_type": "code",
   "execution_count": 51,
   "metadata": {},
   "outputs": [
    {
     "name": "stdout",
     "output_type": "stream",
     "text": [
      "The autoreload extension is already loaded. To reload it, use:\n",
      "  %reload_ext autoreload\n"
     ]
    }
   ],
   "source": [
    "%load_ext autoreload\n",
    "%autoreload 2\n",
    "\n",
    "%matplotlib inline\n",
    "import matplotlib\n",
    "import matplotlib.pyplot as plt\n",
    "import seaborn as sns\n",
    "\n",
    "import numpy as np\n",
    "import pandas as pd\n",
    "\n",
    "from scipy.optimize import curve_fit\n",
    "\n",
    "import gm2\n",
    "import trfp\n",
    "import plotting_functions as plt2\n",
    "import analysis_helper as helper\n",
    "import helper_function_candidates as helper_old"
   ]
  },
  {
   "cell_type": "code",
   "execution_count": 47,
   "metadata": {},
   "outputs": [],
   "source": [
    "def __fp_moment(order, strength, x_pos, y_pos):\n",
    "    \"\"\"Returns the magnitude of a B-field given fp moment parameters\n",
    "    and position.\n",
    "    \"\"\"\n",
    "    \n",
    "    if order == 0: return strength * x_pos ** 0\n",
    "    elif order == 1: return strength * x_pos / 4.5 \n",
    "    elif order == 2: return strength * y_pos / 4.5\n",
    "    elif order == 3: return strength * x_pos * y_pos / 4.5**2\n",
    "    elif order == 4: return strength * x_pos ** 2 / 4.5**2\n",
    "    elif order == 5: return 0.5 * strength * x_pos ** 2 * y_pos / 4.5**3\n",
    "    \n",
    "def __multipole(order, skew, strength, x_pos, y_pos):\n",
    "    \"\"\"Returns the magnitude of a B-field given multipole parameters\n",
    "    and position.\n",
    "    \"\"\"\n",
    "    # Takes a multipole strength A normalized to 4.5 cm\n",
    "    r_pos = np.sqrt(x_pos**2 + y_pos**2)\n",
    "    theta = np.arctan2(y_pos, x_pos)\n",
    "    if skew == 0:\n",
    "        b_magnitude = strength * (r_pos/4.5)**order * np.cos(order*theta)\n",
    "    if skew == 1:\n",
    "        b_magnitude = strength * (r_pos/4.5)**order * np.sin(order*theta)\n",
    "    return b_magnitude\n",
    "\n",
    "FP6_X = np.array([-3, 0, 3, -3, 0, 3])\n",
    "FP6_Y = np.array([7.7, 7.7, 7.7, -7.7, -7.7, -7.7])\n",
    "\n",
    "_MOMENT_ORDER = [0, 1, 2, 3, 4, 5]\n",
    "\n",
    "_MULTIPOLE_ORDER = [0, 1, 1, 2, 2]\n",
    "_MULTIPOLE_SKEW = [0, 0, 1, 1, 0]\n",
    "\n",
    "_MOMENTS = np.array([__multipole(_MULTIPOLE_ORDER[i], _MULTIPOLE_SKEW[i], 1, FP6_X, FP6_Y) for i in range(5)])\n",
    "_MOMENTS[np.abs(_MOMENTS) < 1.0e-9] = 0 \n",
    "\n",
    "THETA_FP6 = np.linalg.pinv(np.transpose(_MOMENTS))\n",
    "THETA_FP6[np.abs(THETA_FP6) < 1.0e-9] = 0"
   ]
  },
  {
   "cell_type": "code",
   "execution_count": 48,
   "metadata": {
    "scrolled": true
   },
   "outputs": [
    {
     "name": "stdout",
     "output_type": "stream",
     "text": [
      "[[ 1.64694444 -2.79388889  1.64694444  1.64694444 -2.79388889  1.64694444]\n",
      " [-0.375       0.          0.375      -0.375       0.          0.375     ]\n",
      " [ 0.0974026   0.0974026   0.0974026  -0.0974026  -0.0974026  -0.0974026 ]\n",
      " [-0.10957792  0.          0.10957792  0.10957792  0.         -0.10957792]\n",
      " [ 0.5625     -1.125       0.5625      0.5625     -1.125       0.5625    ]]\n"
     ]
    }
   ],
   "source": [
    "print THETA_FP6"
   ]
  },
  {
   "cell_type": "code",
   "execution_count": 50,
   "metadata": {},
   "outputs": [
    {
     "name": "stdout",
     "output_type": "stream",
     "text": [
      "[[ 1.64694448 -2.79388896  1.64694448  1.64694448 -2.79388896  1.64694448]\n",
      " [-0.375       0.          0.375      -0.375       0.          0.375     ]\n",
      " [ 0.0974026   0.0974026   0.0974026  -0.0974026  -0.0974026  -0.0974026 ]\n",
      " [-0.10957792  0.          0.10957792  0.10957792  0.         -0.10957792]\n",
      " [ 0.5625     -1.125       0.5625      0.5625     -1.125       0.5625    ]]\n"
     ]
    }
   ],
   "source": [
    "print np.dot(trfp.J_6_PROBE, trfp.THETA_FP_6[:5])"
   ]
  },
  {
   "cell_type": "code",
   "execution_count": 36,
   "metadata": {},
   "outputs": [
    {
     "name": "stdout",
     "output_type": "stream",
     "text": [
      "[[ 1.00000000e+00  0.00000000e+00  0.00000000e+00  0.00000000e+00\n",
      "   0.00000000e+00  0.00000000e+00]\n",
      " [ 0.00000000e+00  1.00000000e+00  0.00000000e+00  0.00000000e+00\n",
      "   0.00000000e+00  0.00000000e+00]\n",
      " [ 0.00000000e+00  0.00000000e+00  1.00000000e+00  0.00000000e+00\n",
      "   0.00000000e+00  0.00000000e+00]\n",
      " [ 0.00000000e+00 -1.03933216e-17 -1.10461584e-17  1.00000000e+00\n",
      "   6.94890674e-18 -1.71775729e-19]\n",
      " [ 0.00000000e+00 -2.08166817e-17  5.55111512e-17  0.00000000e+00\n",
      "   1.00000000e+00 -1.38777878e-17]\n",
      " [ 0.00000000e+00 -1.26762477e-17 -1.77187109e-17  2.51949602e-17\n",
      "  -2.69545489e-17  1.00000000e+00]]\n"
     ]
    }
   ],
   "source": [
    "print np.dot(THETA_FP6, np.transpose(_MOMENTS))"
   ]
  },
  {
   "cell_type": "code",
   "execution_count": 23,
   "metadata": {},
   "outputs": [
    {
     "name": "stdout",
     "output_type": "stream",
     "text": [
      "[[ 1.66666667e-01 -3.46944695e-18  9.01155052e-19 -1.42682883e-19\n",
      "   8.67361738e-18]\n",
      " [-3.46944695e-18  5.62500000e-01 -5.20417043e-18  3.46944695e-18\n",
      "   0.00000000e+00]\n",
      " [ 9.01155052e-19 -5.20417043e-18  5.69235959e-02  1.64285247e-19\n",
      "  -8.67361738e-19]\n",
      " [-1.42682883e-19  3.46944695e-18  1.64285247e-19  4.80292840e-02\n",
      "  -1.73472348e-18]\n",
      " [ 8.67361738e-18  0.00000000e+00 -8.67361738e-19 -1.73472348e-18\n",
      "   3.79687500e+00]]\n"
     ]
    }
   ],
   "source": [
    "print np.dot(theta_test, np.transpose(theta_test))"
   ]
  },
  {
   "cell_type": "code",
   "execution_count": null,
   "metadata": {},
   "outputs": [],
   "source": []
  }
 ],
 "metadata": {
  "kernelspec": {
   "display_name": "Python 2",
   "language": "python",
   "name": "python2"
  },
  "language_info": {
   "codemirror_mode": {
    "name": "ipython",
    "version": 2
   },
   "file_extension": ".py",
   "mimetype": "text/x-python",
   "name": "python",
   "nbconvert_exporter": "python",
   "pygments_lexer": "ipython2",
   "version": "2.7.17"
  }
 },
 "nbformat": 4,
 "nbformat_minor": 2
}
