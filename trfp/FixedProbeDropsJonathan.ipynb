{
 "cells": [
  {
   "cell_type": "code",
   "execution_count": 1,
   "metadata": {},
   "outputs": [],
   "source": [
    "import numpy as np\n",
    "import scipy.optimize\n",
    "#import trfp"
   ]
  },
  {
   "cell_type": "code",
   "execution_count": 2,
   "metadata": {},
   "outputs": [
    {
     "name": "stdout",
     "output_type": "stream",
     "text": [
      "[4 5 6]\n"
     ]
    }
   ],
   "source": [
    "arr = np.array([1,2,3,4,5,6])\n",
    "print(np.delete(arr, [0,1,2]))"
   ]
  },
  {
   "cell_type": "code",
   "execution_count": 3,
   "metadata": {},
   "outputs": [],
   "source": [
    "def __multipole(order, skew, strength, x_pos, y_pos):\n",
    "    \"\"\"Returns the magnitude of a B-field given multipole parameters\n",
    "    and position.\n",
    "    \"\"\"\n",
    "    # Takes a multipole strength A normalized to 4.5 cm\n",
    "    r_pos = np.sqrt(x_pos**2 + y_pos**2)\n",
    "    theta = np.arctan2(y_pos, x_pos)\n",
    "    if skew == 0:\n",
    "        b_magnitude = strength * (r_pos/4.5)**order * np.cos(order*theta)\n",
    "    if skew == 1:\n",
    "        b_magnitude = strength * (r_pos/4.5)**order * np.sin(order*theta)\n",
    "    return b_magnitude"
   ]
  },
  {
   "cell_type": "code",
   "execution_count": 4,
   "metadata": {},
   "outputs": [],
   "source": [
    "FP6_X = np.array([-3, 0, 3, -3, 0, 3])\n",
    "FP6_Y = np.array([7.7, 7.7, 7.7, -7.7, -7.7, -7.7])\n",
    "\n",
    "J_6_PROBE = np.array([[1.0, 0.0, 0.0, 0.0, 2.631605],\n",
    "                      [0.0, 1.0, 0.0, 0.0, 0.0],\n",
    "                      [0.0, 0.0, 1.0, 0.0, 0.0],\n",
    "                      [0.0, 0.0, 0.0, 1.0, 0.0],\n",
    "                      [0.0, 0.0, 0.0, 0.0, 1.0]])\n",
    "\n",
    "J_6_PROBE_OFFSET = np.array([[1.0, 0.222222, 0.0, 0.0, 2.680987],\n",
    "                             [0.0, 1.0, 0.0, 0.0, 0.444444],\n",
    "                             [0.0, 0.0, 1.0, 0.444444, 0.0],\n",
    "                             [0.0, 0.0, 0.0, 1.0, 0.0],\n",
    "                             [0.0, 0.0, 0.0, 0.0, 1.0]])\n",
    "\n",
    "J_4_PROBE = np.array([[1.0, 0.0, 0.0, 0.0, 2.927901],\n",
    "                      [0.0, 1.0, 0.0, 0.0, -0.666667],\n",
    "                      [0.0, 0.0, 1.0, -0.666667, 0.0],\n",
    "                      [0.0, 0.0, 0.0, 1.0, 0.0],\n",
    "                      [0.0, 0.0, 0.0, 0.0, 1.0]])\n",
    "\n",
    "J_4_PROBE_ST41 = np.array([[1.0, 0.0, 0.0, 0.0, 2.927901],\n",
    "                           [0.0, 1.0, 0.0, 0.0, 0.0],\n",
    "                           [0.0, -0.194805, 1.0, 0.0, 0.0],\n",
    "                           [0.0, 0.0, 0.0, 1.0, -0.194805],\n",
    "                           [0.0, 0.0, 0.0, 0.0, 1.0]])\n",
    "\n",
    "J_4_PROBE_ST37_ST39 = np.array([[1.0, 0.0, 0.0, 0.0, 2.927901],\n",
    "                                [0.0, 1.0, 0.0, 0.0, 0.0], \n",
    "                                [0.0, -0.194805, 1.0, 0.0, 0.0], \n",
    "                                [0.0, 0.0, 0.0, 1.0, -0.194805], \n",
    "                                [0.0, 0.0, 0.0, 0.0, 1.0]])"
   ]
  },
  {
   "cell_type": "code",
   "execution_count": 5,
   "metadata": {},
   "outputs": [],
   "source": [
    "THETA_FP_6 = np.array([np.array([1, 1, 1, 1, 1, 1])/6.,  # dipole\n",
    "                       np.array([1, 0, -1, 1, 0, -1])/-12.*4.5,  # n quad\n",
    "                       np.array([1, 1, 1, -1, -1, -1])/46.2*4.5,  # s quad\n",
    "                       np.array([1, 0, -1, -1, 0, 1])/-92.4/2*4.5**2,  # s sext\n",
    "                       np.array([1, -2, 1, 1, -2, 1])/18./2*4.5**2,  # n sext\n",
    "                       np.array([1, -2, 1, -1, 2, -1])/-138.6*4.5**3]  # NOT oct, no idea what this is\n",
    "                     )\n",
    "\n",
    "THETA_FP_4 = np.array([np.array([1, 0, 1, 0])/2.,  # dipole\n",
    "                       np.array([1, -1, 1, -1])/-6.*4.5,  # n quad\n",
    "                       np.array([1, 1, -1, -1])/30.8*4.5,  # s quad\n",
    "                       np.array([1, -1, -1, 1])/-46.2/2*4.5**2]  # sext\n",
    "                     )\n",
    "\n",
    "# four probe stations in the garage (stations 37, 39, 41) have a different arrangement of probes\n",
    "# STATION 37, 39\n",
    "# TM, TO, BI, BM\n",
    "THETA_FP_4_ST37_ST39 = np.array([np.array([1, 0, 0, 1])/2.,  #dipole\n",
    "                                 np.array([-1, 1, -1, 1])/6.*4.5,  # n quad\n",
    "                                 np.array([1, 1, -1, -1])/30.8*4.5,  # s quad\n",
    "                                 np.array([-1, 1, 1, -1])/46.2/2*4.5**2]  # sext?\n",
    "                               )\n",
    "# STATION 41\n",
    "# TO, TM, BI, BM\n",
    "THETA_FP_4_ST41 = np.array([np.array([0, 1, 0, 1])/2.,  #dipole\n",
    "                            np.array([1, -1, -1, 1])/6.*4.5,  # n quad\n",
    "                            np.array([1, 1, -1, -1])/30.8*4.5,  # s quad\n",
    "                            np.array([1, -1, 1, -1])/46.2/2*4.5**2]  # sext?\n",
    "                          )"
   ]
  },
  {
   "cell_type": "code",
   "execution_count": 6,
   "metadata": {},
   "outputs": [
    {
     "name": "stdout",
     "output_type": "stream",
     "text": [
      "[]\n"
     ]
    }
   ],
   "source": [
    "PROBES = [1,1,1,1,1,1] #1 means the probe is working properly, 0, it is dropped or does not exist.\n",
    "drops = np.array([])\n",
    "for i in range(len(PROBES)):\n",
    "    if not PROBES[i]:\n",
    "        drops = np.append(drops, i)\n",
    "drops = drops.astype(int)\n",
    "\n",
    "PROBES = np.delete(PROBES, drops)\n",
    "FP6_X = np.delete(FP6_X, drops)\n",
    "FP6_Y = np.delete(FP6_Y, drops)"
   ]
  },
  {
   "cell_type": "code",
   "execution_count": 10,
   "metadata": {},
   "outputs": [
    {
     "name": "stdout",
     "output_type": "stream",
     "text": [
      "[[ 1.64694444 -2.79388889  1.64694444  1.64694444 -2.79388889  1.64694444]\n",
      " [-0.375       0.          0.375      -0.375       0.          0.375     ]\n",
      " [ 0.0974026   0.0974026   0.0974026  -0.0974026  -0.0974026  -0.0974026 ]\n",
      " [-0.10957792  0.          0.10957792  0.10957792  0.         -0.10957792]\n",
      " [ 0.5625     -1.125       0.5625      0.5625     -1.125       0.5625    ]]\n"
     ]
    }
   ],
   "source": [
    "_MULTIPOLE_ORDER = [0, 1, 1, 2, 2]\n",
    "_MULTIPOLE_SKEW = [0, 0, 1, 1, 0]\n",
    "\n",
    "_MULTS_FP_N = np.array([__multipole(_MULTIPOLE_ORDER[i], _MULTIPOLE_SKEW[i], 1, FP6_X, FP6_Y) for i in range(len(_MULTIPOLE_ORDER) - len(drops))])\n",
    "_MULTS_FP_N[np.abs(_MULTS_FP_N) < 1.0e-9] = 0\n",
    "\n",
    "THETA_FPN = np.linalg.pinv(np.transpose(_MULTS_FP_N))\n",
    "THETA_FPN[np.abs(THETA_FPN) < 1.0e-9] = 0\n",
    "print(THETA_FPN)"
   ]
  },
  {
   "cell_type": "code",
   "execution_count": 11,
   "metadata": {},
   "outputs": [
    {
     "name": "stdout",
     "output_type": "stream",
     "text": [
      "[[ 1.64694448 -2.79388896  1.64694448  1.64694448 -2.79388896  1.64694448]\n",
      " [-0.375       0.          0.375      -0.375       0.          0.375     ]\n",
      " [ 0.0974026   0.0974026   0.0974026  -0.0974026  -0.0974026  -0.0974026 ]\n",
      " [-0.10957792  0.          0.10957792  0.10957792  0.         -0.10957792]\n",
      " [ 0.5625     -1.125       0.5625      0.5625     -1.125       0.5625    ]]\n"
     ]
    }
   ],
   "source": [
    "print(np.dot(J_6_PROBE, THETA_FP_6[:5]))"
   ]
  },
  {
   "cell_type": "markdown",
   "metadata": {},
   "source": [
    "The above code works for 6 working fp. Below will be testing for 4 probes"
   ]
  },
  {
   "cell_type": "code",
   "execution_count": 10,
   "metadata": {},
   "outputs": [
    {
     "name": "stdout",
     "output_type": "stream",
     "text": [
      "[[ 1.64694444 -2.79388889  1.64694444  1.64694444 -2.79388889  1.64694444]\n",
      " [-0.00531589  0.          0.00531589 -0.00531589  0.          0.00531589]\n",
      " [ 0.0974026   0.0974026   0.0974026  -0.0974026  -0.0974026  -0.0974026 ]\n",
      " [-0.10957792  0.          0.10957792  0.10957792  0.         -0.10957792]\n",
      " [ 0.5625     -1.125       0.5625      0.5625     -1.125       0.5625    ]\n",
      " [ 0.04433057  0.         -0.04433057  0.04433057  0.         -0.04433057]]\n"
     ]
    }
   ],
   "source": [
    "#### For some reason this changes when more multipoles are used. I am assuming it has to do with m6 not bing linearly indep.\n",
    "_MULTIPOLE_ORDER = [0, 1, 1, 2, 2, 3]\n",
    "_MULTIPOLE_SKEW = [0, 0, 1, 1, 0, 0]\n",
    "_MULTS_FP6 = np.array([__multipole(_MULTIPOLE_ORDER[i], _MULTIPOLE_SKEW[i], 1, FP6_X, FP6_Y) for i in range(len(_MULTIPOLE_ORDER))])\n",
    "_MULTS_FP6[np.abs(_MULTS_FP6) < 1.0e-9] = 0\n",
    "\n",
    "THETA_FP6 = np.linalg.pinv(np.transpose(_MULTS_FP6))\n",
    "THETA_FP6[np.abs(THETA_FP6) < 1.0e-9] = 0\n",
    "print(THETA_FP6)"
   ]
  },
  {
   "cell_type": "code",
   "execution_count": 12,
   "metadata": {},
   "outputs": [],
   "source": [
    "PROBES = [0,1,1,0,1,1] #1 means the probe is working properly, 0, it is dropped or does not exist.\n",
    "drops = np.array([])\n",
    "for i in range(len(PROBES)):\n",
    "    if not PROBES[i]:\n",
    "        drops = np.append(drops, i)\n",
    "drops = drops.astype(int)\n",
    "\n",
    "PROBES = np.delete(PROBES, drops)\n",
    "FP6_X = np.delete(FP6_X, drops)\n",
    "FP6_Y = np.delete(FP6_Y, drops)"
   ]
  },
  {
   "cell_type": "code",
   "execution_count": 30,
   "metadata": {},
   "outputs": [],
   "source": [
    "_MULTIPOLE_ORDER = [0, 1, 1, 2, 2]\n",
    "_MULTIPOLE_SKEW = [0, 0, 1, 1, 0]\n",
    "if len(drops) == 0:\n",
    "    _MULTS_FP_N = np.array([__multipole(_MULTIPOLE_ORDER[i], _MULTIPOLE_SKEW[i], 1, FP6_X, FP6_Y) for i in range(len(_MULTIPOLE_ORDER))])\n",
    "\n",
    "else:\n",
    "    _MULTS_FP_N = np.array([__multipole(_MULTIPOLE_ORDER[i], _MULTIPOLE_SKEW[i], 1, FP6_X, FP6_Y) for i in range(len(_MULTIPOLE_ORDER) - len(drops) + 1)])\n",
    "\n",
    "\n",
    "_MULTS_FP_N[np.abs(_MULTS_FP_N) < 1.0e-9] = 0\n",
    "\n",
    "THETA_FPN = np.linalg.pinv(np.transpose(_MULTS_FP_N))\n",
    "THETA_FPN[np.abs(THETA_FPN) < 1.0e-9] = 0\n",
    "THETA_FPN = np.concatenate([THETA_FPN, [[0,0,0,0]]])"
   ]
  },
  {
   "cell_type": "code",
   "execution_count": 31,
   "metadata": {},
   "outputs": [
    {
     "name": "stdout",
     "output_type": "stream",
     "text": [
      "[[ 0.5         0.          0.5         0.        ]\n",
      " [-0.75        0.75       -0.75        0.75      ]\n",
      " [ 0.14610382  0.14610397 -0.14610382 -0.14610397]\n",
      " [-0.21915584  0.21915584  0.21915584 -0.21915584]]\n",
      "[[ 0.5         0.          0.5         0.        ]\n",
      " [-0.75        0.75       -0.75        0.75      ]\n",
      " [ 0.1461039   0.1461039  -0.1461039  -0.1461039 ]\n",
      " [-0.21915584  0.21915584  0.21915584 -0.21915584]]\n"
     ]
    }
   ],
   "source": [
    "print(np.dot(np.linalg.inv(J_4_PROBE)[:4], THETA_FPN))\n",
    "print(THETA_FP_4)"
   ]
  },
  {
   "cell_type": "code",
   "execution_count": null,
   "metadata": {},
   "outputs": [],
   "source": [
    "print(np.dot(J_6_PROBE, THETA_FP_6[:5]))"
   ]
  }
 ],
 "metadata": {
  "kernelspec": {
   "display_name": "Python 2",
   "language": "python",
   "name": "python2"
  },
  "language_info": {
   "codemirror_mode": {
    "name": "ipython",
    "version": 2
   },
   "file_extension": ".py",
   "mimetype": "text/x-python",
   "name": "python",
   "nbconvert_exporter": "python",
   "pygments_lexer": "ipython2",
   "version": "2.7.17"
  }
 },
 "nbformat": 4,
 "nbformat_minor": 2
}
