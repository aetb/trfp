{
 "cells": [
  {
   "cell_type": "code",
   "execution_count": 2,
   "metadata": {},
   "outputs": [],
   "source": [
    "import numpy as np\n",
    "import trfp\n",
    "import scipy.optimize"
   ]
  },
  {
   "cell_type": "code",
   "execution_count": 3,
   "metadata": {},
   "outputs": [
    {
     "data": {
      "text/plain": [
       "numpy.int64"
      ]
     },
     "execution_count": 3,
     "metadata": {},
     "output_type": "execute_result"
    }
   ],
   "source": [
    "type(np.arange(10)[0])"
   ]
  },
  {
   "cell_type": "code",
   "execution_count": 4,
   "metadata": {},
   "outputs": [
    {
     "name": "stdout",
     "output_type": "stream",
     "text": [
      "72\n"
     ]
    }
   ],
   "source": [
    "print(len(trfp.STATION_PROBE_ID))\n",
    "#trfp.FP4_X\n",
    "#trfp.FP4_X_ST37_ST39\n",
    "#trfp.FP4_X_ST41\n"
   ]
  },
  {
   "cell_type": "code",
   "execution_count": 5,
   "metadata": {},
   "outputs": [],
   "source": [
    "#Drop probe 0 expectations:\n"
   ]
  },
  {
   "cell_type": "code",
   "execution_count": 6,
   "metadata": {},
   "outputs": [],
   "source": [
    "def __multipole(order, skew, strength, x_pos, y_pos):\n",
    "    \"\"\"Returns the magnitude of a B-field given multipole parameters\n",
    "    and position.\n",
    "    \"\"\"\n",
    "    # Takes a multipole strength A normalized to 4.5 cm\n",
    "    r_pos = np.sqrt(x_pos**2 + y_pos**2)\n",
    "    theta = np.arctan2(y_pos, x_pos)\n",
    "    if skew == 0:\n",
    "        b_magnitude = strength * (r_pos/4.5)**order * np.cos(order*theta)\n",
    "    if skew == 1:\n",
    "        b_magnitude = strength * (r_pos/4.5)**order * np.sin(order*theta)\n",
    "    return b_magnitude\n",
    "\n",
    "# Probe Geometry.\n",
    "class Geometry:\n",
    "    def __init__(self, x, y, p):\n",
    "        self.xpos = x\n",
    "        self.ypos = y\n",
    "        self.probes = p.astype('int')\n",
    "        if len(self.xpos) != len(self.ypos):\n",
    "            print(\"In Geometry length of xpos and ypos are not equal\")\n",
    "        elif len(self.ypos) != len(self.probes):\n",
    "            print(\"In Geometry length of probes and ypos are not equal\")\n",
    "    def IsReduced(self):\n",
    "        isReduced = True\n",
    "        for i in self.probes:\n",
    "            if i == 0:\n",
    "                isReduced = False\n",
    "        return isReduced\n",
    "#__ _ _ will not import a function.\n",
    "#From module import * will not import __function or _ at end ... like geometry_"
   ]
  },
  {
   "cell_type": "code",
   "execution_count": 7,
   "metadata": {},
   "outputs": [
    {
     "name": "stdout",
     "output_type": "stream",
     "text": [
      "[0 1 2 3 4 5 6 7 8 9]\n",
      "[0 1 2 3 4 5 6 7 8 9]\n"
     ]
    }
   ],
   "source": [
    "test = np.arange(10)\n",
    "print(test)\n",
    "print(test[:10])"
   ]
  },
  {
   "cell_type": "code",
   "execution_count": 8,
   "metadata": {},
   "outputs": [],
   "source": [
    "def DropPos(geom):\n",
    "    badProbes = np.array([])\n",
    "    for i in range(len(geom.probes)):\n",
    "        if geom.probes[i] == 0:\n",
    "            badProbes = np.append(badProbes, i)\n",
    "    badProbes = badProbes.astype(int)\n",
    "    X = geom.xpos.copy()\n",
    "    Y = geom.ypos.copy()\n",
    "    px_new = np.delete(X, badProbes) # Only the x pos of working probes stay\n",
    "    py_new = np.delete(Y, badProbes) # Same for y\n",
    "    PROBES_NEW = np.delete(geom.probes, badProbes) #Now this is an array of 1s.\n",
    "    reducedGeometry = Geometry(px_new, py_new, PROBES_NEW)\n",
    "    return reducedGeometry, badProbes\n",
    "\n",
    "def Theta(Multipole, geom, badProbes, mult_order, mult_skew, tpMomentCap, fpMomentCap):    \n",
    "    #\"If then\" for truncating moments, can recover all moments from dropping 1 trfp \n",
    "    \n",
    "    #if not geom.IsReduced():\n",
    "    #    print(\"The geometry given has non-working probes\")\n",
    "    #    return\n",
    "    \n",
    "    lenOrigProbes = len(geom.probes) + len(badProbes)\n",
    "    \n",
    "    if (lenOrigProbes > 6):\n",
    "        momentCap = tpMomentCap\n",
    "    else:\n",
    "        momentCap = fpMomentCap\n",
    "    \n",
    "    if (len(geom.probes) < momentCap):\n",
    "        print(\"Moment cap is higher for the number of functional probes\")\n",
    "    \n",
    "    _MULTS_FP_N = np.array([__multipole(mult_order[i], mult_skew[i], 1, geom.xpos, geom.ypos)\\\n",
    "                                for i in range(momentCap)])\n",
    "        \n",
    "    _MULTS_FP_N[np.abs(_MULTS_FP_N) < 1.0e-9] = 0\n",
    "    \n",
    "    INV_MULT = np.linalg.pinv(np.transpose(_MULTS_FP_N))\n",
    "    INV_MULT[np.abs(INV_MULT) < 1.0e-9] = 0\n",
    "    \n",
    "    I = np.dot(INV_MULT,np.transpose(_MULTS_FP_N))\n",
    "    I[np.abs(I) < 1.0e-9] =0\n",
    "    #print(I)\n",
    "    #Add the columns of 0\n",
    "    inv_mult = np.zeros((len(INV_MULT), lenOrigProbes))\n",
    "    j = 0\n",
    "    if len(badProbes) > 0:\n",
    "        badProbesCopy = badProbes.copy()\n",
    "        for i in range(lenOrigProbes):\n",
    "            if i != badProbesCopy[0]:\n",
    "                inv_mult[:,i] = INV_MULT[:,j]\n",
    "                j+=1\n",
    "            elif (i == badProbesCopy[0]) and (len(badProbesCopy) > 1):\n",
    "                badProbesCopy = np.delete(badProbesCopy, 0)\n",
    "                  \n",
    "        #Add rows at the end, only the first moments can be calculated\n",
    "        for i in range(lenOrigProbes - momentCap):\n",
    "            inv_mult = np.concatenate((inv_mult, np.zeros((1,lenOrigProbes))))\n",
    "        return(inv_mult)\n",
    "    else:\n",
    "        for i in range(lenOrigProbes - momentCap):\n",
    "            INV_MULT = np.concatenate((INV_MULT, np.zeros((1,lenOrigProbes))))\n",
    "            \n",
    "        return(INV_MULT)\n",
    "\n",
    "    \n",
    "def ProbeDrops(geom, tpMomentCap = 14, fpMomentCap = 5):\n",
    "    reducedGeometry, badProbes = DropPos(geom)# Return another geom\n",
    "    \n",
    "    _MULTIPOLE_ORDER = [0, 1, 1, 2, 2, 3, 3, 4, 4, 5, 5, 6, 7, 7]\n",
    "    _MULTIPOLE_SKEW = [0, 0, 1, 1, 0, 1, 0, 0, 1, 0, 1, 0, 0, 1]\n",
    "    if len(geom.probes) < len(_MULTIPOLE_ORDER):\n",
    "        _MULTIPOLE_ORDER = _MULTIPOLE_ORDER[:len(geom.probes)]\n",
    "        _MULTIPOLE_SKEW = _MULTIPOLE_SKEW[:len(geom.probes)]\n",
    "\n",
    "    return Theta(__multipole, reducedGeometry, badProbes, _MULTIPOLE_ORDER, _MULTIPOLE_SKEW, tpMomentCap, fpMomentCap)"
   ]
  },
  {
   "cell_type": "code",
   "execution_count": 15,
   "metadata": {},
   "outputs": [
    {
     "name": "stdout",
     "output_type": "stream",
     "text": [
      "[0.05882353 0.05882353 0.05882353 0.05882353 0.05882353 0.05882353\n",
      " 0.05882353 0.05882353 0.05882353 0.05882353 0.05882353 0.05882353\n",
      " 0.05882353 0.05882353 0.05882353 0.05882353 0.05882353]\n",
      "\n",
      "\n",
      "[0.05882353 0.05882353 0.05882353 0.05882353 0.05882353 0.05882353\n",
      " 0.05882353 0.05882353 0.05882353 0.05882353 0.05882353 0.05882353\n",
      " 0.05882353 0.05882353 0.05882353 0.05882353 0.05882353]\n",
      "\n",
      "\n",
      "[0.05882353 0.05882353 0.05882353 0.05882353 0.05882353 0.05882353\n",
      " 0.05882353 0.05882353 0.05882353 0.05882353 0.05882353 0.05882353\n",
      " 0.05882353 0.05882353 0.05882353 0.05882353 0.05882353]\n",
      "\n",
      "\n",
      "[0.05882353 0.05882353 0.05882353 0.05882353 0.05882353 0.05882353\n",
      " 0.05882353 0.05882353 0.05882353 0.05882353 0.05882353 0.05882353\n",
      " 0.05882353 0.05882353 0.05882353 0.05882353 0.05882353]\n",
      "\n",
      "\n",
      "[0.05882353 0.05882353 0.05882353 0.05882353 0.05882353 0.05882353\n",
      " 0.05882353 0.05882353 0.05882353 0.05882353 0.05882353 0.05882353\n",
      " 0.05882353 0.05882353 0.05882353 0.05882353 0.05882353]\n",
      "\n",
      "\n",
      "[0.05882353 0.05882353 0.05882353 0.05882353 0.05882353 0.05882353\n",
      " 0.05882353 0.05882353 0.05882353 0.05882353 0.05882353 0.05882353\n",
      " 0.05882353 0.05882353 0.05882353 0.05882353 0.05882353]\n",
      "\n",
      "\n",
      "[0.05882353 0.05882353 0.05882353 0.05882353 0.05882353 0.05882353\n",
      " 0.05882353 0.05882353 0.05882353 0.05882353 0.05882353 0.05882353\n",
      " 0.05882353 0.05882353 0.05882353 0.05882353 0.05882353]\n",
      "\n",
      "\n",
      "[0.0588595  0.05870662 0.05870662 0.05870662 0.05870662 0.05641339\n",
      " 0.06008256 0.06008256 0.05641339 0.06008256 0.06008256 0.05641339\n",
      " 0.06008256 0.06008256 0.05641339 0.06008256 0.06008256]\n",
      "\n",
      "\n",
      "[0.0588595  0.05870662 0.05870662 0.05870662 0.05870662 0.05641339\n",
      " 0.06008256 0.06008256 0.05641339 0.06008256 0.06008256 0.05641339\n",
      " 0.06008256 0.06008256 0.05641339 0.06008256 0.06008256]\n",
      "\n",
      "\n",
      "[0.0588595  0.05870662 0.05870662 0.05870662 0.05870662 0.05641339\n",
      " 0.06008256 0.06008256 0.05641339 0.06008256 0.06008256 0.05641339\n",
      " 0.06008256 0.06008256 0.05641339 0.06008256 0.06008256]\n",
      "\n",
      "\n",
      "[0.0588595  0.05870662 0.05870662 0.05870662 0.05870662 0.05641339\n",
      " 0.06008256 0.06008256 0.05641339 0.06008256 0.06008256 0.05641339\n",
      " 0.06008256 0.06008256 0.05641339 0.06008256 0.06008256]\n",
      "\n",
      "\n",
      "[0.0588595  0.05870662 0.05870662 0.05870662 0.05870662 0.05641339\n",
      " 0.06008256 0.06008256 0.05641339 0.06008256 0.06008256 0.05641339\n",
      " 0.06008256 0.06008256 0.05641339 0.06008256 0.06008256]\n",
      "\n",
      "\n",
      "[0.0588595  0.05870662 0.05870662 0.05870662 0.05870662 0.05641339\n",
      " 0.06008256 0.06008256 0.05641339 0.06008256 0.06008256 0.05641339\n",
      " 0.06008256 0.06008256 0.05641339 0.06008256 0.06008256]\n",
      "\n",
      "\n",
      "[0.0588595  0.05870662 0.05870662 0.05870662 0.05870662 0.05641339\n",
      " 0.06008256 0.06008256 0.05641339 0.06008256 0.06008256 0.05641339\n",
      " 0.06008256 0.06008256 0.05641339 0.06008256 0.06008256]\n",
      "\n",
      "\n"
     ]
    }
   ],
   "source": [
    "geom = Geometry(trfp.TR_X, trfp.TR_Y, np.zeros(17)+1)\n",
    "for i in range(14):\n",
    "    print(ProbeDrops(geom, tpMomentCap=i+1, fpMomentCap=5)[0])\n",
    "    print('\\n')"
   ]
  },
  {
   "cell_type": "code",
   "execution_count": 38,
   "metadata": {
    "scrolled": false
   },
   "outputs": [
    {
     "name": "stdout",
     "output_type": "stream",
     "text": [
      "Dropped probe 0, [m1,m4] \n",
      "\n",
      "[[ 0.          0.5         0.          0.          0.5         0.        ]\n",
      " [ 0.         -0.75        0.75        0.         -0.75        0.75      ]\n",
      " [ 0.          0.29220779  0.          0.         -0.29220779  0.        ]\n",
      " [ 0.         -0.21915584  0.21915584  0.          0.21915584 -0.21915584]\n",
      " [ 0.          0.          0.          0.          0.          0.        ]\n",
      " [ 0.          0.          0.          0.          0.          0.        ]]\n"
     ]
    }
   ],
   "source": [
    "probes = np.zeros(6) + 1\n",
    "probes[0] = 0\n",
    "probes[3] = 0\n",
    "fpGeom = Geometry(trfp.FP6_X, trfp.FP6_Y, probes)\n",
    "fpTheta = ProbeDrops(fpGeom, fpMomentCap = 4)\n",
    "#print(\"Dropped probe 0, [m1,m4] \\n\")\n",
    "print(fpTheta)"
   ]
  },
  {
   "cell_type": "code",
   "execution_count": 34,
   "metadata": {},
   "outputs": [
    {
     "name": "stdout",
     "output_type": "stream",
     "text": [
      "Dropped probe 0, [m1,m5] \n",
      "\n",
      "[[ 0.25        0.          0.25        3.04388889 -5.58777778  3.04388889]\n",
      " [-0.375       0.          0.375      -0.375       0.          0.375     ]\n",
      " [ 0.1461039   0.          0.1461039  -0.1461039   0.         -0.1461039 ]\n",
      " [-0.10957792  0.          0.10957792  0.10957792  0.         -0.10957792]\n",
      " [ 0.          0.          0.          1.125      -2.25        1.125     ]\n",
      " [ 0.          0.          0.          0.          0.          0.        ]]\n"
     ]
    }
   ],
   "source": [
    "probes = np.zeros(6) + 1\n",
    "#probes[0] = 0\n",
    "probes[1] = 0\n",
    "fpGeom = Geometry(trfp.FP6_X, trfp.FP6_Y, probes)\n",
    "fpTheta = ProbeDrops(fpGeom, fpMomentCap = 5)\n",
    "print(\"Dropped probe 0, [m1,m5] \\n\")\n",
    "print(fpTheta)"
   ]
  },
  {
   "cell_type": "code",
   "execution_count": null,
   "metadata": {},
   "outputs": [],
   "source": [
    "print(np.matmul(trfp.J_4_PROBE[:4, :4], trfp.THETA_FP_4))"
   ]
  },
  {
   "cell_type": "code",
   "execution_count": null,
   "metadata": {},
   "outputs": [],
   "source": [
    "print(trfp.J_4_PROBE)\n",
    "print(trfp.THETA_FP_4)"
   ]
  },
  {
   "cell_type": "code",
   "execution_count": null,
   "metadata": {
    "scrolled": true
   },
   "outputs": [],
   "source": [
    "print(trfp.THETA_TR)"
   ]
  },
  {
   "cell_type": "code",
   "execution_count": null,
   "metadata": {},
   "outputs": [],
   "source": [
    "J_6_PROBE6x6 = np.array([[1.0, 0.0, 0.0, 0.0, 2.631605, 0.0],\n",
    "                         [0.0, 1.0, 0.0, 0.0, 0.0, 0.0],\n",
    "                         [0.0, 0.0, 1.0, 0.0, 0.0, -0.339835],\n",
    "                         [0.0, 0.0, 0.0, 1.0, 0.0, 0.0],\n",
    "                         [0.0, 0.0, 0.0, 0.0, 1.0, 0.0],\n",
    "                         [0.0, 0.0, 0.0, 0.0, 0.0, -0.166667]])\n",
    "\n",
    "J_6_PROBE = np.array([[1.0, 0.0, 0.0, 0.0, 2.631605],\n",
    "                      [0.0, 1.0, 0.0, 0.0, 0.0],\n",
    "                      [0.0, 0.0, 1.0, 0.0, 0.0],\n",
    "                      [0.0, 0.0, 0.0, 1.0, 0.0],\n",
    "                      [0.0, 0.0, 0.0, 0.0, 1.0]])\n",
    "\n",
    "J_6_PROBE_OFFSET = np.array([[1.0, 0.222222, 0.0, 0.0, 2.680987],\n",
    "                             [0.0, 1.0, 0.0, 0.0, 0.444444],\n",
    "                             [0.0, 0.0, 1.0, 0.444444, 0.0],\n",
    "                             [0.0, 0.0, 0.0, 1.0, 0.0],\n",
    "                             [0.0, 0.0, 0.0, 0.0, 1.0]])\n",
    "\n",
    "J_4_PROBE = np.array([[1.0, 0.0, 0.0, 0.0, 2.927901],\n",
    "                      [0.0, 1.0, 0.0, 0.0, -0.666667],\n",
    "                      [0.0, 0.0, 1.0, -0.666667, 0.0],\n",
    "                      [0.0, 0.0, 0.0, 1.0, 0.0],\n",
    "                      [0.0, 0.0, 0.0, 0.0, 1.0]])\n",
    "\n",
    "J_4_PROBE_ST41 = np.array([[1.0, 0.0, 0.0, 0.0, 2.927901],\n",
    "                           [0.0, 1.0, 0.0, 0.0, 0.0],\n",
    "                           [0.0, -0.194805, 1.0, 0.0, 0.0],\n",
    "                           [0.0, 0.0, 0.0, 1.0, -0.194805],\n",
    "                           [0.0, 0.0, 0.0, 0.0, 1.0]])\n",
    "\n",
    "J_4_PROBE_ST37_ST39 = np.array([[1.0, 0.0, 0.0, 0.0, 2.927901],\n",
    "                                [0.0, 1.0, 0.0, 0.0, 0.0], \n",
    "                                [0.0, -0.194805, 1.0, 0.0, 0.0], \n",
    "                                [0.0, 0.0, 0.0, 1.0, -0.194805], \n",
    "                                [0.0, 0.0, 0.0, 0.0, 1.0]])"
   ]
  },
  {
   "cell_type": "code",
   "execution_count": null,
   "metadata": {},
   "outputs": [],
   "source": [
    "THETA_FP_6 = np.array([np.array([1, 1, 1, 1, 1, 1])/6.,  # dipole\n",
    "                       np.array([1, 0, -1, 1, 0, -1])/-12.*4.5,  # n quad\n",
    "                       np.array([1, 1, 1, -1, -1, -1])/46.2*4.5,  # s quad\n",
    "                       np.array([1, 0, -1, -1, 0, 1])/-92.4/2*4.5**2,  # s sext\n",
    "                       np.array([1, -2, 1, 1, -2, 1])/18./2*4.5**2,  # n sext\n",
    "                       np.array([1, -2, 1, -1, 2, -1])/-138.6*4.5**3]  # NOT oct, no idea what this is\n",
    "                     )\n",
    "\n",
    "THETA_FP_4 = np.array([np.array([1, 0, 1, 0])/2.,  # dipole\n",
    "                       np.array([1, -1, 1, -1])/-6.*4.5,  # n quad\n",
    "                       np.array([1, 1, -1, -1])/30.8*4.5,  # s quad\n",
    "                       np.array([1, -1, -1, 1])/-46.2/2*4.5**2]  # sext\n",
    "                     )\n",
    "\n",
    "# four probe stations in the garage (stations 37, 39, 41) have a different arrangement of probes\n",
    "# STATION 37, 39\n",
    "# TM, TO, BI, BM\n",
    "THETA_FP_4_ST37_ST39 = np.array([np.array([1, 0, 0, 1])/2.,  #dipole\n",
    "                                 np.array([-1, 1, -1, 1])/6.*4.5,  # n quad\n",
    "                                 np.array([1, 1, -1, -1])/30.8*4.5,  # s quad\n",
    "                                 np.array([-1, 1, 1, -1])/46.2/2*4.5**2]  # sext?\n",
    "                               )\n",
    "# STATION 41\n",
    "# TO, TM, BI, BM\n",
    "THETA_FP_4_ST41 = np.array([np.array([0, 1, 0, 1])/2.,  #dipole\n",
    "                            np.array([1, -1, -1, 1])/6.*4.5,  # n quad\n",
    "                            np.array([1, 1, -1, -1])/30.8*4.5,  # s quad\n",
    "                            np.array([1, -1, 1, -1])/46.2/2*4.5**2]  # sext?\n",
    "                          )"
   ]
  },
  {
   "cell_type": "code",
   "execution_count": null,
   "metadata": {},
   "outputs": [],
   "source": [
    "#Checking what each probe would read given a moment of magnitude 1\n",
    "_MULTIPOLE_ORDER = [0, 1, 1, 2, 2, 3]\n",
    "_MULTIPOLE_SKEW = [0, 0, 1, 1, 0, 1]\n",
    "\n",
    "#_MULTIPOLE_ORDER = [0, 1, 1, 2, 2, 3, 3, 4, 4, 5, 5, 6, 7, 7]\n",
    "#_MULTIPOLE_SKEW = [0, 0, 1, 1, 0, 1, 0, 0, 1, 0, 1, 0, 0, 1]\n",
    "\n",
    "_MULTS_FP_N = np.array([__multipole(_MULTIPOLE_ORDER[i], _MULTIPOLE_SKEW[i], 1, FP6_X, FP6_Y) for i in range(len(_MULTIPOLE_ORDER) - len(drops))])\n",
    "_MULTS_FP_N[np.abs(_MULTS_FP_N) < 1.0e-9] = 0\n",
    "#print(_MULTS_FP_N)\n",
    "\n",
    "THETA_FPN = np.linalg.pinv(np.transpose(_MULTS_FP_N))\n",
    "THETA_FPN[np.abs(THETA_FPN) < 1.0e-9] = 0\n",
    "print(THETA_FPN)\n",
    "#print(THETA_FP_6)"
   ]
  },
  {
   "cell_type": "markdown",
   "metadata": {},
   "source": [
    "The above code works for 6 working fp. Below will be testing for 4 probes"
   ]
  },
  {
   "cell_type": "code",
   "execution_count": null,
   "metadata": {},
   "outputs": [],
   "source": [
    "#### For some reason this changes when more multipoles are used. I am assuming it has to do with m6 not bing linearly indep.\n",
    "_MULTIPOLE_ORDER = [0, 1, 1, 2, 2, 3]\n",
    "_MULTIPOLE_SKEW = [0, 0, 1, 1, 0, 0]\n",
    "_MULTS_FP6 = np.array([__multipole(_MULTIPOLE_ORDER[i], _MULTIPOLE_SKEW[i], 1, FP6_X, FP6_Y) for i in range(len(_MULTIPOLE_ORDER))])\n",
    "_MULTS_FP6[np.abs(_MULTS_FP6) < 1.0e-9] = 0\n",
    "\n",
    "THETA_FP6 = np.linalg.pinv(np.transpose(_MULTS_FP6))\n",
    "THETA_FP6[np.abs(THETA_FP6) < 1.0e-9] = 0\n",
    "print(THETA_FP6)"
   ]
  },
  {
   "cell_type": "code",
   "execution_count": null,
   "metadata": {},
   "outputs": [],
   "source": [
    "######### Below is an attempt to create a station with 4 probes"
   ]
  },
  {
   "cell_type": "code",
   "execution_count": null,
   "metadata": {},
   "outputs": [],
   "source": [
    "PROBES = [0,1,1,0,1,1] #1 means the probe is working properly, 0, it is dropped or does not exist.\n",
    "drops = np.array([])\n",
    "for i in range(len(PROBES)):\n",
    "    if not PROBES[i]:\n",
    "        drops = np.append(drops, i)\n",
    "drops = drops.astype(int)\n",
    "\n",
    "\n",
    "FP6_X_NEW = np.delete(FP6_X, drops)  # now only the x pos of working probes are stored\n",
    "FP6_Y_NEW = np.delete(FP6_Y, drops)  # same with y pos\n",
    "PROBES_NEW = np.delete(PROBES, drops)# array of 1s of length of the number of working probes"
   ]
  },
  {
   "cell_type": "code",
   "execution_count": null,
   "metadata": {},
   "outputs": [],
   "source": [
    "_MULTIPOLE_ORDER = [0, 1, 1, 2, 2, 3]\n",
    "_MULTIPOLE_SKEW = [0, 0, 1, 1, 0, 1]\n",
    "\n",
    "_MULTS_FP_N = np.array([__multipole(_MULTIPOLE_ORDER[i], _MULTIPOLE_SKEW[i], 1, FP6_X_NEW, FP6_Y_NEW) for i in range(len(_MULTIPOLE_ORDER) - len(drops))])\n",
    "_MULTS_FP_N[np.abs(_MULTS_FP_N) < 1.0e-9] = 0\n",
    "\n",
    "INV_MULT = np.linalg.pinv(np.transpose(_MULTS_FP_N))\n",
    "INV_MULT[np.abs(INV_MULT) < 1.0e-9] = 0\n",
    "\n",
    "#Add the columns of 0s\n",
    "inv_mult = np.zeros((len(INV_MULT), len(PROBES)))\n",
    "j = 0\n",
    "for i in range(len(PROBES)):\n",
    "    if PROBES[i] == 1:\n",
    "        inv_mult[:,i] = INV_MULT[:,j]\n",
    "        j+=1\n",
    "#Add rows\n",
    "for i in range(len(PROBES) - len(PROBES_NEW)):\n",
    "    inv_mult = np.concatenate((inv_mult, np.zeros((1,len(PROBES)))))\n",
    "\n",
    "THETA = np.dot(np.linalg.pinv(J_6_PROBE6x6), inv_mult)\n",
    "THETA[np.abs(THETA) < 1.0e-9] = 0\n",
    "THETA = THETA[:len(PROBES_NEW)]\n",
    "T = np.zeros((len(PROBES_NEW),len(PROBES_NEW)))\n",
    "j = 0\n",
    "for i in range(len(PROBES)):\n",
    "    if(np.sum(np.abs(THETA[:,i])))> 1e-8:\n",
    "        T[:,j] = THETA[:,i]\n",
    "        j+=1\n",
    "THETA = T\n",
    "print(\"Calculated Theta for 4 fp stattion\")\n",
    "print(THETA)\n",
    "print(\"############\")\n",
    "print(\"Hard Coded theta for 4 fp station\")\n",
    "print(np.array([np.array([1, 0, 1, 0])/2.,  # dipole\n",
    "                       np.array([1, -1, 1, -1])/-6.*4.5,  # n quad\n",
    "                       np.array([1, 1, -1, -1])/30.8*4.5,  # s quad\n",
    "                       np.array([1, -1, -1, 1])/-46.2/2*4.5**2]  # sext\n",
    "                     )\n",
    ")"
   ]
  },
  {
   "cell_type": "code",
   "execution_count": null,
   "metadata": {},
   "outputs": [],
   "source": [
    "####### Now trolley"
   ]
  },
  {
   "cell_type": "code",
   "execution_count": null,
   "metadata": {},
   "outputs": [],
   "source": [
    "PROBES = np.zeros(17) + 1 #1 means the probe is working properly, 0, it is dropped or does not exist.\n",
    "PROBES = PROBES.astype('int')\n",
    "PROBES[8] = 0\n",
    "print(PROBES)\n",
    "drops = np.array([]) #This is meant to be empty, will be filled to know what probes to drop\n",
    "for i in range(len(PROBES)):\n",
    "    if not PROBES[i]:\n",
    "        drops = np.append(drops, i)\n",
    "drops = drops.astype(int)\n",
    "\n",
    "X = trfp.TR_X.copy()\n",
    "Y = trfp.TR_Y.copy()\n",
    "\n",
    "TR_X_NEW = np.delete(X, drops)  # now only the x pos of working probes are stored\n",
    "TR_Y_NEW = np.delete(Y, drops)  # same with y pos\n",
    "PROBES_NEW = np.delete(PROBES, drops)# array of 1s of length of the number of working probes"
   ]
  },
  {
   "cell_type": "code",
   "execution_count": null,
   "metadata": {},
   "outputs": [],
   "source": [
    "\n",
    "    "
   ]
  },
  {
   "cell_type": "code",
   "execution_count": null,
   "metadata": {},
   "outputs": [],
   "source": []
  },
  {
   "cell_type": "code",
   "execution_count": null,
   "metadata": {
    "scrolled": true
   },
   "outputs": [],
   "source": [
    "_MULTIPOLE_ORDER = [0, 1, 1, 2, 2, 3, 3, 4, 4, 5, 5, 6, 7, 7]\n",
    "_MULTIPOLE_SKEW = [0, 0, 1, 1, 0, 1, 0, 0, 1, 0, 1, 0, 0, 1]\n",
    "# Skew 14 pole is unmeasurable probes are on nodes.\n",
    "# 4  is 10 pole, anything above this is unreliable. Uncertainty on cal. coeff. --> prop. uncertainty...\n",
    "# on cal. becomes too large\n",
    "\n",
    "if len(drops) == 0:\n",
    "    _MULTS_TR_N = np.array([__multipole(_MULTIPOLE_ORDER[i], _MULTIPOLE_SKEW[i], 1, TR_X_NEW, TR_Y_NEW) for i in range(len(_MULTIPOLE_ORDER))])\n",
    "\n",
    "else: #This else must be corrected for trolley drops instead of fp\n",
    "    _MULTS_TR_N = np.array([__multipole(_MULTIPOLE_ORDER[i], _MULTIPOLE_SKEW[i], 1, TR_X_NEW, TR_Y_NEW) for i in range(len(_MULTIPOLE_ORDER) - len(drops) + 1)])\n",
    "\n",
    "_MULTS_TR_N[np.abs(_MULTS_TR_N) < 1.0e-9] = 0 \n",
    "\n",
    "\n",
    "INV_MULT = np.linalg.pinv(np.transpose(_MULTS_TR_N))\n",
    "INV_MULT[np.abs(INV_MULT) < 1.0e-9] = 0\n",
    "#Add the columns of 0s\n",
    "inv_mult = np.zeros((len(INV_MULT), len(PROBES)))\n",
    "j = 0\n",
    "for i in range(len(PROBES)):\n",
    "    if PROBES[i] == 1:\n",
    "        inv_mult[:,i] = INV_MULT[:,j]\n",
    "        j+=1\n",
    "for i in range(len(PROBES) - len(PROBES_NEW)):\n",
    "    inv_mult = np.concatenate((inv_mult, np.zeros((1,len(PROBES)))))\n",
    "    \n",
    "print(inv_mult)"
   ]
  },
  {
   "cell_type": "code",
   "execution_count": null,
   "metadata": {},
   "outputs": [],
   "source": []
  }
 ],
 "metadata": {
  "kernelspec": {
   "display_name": "Python 2",
   "language": "python",
   "name": "python2"
  },
  "language_info": {
   "codemirror_mode": {
    "name": "ipython",
    "version": 2
   },
   "file_extension": ".py",
   "mimetype": "text/x-python",
   "name": "python",
   "nbconvert_exporter": "python",
   "pygments_lexer": "ipython2",
   "version": "2.7.5"
  }
 },
 "nbformat": 4,
 "nbformat_minor": 2
}
