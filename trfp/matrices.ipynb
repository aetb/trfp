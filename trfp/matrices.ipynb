{
 "cells": [
  {
   "cell_type": "markdown",
   "metadata": {},
   "source": [
    "# Matrices\n",
    "\n",
    "Contains definitions of the matrices for the matrix method"
   ]
  },
  {
   "cell_type": "code",
   "execution_count": 1,
   "metadata": {},
   "outputs": [],
   "source": [
    "\"\"\"A module that contains the various matrices used in the matrix method.\"\"\"\n",
    "\n",
    "import numpy as np\n",
    "import scipy.optimize\n",
    "import trfp"
   ]
  },
  {
   "cell_type": "code",
   "execution_count": 2,
   "metadata": {},
   "outputs": [
    {
     "name": "stdout",
     "output_type": "stream",
     "text": [
      "0\n",
      "1\n",
      "2\n",
      "3\n",
      "4\n",
      "5\n",
      "6\n",
      "7\n",
      "8\n",
      "9\n",
      "10\n",
      "11\n",
      "12\n",
      "13\n"
     ]
    }
   ],
   "source": [
    "for i in range(14):\n",
    "    print(i)"
   ]
  },
  {
   "cell_type": "markdown",
   "metadata": {},
   "source": [
    "## Helper functions\n",
    "Dunder function, can't (easily) be used outside of this script.\n",
    "Maybe replace with a helper function file?"
   ]
  },
  {
   "cell_type": "code",
   "execution_count": 3,
   "metadata": {},
   "outputs": [],
   "source": [
    "def __multipole(order, skew, strength, x_pos, y_pos):\n",
    "    \"\"\"Returns the magnitude of a B-field given multipole parameters\n",
    "    and position.\n",
    "    \"\"\"\n",
    "    # Takes a multipole strength A normalized to 4.5 cm\n",
    "    r_pos = np.sqrt(x_pos**2 + y_pos**2)\n",
    "    theta = np.arctan2(y_pos, x_pos)\n",
    "    if skew == 0:\n",
    "        b_magnitude = strength * (r_pos/4.5)**order * np.cos(order*theta)\n",
    "    if skew == 1:\n",
    "        b_magnitude = strength * (r_pos/4.5)**order * np.sin(order*theta)\n",
    "    return b_magnitude"
   ]
  },
  {
   "cell_type": "markdown",
   "metadata": {},
   "source": [
    "## Moment matrices\n",
    "Transform vectors of frequencies into vectors of moments."
   ]
  },
  {
   "cell_type": "code",
   "execution_count": 4,
   "metadata": {},
   "outputs": [
    {
     "name": "stdout",
     "output_type": "stream",
     "text": [
      "(14, 17)\n",
      "[[ 5.88595016e-02  5.87066198e-02  5.87066198e-02  5.87066198e-02\n",
      "   5.87066198e-02  5.64133924e-02  6.00825562e-02  6.00825562e-02\n",
      "   0.00000000e+00  5.64133924e-02  6.00825562e-02  6.00825562e-02\n",
      "   5.64133924e-02  6.00825562e-02  6.00825562e-02  5.64133924e-02\n",
      "   6.00825562e-02  6.00825562e-02]\n",
      " [ 0.00000000e+00  0.00000000e+00  0.00000000e+00  0.00000000e+00\n",
      "   0.00000000e+00  0.00000000e+00  1.07142857e-01  1.85576872e-01\n",
      "   0.00000000e+00  2.14285714e-01  1.85576872e-01  1.07142857e-01\n",
      "   0.00000000e+00 -1.07142857e-01 -1.85576872e-01 -2.14285714e-01\n",
      "  -1.85576872e-01 -1.07142857e-01]\n",
      " [ 0.00000000e+00  0.00000000e+00  0.00000000e+00  0.00000000e+00\n",
      "   0.00000000e+00 -2.14285714e-01 -1.85576872e-01 -1.07142857e-01\n",
      "   0.00000000e+00  0.00000000e+00  1.07142857e-01  1.85576872e-01\n",
      "   2.14285714e-01  1.85576872e-01  1.07142857e-01  0.00000000e+00\n",
      "  -1.07142857e-01 -1.85576872e-01]\n",
      " [ 0.00000000e+00  0.00000000e+00  0.00000000e+00  0.00000000e+00\n",
      "   0.00000000e+00  0.00000000e+00 -2.38598836e-01 -2.38598836e-01\n",
      "   0.00000000e+00  0.00000000e+00  2.38598836e-01  2.38598836e-01\n",
      "   0.00000000e+00 -2.38598836e-01 -2.38598836e-01  0.00000000e+00\n",
      "   2.38598836e-01  2.38598836e-01]\n",
      " [ 0.00000000e+00 -6.61172836e-02  6.61172836e-02 -6.61172836e-02\n",
      "   6.61172836e-02 -2.64146296e-01 -1.32589689e-01  1.32589689e-01\n",
      "   0.00000000e+00  2.64146296e-01  1.32589689e-01 -1.32589689e-01\n",
      "  -2.64146296e-01 -1.32589689e-01  1.32589689e-01  2.64146296e-01\n",
      "   1.32589689e-01 -1.32589689e-01]\n",
      " [ 0.00000000e+00  0.00000000e+00  0.00000000e+00  0.00000000e+00\n",
      "   0.00000000e+00  0.00000000e+00 -3.54227405e-01  0.00000000e+00\n",
      "   0.00000000e+00  3.54227405e-01  0.00000000e+00 -3.54227405e-01\n",
      "   0.00000000e+00  3.54227405e-01  0.00000000e+00 -3.54227405e-01\n",
      "   0.00000000e+00  3.54227405e-01]\n",
      " [ 0.00000000e+00  0.00000000e+00  0.00000000e+00  0.00000000e+00\n",
      "   0.00000000e+00  3.54227405e-01  0.00000000e+00 -3.54227405e-01\n",
      "   0.00000000e+00  0.00000000e+00  3.54227405e-01  0.00000000e+00\n",
      "  -3.54227405e-01  0.00000000e+00  3.54227405e-01  0.00000000e+00\n",
      "  -3.54227405e-01  0.00000000e+00]\n",
      " [-6.68426580e-03  2.17238638e-02  2.17238638e-02  2.17238638e-02\n",
      "   2.17238638e-02  4.47845809e-01 -2.33949303e-01 -2.33949303e-01\n",
      "   0.00000000e+00  4.47845809e-01 -2.33949303e-01 -2.33949303e-01\n",
      "   4.47845809e-01 -2.33949303e-01 -2.33949303e-01  4.47845809e-01\n",
      "  -2.33949303e-01 -2.33949303e-01]\n",
      " [ 0.00000000e+00  0.00000000e+00  0.00000000e+00  0.00000000e+00\n",
      "   0.00000000e+00  0.00000000e+00  3.94418484e-01 -3.94418484e-01\n",
      "   0.00000000e+00  0.00000000e+00  3.94418484e-01 -3.94418484e-01\n",
      "   0.00000000e+00  3.94418484e-01 -3.94418484e-01  0.00000000e+00\n",
      "   3.94418484e-01 -3.94418484e-01]\n",
      " [ 0.00000000e+00  0.00000000e+00  7.49516273e+01  0.00000000e+00\n",
      "  -7.49516273e+01  0.00000000e+00 -3.22057774e+00 -1.06492991e+01\n",
      "   0.00000000e+00 -1.58101089e+01 -1.06492991e+01 -3.22057774e+00\n",
      "   0.00000000e+00  3.22057774e+00  1.06492991e+01  1.58101089e+01\n",
      "   1.06492991e+01  3.22057774e+00]\n",
      " [ 0.00000000e+00 -7.49516273e+01  0.00000000e+00  7.49516273e+01\n",
      "   0.00000000e+00  1.58101089e+01  1.06492991e+01  3.22057774e+00\n",
      "   0.00000000e+00  0.00000000e+00 -3.22057774e+00 -1.06492991e+01\n",
      "  -1.58101089e+01 -1.06492991e+01 -3.22057774e+00  0.00000000e+00\n",
      "   3.22057774e+00  1.06492991e+01]\n",
      " [ 0.00000000e+00 -5.64602636e-03  5.64602636e-03 -5.64602636e-03\n",
      "   5.64602636e-03 -3.75460753e-01  3.76872260e-01 -3.76872260e-01\n",
      "   0.00000000e+00  3.75460753e-01 -3.76872260e-01  3.76872260e-01\n",
      "  -3.75460753e-01  3.76872260e-01 -3.76872260e-01  3.75460753e-01\n",
      "  -3.76872260e-01  3.76872260e-01]\n",
      " [ 0.00000000e+00  0.00000000e+00  0.00000000e+00  0.00000000e+00\n",
      "   0.00000000e+00  0.00000000e+00  0.00000000e+00  0.00000000e+00\n",
      "   0.00000000e+00  0.00000000e+00  0.00000000e+00  0.00000000e+00\n",
      "   0.00000000e+00  0.00000000e+00  0.00000000e+00  0.00000000e+00\n",
      "   0.00000000e+00  0.00000000e+00]\n",
      " [ 0.00000000e+00  0.00000000e+00 -1.23899629e+02  0.00000000e+00\n",
      "   1.23899629e+02  0.00000000e+00  5.80779510e+00  1.67656603e+01\n",
      "   0.00000000e+00  2.71030438e+01  1.67656603e+01  5.80779510e+00\n",
      "   0.00000000e+00 -5.80779510e+00 -1.67656603e+01 -2.71030438e+01\n",
      "  -1.67656603e+01 -5.80779510e+00]\n",
      " [ 0.00000000e+00 -1.23899629e+02  0.00000000e+00  1.23899629e+02\n",
      "   0.00000000e+00  2.71030438e+01  1.67656603e+01  5.80779510e+00\n",
      "   0.00000000e+00  0.00000000e+00 -5.80779510e+00 -1.67656603e+01\n",
      "  -2.71030438e+01 -1.67656603e+01 -5.80779510e+00  0.00000000e+00\n",
      "   5.80779510e+00  1.67656603e+01]\n",
      " [ 0.00000000e+00  0.00000000e+00  0.00000000e+00  0.00000000e+00\n",
      "   0.00000000e+00  0.00000000e+00  0.00000000e+00  0.00000000e+00\n",
      "   0.00000000e+00  0.00000000e+00  0.00000000e+00  0.00000000e+00\n",
      "   0.00000000e+00  0.00000000e+00  0.00000000e+00  0.00000000e+00\n",
      "   0.00000000e+00  0.00000000e+00]\n",
      " [ 0.00000000e+00  0.00000000e+00  0.00000000e+00  0.00000000e+00\n",
      "   0.00000000e+00  0.00000000e+00  0.00000000e+00  0.00000000e+00\n",
      "   0.00000000e+00  0.00000000e+00  0.00000000e+00  0.00000000e+00\n",
      "   0.00000000e+00  0.00000000e+00  0.00000000e+00  0.00000000e+00\n",
      "   0.00000000e+00  0.00000000e+00]]\n"
     ]
    }
   ],
   "source": [
    "THETA_FP_6 = np.array([np.array([1, 1, 1, 1, 1, 1])/6.,  # dipole\n",
    "                       np.array([1, 0, -1, 1, 0, -1])/-12.*4.5,  # n quad\n",
    "                       np.array([1, 1, 1, -1, -1, -1])/46.2*4.5,  # s quad\n",
    "                       np.array([1, 0, -1, -1, 0, 1])/-92.4/2*4.5**2,  # s sext\n",
    "                       np.array([1, -2, 1, 1, -2, 1])/18./2*4.5**2,  # n sext\n",
    "                       np.array([1, -2, 1, -1, 2, -1])/-138.6*4.5**3]  # NOT oct, no idea what this is\n",
    "                     )\n",
    "\n",
    "THETA_FP_4 = np.array([np.array([1, 0, 1, 0])/2.,  # dipole\n",
    "                       np.array([1, -1, 1, -1])/-6.*4.5,  # n quad\n",
    "                       np.array([1, 1, -1, -1])/30.8*4.5,  # s quad\n",
    "                       np.array([1, -1, -1, 1])/-46.2/2*4.5**2]  # sext\n",
    "                     )\n",
    "\n",
    "# four probe stations in the garage (stations 37, 39, 41) have a different arrangement of probes\n",
    "# STATION 37, 39\n",
    "# TM, TO, BI, BM\n",
    "THETA_FP_4_ST37_ST39 = np.array([np.array([1, 0, 0, 1])/2.,  #dipole\n",
    "                                 np.array([-1, 1, -1, 1])/6.*4.5,  # n quad\n",
    "                                 np.array([1, 1, -1, -1])/30.8*4.5,  # s quad\n",
    "                                 np.array([-1, 1, 1, -1])/46.2/2*4.5**2]  # sext?\n",
    "                               )\n",
    "# STATION 41\n",
    "# TO, TM, BI, BM\n",
    "THETA_FP_4_ST41 = np.array([np.array([0, 1, 0, 1])/2.,  #dipole\n",
    "                            np.array([1, -1, -1, 1])/6.*4.5,  # n quad\n",
    "                            np.array([1, 1, -1, -1])/30.8*4.5,  # s quad\n",
    "                            np.array([1, -1, 1, -1])/46.2/2*4.5**2]  # sext?\n",
    "                          )\n",
    "\n",
    "# No longer attempt to calculate either 18-pole.\n",
    "_MULTIPOLE_ORDER = [0, 1, 1, 2, 2, 3, 3, 4, 4, 5, 5, 6, 7, 7]\n",
    "_MULTIPOLE_SKEW = [0, 0, 1, 1, 0, 0, 1, 0, 1, 0, 1, 0, 0, 1]\n",
    "_MULTS = np.array([__multipole(_MULTIPOLE_ORDER[i], _MULTIPOLE_SKEW[i], 1, trfp.TR_X, trfp.TR_Y) for i in range(14)])\n",
    "_MULTS[np.abs(_MULTS) < 1.0e-9] = 0 \n",
    "print(_MULTS.shape)\n",
    "\n",
    "THETA_TR = np.linalg.pinv(np.transpose(_MULTS))\n",
    "THETA_TR = np.insert(THETA_TR, 12, np.zeros(17), 0)\n",
    "THETA_TR = np.append(THETA_TR, np.zeros([2,17]), 0)\n",
    "THETA_TR[np.abs(THETA_TR) < 1.0e-9] = 0\n",
    "theta = np.array([np.insert(THETA_TR[0], 8, 0)])\n",
    "for i in range(len(THETA_TR)-1):\n",
    "    row = np.array([np.insert(THETA_TR[i+1], 8, 0)]) #0 is added to the element indexed at8, 9th probe\n",
    "    theta = np.concatenate((theta, row), 0)\n",
    "THETA_TR = theta\n",
    "print(theta)"
   ]
  },
  {
   "cell_type": "code",
   "execution_count": 1,
   "metadata": {},
   "outputs": [
    {
     "ename": "NameError",
     "evalue": "name 'np' is not defined",
     "output_type": "error",
     "traceback": [
      "\u001b[0;31m---------------------------------------------------------------------------\u001b[0m",
      "\u001b[0;31mNameError\u001b[0m                                 Traceback (most recent call last)",
      "\u001b[0;32m<ipython-input-1-3ee217244bef>\u001b[0m in \u001b[0;36m<module>\u001b[0;34m()\u001b[0m\n\u001b[1;32m      1\u001b[0m \u001b[0m_MULTIPOLE_ORDER\u001b[0m \u001b[0;34m=\u001b[0m \u001b[0;34m[\u001b[0m\u001b[0;36m0\u001b[0m\u001b[0;34m,\u001b[0m \u001b[0;36m1\u001b[0m\u001b[0;34m,\u001b[0m \u001b[0;36m1\u001b[0m\u001b[0;34m,\u001b[0m \u001b[0;36m2\u001b[0m\u001b[0;34m,\u001b[0m \u001b[0;36m2\u001b[0m\u001b[0;34m,\u001b[0m \u001b[0;36m3\u001b[0m\u001b[0;34m]\u001b[0m\u001b[0;34m\u001b[0m\u001b[0m\n\u001b[1;32m      2\u001b[0m \u001b[0m_MULTIPOLE_SKEW\u001b[0m \u001b[0;34m=\u001b[0m \u001b[0;34m[\u001b[0m\u001b[0;36m0\u001b[0m\u001b[0;34m,\u001b[0m \u001b[0;36m0\u001b[0m\u001b[0;34m,\u001b[0m \u001b[0;36m1\u001b[0m\u001b[0;34m,\u001b[0m \u001b[0;36m1\u001b[0m\u001b[0;34m,\u001b[0m \u001b[0;36m0\u001b[0m\u001b[0;34m,\u001b[0m \u001b[0;36m0\u001b[0m\u001b[0;34m]\u001b[0m\u001b[0;34m\u001b[0m\u001b[0m\n\u001b[0;32m----> 3\u001b[0;31m \u001b[0m_MULTS_FP6\u001b[0m \u001b[0;34m=\u001b[0m \u001b[0mnp\u001b[0m\u001b[0;34m.\u001b[0m\u001b[0marray\u001b[0m\u001b[0;34m(\u001b[0m\u001b[0;34m[\u001b[0m\u001b[0m__multipole\u001b[0m\u001b[0;34m(\u001b[0m\u001b[0m_MULTIPOLE_ORDER\u001b[0m\u001b[0;34m[\u001b[0m\u001b[0mi\u001b[0m\u001b[0;34m]\u001b[0m\u001b[0;34m,\u001b[0m \u001b[0m_MULTIPOLE_SKEW\u001b[0m\u001b[0;34m[\u001b[0m\u001b[0mi\u001b[0m\u001b[0;34m]\u001b[0m\u001b[0;34m,\u001b[0m \u001b[0;36m1\u001b[0m\u001b[0;34m,\u001b[0m \u001b[0mtrfp\u001b[0m\u001b[0;34m.\u001b[0m\u001b[0mFP6_X\u001b[0m\u001b[0;34m,\u001b[0m \u001b[0mtrfp\u001b[0m\u001b[0;34m.\u001b[0m\u001b[0mFP6_Y\u001b[0m\u001b[0;34m)\u001b[0m \u001b[0;32mfor\u001b[0m \u001b[0mi\u001b[0m \u001b[0;32min\u001b[0m \u001b[0mrange\u001b[0m\u001b[0;34m(\u001b[0m\u001b[0mlen\u001b[0m\u001b[0;34m(\u001b[0m\u001b[0m_MULTIPOLE_ORDER\u001b[0m\u001b[0;34m)\u001b[0m\u001b[0;34m)\u001b[0m\u001b[0;34m]\u001b[0m\u001b[0;34m)\u001b[0m\u001b[0;34m\u001b[0m\u001b[0m\n\u001b[0m\u001b[1;32m      4\u001b[0m \u001b[0m_MULTS_FP6\u001b[0m\u001b[0;34m[\u001b[0m\u001b[0mnp\u001b[0m\u001b[0;34m.\u001b[0m\u001b[0mabs\u001b[0m\u001b[0;34m(\u001b[0m\u001b[0m_MULTS_FP6\u001b[0m\u001b[0;34m)\u001b[0m \u001b[0;34m<\u001b[0m \u001b[0;36m1.0e-9\u001b[0m\u001b[0;34m]\u001b[0m \u001b[0;34m=\u001b[0m \u001b[0;36m0\u001b[0m\u001b[0;34m\u001b[0m\u001b[0m\n\u001b[1;32m      5\u001b[0m \u001b[0;32mprint\u001b[0m\u001b[0;34m(\u001b[0m\u001b[0m_MULTS_FP6\u001b[0m\u001b[0;34m)\u001b[0m\u001b[0;34m\u001b[0m\u001b[0m\n",
      "\u001b[0;31mNameError\u001b[0m: name 'np' is not defined"
     ]
    }
   ],
   "source": [
    "_MULTIPOLE_ORDER = [0, 1, 1, 2, 2, 3]\n",
    "_MULTIPOLE_SKEW = [0, 0, 1, 1, 0, 0]\n",
    "_MULTS_FP6 = np.array([__multipole(_MULTIPOLE_ORDER[i], _MULTIPOLE_SKEW[i], 1, trfp.FP6_X, trfp.FP6_Y) for i in range(len(_MULTIPOLE_ORDER))])\n",
    "_MULTS_FP6[np.abs(_MULTS_FP6) < 1.0e-9] = 0 \n",
    "print(_MULTS_FP6)\n",
    "\n",
    "THETA_FP6 = np.linalg.pinv(np.transpose(_MULTS_FP6))\n",
    "THETA_FP6[np.abs(THETA_FP6) < 1.0e-9] = 0"
   ]
  },
  {
   "cell_type": "code",
   "execution_count": 6,
   "metadata": {
    "scrolled": true
   },
   "outputs": [
    {
     "name": "stdout",
     "output_type": "stream",
     "text": [
      "[[ 1.          1.          1.          1.          1.          1.        ]\n",
      " [-0.66666667  0.          0.66666667 -0.66666667  0.          0.66666667]\n",
      " [ 1.71111111  1.71111111  1.71111111 -1.71111111 -1.71111111 -1.71111111]\n",
      " [-2.28148148  0.          2.28148148  2.28148148  0.         -2.28148148]\n",
      " [-2.48345679 -2.92790123 -2.48345679 -2.48345679 -2.92790123 -2.48345679]]\n",
      "[[ 1.64694444 -2.79388889  1.64694444  1.64694444 -2.79388889  1.64694444]\n",
      " [-0.375       0.          0.375      -0.375       0.          0.375     ]\n",
      " [ 0.0974026   0.0974026   0.0974026  -0.0974026  -0.0974026  -0.0974026 ]\n",
      " [-0.10957792  0.          0.10957792  0.10957792  0.         -0.10957792]\n",
      " [ 0.5625     -1.125       0.5625      0.5625     -1.125       0.5625    ]]\n"
     ]
    }
   ],
   "source": [
    "_MULTIPOLE_ORDER = [0, 1, 1, 2, 2]\n",
    "_MULTIPOLE_SKEW = [0, 0, 1, 1, 0]\n",
    "_MULTS_FP6 = np.array([__multipole(_MULTIPOLE_ORDER[i], _MULTIPOLE_SKEW[i], 1, trfp.FP6_X, trfp.FP6_Y) for i in range(len(_MULTIPOLE_ORDER))])\n",
    "_MULTS_FP6[np.abs(_MULTS_FP6) < 1.0e-9] = 0 \n",
    "print(_MULTS_FP6)\n",
    "\n",
    "THETA_FP6 = np.linalg.pinv(np.transpose(_MULTS_FP6))\n",
    "THETA_FP6[np.abs(THETA_FP6) < 1.0e-9] = 0\n",
    "print(THETA_FP6)"
   ]
  },
  {
   "cell_type": "code",
   "execution_count": 10,
   "metadata": {},
   "outputs": [
    {
     "name": "stdout",
     "output_type": "stream",
     "text": [
      "[[ 0.16666663  0.16666674  0.16666663  0.16666663  0.16666674  0.16666663]\n",
      " [-0.00531589  0.          0.00531589 -0.00531589  0.          0.00531589]\n",
      " [ 0.0974026   0.0974026   0.0974026  -0.0974026  -0.0974026  -0.0974026 ]\n",
      " [-0.10957792  0.          0.10957792  0.10957792  0.         -0.10957792]\n",
      " [ 0.5625     -1.125       0.5625      0.5625     -1.125       0.5625    ]]\n",
      "[[ 0.16666667  0.16666667  0.16666667  0.16666667  0.16666667  0.16666667]\n",
      " [-0.375      -0.          0.375      -0.375      -0.          0.375     ]\n",
      " [ 0.0974026   0.0974026   0.0974026  -0.0974026  -0.0974026  -0.0974026 ]\n",
      " [-0.10957792 -0.          0.10957792  0.10957792 -0.         -0.10957792]\n",
      " [ 0.5625     -1.125       0.5625      0.5625     -1.125       0.5625    ]\n",
      " [-0.65746753  1.31493506 -0.65746753  0.65746753 -1.31493506  0.65746753]]\n"
     ]
    }
   ],
   "source": [
    "_MULTIPOLE_ORDER = [0, 1, 1, 2, 2, 3, 3, 4, 4, 5, 5, 6, 7, 7]\n",
    "_MULTIPOLE_SKEW = [0, 0, 1, 1, 0, 0, 1, 0, 1, 0, 1, 0, 0, 1]\n",
    "_MULTS_FP6 = np.array([__multipole(_MULTIPOLE_ORDER[i], _MULTIPOLE_SKEW[i], 1, trfp.FP6_X, trfp.FP6_Y) for i in range(6)] + [__multipole(_MULTIPOLE_ORDER[i+6], _MULTIPOLE_SKEW[i+6], 0, trfp.FP6_X, trfp.FP6_Y) for i in range(14-6\n",
    ")])\n",
    "_MULTS_FP6[np.abs(_MULTS_FP6) < 1.0e-9] = 0 \n",
    "\n",
    "THETA_FP6 = np.linalg.pinv(np.transpose(_MULTS_FP6))\n",
    "THETA_FP6[np.abs(THETA_FP6) < 1.0e-9] = 0\n",
    "print(np.dot(np.linalg.inv(trfp.J_6_PROBE),THETA_FP6[:5]))\n",
    "print(np.array([np.array([1, 1, 1, 1, 1, 1])/6.,  # dipole\n",
    "                       np.array([1, 0, -1, 1, 0, -1])/-12.*4.5,  # n quad\n",
    "                       np.array([1, 1, 1, -1, -1, -1])/46.2*4.5,  # s quad\n",
    "                       np.array([1, 0, -1, -1, 0, 1])/-92.4/2*4.5**2,  # s sext\n",
    "                       np.array([1, -2, 1, 1, -2, 1])/18./2*4.5**2,  # n sext\n",
    "                       np.array([1, -2, 1, -1, 2, -1])/-138.6*4.5**3]  # NOT oct, no idea what this is\n",
    "                     ))"
   ]
  },
  {
   "cell_type": "markdown",
   "metadata": {},
   "source": [
    "## Jacobian matrices\n",
    "New Jacobians calculated analytically (../jacobian_analytic_calc.ipynb).\n",
    "\n",
    "Note that stations 37, 39, and 41 have the same Jacobian because their geometry is the same. They are both recorded here just to emphasize that."
   ]
  },
  {
   "cell_type": "code",
   "execution_count": null,
   "metadata": {},
   "outputs": [],
   "source": [
    "J_6_PROBE = np.array([[1.0, 0.0, 0.0, 0.0, 2.631605],\n",
    "                      [0.0, 1.0, 0.0, 0.0, 0.0],\n",
    "                      [0.0, 0.0, 1.0, 0.0, 0.0],\n",
    "                      [0.0, 0.0, 0.0, 1.0, 0.0],\n",
    "                      [0.0, 0.0, 0.0, 0.0, 1.0]])\n",
    "\n",
    "J_6_PROBE_OFFSET = np.array([[1.0, 0.222222, 0.0, 0.0, 2.680987],\n",
    "                             [0.0, 1.0, 0.0, 0.0, 0.444444],\n",
    "                             [0.0, 0.0, 1.0, 0.444444, 0.0],\n",
    "                             [0.0, 0.0, 0.0, 1.0, 0.0],\n",
    "                             [0.0, 0.0, 0.0, 0.0, 1.0]])\n",
    "\n",
    "J_4_PROBE = np.array([[1.0, 0.0, 0.0, 0.0, 2.927901],\n",
    "                      [0.0, 1.0, 0.0, 0.0, -0.666667],\n",
    "                      [0.0, 0.0, 1.0, -0.666667, 0.0],\n",
    "                      [0.0, 0.0, 0.0, 1.0, 0.0],\n",
    "                      [0.0, 0.0, 0.0, 0.0, 1.0]])\n",
    "\n",
    "J_4_PROBE_ST41 = np.array([[1.0, 0.0, 0.0, 0.0, 2.927901],\n",
    "                           [0.0, 1.0, 0.0, 0.0, 0.0],\n",
    "                           [0.0, -0.194805, 1.0, 0.0, 0.0],\n",
    "                           [0.0, 0.0, 0.0, 1.0, -0.194805],\n",
    "                           [0.0, 0.0, 0.0, 0.0, 1.0]])\n",
    "\n",
    "J_4_PROBE_ST37_ST39 = np.array([[1.0, 0.0, 0.0, 0.0, 2.927901],\n",
    "                                [0.0, 1.0, 0.0, 0.0, 0.0], \n",
    "                                [0.0, -0.194805, 1.0, 0.0, 0.0], \n",
    "                                [0.0, 0.0, 0.0, 1.0, -0.194805], \n",
    "                                [0.0, 0.0, 0.0, 0.0, 1.0]])"
   ]
  }
 ],
 "metadata": {
  "kernelspec": {
   "display_name": "Python 2",
   "language": "python",
   "name": "python2"
  },
  "language_info": {
   "codemirror_mode": {
    "name": "ipython",
    "version": 2
   },
   "file_extension": ".py",
   "mimetype": "text/x-python",
   "name": "python",
   "nbconvert_exporter": "python",
   "pygments_lexer": "ipython2",
   "version": "2.7.5"
  }
 },
 "nbformat": 4,
 "nbformat_minor": 2
}
