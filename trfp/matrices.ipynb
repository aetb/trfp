{
 "cells": [
  {
   "cell_type": "markdown",
   "metadata": {},
   "source": [
    "# Matrices\n",
    "\n",
    "Contains definitions of the matrices for the matrix method"
   ]
  },
  {
   "cell_type": "code",
   "execution_count": null,
   "metadata": {},
   "outputs": [],
   "source": [
    "\"\"\"A module that contains the various matrices used in the matrix method.\"\"\"\n",
    "\n",
    "import numpy as np\n",
    "import scipy.optimize\n",
    "import trfp"
   ]
  },
  {
   "cell_type": "markdown",
   "metadata": {},
   "source": [
    "## Helper functions\n",
    "Dunder function, can't (easily) be used outside of this script.\n",
    "Maybe replace with a helper function file?"
   ]
  },
  {
   "cell_type": "code",
   "execution_count": null,
   "metadata": {},
   "outputs": [],
   "source": [
    "def __multipole(order, skew, strength, x_pos, y_pos):\n",
    "    \"\"\"Returns the magnitude of a B-field given multipole parameters\n",
    "    and position.\n",
    "    \"\"\"\n",
    "    # Takes a multipole strength A normalized to 4.5 cm\n",
    "    r_pos = np.sqrt(x_pos**2 + y_pos**2)\n",
    "    theta = np.arctan2(y_pos, x_pos)\n",
    "    if skew == 0:\n",
    "        b_magnitude = strength * (r_pos/4.5)**order * np.cos(order*theta)\n",
    "    if skew == 1:\n",
    "        b_magnitude = strength * (r_pos/4.5)**order * np.sin(order*theta)\n",
    "    return b_magnitude"
   ]
  },
  {
   "cell_type": "markdown",
   "metadata": {},
   "source": [
    "## Moment matrices\n",
    "Transform vectors of frequencies into vectors of moments."
   ]
  },
  {
   "cell_type": "code",
   "execution_count": null,
   "metadata": {},
   "outputs": [],
   "source": [
    "THETA_FP_6 = np.array([np.array([1, 1, 1, 1, 1, 1])/6.,  # dipole\n",
    "                       np.array([1, 0, -1, 1, 0, -1])/-12.*4.5,  # n quad\n",
    "                       np.array([1, 1, 1, -1, -1, -1])/46.2*4.5,  # s quad\n",
    "                       np.array([1, 0, -1, -1, 0, 1])/-92.4/2*4.5**2,  # s sext\n",
    "                       np.array([1, -2, 1, 1, -2, 1])/18./2*4.5**2,  # n sext\n",
    "                       np.array([1, -2, 1, -1, 2, -1])/-138.6*4.5**3]  # NOT oct, no idea what this is\n",
    "                     )\n",
    "\n",
    "THETA_FP_4 = np.array([np.array([1, 0, 1, 0])/2.,  # dipole\n",
    "                       np.array([1, -1, 1, -1])/-6.*4.5,  # n quad\n",
    "                       np.array([1, 1, -1, -1])/30.8*4.5,  # s quad\n",
    "                       np.array([1, -1, -1, 1])/-46.2/2*4.5**2]  # sext\n",
    "                     )\n",
    "\n",
    "# four probe stations in the garage (stations 37, 39, 41) have a different arrangement of probes\n",
    "# STATION 37, 39\n",
    "# TM, TO, BI, BM\n",
    "THETA_FP_4_ST37_ST39 = np.array([np.array([1, 0, 0, 1])/2.,  #dipole\n",
    "                                 np.array([-1, 1, -1, 1])/6.*4.5,  # n quad\n",
    "                                 np.array([1, 1, -1, -1])/30.8*4.5,  # s quad\n",
    "                                 np.array([-1, 1, 1, -1])/46.2/2*4.5**2]  # sext?\n",
    "                               )\n",
    "# STATION 41\n",
    "# TO, TM, BI, BM\n",
    "THETA_FP_4_ST41 = np.array([np.array([0, 1, 0, 1])/2.,  #dipole\n",
    "                            np.array([1, -1, -1, 1])/6.*4.5,  # n quad\n",
    "                            np.array([1, 1, -1, -1])/30.8*4.5,  # s quad\n",
    "                            np.array([1, -1, 1, -1])/46.2/2*4.5**2]  # sext?\n",
    "                          )\n",
    "\n",
    "# No longer attempt to calculate either 18-pole.\n",
    "_MULTIPOLE_ORDER = [0, 1, 1, 2, 2, 3, 3, 4, 4, 5, 5, 6, 7, 7]\n",
    "_MULTIPOLE_SKEW = [0, 0, 1, 1, 0, 0, 1, 0, 1, 0, 1, 0, 0, 1]\n",
    "_MULTS = np.array([__multipole(_MULTIPOLE_ORDER[i], _MULTIPOLE_SKEW[i], 1, trfp.TR_X, trfp.TR_Y) for i in range(14)])\n",
    "_MULTS[np.abs(_MULTS) < 1.0e-9] = 0 \n",
    "\n",
    "THETA_TR = np.linalg.pinv(np.transpose(_MULTS))\n",
    "THETA_TR = np.insert(THETA_TR, 12, np.zeros(17), 0)\n",
    "THETA_TR = np.append(THETA_TR, np.zeros([2,17]), 0)\n",
    "THETA_TR[np.abs(THETA_TR) < 1.0e-9] = 0"
   ]
  },
  {
   "cell_type": "markdown",
   "metadata": {},
   "source": [
    "## Jacobian matrices\n",
    "New Jacobians calculated analytically (../jacobian_analytic_calc.ipynb).\n",
    "\n",
    "Note that stations 37, 39, and 41 have the same Jacobian because their geometry is the same. They are both recorded here just to emphasize that."
   ]
  },
  {
   "cell_type": "code",
   "execution_count": null,
   "metadata": {},
   "outputs": [],
   "source": [
    "J_6_PROBE = np.array([[1.0, 0.0, 0.0, 0.0, 2.631605],\n",
    "                      [0.0, 1.0, 0.0, 0.0, 0.0],\n",
    "                      [0.0, 0.0, 1.0, 0.0, 0.0],\n",
    "                      [0.0, 0.0, 0.0, 1.0, 0.0],\n",
    "                      [0.0, 0.0, 0.0, 0.0, 1.0]])\n",
    "\n",
    "J_6_PROBE_OFFSET = np.array([[1.0, 0.222222, 0.0, 0.0, 2.680987],\n",
    "                             [0.0, 1.0, 0.0, 0.0, 0.444444],\n",
    "                             [0.0, 0.0, 1.0, 0.444444, 0.0],\n",
    "                             [0.0, 0.0, 0.0, 1.0, 0.0],\n",
    "                             [0.0, 0.0, 0.0, 0.0, 1.0]])\n",
    "\n",
    "J_4_PROBE = np.array([[1.0, 0.0, 0.0, 0.0, 2.927901],\n",
    "                      [0.0, 1.0, 0.0, 0.0, -0.666667],\n",
    "                      [0.0, 0.0, 1.0, -0.666667, 0.0],\n",
    "                      [0.0, 0.0, 0.0, 1.0, 0.0],\n",
    "                      [0.0, 0.0, 0.0, 0.0, 1.0]])\n",
    "\n",
    "J_4_PROBE_ST41 = np.array([[1.0, 0.0, 0.0, 0.0, 2.927901],\n",
    "                           [0.0, 1.0, 0.0, 0.0, 0.0],\n",
    "                           [0.0, -0.194805, 1.0, 0.0, 0.0],\n",
    "                           [0.0, 0.0, 0.0, 1.0, -0.194805],\n",
    "                           [0.0, 0.0, 0.0, 0.0, 1.0]])\n",
    "\n",
    "J_4_PROBE_ST37_ST39 = np.array([[1.0, 0.0, 0.0, 0.0, 2.927901],\n",
    "                                [0.0, 1.0, 0.0, 0.0, 0.0], \n",
    "                                [0.0, -0.194805, 1.0, 0.0, 0.0], \n",
    "                                [0.0, 0.0, 0.0, 1.0, -0.194805], \n",
    "                                [0.0, 0.0, 0.0, 0.0, 1.0]])"
   ]
  }
 ],
 "metadata": {
  "kernelspec": {
   "display_name": "Python 2",
   "language": "python",
   "name": "python2"
  },
  "language_info": {
   "codemirror_mode": {
    "name": "ipython",
    "version": 2
   },
   "file_extension": ".py",
   "mimetype": "text/x-python",
   "name": "python",
   "nbconvert_exporter": "python",
   "pygments_lexer": "ipython2",
   "version": "2.7.14"
  }
 },
 "nbformat": 4,
 "nbformat_minor": 2
}
