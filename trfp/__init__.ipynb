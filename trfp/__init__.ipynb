{
 "cells": [
  {
   "cell_type": "markdown",
   "metadata": {},
   "source": [
    "# Trolley-Fixed Probe Interpolation\n",
    "Module for performing interpolation step of g-2 analysis."
   ]
  },
  {
   "cell_type": "code",
   "execution_count": null,
   "metadata": {},
   "outputs": [],
   "source": [
    "\"\"\"Module for doing trolley-fixed probe correlations.\"\"\""
   ]
  },
  {
   "cell_type": "markdown",
   "metadata": {},
   "source": [
    "## Geometry sub-module"
   ]
  },
  {
   "cell_type": "code",
   "execution_count": null,
   "metadata": {},
   "outputs": [],
   "source": [
    "import trfp.geometry\n",
    "from trfp.geometry import FP4_X\n",
    "from trfp.geometry import FP4_X_ST37_ST39\n",
    "from trfp.geometry import FP4_X_ST41\n",
    "from trfp.geometry import FP4_Y\n",
    "from trfp.geometry import FP6_X\n",
    "from trfp.geometry import FP6_X_OFFSET\n",
    "from trfp.geometry import FP6_Y\n",
    "from trfp.geometry import TR_X\n",
    "from trfp.geometry import TR_Y\n",
    "from trfp.geometry import STATION_BARCODE_PHI\n",
    "from trfp.geometry import STATION_BARCODE_EDGES\n",
    "from trfp.geometry import STATION_BARCODE_PHI_6\n",
    "from trfp.geometry import STATION_BARCODE_EDGES_6\n",
    "from trfp.geometry import STATION_RING_PHI\n",
    "from trfp.geometry import STATION_PROBE_ID\n",
    "from trfp.geometry import STATION_PROBE_NUMBER\n",
    "from trfp.geometry import PLUNGING_PROBE_CALIBRATIONS"
   ]
  },
  {
   "cell_type": "markdown",
   "metadata": {},
   "source": [
    "## Matrices sub-module"
   ]
  },
  {
   "cell_type": "code",
   "execution_count": null,
   "metadata": {},
   "outputs": [],
   "source": [
    "import trfp.matrices\n",
    "from trfp.matrices import THETA_FP_4\n",
    "from trfp.matrices import THETA_FP_4_ST37_ST39\n",
    "from trfp.matrices import THETA_FP_4_ST41\n",
    "from trfp.matrices import THETA_FP_6\n",
    "from trfp.matrices import THETA_TR\n",
    "from trfp.matrices import J_6_PROBE\n",
    "from trfp.matrices import J_6_PROBE_OFFSET\n",
    "from trfp.matrices import J_4_PROBE\n",
    "from trfp.matrices import J_4_PROBE_ST37_ST39\n",
    "from trfp.matrices import J_4_PROBE_ST41"
   ]
  },
  {
   "cell_type": "markdown",
   "metadata": {},
   "source": [
    "## Runs sub-module\n",
    "### This sub-module needs major renovations for v3."
   ]
  },
  {
   "cell_type": "code",
   "execution_count": null,
   "metadata": {},
   "outputs": [],
   "source": [
    "import trfp.runs\n",
    "from trfp.runs import Run"
   ]
  },
  {
   "cell_type": "markdown",
   "metadata": {},
   "source": [
    "## Analysis sub-module\n",
    "### This module should contain a lot of the helper_functions."
   ]
  },
  {
   "cell_type": "code",
   "execution_count": null,
   "metadata": {},
   "outputs": [],
   "source": [
    "import trfp.analysis\n",
    "from trfp.analysis import remove_trolley_effect\n",
    "from trfp.analysis import trolley_run_station_average"
   ]
  },
  {
   "cell_type": "markdown",
   "metadata": {},
   "source": [
    "## Uncertainty sub-module\n",
    "### Empty for now.\n",
    "Should contain functions and structs for propagating uncertainty through analysis."
   ]
  },
  {
   "cell_type": "code",
   "execution_count": null,
   "metadata": {},
   "outputs": [],
   "source": [
    "import trfp.uncertainty"
   ]
  }
 ],
 "metadata": {
  "kernelspec": {
   "display_name": "Python 2",
   "language": "python",
   "name": "python2"
  },
  "language_info": {
   "codemirror_mode": {
    "name": "ipython",
    "version": 2
   },
   "file_extension": ".py",
   "mimetype": "text/x-python",
   "name": "python",
   "nbconvert_exporter": "python",
   "pygments_lexer": "ipython2",
   "version": "2.7.14"
  }
 },
 "nbformat": 4,
 "nbformat_minor": 2
}
