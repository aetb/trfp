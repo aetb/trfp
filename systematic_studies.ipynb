{
 "cells": [
  {
   "cell_type": "code",
   "execution_count": null,
   "metadata": {},
   "outputs": [],
   "source": [
    "import matplotlib\n",
    "import matplotlib.pyplot as plt\n",
    "import seaborn as sns\n",
    "%matplotlib inline\n",
    "\n",
    "import numpy as np\n",
    "import pandas as pd\n",
    "import scipy.optimize\n",
    "from scipy.interpolate import interp1d\n",
    "\n",
    "from datetime import datetime\n",
    "import pytz\n",
    "\n",
    "import trfp\n",
    "\n",
    "central_time = pytz.timezone('US/Central')\n",
    "\n",
    "matplotlib.rc('xtick', labelsize=10)     \n",
    "matplotlib.rc('ytick', labelsize=10)\n",
    "matplotlib.rc('axes', titlesize=16)\n",
    "matplotlib.rc('axes', labelsize=12)\n",
    "plt.rcParams[\"font.family\"] = \"serif\"\n",
    "sns.set(style=\"darkgrid\")"
   ]
  },
  {
   "cell_type": "code",
   "execution_count": null,
   "metadata": {},
   "outputs": [],
   "source": [
    "# Trolley azimuthal uncertainty couples to dm/dphi\n",
    "\n",
    "# calculate dm/dphi from trolley, run 3956\n",
    "# interpolate the moment vs phi to standard phi values (36,000 points)\n",
    "\n",
    "corrected_df = pd.read_hdf('60hr_trolley_runs_1.h5', key='run_3956_corrected_df')\n",
    "corrected_df = corrected_df.sort_values(by=['tr_phi'])\n",
    "\n",
    "trm = 'tr,m1'\n",
    "\n",
    "new_phis = np.arange(36000)/100\n",
    "old_phis = np.append(corrected_df['tr_phi'].values - 360,\n",
    "                     np.append(corrected_df['tr_phi'].values,\n",
    "                               corrected_df['tr_phi'].values + 360)\n",
    "                    )\n",
    "old_ms = np.append(corrected_df[trm].values,\n",
    "                   np.append(corrected_df[trm].values,\n",
    "                             corrected_df[trm].values)\n",
    "                  )/61.79  # convert to ppm\n",
    "\n",
    "new_ms = interp1d(old_phis, old_ms, kind='slinear')(new_phis)\n",
    "\n",
    "dm_dphi = (np.roll(new_ms, -1) - np.roll(new_ms, 1))/(2*0.01)\n",
    "dm_dz = dm_dphi * (1/124.13)  # deg/mm\n",
    "\n",
    "rms_dm_dz = np.std(dm_dz)\n",
    "print 'RMS dm/dz is ' + str(rms_dm_dz) + ' ppm/mm.'\n",
    "print 'Mean dm/dz is ' + str(np.mean(dm_dz)) + ' ppm/mm.'\n",
    "\n",
    "fig, axs = plt.subplots(3,1)\n",
    "plt.sca(axs[0])\n",
    "plt.plot(new_phis, new_ms)\n",
    "axs[0].set_xlim((0,360))\n",
    "axs[0].set_ylim((750,900))\n",
    "\n",
    "plt.sca(axs[1])\n",
    "plt.plot(new_phis, dm_dz, '.')\n",
    "axs[1].set_xlim((0,360))\n",
    "# axs[1].set_ylim((48000,56000))\n",
    "\n",
    "plt.sca(axs[2])\n",
    "plt.plot(old_phis, old_ms)\n",
    "axs[2].set_xlim((0,360))\n",
    "axs[2].set_ylim((750,900))\n",
    "\n",
    "fig.tight_layout()\n",
    "fig.set_size_inches(12,8)"
   ]
  },
  {
   "cell_type": "code",
   "execution_count": null,
   "metadata": {},
   "outputs": [],
   "source": []
  },
  {
   "cell_type": "code",
   "execution_count": null,
   "metadata": {},
   "outputs": [],
   "source": []
  }
 ],
 "metadata": {
  "kernelspec": {
   "display_name": "Python 2",
   "language": "python",
   "name": "python2"
  },
  "language_info": {
   "codemirror_mode": {
    "name": "ipython",
    "version": 2
   },
   "file_extension": ".py",
   "mimetype": "text/x-python",
   "name": "python",
   "nbconvert_exporter": "python",
   "pygments_lexer": "ipython2",
   "version": "2.7.14"
  }
 },
 "nbformat": 4,
 "nbformat_minor": 2
}
