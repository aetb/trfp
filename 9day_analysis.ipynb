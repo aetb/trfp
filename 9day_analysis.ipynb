{
 "cells": [
  {
   "cell_type": "markdown",
   "metadata": {},
   "source": [
    "# 9 day analysis"
   ]
  },
  {
   "cell_type": "code",
   "execution_count": 1,
   "metadata": {},
   "outputs": [
    {
     "name": "stdout",
     "output_type": "stream",
     "text": [
      "Welcome to JupyROOT 6.12/04\n"
     ]
    }
   ],
   "source": [
    "%load_ext autoreload\n",
    "%autoreload 2\n",
    "\n",
    "%matplotlib inline\n",
    "import matplotlib\n",
    "import matplotlib.pyplot as plt\n",
    "import seaborn as sns\n",
    "\n",
    "import numpy as np\n",
    "import pandas as pd\n",
    "\n",
    "from scipy.optimize import curve_fit\n",
    "\n",
    "import gm2\n",
    "import trfp\n",
    "import plotting_functions as plt2\n",
    "import analysis_helper as helper\n",
    "import helper_function_candidates as helper_old"
   ]
  },
  {
   "cell_type": "code",
   "execution_count": 2,
   "metadata": {},
   "outputs": [],
   "source": [
    "blinds = np.loadtxt('blinds.txt')\n",
    "\n",
    "def apply_blinds_fp(input_df, blinds):\n",
    "    output_df = input_df.copy()\n",
    "    for m in range(6):\n",
    "        stms = ['st'+str(st)+',m'+str(m+1) for st in range(72)]\n",
    "        output_df[stms] = output_df[stms] + blinds[m]\n",
    "    return output_df\n",
    "\n",
    "def apply_blinds_tr(input_df, blinds):\n",
    "    output_df = input_df.copy()\n",
    "    for m in range(6):\n",
    "        stms = ['st'+str(st)+',m'+str(m+1) for st in range(72)]\n",
    "        output_df[stms] = output_df[stms] + blinds[m]\n",
    "        trms = ['tr,m'+str(m+1)]\n",
    "        output_df[trms] = output_df[trms] + blinds[m]\n",
    "    return output_df"
   ]
  },
  {
   "cell_type": "markdown",
   "metadata": {},
   "source": [
    "### Memory Effecient Read-In"
   ]
  },
  {
   "cell_type": "markdown",
   "metadata": {},
   "source": [
    "Not good for debugging, doesn't store interpolation data frames."
   ]
  },
  {
   "cell_type": "code",
   "execution_count": 3,
   "metadata": {},
   "outputs": [
    {
     "name": "stdout",
     "output_type": "stream",
     "text": [
      "fp run 1\n",
      "Finished calculating all moments for 259802 events. \n",
      "fp run 2\n",
      "Finished calculating all moments for 201041 events.\n",
      "fp run 3\n",
      "Finished calculating all moments for 234333 events.   \n",
      "fp run 4\n",
      "Finished calculating all moments for 154063 events.\n",
      "tr run 1\n",
      "Finished calculating all moments for 4344 events.\n",
      "tr run 2\n",
      "Finished calculating all moments for 4357 events.\n",
      "tr run 3\n",
      "Finished calculating all moments for 4359 events.\n",
      "tr run 4\n",
      "Finished calculating all moments for 4360 events.\n",
      "tr run 5\n",
      "Finished calculating all moments for 4702 events.\n",
      "tr run 6\n",
      "Finished calculating all moments for 4356 events.\n",
      "CPU times: user 1min 5s, sys: 2min 16s, total: 3min 21s\n",
      "Wall time: 58.2 s\n"
     ]
    }
   ],
   "source": [
    "%%time\n",
    "\n",
    "print 'fp run 1'\n",
    "fp_moment_df_1 = apply_blinds_fp(helper.calc_moment_df(pd.read_hdf('old_hdf5/9day_fp_interp.h5', 'df_1')), blinds)\n",
    "print 'fp run 2'\n",
    "fp_moment_df_2 = apply_blinds_fp(helper.calc_moment_df(pd.read_hdf('old_hdf5/9day_fp_interp.h5', 'df_2')), blinds)\n",
    "print 'fp run 3'\n",
    "fp_moment_df_3 = apply_blinds_fp(helper.calc_moment_df(pd.read_hdf('old_hdf5/9day_fp_interp.h5', 'df_3')), blinds)\n",
    "print 'fp run 4'\n",
    "fp_moment_df_4 = apply_blinds_fp(helper.calc_moment_df(pd.read_hdf('old_hdf5/9day_fp_interp.h5', 'df_4')), blinds)\n",
    "\n",
    "print 'tr run 1'\n",
    "tr_moment_df_1 = apply_blinds_tr(helper.calc_moment_df(pd.read_hdf('old_hdf5/9day_tr_interp.h5', 'df_1')), blinds)\n",
    "print 'tr run 2'\n",
    "tr_moment_df_2 = apply_blinds_tr(helper.calc_moment_df(pd.read_hdf('old_hdf5/9day_tr_interp.h5', 'df_2')), blinds)\n",
    "print 'tr run 3'\n",
    "tr_moment_df_3 = apply_blinds_tr(helper.calc_moment_df(pd.read_hdf('old_hdf5/9day_tr_interp.h5', 'df_3')), blinds)\n",
    "print 'tr run 4'\n",
    "tr_moment_df_4 = apply_blinds_tr(helper.calc_moment_df(pd.read_hdf('old_hdf5/9day_tr_interp.h5', 'df_4')), blinds)\n",
    "print 'tr run 5'\n",
    "tr_moment_df_5 = apply_blinds_tr(helper.calc_moment_df(pd.read_hdf('old_hdf5/9day_tr_interp.h5', 'df_5')), blinds)\n",
    "print 'tr run 6'\n",
    "tr_moment_df_6 = apply_blinds_tr(helper.calc_moment_df(pd.read_hdf('old_hdf5/9day_tr_interp.h5', 'df_6')), blinds)"
   ]
  },
  {
   "cell_type": "markdown",
   "metadata": {
    "heading_collapsed": true
   },
   "source": [
    "### Memory hog read in\n",
    "Most recently files are in `/data1/newg2/DataProduction/Offline/ArtTFSDir/v9_20_00`."
   ]
  },
  {
   "cell_type": "code",
   "execution_count": 4,
   "metadata": {
    "hidden": true
   },
   "outputs": [
    {
     "ename": "IOError",
     "evalue": "File 9day_fp_interp.h5 does not exist",
     "output_type": "error",
     "traceback": [
      "\u001b[0;31m\u001b[0m",
      "\u001b[0;31mIOError\u001b[0mTraceback (most recent call last)",
      "\u001b[0;32m<ipython-input-4-573bbb697a12>\u001b[0m in \u001b[0;36m<module>\u001b[0;34m()\u001b[0m\n\u001b[1;32m     25\u001b[0m \u001b[0;31m# tr_interp_df_6.to_hdf('9day_tr_interp.h5', 'df_6')\u001b[0m\u001b[0;34m\u001b[0m\u001b[0;34m\u001b[0m\u001b[0m\n\u001b[1;32m     26\u001b[0m \u001b[0;34m\u001b[0m\u001b[0m\n\u001b[0;32m---> 27\u001b[0;31m \u001b[0mfp_interp_df_1\u001b[0m \u001b[0;34m=\u001b[0m \u001b[0mpd\u001b[0m\u001b[0;34m.\u001b[0m\u001b[0mread_hdf\u001b[0m\u001b[0;34m(\u001b[0m\u001b[0;34m'9day_fp_interp.h5'\u001b[0m\u001b[0;34m,\u001b[0m \u001b[0;34m'df_1'\u001b[0m\u001b[0;34m)\u001b[0m\u001b[0;34m\u001b[0m\u001b[0m\n\u001b[0m\u001b[1;32m     28\u001b[0m \u001b[0mfp_interp_df_2\u001b[0m \u001b[0;34m=\u001b[0m \u001b[0mpd\u001b[0m\u001b[0;34m.\u001b[0m\u001b[0mread_hdf\u001b[0m\u001b[0;34m(\u001b[0m\u001b[0;34m'9day_fp_interp.h5'\u001b[0m\u001b[0;34m,\u001b[0m \u001b[0;34m'df_2'\u001b[0m\u001b[0;34m)\u001b[0m\u001b[0;34m\u001b[0m\u001b[0m\n\u001b[1;32m     29\u001b[0m \u001b[0mfp_interp_df_3\u001b[0m \u001b[0;34m=\u001b[0m \u001b[0mpd\u001b[0m\u001b[0;34m.\u001b[0m\u001b[0mread_hdf\u001b[0m\u001b[0;34m(\u001b[0m\u001b[0;34m'9day_fp_interp.h5'\u001b[0m\u001b[0;34m,\u001b[0m \u001b[0;34m'df_3'\u001b[0m\u001b[0;34m)\u001b[0m\u001b[0;34m\u001b[0m\u001b[0m\n",
      "\u001b[0;32m/home/aetb/.local/lib/python2.7/site-packages/pandas/io/pytables.pyc\u001b[0m in \u001b[0;36mread_hdf\u001b[0;34m(path_or_buf, key, mode, **kwargs)\u001b[0m\n\u001b[1;32m    369\u001b[0m         \u001b[0;32mif\u001b[0m \u001b[0;32mnot\u001b[0m \u001b[0mexists\u001b[0m\u001b[0;34m:\u001b[0m\u001b[0;34m\u001b[0m\u001b[0m\n\u001b[1;32m    370\u001b[0m             raise compat.FileNotFoundError(\n\u001b[0;32m--> 371\u001b[0;31m                 'File %s does not exist' % path_or_buf)\n\u001b[0m\u001b[1;32m    372\u001b[0m \u001b[0;34m\u001b[0m\u001b[0m\n\u001b[1;32m    373\u001b[0m         \u001b[0mstore\u001b[0m \u001b[0;34m=\u001b[0m \u001b[0mHDFStore\u001b[0m\u001b[0;34m(\u001b[0m\u001b[0mpath_or_buf\u001b[0m\u001b[0;34m,\u001b[0m \u001b[0mmode\u001b[0m\u001b[0;34m=\u001b[0m\u001b[0mmode\u001b[0m\u001b[0;34m,\u001b[0m \u001b[0;34m**\u001b[0m\u001b[0mkwargs\u001b[0m\u001b[0;34m)\u001b[0m\u001b[0;34m\u001b[0m\u001b[0m\n",
      "\u001b[0;31mIOError\u001b[0m: File 9day_fp_interp.h5 does not exist"
     ]
    }
   ],
   "source": [
    "# prefix = 'v9_20_00/FieldPlainRootOutput_'\n",
    "\n",
    "# fp_interp_df_1 = helper.root_to_pandas(range(4141,4179), prefix=prefix, tr_run=False)\n",
    "# fp_interp_df_2 = helper.root_to_pandas(range(4193,4223), prefix=prefix, tr_run=False)\n",
    "# fp_interp_df_3 = helper.root_to_pandas(range(4229,4263), prefix=prefix, tr_run=False)\n",
    "# fp_interp_df_4 = helper.root_to_pandas(range(4283,4489), prefix=prefix, tr_run=False)\n",
    "\n",
    "# tr_interp_df_1 = helper.root_to_pandas([4138], prefix=prefix, tr_run=True)\n",
    "# tr_interp_df_2 = helper.root_to_pandas([4181], prefix=prefix, tr_run=True)\n",
    "# tr_interp_df_3 = helper.root_to_pandas([4189], prefix=prefix, tr_run=True)\n",
    "# tr_interp_df_4 = helper.root_to_pandas([4226], prefix=prefix, tr_run=True)\n",
    "# tr_interp_df_5 = helper.root_to_pandas([4265], prefix=prefix, tr_run=True)\n",
    "# tr_interp_df_6 = helper.root_to_pandas([4493], prefix=prefix, tr_run=True)\n",
    "\n",
    "# fp_interp_df_1.to_hdf('9day_fp_interp.h5', 'df_1')\n",
    "# fp_interp_df_2.to_hdf('9day_fp_interp.h5', 'df_2')\n",
    "# fp_interp_df_3.to_hdf('9day_fp_interp.h5', 'df_3')\n",
    "# fp_interp_df_4.to_hdf('9day_fp_interp.h5', 'df_4')\n",
    "\n",
    "# tr_interp_df_1.to_hdf('9day_tr_interp.h5', 'df_1')\n",
    "# tr_interp_df_2.to_hdf('9day_tr_interp.h5', 'df_2')\n",
    "# tr_interp_df_3.to_hdf('9day_tr_interp.h5', 'df_3')\n",
    "# tr_interp_df_4.to_hdf('9day_tr_interp.h5', 'df_4')\n",
    "# tr_interp_df_5.to_hdf('9day_tr_interp.h5', 'df_5')\n",
    "# tr_interp_df_6.to_hdf('9day_tr_interp.h5', 'df_6')\n",
    "\n",
    "fp_interp_df_1 = pd.read_hdf('9day_fp_interp.h5', 'df_1')\n",
    "fp_interp_df_2 = pd.read_hdf('9day_fp_interp.h5', 'df_2')\n",
    "fp_interp_df_3 = pd.read_hdf('9day_fp_interp.h5', 'df_3')\n",
    "fp_interp_df_4 = pd.read_hdf('9day_fp_interp.h5', 'df_4')\n",
    "\n",
    "tr_interp_df_1 = pd.read_hdf('9day_tr_interp.h5', 'df_1')\n",
    "tr_interp_df_2 = pd.read_hdf('9day_tr_interp.h5', 'df_2')\n",
    "tr_interp_df_3 = pd.read_hdf('9day_tr_interp.h5', 'df_3')\n",
    "tr_interp_df_4 = pd.read_hdf('9day_tr_interp.h5', 'df_4')\n",
    "tr_interp_df_5 = pd.read_hdf('9day_tr_interp.h5', 'df_5')\n",
    "tr_interp_df_6 = pd.read_hdf('9day_tr_interp.h5', 'df_6')"
   ]
  },
  {
   "cell_type": "code",
   "execution_count": null,
   "metadata": {
    "hidden": true
   },
   "outputs": [],
   "source": [
    "fp_moment_df_1 = apply_blinds_fp(helper.calc_moment_df(fp_interp_df_1), blinds)\n",
    "fp_moment_df_2 = apply_blinds_fp(helper.calc_moment_df(fp_interp_df_2), blinds)\n",
    "fp_moment_df_3 = apply_blinds_fp(helper.calc_moment_df(fp_interp_df_3), blinds)\n",
    "fp_moment_df_4 = apply_blinds_fp(helper.calc_moment_df(fp_interp_df_4), blinds)\n",
    "\n",
    "tr_moment_df_1 = apply_blinds_tr(helper.calc_moment_df(tr_interp_df_1), blinds)\n",
    "tr_moment_df_2 = apply_blinds_tr(helper.calc_moment_df(tr_interp_df_2), blinds)\n",
    "tr_moment_df_3 = apply_blinds_tr(helper.calc_moment_df(tr_interp_df_3), blinds)\n",
    "tr_moment_df_4 = apply_blinds_tr(helper.calc_moment_df(tr_interp_df_4), blinds)\n",
    "tr_moment_df_5 = apply_blinds_tr(helper.calc_moment_df(tr_interp_df_5), blinds)\n",
    "tr_moment_df_6 = apply_blinds_tr(helper.calc_moment_df(tr_interp_df_6), blinds)"
   ]
  },
  {
   "cell_type": "markdown",
   "metadata": {},
   "source": [
    "## Remove trolley footprint and do station averaging"
   ]
  },
  {
   "cell_type": "code",
   "execution_count": 5,
   "metadata": {},
   "outputs": [
    {
     "name": "stdout",
     "output_type": "stream",
     "text": [
      "Removing trolley image from station 71.                                                                                  CPU times: user 22.8 s, sys: 13.6 s, total: 36.4 s\n",
      "Wall time: 18.1 s\n",
      "\n"
     ]
    }
   ],
   "source": [
    "%%time\n",
    "\n",
    "# tr_corr_df_1 = trfp.analysis.remove_trolley_effect(tr_moment_df_1)\n",
    "# tr_corr_df_2 = trfp.analysis.remove_trolley_effect(tr_moment_df_2)\n",
    "# tr_corr_df_3 = trfp.analysis.remove_trolley_effect(tr_moment_df_3)\n",
    "# tr_corr_df_4 = trfp.analysis.remove_trolley_effect(tr_moment_df_4)\n",
    "# tr_corr_df_5 = trfp.analysis.remove_trolley_effect(tr_moment_df_5)\n",
    "# tr_corr_df_6 = trfp.analysis.remove_trolley_effect(tr_moment_df_6)\n",
    "\n",
    "tr_corr_df_1 = helper_old.trolley_footprint_replacement(tr_moment_df_1)\n",
    "tr_corr_df_2 = helper_old.trolley_footprint_replacement(tr_moment_df_2)\n",
    "tr_corr_df_3 = helper_old.trolley_footprint_replacement(tr_moment_df_3)\n",
    "tr_corr_df_4 = helper_old.trolley_footprint_replacement(tr_moment_df_4)\n",
    "tr_corr_df_5 = helper_old.trolley_footprint_replacement(tr_moment_df_5)\n",
    "tr_corr_df_6 = helper_old.trolley_footprint_replacement(tr_moment_df_6)"
   ]
  },
  {
   "cell_type": "code",
   "execution_count": 6,
   "metadata": {},
   "outputs": [
    {
     "name": "stdout",
     "output_type": "stream",
     "text": [
      "CPU times: user 1.12 s, sys: 241 ms, total: 1.36 s\n",
      "Wall time: 1.34 s\n"
     ]
    }
   ],
   "source": [
    "%%time\n",
    "\n",
    "tr_baseline_1, fp_baseline_1, baseline_time_1, summed_azimuth_1, summed_pts_1 = helper_old.trolley_run_station_average(tr_corr_df_1)\n",
    "tr_baseline_2, fp_baseline_2, baseline_time_2, summed_azimuth_2, summed_pts_2 = helper_old.trolley_run_station_average(tr_corr_df_2)\n",
    "tr_baseline_3, fp_baseline_3, baseline_time_3, summed_azimuth_3, summed_pts_3 = helper_old.trolley_run_station_average(tr_corr_df_3)\n",
    "tr_baseline_4, fp_baseline_4, baseline_time_4, summed_azimuth_4, summed_pts_4 = helper_old.trolley_run_station_average(tr_corr_df_4)\n",
    "tr_baseline_5, fp_baseline_5, baseline_time_5, summed_azimuth_5, summed_pts_5 = helper_old.trolley_run_station_average(tr_corr_df_5)\n",
    "tr_baseline_6, fp_baseline_6, baseline_time_6, summed_azimuth_6, summed_pts_6 = helper_old.trolley_run_station_average(tr_corr_df_6)"
   ]
  },
  {
   "cell_type": "code",
   "execution_count": null,
   "metadata": {
    "scrolled": false
   },
   "outputs": [],
   "source": [
    "sync_offsets, delta_t = helper.sync_offset_calc(tr_corr_df_5, tr_corr_df_6)\n",
    "\n",
    "def gaussian(x, A, x0, sigma): return A*np.exp(-(x-x0)**2/2./sigma**2)\n",
    "\n",
    "fig, axs = plt.subplots(2,3)\n",
    "for i in range(2):\n",
    "    for j in range(3):\n",
    "        st = 3*i+j\n",
    "        if st == 5: continue\n",
    "            \n",
    "        plt.sca(axs[i,j])\n",
    "        hist, bins, _ = plt.hist(sync_offsets[:,st], bins=50)\n",
    "        low, high = axs[i,j].get_xlim()\n",
    "                \n",
    "        bins = bins[0:-1] + 0.5*(bins[1]-bins[0])\n",
    "        coeffs, _ = curve_fit(gaussian, bins, hist, p0=[1., 0., 10.])\n",
    "        fit = gaussian(np.arange(low, high, 0.1), coeffs[0], coeffs[1], coeffs[2])\n",
    "        plt.plot(np.arange(low,high,0.1), fit, label=r'$\\omega_0$ = '+str(np.round(coeffs[1],1))+'\\n$\\sigma$ = '+str(np.round(coeffs[2],1)))\n",
    "        plt.legend(loc=1)\n",
    "        plt2.plt_set_labels(axs[i,j], 'sync offset (Hz)', '', 'm '+str(st+1))\n",
    "        \n",
    "        if st == 0: plt.xlim(-100,100)\n",
    "        else: plt.xlim(-50,50)\n",
    "\n",
    "\n",
    "fig.set_size_inches(12,8)\n",
    "fig.tight_layout()"
   ]
  },
  {
   "cell_type": "code",
   "execution_count": null,
   "metadata": {},
   "outputs": [],
   "source": [
    "print np.mean(sync_offsets_1[:,0])/61.79\n",
    "print np.std(sync_offsets_1[:,0])/61.79\n",
    "print np.std(sync_offsets_1[:,0])/61.79/np.sqrt(72)\n",
    "\n",
    "plt.hist(sync_offsets_1[:,0]/61.7, bins=50)"
   ]
  },
  {
   "cell_type": "code",
   "execution_count": null,
   "metadata": {},
   "outputs": [],
   "source": [
    "print np.mean(sync_offsets_1[:,0])/61.79\n",
    "print np.std(sync_offsets_1[:,0])/61.79\n",
    "print np.std(sync_offsets_1[:,0])/61.79/np.sqrt(72)\n",
    "\n",
    "plt.hist(sync_offsets_1[:,0]/61.7, bins=50)"
   ]
  },
  {
   "cell_type": "code",
   "execution_count": 7,
   "metadata": {},
   "outputs": [
    {
     "name": "stdout",
     "output_type": "stream",
     "text": [
      "CPU times: user 23.9 s, sys: 50.4 s, total: 1min 14s\n",
      "Wall time: 14 s\n"
     ]
    }
   ],
   "source": [
    "%%time\n",
    "\n",
    "vtm_df_1 = helper.vtm_calc(fp_moment_df_1,\n",
    "                           baseline_time_1, baseline_time_2,\n",
    "                           tr_baseline_1, tr_baseline_2,\n",
    "                           fp_baseline_1, fp_baseline_2)\n",
    "\n",
    "vtm_df_2 = helper.vtm_calc(fp_moment_df_2,\n",
    "                           baseline_time_3, baseline_time_4,\n",
    "                           tr_baseline_3, tr_baseline_4,\n",
    "                           fp_baseline_3, fp_baseline_4)\n",
    "\n",
    "vtm_df_3 = helper.vtm_calc(fp_moment_df_3,\n",
    "                           baseline_time_4, baseline_time_5,\n",
    "                           tr_baseline_4, tr_baseline_5,\n",
    "                           fp_baseline_4, fp_baseline_5)\n",
    "\n",
    "vtm_df_4 = helper.vtm_calc(fp_moment_df_4,\n",
    "                           baseline_time_5, baseline_time_6,\n",
    "                           tr_baseline_5, tr_baseline_6,\n",
    "                           fp_baseline_5, fp_baseline_6)"
   ]
  },
  {
   "cell_type": "code",
   "execution_count": 8,
   "metadata": {},
   "outputs": [
    {
     "name": "stdout",
     "output_type": "stream",
     "text": [
      "CPU times: user 4.3 s, sys: 4.33 s, total: 8.63 s\n",
      "Wall time: 8.58 s\n"
     ]
    }
   ],
   "source": [
    "%%time\n",
    "\n",
    "bins_1 = np.arange(1525281500, 1525540500+20, 10)-5  # bin edges\n",
    "bin_centers_1 = np.arange(1525281500, 1525540500+10, 10)\n",
    "bins_2 = np.arange(1525586000, 1525786000+20, 10)-5  # bin edges\n",
    "bin_centers_2 = np.arange(1525586000, 1525786000+10, 10)\n",
    "bins_3 = np.arange(1525797000, 1526030000+20, 10)-5  # bin edges\n",
    "bin_centers_3 = np.arange(1525797000, 1526030000+10, 10)\n",
    "bins_4 = np.arange(1526074000, 1526227000+20, 10)-5  # bin edges\n",
    "bin_centers_4 = np.arange(1526074000, 1526227000+10, 10)\n",
    "\n",
    "vtm_bin_df_1 = vtm_df_1.groupby(pd.cut(vtm_df_1.index, bins_1)).mean()\n",
    "vtm_bin_df_1.index = bin_centers_1\n",
    "vtm_bin_df_2 = vtm_df_2.groupby(pd.cut(vtm_df_2.index, bins_2)).mean()\n",
    "vtm_bin_df_2.index = bin_centers_2\n",
    "vtm_bin_df_3 = vtm_df_3.groupby(pd.cut(vtm_df_3.index, bins_3)).mean()\n",
    "vtm_bin_df_3.index = bin_centers_3\n",
    "vtm_bin_df_4 = vtm_df_4.groupby(pd.cut(vtm_df_4.index, bins_4)).mean()\n",
    "vtm_bin_df_4.index = bin_centers_4\n",
    "\n",
    "vtm_bin_df_full = vtm_bin_df_1.copy()\n",
    "vtm_bin_df_full = vtm_bin_df_full.append(vtm_bin_df_2)\n",
    "vtm_bin_df_full = vtm_bin_df_full.append(vtm_bin_df_3)\n",
    "vtm_bin_df_full = vtm_bin_df_full.append(vtm_bin_df_4)"
   ]
  },
  {
   "cell_type": "code",
   "execution_count": 9,
   "metadata": {},
   "outputs": [
    {
     "name": "stdout",
     "output_type": "stream",
     "text": [
      "CPU times: user 258 ms, sys: 2.6 s, total: 2.86 s\n",
      "Wall time: 844 ms\n"
     ]
    }
   ],
   "source": [
    "%%time\n",
    "azi_avg_df = pd.DataFrame(np.zeros((vtm_bin_df_full.shape[0],6)),\n",
    "                         index = vtm_bin_df_full.index,\n",
    "                         columns = ['m' + str(m) for m in np.arange(6)+1])\n",
    "\n",
    "for m in range(5):\n",
    "    weight = summed_azimuth_1[:, m] + summed_azimuth_2[:, m] + summed_azimuth_3[:, m]\\\n",
    "             + summed_azimuth_4[:, m] + summed_azimuth_5[:, m] + summed_azimuth_6[:, m]\n",
    "    total_weight = np.nansum(weight)\n",
    "    stm_list = ['st'+str(st)+',m'+str(m+1) for st in np.arange(72)]\n",
    "    azi_avg_df['m'+str(m+1)] = vtm_bin_df_full[stm_list].multiply(weight).sum(axis=1)/total_weight\n",
    "    \n",
    "print_df = azi_avg_df[['m1','m2','m3','m5']].copy()/61.79\n",
    "print_df['m1_err'] = -1\n",
    "print_df['m2_err'] = -1\n",
    "print_df['m3_err'] = -1\n",
    "print_df['m5_err'] = -1\n",
    "\n",
    "print_df = print_df.sort_index(axis='columns')\n",
    "# print_df.head()\n",
    "# print_df.to_csv('purcell_60hr_7-31.csv')"
   ]
  },
  {
   "cell_type": "code",
   "execution_count": 11,
   "metadata": {},
   "outputs": [
    {
     "data": {
      "text/plain": [
       "Text(0,0.5,'dipole (ppm)')"
      ]
     },
     "execution_count": 11,
     "metadata": {},
     "output_type": "execute_result"
    },
    {
     "data": {
      "image/png": "[encoded data removed]",
      "text/plain": [
       "<Figure size 864x432 with 1 Axes>"
      ]
     },
     "metadata": {
      "needs_background": "light"
     },
     "output_type": "display_data"
    }
   ],
   "source": [
    "plt.plot(print_df.index.values, print_df['m1'], '.')\n",
    "# plt.xlim((1525715000, 1525725000))\n",
    "plt.ylim(838,844)\n",
    "ax = plt.gca()\n",
    "fig = plt.gcf()\n",
    "plt2.plt_unix_time_to_CST(ax)\n",
    "\n",
    "fig.set_size_inches(12,6)\n",
    "\n",
    "ax.set_ylabel('dipole (ppm)')"
   ]
  },
  {
   "cell_type": "raw",
   "metadata": {},
   "source": [
    "plt.plot(azi_avg_df.index.values, azi_avg_df['m1'], '.')\n",
    "plt.ylim(51925,52025)\n",
    "fig = plt.gcf()\n",
    "fig.set_size_inches(12,4)\n",
    "fig.tight_layout()\n",
    "ax = plt.gca()\n",
    "plt2.plt_unix_time_to_CST(ax)"
   ]
  },
  {
   "cell_type": "code",
   "execution_count": null,
   "metadata": {},
   "outputs": [],
   "source": [
    "plt.plot(print_df.index.values, print_df['m1'], '.')"
   ]
  },
  {
   "cell_type": "code",
   "execution_count": null,
   "metadata": {},
   "outputs": [],
   "source": []
  }
 ],
 "metadata": {
  "kernelspec": {
   "display_name": "Python 2",
   "language": "python",
   "name": "python2"
  },
  "language_info": {
   "codemirror_mode": {
    "name": "ipython",
    "version": 2
   },
   "file_extension": ".py",
   "mimetype": "text/x-python",
   "name": "python",
   "nbconvert_exporter": "python",
   "pygments_lexer": "ipython2",
   "version": "2.7.14"
  }
 },
 "nbformat": 4,
 "nbformat_minor": 2
}
