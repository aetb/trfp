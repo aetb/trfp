{
 "cells": [
  {
   "cell_type": "code",
   "execution_count": 1,
   "metadata": {},
   "outputs": [
    {
     "name": "stdout",
     "output_type": "stream",
     "text": [
      "Welcome to JupyROOT 6.22/02\n"
     ]
    }
   ],
   "source": [
    "%load_ext autoreload\n",
    "%autoreload 2\n",
    "\n",
    "%matplotlib inline\n",
    "import matplotlib\n",
    "import matplotlib.pyplot as plt\n",
    "import seaborn as sns\n",
    "\n",
    "import numpy as np\n",
    "import pandas as pd\n",
    "\n",
    "from scipy.optimize import curve_fit\n",
    "\n",
    "import gm2\n",
    "import trfp\n",
    "import plotting_functions as plt2\n",
    "# import analysis_helper as helper\n",
    "# import helper_function_candidates as helper_old\n",
    "# import df_analysis_funcs as df_func\n",
    "import helper_functions as helper\n",
    "\n",
    "import field_map_config_run1 as map_config\n",
    "\n",
    "from IPython.display import clear_output\n",
    "\n",
    "pair_dict = map_config.pair_dict\n"
   ]
  },
  {
   "cell_type": "code",
   "execution_count": null,
   "metadata": {},
   "outputs": [],
   "source": [
    "runs = map_config.runs\n",
    "\n",
    "columns = [['st'+str(st)+',dt'] +  ['st'+str(st)+',m'+str(m+1) for m in range(9)] for st in range(72)]\n",
    "columns = [item for sublist in columns for item in sublist]\n",
    "\n",
    "sync_offset_df = pd.DataFrame(columns=columns)\n",
    "\n",
    "for run in runs:\n",
    "    for pair in pair_dict[run]:\n",
    "\n",
    "        file_name = 'hdf5/2020-09-30_run_'+run+'.h5'\n",
    "        keys = pair_dict[run][pair]\n",
    "\n",
    "        tr_dfs = {}\n",
    "\n",
    "        tr_dfs[keys[0]] = pd.read_hdf(file_name, key=keys[0])\n",
    "        tr_dfs[keys[1]] = pd.read_hdf(file_name, key=keys[1])\n",
    "\n",
    "        tr_dfs = helper.interp_to_moment(tr_dfs, keys=keys)\n",
    "        tr_dfs = helper.moment_to_corrected(tr_dfs, keys=keys)\n",
    "\n",
    "        tr_hybrid_dfs = helper.bloch_style_moments(tr_dfs, keys=keys)\n",
    "\n",
    "        sync_offsets, delta_time = helper.sync_offset_calc(tr_dfs[keys[0]], tr_dfs[keys[1]])\n",
    "        row = {}\n",
    "\n",
    "        for st in range(72):\n",
    "            for m in range(9):\n",
    "                row['st'+str(st)+',m'+str(m+1)] = sync_offsets[st,m]\n",
    "            row['st'+str(st)+',dt'] = delta_time[st]\n",
    "        \n",
    "        sync_offset_df = sync_offset_df.append(pd.DataFrame(row, index=['run_'+run+pair[6]]))\n",
    "\n",
    "        clear_output()\n",
    "        print 'Done with run '+run+pair[6]\n",
    "        \n",
    "sync_offset_df = sync_offset_df[columns]\n",
    "sync_offset_df = sync_offset_df.sort_index()"
   ]
  },
  {
   "cell_type": "code",
   "execution_count": null,
   "metadata": {},
   "outputs": [],
   "source": [
    "sync_offset_df.to_hdf('/data2/aetb/2020-09-30_hybrid_sync_offset_df.h5', key='sync_offset_df')"
   ]
  },
  {
   "cell_type": "code",
   "execution_count": null,
   "metadata": {},
   "outputs": [],
   "source": []
  },
  {
   "cell_type": "code",
   "execution_count": 10,
   "metadata": {},
   "outputs": [],
   "source": [
    "sync_offset_df = pd.read_hdf('/data2/aetb/2020-09-30_hybrid_sync_offset_df.h5', key='sync_offset_df')\n",
    "sync_offset_df = sync_offset_df.iloc[0:-1]"
   ]
  },
  {
   "cell_type": "code",
   "execution_count": 61,
   "metadata": {},
   "outputs": [],
   "source": [
    "# calculate rates\n",
    "\n",
    "# assume a constant random walk rate across all stations and runs\n",
    "\n",
    "rates = np.empty((792,9))\n",
    "                 \n",
    "for m in range(9):\n",
    "    _ = np.array([])\n",
    "    for st in range(72):\n",
    "        _ = np.append(_, (sync_offset_df['st'+str(st)+',m'+str(m+1)]/sync_offset_df['st'+str(st)+',dt']**0.5).values)\n",
    "    rates[:,m] = _"
   ]
  },
  {
   "cell_type": "code",
   "execution_count": 79,
   "metadata": {},
   "outputs": [
    {
     "name": "stdout",
     "output_type": "stream",
     "text": [
      "[4.56668293e-03 2.39702431e-04 2.23624253e-04 1.06138686e-04\n",
      " 3.40662192e-04 3.02648014e-05 7.69850642e-05 4.63122653e-05\n",
      " 9.34178986e-05]\n"
     ]
    },
    {
     "data": {
      "text/plain": [
       "[<matplotlib.lines.Line2D at 0x7f361df70550>]"
      ]
     },
     "execution_count": 79,
     "metadata": {},
     "output_type": "execute_result"
    },
    {
     "data": {
      "image/png": "[encoded data removed]",
      "text/plain": [
       "<Figure size 432x288 with 1 Axes>"
      ]
     },
     "metadata": {
      "needs_background": "light"
     },
     "output_type": "display_data"
    }
   ],
   "source": [
    "drift_rates = np.empty(9)\n",
    "\n",
    "for m in range(9):\n",
    "    counts, bins = np.histogram(rates[:,m], bins=50)\n",
    "    bins = (bins[:-1]+bins[1:])/2\n",
    "    p, cov = curve_fit(lambda x,A,s,x0: A*np.exp(-(x-x0)**2/s**2),  bins,  counts,  p0=(170, 0.1, 0))\n",
    "\n",
    "    drift_rates[m] = p[1]**2\n",
    "\n",
    "print drift_rates  ## in Hz^2/sec\n",
    "\n",
    "plt.semilogy(drift_rates, '.')"
   ]
  },
  {
   "cell_type": "code",
   "execution_count": 73,
   "metadata": {},
   "outputs": [
    {
     "name": "stdout",
     "output_type": "stream",
     "text": [
      "[ 1.74434821e+02  6.75772368e-02 -2.63667341e-04]\n",
      "\n",
      "[[ 2.14340815e+01 -5.53597720e-03 -4.89423107e-09]\n",
      " [-5.53597720e-03  4.28948272e-06  1.99798384e-12]\n",
      " [-4.89423107e-09  1.99798384e-12  2.14473638e-06]]\n",
      "0.0045666829319112095\n",
      "0.047018003710265786\n",
      "0.005541124876897199\n"
     ]
    },
    {
     "data": {
      "image/png": "[encoded data removed]",
      "text/plain": [
       "<Figure size 432x288 with 1 Axes>"
      ]
     },
     "metadata": {
      "needs_background": "light"
     },
     "output_type": "display_data"
    }
   ],
   "source": [
    "m = 0\n",
    "\n",
    "counts, bins, _ = plt.hist(rates[:,m], bins=50)\n",
    "\n",
    "bins = (bins[:-1]+bins[1:])/2\n",
    "\n",
    "p, cov = curve_fit(lambda x,A,s,x0: A*np.exp(-(x-x0)**2/s**2),  bins,  counts,  p0=(170, 0.1, 0))\n",
    "print p\n",
    "print\n",
    "print cov\n",
    "\n",
    "plt.plot(bins, p[0]*np.exp(-(bins - p[2])**2/p[1]**2))\n",
    "\n",
    "print p[1]**2\n",
    "print np.std(rates[:,m]**2)\n",
    "\n",
    "print np.std(rates[:,m]**2)/np.sqrt(72)"
   ]
  },
  {
   "cell_type": "code",
   "execution_count": 65,
   "metadata": {},
   "outputs": [
    {
     "name": "stdout",
     "output_type": "stream",
     "text": [
      "[ 1.74434821e+02  6.75772368e-02 -2.63667341e-04]\n",
      "\n",
      "[[ 2.14340815e+01 -5.53597720e-03 -4.89423107e-09]\n",
      " [-5.53597720e-03  4.28948272e-06  1.99798384e-12]\n",
      " [-4.89423107e-09  1.99798384e-12  2.14473638e-06]]\n"
     ]
    }
   ],
   "source": [
    "p, cov = curve_fit(lambda x,A,s,x0: A*np.exp(-(x-x0)**2/s**2),  bins,  counts,  p0=(170, 0.1, 0))\n",
    "print p\n",
    "print\n",
    "print cov"
   ]
  },
  {
   "cell_type": "code",
   "execution_count": 57,
   "metadata": {},
   "outputs": [
    {
     "data": {
      "text/plain": [
       "(0, 0.1)"
      ]
     },
     "execution_count": 57,
     "metadata": {},
     "output_type": "execute_result"
    },
    {
     "data": {
      "image/png": "[encoded data removed]",
      "text/plain": [
       "<Figure size 432x288 with 1 Axes>"
      ]
     },
     "metadata": {
      "needs_background": "light"
     },
     "output_type": "display_data"
    }
   ],
   "source": [
    "plt.plot(bins, counts, '.')\n",
    "plt.plot(bins, p[0]*np.exp(p[1]*bins))\n",
    "plt.xlim([0,0.1])"
   ]
  },
  {
   "cell_type": "code",
   "execution_count": 58,
   "metadata": {},
   "outputs": [
    {
     "data": {
      "text/plain": [
       "0.00606126059704329"
      ]
     },
     "execution_count": 58,
     "metadata": {},
     "output_type": "execute_result"
    }
   ],
   "source": [
    "-1./p[1]"
   ]
  },
  {
   "cell_type": "code",
   "execution_count": null,
   "metadata": {},
   "outputs": [],
   "source": []
  }
 ],
 "metadata": {
  "kernelspec": {
   "display_name": "Python 2",
   "language": "python",
   "name": "python2"
  },
  "language_info": {
   "codemirror_mode": {
    "name": "ipython",
    "version": 2
   },
   "file_extension": ".py",
   "mimetype": "text/x-python",
   "name": "python",
   "nbconvert_exporter": "python",
   "pygments_lexer": "ipython2",
   "version": "2.7.5"
  }
 },
 "nbformat": 4,
 "nbformat_minor": 2
}
