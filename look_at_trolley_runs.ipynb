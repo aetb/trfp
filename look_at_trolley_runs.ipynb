{
 "cells": [
  {
   "cell_type": "code",
   "execution_count": 1,
   "metadata": {},
   "outputs": [
    {
     "name": "stdout",
     "output_type": "stream",
     "text": [
      "Welcome to JupyROOT 6.22/02\n"
     ]
    }
   ],
   "source": [
    "%load_ext autoreload\n",
    "%autoreload 2\n",
    "\n",
    "%matplotlib inline\n",
    "import matplotlib\n",
    "import matplotlib.pyplot as plt\n",
    "import seaborn as sns\n",
    "\n",
    "import numpy as np\n",
    "import pandas as pd\n",
    "\n",
    "from scipy.optimize import curve_fit\n",
    "\n",
    "import gm2\n",
    "import trfp\n",
    "import plotting_functions as plt2\n",
    "# import analysis_helper as helper\n",
    "# import helper_function_candidates as helper_old\n",
    "# import df_analysis_funcs as df_func\n",
    "import helper_functions as helper\n",
    "\n",
    "import field_map_config_run1 as map_config\n",
    "\n",
    "from IPython.display import clear_output\n",
    "\n",
    "# blinds = np.loadtxt('blinds.txt')\n",
    "pair_dict = map_config.pair_dict"
   ]
  },
  {
   "cell_type": "code",
   "execution_count": 16,
   "metadata": {},
   "outputs": [
    {
     "name": "stdout",
     "output_type": "stream",
     "text": [
      "1a\n",
      "\n",
      "Finished calculating all moments for 4386 events.\n",
      "Finished calculating all moments for 4363 events.     Calculating trolley moments.    \n",
      "Removing trolley image from station 71.              1b\n",
      "\n",
      "Finished calculating all moments for 4351 events.\n",
      "Finished calculating all moments for 4372 events.    Calculating trolley moments.    \n",
      "Finished calculating all moments for 4372 events.    Calculating trolley moments.    \n",
      "Finished calculating all moments for 4344 events.    Calculating trolley moments.    \n",
      "Removing trolley image from station 71.              1c\n",
      "\n",
      "Finished calculating all moments for 5015 events.\n",
      "Finished calculating all moments for 4356 events.    Calculating trolley moments.    \n",
      "Finished calculating all moments for 4344 events.    Calculating trolley moments.    \n",
      "Finished calculating all moments for 4357 events.    Calculating trolley moments.    \n",
      "Finished calculating all moments for 4360 events.    Calculating trolley moments.    \n",
      "Finished calculating all moments for 5015 events.    Calculating trolley moments.    \n",
      "Finished calculating all moments for 4359 events.    Calculating trolley moments.    \n",
      "Finished calculating all moments for 4210 events.    Calculating trolley moments.    \n",
      "Removing trolley image from station 71.              1d\n",
      "\n",
      "Finished calculating all moments for 4350 events.\n",
      "Finished calculating all moments for 4394 events.    Calculating trolley moments.    \n",
      "Finished calculating all moments for 4345 events.    Calculating trolley moments.    \n",
      "Finished calculating all moments for 4350 events.    Calculating trolley moments.    \n",
      "Finished calculating all moments for 4394 events.    Calculating trolley moments.    \n",
      "Finished calculating all moments for 4394 events.    Calculating trolley moments.    \n",
      "Finished calculating all moments for 4350 events.    Calculating trolley moments.    \n",
      "Finished calculating all moments for 4371 events.   Calculating trolley moments.    \n",
      "Finished calculating all moments for 4914 events.    Calculating trolley moments.    \n",
      "Finished calculating all moments for 4391 events.    Calculating trolley moments.    \n",
      "Removing trolley image from station 71.             \n"
     ]
    }
   ],
   "source": [
    "runs = ['1a', '1b', '1c', '1d']\n",
    "\n",
    "weight = trfp.STATION_BARCODE_EDGES[1:] - trfp.STATION_BARCODE_EDGES[:-1]\n",
    "weight[2] = weight[2] + 360\n",
    "\n",
    "tr_baselines = {}\n",
    "fp_baselines = {}\n",
    "\n",
    "for run in runs:\n",
    "    print run\n",
    "    print\n",
    "    for pair in pair_dict[run]:\n",
    "        for tr_run in pair_dict[run][pair]:\n",
    "      \n",
    "            filename = 'hdf5/2020-09-30_run_' + run + '.h5'\n",
    "            interp_df = pd.read_hdf(filename, key=tr_run)\n",
    "            moment_df = helper.calc_moment_df(interp_df)\n",
    "            corrected_df = helper.trolley_footprint_replacement(moment_df)\n",
    "            tr_baseline, fp_baseline, baseline_time, _, _ = helper.trolley_run_station_average(corrected_df)\n",
    "\n",
    "            tr_baselines[run+', '+tr_run] = np.dot(tr_baseline[:,0], weight)/360\n",
    "            fp_baselines[run+', '+tr_run] = np.dot(fp_baseline[:,0], weight)/360"
   ]
  },
  {
   "cell_type": "code",
   "execution_count": 17,
   "metadata": {},
   "outputs": [
    {
     "name": "stdout",
     "output_type": "stream",
     "text": [
      "{'1d, tr_df_2': 51999.51517337401, '1c, tr_df_2': 51829.6060499071, '1d, tr_df_4': 52024.42258319729, '1d, tr_df_5': 51993.718401213446, '1d, tr_df_6': 52030.736340660624, '1d, tr_df_7': 51991.398376989404, '1b, tr_df_2': 51944.44313446138, '1b, tr_df_3': 51882.65848630469, '1c, tr_df_3': 51887.02978739745, '1b, tr_df_1': 51940.37307318089, '1c, tr_df_5': 51824.69952623155, '1c, tr_df_4': 51844.822798146546, '1c, tr_df_6': 51840.105021793956, '1c, tr_df_1': 51882.65848630469, '1d, tr_df_3': 52041.49519165436, '1d, tr_df_9': 52015.847388858754, '1a, tr_df_2': 51851.37713569902, '1a, tr_df_1': 51908.82129699367, '1d, tr_df_8': 52015.847388858754, '1c, tr_df_4a': 51845.59820072916}\n"
     ]
    }
   ],
   "source": [
    "print tr_baselines"
   ]
  },
  {
   "cell_type": "code",
   "execution_count": 19,
   "metadata": {},
   "outputs": [
    {
     "name": "stdout",
     "output_type": "stream",
     "text": [
      "1d, tr_df_2:\t51999.51517337401\n",
      "1c, tr_df_2:\t51829.6060499071\n",
      "1d, tr_df_4:\t52024.42258319729\n",
      "1d, tr_df_5:\t51993.718401213446\n",
      "1d, tr_df_6:\t52030.736340660624\n",
      "1d, tr_df_7:\t51991.398376989404\n",
      "1b, tr_df_2:\t51944.44313446138\n",
      "1b, tr_df_3:\t51882.65848630469\n",
      "1c, tr_df_3:\t51887.02978739745\n",
      "1b, tr_df_1:\t51940.37307318089\n",
      "1c, tr_df_5:\t51824.69952623155\n",
      "1c, tr_df_4:\t51844.822798146546\n",
      "1c, tr_df_6:\t51840.105021793956\n",
      "1c, tr_df_1:\t51882.65848630469\n",
      "1d, tr_df_3:\t52041.49519165436\n",
      "1d, tr_df_9:\t52015.847388858754\n",
      "1a, tr_df_2:\t51851.37713569902\n",
      "1a, tr_df_1:\t51908.82129699367\n",
      "1d, tr_df_8:\t52015.847388858754\n",
      "1c, tr_df_4a:\t51845.59820072916\n"
     ]
    }
   ],
   "source": [
    "for item in tr_baselines:\n",
    "    print item + ':\\t' + str(tr_baselines[item])"
   ]
  },
  {
   "cell_type": "code",
   "execution_count": 20,
   "metadata": {},
   "outputs": [
    {
     "name": "stdout",
     "output_type": "stream",
     "text": [
      "{'fp_df_5': ['tr_df_7', 'tr_df_8'], 'fp_df_4': ['tr_df_6', 'tr_df_7'], 'fp_df_6': ['tr_df_8', 'tr_df_9'], 'fp_df_3': ['tr_df_4', 'tr_df_5'], 'fp_df_2': ['tr_df_2', 'tr_df_3']}\n"
     ]
    }
   ],
   "source": [
    "print pair_dict['1d']"
   ]
  },
  {
   "cell_type": "code",
   "execution_count": 21,
   "metadata": {},
   "outputs": [
    {
     "name": "stdout",
     "output_type": "stream",
     "text": [
      "1d, tr_df_2:\t53244.667722514314\n",
      "1c, tr_df_2:\t53062.28220820584\n",
      "1d, tr_df_4:\t53239.31881038638\n",
      "1d, tr_df_5:\t53224.94294645846\n",
      "1d, tr_df_6:\t53262.934237353045\n",
      "1d, tr_df_7:\t53235.434775915615\n",
      "1b, tr_df_2:\t53152.608511816936\n",
      "1b, tr_df_3:\t53107.365900008735\n",
      "1c, tr_df_3:\t53102.55062876909\n",
      "1b, tr_df_1:\t53139.04560523031\n",
      "1c, tr_df_5:\t53064.59398814324\n",
      "1c, tr_df_4:\t53076.427998437255\n",
      "1c, tr_df_6:\t53070.47941527518\n",
      "1c, tr_df_1:\t53107.365900008735\n",
      "1d, tr_df_3:\t53284.0107527113\n",
      "1d, tr_df_9:\t53256.40163597506\n",
      "1a, tr_df_2:\t53095.253401266295\n",
      "1a, tr_df_1:\t53135.63249870096\n",
      "1d, tr_df_8:\t53256.40163597506\n",
      "1c, tr_df_4a:\t53067.32295571942\n"
     ]
    }
   ],
   "source": [
    "for item in fp_baselines:\n",
    "    print item + ':\\t' + str(fp_baselines[item])"
   ]
  },
  {
   "cell_type": "code",
   "execution_count": null,
   "metadata": {},
   "outputs": [],
   "source": []
  }
 ],
 "metadata": {
  "kernelspec": {
   "display_name": "Python 2",
   "language": "python",
   "name": "python2"
  },
  "language_info": {
   "codemirror_mode": {
    "name": "ipython",
    "version": 2
   },
   "file_extension": ".py",
   "mimetype": "text/x-python",
   "name": "python",
   "nbconvert_exporter": "python",
   "pygments_lexer": "ipython2",
   "version": "2.7.5"
  }
 },
 "nbformat": 4,
 "nbformat_minor": 2
}
