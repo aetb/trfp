{
 "cells": [
  {
   "cell_type": "code",
   "execution_count": 1,
   "metadata": {},
   "outputs": [],
   "source": [
    "import csv,datetime,time\n",
    "import numpy as np\n",
    "import matplotlib.mlab as mlab\n",
    "import matplotlib.pyplot as plt\n",
    "import math\n",
    "import matplotlib.dates as mdate\n",
    "import psycopg2\n",
    "import sys\n",
    "\n",
    "import pandas as pd\n",
    "\n",
    "import plotting_functions as plt2\n"
   ]
  },
  {
   "cell_type": "code",
   "execution_count": 2,
   "metadata": {},
   "outputs": [],
   "source": [
    "dsn  = \"dbname=gm2_online_prod user=gm2_reader host=g2db-priv port=5433\"\n",
    "conn = psycopg2.connect(dsn)\n",
    "curr = conn.cursor()\n"
   ]
  },
  {
   "cell_type": "code",
   "execution_count": 3,
   "metadata": {},
   "outputs": [],
   "source": [
    "# choose data set\n",
    "\n",
    "start_run = 15921  # 60 hr\n",
    "end_run = 15992"
   ]
  },
  {
   "cell_type": "code",
   "execution_count": 4,
   "metadata": {},
   "outputs": [
    {
     "name": "stdout",
     "output_type": "stream",
     "text": [
      "(27311, 6)\n"
     ]
    }
   ],
   "source": [
    "# get times by subrun\n",
    "\n",
    "subrun_time_columns = ['run', 'subrun', 'start_time', 'end_time', 'start_gps', 'end_gps']\n",
    "\n",
    "sql = \"select \"+\", \".join(subrun_time_columns)+\" from gm2dq.subrun_time where run >= %i and run <= %i order by run, subrun\" % (start_run, end_run)\n",
    "\n",
    "curr.execute(sql)\n",
    "conn.commit()\n",
    "subrun_time = curr.fetchall()\n",
    "\n",
    "subrun_time_df = pd.DataFrame(subrun_time, columns=subrun_time_columns)\n",
    "\n",
    "print subrun_time_df.shape"
   ]
  },
  {
   "cell_type": "code",
   "execution_count": 5,
   "metadata": {},
   "outputs": [
    {
     "data": {
      "text/html": [
       "<div>\n",
       "<style scoped>\n",
       "    .dataframe tbody tr th:only-of-type {\n",
       "        vertical-align: middle;\n",
       "    }\n",
       "\n",
       "    .dataframe tbody tr th {\n",
       "        vertical-align: top;\n",
       "    }\n",
       "\n",
       "    .dataframe thead th {\n",
       "        text-align: right;\n",
       "    }\n",
       "</style>\n",
       "<table border=\"1\" class=\"dataframe\">\n",
       "  <thead>\n",
       "    <tr style=\"text-align: right;\">\n",
       "      <th></th>\n",
       "      <th>run</th>\n",
       "      <th>subrun</th>\n",
       "      <th>start_time</th>\n",
       "      <th>end_time</th>\n",
       "      <th>start_gps</th>\n",
       "      <th>end_gps</th>\n",
       "    </tr>\n",
       "  </thead>\n",
       "  <tbody>\n",
       "    <tr>\n",
       "      <th>0</th>\n",
       "      <td>15921</td>\n",
       "      <td>0</td>\n",
       "      <td>2018-04-22 13:14:00</td>\n",
       "      <td>2018-04-22 13:14:34</td>\n",
       "      <td>2018-04-22 13:14:24.326720</td>\n",
       "      <td>2018-04-22 13:14:32.777180</td>\n",
       "    </tr>\n",
       "    <tr>\n",
       "      <th>1</th>\n",
       "      <td>15921</td>\n",
       "      <td>1</td>\n",
       "      <td>2018-04-22 13:14:36</td>\n",
       "      <td>2018-04-22 13:14:43</td>\n",
       "      <td>2018-04-22 13:14:32.787180</td>\n",
       "      <td>2018-04-22 13:14:41.414020</td>\n",
       "    </tr>\n",
       "    <tr>\n",
       "      <th>2</th>\n",
       "      <td>15921</td>\n",
       "      <td>2</td>\n",
       "      <td>2018-04-22 13:14:44</td>\n",
       "      <td>2018-04-22 13:14:52</td>\n",
       "      <td>2018-04-22 13:14:41.424020</td>\n",
       "      <td>2018-04-22 13:14:49.864100</td>\n",
       "    </tr>\n",
       "    <tr>\n",
       "      <th>3</th>\n",
       "      <td>15921</td>\n",
       "      <td>3</td>\n",
       "      <td>2018-04-22 13:14:53</td>\n",
       "      <td>2018-04-22 13:15:00</td>\n",
       "      <td>2018-04-22 13:14:50.927420</td>\n",
       "      <td>2018-04-22 13:14:59.377630</td>\n",
       "    </tr>\n",
       "    <tr>\n",
       "      <th>4</th>\n",
       "      <td>15921</td>\n",
       "      <td>4</td>\n",
       "      <td>2018-04-22 13:15:02</td>\n",
       "      <td>2018-04-22 13:15:19</td>\n",
       "      <td>2018-04-22 13:14:59.387640</td>\n",
       "      <td>2018-04-22 13:15:17.694490</td>\n",
       "    </tr>\n",
       "  </tbody>\n",
       "</table>\n",
       "</div>"
      ],
      "text/plain": [
       "     run  subrun          start_time            end_time  \\\n",
       "0  15921       0 2018-04-22 13:14:00 2018-04-22 13:14:34   \n",
       "1  15921       1 2018-04-22 13:14:36 2018-04-22 13:14:43   \n",
       "2  15921       2 2018-04-22 13:14:44 2018-04-22 13:14:52   \n",
       "3  15921       3 2018-04-22 13:14:53 2018-04-22 13:15:00   \n",
       "4  15921       4 2018-04-22 13:15:02 2018-04-22 13:15:19   \n",
       "\n",
       "                   start_gps                    end_gps  \n",
       "0 2018-04-22 13:14:24.326720 2018-04-22 13:14:32.777180  \n",
       "1 2018-04-22 13:14:32.787180 2018-04-22 13:14:41.414020  \n",
       "2 2018-04-22 13:14:41.424020 2018-04-22 13:14:49.864100  \n",
       "3 2018-04-22 13:14:50.927420 2018-04-22 13:14:59.377630  \n",
       "4 2018-04-22 13:14:59.387640 2018-04-22 13:15:17.694490  "
      ]
     },
     "execution_count": 5,
     "metadata": {},
     "output_type": "execute_result"
    }
   ],
   "source": [
    "subrun_time_df.head()"
   ]
  },
  {
   "cell_type": "code",
   "execution_count": 5,
   "metadata": {},
   "outputs": [
    {
     "name": "stdout",
     "output_type": "stream",
     "text": [
      "(27275, 5)\n"
     ]
    }
   ],
   "source": [
    "# get ctags by subruns\n",
    "\n",
    "ctagswithdqc_columns = ['run', 'subrun', 'ctags', 't0val', 'fills']\n",
    "\n",
    "sql = \"select \"+\", \".join(ctagswithdqc_columns)+\" from gm2dq.ctagswithdqc where run >= %i and run <= %i order by run, subrun\" % (start_run, end_run)\n",
    "\n",
    "curr.execute(sql)\n",
    "conn.commit()\n",
    "ctagswithdqc = curr.fetchall()\n",
    "\n",
    "ctagswithdqc_df = pd.DataFrame(ctagswithdqc, columns=ctagswithdqc_columns)\n",
    "\n",
    "print ctagswithdqc_df.shape"
   ]
  },
  {
   "cell_type": "code",
   "execution_count": 6,
   "metadata": {},
   "outputs": [
    {
     "name": "stdout",
     "output_type": "stream",
     "text": [
      "(27311, 16)\n"
     ]
    }
   ],
   "source": [
    "# get subrun status database\n",
    "\n",
    "subrun_status_columns = ['run', 'subrun', 'quad_condition', 'kicker_condition', 'quad_ok',\n",
    "                         'ctags_ok', 'losses_ok', 'fillcuts_ok', 'field_ok', 'trolley_period', 'field_period',\n",
    "                         'ctags_loose_ok', 'quad_loose_ok', 'ctags_repeat_ok', 'losses_repeat_ok', 'fillcuts_repeat_ok']\n",
    "\n",
    "sql = \"select \"+\", \".join(subrun_status_columns)+\" from gm2dq.subrun_status where run >= %i and run <= %i order by run, subrun\" % (start_run, end_run)\n",
    "\n",
    "curr.execute(sql)\n",
    "conn.commit()\n",
    "subrun_status = curr.fetchall()\n",
    "\n",
    "subrun_status_df = pd.DataFrame(subrun_status, columns=subrun_status_columns)\n",
    "\n",
    "print subrun_status_df.shape"
   ]
  },
  {
   "cell_type": "code",
   "execution_count": 7,
   "metadata": {},
   "outputs": [
    {
     "name": "stdout",
     "output_type": "stream",
     "text": [
      "(27275, 24)\n"
     ]
    },
    {
     "name": "stderr",
     "output_type": "stream",
     "text": [
      "/home/aetb/.local/lib/python2.7/site-packages/pandas/core/generic.py:1996: PerformanceWarning: \n",
      "your performance may suffer as PyTables will pickle object types that it cannot\n",
      "map directly to c-types [inferred_type->mixed,key->block3_values] [items->['quad_condition', 'kicker_condition', 'field_ok', 'quad_loose_ok', 'ctags_repeat_ok', 'losses_repeat_ok', 'fillcuts_repeat_ok']]\n",
      "\n",
      "  return pytables.to_hdf(path_or_buf, key, self, **kwargs)\n"
     ]
    }
   ],
   "source": [
    "# merge times, ctags, status into one subrun dataframe\n",
    "\n",
    "subrun_df = pd.merge(subrun_time_df, ctagswithdqc_df)\n",
    "subrun_df = pd.merge(subrun_df, subrun_status_df)\n",
    "subrun_df['ok'] = subrun_df['quad_ok'] & subrun_df['ctags_ok'] & subrun_df['losses_ok'] & subrun_df['fillcuts_ok'] & subrun_df['field_ok']\n",
    "\n",
    "subrun_df['start_time'] = subrun_df['start_time'].astype(np.int64)/1e9 + 5*60*60\n",
    "subrun_df['end_time'] = subrun_df['end_time'].astype(np.int64)/1e9 + 5*60*60\n",
    "subrun_df['start_gps'] = subrun_df['start_gps'].astype(np.int64)/1.0e9 + 5*60*60\n",
    "subrun_df['end_gps'] = subrun_df['end_gps'].astype(np.int64)/1.0e9 + 5*60*60\n",
    "\n",
    "subrun_df.to_hdf('60hr_subrun.h5', key='ctag')\n",
    "\n",
    "print subrun_df.shape"
   ]
  },
  {
   "cell_type": "code",
   "execution_count": null,
   "metadata": {},
   "outputs": [],
   "source": [
    "print subrun_df['start_gps'].iloc[16]\n",
    "print subrun_df['start_time'].iloc[16]"
   ]
  },
  {
   "cell_type": "code",
   "execution_count": null,
   "metadata": {},
   "outputs": [],
   "source": [
    "subrun_df[subrun_df['ok']==True].head()"
   ]
  },
  {
   "cell_type": "code",
   "execution_count": null,
   "metadata": {},
   "outputs": [],
   "source": [
    "fig, ax = plt.subplots()\n",
    "ax.plot(times,ctags,marker=\"o\",linewidth=0,color=\"green\",markeredgewidth=0)\n",
    "date_fmt = '%d-%b\\n%H:%M'\n",
    "date_formatter = mdate.DateFormatter(date_fmt)\n",
    "hours = mdate.HourLocator(interval = 12)\n",
    "ax.xaxis.set_major_locator(hours)\n",
    "ax.xaxis.set_major_formatter(date_formatter)\n",
    "ax.set_ylabel(\"# CTAGs\")\n",
    "ax.set_title(\"CTags in 60Hr dataset\")\n",
    "fig.autofmt_xdate()\n",
    "# plt.savefig(\"ctag_60Hr.png\")"
   ]
  },
  {
   "cell_type": "code",
   "execution_count": null,
   "metadata": {},
   "outputs": [],
   "source": []
  },
  {
   "cell_type": "code",
   "execution_count": null,
   "metadata": {},
   "outputs": [],
   "source": []
  },
  {
   "cell_type": "code",
   "execution_count": null,
   "metadata": {},
   "outputs": [],
   "source": []
  },
  {
   "cell_type": "code",
   "execution_count": null,
   "metadata": {},
   "outputs": [],
   "source": []
  },
  {
   "cell_type": "code",
   "execution_count": null,
   "metadata": {},
   "outputs": [],
   "source": [
    "# get database entries for ctags from DQM\n",
    "\n",
    "start_time = \"2018-04-22 00:00:00\"\n",
    "end_time   = \"2018-04-22 23:59:59\"\n",
    "\n",
    "sql = \"select * from gm2ctag_dqm where time >= '%s' and time <= '%s' order by time DESC\" % (start_time, end_time)\n",
    "\n",
    "curr.execute(sql)\n",
    "conn.commit()\n",
    "ctag_dqm = curr.fetchall()\n",
    "\n",
    "ctag_dqm = np.array(ctag_dqm)\n",
    "\n",
    "for row in ctag_dqm:\n",
    "    row[0] = time.mktime(row[0].timetuple())\n",
    "    \n",
    "ctag_dqm = ctag_dqm[ctag_dqm[:,0].argsort()]\n",
    "\n",
    "# plt.plot(ctag_dqm[:,0], ctag_dqm[:,1], '.')"
   ]
  },
  {
   "cell_type": "code",
   "execution_count": null,
   "metadata": {},
   "outputs": [],
   "source": []
  }
 ],
 "metadata": {
  "kernelspec": {
   "display_name": "Python 2",
   "language": "python",
   "name": "python2"
  },
  "language_info": {
   "codemirror_mode": {
    "name": "ipython",
    "version": 2
   },
   "file_extension": ".py",
   "mimetype": "text/x-python",
   "name": "python",
   "nbconvert_exporter": "python",
   "pygments_lexer": "ipython2",
   "version": "2.7.14"
  }
 },
 "nbformat": 4,
 "nbformat_minor": 2
}
