{
 "cells": [
  {
   "cell_type": "code",
   "execution_count": 1,
   "metadata": {},
   "outputs": [
    {
     "name": "stdout",
     "output_type": "stream",
     "text": [
      "Welcome to JupyROOT 6.12/04\n"
     ]
    }
   ],
   "source": [
    "%load_ext autoreload\n",
    "%autoreload 2\n",
    "\n",
    "%matplotlib inline\n",
    "import matplotlib\n",
    "import matplotlib.pyplot as plt\n",
    "import seaborn as sns\n",
    "\n",
    "import numpy as np\n",
    "import pandas as pd\n",
    "from scipy.optimize import curve_fit\n",
    "import scipy\n",
    "\n",
    "import gm2\n",
    "import trfp\n",
    "import plotting_functions as plt2\n",
    "import analysis_helper as helper\n",
    "import helper_function_candidates as helper_old\n",
    "\n",
    "import mu_avg.mu_avg as mu_avg"
   ]
  },
  {
   "cell_type": "markdown",
   "metadata": {},
   "source": [
    "# Load data, calculate vtms"
   ]
  },
  {
   "cell_type": "code",
   "execution_count": 2,
   "metadata": {},
   "outputs": [
    {
     "name": "stdout",
     "output_type": "stream",
     "text": [
      "CPU times: user 191 ms, sys: 465 ms, total: 656 ms\n",
      "Wall time: 7.35 s\n"
     ]
    }
   ],
   "source": [
    "%%time\n",
    "# fp_interp_df = helper.root_to_pandas(range(3959,3995), prefix='data1/newg2/DataProduction/Offline/ArtTFSDir/v9_20_00/FieldPlainRootOutput_', tr_run=False)\n",
    "# tr_interp_df_1 = helper.root_to_pandas([3956], prefix='data1/newg2/DataProduction/Offline/ArtTFSDir/v9_20_00/FieldPlainRootOutput_', tr_run=True)\n",
    "# tr_interp_df_2 = helper.root_to_pandas([3997], prefix='data1/newg2/DataProduction/Offline/ArtTFSDir/v9_20_00/FieldPlainRootOutput_', tr_run=True)\n",
    "\n",
    "filename = 'hdf5/60hr.h5'\n",
    "\n",
    "fp_interp_df = pd.read_hdf(filename, key='fp_df_1')\n",
    "tr_interp_df_1 = pd.read_hdf(filename, key='tr_df_1')\n",
    "tr_interp_df_2 = pd.read_hdf(filename, key='tr_df_2')"
   ]
  },
  {
   "cell_type": "code",
   "execution_count": 3,
   "metadata": {},
   "outputs": [
    {
     "name": "stdout",
     "output_type": "stream",
     "text": [
      "Finished calculating all moments for 257281 events.         \n",
      "Finished calculating all moments for 4386 events.\n",
      "Finished calculating all moments for 4363 events.\n",
      "CPU times: user 18.4 s, sys: 46.4 s, total: 1min 4s\n",
      "Wall time: 16.9 s\n"
     ]
    }
   ],
   "source": [
    "%%time\n",
    "fp_moment_df = helper.calc_moment_df(fp_interp_df)\n",
    "tr_moment_df_1 = helper.calc_moment_df(tr_interp_df_1)\n",
    "tr_moment_df_2 = helper.calc_moment_df(tr_interp_df_2)"
   ]
  },
  {
   "cell_type": "code",
   "execution_count": 4,
   "metadata": {},
   "outputs": [
    {
     "name": "stdout",
     "output_type": "stream",
     "text": [
      "Removing trolley image from station 71.                                                       CPU times: user 7.92 s, sys: 4.83 s, total: 12.8 s\n",
      "Wall time: 6.32 s\n",
      "\n"
     ]
    }
   ],
   "source": [
    "%%time\n",
    "tr_corr_df_1 = helper_old.trolley_footprint_replacement(tr_moment_df_1)\n",
    "tr_corr_df_2 = helper_old.trolley_footprint_replacement(tr_moment_df_2)"
   ]
  },
  {
   "cell_type": "markdown",
   "metadata": {
    "heading_collapsed": true
   },
   "source": [
    "### aside for sync offset"
   ]
  },
  {
   "cell_type": "code",
   "execution_count": null,
   "metadata": {
    "hidden": true
   },
   "outputs": [],
   "source": [
    "sync_offsets, delta_time = helper.sync_offset_calc(tr_corr_df_1, tr_corr_df_2)"
   ]
  },
  {
   "cell_type": "code",
   "execution_count": null,
   "metadata": {
    "hidden": true
   },
   "outputs": [],
   "source": [
    "sync_offsets.shape"
   ]
  },
  {
   "cell_type": "code",
   "execution_count": null,
   "metadata": {
    "hidden": true
   },
   "outputs": [],
   "source": [
    "print np.mean(sync_offsets[:,0])\n",
    "print np.std(sync_offsets[:,0])\n",
    "\n",
    "print np.std(sync_offsets[:,0])/np.sqrt(72)/61.79*1000"
   ]
  },
  {
   "cell_type": "code",
   "execution_count": null,
   "metadata": {
    "hidden": true
   },
   "outputs": [],
   "source": [
    "fig1, ax1 = plt.subplots(1,1)\n",
    "\n",
    "m=3\n",
    "\n",
    "out = ax1.hist(sync_offsets[:,m-1], bins=40)\n",
    "def gaussian(x, A, x0, s): return A * np.exp(-(x-x0)**2/(2*s**2))\n",
    "counts = out[0]\n",
    "bins = (out[1][1:]+out[1][:-1])/2\n",
    "fit, _ = curve_fit(gaussian, bins, counts, p0=(20,-10,75))\n",
    "\n",
    "ax1.plot(np.linspace(-200,200,1000), gaussian(np.linspace(-200,200,1000), *fit),\n",
    "         label=('$\\mu$ = %.1e \\n $\\sigma$ = %.1e'%(fit[1],fit[2])))\n",
    "\n",
    "ax1.legend(prop={'size':10, 'family':'serif'})\n",
    "\n",
    "ax1.set_title('$m_1$ Sync Offsets', fontdict={'size':12, 'family':'serif'})\n",
    "ax1.set_xlabel('sync offset (Hz)', fontdict={'size':12, 'family':'serif'})\n",
    "ax1.set_ylabel('counts', fontdict={'size':12, 'family':'serif'})\n",
    "\n",
    "# ax1.set_xlim(-200,200)\n",
    "\n",
    "fig1.set_size_inches(6,4)\n",
    "fig1.tight_layout()\n",
    "\n",
    "# fig1.savefig('sync_offsets.png', dpi=300)\n",
    "\n",
    "print fit[2]/2\n",
    "print fit[2]/2/61.79*1000"
   ]
  },
  {
   "cell_type": "code",
   "execution_count": null,
   "metadata": {
    "hidden": true
   },
   "outputs": [],
   "source": []
  },
  {
   "cell_type": "markdown",
   "metadata": {},
   "source": [
    "###  back to calc"
   ]
  },
  {
   "cell_type": "code",
   "execution_count": 5,
   "metadata": {},
   "outputs": [
    {
     "name": "stdout",
     "output_type": "stream",
     "text": [
      "CPU times: user 413 ms, sys: 10 ms, total: 423 ms\n",
      "Wall time: 417 ms\n"
     ]
    }
   ],
   "source": [
    "%%time\n",
    "tr_baseline_1, fp_baseline_1, baseline_time_1, summed_azimuth_1, summed_pts_1 = helper_old.trolley_run_station_average(tr_corr_df_1)\n",
    "tr_baseline_2, fp_baseline_2, baseline_time_2, summed_azimuth_2, summed_pts_2 = helper_old.trolley_run_station_average(tr_corr_df_2)"
   ]
  },
  {
   "cell_type": "code",
   "execution_count": 6,
   "metadata": {},
   "outputs": [
    {
     "name": "stdout",
     "output_type": "stream",
     "text": [
      "CPU times: user 7.21 s, sys: 16.6 s, total: 23.8 s\n",
      "Wall time: 6.64 s\n"
     ]
    }
   ],
   "source": [
    "%%time\n",
    "vtm_df = helper.vtm_calc(fp_moment_df,\n",
    "                         baseline_time_1, baseline_time_2,\n",
    "                         tr_baseline_1, tr_baseline_2,\n",
    "                         fp_baseline_1, fp_baseline_2)"
   ]
  },
  {
   "cell_type": "code",
   "execution_count": null,
   "metadata": {},
   "outputs": [],
   "source": [
    "### Bin into the agreed upon bins\n",
    "\n",
    "bins = np.arange(1524384055, 1524639055+200, 100)-50  # bin edges\n",
    "bin_centers = np.arange(1524384055, 1524639055+100, 100)\n",
    "\n",
    "vtm_bin_df = vtm_df.groupby(pd.cut(vtm_df.index, bins)).mean()\n",
    "vtm_bin_df.index = bin_centers\n",
    "\n",
    "test_df = vtm_bin_df.copy()\n",
    "\n",
    "azi_avg_df = pd.DataFrame(np.zeros((vtm_bin_df.shape[0],6)),\n",
    "                         index = vtm_bin_df.index,\n",
    "                         columns = ['m' + str(m) for m in np.arange(6)+1])\n",
    "\n",
    "for m in range(5):\n",
    "    weight = (summed_azimuth_1[:, m] + summed_azimuth_2[:, m])\n",
    "    total_weight = np.nansum(weight)\n",
    "    stm_list = ['st'+str(st)+',m'+str(m+1) for st in np.arange(72)]\n",
    "    azi_avg_df['m'+str(m+1)] = vtm_bin_df[stm_list].multiply(weight).sum(axis=1)/total_weight\n",
    "print_df = azi_avg_df[['m1','m2','m3','m4','m5']].copy()"
   ]
  },
  {
   "cell_type": "code",
   "execution_count": null,
   "metadata": {},
   "outputs": [],
   "source": [
    "def plt_unix_time_to_CST(ax):\n",
    "    ax.locator_params(axis='x', nbins=5)\n",
    "    xticks = ax.get_xticks()\n",
    "    ax.set_xticklabels([pd.to_datetime(tm, unit='s').tz_localize('UTC').tz_convert('US/Central').strftime('%Y-%m-%d\\n %H:%M:%S %Z')\n",
    "                        for tm in xticks], rotation=0, fontdict={'size':12, 'family':'serif'})"
   ]
  },
  {
   "cell_type": "code",
   "execution_count": null,
   "metadata": {},
   "outputs": [],
   "source": [
    "sns.set_style('darkgrid')\n",
    "\n",
    "fig2, ax2 = plt.subplots(1,1)\n",
    "m = 1\n",
    "ax2.plot(print_df.index.values, print_df['m'+str(m)], '.')\n",
    "ax2.set_ylabel('$m_'+str(m)+'$-61.74 MHz (Hz)', fontdict={'size':12, 'family':'serif'})\n",
    "plt_unix_time_to_CST(ax2)\n",
    "fig2.set_size_inches(6,3)\n",
    "fig2.tight_layout()\n",
    "# fig2.savefig('60hr_m'+str(m)+'.png', dpi=300)\n",
    "\n",
    "\n",
    "fig3, ax3 = plt.subplots(1,1)\n",
    "m = 2\n",
    "ax3.plot(print_df.index.values, print_df['m'+str(m)], '.')\n",
    "ax3.set_ylabel('$m_'+str(m)+'$ (Hz)', fontdict={'size':12, 'family':'serif'})\n",
    "plt_unix_time_to_CST(ax3)\n",
    "fig3.set_size_inches(6,3)\n",
    "fig3.tight_layout()\n",
    "# fig3.savefig('60hr_m'+str(m)+'.png', dpi=300)\n",
    "\n",
    "fig4, ax4 = plt.subplots(1,1)\n",
    "m = 3\n",
    "ax4.plot(print_df.index.values, print_df['m'+str(m)], '.')\n",
    "ax4.set_ylabel('$m_'+str(m)+'$ (Hz)', fontdict={'size':12, 'family':'serif'})\n",
    "plt_unix_time_to_CST(ax4)\n",
    "fig4.set_size_inches(6,3)\n",
    "fig4.tight_layout()\n",
    "# fig4.savefig('60hr_m'+str(m)+'.png', dpi=300)\n",
    "\n",
    "fig5, ax5 = plt.subplots(1,1)\n",
    "m = 4\n",
    "ax5.plot(print_df.index.values, print_df['m'+str(m)], '.')\n",
    "ax5.set_ylabel('$m_'+str(m)+'$ (Hz)', fontdict={'size':12, 'family':'serif'})\n",
    "plt_unix_time_to_CST(ax5)\n",
    "fig5.set_size_inches(6,3)\n",
    "fig5.tight_layout()\n",
    "# fig5.savefig('60hr_m'+str(m)+'.png', dpi=300)\n",
    "\n",
    "fig6, ax6 = plt.subplots(1,1)\n",
    "m = 5\n",
    "ax6.plot(print_df.index.values, print_df['m'+str(m)], '.')\n",
    "ax6.set_ylabel('$m_'+str(m)+'$ (Hz)', fontdict={'size':12, 'family':'serif'})\n",
    "plt_unix_time_to_CST(ax6)\n",
    "fig6.set_size_inches(6,3)\n",
    "fig6.tight_layout()\n",
    "# fig6.savefig('60hr_m'+str(m)+'.png', dpi=300)"
   ]
  },
  {
   "cell_type": "code",
   "execution_count": null,
   "metadata": {},
   "outputs": [],
   "source": [
    "sns.set_style('darkgrid')\n",
    "\n",
    "fig2, ax2 = plt.subplots(1,1)\n",
    "m = 1\n",
    "ax2.plot(print_df.index.values, print_df['m'+str(m)]/61.79, '.')\n",
    "ax2.set_ylabel('$m_'+str(m)+'$-61.74 MHz (ppm)', fontdict={'size':12, 'family':'serif'})\n",
    "plt_unix_time_to_CST(ax2)\n",
    "fig2.set_size_inches(6,3)\n",
    "fig2.tight_layout()\n",
    "# fig2.savefig('60hr_m'+str(m)+'.png', dpi=300)\n",
    "\n",
    "\n",
    "fig3, ax3 = plt.subplots(1,1)\n",
    "m = 2\n",
    "ax3.plot(print_df.index.values, print_df['m'+str(m)]/61.79, '.')\n",
    "ax3.set_ylabel('$m_'+str(m)+'$ (ppm)', fontdict={'size':12, 'family':'serif'})\n",
    "plt_unix_time_to_CST(ax3)\n",
    "fig3.set_size_inches(6,3)\n",
    "fig3.tight_layout()\n",
    "# fig3.savefig('60hr_m'+str(m)+'.png', dpi=300)\n",
    "\n",
    "fig4, ax4 = plt.subplots(1,1)\n",
    "m = 3\n",
    "ax4.plot(print_df.index.values, print_df['m'+str(m)]/61.79, '.')\n",
    "ax4.set_ylabel('$m_'+str(m)+'$ (ppm)', fontdict={'size':12, 'family':'serif'})\n",
    "plt_unix_time_to_CST(ax4)\n",
    "fig4.set_size_inches(6,3)\n",
    "fig4.tight_layout()\n",
    "# fig4.savefig('60hr_m'+str(m)+'.png', dpi=300)\n",
    "\n",
    "fig5, ax5 = plt.subplots(1,1)\n",
    "m = 4\n",
    "ax5.plot(print_df.index.values, print_df['m'+str(m)]/61.79, '.')\n",
    "ax5.set_ylabel('$m_'+str(m)+'$ (ppm)', fontdict={'size':12, 'family':'serif'})\n",
    "plt_unix_time_to_CST(ax5)\n",
    "fig5.set_size_inches(6,3)\n",
    "fig5.tight_layout()\n",
    "# fig5.savefig('60hr_m'+str(m)+'.png', dpi=300)\n",
    "\n",
    "fig6, ax6 = plt.subplots(1,1)\n",
    "m = 5\n",
    "ax6.plot(print_df.index.values, print_df['m'+str(m)]/61.79, '.')\n",
    "ax6.set_ylabel('$m_'+str(m)+'$ (ppm)', fontdict={'size':12, 'family':'serif'})\n",
    "plt_unix_time_to_CST(ax6)\n",
    "fig6.set_size_inches(6,3)\n",
    "fig6.tight_layout()\n",
    "# fig6.savefig('60hr_m'+str(m)+'.png', dpi=300)"
   ]
  },
  {
   "cell_type": "code",
   "execution_count": null,
   "metadata": {},
   "outputs": [],
   "source": [
    "fig2, ax2 = plt.subplots(1,1)\n",
    "\n",
    "m = 1\n",
    "\n",
    "sns.set_style('darkgrid')\n",
    "\n",
    "ax2.plot(print_df.index.values, print_df['m'+str(m)], '.')\n",
    "ax2.set_ylabel('$m_'+str(m)+'$-61.74 MHz (Hz)', fontdict={'size':12, 'family':'serif'})\n",
    "plt_unix_time_to_CST(ax2)\n",
    "\n",
    "fig2.set_size_inches(6,3)\n",
    "fig2.tight_layout()\n",
    "\n",
    "# fig2.savefig('60hr_m'+str(m)+'.png', dpi=300)"
   ]
  },
  {
   "cell_type": "code",
   "execution_count": null,
   "metadata": {},
   "outputs": [],
   "source": []
  },
  {
   "cell_type": "markdown",
   "metadata": {},
   "source": [
    "# Time and azimuthal averaging"
   ]
  },
  {
   "cell_type": "markdown",
   "metadata": {},
   "source": [
    "## Read in ctags and $\\omega_a$ subrun status for time averaging"
   ]
  },
  {
   "cell_type": "code",
   "execution_count": 7,
   "metadata": {},
   "outputs": [],
   "source": [
    "### Read in ctag info\n",
    "\n",
    "subrun_df = pd.read_hdf('old_hdf5/60hr_subrun.h5', key='ctag')\n",
    "usable_subruns_df = subrun_df[subrun_df['ok']==True].copy()\n",
    "\n",
    "### Bin by subrun\n",
    "\n",
    "intervals = []\n",
    "interval_centers = []\n",
    "interval_range = []\n",
    "for ii in range(usable_subruns_df['end_gps'].values.size):\n",
    "    intervals.append(pd.Interval(usable_subruns_df['start_gps'].values[ii],\n",
    "                                 usable_subruns_df['end_gps'].values[ii],\n",
    "                                 closed='both'\n",
    "                                )\n",
    "                    )\n",
    "    interval_centers.append((usable_subruns_df['start_gps'].values[ii] + usable_subruns_df['end_gps'].values[ii])/2)\n",
    "    interval_range.append(usable_subruns_df['end_gps'].values[ii] - usable_subruns_df['start_gps'].values[ii])\n",
    "    \n",
    "intervals = pd.IntervalIndex(intervals)\n",
    "interval_centers = np.array(interval_centers)\n",
    "interval_range = np.array(interval_range)\n",
    "\n",
    "vtm_bin_df = vtm_df.groupby(pd.cut(vtm_df.index, intervals)).mean()\n",
    "vtm_bin_df['bin_range'] = interval_range\n",
    "vtm_bin_df['start_gps'] = usable_subruns_df['start_gps'].values\n",
    "\n",
    "vtm_bin_df = vtm_bin_df.merge(usable_subruns_df[['start_gps', 'ctags']])\n",
    "vtm_bin_df.index = interval_centers"
   ]
  },
  {
   "cell_type": "code",
   "execution_count": null,
   "metadata": {},
   "outputs": [],
   "source": [
    "subrun_df.head()"
   ]
  },
  {
   "cell_type": "code",
   "execution_count": null,
   "metadata": {},
   "outputs": [],
   "source": [
    "fig, ax = plt.subplots(1,1)\n",
    "\n",
    "ax.plot(subrun_df['start_gps'].values, subrun_df['ctags'].values, '.')\n",
    "\n",
    "plt2.plt_unix_time_to_CST(ax)\n",
    "ax.set_ylabel('ctags')\n",
    "\n",
    "fig.set_size_inches(12,6)\n",
    "fig.tight_layout()"
   ]
  },
  {
   "cell_type": "markdown",
   "metadata": {},
   "source": [
    "## Time average, weighted by ctags in \"ok\" subruns"
   ]
  },
  {
   "cell_type": "code",
   "execution_count": 8,
   "metadata": {},
   "outputs": [],
   "source": [
    "stms = ['st'+str(st)+',m'+str(m+1) for st in range(72) for m in range(6)]\n",
    "time_avg_series = vtm_bin_df[stms].multiply(vtm_bin_df['ctags'], axis='index').sum()/vtm_bin_df['ctags'].sum()"
   ]
  },
  {
   "cell_type": "code",
   "execution_count": 10,
   "metadata": {},
   "outputs": [
    {
     "name": "stderr",
     "output_type": "stream",
     "text": [
      "/home/aetb/.local/lib/python2.7/site-packages/tables/path.py:112: NaturalNameWarning: object name is not a valid Python identifier: '60hr'; it does not match the pattern ``^[a-zA-Z_][a-zA-Z0-9_]*$``; you will not be able to use natural naming to access this object; using ``getattr()`` will still work, though\n",
      "  NaturalNameWarning)\n"
     ]
    }
   ],
   "source": [
    "time_avg_series.to_hdf('sample_time_avg.h5', key='60hr')"
   ]
  },
  {
   "cell_type": "markdown",
   "metadata": {},
   "source": [
    "## Naive azimuthal average, weighted by fixed probe station extent"
   ]
  },
  {
   "cell_type": "code",
   "execution_count": null,
   "metadata": {},
   "outputs": [],
   "source": [
    "azi_avg_series = pd.Series(index = ['m' + str(m) for m in np.arange(6)+1])\n",
    "\n",
    "for m in range(5):\n",
    "    weight = summed_azimuth_1[:, m] + summed_azimuth_2[:, m]\n",
    "    \n",
    "    total_weight = np.nansum(weight)\n",
    "    stm_list = ['st'+str(st)+',m'+str(m+1) for st in np.arange(72)]\n",
    "    azi_avg_series['m'+str(m+1)] = time_avg_series[stm_list].multiply(weight).sum()/total_weight"
   ]
  },
  {
   "cell_type": "code",
   "execution_count": null,
   "metadata": {},
   "outputs": [],
   "source": [
    "## naive 2D integral\n",
    "\n",
    "def _2D_field_map(x,y):  # in mm\n",
    "    \n",
    "    m1 = azi_avg_series[0]\n",
    "    m2 = azi_avg_series[1]\n",
    "    m3 = azi_avg_series[2]\n",
    "    \n",
    "    r = np.sqrt(x**2 + y**2)\n",
    "    phi = np.arctan2(y,x)\n",
    "    \n",
    "    return m1 + m2*r/45*np.cos(phi) + m3*r/45*np.sin(phi)\n"
   ]
  },
  {
   "cell_type": "code",
   "execution_count": null,
   "metadata": {},
   "outputs": [],
   "source": [
    "def _2D_average_integrand(x,y):\n",
    "    f = _2D_field_map(x,y)\n",
    "    g = mu_avg._xy_dist(x, y, 1, 19.4, 45.9, -0.17, 13.5)\n",
    "    R = 7112 + x\n",
    "    return R*f*g\n",
    "\n",
    "def _2D_dist_integrand(x,y):\n",
    "    return mu_avg._xy_dist(x, y, 1, 19.4, 45.9, -0.17, 13.5)*(7112 + x)"
   ]
  },
  {
   "cell_type": "code",
   "execution_count": null,
   "metadata": {},
   "outputs": [],
   "source": [
    "%%time\n",
    "\n",
    "opts = {'epsrel':1.0e-3}\n",
    "\n",
    "num_short = scipy.integrate.nquad(_2D_average_integrand, [[-60,60],[-60,60]], opts=opts)\n",
    "den_short = scipy.integrate.nquad(_2D_dist_integrand, [[-60,60],[-60,60]], opts=opts)"
   ]
  },
  {
   "cell_type": "code",
   "execution_count": null,
   "metadata": {},
   "outputs": [],
   "source": [
    "print num_short\n",
    "print den_short\n",
    "\n",
    "print num_short[0]/den_short[0]/61.79"
   ]
  },
  {
   "cell_type": "code",
   "execution_count": null,
   "metadata": {},
   "outputs": [],
   "source": [
    "print (azi_avg_series[0] + 19.4/45 * azi_avg_series[1] - 0.17/45 *azi_avg_series[2])/61.79"
   ]
  },
  {
   "cell_type": "markdown",
   "metadata": {},
   "source": [
    "## Analytic form for field  (through m3)"
   ]
  },
  {
   "cell_type": "code",
   "execution_count": null,
   "metadata": {},
   "outputs": [],
   "source": [
    "st_phis = np.array(trfp.STATION_BARCODE_PHI)\n",
    "st_phis[0:3] -= 360\n",
    "\n",
    "st_phis = np.append(st_phis, [st_phis[0]+360])\n",
    "print st_phis"
   ]
  },
  {
   "cell_type": "code",
   "execution_count": null,
   "metadata": {},
   "outputs": [],
   "source": [
    "st_phis = np.array(trfp.STATION_BARCODE_PHI)\n",
    "st_phis[0:3] -= 360\n",
    "st_phis = np.append(st_phis, [st_phis[0]+360])\n",
    "st_phis = st_phis/180*pi\n",
    "\n",
    "stms = ['st'+str(st)+',m1' for st in range(72)]\n",
    "m1s = np.append(time_avg_series[stms].values,time_avg_series[stms].values[0])\n",
    "\n",
    "stms = ['st'+str(st)+',m2' for st in range(72)]\n",
    "m2s = np.append(time_avg_series[stms].values,time_avg_series[stms].values[0])\n",
    "\n",
    "stms = ['st'+str(st)+',m3' for st in range(72)]\n",
    "m3s = np.append(time_avg_series[stms].values,time_avg_series[stms].values[0])\n",
    "\n",
    "def _xy_field(x, y, m1, m2, m3):  # assume inputs are in mm, fields in Hz\n",
    "    \n",
    "    r = np.sqrt(x**2 + y**2)\n",
    "    phi = np.arctan2(y,x)\n",
    "    \n",
    "    return m1 + m2*r/45*np.cos(phi) + m3*r/45*np.sin(phi)\n",
    "\n",
    "_m1 = scipy.interpolate.CubicSpline(st_phis, m1s, bc_type='periodic')\n",
    "_m2 = scipy.interpolate.CubicSpline(st_phis, m2s, bc_type='periodic')\n",
    "_m3 = scipy.interpolate.CubicSpline(st_phis, m3s, bc_type='periodic')\n",
    "\n",
    "def _field_map(x, y, theta):  # inputs are in mm and radians\n",
    "    m1 = _m1(theta)\n",
    "    m2 = _m2(theta)\n",
    "    m3 = _m3(theta)\n",
    "    return _xy_field(x, y, m1, m2, m3)"
   ]
  },
  {
   "cell_type": "code",
   "execution_count": null,
   "metadata": {},
   "outputs": [],
   "source": [
    "_field_map(2,2,180)"
   ]
  },
  {
   "cell_type": "code",
   "execution_count": null,
   "metadata": {},
   "outputs": [],
   "source": [
    "_field_map(20,20,pi)"
   ]
  },
  {
   "cell_type": "code",
   "execution_count": null,
   "metadata": {},
   "outputs": [],
   "source": [
    "pi = np.pi\n",
    "\n",
    "def average_integrand(x, y, theta):  # takes x, y in mm, theta in rad    \n",
    "    return _field_map(x, y, theta) * mu_avg._xyz_integrand(x, y, theta, 1)\n",
    "\n",
    "def dist_integrand(x, y, theta): # takes x, y in mm, theta in rad\n",
    "    return mu_avg._xyz_integrand(x, y, theta, 1)"
   ]
  },
  {
   "cell_type": "code",
   "execution_count": null,
   "metadata": {},
   "outputs": [],
   "source": [
    "%%time\n",
    "## took ~1 minute\n",
    "opts = {'epsrel':1.0e-6}\n",
    "numerator = scipy.integrate.nquad(_field_map, [[-60.,60.],[-60.,60.],[0,2*pi]], opts=opts)\n",
    "\n",
    "print numerator"
   ]
  },
  {
   "cell_type": "code",
   "execution_count": null,
   "metadata": {},
   "outputs": [],
   "source": [
    "%%time\n",
    "## took\n",
    "opts = {'epsrel':1.0e-3}\n",
    "numerator2 = scipy.integrate.nquad(average_integrand, [[-60,60],[-60,60],[0,2*pi]], opts=opts)\n",
    "\n",
    "print numerator2"
   ]
  },
  {
   "cell_type": "code",
   "execution_count": null,
   "metadata": {},
   "outputs": [],
   "source": [
    "%%time\n",
    "## took ~15 minutes\n",
    "opts = {'epsrel':1.0e-6}\n",
    "numerator = scipy.integrate.nquad(average_integrand, [[-60,60],[-60,60],[0,2*pi]], opts=opts)\n",
    "\n",
    "print numerator"
   ]
  },
  {
   "cell_type": "code",
   "execution_count": null,
   "metadata": {},
   "outputs": [],
   "source": [
    "%%time\n",
    "## took ~10 sec\n",
    "denominator = scipy.integrate.nquad(dist_integrand, [[-60.,60.],[-60.,60.],[0,2*pi]])\n",
    "\n",
    "print denominator"
   ]
  },
  {
   "cell_type": "code",
   "execution_count": null,
   "metadata": {},
   "outputs": [],
   "source": [
    "print (numerator[0]/denominator[0])/61.79"
   ]
  },
  {
   "cell_type": "code",
   "execution_count": null,
   "metadata": {},
   "outputs": [],
   "source": [
    "%%time\n",
    "## takes ~10 seconds\n",
    "\n",
    "print scipy.integrate.nquad(mu_avg._xyz_integrand, [[-60,60],[-60,60],[0,2*np.pi]], args=[1])"
   ]
  },
  {
   "cell_type": "markdown",
   "metadata": {},
   "source": [
    "# Legacy code/studies"
   ]
  },
  {
   "cell_type": "markdown",
   "metadata": {
    "heading_collapsed": true
   },
   "source": [
    "## Alan studies"
   ]
  },
  {
   "cell_type": "code",
   "execution_count": null,
   "metadata": {
    "hidden": true
   },
   "outputs": [],
   "source": [
    "import allantools\n",
    "\n",
    "fig, ax = plt.subplots(1,1)\n",
    "for st in range(7):\n",
    "    stm = 'st'+str(st)+',m1'\n",
    "    tau, adev, _, _ = allantools.mdev(fp_moment_df[stm].values/61.79, data_type='freq', taus='decade')\n",
    "    plt.loglog(tau, adev, '.', label=stm)\n",
    "plt.legend()\n",
    "fig.set_size_inches(12,8)\n",
    "fig.tight_layout()"
   ]
  },
  {
   "cell_type": "markdown",
   "metadata": {
    "heading_collapsed": true
   },
   "source": [
    "## Sync Offsets"
   ]
  },
  {
   "cell_type": "code",
   "execution_count": null,
   "metadata": {
    "hidden": true,
    "scrolled": false
   },
   "outputs": [],
   "source": [
    "sync_offsets, delta_t = helper.sync_offset_calc(tr_corr_df_1, tr_corr_df_2)\n",
    "\n",
    "def gaussian(x, A, x0, sigma): return A*np.exp(-(x-x0)**2/2./sigma**2)\n",
    "\n",
    "fig, axs = plt.subplots(2,3)\n",
    "for i in range(2):\n",
    "    for j in range(3):\n",
    "        st = 3*i+j\n",
    "        if st == 5: continue\n",
    "            \n",
    "        plt.sca(axs[i,j])\n",
    "        hist, bins, _ = plt.hist(sync_offsets[:,st], bins=50)\n",
    "        low, high = axs[i,j].get_xlim()\n",
    "                \n",
    "        bins = bins[0:-1] + 0.5*(bins[1]-bins[0])\n",
    "        coeffs, _ = curve_fit(gaussian, bins, hist, p0=[1., 0., 10.])\n",
    "        fit = gaussian(np.arange(low, high, 0.1), coeffs[0], coeffs[1], coeffs[2])\n",
    "        plt.plot(np.arange(low,high,0.1), fit, label=r'$\\omega_0$ = '+str(np.round(coeffs[1],1))+'\\n$\\sigma$ = '+str(np.round(coeffs[2],1)))\n",
    "        plt.legend(loc=1)\n",
    "        plt2.plt_set_labels(axs[i,j], 'sync offset (Hz)', '', 'm '+str(st+1))\n",
    "        \n",
    "        if st == 0: plt.xlim(-100,100)\n",
    "        else: plt.xlim(-50,50)\n",
    "\n",
    "\n",
    "fig.set_size_inches(12,8)\n",
    "fig.tight_layout()"
   ]
  },
  {
   "cell_type": "markdown",
   "metadata": {
    "heading_collapsed": true
   },
   "source": [
    "## Extended trolley averages"
   ]
  },
  {
   "cell_type": "code",
   "execution_count": null,
   "metadata": {
    "hidden": true
   },
   "outputs": [],
   "source": [
    "# calculate extended trolley averages\n",
    "\n",
    "print np.sum(tr_baseline_1*summed_azimuth_1, axis=0)/360\n",
    "\n",
    "print '\\n'\n",
    "\n",
    "print np.sum(tr_baseline_2*summed_azimuth_2, axis=0)/360"
   ]
  },
  {
   "cell_type": "markdown",
   "metadata": {},
   "source": [
    "## Legacy time/azimuthal averaging"
   ]
  },
  {
   "cell_type": "code",
   "execution_count": 11,
   "metadata": {},
   "outputs": [],
   "source": [
    "### Bin into the agreed upon bins\n",
    "\n",
    "bins = np.arange(1524384055, 1524641055, 1000)-500  # bin edges\n",
    "bin_centers = np.arange(1524384055, 1524640055, 1000)\n",
    "\n",
    "vtm_bin_df = vtm_df.groupby(pd.cut(vtm_df.index, bins)).mean()\n",
    "vtm_bin_df.index = bin_centers\n",
    "\n",
    "test_df = vtm_bin_df.copy()\n",
    "\n",
    "azi_avg_df = pd.DataFrame(np.zeros((test_df.shape[0],6)),\n",
    "                         index = test_df.index,\n",
    "                         columns = ['m' + str(m) for m in np.arange(6)+1])\n",
    "\n",
    "for m in range(5):\n",
    "    weight = summed_azimuth_1[:, m] + summed_azimuth_2[:, m]\n",
    "    \n",
    "    # de-weight station 5 (split into 4 and 6 by distance to each)\n",
    "    weight[4] += weight[5] * (trfp.STATION_BARCODE_PHI[6]-trfp.STATION_BARCODE_PHI[5])/(trfp.STATION_BARCODE_PHI[6]-trfp.STATION_BARCODE_PHI[4])\n",
    "    weight[6] += weight[5] * (trfp.STATION_BARCODE_PHI[5]-trfp.STATION_BARCODE_PHI[4])/(trfp.STATION_BARCODE_PHI[6]-trfp.STATION_BARCODE_PHI[4])\n",
    "    weight[5] = 0\n",
    "    \n",
    "    total_weight = np.nansum(weight)\n",
    "    stm_list = ['st'+str(st)+',m'+str(m+1) for st in np.arange(72)]\n",
    "    azi_avg_df['m'+str(m+1)] = test_df[stm_list].multiply(weight).sum(axis=1)/total_weight\n",
    "    \n",
    "print_df = azi_avg_df[['m1','m2','m3','m5']].copy()/61.79\n",
    "print_df['m1_err'] = 0.116\n",
    "print_df['m2_err'] = 0.06\n",
    "print_df['m3_err'] = 0.06\n",
    "print_df['m5_err'] = 0.1\n",
    "\n",
    "print_df = print_df.sort_index(axis='columns')\n",
    "# print_df.head()\n",
    "# print_df.to_csv('purcell_60hr_7-31.csv')"
   ]
  },
  {
   "cell_type": "code",
   "execution_count": 12,
   "metadata": {},
   "outputs": [
    {
     "name": "stdout",
     "output_type": "stream",
     "text": [
      "                    m1  m1_err        m2  m2_err        m3  m3_err        m5  \\\n",
      "1524384055  838.154403   0.116 -0.048434    0.06  0.025108    0.06 -1.235609   \n",
      "1524385055  838.151410   0.116 -0.039119    0.06  0.026436    0.06 -1.237081   \n",
      "1524386055  838.140873   0.116 -0.037550    0.06  0.027178    0.06 -1.240074   \n",
      "1524387055  838.150734   0.116 -0.033755    0.06  0.027788    0.06 -1.240186   \n",
      "1524388055  838.139634   0.116 -0.032624    0.06  0.027880    0.06 -1.243969   \n",
      "1524389055  838.149634   0.116 -0.030658    0.06  0.029090    0.06 -1.240836   \n",
      "1524390055  838.165405   0.116 -0.027125    0.06  0.030076    0.06 -1.235930   \n",
      "1524391055  838.170469   0.116 -0.027525    0.06  0.030387    0.06 -1.234653   \n",
      "1524392055  838.151070   0.116 -0.030786    0.06  0.029822    0.06 -1.241951   \n",
      "1524393055  838.136449   0.116 -0.034660    0.06  0.029741    0.06 -1.245823   \n",
      "1524394055  838.120033   0.116 -0.031727    0.06  0.031529    0.06 -1.249211   \n",
      "1524395055  837.945217   0.116 -0.038063    0.06  0.031226    0.06 -1.249710   \n",
      "1524396055  838.112449   0.116 -0.040710    0.06  0.031842    0.06 -1.251347   \n",
      "1524397055  838.102389   0.116 -0.042633    0.06  0.032977    0.06 -1.253904   \n",
      "1524398055  838.090018   0.116 -0.046903    0.06  0.033225    0.06 -1.257506   \n",
      "1524399055  838.091101   0.116 -0.051821    0.06  0.033407    0.06 -1.256390   \n",
      "1524400055  838.092286   0.116 -0.057386    0.06  0.034423    0.06 -1.255838   \n",
      "1524401055  838.079509   0.116 -0.068624    0.06  0.034364    0.06 -1.259750   \n",
      "1524402055  838.084729   0.116 -0.078133    0.06  0.036064    0.06 -1.256627   \n",
      "1524403055  838.091676   0.116 -0.095626    0.06  0.035834    0.06 -1.254613   \n",
      "1524404055  838.088317   0.116 -0.115121    0.06  0.036178    0.06 -1.256040   \n",
      "1524405055  838.083516   0.116 -0.131580    0.06  0.037374    0.06 -1.258128   \n",
      "1524406055  838.083642   0.116 -0.137638    0.06  0.038248    0.06 -1.256862   \n",
      "1524407055  838.098389   0.116 -0.119983    0.06  0.038656    0.06 -1.251507   \n",
      "1524408055  838.058080   0.116 -0.116401    0.06  0.037839    0.06 -1.264784   \n",
      "1524409055  838.064632   0.116 -0.119989    0.06  0.038744    0.06 -1.263329   \n",
      "1524410055  838.063756   0.116 -0.130902    0.06  0.038735    0.06 -1.261635   \n",
      "1524411055  838.062805   0.116 -0.144810    0.06  0.039043    0.06 -1.262046   \n",
      "1524412055  838.048332   0.116 -0.157248    0.06  0.039203    0.06 -1.264128   \n",
      "1524413055  838.047307   0.116 -0.163738    0.06  0.039629    0.06 -1.265103   \n",
      "...                ...     ...       ...     ...       ...     ...       ...   \n",
      "1524610055  837.413347   0.116 -0.449563    0.06  0.209198    0.06 -1.325877   \n",
      "1524611055  837.395933   0.116 -0.449632    0.06  0.211544    0.06 -1.332341   \n",
      "1524612055  837.397259   0.116 -0.447914    0.06  0.212850    0.06 -1.332340   \n",
      "1524613055  837.403617   0.116 -0.446442    0.06  0.213560    0.06 -1.330392   \n",
      "1524614055  837.413858   0.116 -0.441128    0.06  0.216196    0.06 -1.328574   \n",
      "1524615055  837.395647   0.116 -0.438185    0.06  0.217623    0.06 -1.335945   \n",
      "1524616055  837.409909   0.116 -0.427920    0.06  0.219737    0.06 -1.331602   \n",
      "1524617055  837.393534   0.116 -0.415037    0.06  0.221219    0.06 -1.337920   \n",
      "1524618055  837.426662   0.116 -0.399139    0.06  0.222034    0.06 -1.329559   \n",
      "1524619055  837.414362   0.116 -0.381740    0.06  0.223012    0.06 -1.329095   \n",
      "1524620055  837.343297   0.116 -0.367039    0.06  0.225817    0.06 -1.337548   \n",
      "1524621055  837.337558   0.116 -0.345399    0.06  0.227446    0.06 -1.336180   \n",
      "1524622055  837.353812   0.116 -0.324653    0.06  0.228537    0.06 -1.333200   \n",
      "1524623055  837.354480   0.116 -0.303497    0.06  0.229170    0.06 -1.331939   \n",
      "1524624055  837.357985   0.116 -0.282610    0.06  0.230788    0.06 -1.332689   \n",
      "1524625055  837.341850   0.116 -0.257927    0.06  0.232195    0.06 -1.333896   \n",
      "1524626055  837.330087   0.116 -0.229765    0.06  0.234040    0.06 -1.339846   \n",
      "1524627055  837.351015   0.116 -0.206139    0.06  0.234382    0.06 -1.331555   \n",
      "1524628055  837.322528   0.116 -0.182689    0.06  0.235559    0.06 -1.339652   \n",
      "1524629055  837.334712   0.116 -0.156786    0.06  0.236525    0.06 -1.334391   \n",
      "1524630055  837.337793   0.116 -0.132534    0.06  0.238241    0.06 -1.332557   \n",
      "1524631055  837.336053   0.116 -0.114402    0.06  0.238626    0.06 -1.330515   \n",
      "1524632055  837.312351   0.116 -0.095150    0.06  0.240346    0.06 -1.337219   \n",
      "1524633055  837.307688   0.116 -0.074394    0.06  0.241785    0.06 -1.337985   \n",
      "1524634055  837.312996   0.116 -0.057333    0.06  0.241414    0.06 -1.334201   \n",
      "1524635055  837.313537   0.116 -0.037613    0.06  0.243294    0.06 -1.333322   \n",
      "1524636055  837.318055   0.116 -0.020538    0.06  0.244379    0.06 -1.330066   \n",
      "1524637055  837.302439   0.116  0.006675    0.06  0.244748    0.06 -1.332511   \n",
      "1524638055  837.293819   0.116  0.037792    0.06  0.244269    0.06 -1.333317   \n",
      "1524639055  837.293068   0.116  0.063673    0.06  0.245119    0.06 -1.332369   \n",
      "\n",
      "            m5_err  \n",
      "1524384055     0.1  \n",
      "1524385055     0.1  \n",
      "1524386055     0.1  \n",
      "1524387055     0.1  \n",
      "1524388055     0.1  \n",
      "1524389055     0.1  \n",
      "1524390055     0.1  \n",
      "1524391055     0.1  \n",
      "1524392055     0.1  \n",
      "1524393055     0.1  \n",
      "1524394055     0.1  \n",
      "1524395055     0.1  \n",
      "1524396055     0.1  \n",
      "1524397055     0.1  \n",
      "1524398055     0.1  \n",
      "1524399055     0.1  \n",
      "1524400055     0.1  \n",
      "1524401055     0.1  \n",
      "1524402055     0.1  \n",
      "1524403055     0.1  \n",
      "1524404055     0.1  \n",
      "1524405055     0.1  \n",
      "1524406055     0.1  \n",
      "1524407055     0.1  \n",
      "1524408055     0.1  \n",
      "1524409055     0.1  \n",
      "1524410055     0.1  \n",
      "1524411055     0.1  \n",
      "1524412055     0.1  \n",
      "1524413055     0.1  \n",
      "...            ...  \n",
      "1524610055     0.1  \n",
      "1524611055     0.1  \n",
      "1524612055     0.1  \n",
      "1524613055     0.1  \n",
      "1524614055     0.1  \n",
      "1524615055     0.1  \n",
      "1524616055     0.1  \n",
      "1524617055     0.1  \n",
      "1524618055     0.1  \n",
      "1524619055     0.1  \n",
      "1524620055     0.1  \n",
      "1524621055     0.1  \n",
      "1524622055     0.1  \n",
      "1524623055     0.1  \n",
      "1524624055     0.1  \n",
      "1524625055     0.1  \n",
      "1524626055     0.1  \n",
      "1524627055     0.1  \n",
      "1524628055     0.1  \n",
      "1524629055     0.1  \n",
      "1524630055     0.1  \n",
      "1524631055     0.1  \n",
      "1524632055     0.1  \n",
      "1524633055     0.1  \n",
      "1524634055     0.1  \n",
      "1524635055     0.1  \n",
      "1524636055     0.1  \n",
      "1524637055     0.1  \n",
      "1524638055     0.1  \n",
      "1524639055     0.1  \n",
      "\n",
      "[256 rows x 8 columns]\n"
     ]
    }
   ],
   "source": [
    "print print_df"
   ]
  },
  {
   "cell_type": "code",
   "execution_count": null,
   "metadata": {},
   "outputs": [],
   "source": [
    "# print all stations\n",
    "\n",
    "fig, axs = plt.subplots(24,3)\n",
    "\n",
    "for i in range(24):\n",
    "    for j in range(3):\n",
    "        plt.sca(axs[i,j])\n",
    "        st = i*3 + j\n",
    "        plt.plot(vtm_bin_df.index.values, vtm_bin_df['st'+str(st)+',m5']/61.79, '.', markersize=1, color='navy')\n",
    "        plt2.plt_set_labels(axs[i,j], '', 'NS (ppm)', 'st '+str(st))\n",
    "        plt2.plt_unix_time_to_CST(axs[i,j])\n",
    "\n",
    "fig.set_size_inches(16, 80)\n",
    "fig.tight_layout()"
   ]
  },
  {
   "cell_type": "markdown",
   "metadata": {
    "heading_collapsed": true
   },
   "source": [
    "## Compare with Rachel"
   ]
  },
  {
   "cell_type": "code",
   "execution_count": null,
   "metadata": {
    "hidden": true
   },
   "outputs": [],
   "source": [
    "rachel_m1 = np.loadtxt('rachel_m1_st135.txt')\n",
    "\n",
    "fig, axs = plt.subplots(24,3)\n",
    "\n",
    "for i in range(24):\n",
    "    for j in range(3):\n",
    "        plt.sca(axs[i,j])\n",
    "        st = i*3 + j\n",
    "#         if st == 71: continue\n",
    "        plt.plot(vtm_bin_df.index.values, vtm_bin_df['st'+str(st)+',m1']/61.79 - rachel_m1[:,st], '.', markersize=1, color='navy')\n",
    "        plt2.plt_set_labels(axs[i,j], '', 'Dipole (ppm)', 'st '+str(st))\n",
    "        plt2.plt_unix_time_to_CST(axs[i,j])\n",
    "\n",
    "fig.set_size_inches(16, 80)\n",
    "fig.tight_layout()"
   ]
  },
  {
   "cell_type": "code",
   "execution_count": null,
   "metadata": {
    "hidden": true
   },
   "outputs": [],
   "source": []
  }
 ],
 "metadata": {
  "kernelspec": {
   "display_name": "Python 2",
   "language": "python",
   "name": "python2"
  },
  "language_info": {
   "codemirror_mode": {
    "name": "ipython",
    "version": 2
   },
   "file_extension": ".py",
   "mimetype": "text/x-python",
   "name": "python",
   "nbconvert_exporter": "python",
   "pygments_lexer": "ipython2",
   "version": "2.7.14"
  }
 },
 "nbformat": 4,
 "nbformat_minor": 2
}
