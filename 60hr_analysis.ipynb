{
 "cells": [
  {
   "cell_type": "code",
   "execution_count": 1,
   "metadata": {},
   "outputs": [
    {
     "name": "stdout",
     "output_type": "stream",
     "text": [
      "Welcome to JupyROOT 6.12/04\n"
     ]
    }
   ],
   "source": [
    "import matplotlib\n",
    "import matplotlib.pyplot as plt\n",
    "import seaborn as sns\n",
    "%matplotlib inline\n",
    "\n",
    "import numpy as np\n",
    "import pandas as pd\n",
    "\n",
    "import gm2\n",
    "import trfp\n",
    "import helper_function_candidates as helper\n",
    "import plotting_functions as plt2"
   ]
  },
  {
   "cell_type": "code",
   "execution_count": 2,
   "metadata": {},
   "outputs": [
    {
     "name": "stdout",
     "output_type": "stream",
     "text": [
      "Appending fixed probe runs.\n",
      "Appending run 3994.                              \n",
      "Done appending fixed probe runs.\n"
     ]
    }
   ],
   "source": [
    "# import all the fixed probe runs\n",
    "# fp_moment_df = helper.import_fp_moment_runs('60hr_fixed_probe_runs.h5', range(3959, 3961))\n",
    "fp_moment_df = helper.import_fp_moment_runs('60hr_fixed_probe_runs.h5', range(3959, 3995))"
   ]
  },
  {
   "cell_type": "code",
   "execution_count": 3,
   "metadata": {},
   "outputs": [
    {
     "name": "stdout",
     "output_type": "stream",
     "text": [
      "Appending corrected trolley runs.\n",
      "Appending run 3956.\n",
      "Finished removing trolley images from 4382 events.                                                            \n",
      "Appending run 3957.\n",
      "Finished removing trolley images from 2977 events.                                                            \n",
      "Appending run 3958.\n",
      "Finished removing trolley images from 539 events.              \n",
      "\n",
      "Done appending corrected trolley runs.\n",
      "Appending corrected trolley runs.\n",
      "Appending run 3995.\n",
      "Finished removing trolley images from 365 events.        \n",
      "Appending run 3996.\n",
      "Finished removing trolley images from 921 events.                       \n",
      "Appending run 3997.\n",
      "Finished removing trolley images from 4359 events.                                                            \n",
      "Appending run 3998.\n",
      "Finished removing trolley images from 2853 events.                                                            \n",
      "\n",
      "Done appending corrected trolley runs.\n",
      "Finished removing trolley images from 4356 events.                                                            \n"
     ]
    }
   ],
   "source": [
    "# import all trolley runs (keep CW run for baselines)\n",
    "tr_moment_df_1, tr_single_runs_df_1 = helper.import_tr_moment_runs('60hr_trolley_runs_1.h5',\n",
    "                                                                   range(3956, 3959),\n",
    "                                                                   specific_runs=[3956],\n",
    "                                                                   corrected=True)\n",
    "\n",
    "tr_moment_df_2, tr_single_runs_df_2 = helper.import_tr_moment_runs('60hr_trolley_runs_2.h5',\n",
    "                                                                   range(3995,3999),\n",
    "                                                                   specific_runs=[3997, 3998],\n",
    "                                                                   corrected=True)\n",
    "\n",
    "tr_fixed_run_df = tr_single_runs_df_2[3997].iloc[:-20].append(tr_single_runs_df_2[3998].iloc[:17])\n",
    "tr_fixed_run_df_corr = trfp.remove_trolley_effect(tr_fixed_run_df)\n",
    "\n",
    "tr_baseline_1, fp_baseline_1, baseline_time_1, summed_azimuth_1, summed_pts_1 = helper.trolley_run_station_average(tr_single_runs_df_1[3956])\n",
    "tr_baseline_2, fp_baseline_2, baseline_time_2, summed_azimuth_2, summed_pts_2 = helper.trolley_run_station_average(tr_fixed_run_df_corr)"
   ]
  },
  {
   "cell_type": "code",
   "execution_count": 4,
   "metadata": {},
   "outputs": [],
   "source": [
    "vtm_df_2 = helper.vtm_calc(fp_moment_df,\n",
    "             baseline_time_1, baseline_time_2,\n",
    "             tr_baseline_1, tr_baseline_2,\n",
    "             fp_baseline_1, fp_baseline_2)\n",
    "\n",
    "vtm_tr1_df = helper.vtm_calc(tr_moment_df_1,\n",
    "             baseline_time_1, baseline_time_2,\n",
    "             tr_baseline_1, tr_baseline_2,\n",
    "             fp_baseline_1, fp_baseline_2)\n",
    "\n",
    "vtm_tr2_df = helper.vtm_calc(tr_moment_df_2,\n",
    "             baseline_time_1, baseline_time_2,\n",
    "             tr_baseline_1, tr_baseline_2,\n",
    "             fp_baseline_1, fp_baseline_2)\n",
    "\n",
    "vtm_full_df = vtm_tr1_df.append(vtm_df_2, sort=False).append(vtm_tr2_df, sort=False)"
   ]
  },
  {
   "cell_type": "code",
   "execution_count": 5,
   "metadata": {},
   "outputs": [],
   "source": [
    "### Bin into the agreed upon bins\n",
    "\n",
    "bins = np.arange(1524384055, 1524641055, 1000)-500  # bin edges\n",
    "bin_centers = np.arange(1524384055, 1524640055, 1000)\n",
    "\n",
    "vtm_bin_df = vtm_full_df.groupby(pd.cut(vtm_full_df.index, bins)).mean()\n",
    "vtm_bin_df.index = bin_centers\n",
    "vtm_bin_df.head()\n",
    "test_df = vtm_bin_df.copy()\n",
    "\n",
    "azi_avg_df = pd.DataFrame(np.zeros((test_df.shape[0],6)),\n",
    "                         index = test_df.index,\n",
    "                         columns = ['m' + str(m) for m in np.arange(6)+1])\n",
    "\n",
    "for m in range(5):\n",
    "    weight = summed_azimuth_1[:, m] + summed_azimuth_2[:, m]\n",
    "    total_weight = np.nansum(weight)\n",
    "    stm_list = ['st'+str(st)+',m'+str(m+1) for st in np.arange(72)]\n",
    "    azi_avg_df['m'+str(m+1)] = test_df[stm_list].multiply(weight).sum(axis=1)/total_weight\n",
    "    \n",
    "print_df = azi_avg_df[['m1','m2','m3','m5']].copy()/61.79\n",
    "print_df['m1_err'] = 0.116\n",
    "print_df['m2_err'] = 0.06\n",
    "print_df['m3_err'] = 0.06\n",
    "print_df['m5_err'] = 0.1\n",
    "\n",
    "print_df = print_df.sort_index(axis='columns')\n",
    "\n",
    "print_df.head()\n",
    "\n",
    "print_df.to_csv('purcell_60hr_7-3.csv')"
   ]
  },
  {
   "cell_type": "code",
   "execution_count": 6,
   "metadata": {},
   "outputs": [
    {
     "name": "stdout",
     "output_type": "stream",
     "text": [
      "m1    840.877276\n",
      "m2      0.168550\n",
      "m3      0.366048\n",
      "m4      0.367730\n",
      "m5     -1.258705\n",
      "m6      0.000000\n",
      "Name: 1524639055, dtype: float64\n"
     ]
    },
    {
     "data": {
      "image/png": "[encoded data removed]",
      "text/plain": [
       "<Figure size 864x576 with 1 Axes>"
      ]
     },
     "metadata": {},
     "output_type": "display_data"
    }
   ],
   "source": [
    "sns.set_style('darkgrid')\n",
    "\n",
    "print  azi_avg_df.iloc[-1]/61.79\n",
    "\n",
    "fig, ax = plt.subplots(1,1)\n",
    "plt.sca(ax)\n",
    "plt.plot(azi_avg_df.index.values, azi_avg_df['m1']/61.79, '.')\n",
    "# plt.plot(vtm_df.index.values, vtm_df['st30,m1'], '.')\n",
    "\n",
    "plt2.plt_unix_time_to_CST(ax)\n",
    "fig.set_size_inches(12,8)\n",
    "fig.tight_layout()"
   ]
  },
  {
   "cell_type": "code",
   "execution_count": 7,
   "metadata": {},
   "outputs": [
    {
     "name": "stdout",
     "output_type": "stream",
     "text": [
      "52010.48198418383\n",
      "51954.6782179478\n"
     ]
    }
   ],
   "source": [
    "print np.nansum(tr_baseline_1[:,0]*summed_azimuth_1[:,0])/360\n",
    "print np.nansum(tr_baseline_2[:,0]*summed_azimuth_2[:,0])/360"
   ]
  },
  {
   "cell_type": "code",
   "execution_count": null,
   "metadata": {},
   "outputs": [],
   "source": []
  },
  {
   "cell_type": "code",
   "execution_count": 8,
   "metadata": {},
   "outputs": [],
   "source": [
    "# ### Azimuthal averaging of the trolley runs.\n",
    "\n",
    "# tr_cols = ['tr_phi'] + ['tr,m'+str(m+1) for m in range(17)]\n",
    "\n",
    "# # azi_avg_df = tr_single_runs_df_1[3956][tr_cols].copy()\n",
    "# # azi_avg_df = tr_single_runs_df_2[3997][tr_cols].copy()\n",
    "# azi_avg_df = tr_fixed_run_df[tr_cols].copy()\n",
    "\n",
    "# # sort by tr_phi\n",
    "# azi_avg_df = azi_avg_df.sort_values(by=['tr_phi'])\n",
    "# measured_phi = azi_avg_df['tr_phi'].values\n",
    "# measured_extent = (np.roll(measured_phi,-1)-np.roll(measured_phi,1))/2\n",
    "# measured_extent[0] = measured_extent[0]+180\n",
    "# measured_extent[-1] = measured_extent[-1]+180\n",
    "\n",
    "# azi_avg_df['tr_extent'] = pd.Series(measured_extent, index=azi_avg_df.index)\n",
    "# azi_avg_df = azi_avg_df.sort_index()\n",
    "# # azi_avg_df = azi_avg_df.iloc[1:-1]\n",
    "\n",
    "# print np.sum((azi_avg_df['tr_extent'].values * azi_avg_df['tr,m1'].values))/np.sum(azi_avg_df['tr_extent'].values)\n",
    "\n",
    "# # mask a chunk, and calculate the weighted average in that chunk\n",
    "# chunk_size = 45\n",
    "# chunks = np.arange(262.226, 262.226-360.-chunk_size, -chunk_size)%360\n",
    "# # chunks = np.arange(0,360,chunk_size)\n",
    "\n",
    "# avg_m1 = np.empty(len(chunks)-1)\n",
    "\n",
    "# ii=0\n",
    "# for chunk in chunks[0:-1]:\n",
    "#     if chunks[ii] > chunks[ii+1]:\n",
    "#         mask = (azi_avg_df['tr_phi'] <= chunk) & (azi_avg_df['tr_phi'] > chunk - chunk_size)\n",
    "#     else:\n",
    "#         mask = (azi_avg_df['tr_phi'] <= chunk) | (azi_avg_df['tr_phi'] > (chunk - chunk_size)%360)\n",
    "# #     mask = (azi_avg_df['tr_phi'] >= chunk) & (azi_avg_df['tr_phi'] < chunk + chunk_size)\n",
    "#     masked_df = azi_avg_df[mask].copy()\n",
    "#     avg_m1[ii] = np.sum((masked_df['tr_extent'].values * masked_df['tr,m1'].values))/np.sum(masked_df['tr_extent'].values)\n",
    "# #     avg_m1[ii] = np.mean(masked_df['tr,m1'].values)\n",
    "#     ii += 1\n",
    "\n",
    "# print np.round(avg_m1/61.79,4)\n",
    "# print np.round(np.mean(avg_m1)/61.79,4)\n",
    "\n",
    "# # rachels = [827.158, 843.35, 832.939, 840.858, 839.643, 848.998, 847.843, 844.759, 855.821, 851.28, 834.809, 833.256]\n",
    "# # rachels = [853.423, 839.411, 841.514, 843.103, 846.196, 854.245, 860.909, 849.704, 836.338, 824.734, 843.18, 850.953, 835.783, 839.038, 847.717, 826.173, 828.564, 844.066, 850.029, 838.228, 841.825, 837.977, 827.122, 816.239, 842.408, 842.648, 814.754, 830.901, 841.447, 832.1, 860.263, 847.409, 846.18, 864.561, 844.672, 858.153]\n",
    "# # rachels = [847.211, 837.801, 834.578, 847.358]\n",
    "# rachels = [848.295, 848.26, 831.263, 832.374, 836.94, 828.263, 846.873, 854.249+0.120]\n",
    "\n",
    "# print np.mean(rachels)\n",
    "# print np.mean(avg_m1/61.79)\n",
    "# print np.mean(rachels - avg_m1/61.79)\n",
    "# print np.std(rachels - avg_m1/61.79)\n",
    "\n",
    "# fig, ax = plt.subplots(2,1)\n",
    "# plt.sca(ax[0])\n",
    "# plt.plot(avg_m1/61.79, rachels, '.', color='red')\n",
    "\n",
    "# plt.sca(ax[1])\n",
    "# plt.plot(rachels - avg_m1/61.79, '.', color='red')\n",
    "\n",
    "# fig.set_size_inches(12,8)\n",
    "# fig.tight_layout()"
   ]
  },
  {
   "cell_type": "code",
   "execution_count": 9,
   "metadata": {},
   "outputs": [],
   "source": [
    "# ### NOTE: This cell has been incorporated in helper functions.\n",
    "\n",
    "# vtm_df = fp_moment_df.copy()\n",
    "\n",
    "# for st in range(72):\n",
    "#     num_probes = trfp.STATION_PROBE_NUMBER[st]\n",
    "\n",
    "#     if num_probes == 4:\n",
    "#         num_moments = 4\n",
    "#         if st == 41: J = trfp.J_4_PROBE_ST41\n",
    "#         elif st == 37 | st == 39: J = trfp.J_4_PROBE_ST37_ST39\n",
    "#         else: J = trfp.J_4_PROBE\n",
    "#     else:\n",
    "#         num_moments = 5\n",
    "#         if st < 7: J = trfp.J_6_PROBE_OFFSET\n",
    "#         else: J = trfp.J_6_PROBE\n",
    "# #         J[0,4] = 0\n",
    "\n",
    "#     # first subtract fixed probe baseline from vtm_df\n",
    "#     for m in range(num_probes):\n",
    "#         stm = 'st'+str(st)+',m'+str(m+1)\n",
    "\n",
    "#         def __backwards_correction(time):\n",
    "#             c1 = fp_baseline_1[st, m]\n",
    "#             c2 = fp_baseline_2[st, m]\n",
    "#             t1 = baseline_time_1[st, m]\n",
    "#             t2 = baseline_time_2[st, m]\n",
    "#             return (c2-c1)/(t2-t1)*(time-t1) + c1\n",
    "\n",
    "#         vtm_df[stm] = vtm_df[stm] - __backwards_correction(vtm_df.index.values)\n",
    "\n",
    "#     # next apply the Jacobian to the station\n",
    "#     stms = ['st'+str(st)+',m'+str(m+1) for m in range(num_moments)]\n",
    "#     vtm_df[stms] = vtm_df[stms].dot(np.transpose(J))\n",
    "\n",
    "#     # finally add trolley baseline to vtm_df\n",
    "#     for m in range(num_probes):\n",
    "#         stm = 'st'+str(st)+',m'+str(m+1)\n",
    "\n",
    "#         def __backwards_correction(time):\n",
    "#             c1 = tr_baseline_1[st, m]\n",
    "#             c2 = tr_baseline_2[st, m]\n",
    "#             t1 = baseline_time_1[st, m]\n",
    "#             t2 = baseline_time_2[st, m]\n",
    "#             return (c2-c1)/(t2-t1)*(time-t1) + c1\n",
    "\n",
    "#         vtm_df[stm] = vtm_df[stm] + __backwards_correction(vtm_df.index.values)\n",
    "\n",
    "# print '\\nDone.'\n"
   ]
  }
 ],
 "metadata": {
  "kernelspec": {
   "display_name": "Python 2",
   "language": "python",
   "name": "python2"
  },
  "language_info": {
   "codemirror_mode": {
    "name": "ipython",
    "version": 2
   },
   "file_extension": ".py",
   "mimetype": "text/x-python",
   "name": "python",
   "nbconvert_exporter": "python",
   "pygments_lexer": "ipython2",
   "version": "2.7.14"
  }
 },
 "nbformat": 4,
 "nbformat_minor": 2
}
