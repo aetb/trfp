{
 "cells": [
  {
   "cell_type": "code",
   "execution_count": 1,
   "metadata": {},
   "outputs": [
    {
     "name": "stdout",
     "output_type": "stream",
     "text": [
      "Welcome to JupyROOT 6.12/04\n"
     ]
    }
   ],
   "source": [
    "%load_ext autoreload\n",
    "%autoreload 2\n",
    "\n",
    "%matplotlib inline\n",
    "import matplotlib\n",
    "import matplotlib.pyplot as plt\n",
    "import seaborn as sns\n",
    "\n",
    "import numpy as np\n",
    "import pandas as pd\n",
    "\n",
    "from scipy.optimize import curve_fit\n",
    "\n",
    "import gm2\n",
    "import trfp\n",
    "import plotting_functions as plt2\n",
    "import analysis_helper as helper\n",
    "import helper_function_candidates as helper_old\n",
    "\n",
    "from IPython.display import clear_output\n",
    "\n",
    "# temp imports\n",
    "\n",
    "import generate_dfs_helper as df_gen"
   ]
  },
  {
   "cell_type": "code",
   "execution_count": 2,
   "metadata": {},
   "outputs": [],
   "source": [
    "## paths and dictionaries\n",
    "\n",
    "prefix = 'data1/newg2/DataProduction/Offline/ArtTFSDir/v9_21_05_dev/FieldPlainRootOutput_'\n",
    "sanitize = True\n",
    "\n",
    "save_dir = 'hdf5/'\n",
    "if sanitize:\n",
    "    save_dir += 'sanitized/'\n",
    "\n",
    "dict_60hr = {'fp_df_1':range(3959,3995),\n",
    "             'tr_df_1':[3956], 'tr_df_2':[3997],\n",
    "             'subrun_df':[15921, 15992]}\n",
    "\n",
    "dict_9day = {'fp_df_1':range(4141,4179), 'fp_df_2':range(4193,4223),\n",
    "             'fp_df_3':range(4229,4263), 'fp_df_4':range(4283,4489),\n",
    "             'tr_df_1':[4138], 'tr_df_2':[4181], 'tr_df_3':[4189],\n",
    "             'tr_df_4':[4226], 'tr_df_5':[4265], 'tr_df_6':[4493],\n",
    "             'subrun_df':[16355, 16539]}\n",
    "\n",
    "dict_highkick = {'fp_df_1':range(4061,4096), 'fp_df_2':range(4101,4122)+range(4123,4136),\n",
    "                 'tr_df_1':[4058], 'tr_df_2':[4098], 'tr_df_3':[4138],\n",
    "                 'subrun_df':[16110, 16256]}\n",
    "\n",
    "dict_endgame = {#'fp_df_1':range(5000,5050),\n",
    "                'fp_df_2':range(5057,5101),\n",
    "                'fp_df_3':range(5120,5155), 'fp_df_4':range(5172,5215),\n",
    "                'fp_df_5':range(5220,5257), 'fp_df_6':range(5262,5301),\n",
    "                #'tr_df_1':[4197],\n",
    "                'tr_df_2':[5054], 'tr_df_3':[5103],\n",
    "                'tr_df_4':[5117], 'tr_df_5':[5157], 'tr_df_6':[5169],\n",
    "                'tr_df_7':[5217], 'tr_df_8':[5259], #'tr_df_9':[5303],\n",
    "                'subrun_df':[16908, 17528]}\n",
    "\n",
    "dict_lowkick = {'fp_df_1':range(4542,4582),\n",
    "                'tr_df_1':[4539], 'tr_df_2':[4584],\n",
    "                'subrun_df':[16669, 16714]}\n",
    "\n",
    "run_1_dict = {'60hr':dict_60hr, '9day':dict_9day, 'highkick':dict_highkick,\n",
    "               'endgame':dict_endgame}#, 'lowkick':dict_lowkick}"
   ]
  },
  {
   "cell_type": "code",
   "execution_count": 3,
   "metadata": {},
   "outputs": [],
   "source": [
    "def save_df(dict_run, save_name):\n",
    "    for frame in dict_run:\n",
    "        clear_output()\n",
    "        print frame\n",
    "        if frame != 'subrun_df':\n",
    "            if frame[:2] == 'tr':\n",
    "                new_df = helper.root_to_pandas(dict_run[frame], prefix=prefix, tr_run=True, sanitize=sanitize)\n",
    "            elif frame[:2] == 'fp':\n",
    "                new_df = helper.root_to_pandas(dict_run[frame], prefix=prefix, tr_run=False, sanitize=sanitize)\n",
    "            else:\n",
    "                raise NameError('Unexpected key name.')\n",
    "        else:\n",
    "            new_df = df_gen.get_subrun_df(dict_run[frame][0], dict_run[frame][1])\n",
    "        \n",
    "        filename = save_dir+save_name\n",
    "        new_df.to_hdf(filename, key=frame)\n",
    "        \n",
    "        clear_output()\n",
    "        print 'Saved to: '+filename\n",
    "            "
   ]
  },
  {
   "cell_type": "code",
   "execution_count": null,
   "metadata": {},
   "outputs": [],
   "source": [
    "save_df(dict_endgame, 'endgame.h5')"
   ]
  },
  {
   "cell_type": "code",
   "execution_count": 5,
   "metadata": {},
   "outputs": [
    {
     "name": "stdout",
     "output_type": "stream",
     "text": [
      "Saved to: hdf5/sanitized/60hr.h5\n"
     ]
    }
   ],
   "source": [
    "save_df(dict_60hr, '60hr.h5')\n",
    "# save_df(dict_highkick, 'highkick.h5')"
   ]
  },
  {
   "cell_type": "code",
   "execution_count": null,
   "metadata": {
    "scrolled": true
   },
   "outputs": [],
   "source": [
    "## This cell will save all of the run 1 data sets in run_1_dict\n",
    "\n",
    "for run in run_1_dict:\n",
    "    save_df(run_1_dict[run], run+'.h5')"
   ]
  },
  {
   "cell_type": "code",
   "execution_count": null,
   "metadata": {},
   "outputs": [],
   "source": [
    "## generate the spliced dataframe for 9day trolley run 4 (the azimuthal coil correction)\n",
    "\n",
    "tr_df_long = helper.root_to_pandas([4226], prefix=prefix, tr_run=True, sanitize=sanitize)\n",
    "tr_df_shrt = helper.root_to_pandas([4224], prefix=prefix, tr_run=True, sanitize=sanitize)\n",
    "\n",
    "# put stations 39-53 from the short cw run into the main run\n",
    "\n",
    "cut_low = trfp.STATION_BARCODE_EDGES[39]\n",
    "cut_high = trfp.STATION_BARCODE_EDGES[54]\n",
    "\n",
    "df_ccw = tr_df_long.copy()\n",
    "df_ccw = df_ccw[(df_ccw['tr_phi']<cut_low) | (df_ccw['tr_phi']>cut_high)]\n",
    "\n",
    "df_cw = tr_df_shrt.copy()\n",
    "df_cw = df_cw[(df_cw['tr_phi']>cut_low) & (df_cw['tr_phi']<cut_high)]\n",
    "\n",
    "tr_df_4a = df_cw.copy()\n",
    "tr_df_4a = tr_df_4a.append(df_ccw)\n",
    "\n",
    "filename = save_dir+'9day.h5'\n",
    "\n",
    "tr_df_4a.to_hdf(filename, 'tr_df_4a')\n",
    "\n",
    "plt.plot(tr_df_4a['tr_phi'], tr_df_4a['tr0'], '.')"
   ]
  },
  {
   "cell_type": "code",
   "execution_count": null,
   "metadata": {},
   "outputs": [],
   "source": []
  }
 ],
 "metadata": {
  "kernelspec": {
   "display_name": "Python 2",
   "language": "python",
   "name": "python2"
  },
  "language_info": {
   "codemirror_mode": {
    "name": "ipython",
    "version": 2
   },
   "file_extension": ".py",
   "mimetype": "text/x-python",
   "name": "python",
   "nbconvert_exporter": "python",
   "pygments_lexer": "ipython2",
   "version": "2.7.14"
  }
 },
 "nbformat": 4,
 "nbformat_minor": 2
}
