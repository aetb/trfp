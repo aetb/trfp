{
 "cells": [
  {
   "cell_type": "code",
   "execution_count": 1,
   "metadata": {},
   "outputs": [
    {
     "name": "stdout",
     "output_type": "stream",
     "text": [
      "Welcome to JupyROOT 6.12/04\n"
     ]
    }
   ],
   "source": [
    "%load_ext autoreload\n",
    "%autoreload 2\n",
    "\n",
    "%matplotlib inline\n",
    "import matplotlib\n",
    "import matplotlib.pyplot as plt\n",
    "from mpl_toolkits import mplot3d\n",
    "import seaborn as sns\n",
    "\n",
    "import numpy as np\n",
    "import pandas as pd\n",
    "from scipy.optimize import curve_fit\n",
    "from scipy.integrate import dblquad\n",
    "import scipy\n",
    "\n",
    "import gm2\n",
    "import trfp\n",
    "import plotting_functions as plt2\n",
    "import analysis_helper as helper\n",
    "import helper_function_candidates as helper_old\n"
   ]
  },
  {
   "cell_type": "markdown",
   "metadata": {},
   "source": [
    "# Muon-weighted average"
   ]
  },
  {
   "cell_type": "markdown",
   "metadata": {},
   "source": [
    "## Import the common data files"
   ]
  },
  {
   "cell_type": "code",
   "execution_count": 2,
   "metadata": {},
   "outputs": [],
   "source": [
    "# Import sample file\n",
    "time_avg_df = pd.read_hdf('mu_avg/sample_time_avg.h5', key='60hr')\n",
    "\n",
    "# import the muon dist files\n",
    "mu_hist = np.loadtxt('mu_avg/60beam_preliminary.csv').transpose()\n",
    "\n",
    "# use Eva's fitting\n",
    "xdata = np.sum(mu_hist,0)/np.max(np.sum(mu_hist,0))  # note that the axes are reversed from Eva's\n",
    "ydata = np.sum(mu_hist,1)/np.max(np.sum(mu_hist,1))  # because of the transpose above\n",
    "\n",
    "xbins = np.linspace(-199.75, 199.75, 800)\n",
    "ybins = np.linspace(-199.75, 199.75, 800)\n"
   ]
  },
  {
   "cell_type": "markdown",
   "metadata": {},
   "source": [
    "## Define the muon distribution\n",
    "\n",
    "The muon distribution is modeled as a guassian in the y-dimension times a sum of three gaussians in the x-dimension."
   ]
  },
  {
   "cell_type": "code",
   "execution_count": 3,
   "metadata": {},
   "outputs": [],
   "source": [
    "def Gaussian(x, mu, sigma, A):\n",
    "    return A*np.exp(-(x-mu)**2/(2*sigma**2))\n",
    "\n",
    "def x_fit(x, m1, m2, m3, s1, s2, s3, A1, A2, A3):\n",
    "    return Gaussian(x, m1, s1, A1) + Gaussian(x, m2, s2, A2) + Gaussian(x, m3, s3, A3)\n"
   ]
  },
  {
   "cell_type": "code",
   "execution_count": 4,
   "metadata": {},
   "outputs": [],
   "source": [
    "## The y gaussian fit is straight forward\n",
    "\n",
    "Yresults, _ = curve_fit(Gaussian, ybins, ydata)"
   ]
  },
  {
   "cell_type": "markdown",
   "metadata": {},
   "source": [
    "The x gaussian fit requires \"training\" on the data set. Because it has nine independent parameters, we want to reduce that value to four parameters (corresponding roughly to amplitude, position, width, and skew). We fit all 9 parameters, then define 5 relationships bewtween them. This leaves us with 4 independent parameters."
   ]
  },
  {
   "cell_type": "code",
   "execution_count": 5,
   "metadata": {},
   "outputs": [],
   "source": [
    "Xparams, _ = curve_fit(x_fit, xbins, xdata, p0=[-24, -2, 20, 8.3, 12.7, 9.9, 0.17, 0.5, 0.9])\n",
    "\n",
    "sort_params = np.argsort(Xparams[6:9])\n",
    "\n",
    "## variables: A1, m1 (highest peak), s1, (A1-A3)/A1=d\n",
    "a2 = Xparams[sort_params[1]+6]/Xparams[sort_params[2]+6]\n",
    "s2 = Xparams[sort_params[1]+3]/Xparams[sort_params[0]+3]\n",
    "s3 = Xparams[sort_params[2]+3]/Xparams[sort_params[0]+3]\n",
    "d2 = Xparams[sort_params[0]] - Xparams[sort_params[1]]\n",
    "d3 = Xparams[sort_params[0]] - Xparams[sort_params[2]]\n",
    "\n",
    "def SumGaussian(x, mu, sigma, A, d):\n",
    "    return Gaussian(x, mu, sigma, A) + Gaussian(x, mu-d2, s2*sigma, (1-d)*A*a2) + Gaussian(x, mu-d3, s3*sigma, A*(1-d))\n",
    "\n",
    "Xresults = [Xparams[sort_params[0]], Xparams[sort_params[0]+3], Xparams[sort_params[0]+6],\n",
    "            (Xparams[sort_params[0]+6]-Xparams[sort_params[2]+6])/Xparams[sort_params[0]+6]]"
   ]
  },
  {
   "cell_type": "markdown",
   "metadata": {},
   "source": [
    "The muon distribution is the product of the x and y distributions. Because this is used as a weighting function, the amplitude doesn't matter, so it is set to 1 for both 1D distributions."
   ]
  },
  {
   "cell_type": "code",
   "execution_count": 6,
   "metadata": {},
   "outputs": [],
   "source": [
    "def mu_dist(y, x, mu_x, sigma_x, d_x, mu_y, sigma_y):  # in mm!!!!!!!!!!!\n",
    "\n",
    "    rho = Gaussian(y, mu_y, sigma_y, 1)\n",
    "    rho *= SumGaussian(x, mu_x, sigma_x, 1, d_x)\n",
    "\n",
    "    return rho"
   ]
  },
  {
   "cell_type": "code",
   "execution_count": 7,
   "metadata": {
    "scrolled": false
   },
   "outputs": [
    {
     "name": "stdout",
     "output_type": "stream",
     "text": [
      "\n",
      "N(x, mu, sigma) = exp(-1/2 * (x-mu)^2/sigma^2)\n",
      "\n",
      "-----X profiles-----\n",
      "\n",
      "Fit equation: f(x) = A*N(x, m, s) + A*(1-d)*a2*N(x, m-d2, s*s2) + A*(1-d)*N(x, m-d3, s*s3)\n",
      "\n",
      "with a2= 0.5631303186634135 , d2= -21.978445189836872 , d3= -44.630442580736144 , s2= 1.6846673885039152 , s3= 1.233366311863845\n",
      "\n",
      "Station 12\n",
      "m:  -24.38433499839929 \n",
      "s:  7.912635875525332 \n",
      "d:  -4.2886411499353\n"
     ]
    },
    {
     "data": {
      "image/png": "[encoded data removed]",
      "text/plain": [
       "<Figure size 576x432 with 2 Axes>"
      ]
     },
     "metadata": {
      "needs_background": "light"
     },
     "output_type": "display_data"
    }
   ],
   "source": [
    "print \"\\nN(x, mu, sigma) = exp(-1/2 * (x-mu)^2/sigma^2)\"\n",
    "print \"\\n-----X profiles-----\"\n",
    "print \"\\nFit equation: f(x) = A*N(x, m, s) + A*(1-d)*a2*N(x, m-d2, s*s2) + A*(1-d)*N(x, m-d3, s*s3)\"\n",
    "print \"\\nwith a2=\", a2, \", d2=\", d2, \", d3=\", d3, \", s2=\", s2, \", s3=\", s3\n",
    "print \"\\nStation 12\\nm: \", Xresults[0], \"\\ns: \", Xresults[1], \"\\nd: \", Xresults[3]\n",
    "\n",
    "fig, axs = plt.subplots(2,1)\n",
    "\n",
    "#x profile\n",
    "axs[0].plot(xbins, xdata)\n",
    "axs[0].plot(xbins, SumGaussian(xbins, Xresults[0], Xresults[1], Xresults[2], Xresults[3]))\n",
    "axs[0].set_title(\"Fit X profile\")\n",
    "\n",
    "#y profile\n",
    "axs[1].plot(ybins, ydata)\n",
    "axs[1].plot(ybins, Gaussian(ybins, Yresults[0], Yresults[1], Yresults[2]))\n",
    "axs[1].set_title(\"Fit Y profile\")\n",
    "\n",
    "fig.set_size_inches(8,6)\n",
    "fig.tight_layout()\n"
   ]
  },
  {
   "cell_type": "markdown",
   "metadata": {},
   "source": [
    "## Perform the 2D integral\n",
    "\n",
    "The integrand is the product of the muon distribution and the field map in a given station. Note that there is also a (711.2 + x) factor to account for the circular path. The normalization integrand is the muon distribution times the circular factor. **NOTE: The muon distribution is currently in mm, while the field map is in cm. This should be changed to avoid problems in the future.**\n",
    "\n",
    "The average field from each station is then weighted by the station's azimuthal extent and averaged over the full ring."
   ]
  },
  {
   "cell_type": "code",
   "execution_count": 14,
   "metadata": {},
   "outputs": [
    {
     "name": "stdout",
     "output_type": "stream",
     "text": [
      "Station 71                                                                     \n",
      "\n",
      "51758.14662160731\n",
      "837.6460045574901\n"
     ]
    }
   ],
   "source": [
    "station_centers = (trfp.STATION_BARCODE_EDGES[1:] + trfp.STATION_BARCODE_EDGES[:-1])/2\n",
    "station_centers[2] += 180\n",
    "\n",
    "weights = (trfp.STATION_BARCODE_EDGES[1:] - trfp.STATION_BARCODE_EDGES[:-1])%360\n",
    "\n",
    "def field_map(y, x, st):  # in cm\n",
    "    _st = 'st'+str(st)+','\n",
    "\n",
    "    r = np.sqrt(x**2 + y**2)\n",
    "    theta = np.arctan2(y, x)\n",
    "\n",
    "    B = time_avg_df[_st+'m1']\n",
    "    B += time_avg_df[_st+'m2'] * (r/4.5) * np.cos(theta)\n",
    "    B += time_avg_df[_st+'m3'] * (r/4.5) * np.sin(theta)\n",
    "    B += time_avg_df[_st+'m5'] * (r/4.5)**2 * np.cos(2*theta)\n",
    "    B += time_avg_df[_st+'m4'] * (r/4.5)**2 * np.sin(2*theta)\n",
    "    B += time_avg_df[_st+'m6'] * (r/4.5)**3 * np.sin(3*theta)\n",
    "\n",
    "    return B\n",
    "\n",
    "# Note the 10* in mu_dist, converting cm to mm\n",
    "\n",
    "def integrand(y, x, st, mu_x, sigma_x, d_x, mu_y, sigma_y):\n",
    "    return (711.2 + x) * mu_dist(10*y, 10*x, mu_x, sigma_x, d_x, mu_y, sigma_y) * field_map(y, x, st)\n",
    "\n",
    "def normalization(y, x, mu_x, sigma_x, d_x, mu_y, sigma_y):\n",
    "    return (711.2 + x) * mu_dist(10*y, 10*x, mu_x, sigma_x, d_x, mu_y, sigma_y)\n",
    "\n",
    "field_avg = 0\n",
    "\n",
    "for st in range(72):\n",
    "    \n",
    "    print '\\rStation ' + str(st),\n",
    "\n",
    "    B_int, _ = dblquad(integrand, -10, 10, lambda x: -10, lambda x: 10,\n",
    "                       args=[st, Xresults[0], Xresults[1], Xresults[3], Yresults[0], Yresults[1]],\n",
    "                       epsabs=0.1, epsrel=0.1)\n",
    "    B_norm, _ = dblquad(normalization, -10, 10, lambda x: -10, lambda x: 10,\n",
    "                        args=[Xresults[0], Xresults[1], Xresults[3], Yresults[0], Yresults[1]],\n",
    "                        epsabs=0.1, epsrel=0.1)\n",
    "    B_weight = B_int/B_norm\n",
    "\n",
    "    field_avg += B_weight * weights[st]/360\n",
    "    \n",
    "print '\\n'\n",
    "print field_avg\n",
    "print field_avg/61.79\n",
    "\n",
    "field_avg_no_co = field_avg"
   ]
  },
  {
   "cell_type": "markdown",
   "metadata": {},
   "source": [
    "## 1+1+2D model\n",
    "\n",
    "We can test that, given an azimuthally-invariant beam, the result from above equals the result when the full ring's field map is averaged first, then weight by the muon distribution."
   ]
  },
  {
   "cell_type": "code",
   "execution_count": 15,
   "metadata": {},
   "outputs": [
    {
     "name": "stdout",
     "output_type": "stream",
     "text": [
      "51758.1466216\n",
      "837.646004557\n"
     ]
    }
   ],
   "source": [
    "# naive average\n",
    "\n",
    "B = np.zeros(6)\n",
    "for m in range(6):\n",
    "    for st in range(72):\n",
    "        stm = 'st'+str(st)+',m'+str(m+1)\n",
    "        B[m] += time_avg_df[stm] * weights[st] / 360\n",
    "\n",
    "def field_map(y, x, st):  # in cm\n",
    "#     _st = 'st'+str(st)+','\n",
    "\n",
    "    r = np.sqrt(x**2 + y**2)\n",
    "    theta = np.arctan2(y, x)\n",
    "\n",
    "    out = B[0]\n",
    "    out += B[1] * (r/4.5) * np.cos(theta)\n",
    "    out += B[2] * (r/4.5) * np.sin(theta)\n",
    "    out += B[4] * (r/4.5)**2 * np.cos(2*theta)\n",
    "    out += B[3] * (r/4.5)**2 * np.sin(2*theta)\n",
    "    out += B[5] * (r/4.5)**3 * np.sin(3*theta)\n",
    "\n",
    "    return out\n",
    "\n",
    "def integrand(y, x, st, mu_x, sigma_x, d_x, mu_y, sigma_y):\n",
    "    return (711.2 + x) * mu_dist(10*y, 10*x, mu_x, sigma_x, d_x, mu_y, sigma_y) * field_map(y, x, st)\n",
    "\n",
    "def normalization(y, x, mu_x, sigma_x, d_x, mu_y, sigma_y):\n",
    "    return (711.2 + x) * mu_dist(10*y, 10*x, mu_x, sigma_x, d_x, mu_y, sigma_y)\n",
    "\n",
    "B_int, _ = dblquad(integrand, -10, 10, lambda x: -10, lambda x: 10,\n",
    "                   args=[st, Xresults[0], Xresults[1], Xresults[3], Yresults[0], Yresults[1]],\n",
    "                   epsabs=0.1, epsrel=0.1)\n",
    "B_norm, _ = dblquad(normalization, -10, 10, lambda x: -10, lambda x: 10,\n",
    "                    args=[Xresults[0], Xresults[1], Xresults[3], Yresults[0], Yresults[1]],\n",
    "                    epsabs=0.1, epsrel=0.1)\n",
    "B_weight = B_int/B_norm\n",
    "\n",
    "print B_weight\n",
    "print B_weight/61.79"
   ]
  },
  {
   "cell_type": "markdown",
   "metadata": {},
   "source": [
    "The following are the differences between the 1+3D method and the 1+1+2D method."
   ]
  },
  {
   "cell_type": "code",
   "execution_count": 16,
   "metadata": {},
   "outputs": [
    {
     "name": "stdout",
     "output_type": "stream",
     "text": [
      "2.1827872842550278e-11\n",
      "3.5325898757970996e-13\n"
     ]
    }
   ],
   "source": [
    "print field_avg - B_weight\n",
    "print (field_avg - B_weight)/61.79"
   ]
  },
  {
   "cell_type": "markdown",
   "metadata": {},
   "source": [
    "## Closed Orbit correction"
   ]
  },
  {
   "cell_type": "code",
   "execution_count": 17,
   "metadata": {},
   "outputs": [],
   "source": [
    "## Using Simon's proposed functions for the horizontal and vertical closed orbits\n",
    "\n",
    "def co_v(phi):\n",
    "    n = 0.18\n",
    "    Ds     = np.array([11.8,  4.8,  3.7,  0.5,   4.3, 6.0])  # ppm\n",
    "    phases = np.array([8.7, -87.7, 51.5, 88.5, -54.6, -23.8])/180.*np.pi\n",
    "    Ns = np.arange(1,Ds.shape[0]+1)\n",
    "    \n",
    "    return 7111./1e6 * (Ds/((1.-n)-Ns**2) * np.cos(Ns*phi + phases)).sum()\n",
    "\n",
    "def co_h(phi):\n",
    "    n = 0.18\n",
    "    Ds     = np.array([31.6,  45.5,  19.2,  39.7,   16.6, 31.0])  # ppm\n",
    "    phases = np.array([-33.5, 64.2, 80.2, 70.7, -50.2, 84.8])/180.*np.pi\n",
    "    Ns = np.arange(1,Ds.shape[0]+1)\n",
    "    \n",
    "    return 7111./1e6 * (Ds/((n)-Ns**2) * np.cos(Ns*phi + phases)).sum()"
   ]
  },
  {
   "cell_type": "code",
   "execution_count": 18,
   "metadata": {},
   "outputs": [
    {
     "name": "stdout",
     "output_type": "stream",
     "text": [
      "Station 71                                                                       \n",
      "\n",
      "51757.6704526406\n",
      "837.6382983110633\n"
     ]
    }
   ],
   "source": [
    "station_centers = (trfp.STATION_BARCODE_EDGES[1:] + trfp.STATION_BARCODE_EDGES[:-1])/2\n",
    "station_centers[2] += 180\n",
    "\n",
    "weights = (trfp.STATION_BARCODE_EDGES[1:] - trfp.STATION_BARCODE_EDGES[:-1])%360\n",
    "\n",
    "def field_map(y, x, st):  # in cm\n",
    "    _st = 'st'+str(st)+','\n",
    "\n",
    "    r = np.sqrt(x**2 + y**2)\n",
    "    theta = np.arctan2(y, x)\n",
    "\n",
    "    B = time_avg_df[_st+'m1']\n",
    "    B += time_avg_df[_st+'m2'] * (r/4.5) * np.cos(theta)\n",
    "    B += time_avg_df[_st+'m3'] * (r/4.5) * np.sin(theta)\n",
    "    B += time_avg_df[_st+'m5'] * (r/4.5)**2 * np.cos(2*theta)\n",
    "    B += time_avg_df[_st+'m4'] * (r/4.5)**2 * np.sin(2*theta)\n",
    "    B += time_avg_df[_st+'m6'] * (r/4.5)**3 * np.sin(3*theta)\n",
    "\n",
    "    return B\n",
    "\n",
    "def _mu_x(st):\n",
    "    return co_h(station_centers[st])\n",
    "\n",
    "def _mu_y(st):\n",
    "    return co_v(station_centers[st])\n",
    "\n",
    "# Note the 10* in mu_dist, converting cm to mm\n",
    "\n",
    "def integrand(y, x, st, mu_x, sigma_x, d_x, mu_y, sigma_y):\n",
    "    return (711.2 + x) * mu_dist(10*y, 10*x, mu_x, sigma_x, d_x, mu_y, sigma_y) * field_map(y, x, st)\n",
    "\n",
    "def normalization(y, x, mu_x, sigma_x, d_x, mu_y, sigma_y):\n",
    "    return (711.2 + x) * mu_dist(10*y, 10*x, mu_x, sigma_x, d_x, mu_y, sigma_y)\n",
    "\n",
    "field_avg = 0\n",
    "\n",
    "for st in range(72):\n",
    "    \n",
    "    print '\\rStation ' + str(st),\n",
    "\n",
    "    B_int, _ = dblquad(integrand, -10, 10, lambda x: -10, lambda x: 10,\n",
    "                       args=[st, Xresults[0]+_mu_x(st), Xresults[1], Xresults[3], Yresults[0]+_mu_y(st), Yresults[1]],\n",
    "                       epsabs=0.1, epsrel=0.1)\n",
    "    B_norm, _ = dblquad(normalization, -10, 10, lambda x: -10, lambda x: 10,\n",
    "                        args=[Xresults[0]+_mu_x(st), Xresults[1], Xresults[3], Yresults[0]+_mu_y(st), Yresults[1]],\n",
    "                        epsabs=0.1, epsrel=0.1)\n",
    "    B_weight = B_int/B_norm\n",
    "\n",
    "    field_avg += B_weight * weights[st]/360\n",
    "\n",
    "print '\\n'\n",
    "print field_avg\n",
    "print field_avg/61.79\n",
    "\n",
    "field_avg_co = field_avg"
   ]
  },
  {
   "cell_type": "markdown",
   "metadata": {},
   "source": [
    "The numbers below are the difference in the average field between including the closed orbit and assuming no closed orbit."
   ]
  },
  {
   "cell_type": "code",
   "execution_count": 19,
   "metadata": {},
   "outputs": [
    {
     "name": "stdout",
     "output_type": "stream",
     "text": [
      "-0.47616896670660935\n",
      "-0.007706246426713212\n"
     ]
    }
   ],
   "source": [
    "## difference including the closed orbit\n",
    "print field_avg_co - field_avg_no_co\n",
    "print (field_avg_co - field_avg_no_co)/61.79"
   ]
  },
  {
   "cell_type": "code",
   "execution_count": null,
   "metadata": {},
   "outputs": [],
   "source": []
  }
 ],
 "metadata": {
  "kernelspec": {
   "display_name": "Python 2",
   "language": "python",
   "name": "python2"
  },
  "language_info": {
   "codemirror_mode": {
    "name": "ipython",
    "version": 2
   },
   "file_extension": ".py",
   "mimetype": "text/x-python",
   "name": "python",
   "nbconvert_exporter": "python",
   "pygments_lexer": "ipython2",
   "version": "2.7.14"
  }
 },
 "nbformat": 4,
 "nbformat_minor": 2
}
