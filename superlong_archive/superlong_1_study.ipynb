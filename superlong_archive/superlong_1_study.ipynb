{
 "cells": [
  {
   "cell_type": "markdown",
   "metadata": {},
   "source": [
    "# Super-Long Stationary Run\n",
    "Trolley at 99.03 deg, under station 22."
   ]
  },
  {
   "cell_type": "code",
   "execution_count": null,
   "metadata": {},
   "outputs": [],
   "source": [
    "%matplotlib inline\n",
    "import matplotlib.pyplot as plt\n",
    "import seaborn as sns\n",
    "\n",
    "import numpy as np\n",
    "import pandas as pd\n",
    "import allantools\n",
    "\n",
    "from root_to_pandas import root_to_pandas\n",
    "import trfp\n",
    "import gm2\n",
    "\n",
    "import helper_function_candidates as helper\n",
    "import plotting_functions as plt2\n",
    "\n",
    "from IPython.display import clear_output"
   ]
  },
  {
   "cell_type": "markdown",
   "metadata": {},
   "source": [
    "## Import the long stationary runs\n",
    "Have to interpolate the times between run numbers"
   ]
  },
  {
   "cell_type": "code",
   "execution_count": null,
   "metadata": {},
   "outputs": [],
   "source": [
    "# %%time\n",
    "# interp_df = root_to_pandas([7780], prefix='v9_24_00_dev2/FieldPlainRootOutput_', tr_run=True)\n",
    "\n",
    "# for run in range(7781, 7794)+range(7795, 7825):  # no 7794 yet\n",
    "#     clear_output()\n",
    "#     print 'Run: '+str(run)+' of 7825'\n",
    "#     temp_df = root_to_pandas([run], prefix='v9_24_00_dev2/FieldPlainRootOutput_', tr_run=True)\n",
    "#     fill_times = np.arange(interp_df.index.values[-1]+1, temp_df.index.values[0])\n",
    "#     fill_df = pd.DataFrame(index=fill_times, columns=interp_df.columns)\n",
    "\n",
    "#     for col in interp_df.columns:\n",
    "#         fill_df[col] = np.interp(fill_times, np.append(interp_df.index.values, temp_df.index.values),\n",
    "#                                  np.append(interp_df[col].values, temp_df[col].values))\n",
    "\n",
    "#     interp_df = interp_df.append(fill_df)\n",
    "#     interp_df = interp_df.append(temp_df)\n",
    "\n",
    "# interp_df['tr_phi'] = 99.03\n",
    "\n",
    "# interp_df.to_hdf('super-long_stationary_run.h5', 'interp_df')\n"
   ]
  },
  {
   "cell_type": "code",
   "execution_count": null,
   "metadata": {},
   "outputs": [],
   "source": [
    "interp_df = pd.read_hdf('hdf5/super-long_stationary_run.h5', 'interp_df')"
   ]
  },
  {
   "cell_type": "code",
   "execution_count": null,
   "metadata": {},
   "outputs": [],
   "source": [
    "moment_df = pd.DataFrame(index=interp_df.index)\n",
    "moment_df['tr_phi'] = interp_df['tr_phi'].values\n",
    "\n",
    "print 'Calculating trolley moments.',\n",
    "theta_tr = trfp.THETA_TR\n",
    "for m in np.arange(17):\n",
    "    tr_probes = ['tr'+str(probe) for probe in np.arange(17)]\n",
    "    moment_df['tr,m'+str(m+1)] = interp_df[tr_probes].dot(theta_tr[m])\n",
    "    \n",
    "for station in np.arange(72):\n",
    "    print '\\rCalculating station ' + str(station) + ' moments.',\n",
    "    fp_st = ['fp'+str(fp) for fp in trfp.STATION_PROBE_ID[station]]\n",
    "\n",
    "    # choose proper theta matrix\n",
    "    if len(trfp.STATION_PROBE_ID[station]) == 4:\n",
    "        if station == 41:\n",
    "            theta_fp = trfp.THETA_FP_4_ST41\n",
    "        elif (station == 37) | (station == 39):\n",
    "            theta_fp = trfp.THETA_FP_4_ST37_ST39\n",
    "        else:\n",
    "            theta_fp = trfp.THETA_FP_4\n",
    "    else:\n",
    "        theta_fp = trfp.THETA_FP_6\n",
    "\n",
    "    # step through m values\n",
    "    for m in np.arange(len(trfp.STATION_PROBE_ID[station])):\n",
    "        stm = 'st'+str(station)+',m'+str(m+1)\n",
    "        moment_df[stm] = interp_df[fp_st].dot(theta_fp[m])\n",
    "    if len(trfp.STATION_PROBE_ID[station]) == 4:\n",
    "        moment_df['st'+str(station)+',m5'] = np.nan\n",
    "        moment_df['st'+str(station)+',m6'] = np.nan\n",
    "        \n",
    "# calculate baselines using the first 5 points (doesn't actually matter)\n",
    "tr_baseline = np.empty((72,17))\n",
    "\n",
    "df_mean =  np.mean(moment_df.iloc[0:1000], axis=0).values\n",
    "\n",
    "for i in range(72):\n",
    "    tr_baseline[i, :] = df_mean[1:18]\n",
    "fp_baseline = np.reshape(df_mean[18:], (72,6))\n",
    "\n",
    "baseline_time_1 = np.empty((72,6))\n",
    "baseline_time_2 = np.empty((72,6))\n",
    "\n",
    "baseline_time_1[:,:] = moment_df.index.values[0]\n",
    "baseline_time_2[:,:] = moment_df.index.values[-1]\n",
    "\n",
    "fp_df = moment_df.copy()\n",
    "\n",
    "fp_df = fp_df.drop(columns=['tr_phi']+['tr,m'+str(m) for m in range(1,18)])\n",
    "\n",
    "vtm_df = helper.vtm_calc(fp_df, baseline_time_1, baseline_time_2, tr_baseline, tr_baseline, fp_baseline, fp_baseline)"
   ]
  },
  {
   "cell_type": "code",
   "execution_count": null,
   "metadata": {},
   "outputs": [],
   "source": [
    "taus_in = np.round(np.power(10, np.arange(0,5.5,0.05)))\n",
    "\n",
    "taus, adev, _, _ = allantools.oadev((moment_df['tr,m1']-vtm_df['st22,m1']).values, data_type='freq', rate=1, taus=taus_in)\n",
    "plt.loglog(taus, adev, '.')\n",
    "\n",
    "taus, adev, _, _ = allantools.oadev((moment_df['tr,m1']-vtm_df['st22,m1']-2.68*vtm_df['st22,m5']).values, data_type='freq', rate=1, taus=taus_in)\n",
    "plt.loglog(taus, adev, '.', color='C2')"
   ]
  },
  {
   "cell_type": "code",
   "execution_count": null,
   "metadata": {},
   "outputs": [],
   "source": [
    "taus_in = np.round(np.power(10, np.arange(0,5.5,0.05)))\n",
    "\n",
    "taus, adev, _, _ = allantools.ohdev((moment_df['tr,m1']-vtm_df['st22,m1']).values, data_type='freq', rate=1, taus=taus_in)\n",
    "plt.loglog(taus, adev, '.')\n",
    "\n",
    "taus, adev, _, _ = allantools.ohdev((moment_df['tr,m1']-vtm_df['st22,m1']-2.68*vtm_df['st22,m5']).values, data_type='freq', rate=1, taus=taus_in)\n",
    "plt.loglog(taus, adev, '.', color='C2')"
   ]
  },
  {
   "cell_type": "markdown",
   "metadata": {},
   "source": [
    "## Begin performing Allan studies on super-long run"
   ]
  },
  {
   "cell_type": "code",
   "execution_count": null,
   "metadata": {},
   "outputs": [],
   "source": [
    "st = 22\n",
    "\n",
    "fig, axs = plt.subplots(3,2)\n",
    "for ii in range(2):\n",
    "    for jj in range(3):\n",
    "        m = 2*jj+ii+1\n",
    "        trm = 'tr,m'+str(m)\n",
    "        stm = 'st'+str(st)+',m'+str(m)\n",
    "        plt.sca(axs[jj,ii])\n",
    "        plt.plot(vtm_df.index.values, vtm_df[stm], '.', color='navy', label='vtm')\n",
    "        plt.plot(moment_df.index.values, moment_df[trm], '.', color='orange', markersize=3, label='trolley')\n",
    "        plt2.plt_unix_time_to_CST(axs[jj,ii])\n",
    "        plt2.plt_set_labels(axs[jj,ii], '', 'm'+str(m)+' (Hz)', '')\n",
    "        plt.legend()\n",
    "fig.set_size_inches(12,12)\n",
    "fig.tight_layout()"
   ]
  },
  {
   "cell_type": "code",
   "execution_count": null,
   "metadata": {},
   "outputs": [],
   "source": [
    "fig, axs = plt.subplots(3,2)\n",
    "for ii in range(2):\n",
    "    for jj in range(3):\n",
    "        m = 2*jj+ii+1\n",
    "        trm = 'tr,m'+str(m)\n",
    "        stm = 'st'+str(st)+',m'+str(m)\n",
    "        plt.sca(axs[jj,ii])\n",
    "        plt.plot(vtm_df.index.values, vtm_df[stm]-moment_df[trm], '.', color='navy')\n",
    "        plt2.plt_unix_time_to_CST(axs[jj,ii])\n",
    "        plt2.plt_set_labels(axs[jj,ii], '', 'm'+str(m)+' sync offset (Hz)', '')\n",
    "        plt.legend()\n",
    "fig.set_size_inches(12,12)\n",
    "fig.tight_layout()"
   ]
  },
  {
   "cell_type": "code",
   "execution_count": null,
   "metadata": {},
   "outputs": [],
   "source": [
    "fig, ax = plt.subplots(1,1)\n",
    "\n",
    "ax.plot(vtm_df.index.values, vtm_df['st22,m1'], '.', color='C0', label='vtm')\n",
    "ax.plot(moment_df.index.values, moment_df['tr,m1'], '.', color='C1', markersize=3, label='trolley')\n",
    "\n",
    "plt2.plt_unix_time_to_CST(ax)\n",
    "\n",
    "ax.set_ylabel('$m_1$ - 61.74 MHz (Hz)', fontdict={'size':12, 'family':'serif'})\n",
    "ax.set_title('Trolley vs st22,m1 VTM', fontdict={'size':12, 'family':'serif'})\n",
    "\n",
    "fig.set_size_inches(6,4)\n",
    "fig.tight_layout()\n",
    "\n",
    "fig.savefig('super-long.png', dpi=300)"
   ]
  },
  {
   "cell_type": "code",
   "execution_count": null,
   "metadata": {},
   "outputs": [],
   "source": [
    "## calculate the allan deviation of the sync offset\n",
    "\n",
    "fig, ax = plt.subplots(1,1)\n",
    "ax.set_xscale('log')\n",
    "ax.set_yscale('log')\n",
    "\n",
    "taus_in = np.round(np.power(10, np.arange(0,5.5,0.05)))\n",
    "\n",
    "taus, adev, _, _ = allantools.oadev((vtm_df['st22,m1']-moment_df['tr,m1']).values, data_type='freq', rate=1, taus=taus_in)\n",
    "ax.plot(taus, adev, '.')\n",
    "\n",
    "x_range = np.linspace(9e-1, 2e5, 1000)\n",
    "y = (1/np.sqrt(55000)) * x_range**0.5\n",
    "y2 = (1/np.sqrt(550000000)) * x_range\n",
    "\n",
    "ax.plot(x_range, y, label='random walk (0.26 Hz/$\\sqrt{\\mathrm{hr}}$)')\n",
    "ax.plot(x_range, y2, label='sample linear drift')\n",
    "\n",
    "ax.set_ylim(0.1, 10)\n",
    "ax.set_xlim(9e-1,2e5)\n",
    "\n",
    "ax.set_xlabel('integration time (sec)', fontdict={'size':12, 'family':'serif'})\n",
    "ax.set_ylabel('Allan deviation $\\sigma_A$ (Hz)', fontdict={'size':12, 'family':'serif'})\n",
    "ax.set_title('Sync Offset vs Integration Time, st22,m1', fontdict={'size':12, 'family':'serif'})\n",
    "\n",
    "ax.legend(prop={'size':10, 'family':'serif'})\n",
    "\n",
    "fig.set_size_inches(6,4)\n",
    "fig.tight_layout()\n",
    "\n",
    "# fig.savefig('super-long_allan.png', dpi=300)"
   ]
  },
  {
   "cell_type": "code",
   "execution_count": null,
   "metadata": {},
   "outputs": [],
   "source": [
    "A = (1/np.sqrt(55000))  # Hz per root sec\n",
    "\n",
    "print A\n",
    "\n",
    "print A * np.sqrt(3600/1)  # Hz per hour\n",
    "\n",
    "print A * np.sqrt(3600/1) * 60"
   ]
  },
  {
   "cell_type": "code",
   "execution_count": null,
   "metadata": {},
   "outputs": [],
   "source": [
    "### Bin into the agreed upon bins\n",
    "\n",
    "bins = np.arange(vtm_df.index.values[0], vtm_df.index.values[-1], 1000)-500  # bin edges\n",
    "bin_centers = np.arange(vtm_df.index.values[0], vtm_df.index.values[-1]-500, 1000)\n",
    "\n",
    "vtm_bin_df = vtm_df.groupby(pd.cut(vtm_df.index, bins)).mean()\n",
    "vtm_bin_df.index = bin_centers\n",
    "\n",
    "moment_bin_df = moment_df.groupby(pd.cut(moment_df.index, bins)).mean()\n",
    "moment_bin_df.index = bin_centers\n",
    "\n",
    "test_df = vtm_bin_df.copy()\n",
    "\n",
    "azi_avg_df = pd.DataFrame(np.zeros((test_df.shape[0],6)),\n",
    "                         index = test_df.index,\n",
    "                         columns = ['m' + str(m) for m in np.arange(6)+1])"
   ]
  },
  {
   "cell_type": "code",
   "execution_count": null,
   "metadata": {},
   "outputs": [],
   "source": [
    "print trfp.J_6_PROBE_OFFSET\n",
    "\n",
    "print \n",
    "\n",
    "print trfp.J_4_PROBE\n",
    "\n",
    "print trfp.J_4_PROBE_ST37_ST39"
   ]
  },
  {
   "cell_type": "code",
   "execution_count": null,
   "metadata": {},
   "outputs": [],
   "source": [
    "fig2, ax2 = plt.subplots(1,1)\n",
    "plt.plot(vtm_bin_df.index.values, vtm_bin_df['st22,m1'] - moment_bin_df['tr,m1'], '.', color='navy')\n",
    "# plt.plot(moment_df.index.values, (moment_df['tr,m7']-moment_df['tr,m7'].iloc[0]), '.', color='orange', markersize=3, label='skew oct correction')\n",
    "plt2.plt_unix_time_to_CST(ax2)\n",
    "# plt2.plt_set_labels(ax2, '', '(Hz)', 'Next higher moment correction to skew quad')\n",
    "plt.legend()\n",
    "fig2.set_size_inches(8,6)\n",
    "fig2.tight_layout()"
   ]
  },
  {
   "cell_type": "code",
   "execution_count": null,
   "metadata": {},
   "outputs": [],
   "source": [
    "fig2, ax2 = plt.subplots(1,1)\n",
    "plt.plot(vtm_df.index.values, vtm_df['st22,m3']-moment_df['tr,m3'], '.', color='navy', label='skew quad sync offset')\n",
    "plt.plot(moment_df.index.values, -.55*(moment_df['tr,m7']-moment_df['tr,m7'].iloc[0]), '.', color='orange', markersize=3, label='skew oct correction')\n",
    "plt2.plt_unix_time_to_CST(ax2)\n",
    "plt2.plt_set_labels(ax2, '', '(Hz)', 'Next higher moment correction to skew quad')\n",
    "plt.legend()\n",
    "fig2.set_size_inches(8,6)\n",
    "fig2.tight_layout()"
   ]
  },
  {
   "cell_type": "code",
   "execution_count": null,
   "metadata": {},
   "outputs": [],
   "source": [
    "fig2, ax2 = plt.subplots(1,1)\n",
    "plt.plot(vtm_df.index.values, vtm_df['st22,m1']-moment_df['tr,m1'], '.', color='navy', label='dipole sync offset')\n",
    "plt.plot(moment_df.index.values, -3.5*(moment_df['tr,m8']-np.mean(moment_df['tr,m8'])), '.', color='orange', markersize=3, label='n dec correction')\n",
    "plt2.plt_unix_time_to_CST(ax2)\n",
    "plt2.plt_set_labels(ax2, '', '(Hz)', 'Next higher moment correction to dipole')\n",
    "plt.legend()\n",
    "fig2.set_size_inches(8,6)\n",
    "fig2.tight_layout()"
   ]
  },
  {
   "cell_type": "code",
   "execution_count": null,
   "metadata": {},
   "outputs": [],
   "source": [
    "# check the m6 sync offset adev and hdev\n",
    "\n",
    "taus_in = np.round(np.power(10, np.arange(0,5.5,0.05)))\n",
    "\n",
    "fig, ax = plt.subplots(1,1)\n",
    "ax.set_xscale('log')\n",
    "ax.set_yscale('log')\n",
    "\n",
    "plt.sca(ax)\n",
    "taus1, adev1, adev_err1, _ = allantools.oadev((fp_df['st22,m5'] - moment_df['tr,m5']).values, data_type='freq', rate=1, taus=taus_in)\n",
    "plt.errorbar(taus1, adev1, yerr=adev_err1, fmt='.', color='orange', label='Allan deviation')\n",
    "taus2, adev2, adev_err2, _ = allantools.ohdev((fp_df['st22,m5'] - moment_df['tr,m5']).values, data_type='freq', rate=1, taus=taus_in)\n",
    "plt.errorbar(taus2, adev2, yerr=adev_err2, fmt='.', color='navy', label='Hadamard deviation')\n",
    "\n",
    "plt.errorbar(taus1[0:88], adev1[0:88]-adev2, yerr=np.sqrt(adev_err1[0:88]**2 + adev_err2**2),\n",
    "             fmt='.', color='green', label='Hadamard deviation')\n",
    "\n",
    "plt.legend()\n",
    "\n",
    "fig.set_size_inches(8,8)\n",
    "fig.tight_layout()"
   ]
  },
  {
   "cell_type": "code",
   "execution_count": null,
   "metadata": {
    "scrolled": false
   },
   "outputs": [],
   "source": [
    "st = 22\n",
    "m = 1\n",
    "trm = 'tr,m'+str(m)\n",
    "stm = 'st'+str(st)+',m'+str(m)\n",
    "\n",
    "fig, axs = plt.subplots(2,1)\n",
    "plt.sca(axs[0])\n",
    "plt.plot(vtm_df.index.values, vtm_df[stm], '.', color='navy', label='vtm')\n",
    "plt.plot(moment_df.index.values, moment_df[trm], '.', color='orange', label='trolley')\n",
    "plt2.plt_set_labels(axs[0], '', 'm1 (Hz)', 'Dipole tracking')\n",
    "plt2.plt_unix_time_to_CST(axs[0])\n",
    "plt.legend()\n",
    "plt.sca(axs[1])\n",
    "plt.plot(moment_df.index.values, vtm_df[stm] - moment_df[trm], '.', color='orange', label='trolley')\n",
    "plt2.plt_set_labels(axs[1], '', 'm1 sync offset (Hz)', 'Dipole sync offset')\n",
    "plt2.plt_unix_time_to_CST(axs[1])\n",
    "\n",
    "fig.set_size_inches(8,8)\n",
    "fig.tight_layout()\n",
    "\n",
    "# fig2, ax = plt.subplots(1,1)\n",
    "# plt.sca(ax)\n",
    "# plt.plot(moment_df['tr,m1'],  moment_df['st22,m1'], '.')\n",
    "# fig2.set_size_inches(6,6)\n",
    "# fig2.tight_layout()\n",
    "\n",
    "taus_in = np.round(np.power(10, np.arange(0,5.5,0.05)))\n",
    "taus_in2 = np.round(np.power(10, np.arange(0,7,0.05)))\n",
    "\n",
    "fig3, ax2 = plt.subplots(1,1)\n",
    "plt.sca(ax2)\n",
    "ax2.set_xscale('log')\n",
    "ax2.set_yscale('log')\n",
    "taus, adev, adev_err, _ = allantools.oadev((vtm_df[stm] - moment_df[trm]).values, data_type='freq', rate=1, taus=taus_in)\n",
    "plt.errorbar(taus, adev, yerr=adev_err, fmt='.', color='navy', label='with n 6-pole correction')\n",
    "taus, adev, adev_err, _ = allantools.oadev((fp_df[stm] - moment_df[trm]).values, data_type='freq', rate=1, taus=taus_in)\n",
    "plt.errorbar(taus, adev, yerr=adev_err, fmt='.', color='orange', label='no n 6-pole correction')\n",
    "taus, adev, adev_err, _ = allantools.ohdev((fp_df[stm] - moment_df[trm]).values, data_type='freq', rate=1, taus=taus_in2)\n",
    "plt.errorbar(taus, adev, yerr=adev_err, fmt='.', color='green', label='no n 6-pole correction, hdev')\n",
    "\n",
    "# taus, adev, adev_err, _ = allantools.oadev((vtm_df[stm] - moment_df[trm] - 3.499*moment_df['tr,m8']).values, data_type='freq', rate=1, taus=taus_in)\n",
    "# plt.errorbar(taus, adev, yerr=adev_err, fmt='.', color='red', label='add n 10-pole correction')\n",
    "\n",
    "taus, adev, adev_err, _ = allantools.ohdev((vtm_df[stm] - moment_df[trm]).values, data_type='freq', rate=1, taus=taus_in2)\n",
    "plt.errorbar(taus, adev, yerr=adev_err, fmt='.', color='red', label='with 6-pole, hdev')\n",
    "\n",
    "ax2.legend()\n",
    "\n",
    "ax2.set_title('Sync Offset Allan Plot')\n",
    "ax2.set_xlabel(r'$\\tau$ (sec)')\n",
    "ax2.set_ylabel(r'$\\sigma_a$ (Hz)')\n",
    "\n",
    "fig3.set_size_inches(8,6)\n",
    "fig3.tight_layout()"
   ]
  },
  {
   "cell_type": "code",
   "execution_count": null,
   "metadata": {},
   "outputs": [],
   "source": [
    "fig, ax = plt.subplots(2,1)\n",
    "plt.sca(ax[0])\n",
    "plt.plot(moment_df.index.values, moment_df['st22,m1']-np.mean(moment_df['st22,m1']), '.', color='navy', label='fp dipole, no 6-pole')\n",
    "plt.plot(moment_df.index.values, moment_df['tr,m1']-np.mean(moment_df['tr,m1']), '.', color='orange', markersize=3, label='tr dipole')\n",
    "plt.legend()\n",
    "plt2.plt_unix_time_to_CST(ax[0])\n",
    "plt2.plt_set_labels(ax[0], '', 'm1 (Hz)', 'Dipole, no 6-pole correction')\n",
    "\n",
    "plt.sca(ax[1])\n",
    "plt.plot(moment_df.index.values, (moment_df['st22,m1']-np.mean(moment_df['st22,m1']))-(moment_df['tr,m1']-np.mean(moment_df['tr,m1'])), '.', color='navy')\n",
    "plt2.plt_unix_time_to_CST(ax[1])\n",
    "plt2.plt_set_labels(ax[1], '', 'm1 sync offset (Hz)', 'Dipole sync offset, no 6-pole correction')\n",
    "\n",
    "fig.set_size_inches(8,8)\n",
    "fig.tight_layout()"
   ]
  },
  {
   "cell_type": "code",
   "execution_count": null,
   "metadata": {},
   "outputs": [],
   "source": [
    "taus, adev, adev_err, _ = allantools.ohdev((vtm_df[stm] - moment_df[trm]).values, data_type='freq', rate=1, taus=taus_in)\n",
    "plt.errorbar(taus, adev, yerr=adev_err, fmt='.', color='navy')\n",
    "\n",
    "plt.xscale('log')\n",
    "plt.yscale('log')"
   ]
  },
  {
   "cell_type": "code",
   "execution_count": null,
   "metadata": {},
   "outputs": [],
   "source": []
  }
 ],
 "metadata": {
  "kernelspec": {
   "display_name": "Python 2",
   "language": "python",
   "name": "python2"
  },
  "language_info": {
   "codemirror_mode": {
    "name": "ipython",
    "version": 2
   },
   "file_extension": ".py",
   "mimetype": "text/x-python",
   "name": "python",
   "nbconvert_exporter": "python",
   "pygments_lexer": "ipython2",
   "version": "2.7.14"
  }
 },
 "nbformat": 4,
 "nbformat_minor": 2
}
