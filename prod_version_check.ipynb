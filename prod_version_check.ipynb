{
 "cells": [
  {
   "cell_type": "markdown",
   "metadata": {},
   "source": [
    "This code checks to see if the trolley runs produced by production versions `9_21_05_dev` and `9_21_06` are the same."
   ]
  },
  {
   "cell_type": "code",
   "execution_count": 8,
   "metadata": {},
   "outputs": [],
   "source": [
    "import matplotlib.pyplot as plt\n",
    "\n",
    "import numpy as np\n",
    "import pandas as pd\n",
    "\n",
    "import gm2\n",
    "import trfp\n",
    "import plotting_functions as plt2\n",
    "import analysis_helper as helper\n",
    "import helper_function_candidates as helper_old\n",
    "\n",
    "from IPython.display import clear_output\n"
   ]
  },
  {
   "cell_type": "code",
   "execution_count": 11,
   "metadata": {},
   "outputs": [
    {
     "name": "stdout",
     "output_type": "stream",
     "text": [
      "Run 5259\n",
      "Reading event 8790/8797 99.92%    \n",
      "loop done: 100%                                    \n",
      "Reading event 2630/2634 99.85%  \n",
      "loop done: 100%                                    \n",
      "Reading event 8790/8797 99.92%     \n",
      "loop done: 100%                                    \n",
      "Reading event 2630/2634 99.85%       \n",
      "loop done: 100%                                    \n",
      "Reading event 8790/8797 99.92%        \n",
      "loop done: 100%                                    \n",
      "Reading event 2630/2634 99.85% \n",
      "loop done: 100%                                    \n",
      "Reading event 8790/8797 99.92%        \n",
      "loop done: 100%                                    \n",
      "Reading event 2630/2634 99.85%    \n",
      "loop done: 100%                                    \n"
     ]
    }
   ],
   "source": [
    "runs = [3956, 3997, 4058, 4098, 4138, 4181, 4226, 4265, 4493, 5054, 5103, 5117, 5157, 5169, 5217, 5259]\n",
    "diffs = []\n",
    "\n",
    "for run in runs:\n",
    "    clear_output()\n",
    "    print 'Run ' + str(run)\n",
    "    run1_df = helper.root_to_pandas([run], prefix='data1/newg2/DataProduction/Offline/ArtTFSDir/v9_21_05_dev/FieldPlainRootOutput_', tr_run=True)\n",
    "    run2_df = helper.root_to_pandas([run], prefix='data1/newg2/DataProduction/Offline/ArtTFSDir/v9_21_06/FieldPlainRootOutput_', tr_run=True)\n",
    "\n",
    "    difference_df = run2_df - run1_df\n",
    "\n",
    "    diffs.append(np.sum(np.sum(difference_df)))"
   ]
  },
  {
   "cell_type": "code",
   "execution_count": 12,
   "metadata": {},
   "outputs": [
    {
     "name": "stdout",
     "output_type": "stream",
     "text": [
      "[0.0, 0.0, 4229151.88864715, 4415969.007524094, 4257913.11253535, 4216095.697581147, 4131688.1257957197, 4518823.891018057, 3962681.89751694, 4138309.500172713, 3669821.2228426556, 3919484.8513237797, 3986678.0854395824, 3805877.1113867178, 3581855.8272122545, 3834996.1894853897]\n"
     ]
    }
   ],
   "source": [
    "print diffs"
   ]
  },
  {
   "cell_type": "code",
   "execution_count": 14,
   "metadata": {},
   "outputs": [
    {
     "name": "stdout",
     "output_type": "stream",
     "text": [
      "Reading event 8790/8797 99.92%       \n",
      "loop done: 100%                                    \n",
      "Reading event 2630/2634 99.85%     \n",
      "loop done: 100%                                    \n",
      "Reading event 8790/8797 99.92%           \n",
      "loop done: 100%                                    \n",
      "Reading event 2630/2634 99.85%      \n",
      "loop done: 100%                                    \n",
      "Reading event 8790/8797 99.92%           \n",
      "loop done: 100%                                    \n",
      "Reading event 2630/2634 99.85%     \n",
      "loop done: 100%                                    \n",
      "Reading event 8790/8797 99.92%   \n",
      "loop done: 100%                                    \n",
      "Reading event 2630/2634 99.85%   \n",
      "loop done: 100%                                    \n",
      "-3834996.1894853897\n"
     ]
    }
   ],
   "source": [
    "run3_df = helper.root_to_pandas([5259], prefix='data1/newg2/DataProduction/Offline/ArtTFSDir/v9_21_05_dev/FieldPlainRootOutput_', tr_run=True)\n",
    "run4_df = helper.root_to_pandas([5259], prefix='data1/newg2/DataProduction/Offline/ArtTFSDir/v9_21_06/FieldPlainRootOutput_', tr_run=True)\n",
    "\n",
    "difference2_df = run3_df - run4_df\n",
    "\n",
    "print np.sum(np.sum(difference2_df))"
   ]
  },
  {
   "cell_type": "code",
   "execution_count": 15,
   "metadata": {},
   "outputs": [
    {
     "name": "stdout",
     "output_type": "stream",
     "text": [
      "0.0\n"
     ]
    }
   ],
   "source": [
    "print np.sum(np.sum(difference2_df)) + diffs[-1]"
   ]
  },
  {
   "cell_type": "code",
   "execution_count": 29,
   "metadata": {},
   "outputs": [
    {
     "data": {
      "text/plain": [
       "[<matplotlib.lines.Line2D at 0x7f2849665e90>]"
      ]
     },
     "execution_count": 29,
     "metadata": {},
     "output_type": "execute_result"
    },
    {
     "data": {
      "image/png": "[encoded data removed]",
      "text/plain": [
       "<Figure size 432x288 with 1 Axes>"
      ]
     },
     "metadata": {
      "needs_background": "light"
     },
     "output_type": "display_data"
    }
   ],
   "source": [
    "st = 'fp377'\n",
    "\n",
    "plt.plot(run3_df[st] - run4_df[st])"
   ]
  },
  {
   "cell_type": "markdown",
   "metadata": {},
   "source": [
    "# Conclusion\n",
    "\n",
    "The different productions are different. The trolley probes are the same, but the fixed probes are different."
   ]
  },
  {
   "cell_type": "code",
   "execution_count": null,
   "metadata": {},
   "outputs": [],
   "source": []
  }
 ],
 "metadata": {
  "kernelspec": {
   "display_name": "Python 2",
   "language": "python",
   "name": "python2"
  },
  "language_info": {
   "codemirror_mode": {
    "name": "ipython",
    "version": 2
   },
   "file_extension": ".py",
   "mimetype": "text/x-python",
   "name": "python",
   "nbconvert_exporter": "python",
   "pygments_lexer": "ipython2",
   "version": "2.7.14"
  }
 },
 "nbformat": 4,
 "nbformat_minor": 2
}
