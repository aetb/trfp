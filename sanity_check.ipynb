{
 "cells": [
  {
   "cell_type": "code",
   "execution_count": 3,
   "metadata": {},
   "outputs": [
    {
     "name": "stdout",
     "output_type": "stream",
     "text": [
      "The autoreload extension is already loaded. To reload it, use:\n",
      "  %reload_ext autoreload\n"
     ]
    }
   ],
   "source": [
    "%load_ext autoreload\n",
    "%autoreload 2\n",
    "\n",
    "%matplotlib inline\n",
    "import matplotlib\n",
    "import matplotlib.pyplot as plt\n",
    "import seaborn as sns\n",
    "\n",
    "import numpy as np\n",
    "import pandas as pd\n",
    "\n",
    "from scipy.optimize import curve_fit\n",
    "from scipy.interpolate import interp1d\n",
    "\n",
    "import gm2\n",
    "import trfp\n",
    "import plotting_functions as plt2\n",
    "import helper_functions as helper\n",
    "\n",
    "import field_map_config_run1 as map_config"
   ]
  },
  {
   "cell_type": "code",
   "execution_count": 4,
   "metadata": {},
   "outputs": [
    {
     "name": "stdout",
     "output_type": "stream",
     "text": [
      "(257281, 432)\n",
      "(257281, 648)\n"
     ]
    }
   ],
   "source": [
    "old_df = pd.read_hdf('hdf5/60hr_blochlike_vtms_unblinded_2020-04-15.h5')\n",
    "\n",
    "new_df = pd.read_hdf('/data2/aetb/2020-09-30_hybrid_maps.h5', key='run_1a1')\n",
    "\n",
    "print old_df.shape\n",
    "print new_df.shape\n",
    "\n",
    "old_azi_df = pd.DataFrame(index=old_df.index)\n",
    "new_azi_df = pd.DataFrame(index=new_df.index)\n",
    "\n",
    "weight = trfp.STATION_BARCODE_EDGES[1:] - trfp.STATION_BARCODE_EDGES[:-1]\n",
    "weight[2] = weight[2] + 360\n",
    "\n",
    "for m in range(5):\n",
    "    stms = ['st'+str(st)+',m'+str(m+1) for st in range(72)]\n",
    "    old_azi_df['m'+str(m+1)] = old_df[stms].dot(weight)/360\n",
    "    new_azi_df['m'+str(m+1)] = new_df[stms].dot(weight)/360"
   ]
  },
  {
   "cell_type": "code",
   "execution_count": 5,
   "metadata": {},
   "outputs": [
    {
     "data": {
      "text/plain": [
       "[<matplotlib.lines.Line2D at 0x7f4ec232f8d0>]"
      ]
     },
     "execution_count": 5,
     "metadata": {},
     "output_type": "execute_result"
    },
    {
     "data": {
      "image/png": "[encoded data removed]",
      "text/plain": [
       "<Figure size 432x288 with 1 Axes>"
      ]
     },
     "metadata": {
      "needs_background": "light"
     },
     "output_type": "display_data"
    }
   ],
   "source": [
    "plt.plot(new_azi_df['m2']/61.79 - old_azi_df['m2']/61.79, '.')"
   ]
  },
  {
   "cell_type": "code",
   "execution_count": 11,
   "metadata": {},
   "outputs": [
    {
     "data": {
      "text/plain": [
       "array([-1.63589864e+00, -1.38351788e-02, -8.51277258e-03,  3.35752853e-02,\n",
       "       -4.22903594e-03,  9.23548066e-03,  4.45435659e-03,  1.94603382e-02,\n",
       "       -3.24969170e-02,  6.49793763e-02, -1.70788927e+00,  1.10268384e-03,\n",
       "        0.00000000e+00, -1.01643437e-01, -2.80652562e+00,  0.00000000e+00,\n",
       "        0.00000000e+00])"
      ]
     },
     "execution_count": 11,
     "metadata": {},
     "output_type": "execute_result"
    }
   ],
   "source": [
    "np.dot(trfp.THETA_TR, np.array(trfp.PLUNGING_PROBE_CALIBRATIONS)-np.array(trfp.geometry.PLUNGING_PROBE_CALIBRATIONS_OLD))/61.79"
   ]
  },
  {
   "cell_type": "code",
   "execution_count": null,
   "metadata": {},
   "outputs": [],
   "source": []
  }
 ],
 "metadata": {
  "kernelspec": {
   "display_name": "Python 2",
   "language": "python",
   "name": "python2"
  },
  "language_info": {
   "codemirror_mode": {
    "name": "ipython",
    "version": 2
   },
   "file_extension": ".py",
   "mimetype": "text/x-python",
   "name": "python",
   "nbconvert_exporter": "python",
   "pygments_lexer": "ipython2",
   "version": "2.7.5"
  }
 },
 "nbformat": 4,
 "nbformat_minor": 2
}
