{
 "cells": [
  {
   "cell_type": "code",
   "execution_count": 1,
   "metadata": {},
   "outputs": [
    {
     "name": "stdout",
     "output_type": "stream",
     "text": [
      "Welcome to JupyROOT 6.12/04\n"
     ]
    }
   ],
   "source": [
    "%load_ext autoreload\n",
    "%autoreload 2\n",
    "\n",
    "%matplotlib inline\n",
    "import matplotlib\n",
    "import matplotlib.pyplot as plt\n",
    "import seaborn as sns\n",
    "\n",
    "import numpy as np\n",
    "import pandas as pd\n",
    "\n",
    "from scipy.optimize import curve_fit\n",
    "\n",
    "import gm2\n",
    "import trfp\n",
    "import plotting_functions as plt2\n",
    "import analysis_helper as helper\n",
    "import helper_function_candidates as helper_old"
   ]
  },
  {
   "cell_type": "code",
   "execution_count": 2,
   "metadata": {},
   "outputs": [
    {
     "name": "stdout",
     "output_type": "stream",
     "text": [
      "Finished calculating all moments for 4359 events.\n",
      "Finished calculating all moments for 4360 events.\n"
     ]
    }
   ],
   "source": [
    "tr_df_1 = pd.read_hdf('hdf5/9day.h5', key='tr_df_3')\n",
    "tr_df_2 = pd.read_hdf('hdf5/9day.h5', key='tr_df_4')\n",
    "\n",
    "tr_df_1 = helper.calc_moment_df(tr_df_1)\n",
    "tr_df_2 = helper.calc_moment_df(tr_df_2)"
   ]
  },
  {
   "cell_type": "code",
   "execution_count": 3,
   "metadata": {},
   "outputs": [
    {
     "data": {
      "text/plain": [
       "<matplotlib.collections.LineCollection at 0x7f730667a3d0>"
      ]
     },
     "execution_count": 3,
     "metadata": {},
     "output_type": "execute_result"
    },
    {
     "data": {
      "image/png": "[encoded data removed]",
      "text/plain": [
       "<Figure size 432x288 with 1 Axes>"
      ]
     },
     "metadata": {
      "needs_background": "light"
     },
     "output_type": "display_data"
    }
   ],
   "source": [
    "azi = np.arange(-10,20,0.1)\n",
    "\n",
    "\n",
    "st_azi = trfp.STATION_BARCODE_PHI\n",
    "bad_st_azi = [st_azi[1]-360, st_azi[3], st_azi[5]]\n",
    "good_st_azi = [st_azi[0]-360, st_azi[2]-360, st_azi[4], st_azi[6]]\n",
    "\n",
    "m = 'm1'\n",
    "\n",
    "tr_m1_1 = np.interp(azi, tr_df_1['tr_phi'].values, tr_df_1['tr,'+m].values, period=360)\n",
    "tr_m1_2 = np.interp(azi, tr_df_2['tr_phi'].values, tr_df_2['tr,'+m].values, period=360)\n",
    "\n",
    "plt.plot(azi, tr_m1_2 - tr_m1_1, '.')\n",
    "\n",
    "# plt.xlim([-10,20])\n",
    "# plt.ylim([400,600])\n",
    "\n",
    "low, high = plt.ylim()\n",
    "\n",
    "plt.vlines(bad_st_azi, low, high, color='C1')\n",
    "plt.vlines(good_st_azi, low, high, color='C2')"
   ]
  },
  {
   "cell_type": "code",
   "execution_count": null,
   "metadata": {},
   "outputs": [],
   "source": []
  },
  {
   "cell_type": "code",
   "execution_count": null,
   "metadata": {},
   "outputs": [],
   "source": []
  },
  {
   "cell_type": "code",
   "execution_count": null,
   "metadata": {},
   "outputs": [],
   "source": [
    "plt.plot(azi, tr_m1_2 - tr_m1_1, '.')\n",
    "plt.plot(azi-360, tr_m1_2 - tr_m1_1, '.', color='C0')"
   ]
  },
  {
   "cell_type": "code",
   "execution_count": null,
   "metadata": {},
   "outputs": [],
   "source": []
  }
 ],
 "metadata": {
  "kernelspec": {
   "display_name": "Python 2",
   "language": "python",
   "name": "python2"
  },
  "language_info": {
   "codemirror_mode": {
    "name": "ipython",
    "version": 2
   },
   "file_extension": ".py",
   "mimetype": "text/x-python",
   "name": "python",
   "nbconvert_exporter": "python",
   "pygments_lexer": "ipython2",
   "version": "2.7.14"
  }
 },
 "nbformat": 4,
 "nbformat_minor": 2
}
