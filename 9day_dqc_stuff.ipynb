{
 "cells": [
  {
   "cell_type": "code",
   "execution_count": 1,
   "metadata": {},
   "outputs": [
    {
     "name": "stdout",
     "output_type": "stream",
     "text": [
      "Welcome to JupyROOT 6.12/04\n"
     ]
    }
   ],
   "source": [
    "import matplotlib\n",
    "import matplotlib.pyplot as plt\n",
    "import seaborn as sns\n",
    "%matplotlib inline\n",
    "\n",
    "import numpy as np\n",
    "import pandas as pd\n",
    "import scipy.optimize\n",
    "\n",
    "from datetime import datetime\n",
    "import pytz\n",
    "\n",
    "import gm2\n",
    "import trfp\n",
    "import helper_function_candidates as helper\n",
    "import plotting_functions as plt2"
   ]
  },
  {
   "cell_type": "code",
   "execution_count": 2,
   "metadata": {},
   "outputs": [],
   "source": [
    "run4141 = gm2.FixedProbe([4141], prefix='dev/FieldPlainRootOutput_')"
   ]
  },
  {
   "cell_type": "code",
   "execution_count": 3,
   "metadata": {},
   "outputs": [
    {
     "name": "stdout",
     "output_type": "stream",
     "text": [
      "Reading event 4360/4367 99.84%     \n",
      "loop done: 100%                                    \n"
     ]
    }
   ],
   "source": [
    "time, freq, qual = run4141.getBasics()\n",
    "time = time[1:,:]/1.0e9\n",
    "freq = freq[1:,:]\n",
    "qual = qual[1:,:]\n",
    "\n",
    "qual[qual >= 2**16] -= 2**16\n",
    "qual[qual >= 2**8] -= 2**8\n",
    "\n",
    "freq2 = freq.copy()\n",
    "\n",
    "freq2[qual > 0] = np.nan"
   ]
  },
  {
   "cell_type": "code",
   "execution_count": null,
   "metadata": {
    "scrolled": true
   },
   "outputs": [],
   "source": [
    "print np.reshape(qual[0,:],[378/3,3])"
   ]
  },
  {
   "cell_type": "code",
   "execution_count": null,
   "metadata": {},
   "outputs": [],
   "source": [
    "print freq2.shape\n",
    "print np.max(np.max(qual))"
   ]
  },
  {
   "cell_type": "code",
   "execution_count": null,
   "metadata": {},
   "outputs": [],
   "source": [
    "dropped = np.empty(378)\n",
    "for pr in range(378):\n",
    "    dropped[pr] = float(np.count_nonzero(np.isnan(freq2[:,pr])))/float(freq2[:,pr].size)\n",
    "\n",
    "    \n",
    "print np.max(dropped)\n",
    "plt.hist(dropped, bins = 50)"
   ]
  },
  {
   "cell_type": "code",
   "execution_count": null,
   "metadata": {},
   "outputs": [],
   "source": [
    "times = np.arange(np.ceil(time[0, 377]),\n",
    "                  np.floor(time[-1, 0]) + 1,\n",
    "                  1)  # NOTE THIS IS 1 SECOND NOW, DOESN'T MATTER BECAUSE OF INTEGRATION METHOD\n",
    "\n",
    "interp = np.empty((times.size, 378))\n",
    "for pr in range(378):\n",
    "    not_nan = ~np.isnan(freq2[:,pr])\n",
    "    interp[:,pr] = np.interp(times,time[:,pr][not_nan],freq2[:,pr][not_nan])"
   ]
  },
  {
   "cell_type": "code",
   "execution_count": null,
   "metadata": {},
   "outputs": [],
   "source": [
    "probe = 3\n",
    "\n",
    "fig, axs = plt.subplots(4,1)\n",
    "\n",
    "plt.sca(axs[0])\n",
    "plt.plot(time[:,probe], freq[:,probe], '.')\n",
    "\n",
    "# axs[0].set_xlim([1525283150,1525283350])\n",
    "\n",
    "plt.sca(axs[1])\n",
    "plt.plot(time[:,probe], qual[:,probe], '.')\n",
    "# axs[1].set_xlim([1525283150,1525283350])\n",
    "\n",
    "plt.sca(axs[2])\n",
    "plt.plot(time[:,probe], freq2[:,probe], '.')\n",
    "\n",
    "# axs[2].set_xlim([1525283150,1525283350])\n",
    "\n",
    "plt.sca(axs[3])\n",
    "plt.plot(times, interp[:,probe], '.')\n",
    "\n",
    "fig.set_size_inches(12,12)\n",
    "fig.tight_layout()"
   ]
  },
  {
   "cell_type": "code",
   "execution_count": null,
   "metadata": {
    "scrolled": true
   },
   "outputs": [],
   "source": [
    "# try filtering a super noisy probe\n",
    "from scipy import signal\n",
    "import allantools\n",
    "\n",
    "probe = 100\n",
    "\n",
    "taus, adev, _, _ = allantools.mdev(interp[:,probe], data_type='freq', rate=1, taus='all')\n",
    "\n",
    "b, a = signal.butter(1,1./10.)\n",
    "y = signal.filtfilt(b, a, interp[:,probe])\n",
    "\n",
    "taus2, adev2, _, _ = allantools.mdev(y, data_type='freq', rate=1, taus='all')\n",
    "\n",
    "fig, axs = plt.subplots(4,1)\n",
    "\n",
    "plt.sca(axs[0])\n",
    "plt.plot(times, interp[:,probe], '.')\n",
    "\n",
    "# axs[0].set_xlim([1525283150,1525283350])\n",
    "\n",
    "plt.sca(axs[1])\n",
    "plt.loglog(taus, adev, '.')\n",
    "\n",
    "plt.sca(axs[2])\n",
    "plt.plot(times, y, '.')\n",
    "# axs[1].set_xlim([1525283150,1525283350])\n",
    "\n",
    "plt.sca(axs[3])\n",
    "plt.loglog(taus2, adev2, '.')\n",
    "\n",
    "fig.set_size_inches(12,12)\n",
    "fig.tight_layout()"
   ]
  },
  {
   "cell_type": "code",
   "execution_count": null,
   "metadata": {
    "scrolled": true
   },
   "outputs": [],
   "source": [
    "start = 0 * 42  # steps of 42\n",
    "\n",
    "fig, axs = plt.subplots(126,3)\n",
    "\n",
    "for i in range(126):\n",
    "    for j in range(3):\n",
    "        plt.sca(axs[i,j])\n",
    "        taus, adev, _, _ = allantools.mdev(interp[:,start + 3*i + j], data_type='freq', rate=1, taus='octave')\n",
    "        plt.loglog(taus, adev, ':.', markersize=3)\n",
    "        axs[i,j].set_title('pr'+ str(start + 3*i + j))\n",
    "\n",
    "fig.set_size_inches(15,240)\n",
    "fig.tight_layout()\n",
    "\n",
    "# fig.savefig('all_allan_4141.png', dpi=100)"
   ]
  },
  {
   "cell_type": "code",
   "execution_count": null,
   "metadata": {},
   "outputs": [],
   "source": []
  },
  {
   "cell_type": "code",
   "execution_count": null,
   "metadata": {},
   "outputs": [],
   "source": [
    "pr = 100\n",
    "\n",
    "print np.mean(interp2[:,pr] - interp[:,pr])\n",
    "print np.std(interp2[:,pr] - interp[:,pr])\n",
    "\n",
    "fig, ax = plt.subplots(1,1)\n",
    "plt.plot(times, interp2[:,pr] - interp[:,pr], '.')\n",
    "\n",
    "fig.set_size_inches(12,4)\n",
    "fig.tight_layout()"
   ]
  },
  {
   "cell_type": "code",
   "execution_count": null,
   "metadata": {},
   "outputs": [],
   "source": []
  }
 ],
 "metadata": {
  "kernelspec": {
   "display_name": "Python 2",
   "language": "python",
   "name": "python2"
  },
  "language_info": {
   "codemirror_mode": {
    "name": "ipython",
    "version": 2
   },
   "file_extension": ".py",
   "mimetype": "text/x-python",
   "name": "python",
   "nbconvert_exporter": "python",
   "pygments_lexer": "ipython2",
   "version": "2.7.14"
  }
 },
 "nbformat": 4,
 "nbformat_minor": 2
}
