{
 "cells": [
  {
   "cell_type": "code",
   "execution_count": null,
   "metadata": {},
   "outputs": [],
   "source": [
    "%load_ext autoreload\n",
    "%autoreload 2\n",
    "\n",
    "%matplotlib inline\n",
    "import matplotlib\n",
    "import matplotlib.pyplot as plt\n",
    "import seaborn as sns\n",
    "\n",
    "import numpy as np\n",
    "import pandas as pd\n",
    "from scipy.optimize import curve_fit\n",
    "import scipy\n",
    "import allantools\n",
    "\n",
    "import gm2\n",
    "import trfp\n",
    "import plotting_functions as plt2\n",
    "import analysis_helper as helper\n",
    "import helper_function_candidates as helper_old\n"
   ]
  },
  {
   "cell_type": "code",
   "execution_count": null,
   "metadata": {},
   "outputs": [],
   "source": [
    "interp_df_1 = pd.read_hdf('hdf5/super-long_stationary_run.h5', 'interp_df')\n",
    "moment_df_1 = helper.calc_moment_df(interp_df_1)\n",
    "\n",
    "interp_df_2 = pd.read_hdf('hdf5/superlong_2.h5', 'tr_df')\n",
    "moment_df_2 = helper.calc_moment_df(interp_df_2)"
   ]
  },
  {
   "cell_type": "code",
   "execution_count": null,
   "metadata": {},
   "outputs": [],
   "source": [
    "print np.round(np.array([np.std(np.diff(interp_df_1['tr'+str(tr)].values)) for tr in range(17)]), 3)\n",
    "print np.round(np.array([np.std(np.diff(interp_df_2['tr'+str(tr)].values)) for tr in range(17)]), 2)"
   ]
  },
  {
   "cell_type": "code",
   "execution_count": null,
   "metadata": {},
   "outputs": [],
   "source": [
    "plt.plot(interp_df_2.index.values, interp_df_2['tr8']-np.mean(interp_df_2['tr8']), '.')\n",
    "plt.plot(interp_df_2.index.values, interp_df_2['tr9']-np.mean(interp_df_2['tr9']), '.')"
   ]
  },
  {
   "cell_type": "code",
   "execution_count": null,
   "metadata": {
    "scrolled": false
   },
   "outputs": [],
   "source": [
    "plt.plot(interp_df_2.index.values, interp_df_2['tr9']-np.mean(interp_df_2['tr9']), '.')\n",
    "plt.plot(interp_df_2.index.values, interp_df_2['tr7']-np.mean(interp_df_2['tr7']), '.')"
   ]
  },
  {
   "cell_type": "code",
   "execution_count": null,
   "metadata": {},
   "outputs": [],
   "source": [
    "# make a new theta_tr that ignores tr8\n",
    "\n",
    "from trfp.matrices import __multipole\n",
    "\n",
    "TR_X_NO8 = np.array([0]\n",
    "                + [1.75 * np.sin(2*np.pi/4*i)\n",
    "                   for i in np.arange(4)]\n",
    "                + [3.5 * np.sin(2*np.pi/12*i)\n",
    "                   for i in np.arange(3)]\n",
    "                + [3.5 * np.sin(2*np.pi/12*i)\n",
    "                   for i in np.arange(4, 12)])\n",
    "TR_Y_NO8 = np.array([0]\n",
    "                + [-1.75 * np.cos(2*np.pi/4*i)\n",
    "                   for i in np.arange(4)]\n",
    "                + [-3.5 * np.cos(2*np.pi/12*i)\n",
    "                   for i in np.arange(3)]\n",
    "                + [-3.5 * np.cos(2*np.pi/12*i)\n",
    "                   for i in np.arange(4,12)])\n",
    "\n",
    "_MULTIPOLE_ORDER = [0, 1, 1, 2, 2, 3, 3, 4, 4, 5, 5, 6, 7, 7]\n",
    "_MULTIPOLE_SKEW = [0, 0, 1, 1, 0, 0, 1, 0, 1, 0, 1, 0, 0, 1]\n",
    "_MULTS = np.array([__multipole(_MULTIPOLE_ORDER[i], _MULTIPOLE_SKEW[i], 1, TR_X_NO8, TR_Y_NO8) for i in range(14)])\n",
    "_MULTS[np.abs(_MULTS) < 1.0e-9] = 0 \n",
    "\n",
    "THETA_TR_NO8 = np.linalg.pinv(np.transpose(_MULTS))\n",
    "THETA_TR_NO8 = np.insert(THETA_TR_NO8, 12, np.zeros(16), 0)\n",
    "THETA_TR_NO8 = np.append(THETA_TR_NO8, np.zeros([2,16]), 0)\n",
    "THETA_TR_NO8[np.abs(THETA_TR_NO8) < 1.0e-9] = 0"
   ]
  },
  {
   "cell_type": "code",
   "execution_count": null,
   "metadata": {},
   "outputs": [],
   "source": [
    "THETA_TR_NO8.shape"
   ]
  },
  {
   "cell_type": "code",
   "execution_count": null,
   "metadata": {},
   "outputs": [],
   "source": [
    "trs = ['tr'+str(tr) for tr in range(8)+range(9,17)]\n",
    "interp_no8_df_1 = interp_df_1.copy()\n",
    "\n",
    "moment_no8_df_1 = helper.calc_moment_df(interp_no8_df_1)\n",
    "for m in range(17):\n",
    "    moment_no8_df_1['tr,m'+str(m+1)] = interp_no8_df_1[trs].dot(THETA_TR_NO8[m])\n",
    "    \n",
    "plt.plot(moment_df_1.index.values, moment_df_1['tr,m1']-np.mean(moment_df_1['tr,m1']), '.', markersize=1)\n",
    "plt.plot(moment_no8_df_1.index.values, moment_no8_df_1['tr,m1']-np.mean(moment_no8_df_1['tr,m1']), '.', markersize=1)"
   ]
  },
  {
   "cell_type": "code",
   "execution_count": null,
   "metadata": {},
   "outputs": [],
   "source": [
    "trs = ['tr'+str(tr) for tr in range(8)+range(9,17)]\n",
    "interp_no8_df_2 = interp_df_2.copy()\n",
    "\n",
    "moment_no8_df_2 = helper.calc_moment_df(interp_no8_df_2)\n",
    "for m in range(17):\n",
    "    moment_no8_df_2['tr,m'+str(m+1)] = interp_no8_df_2[trs].dot(THETA_TR_NO8[m])\n",
    "    \n",
    "plt.plot(moment_df_2.index.values, moment_df_2['tr,m1']-np.mean(moment_df_2['tr,m1']), '.', markersize=1)\n",
    "plt.plot(moment_no8_df_2.index.values, moment_no8_df_2['tr,m1']-np.mean(moment_no8_df_2['tr,m1']), '.', markersize=1)"
   ]
  },
  {
   "cell_type": "code",
   "execution_count": null,
   "metadata": {},
   "outputs": [],
   "source": [
    "tr_baseline = np.empty((72,17))\n",
    "\n",
    "df_mean =  np.mean(moment_no8_df_2.iloc[0:1000], axis=0).values\n",
    "\n",
    "for i in range(72):\n",
    "    tr_baseline[i, :] = df_mean[1:18]\n",
    "fp_baseline = np.reshape(df_mean[18:], (72,6))\n",
    "\n",
    "baseline_time_1 = np.empty((72,6))\n",
    "baseline_time_2 = np.empty((72,6))\n",
    "\n",
    "baseline_time_1[:,:] = moment_no8_df_2.index.values[0]\n",
    "baseline_time_2[:,:] = moment_no8_df_2.index.values[-1]\n",
    "\n",
    "fp_df = moment_no8_df_2.copy()\n",
    "\n",
    "fp_df = fp_df.drop(columns=['tr_phi']+['tr,m'+str(m) for m in range(1,18)])\n",
    "\n",
    "vtm_df_2 = helper.vtm_calc(fp_df, baseline_time_1, baseline_time_2, tr_baseline, tr_baseline, fp_baseline, fp_baseline)"
   ]
  },
  {
   "cell_type": "code",
   "execution_count": null,
   "metadata": {},
   "outputs": [],
   "source": [
    "taus_in = np.round(np.power(10, np.arange(0,5.5,0.05)))\n",
    "\n",
    "taus, adev, _, _ = allantools.oadev((moment_df_2['tr,m1']-vtm_df_2['st5,m1']).values, data_type='freq', rate=1, taus=taus_in)\n",
    "plt.loglog(taus, adev, '.')\n",
    "\n",
    "taus, adev, _, _ = allantools.oadev((moment_no8_df_2['tr,m1']-vtm_df_2['st5,m1']).values, data_type='freq', rate=1, taus=taus_in)\n",
    "plt.loglog(taus, adev, '.')"
   ]
  },
  {
   "cell_type": "code",
   "execution_count": null,
   "metadata": {},
   "outputs": [],
   "source": [
    "taus_in = np.round(np.power(10, np.arange(0,6,0.1)))\n",
    "\n",
    "# taus, adev, _, _ = allantools.totdev((moment_df_2['tr,m1']-vtm_df_2['st5,m1']).values, data_type='freq', rate=1, taus=taus_in)\n",
    "# plt.loglog(taus, adev, '.')\n",
    "\n",
    "# taus, adev, _, _ = allantools.totdev((moment_df_2['tr,m1']-0.5*vtm_df_2['st4,m1']-0.5*vtm_df_2['st6,m1']).values, data_type='freq', rate=1, taus=taus_in)\n",
    "# plt.loglog(taus, adev, '.')\n",
    "\n",
    "# taus, adev1, _, _ = allantools.adev((moment_no8_df_2['tr,m1']-vtm_df_2['st5,m1']).values, data_type='freq', rate=1, taus=taus_in)\n",
    "# plt.loglog(taus, adev1, '.')\n",
    "\n",
    "taus, adev1, _, _ = allantools.adev((moment_no8_df_2['tr,m1']\n",
    "                                     -0.5*vtm_df_2['st4,m1']\n",
    "                                     -0.5*vtm_df_2['st6,m1']\n",
    "                                     \n",
    "                                    ).values,\n",
    "                                    data_type='freq', rate=1, taus=taus_in)\n",
    "plt.loglog(taus, adev1, '.')\n",
    "\n",
    "# taus, adev2, _, _ = allantools.adev((moment_no8_df_2['tr,m1']-0.5*vtm_df_2['st4,m1']-0.5*vtm_df_2['st6,m1']).values, data_type='freq', rate=1, taus=taus_in)\n",
    "# plt.loglog(taus, adev2, '.')\n",
    "\n",
    "taus, adev2, _, _ = allantools.adev((moment_no8_df_2['tr,m1']\n",
    "                                     -0.5*vtm_df_2['st71,m1']\n",
    "                                     -0.5*vtm_df_2['st11,m1']\n",
    "                                     \n",
    "                                    ).values,\n",
    "                                    data_type='freq', rate=1, taus=taus_in)\n",
    "plt.loglog(taus, adev2, '.')\n",
    "\n",
    "# taus, adev, _, _ = allantools.ohdev((moment_no8_df_2['tr,m1']-vtm_df_2['st5,m1']).values, data_type='freq', rate=1, taus=taus_in)\n",
    "# plt.loglog(taus, adev, '.')\n",
    "\n",
    "plt.loglog(taus, adev1/adev2, '.')\n",
    "print adev1[-1]/adev2[-1]\n",
    "\n",
    "# taus, adev, _, _ = allantools.ohdev((moment_no8_df_2['tr,m1']-0.5*vtm_df_2['st4,m1']-0.5*vtm_df_2['st6,m1']).values, data_type='freq', rate=1, taus=taus_in)\n",
    "# plt.loglog(taus, adev, '.')\n"
   ]
  },
  {
   "cell_type": "code",
   "execution_count": null,
   "metadata": {},
   "outputs": [],
   "source": [
    "np.max(taus)/60/60"
   ]
  },
  {
   "cell_type": "code",
   "execution_count": null,
   "metadata": {},
   "outputs": [],
   "source": [
    "plt.plot(moment_no8_df_2.index.values, moment_no8_df_2['tr,m1'], '.', markersize=1)\n",
    "plt.plot(interp_no8_df_2.index.values, interp_no8_df_2['tr0'], '.', markersize=1)"
   ]
  },
  {
   "cell_type": "code",
   "execution_count": null,
   "metadata": {},
   "outputs": [],
   "source": [
    "plt.plot(moment_no8_df_2.index.values, moment_no8_df_2['tr,m1']-interp_no8_df_2['tr0'], '.', markersize=1)"
   ]
  },
  {
   "cell_type": "code",
   "execution_count": null,
   "metadata": {},
   "outputs": [],
   "source": [
    "plt.plot(moment_df_1.index.values, moment_df_1['tr,m1']-interp_df_1['tr0'], '.', markersize=1)"
   ]
  },
  {
   "cell_type": "code",
   "execution_count": null,
   "metadata": {},
   "outputs": [],
   "source": [
    "interp_df_3 = pd.read_hdf('hdf5/60hr.h5', 'tr_df_1')"
   ]
  },
  {
   "cell_type": "code",
   "execution_count": null,
   "metadata": {},
   "outputs": [],
   "source": [
    "plt.plot(interp_df_3['tr_phi'], interp_df_3['tr8'], '.')"
   ]
  },
  {
   "cell_type": "code",
   "execution_count": null,
   "metadata": {},
   "outputs": [],
   "source": [
    "plt.plot(interp_df_3['tr_phi'].iloc[0:-1], np.diff(interp_df_3['tr8']), '.')\n",
    "\n",
    "plt.xlim(10,15)\n",
    "plt.ylim(-3000,3000)"
   ]
  },
  {
   "cell_type": "code",
   "execution_count": null,
   "metadata": {},
   "outputs": [],
   "source": [
    "plt.plot(np.diff(interp_df_2['tr8']), '.')\n",
    "\n",
    "plt.xlim(1000,1050)\n",
    "plt.ylim(-3000,3000)"
   ]
  },
  {
   "cell_type": "code",
   "execution_count": null,
   "metadata": {},
   "outputs": [],
   "source": []
  }
 ],
 "metadata": {
  "kernelspec": {
   "display_name": "Python 2",
   "language": "python",
   "name": "python2"
  },
  "language_info": {
   "codemirror_mode": {
    "name": "ipython",
    "version": 2
   },
   "file_extension": ".py",
   "mimetype": "text/x-python",
   "name": "python",
   "nbconvert_exporter": "python",
   "pygments_lexer": "ipython2",
   "version": "2.7.5"
  }
 },
 "nbformat": 4,
 "nbformat_minor": 2
}
