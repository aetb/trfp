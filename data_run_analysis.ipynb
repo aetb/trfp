{
 "cells": [
  {
   "cell_type": "markdown",
   "metadata": {},
   "source": [
    "# General data set analysis"
   ]
  },
  {
   "cell_type": "code",
   "execution_count": 1,
   "metadata": {},
   "outputs": [
    {
     "name": "stdout",
     "output_type": "stream",
     "text": [
      "Welcome to JupyROOT 6.12/04\n"
     ]
    }
   ],
   "source": [
    "%load_ext autoreload\n",
    "%autoreload 2\n",
    "\n",
    "%matplotlib inline\n",
    "import matplotlib\n",
    "import matplotlib.pyplot as plt\n",
    "import seaborn as sns\n",
    "\n",
    "import numpy as np\n",
    "import pandas as pd\n",
    "\n",
    "from scipy.optimize import curve_fit\n",
    "\n",
    "import gm2\n",
    "import trfp\n",
    "import plotting_functions as plt2\n",
    "import analysis_helper as helper\n",
    "import helper_function_candidates as helper_old\n",
    "\n",
    "blinds = np.loadtxt('blinds.txt')\n",
    "\n",
    "def apply_blinds_fp(input_df, blinds):\n",
    "    output_df = input_df.copy()\n",
    "    for m in range(6):\n",
    "        stms = ['st'+str(st)+',m'+str(m+1) for st in range(72)]\n",
    "        output_df[stms] = output_df[stms] + blinds[m]\n",
    "    return output_df\n",
    "\n",
    "def apply_blinds_tr(input_df, blinds):\n",
    "    output_df = input_df.copy()\n",
    "    for m in range(6):\n",
    "        stms = ['st'+str(st)+',m'+str(m+1) for st in range(72)]\n",
    "        output_df[stms] = output_df[stms] + blinds[m]\n",
    "        trms = ['tr,m'+str(m+1)]\n",
    "        output_df[trms] = output_df[trms] + blinds[m]\n",
    "    return output_df\n",
    "\n",
    "def plt_unix_time_to_CST(ax):\n",
    "    ax.locator_params(axis='x', nbins=3)\n",
    "    xticks = ax.get_xticks()\n",
    "    ax.set_xticklabels([pd.to_datetime(tm, unit='s').tz_localize('UTC').tz_convert('US/Central').strftime('%Y-%m-%d\\n %H:%M:%S %Z')\n",
    "                        for tm in xticks], rotation=0, fontdict={'size':12, 'family':'serif'})"
   ]
  },
  {
   "cell_type": "markdown",
   "metadata": {
    "heading_collapsed": true
   },
   "source": [
    "## Low Kick Data Set"
   ]
  },
  {
   "cell_type": "code",
   "execution_count": null,
   "metadata": {
    "hidden": true
   },
   "outputs": [],
   "source": [
    "%%time\n",
    "\n",
    "## High Kick Data Set\n",
    "\n",
    "print 'fp run 1'\n",
    "fp_moment_df_1 = apply_blinds_fp(helper.calc_moment_df(pd.read_hdf('hdf5/lowkick.h5', 'fp_df_1')), blinds)\n",
    "\n",
    "print 'tr run 1'\n",
    "tr_moment_df_1 = apply_blinds_tr(helper.calc_moment_df(pd.read_hdf('hdf5/lowkick.h5', 'tr_df_1')), blinds)\n",
    "print 'tr run 2'\n",
    "tr_moment_df_2 = apply_blinds_tr(helper.calc_moment_df(pd.read_hdf('hdf5/lowkick.h5', 'tr_df_2')), blinds)"
   ]
  },
  {
   "cell_type": "code",
   "execution_count": null,
   "metadata": {
    "hidden": true
   },
   "outputs": [],
   "source": [
    "tr_corr_df_1 = helper_old.trolley_footprint_replacement(tr_moment_df_1)\n",
    "tr_corr_df_2 = helper_old.trolley_footprint_replacement(tr_moment_df_2)\n",
    "\n",
    "tr_baseline_1, fp_baseline_1, baseline_time_1, summed_azimuth_1, summed_pts_1 = helper_old.trolley_run_station_average(tr_corr_df_1)\n",
    "tr_baseline_2, fp_baseline_2, baseline_time_2, summed_azimuth_2, summed_pts_2 = helper_old.trolley_run_station_average(tr_corr_df_2)\n",
    "\n",
    "vtm_df_1 = helper.vtm_calc(fp_moment_df_1,\n",
    "                           baseline_time_1, baseline_time_2,\n",
    "                           tr_baseline_1, tr_baseline_2,\n",
    "                           fp_baseline_1, fp_baseline_2)\n",
    "\n",
    "start = np.ceil(vtm_df_1.index.values[0]/100)*100\n",
    "end = np.floor(vtm_df_1.index.values[-1]/100)*100 + 100\n",
    "bins_1 = np.arange(start, end, 100)  # bin edges\n",
    "bin_centers_1 = np.arange(start, end-100, 100)+50\n",
    "\n",
    "vtm_bin_df_1 = vtm_df_1.groupby(pd.cut(vtm_df_1.index, bins_1)).mean()\n",
    "vtm_bin_df_1.index = bin_centers_1\n",
    "\n",
    "vtm_bin_df_full = vtm_bin_df_1.copy()\n",
    "\n",
    "azi_avg_df = pd.DataFrame(np.zeros((vtm_bin_df_full.shape[0],6)),\n",
    "                         index = vtm_bin_df_full.index,\n",
    "                         columns = ['m' + str(m) for m in np.arange(6)+1])\n",
    "\n",
    "for m in range(5):\n",
    "    weight = summed_azimuth_1[:, m] + summed_azimuth_2[:, m]\n",
    "    total_weight = np.nansum(weight)\n",
    "    stm_list = ['st'+str(st)+',m'+str(m+1) for st in np.arange(72)]\n",
    "    azi_avg_df['m'+str(m+1)] = vtm_bin_df_full[stm_list].multiply(weight).sum(axis=1)/total_weight\n",
    "    \n",
    "print_df = azi_avg_df[['m1','m2','m3','m4','m5']].copy()/61.79\n",
    "print_df['m1_err'] = -1\n",
    "print_df['m2_err'] = -1\n",
    "print_df['m3_err'] = -1\n",
    "print_df['m5_err'] = -1\n",
    "\n",
    "print_df = print_df.sort_index(axis='columns')\n",
    "# print_df.head()\n",
    "# print_df.to_csv('purcell_60hr_7-31.csv')"
   ]
  },
  {
   "cell_type": "code",
   "execution_count": null,
   "metadata": {
    "hidden": true
   },
   "outputs": [],
   "source": [
    "sync_offsets_1, delta_time_1 = helper.sync_offset_calc(tr_corr_df_1, tr_corr_df_2)"
   ]
  },
  {
   "cell_type": "code",
   "execution_count": null,
   "metadata": {
    "hidden": true
   },
   "outputs": [],
   "source": [
    "def gaussian(x, A, x0, s): return A * np.exp(-(x-x0)**2/(2*s**2))\n",
    "\n",
    "m = 5\n",
    "\n",
    "out = plt.hist(sync_offsets_1[:,m-1], bins=40)\n",
    "counts = out[0]\n",
    "bins = (out[1][1:]+out[1][:-1])/2\n",
    "fit, _ = curve_fit(gaussian, bins, counts, p0=(20,-10,75))\n",
    "\n",
    "running_total = fit[2]**2/4 * np.mean(delta_time_1)\n",
    "weight = np.mean(delta_time_1)\n",
    "\n",
    "print np.sqrt(running_total/weight)\n",
    "print np.sqrt(running_total/weight)/61.79e6*1e9\n",
    "print np.sqrt(running_total/weight)/61.79e6*1e9/np.sqrt(72)"
   ]
  },
  {
   "cell_type": "code",
   "execution_count": null,
   "metadata": {
    "hidden": true
   },
   "outputs": [],
   "source": [
    "sns.set_style('darkgrid')\n",
    "\n",
    "fig2, ax2 = plt.subplots(1,1)\n",
    "m = 1\n",
    "ax2.plot(print_df.index.values, print_df['m'+str(m)], '.')\n",
    "ax2.set_ylabel('$m_'+str(m)+'$-61.74 MHz (Hz)', fontdict={'size':12, 'family':'serif'})\n",
    "plt_unix_time_to_CST(ax2)\n",
    "fig2.set_size_inches(6,3)\n",
    "fig2.tight_layout()\n",
    "fig2.savefig('lowkick_m'+str(m)+'.png', dpi=300)\n",
    "\n",
    "\n",
    "fig3, ax3 = plt.subplots(1,1)\n",
    "m = 2\n",
    "ax3.plot(print_df.index.values, print_df['m'+str(m)], '.')\n",
    "ax3.set_ylabel('$m_'+str(m)+'$ (Hz)', fontdict={'size':12, 'family':'serif'})\n",
    "plt_unix_time_to_CST(ax3)\n",
    "fig3.set_size_inches(6,3)\n",
    "fig3.tight_layout()\n",
    "fig3.savefig('lowkick_m'+str(m)+'.png', dpi=300)\n",
    "\n",
    "fig4, ax4 = plt.subplots(1,1)\n",
    "m = 3\n",
    "ax4.plot(print_df.index.values, print_df['m'+str(m)], '.')\n",
    "ax4.set_ylabel('$m_'+str(m)+'$ (Hz)', fontdict={'size':12, 'family':'serif'})\n",
    "plt_unix_time_to_CST(ax4)\n",
    "fig4.set_size_inches(6,3)\n",
    "fig4.tight_layout()\n",
    "fig4.savefig('lowkick_m'+str(m)+'.png', dpi=300)\n",
    "\n",
    "fig5, ax5 = plt.subplots(1,1)\n",
    "m = 4\n",
    "ax5.plot(print_df.index.values, print_df['m'+str(m)], '.')\n",
    "ax5.set_ylabel('$m_'+str(m)+'$ (Hz)', fontdict={'size':12, 'family':'serif'})\n",
    "plt_unix_time_to_CST(ax5)\n",
    "fig5.set_size_inches(6,3)\n",
    "fig5.tight_layout()\n",
    "fig5.savefig('lowkick_m'+str(m)+'.png', dpi=300)\n",
    "\n",
    "fig6, ax6 = plt.subplots(1,1)\n",
    "m = 5\n",
    "ax6.plot(print_df.index.values, print_df['m'+str(m)], '.')\n",
    "ax6.set_ylabel('$m_'+str(m)+'$ (Hz)', fontdict={'size':12, 'family':'serif'})\n",
    "plt_unix_time_to_CST(ax6)\n",
    "fig6.set_size_inches(6,3)\n",
    "fig6.tight_layout()\n",
    "fig6.savefig('lowkick_m'+str(m)+'.png', dpi=300)"
   ]
  },
  {
   "cell_type": "code",
   "execution_count": null,
   "metadata": {
    "hidden": true
   },
   "outputs": [],
   "source": [
    "plt.plot(print_df.index.values, print_df['m2'], '.')\n",
    "# plt.xlim((1526455000, 1526475000))\n",
    "# plt.ylim(842,845)\n",
    "ax = plt.gca()\n",
    "fig = plt.gcf()\n",
    "\n",
    "plt2.plt_unix_time_to_CST(ax)\n",
    "\n",
    "ax.set_ylabel('n quad (ppm)')\n",
    "\n",
    "fig.set_size_inches(12,6)\n",
    "fig.tight_layout()"
   ]
  },
  {
   "cell_type": "code",
   "execution_count": null,
   "metadata": {
    "hidden": true
   },
   "outputs": [],
   "source": [
    "## look at naive trolley avg\n",
    "\n",
    "print np.dot(tr_baseline_1[:,0],summed_azimuth_1[:,0])/np.sum(summed_azimuth_1[:,0])/61.79"
   ]
  },
  {
   "cell_type": "markdown",
   "metadata": {},
   "source": [
    "## High Kick Data Set"
   ]
  },
  {
   "cell_type": "code",
   "execution_count": 2,
   "metadata": {},
   "outputs": [
    {
     "name": "stdout",
     "output_type": "stream",
     "text": [
      "fp run 1\n",
      "Finished calculating all moments for 251685 events. \n",
      "fp run 2\n",
      "Finished calculating all moments for 221219 events.\n",
      "tr run 1\n",
      "Finished calculating all moments for 4351 events.\n",
      "tr run 2\n",
      "Finished calculating all moments for 4372 events.\n",
      "tr run 3\n",
      "Finished calculating all moments for 4344 events.\n",
      "CPU times: user 36.7 s, sys: 1min 11s, total: 1min 48s\n",
      "Wall time: 17 s\n"
     ]
    }
   ],
   "source": [
    "%%time\n",
    "\n",
    "## High Kick Data Set\n",
    "\n",
    "print 'fp run 1'\n",
    "fp_moment_df_1 = apply_blinds_fp(helper.calc_moment_df(pd.read_hdf('hdf5/highkick.h5', 'fp_df_1')), blinds)\n",
    "print 'fp run 2'\n",
    "fp_moment_df_2 = apply_blinds_fp(helper.calc_moment_df(pd.read_hdf('hdf5/highkick.h5', 'fp_df_2')), blinds)\n",
    "\n",
    "print 'tr run 1'\n",
    "tr_moment_df_1 = apply_blinds_tr(helper.calc_moment_df(pd.read_hdf('hdf5/highkick.h5', 'tr_df_1')), blinds)\n",
    "print 'tr run 2'\n",
    "tr_moment_df_2 = apply_blinds_tr(helper.calc_moment_df(pd.read_hdf('hdf5/highkick.h5', 'tr_df_2')), blinds)\n",
    "print 'tr run 3'\n",
    "tr_moment_df_3 = apply_blinds_tr(helper.calc_moment_df(pd.read_hdf('hdf5/highkick.h5', 'tr_df_3')), blinds)"
   ]
  },
  {
   "cell_type": "code",
   "execution_count": 3,
   "metadata": {},
   "outputs": [
    {
     "name": "stdout",
     "output_type": "stream",
     "text": [
      "Removing trolley image from station 71.                                   \n"
     ]
    }
   ],
   "source": [
    "tr_corr_df_1 = helper_old.trolley_footprint_replacement(tr_moment_df_1)\n",
    "tr_corr_df_2 = helper_old.trolley_footprint_replacement(tr_moment_df_2)\n",
    "tr_corr_df_3 = helper_old.trolley_footprint_replacement(tr_moment_df_3)\n",
    "\n",
    "tr_baseline_1, fp_baseline_1, baseline_time_1, summed_azimuth_1, summed_pts_1 = helper_old.trolley_run_station_average(tr_corr_df_1)\n",
    "tr_baseline_2, fp_baseline_2, baseline_time_2, summed_azimuth_2, summed_pts_2 = helper_old.trolley_run_station_average(tr_corr_df_2)\n",
    "tr_baseline_3, fp_baseline_3, baseline_time_3, summed_azimuth_3, summed_pts_3 = helper_old.trolley_run_station_average(tr_corr_df_3)\n",
    "\n",
    "vtm_df_1 = helper.vtm_calc(fp_moment_df_1,\n",
    "                           baseline_time_1, baseline_time_2,\n",
    "                           tr_baseline_1, tr_baseline_2,\n",
    "                           fp_baseline_1, fp_baseline_2)\n",
    "\n",
    "vtm_df_2 = helper.vtm_calc(fp_moment_df_2,\n",
    "                           baseline_time_2, baseline_time_3,\n",
    "                           tr_baseline_2, tr_baseline_3,\n",
    "                           fp_baseline_2, fp_baseline_3)\n",
    "\n",
    "start = np.ceil(vtm_df_1.index.values[0]/100)*100\n",
    "end = np.floor(vtm_df_1.index.values[-1]/100)*100 + 100\n",
    "bins_1 = np.arange(start, end, 100)  # bin edges\n",
    "bin_centers_1 = np.arange(start, end-100, 100)+50\n",
    "\n",
    "start = np.ceil(vtm_df_2.index.values[0]/100)*100\n",
    "end = np.floor(vtm_df_2.index.values[-1]/100)*100 + 100\n",
    "bins_2 = np.arange(start, end, 100)  # bin edges\n",
    "bin_centers_2 = np.arange(start, end-100, 100)+50\n",
    "\n",
    "vtm_bin_df_1 = vtm_df_1.groupby(pd.cut(vtm_df_1.index, bins_1)).mean()\n",
    "vtm_bin_df_1.index = bin_centers_1\n",
    "vtm_bin_df_2 = vtm_df_2.groupby(pd.cut(vtm_df_2.index, bins_2)).mean()\n",
    "vtm_bin_df_2.index = bin_centers_2\n",
    "\n",
    "vtm_bin_df_full = vtm_bin_df_1.copy()\n",
    "vtm_bin_df_full = vtm_bin_df_full.append(vtm_bin_df_2)\n",
    "\n",
    "azi_avg_df = pd.DataFrame(np.zeros((vtm_bin_df_full.shape[0],6)),\n",
    "                         index = vtm_bin_df_full.index,\n",
    "                         columns = ['m' + str(m) for m in np.arange(6)+1])\n",
    "\n",
    "for m in range(5):\n",
    "    weight = summed_azimuth_1[:, m] + summed_azimuth_2[:, m] + summed_azimuth_3[:, m]\n",
    "    total_weight = np.nansum(weight)\n",
    "    stm_list = ['st'+str(st)+',m'+str(m+1) for st in np.arange(72)]\n",
    "    azi_avg_df['m'+str(m+1)] = vtm_bin_df_full[stm_list].multiply(weight).sum(axis=1)/total_weight\n",
    "    \n",
    "print_df = azi_avg_df[['m1','m2','m3','m4','m5']].copy()/61.79\n",
    "print_df['m1_err'] = -1\n",
    "print_df['m2_err'] = -1\n",
    "print_df['m3_err'] = -1\n",
    "print_df['m5_err'] = -1\n",
    "\n",
    "print_df = print_df.sort_index(axis='columns')\n",
    "# print_df.head()\n",
    "# print_df.to_csv('purcell_60hr_7-31.csv')"
   ]
  },
  {
   "cell_type": "code",
   "execution_count": 4,
   "metadata": {},
   "outputs": [],
   "source": [
    "sync_offsets_1, delta_time_1 = helper.sync_offset_calc(tr_corr_df_1, tr_corr_df_2)\n",
    "sync_offsets_2, delta_time_2 = helper.sync_offset_calc(tr_corr_df_2, tr_corr_df_3)"
   ]
  },
  {
   "cell_type": "code",
   "execution_count": 6,
   "metadata": {},
   "outputs": [
    {
     "name": "stdout",
     "output_type": "stream",
     "text": [
      "3.3151133086100857\n",
      "53.651291610456155\n"
     ]
    },
    {
     "data": {
      "image/png": "[encoded data removed]",
      "text/plain": [
       "<Figure size 432x288 with 1 Axes>"
      ]
     },
     "metadata": {
      "needs_background": "light"
     },
     "output_type": "display_data"
    }
   ],
   "source": [
    "def gaussian(x, A, x0, s): return A * np.exp(-(x-x0)**2/(2*s**2))\n",
    "\n",
    "m = 5\n",
    "\n",
    "out = plt.hist(sync_offsets_1[:,m-1], bins=40)\n",
    "counts = out[0]\n",
    "bins = (out[1][1:]+out[1][:-1])/2\n",
    "fit, _ = curve_fit(gaussian, bins, counts, p0=(20,-10,75))\n",
    "\n",
    "running_total = fit[2]**2/4 * np.mean(delta_time_1)\n",
    "weight = np.mean(delta_time_1)\n",
    "\n",
    "\n",
    "out = plt.hist(sync_offsets_2[:,m-1], bins=40)\n",
    "counts = out[0]\n",
    "bins = (out[1][1:]+out[1][:-1])/2\n",
    "fit, _ = curve_fit(gaussian, bins, counts, p0=(20,-10,75))\n",
    "\n",
    "running_total += fit[2]**2/4 * np.mean(delta_time_2)\n",
    "weight += np.mean(delta_time_2)\n",
    "\n",
    "print np.sqrt(running_total/weight)\n",
    "print np.sqrt(running_total/weight)/61.79e6*1e9"
   ]
  },
  {
   "cell_type": "code",
   "execution_count": null,
   "metadata": {},
   "outputs": [],
   "source": []
  },
  {
   "cell_type": "code",
   "execution_count": null,
   "metadata": {},
   "outputs": [],
   "source": [
    "sns.set_style('darkgrid')\n",
    "\n",
    "fig2, ax2 = plt.subplots(1,1)\n",
    "m = 1\n",
    "ax2.plot(print_df.index.values, print_df['m'+str(m)], '.')\n",
    "ax2.set_ylabel('$m_'+str(m)+'$-61.74 MHz (Hz)', fontdict={'size':12, 'family':'serif'})\n",
    "plt_unix_time_to_CST(ax2)\n",
    "fig2.set_size_inches(6,3)\n",
    "fig2.tight_layout()\n",
    "fig2.savefig('highkick_m'+str(m)+'.png', dpi=300)\n",
    "\n",
    "\n",
    "fig3, ax3 = plt.subplots(1,1)\n",
    "m = 2\n",
    "ax3.plot(print_df.index.values, print_df['m'+str(m)], '.')\n",
    "ax3.set_ylabel('$m_'+str(m)+'$ (Hz)', fontdict={'size':12, 'family':'serif'})\n",
    "plt_unix_time_to_CST(ax3)\n",
    "fig3.set_size_inches(6,3)\n",
    "fig3.tight_layout()\n",
    "fig3.savefig('highkick_m'+str(m)+'.png', dpi=300)\n",
    "\n",
    "fig4, ax4 = plt.subplots(1,1)\n",
    "m = 3\n",
    "ax4.plot(print_df.index.values, print_df['m'+str(m)], '.')\n",
    "ax4.set_ylabel('$m_'+str(m)+'$ (Hz)', fontdict={'size':12, 'family':'serif'})\n",
    "plt_unix_time_to_CST(ax4)\n",
    "fig4.set_size_inches(6,3)\n",
    "fig4.tight_layout()\n",
    "fig4.savefig('highkick_m'+str(m)+'.png', dpi=300)\n",
    "\n",
    "fig5, ax5 = plt.subplots(1,1)\n",
    "m = 4\n",
    "ax5.plot(print_df.index.values, print_df['m'+str(m)], '.')\n",
    "ax5.set_ylabel('$m_'+str(m)+'$ (Hz)', fontdict={'size':12, 'family':'serif'})\n",
    "plt_unix_time_to_CST(ax5)\n",
    "fig5.set_size_inches(6,3)\n",
    "fig5.tight_layout()\n",
    "fig5.savefig('highkick_m'+str(m)+'.png', dpi=300)\n",
    "\n",
    "fig6, ax6 = plt.subplots(1,1)\n",
    "m = 5\n",
    "ax6.plot(print_df.index.values, print_df['m'+str(m)], '.')\n",
    "ax6.set_ylabel('$m_'+str(m)+'$ (Hz)', fontdict={'size':12, 'family':'serif'})\n",
    "plt_unix_time_to_CST(ax6)\n",
    "fig6.set_size_inches(6,3)\n",
    "fig6.tight_layout()\n",
    "fig6.savefig('highkick_m'+str(m)+'.png', dpi=300)"
   ]
  },
  {
   "cell_type": "code",
   "execution_count": null,
   "metadata": {},
   "outputs": [],
   "source": [
    "plt.plot(print_df.index.values, print_df['m1'], '.')\n",
    "# plt.xlim((1525117000, 1525120000))\n",
    "plt.ylim(840.5,844)\n",
    "ax = plt.gca()\n",
    "fig = plt.gcf()\n",
    "\n",
    "ax.set_ylabel('dipole (ppm)')\n",
    "plt2.plt_unix_time_to_CST(ax)\n",
    "\n",
    "fig.set_size_inches(12,6)\n",
    "fig.tight_layout()"
   ]
  },
  {
   "cell_type": "markdown",
   "metadata": {
    "heading_collapsed": true
   },
   "source": [
    "## End Game Data Set"
   ]
  },
  {
   "cell_type": "code",
   "execution_count": null,
   "metadata": {
    "hidden": true
   },
   "outputs": [],
   "source": [
    "%%time\n",
    "\n",
    "print 'fp run 1'\n",
    "fp_moment_df_1 = apply_blinds_fp(helper.calc_moment_df(pd.read_hdf('hdf5/endgame.h5', 'fp_df_1')), blinds)\n",
    "print 'fp run 2'\n",
    "fp_moment_df_2 = apply_blinds_fp(helper.calc_moment_df(pd.read_hdf('hdf5/endgame.h5', 'fp_df_2')), blinds)\n",
    "print 'fp run 3'\n",
    "fp_moment_df_3 = apply_blinds_fp(helper.calc_moment_df(pd.read_hdf('hdf5/endgame.h5', 'fp_df_3')), blinds)\n",
    "print 'fp run 4'\n",
    "fp_moment_df_4 = apply_blinds_fp(helper.calc_moment_df(pd.read_hdf('hdf5/endgame.h5', 'fp_df_4')), blinds)\n",
    "print 'fp run 5'\n",
    "fp_moment_df_5 = apply_blinds_fp(helper.calc_moment_df(pd.read_hdf('hdf5/endgame.h5', 'fp_df_5')), blinds)\n",
    "print 'fp run 6'\n",
    "fp_moment_df_6 = apply_blinds_fp(helper.calc_moment_df(pd.read_hdf('hdf5/endgame.h5', 'fp_df_6')), blinds)\n",
    "\n",
    "print 'tr run 1'\n",
    "tr_moment_df_1 = apply_blinds_tr(helper.calc_moment_df(pd.read_hdf('hdf5/endgame.h5', 'tr_df_1')), blinds)\n",
    "print 'tr run 2'\n",
    "tr_moment_df_2 = apply_blinds_tr(helper.calc_moment_df(pd.read_hdf('hdf5/endgame.h5', 'tr_df_2')), blinds)\n",
    "print 'tr run 3'\n",
    "tr_moment_df_3 = apply_blinds_tr(helper.calc_moment_df(pd.read_hdf('hdf5/endgame.h5', 'tr_df_3')), blinds)\n",
    "print 'tr run 4'\n",
    "tr_moment_df_4 = apply_blinds_tr(helper.calc_moment_df(pd.read_hdf('hdf5/endgame.h5', 'tr_df_4')), blinds)\n",
    "print 'tr run 5'\n",
    "tr_moment_df_5 = apply_blinds_tr(helper.calc_moment_df(pd.read_hdf('hdf5/endgame.h5', 'tr_df_5')), blinds)\n",
    "print 'tr run 6'\n",
    "tr_moment_df_6 = apply_blinds_tr(helper.calc_moment_df(pd.read_hdf('hdf5/endgame.h5', 'tr_df_6')), blinds)\n",
    "print 'tr run 7'\n",
    "tr_moment_df_7 = apply_blinds_tr(helper.calc_moment_df(pd.read_hdf('hdf5/endgame.h5', 'tr_df_7')), blinds)\n",
    "print 'tr run 8'\n",
    "tr_moment_df_8 = apply_blinds_tr(helper.calc_moment_df(pd.read_hdf('hdf5/endgame.h5', 'tr_df_8')), blinds)\n",
    "print 'tr run 9'\n",
    "tr_moment_df_9 = apply_blinds_tr(helper.calc_moment_df(pd.read_hdf('hdf5/endgame.h5', 'tr_df_9')), blinds)"
   ]
  },
  {
   "cell_type": "code",
   "execution_count": null,
   "metadata": {
    "hidden": true
   },
   "outputs": [],
   "source": [
    "## FIRST TROLLEY PAIR IS DROPPED\n",
    "\n",
    "# tr_corr_df_1 = helper_old.trolley_footprint_replacement(tr_moment_df_1)\n",
    "tr_corr_df_2 = helper_old.trolley_footprint_replacement(tr_moment_df_2)\n",
    "tr_corr_df_3 = helper_old.trolley_footprint_replacement(tr_moment_df_3)\n",
    "tr_corr_df_4 = helper_old.trolley_footprint_replacement(tr_moment_df_4)\n",
    "tr_corr_df_5 = helper_old.trolley_footprint_replacement(tr_moment_df_5)\n",
    "tr_corr_df_6 = helper_old.trolley_footprint_replacement(tr_moment_df_6)\n",
    "tr_corr_df_7 = helper_old.trolley_footprint_replacement(tr_moment_df_7)\n",
    "tr_corr_df_8 = helper_old.trolley_footprint_replacement(tr_moment_df_8)\n",
    "# tr_corr_df_9 = helper_old.trolley_footprint_replacement(tr_moment_df_9)\n",
    "\n",
    "# tr_baseline_1, fp_baseline_1, baseline_time_1, summed_azimuth_1, summed_pts_1 = helper_old.trolley_run_station_average(tr_corr_df_1)\n",
    "tr_baseline_2, fp_baseline_2, baseline_time_2, summed_azimuth_2, summed_pts_2 = helper_old.trolley_run_station_average(tr_corr_df_2)\n",
    "tr_baseline_3, fp_baseline_3, baseline_time_3, summed_azimuth_3, summed_pts_3 = helper_old.trolley_run_station_average(tr_corr_df_3)\n",
    "\n",
    "tr_baseline_4, fp_baseline_4, baseline_time_4, summed_azimuth_4, summed_pts_4 = helper_old.trolley_run_station_average(tr_corr_df_4)\n",
    "tr_baseline_5, fp_baseline_5, baseline_time_5, summed_azimuth_5, summed_pts_5 = helper_old.trolley_run_station_average(tr_corr_df_5)\n",
    "tr_baseline_6, fp_baseline_6, baseline_time_6, summed_azimuth_6, summed_pts_6 = helper_old.trolley_run_station_average(tr_corr_df_6)\n",
    "\n",
    "tr_baseline_7, fp_baseline_7, baseline_time_7, summed_azimuth_7, summed_pts_7 = helper_old.trolley_run_station_average(tr_corr_df_7)\n",
    "tr_baseline_8, fp_baseline_8, baseline_time_8, summed_azimuth_8, summed_pts_8 = helper_old.trolley_run_station_average(tr_corr_df_8)\n",
    "# tr_baseline_9, fp_baseline_9, baseline_time_9, summed_azimuth_9, summed_pts_9 = helper_old.trolley_run_station_average(tr_corr_df_9)\n",
    "\n",
    "## vtm_df_1 will have weirdness due to SCC shenanigans\n",
    "# vtm_df_1 = helper.vtm_calc(fp_moment_df_1,\n",
    "#                            baseline_time_1, baseline_time_2,  ## only backwards track?\n",
    "#                            tr_baseline_2, tr_baseline_2,\n",
    "#                            fp_baseline_2, fp_baseline_2)\n",
    "\n",
    "vtm_df_2 = helper.vtm_calc(fp_moment_df_2,\n",
    "                           baseline_time_2, baseline_time_3,\n",
    "                           tr_baseline_2, tr_baseline_3,\n",
    "                           fp_baseline_2, fp_baseline_3)\n",
    "\n",
    "vtm_df_3 = helper.vtm_calc(fp_moment_df_3,\n",
    "                           baseline_time_4, baseline_time_5,\n",
    "                           tr_baseline_4, tr_baseline_5,\n",
    "                           fp_baseline_4, fp_baseline_5)\n",
    "\n",
    "vtm_df_4 = helper.vtm_calc(fp_moment_df_4,\n",
    "                           baseline_time_6, baseline_time_7,\n",
    "                           tr_baseline_6, tr_baseline_7,\n",
    "                           fp_baseline_6, fp_baseline_7)\n",
    "\n",
    "vtm_df_5 = helper.vtm_calc(fp_moment_df_5,\n",
    "                           baseline_time_7, baseline_time_8,\n",
    "                           tr_baseline_7, tr_baseline_8,\n",
    "                           fp_baseline_7, fp_baseline_8)\n",
    "\n",
    "vtm_df_6 = helper.vtm_calc(fp_moment_df_6,\n",
    "                           baseline_time_8, baseline_time_7,  # NO BACKWARDS TRACKING\n",
    "                           tr_baseline_8, tr_baseline_8,\n",
    "                           fp_baseline_8, fp_baseline_8)\n",
    "\n",
    "# start = np.ceil(vtm_df_1.index.values[0]/100)*100\n",
    "# end = np.floor(vtm_df_1.index.values[-1]/100)*100 + 100\n",
    "# bins_1 = np.arange(start, end, 100)  # bin edges\n",
    "# bin_centers_1 = np.arange(start, end-100, 100)+50\n",
    "\n",
    "start = np.ceil(vtm_df_2.index.values[0]/100)*100\n",
    "end = np.floor(vtm_df_2.index.values[-1]/100)*100 + 100\n",
    "bins_2 = np.arange(start, end, 100)  # bin edges\n",
    "bin_centers_2 = np.arange(start, end-100, 100)+50\n",
    "\n",
    "start = np.ceil(vtm_df_3.index.values[0]/100)*100\n",
    "end = np.floor(vtm_df_3.index.values[-1]/100)*100 + 100\n",
    "bins_3 = np.arange(start, end, 100)  # bin edges\n",
    "bin_centers_3 = np.arange(start, end-100, 100)+50\n",
    "\n",
    "start = np.ceil(vtm_df_4.index.values[0]/100)*100\n",
    "end = np.floor(vtm_df_4.index.values[-1]/100)*100 + 100\n",
    "bins_4 = np.arange(start, end, 100)  # bin edges\n",
    "bin_centers_4 = np.arange(start, end-100, 100)+50\n",
    "\n",
    "start = np.ceil(vtm_df_5.index.values[0]/100)*100\n",
    "end = np.floor(vtm_df_5.index.values[-1]/100)*100 + 100\n",
    "bins_5 = np.arange(start, end, 100)  # bin edges\n",
    "bin_centers_5 = np.arange(start, end-100, 100)+50\n",
    "\n",
    "start = np.ceil(vtm_df_6.index.values[0]/100)*100\n",
    "end = np.floor(vtm_df_6.index.values[-1]/100)*100 + 100\n",
    "bins_6 = np.arange(start, end, 100)  # bin edges\n",
    "bin_centers_6 = np.arange(start, end-100, 100)+50\n",
    "\n",
    "# vtm_bin_df_1 = vtm_df_1.groupby(pd.cut(vtm_df_1.index, bins_1)).mean()\n",
    "# vtm_bin_df_1.index = bin_centers_1\n",
    "vtm_bin_df_2 = vtm_df_2.groupby(pd.cut(vtm_df_2.index, bins_2)).mean()\n",
    "vtm_bin_df_2.index = bin_centers_2\n",
    "vtm_bin_df_3 = vtm_df_3.groupby(pd.cut(vtm_df_3.index, bins_3)).mean()\n",
    "vtm_bin_df_3.index = bin_centers_3\n",
    "vtm_bin_df_4 = vtm_df_4.groupby(pd.cut(vtm_df_4.index, bins_4)).mean()\n",
    "vtm_bin_df_4.index = bin_centers_4\n",
    "vtm_bin_df_5 = vtm_df_5.groupby(pd.cut(vtm_df_5.index, bins_5)).mean()\n",
    "vtm_bin_df_5.index = bin_centers_5\n",
    "vtm_bin_df_6 = vtm_df_6.groupby(pd.cut(vtm_df_6.index, bins_6)).mean()\n",
    "vtm_bin_df_6.index = bin_centers_6\n",
    "\n",
    "# vtm_bin_df_full = vtm_bin_df_1.copy()\n",
    "# vtm_bin_df_full = vtm_bin_df_full.append(vtm_bin_df_2)\n",
    "vtm_bin_df_full = vtm_bin_df_2.copy()\n",
    "vtm_bin_df_full = vtm_bin_df_full.append(vtm_bin_df_3)\n",
    "vtm_bin_df_full = vtm_bin_df_full.append(vtm_bin_df_4)\n",
    "vtm_bin_df_full = vtm_bin_df_full.append(vtm_bin_df_5)\n",
    "vtm_bin_df_full = vtm_bin_df_full.append(vtm_bin_df_6)\n",
    "\n",
    "azi_avg_df = pd.DataFrame(np.zeros((vtm_bin_df_full.shape[0],6)),\n",
    "                         index = vtm_bin_df_full.index,\n",
    "                         columns = ['m' + str(m) for m in np.arange(6)+1])\n",
    "\n",
    "for m in range(5):\n",
    "    weight = (summed_azimuth_2[:, m] + summed_azimuth_3[:, m]\n",
    "             + summed_azimuth_4[:, m] + summed_azimuth_5[:, m] + summed_azimuth_6[:, m]\n",
    "             + summed_azimuth_7[:, m] + summed_azimuth_8[:, m])# + summed_azimuth_9[:, m])\n",
    "    total_weight = np.nansum(weight)\n",
    "    stm_list = ['st'+str(st)+',m'+str(m+1) for st in np.arange(72)]\n",
    "    azi_avg_df['m'+str(m+1)] = vtm_bin_df_full[stm_list].multiply(weight).sum(axis=1)/total_weight\n",
    "    \n",
    "print_df = azi_avg_df[['m1','m2','m3','m4','m5']].copy()/61.79\n",
    "print_df['m1_err'] = -1\n",
    "print_df['m2_err'] = -1\n",
    "print_df['m3_err'] = -1\n",
    "print_df['m5_err'] = -1\n",
    "\n",
    "print_df = print_df.sort_index(axis='columns')\n",
    "# print_df.head()\n",
    "# print_df.to_csv('purcell_60hr_7-31.csv')"
   ]
  },
  {
   "cell_type": "code",
   "execution_count": null,
   "metadata": {
    "hidden": true
   },
   "outputs": [],
   "source": [
    "sync_offsets_1, delta_time_1 = helper.sync_offset_calc(tr_corr_df_2, tr_corr_df_3)\n",
    "sync_offsets_2, delta_time_2 = helper.sync_offset_calc(tr_corr_df_4, tr_corr_df_5)\n",
    "sync_offsets_3, delta_time_3 = helper.sync_offset_calc(tr_corr_df_6, tr_corr_df_7)\n",
    "sync_offsets_4, delta_time_4 = helper.sync_offset_calc(tr_corr_df_7, tr_corr_df_8)"
   ]
  },
  {
   "cell_type": "code",
   "execution_count": null,
   "metadata": {
    "hidden": true
   },
   "outputs": [],
   "source": [
    "def gaussian(x, A, x0, s): return A * np.exp(-(x-x0)**2/(2*s**2))\n",
    "\n",
    "m = 4\n",
    "\n",
    "out = plt.hist(sync_offsets_1[:,m-1], bins=40)\n",
    "counts = out[0]\n",
    "bins = (out[1][1:]+out[1][:-1])/2\n",
    "fit, _ = curve_fit(gaussian, bins, counts, p0=(20,-10,75))\n",
    "\n",
    "running_total = fit[2]**2/4 * np.mean(delta_time_1)\n",
    "weight = np.mean(delta_time_1)\n",
    "\n",
    "\n",
    "out = plt.hist(sync_offsets_2[:,m-1], bins=40)\n",
    "counts = out[0]\n",
    "bins = (out[1][1:]+out[1][:-1])/2\n",
    "fit, _ = curve_fit(gaussian, bins, counts, p0=(20,-10,75))\n",
    "\n",
    "running_total += fit[2]**2/4 * np.mean(delta_time_2)\n",
    "weight += np.mean(delta_time_2)\n",
    "\n",
    "\n",
    "out = plt.hist(sync_offsets_3[:,m-1], bins=40)\n",
    "counts = out[0]\n",
    "bins = (out[1][1:]+out[1][:-1])/2\n",
    "fit, _ = curve_fit(gaussian, bins, counts, p0=(20,-10,75))\n",
    "\n",
    "running_total += fit[2]**2/4 * np.mean(delta_time_3)\n",
    "weight += np.mean(delta_time_3)\n",
    "\n",
    "\n",
    "out = plt.hist(sync_offsets_4[:,m-1], bins=40)\n",
    "counts = out[0]\n",
    "bins = (out[1][1:]+out[1][:-1])/2\n",
    "fit, _ = curve_fit(gaussian, bins, counts, p0=(20,-10,75))\n",
    "\n",
    "running_total += fit[2]**2/4 * np.mean(delta_time_4)\n",
    "weight += np.mean(delta_time_4)\n",
    "\n",
    "out = plt.hist(sync_offsets_4[:,m-1], bins=40)\n",
    "counts = out[0]\n",
    "bins = (out[1][1:]+out[1][:-1])/2\n",
    "fit, _ = curve_fit(gaussian, bins, counts, p0=(20,-10,75))\n",
    "\n",
    "running_total += fit[2]**2/2 * np.mean(delta_time_4)\n",
    "weight += np.mean(delta_time_4)\n",
    "\n",
    "print np.sqrt(running_total/weight)\n",
    "print np.sqrt(running_total/weight)/61.79e6*1e9"
   ]
  },
  {
   "cell_type": "code",
   "execution_count": null,
   "metadata": {
    "hidden": true
   },
   "outputs": [],
   "source": []
  },
  {
   "cell_type": "code",
   "execution_count": null,
   "metadata": {
    "hidden": true
   },
   "outputs": [],
   "source": [
    "sns.set_style('darkgrid')\n",
    "\n",
    "fig2, ax2 = plt.subplots(1,1)\n",
    "m = 1\n",
    "ax2.plot(print_df.index.values, print_df['m'+str(m)], '.')\n",
    "ax2.set_ylabel('$m_'+str(m)+'$-61.74 MHz (Hz)', fontdict={'size':12, 'family':'serif'})\n",
    "plt_unix_time_to_CST(ax2)\n",
    "fig2.set_size_inches(6,3)\n",
    "fig2.tight_layout()\n",
    "fig2.savefig('endgame_m'+str(m)+'.png', dpi=300)\n",
    "\n",
    "\n",
    "fig3, ax3 = plt.subplots(1,1)\n",
    "m = 2\n",
    "ax3.plot(print_df.index.values, print_df['m'+str(m)], '.')\n",
    "ax3.set_ylabel('$m_'+str(m)+'$ (Hz)', fontdict={'size':12, 'family':'serif'})\n",
    "plt_unix_time_to_CST(ax3)\n",
    "fig3.set_size_inches(6,3)\n",
    "fig3.tight_layout()\n",
    "fig3.savefig('endgame_m'+str(m)+'.png', dpi=300)\n",
    "\n",
    "fig4, ax4 = plt.subplots(1,1)\n",
    "m = 3\n",
    "ax4.plot(print_df.index.values, print_df['m'+str(m)], '.')\n",
    "ax4.set_ylabel('$m_'+str(m)+'$ (Hz)', fontdict={'size':12, 'family':'serif'})\n",
    "plt_unix_time_to_CST(ax4)\n",
    "fig4.set_size_inches(6,3)\n",
    "fig4.tight_layout()\n",
    "fig4.savefig('endgame_m'+str(m)+'.png', dpi=300)\n",
    "\n",
    "fig5, ax5 = plt.subplots(1,1)\n",
    "m = 4\n",
    "ax5.plot(print_df.index.values, print_df['m'+str(m)], '.')\n",
    "ax5.set_ylabel('$m_'+str(m)+'$ (Hz)', fontdict={'size':12, 'family':'serif'})\n",
    "plt_unix_time_to_CST(ax5)\n",
    "fig5.set_size_inches(6,3)\n",
    "fig5.tight_layout()\n",
    "fig5.savefig('endgame_m'+str(m)+'.png', dpi=300)\n",
    "\n",
    "fig6, ax6 = plt.subplots(1,1)\n",
    "m = 5\n",
    "ax6.plot(print_df.index.values, print_df['m'+str(m)], '.')\n",
    "ax6.set_ylabel('$m_'+str(m)+'$ (Hz)', fontdict={'size':12, 'family':'serif'})\n",
    "plt_unix_time_to_CST(ax6)\n",
    "fig6.set_size_inches(6,3)\n",
    "fig6.tight_layout()\n",
    "fig6.savefig('endgame_m'+str(m)+'.png', dpi=300)"
   ]
  },
  {
   "cell_type": "code",
   "execution_count": null,
   "metadata": {
    "hidden": true
   },
   "outputs": [],
   "source": [
    "plt.plot(print_df.index.values, print_df['m1'], '.')\n",
    "# plt.xlim((1528650000, 1529000000))\n",
    "plt.ylim(843,845)\n",
    "# plt.ylim(-1,1)\n",
    "ax = plt.gca()\n",
    "fig = plt.gcf()\n",
    "\n",
    "ax.set_ylabel('dipole (ppm)')\n",
    "plt2.plt_unix_time_to_CST(ax)\n",
    "\n",
    "fig.set_size_inches(12,6)\n",
    "fig.tight_layout()"
   ]
  },
  {
   "cell_type": "markdown",
   "metadata": {
    "heading_collapsed": true
   },
   "source": [
    "## Other"
   ]
  },
  {
   "cell_type": "code",
   "execution_count": null,
   "metadata": {
    "hidden": true,
    "scrolled": false
   },
   "outputs": [],
   "source": [
    "sync_offsets, delta_t = helper.sync_offset_calc(tr_corr_df_5, tr_corr_df_6)\n",
    "\n",
    "def gaussian(x, A, x0, sigma): return A*np.exp(-(x-x0)**2/2./sigma**2)\n",
    "\n",
    "fig, axs = plt.subplots(2,3)\n",
    "for i in range(2):\n",
    "    for j in range(3):\n",
    "        st = 3*i+j\n",
    "        if st == 5: continue\n",
    "            \n",
    "        plt.sca(axs[i,j])\n",
    "        hist, bins, _ = plt.hist(sync_offsets[:,st], bins=50)\n",
    "        low, high = axs[i,j].get_xlim()\n",
    "                \n",
    "        bins = bins[0:-1] + 0.5*(bins[1]-bins[0])\n",
    "        coeffs, _ = curve_fit(gaussian, bins, hist, p0=[1., 0., 10.])\n",
    "        fit = gaussian(np.arange(low, high, 0.1), coeffs[0], coeffs[1], coeffs[2])\n",
    "        plt.plot(np.arange(low,high,0.1), fit, label=r'$\\omega_0$ = '+str(np.round(coeffs[1],1))+'\\n$\\sigma$ = '+str(np.round(coeffs[2],1)))\n",
    "        plt.legend(loc=1)\n",
    "        plt2.plt_set_labels(axs[i,j], 'sync offset (Hz)', '', 'm '+str(st+1))\n",
    "        \n",
    "        if st == 0: plt.xlim(-100,100)\n",
    "        else: plt.xlim(-50,50)\n",
    "\n",
    "\n",
    "fig.set_size_inches(12,8)\n",
    "fig.tight_layout()"
   ]
  },
  {
   "cell_type": "code",
   "execution_count": null,
   "metadata": {
    "hidden": true
   },
   "outputs": [],
   "source": [
    "print np.mean(sync_offsets_1[:,0])/61.79\n",
    "print np.std(sync_offsets_1[:,0])/61.79\n",
    "print np.std(sync_offsets_1[:,0])/61.79/np.sqrt(72)\n",
    "\n",
    "plt.hist(sync_offsets_1[:,0]/61.7, bins=50)"
   ]
  },
  {
   "cell_type": "code",
   "execution_count": null,
   "metadata": {
    "hidden": true
   },
   "outputs": [],
   "source": [
    "print np.mean(sync_offsets_1[:,0])/61.79\n",
    "print np.std(sync_offsets_1[:,0])/61.79\n",
    "print np.std(sync_offsets_1[:,0])/61.79/np.sqrt(72)\n",
    "\n",
    "plt.hist(sync_offsets_1[:,0]/61.7, bins=50)"
   ]
  }
 ],
 "metadata": {
  "kernelspec": {
   "display_name": "Python 2",
   "language": "python",
   "name": "python2"
  },
  "language_info": {
   "codemirror_mode": {
    "name": "ipython",
    "version": 2
   },
   "file_extension": ".py",
   "mimetype": "text/x-python",
   "name": "python",
   "nbconvert_exporter": "python",
   "pygments_lexer": "ipython2",
   "version": "2.7.14"
  }
 },
 "nbformat": 4,
 "nbformat_minor": 2
}
