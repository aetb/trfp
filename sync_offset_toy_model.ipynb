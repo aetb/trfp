{
 "cells": [
  {
   "cell_type": "code",
   "execution_count": 1,
   "metadata": {},
   "outputs": [],
   "source": [
    "import numpy as np\n",
    "import matplotlib.pyplot as plt\n",
    "from scipy.optimize import curve_fit"
   ]
  },
  {
   "cell_type": "code",
   "execution_count": 2,
   "metadata": {},
   "outputs": [],
   "source": [
    "# sync_offsets = np.random.normal(size=(72,11))\n",
    "# times = np.tile(np.random.uniform(low=(72-6)*60*60, high=(72+6)*60*60, size=11), (72,1))\n",
    "\n",
    "# np.savetxt(\"toy_syncs.csv\", sync_offsets, delimiter=\",\")\n",
    "# np.savetxt(\"toy_times.csv\", times, delimiter=\",\")\n",
    "\n",
    "# ## make fake CTAGs by subrun\n",
    "# bins = 72*60*60/10  # 10 sec bins, 72 hour run\n",
    "# ctags = np.random.uniform(low=0, high=1000, size=bins)\n",
    "\n",
    "# bin_edges = np.linspace(0, 72*3600, bins+1)\n",
    "\n",
    "# save_array = np.empty((bins, 2))\n",
    "# save_array[:,0] = bin_edges[0:-1]\n",
    "# save_array[:,1] = ctags\n",
    "# np.savetxt('toy_ctags.csv', save_array, delimiter=',')"
   ]
  },
  {
   "cell_type": "code",
   "execution_count": 3,
   "metadata": {},
   "outputs": [],
   "source": [
    "syncs = np.genfromtxt('toy_syncs.csv', delimiter=',')/61.79e6*1e9\n",
    "times = np.genfromtxt('toy_times.csv', delimiter=',')\n",
    "bins_ = np.genfromtxt('toy_ctags.csv', delimiter=',')[:,0] + 5\n",
    "ctags = np.genfromtxt('toy_ctags.csv', delimiter=',')[:,1]"
   ]
  },
  {
   "cell_type": "code",
   "execution_count": 17,
   "metadata": {},
   "outputs": [],
   "source": [
    "## normalize the sync offsets to time, Hz/sqrt(sec)\n",
    "\n",
    "def gaussian(x, A, s, x0):\n",
    "    return A*np.exp(-(x-x0)**2/2/s**2)\n",
    "\n",
    "rates = syncs/np.sqrt(times)\n",
    "\n",
    "counts, bins = np.histogram(rates.flatten(), bins=50)\n",
    "bins = (bins[:-1]+bins[1:])/2\n",
    "p, cov = curve_fit(gaussian,  bins,  counts, p0=(170, 0.01, 0))\n",
    "\n",
    "rate = p[1]**2"
   ]
  },
  {
   "cell_type": "code",
   "execution_count": 18,
   "metadata": {},
   "outputs": [
    {
     "name": "stdout",
     "output_type": "stream",
     "text": [
      "1.9297216561953319\n",
      "1.942917645159239\n",
      "1.9086121781396994\n"
     ]
    }
   ],
   "source": [
    "print p[1]*60\n",
    "print np.std(rates.flatten())*60\n",
    "print (np.quantile(rates.flatten(), 0.5+.341) - np.quantile(rates.flatten(), 0.5-.341))/2*60"
   ]
  },
  {
   "cell_type": "code",
   "execution_count": 12,
   "metadata": {},
   "outputs": [
    {
     "data": {
      "text/plain": [
       "[<matplotlib.lines.Line2D at 0x7f6444cb21d0>]"
      ]
     },
     "execution_count": 12,
     "metadata": {},
     "output_type": "execute_result"
    },
    {
     "data": {
      "image/png": "[encoded data removed]",
      "text/plain": [
       "<Figure size 432x288 with 1 Axes>"
      ]
     },
     "metadata": {
      "needs_background": "light"
     },
     "output_type": "display_data"
    }
   ],
   "source": [
    "_ = plt.hist(rates.flatten(), bins=50)\n",
    "x_ = np.linspace(-.1, .1, 200)\n",
    "plt.plot(x_, gaussian(x_, p[0], p[1], p[2]), '.')"
   ]
  },
  {
   "cell_type": "code",
   "execution_count": 19,
   "metadata": {},
   "outputs": [
    {
     "name": "stdout",
     "output_type": "stream",
     "text": [
      "1.9297216561953319\n"
     ]
    }
   ],
   "source": [
    "print np.sqrt(rate)*np.sqrt(3600)"
   ]
  },
  {
   "cell_type": "code",
   "execution_count": 20,
   "metadata": {},
   "outputs": [],
   "source": [
    "def cov(t1, t2, T, M=0.01810259**2):  # units for M are Hz^2/sec\n",
    "    u = np.minimum(t1, t2)\n",
    "    v = np.maximum(t1, t2)\n",
    "    return M * (T - v) * u / T\n",
    "\n",
    "def cov2(t1, t2, T, M=0.01810259**2):  # units for M are Hz^2/sec\n",
    "    u = np.minimum(t1, t2)\n",
    "    v = np.maximum(t1, t2)\n",
    "    return M * u"
   ]
  },
  {
   "cell_type": "code",
   "execution_count": 21,
   "metadata": {},
   "outputs": [],
   "source": [
    "a = ctags/np.sum(ctags)\n",
    "\n",
    "t1 = np.outer(bins_, np.ones(bins_.size))\n",
    "t2 = np.outer(np.ones(bins_.size), bins_)\n",
    "\n",
    "t_period = 72*3600\n",
    "\n",
    "sigma = cov(t1, t2, t_period, M=1)  # use M=1, scale with rates later to save time\n",
    "sigma_avg = np.dot(a, np.dot(sigma, a))\n",
    "\n",
    "sigma2 = cov2(t1, t2, t_period, M=1)  # use M=1, scale with rates later to save time\n",
    "sigma2_avg = np.dot(a, np.dot(sigma2, a))"
   ]
  },
  {
   "cell_type": "code",
   "execution_count": 23,
   "metadata": {},
   "outputs": [
    {
     "data": {
      "text/plain": [
       "[<matplotlib.lines.Line2D at 0x7f6444ea7e10>]"
      ]
     },
     "execution_count": 23,
     "metadata": {},
     "output_type": "execute_result"
    },
    {
     "data": {
      "image/png": "[encoded data removed]",
      "text/plain": [
       "<Figure size 432x288 with 1 Axes>"
      ]
     },
     "metadata": {
      "needs_background": "light"
     },
     "output_type": "display_data"
    }
   ],
   "source": [
    "plt.plot(bins_, np.sqrt(rate*np.diagonal(sigma)), '.')\n",
    "plt.plot(bins_, np.sqrt(rate*np.diagonal(sigma2)), '.')"
   ]
  },
  {
   "cell_type": "code",
   "execution_count": 24,
   "metadata": {},
   "outputs": [
    {
     "data": {
      "text/plain": [
       "8.187115607296532"
      ]
     },
     "execution_count": 24,
     "metadata": {},
     "output_type": "execute_result"
    }
   ],
   "source": [
    "np.max(np.sqrt(rate*np.diagonal(sigma)))"
   ]
  },
  {
   "cell_type": "code",
   "execution_count": null,
   "metadata": {},
   "outputs": [],
   "source": []
  }
 ],
 "metadata": {
  "kernelspec": {
   "display_name": "Python 2",
   "language": "python",
   "name": "python2"
  },
  "language_info": {
   "codemirror_mode": {
    "name": "ipython",
    "version": 2
   },
   "file_extension": ".py",
   "mimetype": "text/x-python",
   "name": "python",
   "nbconvert_exporter": "python",
   "pygments_lexer": "ipython2",
   "version": "2.7.5"
  }
 },
 "nbformat": 4,
 "nbformat_minor": 2
}
