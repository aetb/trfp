{
 "cells": [
  {
   "cell_type": "code",
   "execution_count": null,
   "metadata": {},
   "outputs": [],
   "source": [
    "%load_ext autoreload\n",
    "%autoreload 2\n",
    "\n",
    "%matplotlib inline\n",
    "import matplotlib\n",
    "import matplotlib.pyplot as plt\n",
    "import seaborn as sns\n",
    "\n",
    "import numpy as np\n",
    "import pandas as pd\n",
    "\n",
    "from scipy.optimize import curve_fit\n",
    "\n",
    "import gm2\n",
    "import trfp\n",
    "import plotting_functions as plt2\n",
    "import analysis_helper as helper\n",
    "import helper_function_candidates as helper_old\n",
    "\n",
    "## Define a function that performs the double difference test\n",
    "\n",
    "def drop_diff_double(input_array, threshold=2000):\n",
    "    #copy input\n",
    "    start_array = input_array.copy()\n",
    "    #sanitize input array by replacing nan values with median values\n",
    "    start_array[np.isnan(start_array)] = np.nanmedian(start_array)\n",
    "    diff = np.diff(start_array)\n",
    "    drop_list = []\n",
    "    \n",
    "    for i in range(len(diff)-1):\n",
    "        if ((diff[i] < -threshold and diff[i+1] > threshold)\n",
    "            or (diff[i] > threshold and diff[i+1] < -threshold)):\n",
    "            drop_list.append(i+1)\n",
    "    \n",
    "    output_array = input_array.copy()\n",
    "    output_array[drop_list] = np.nan\n",
    "    \n",
    "    return output_array, len(drop_list)\n",
    "\n",
    "def drop_diff_single(input_array, threshold=2000):\n",
    "    #copy input\n",
    "    start_array = input_array.copy()\n",
    "    #sanitize input array by replacing nan values with median values\n",
    "    start_array[np.isnan(start_array)] = np.nanmedian(start_array)\n",
    "    diff = np.diff(start_array)\n",
    "    drop_list = []\n",
    "    \n",
    "    for i in range(len(diff)-1):\n",
    "        if np.abs(diff[i]) > threshold:\n",
    "            drop_list.append(i+1)\n",
    "    \n",
    "    output_array = input_array.copy()\n",
    "    output_array[drop_list] = np.nan\n",
    "    \n",
    "    return output_array, len(drop_list)\n",
    "\n",
    "def drop_freq_bin(input_array, bin_len = 1000, std = 3):\n",
    "    start_array = input_array.copy()\n",
    "    num_bin = test.size/bin_len\n",
    "\n",
    "    for i in range(num_bin):\n",
    "\n",
    "        center = np.nanmedian(start_array[i*bin_len:(i+1)*bin_len])\n",
    "        width = np.nanstd(start_array[i*bin_len:(i+1)*bin_len])\n",
    "\n",
    "        drop = np.abs(start_array[i*bin_len:(i+1)*bin_len] - center) > std*width\n",
    "        start_array[i*bin_len:(i+1)*bin_len][drop] = np.nan\n",
    "\n",
    "    center = np.nanmedian(start_array[num_bin*bin_len:])\n",
    "    width = np.nanstd(start_array[num_bin*bin_len:])\n",
    "\n",
    "    drop = np.abs(start_array[num_bin*bin_len:] - center) > std*width\n",
    "    start_array[num_bin*bin_len:][drop] = np.nan\n",
    "    \n",
    "    drops = np.sum(np.isnan(start_array)) - np.sum(np.isnan(input_array))\n",
    "    \n",
    "    return start_array, drops"
   ]
  },
  {
   "cell_type": "code",
   "execution_count": null,
   "metadata": {},
   "outputs": [],
   "source": [
    "run_range = range(4141,4179)\n",
    "prefix = 'data1/newg2/DataProduction/Offline/ArtTFSDir/v9_21_05_dev/FieldPlainRootOutput_'\n",
    "\n",
    "fp_run = gm2.FixedProbe(run_range, prefix=prefix)"
   ]
  },
  {
   "cell_type": "code",
   "execution_count": null,
   "metadata": {},
   "outputs": [],
   "source": [
    "fp_time = fp_run.time[1:]/1.e9\n",
    "fp_freq = fp_run.freq[1:]\n",
    "fp_qual = fp_run.qtag[1:]"
   ]
  },
  {
   "cell_type": "code",
   "execution_count": null,
   "metadata": {
    "scrolled": false
   },
   "outputs": [],
   "source": [
    "%%time\n",
    "\n",
    "fig, axs = plt.subplots(6,3)\n",
    "\n",
    "for st in range(20,26):\n",
    "    print 'st'+str(st)+'\\r',\n",
    "    test = fp_freq[:,st]\n",
    "\n",
    "    dropped_1, _ = drop_diff_single(test, threshold=200)\n",
    "    # dropped_1, _ = drop_diff_single(dropped_1, threshold=1000)\n",
    "    dropped_2, _ = drop_freq_bin(dropped_1, bin_len=1000, std=3)\n",
    "    # dropped_2, _ = drop_freq_bin(test, bin_len=1000, std=5)\n",
    "\n",
    "    axs[st-20, 0].plot(test,'.')\n",
    "    axs[st-20, 0].set_title('st'+str(st))\n",
    "    axs[st-20, 1].plot(dropped_1, '.')\n",
    "    axs[st-20, 2].plot(dropped_2, '.')\n",
    "\n",
    "fig.set_size_inches(12,18)\n",
    "fig.tight_layout()"
   ]
  },
  {
   "cell_type": "code",
   "execution_count": null,
   "metadata": {},
   "outputs": [],
   "source": [
    "plt.plot(np.diff(dropped_1), '.')"
   ]
  },
  {
   "cell_type": "code",
   "execution_count": null,
   "metadata": {},
   "outputs": [],
   "source": []
  },
  {
   "cell_type": "code",
   "execution_count": null,
   "metadata": {},
   "outputs": [],
   "source": []
  },
  {
   "cell_type": "code",
   "execution_count": null,
   "metadata": {
    "scrolled": true
   },
   "outputs": [],
   "source": [
    "st = 22\n",
    "# new, drops = drop_diff_double(fp_freq[:,st])\n",
    "new, drops = drop_diff_single(fp_freq[:,st])\n",
    "\n",
    "print 'st' + str(st) + ': ' + str(drops)\n",
    "\n",
    "plt.plot(new,'.')"
   ]
  },
  {
   "cell_type": "code",
   "execution_count": null,
   "metadata": {
    "scrolled": true
   },
   "outputs": [],
   "source": [
    "test = fp_freq[:,22]\n",
    "\n",
    "dropped_1, _ = drop_diff_double(test, threshold=1000)\n",
    "dropped_2, _ = drop_diff_single(test, threshold=1000)\n",
    "\n",
    "fig, axs = plt.subplots(3,1)\n",
    "axs[0].plot(test,'.')\n",
    "axs[1].plot(dropped_1, '.')\n",
    "axs[2].plot(dropped_2, '.')\n",
    "\n",
    "fig.set_size_inches(8,9)\n",
    "fig.tight_layout()"
   ]
  },
  {
   "cell_type": "code",
   "execution_count": null,
   "metadata": {},
   "outputs": [],
   "source": [
    "filled_2 = dropped_2.copy()\n",
    "filled_2[np.isnan(filled_2)] = np.nanmedian(filled_2)\n",
    "\n",
    "dropped_2b, _ = drop_diff_single(filled_2)\n",
    "\n",
    "fig, axs = plt.subplots(3,1)\n",
    "axs[0].plot(dropped_2, '.')\n",
    "axs[1].plot(filled_2, '.')\n",
    "axs[2].plot(dropped_2b, '.')\n",
    "\n",
    "fig.set_size_inches(8,9)\n",
    "fig.tight_layout()"
   ]
  },
  {
   "cell_type": "code",
   "execution_count": null,
   "metadata": {},
   "outputs": [],
   "source": []
  },
  {
   "cell_type": "code",
   "execution_count": null,
   "metadata": {},
   "outputs": [],
   "source": []
  },
  {
   "cell_type": "code",
   "execution_count": null,
   "metadata": {},
   "outputs": [],
   "source": [
    "%%time\n",
    "\n",
    "test = fp_freq[:,22]\n",
    "diff = np.diff(test)\n",
    "\n",
    "drop_list = []\n",
    "\n",
    "for i in range(len(diff)-1):\n",
    "    if diff[i] < 2000:\n",
    "        if diff[i+1] > 2000:\n",
    "            drop_list.append(i+1)\n",
    "    elif np.abs(diff[i]) > 2000:\n",
    "        if diff[i+1] < 2000:\n",
    "            drop_list.append(i+1)\n",
    "            \n",
    "test_dropped = test.copy()\n",
    "\n",
    "test_dropped[drop_list] = np.nan\n",
    "\n",
    "test_filled = test_dropped.copy()\n",
    "test_filled[np.isnan(test_filled)] = np.nanmedian(test_filled)\n",
    "\n",
    "\n",
    "diff_2 = np.diff(test_filled)\n",
    "drop_list_2 = []\n",
    "\n",
    "for i in range(len(diff_2)-1):\n",
    "    if diff_2[i] < 2000:\n",
    "        if diff_2[i+1] > 2000:\n",
    "            drop_list_2.append(i+1)\n",
    "    elif np.abs(diff_2[i]) > 2000:\n",
    "        if diff_2[i+1] < 2000:\n",
    "            drop_list_2.append(i+1)\n",
    "            \n",
    "test_dropped_2 = test_dropped.copy()\n",
    "test_dropped_2[drop_list_2] = np.nan\n",
    "\n",
    "test_filled_2 = test_dropped_2.copy()\n",
    "test_filled_2[np.isnan(test_filled_2)] = np.nanmedian(test_filled_2)\n",
    "\n",
    "diff_3 = np.diff(test_filled_2)\n",
    "drop_list_3 = []\n",
    "\n",
    "threshold = 5*np.std(diff_3)\n",
    "\n",
    "for i in range(len(diff_3)-1):\n",
    "    if np.abs(diff_3[i]) > threshold:\n",
    "        drop_list_3.append(i+1)\n",
    "        \n",
    "test_dropped_3 = test_dropped_2.copy()\n",
    "test_dropped_3[drop_list_3] = np.nan"
   ]
  },
  {
   "cell_type": "code",
   "execution_count": null,
   "metadata": {},
   "outputs": [],
   "source": [
    "fig, axs = plt.subplots(4,1)\n",
    "axs[0].plot(test,'.')\n",
    "axs[1].plot(test_dropped, '.')\n",
    "axs[2].plot(test_dropped_2, '.')\n",
    "axs[3].plot(test_dropped_3, '.')\n",
    "fig.set_size_inches(8,12)\n",
    "fig.tight_layout()"
   ]
  },
  {
   "cell_type": "code",
   "execution_count": null,
   "metadata": {},
   "outputs": [],
   "source": [
    "fig, axs = plt.subplots(3,1)\n",
    "axs[0].plot(diff,'.')\n",
    "axs[1].plot(diff_2, '.')\n",
    "axs[2].plot(diff_3, '.')\n",
    "fig.set_size_inches(8,9)\n",
    "fig.tight_layout()"
   ]
  },
  {
   "cell_type": "code",
   "execution_count": null,
   "metadata": {},
   "outputs": [],
   "source": [
    "plt.plot(test_dropped_2, '.')"
   ]
  },
  {
   "cell_type": "code",
   "execution_count": null,
   "metadata": {},
   "outputs": [],
   "source": [
    "diff_2 = np.diff(test_dropped)\n",
    "\n",
    "drop_list_2 = []\n",
    "\n",
    "for i in range(len(diff_2)-1):\n",
    "    if np.abs(diff_2[i]) > 2000:\n",
    "#         drop_list_2.append(i)\n",
    "        drop_list_2.append(i+1)\n",
    "            \n",
    "test_dropped_2 = test_dropped.copy()\n",
    "\n",
    "# test_dropped_2[drop_list_2] = np.nan\n"
   ]
  },
  {
   "cell_type": "code",
   "execution_count": null,
   "metadata": {},
   "outputs": [],
   "source": [
    "# plt.plot(test_dropped, '.')\n",
    "plt.plot(test_dropped_2,'.')"
   ]
  },
  {
   "cell_type": "code",
   "execution_count": null,
   "metadata": {},
   "outputs": [],
   "source": []
  },
  {
   "cell_type": "code",
   "execution_count": null,
   "metadata": {},
   "outputs": [],
   "source": []
  },
  {
   "cell_type": "code",
   "execution_count": null,
   "metadata": {},
   "outputs": [],
   "source": [
    "plt.plot(diff,'.')"
   ]
  },
  {
   "cell_type": "code",
   "execution_count": null,
   "metadata": {},
   "outputs": [],
   "source": []
  },
  {
   "cell_type": "code",
   "execution_count": null,
   "metadata": {},
   "outputs": [],
   "source": [
    "plt.plot(test_dropped, '.')"
   ]
  },
  {
   "cell_type": "code",
   "execution_count": null,
   "metadata": {},
   "outputs": [],
   "source": [
    "\n",
    "\n"
   ]
  },
  {
   "cell_type": "code",
   "execution_count": null,
   "metadata": {},
   "outputs": [],
   "source": []
  },
  {
   "cell_type": "code",
   "execution_count": null,
   "metadata": {},
   "outputs": [],
   "source": []
  },
  {
   "cell_type": "code",
   "execution_count": null,
   "metadata": {},
   "outputs": [],
   "source": [
    "np.abs(test_dropped_2 - center) > 2000"
   ]
  },
  {
   "cell_type": "code",
   "execution_count": null,
   "metadata": {},
   "outputs": [],
   "source": [
    "plt.plot(test_dropped_2)"
   ]
  },
  {
   "cell_type": "code",
   "execution_count": null,
   "metadata": {},
   "outputs": [],
   "source": [
    "print np.sum(np.isnan(test))\n",
    "print np.sum(np.isnan(test_dropped))\n",
    "print np.sum(np.isnan(test_dropped_2))"
   ]
  },
  {
   "cell_type": "code",
   "execution_count": null,
   "metadata": {},
   "outputs": [],
   "source": []
  }
 ],
 "metadata": {
  "kernelspec": {
   "display_name": "Python 2",
   "language": "python",
   "name": "python2"
  },
  "language_info": {
   "codemirror_mode": {
    "name": "ipython",
    "version": 2
   },
   "file_extension": ".py",
   "mimetype": "text/x-python",
   "name": "python",
   "nbconvert_exporter": "python",
   "pygments_lexer": "ipython2",
   "version": "2.7.5"
  }
 },
 "nbformat": 4,
 "nbformat_minor": 2
}
