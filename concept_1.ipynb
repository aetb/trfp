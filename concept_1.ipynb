{
 "cells": [
  {
   "cell_type": "code",
   "execution_count": null,
   "metadata": {},
   "outputs": [],
   "source": [
    "%matplotlib inline\n",
    "import matplotlib.pyplot as plt\n",
    "import seaborn as sns\n",
    "\n",
    "import numpy as np\n",
    "import pandas as pd\n",
    "import allantools\n",
    "\n",
    "import gm2\n",
    "import trfp\n",
    "import analysis_helper as helper\n",
    "\n",
    "import plotting_functions as plt2\n",
    "\n",
    "from IPython.display import clear_output"
   ]
  },
  {
   "cell_type": "code",
   "execution_count": null,
   "metadata": {},
   "outputs": [],
   "source": [
    "interp_df = pd.read_hdf('hdf5/super-long_stationary_run.h5', 'interp_df')\n",
    "moment_df = helper.calc_moment_df(interp_df)\n"
   ]
  },
  {
   "cell_type": "code",
   "execution_count": null,
   "metadata": {},
   "outputs": [],
   "source": [
    "Ns = [0,1,1,2,2,3,3,4,4,5,5,6,6,7,7,8,8];\n",
    "ss = [0,0,1,1,0,0,1,0,1,0,1,0,1,0,1,0,1];\n",
    "\n",
    "def multipole(N,s,A,x,y):\n",
    "    r = np.sqrt(x**2+y**2)\n",
    "    theta = np.arctan2(y,x)\n",
    "    if(s==0):\n",
    "        By = 61.79e6 + A * (r/4.5)**N * np.cos(N*theta)\n",
    "        Bx = A * (r/4.5)**N * np.sin(N*theta)\n",
    "    if(s==1):\n",
    "        By = 61.79e6 + A * (r/4.5)**N * np.sin(N*theta)\n",
    "        Bx = -A * (r/4.5)**N * np.cos(N*theta)\n",
    "    B = np.sqrt(Bx**2 + By**2) - 61.79e6\n",
    "    return B"
   ]
  },
  {
   "cell_type": "code",
   "execution_count": null,
   "metadata": {},
   "outputs": [],
   "source": [
    "ms = np.empty((6, 17))\n",
    "for i in range(17):\n",
    "    Bs = multipole(Ns[i], ss[i], 1, trfp.FP6_X, trfp.FP6_Y)\n",
    "    ms[:,i] = np.matmul(trfp.THETA_FP_6, Bs)\n",
    "    "
   ]
  },
  {
   "cell_type": "code",
   "execution_count": null,
   "metadata": {},
   "outputs": [],
   "source": [
    "print np.round(ms[4,:], 3)"
   ]
  },
  {
   "cell_type": "code",
   "execution_count": null,
   "metadata": {},
   "outputs": [],
   "source": [
    "taus_in = np.round(np.power(10, np.arange(0,5,0.05)))\n",
    "\n",
    "diff = moment_df['st22,m1'].values - moment_df['tr,m1'].values\n",
    "taus, adev, _, _ = allantools.oadev(diff, data_type='freq', rate=1, taus=taus_in)\n",
    "plt.loglog(taus, adev, '.')\n",
    "\n",
    "diff = diff - -2.632*moment_df['tr,m5'].values\n",
    "taus, adev, _, _ = allantools.oadev(diff, data_type='freq', rate=1, taus=taus_in)\n",
    "plt.loglog(taus, adev, '.')\n",
    "\n",
    "diff = diff - 3.499*moment_df['tr,m8'].values\n",
    "taus, adev, _, _ = allantools.oadev(diff, data_type='freq', rate=1, taus=taus_in)\n",
    "plt.loglog(taus, adev, '.')\n",
    "\n",
    "diff = diff - 7.276*moment_df['tr,m12'].values\n",
    "taus, adev, _, _ = allantools.oadev(diff, data_type='freq', rate=1, taus=taus_in)\n",
    "plt.loglog(taus, adev, '.')\n"
   ]
  },
  {
   "cell_type": "code",
   "execution_count": null,
   "metadata": {},
   "outputs": [],
   "source": [
    "taus_in = np.round(np.power(10, np.arange(0,5,0.05)))\n",
    "\n",
    "diff = moment_df['st22,m2'].values - moment_df['tr,m2'].values\n",
    "taus, adev, _, _ = allantools.oadev(diff, data_type='freq', rate=1, taus=taus_in)\n",
    "plt.loglog(taus, adev, '.')\n",
    "\n",
    "diff = diff - -8.339*moment_df['tr,m6'].values\n",
    "taus, adev, _, _ = allantools.oadev(diff, data_type='freq', rate=1, taus=taus_in)\n",
    "plt.loglog(taus, adev, '.')\n",
    "\n",
    "diff = diff - 30.048*moment_df['tr,m10'].values\n",
    "taus, adev, _, _ = allantools.oadev(diff, data_type='freq', rate=1, taus=taus_in)\n",
    "plt.loglog(taus, adev, '.')\n",
    "\n",
    "# diff = diff - 7.276*moment_df['tr,m12'].values\n",
    "# taus, adev, _, _ = allantools.oadev(diff, data_type='freq', rate=1, taus=taus_in)\n",
    "# plt.loglog(taus, adev, '.')\n"
   ]
  },
  {
   "cell_type": "code",
   "execution_count": null,
   "metadata": {},
   "outputs": [],
   "source": []
  }
 ],
 "metadata": {
  "kernelspec": {
   "display_name": "Python 2",
   "language": "python",
   "name": "python2"
  },
  "language_info": {
   "codemirror_mode": {
    "name": "ipython",
    "version": 2
   },
   "file_extension": ".py",
   "mimetype": "text/x-python",
   "name": "python",
   "nbconvert_exporter": "python",
   "pygments_lexer": "ipython2",
   "version": "2.7.5"
  }
 },
 "nbformat": 4,
 "nbformat_minor": 2
}
