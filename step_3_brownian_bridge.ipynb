{
 "cells": [
  {
   "cell_type": "code",
   "execution_count": 1,
   "metadata": {},
   "outputs": [
    {
     "name": "stdout",
     "output_type": "stream",
     "text": [
      "Welcome to JupyROOT 6.22/02\n"
     ]
    }
   ],
   "source": [
    "%load_ext autoreload\n",
    "%autoreload 2\n",
    "\n",
    "%matplotlib inline\n",
    "import matplotlib\n",
    "import matplotlib.pyplot as plt\n",
    "import seaborn as sns\n",
    "\n",
    "import numpy as np\n",
    "import pandas as pd\n",
    "import pytz\n",
    "\n",
    "from scipy.optimize import curve_fit\n",
    "from scipy.interpolate import interp1d\n",
    "\n",
    "import gm2\n",
    "import trfp\n",
    "import plotting_functions as plt2\n",
    "import analysis_helper as helper\n",
    "import helper_function_candidates as helper_old\n",
    "\n",
    "file_dict = {'1a':['gold_subruns/gold_subruns_60Hr.txt', 'hdf5/2020-09-30_run_1a.h5', '/data2/aetb/2020-09-30_hybrid_maps.h5'],\n",
    "             '1b':['gold_subruns/gold_subruns_HighKick.txt', 'hdf5/2020-09-30_run_1b.h5', '/data2/aetb/2020-09-30_hybrid_maps.h5'],\n",
    "             '1c':['gold_subruns/gold_subruns_9day.txt', 'hdf5/2020-09-30_run_1c.h5', '/data2/aetb/2020-09-30_hybrid_maps.h5'],\n",
    "             '1d':['gold_subruns/gold_subruns_endgame.txt', 'hdf5/2020-09-30_run_1d.h5', '/data2/aetb/2020-09-30_hybrid_maps.h5']}\n",
    "\n",
    "key_dict = {'1a':{'1':['tr_df_1', 'tr_df_2', 'vtm_1']},\n",
    "            '1b':{'1':['tr_df_1', 'tr_df_2', 'vtm_1'],\n",
    "                  '2':['tr_df_2', 'tr_df_3', 'vtm_2']},\n",
    "            '1c':{'1':['tr_df_1', 'tr_df_2', 'vtm_1'],\n",
    "                  '2':['tr_df_3', 'tr_df_4', 'vtm_2'],\n",
    "                  '3':['tr_df_4', 'tr_df_5', 'vtm_3'],\n",
    "                  '4':['tr_df_5', 'tr_df_6', 'vtm_4']},\n",
    "            '1d':{'2':['tr_df_2', 'tr_df_3', 'vtm_2'],\n",
    "                  '3':['tr_df_4', 'tr_df_5', 'vtm_3'],\n",
    "                  '4':['tr_df_6', 'tr_df_7', 'vtm_4'],\n",
    "                  '5':['tr_df_7', 'tr_df_8', 'vtm_5'],\n",
    "                  '6':['tr_df_8', 'tr_df_9', 'vtm_6']}}\n",
    "\n",
    "rates = np.array([4.56668293e-03, 2.39702431e-04, 2.23624253e-04,\n",
    "         1.06138686e-04, 3.40662192e-04, 3.02648014e-05,\n",
    "         7.69850642e-05, 4.63122653e-05, 9.34178986e-05])/np.sqrt(72)  # 12 Oct 2020, `step_2_sync_offsets.ipynb`"
   ]
  },
  {
   "cell_type": "code",
   "execution_count": 20,
   "metadata": {},
   "outputs": [],
   "source": [
    "run = '1d'\n",
    "pair = '5'\n",
    "\n",
    "filename = file_dict[run]\n",
    "key = key_dict[run][pair]\n",
    "\n",
    "gold_subruns = np.loadtxt(filename[0])\n",
    "\n",
    "subrun_df = pd.read_hdf(filename[1], key='subrun_df')\n",
    "\n",
    "# vtm_df = pd.read_hdf(filename[2], key='run_'+run+pair)\n",
    "\n",
    "## calculate the (rough) times of trolley runs from interp dataframes\n",
    "tr_interp_df_1 = pd.read_hdf(filename[1], key=key[0])\n",
    "t_start = np.mean(tr_interp_df_1.index.values)\n",
    "\n",
    "if (run == '1d') & (pair == '6'):\n",
    "    t_end = 1530261096.0\n",
    "else:\n",
    "    tr_interp_df_2 = pd.read_hdf(filename[1], key=key[1])\n",
    "    t_end = np.mean(tr_interp_df_2.index.values)\n",
    "\n",
    "gold_subruns_df = pd.DataFrame(gold_subruns.astype(int), columns=['run', 'subrun']).merge(subrun_df, on=['run', 'subrun'])\n",
    "\n",
    "gold_subruns_df = gold_subruns_df[(gold_subruns_df['start_gps']>=t_start) & (gold_subruns_df['end_gps']<=t_end)]"
   ]
  },
  {
   "cell_type": "code",
   "execution_count": 21,
   "metadata": {},
   "outputs": [
    {
     "name": "stdout",
     "output_type": "stream",
     "text": [
      "Uncertainty (Hz)\n",
      "\n",
      "4.078179614275363\t0.9343339703187119\t0.9024546172424339\t0.6217313593900677\t1.1138530236757562\t0.3319975157730743\t0.5295038936383123\t0.4106898144870134\t0.5832852130824\t\n",
      "\n",
      "CPU times: user 3.68 s, sys: 3.99 s, total: 7.66 s\n",
      "Wall time: 6.88 s\n"
     ]
    },
    {
     "data": {
      "image/png": "[encoded data removed]",
      "text/plain": [
       "<Figure size 576x432 with 1 Axes>"
      ]
     },
     "metadata": {
      "needs_background": "light"
     },
     "output_type": "display_data"
    }
   ],
   "source": [
    "%%time\n",
    "\n",
    "fig, ax = plt.subplots(1,1)\n",
    "\n",
    "ax.plot(gold_subruns_df['start_gps'].values[0], [1], '.', color='C2', label=r'$\\omega_a$ gold runs')\n",
    "ax.plot(gold_subruns_df['start_gps'], np.ones(gold_subruns_df.shape), '.', color='C2')\n",
    "\n",
    "# ax.plot(vtm_df.index.values, np.ones(vtm_df.shape[0]), color='C0', label='fixed probe data')\n",
    "ax.plot([t_start, t_end], [1,1], '.', color='C1', label='trolley run')\n",
    "\n",
    "ax.legend()\n",
    "plt2.plt_unix_time_to_CST(ax)\n",
    "ax.get_yaxis().set_visible(False)\n",
    "\n",
    "fig.set_size_inches(8,6)\n",
    "fig.tight_layout()\n",
    "\n",
    "## a vector is number of ctags in each subrun divided by the number of ctags in all used subruns\n",
    "a = gold_subruns_df['ctags'].values/float(gold_subruns_df['ctags'].sum())\n",
    "\n",
    "## make vector of subrun times after trolley run (use avg)\n",
    "t_subrun = ((gold_subruns_df['start_gps']+gold_subruns_df['end_gps'])/2).values - t_start\n",
    "t_period = t_end - t_start\n",
    "\n",
    "\n",
    "## build the covariance matrix sigma\n",
    "## t1, t2 are the two times under consideration, can be matrices\n",
    "def cov(t1, t2, T, M=0.01810259**2):  # units for M are Hz^2/sec\n",
    "    u = np.minimum(t1, t2)\n",
    "    v = np.maximum(t1, t2)\n",
    "    return M * (T - v) * u / T\n",
    "\n",
    "def cov2(t1, t2, T, M=0.01810259**2):  # units for M are Hz^2/sec\n",
    "    u = np.minimum(t1, t2)\n",
    "    v = np.maximum(t1, t2)\n",
    "    return M * u\n",
    "\n",
    "## make t1 a matrix of proper size with time by row; t2 is by column; ~10 sec\n",
    "t1 = np.outer(t_subrun, np.ones(t_subrun.size))\n",
    "t2 = np.outer(np.ones(t_subrun.size), t_subrun)\n",
    "\n",
    "## run the cov function (note, this takes ~1 min)\n",
    "# sigma = cov(t1, t2, t_period)\n",
    "\n",
    "sigma = cov(t1, t2, t_period, M=1)  # use M=1, scale with rates later to save time\n",
    "sigma_avg = np.dot(a, np.dot(sigma, a))\n",
    "print 'Uncertainty (Hz)\\n'\n",
    "for m in range(9):\n",
    "    ## this is the uncertainty of the average (variance) in Hz^2\n",
    "    \n",
    "    print str((sigma_avg*rates[m])**0.5)+'\\t',\n",
    "    \n",
    "print '\\n'\n",
    "\n",
    "\n",
    "####\n",
    "\n",
    "\n",
    "# print 'Period (hr)'\n",
    "# print t_period/3600\n",
    "\n",
    "# print 'RW uncertainty (ppb)'\n",
    "# print 0.01810259*np.sqrt(t_period)*16/np.sqrt(3)\n",
    "# print ''\n",
    "\n",
    "# print 'BB uncertainty (ppb)'\n",
    "# print 0.01810259*np.sqrt(t_period)*16/np.sqrt(12)\n",
    "# print ''\n",
    "\n",
    "# print 'Uncertainty (Hz)'\n",
    "# print sigma_avg**0.5\n",
    "# print '(ppb)'\n",
    "# print sigma_avg**0.5*16"
   ]
  },
  {
   "cell_type": "code",
   "execution_count": null,
   "metadata": {},
   "outputs": [],
   "source": []
  }
 ],
 "metadata": {
  "kernelspec": {
   "display_name": "Python 2",
   "language": "python",
   "name": "python2"
  },
  "language_info": {
   "codemirror_mode": {
    "name": "ipython",
    "version": 2
   },
   "file_extension": ".py",
   "mimetype": "text/x-python",
   "name": "python",
   "nbconvert_exporter": "python",
   "pygments_lexer": "ipython2",
   "version": "2.7.5"
  }
 },
 "nbformat": 4,
 "nbformat_minor": 2
}
