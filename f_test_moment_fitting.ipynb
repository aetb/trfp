{
 "cells": [
  {
   "cell_type": "code",
   "execution_count": 1,
   "metadata": {},
   "outputs": [
    {
     "name": "stdout",
     "output_type": "stream",
     "text": [
      "Welcome to JupyROOT 6.12/04\n"
     ]
    }
   ],
   "source": [
    "%load_ext autoreload\n",
    "%autoreload 2\n",
    "\n",
    "%matplotlib inline\n",
    "import matplotlib\n",
    "import matplotlib.pyplot as plt\n",
    "import seaborn as sns\n",
    "\n",
    "import numpy as np\n",
    "import pandas as pd\n",
    "from scipy.optimize import curve_fit\n",
    "import scipy\n",
    "\n",
    "import gm2\n",
    "import trfp\n",
    "import plotting_functions as plt2\n",
    "import analysis_helper as helper\n",
    "import helper_function_candidates as helper_old\n",
    "\n",
    "import mu_avg.mu_avg as mu_avg"
   ]
  },
  {
   "cell_type": "code",
   "execution_count": 2,
   "metadata": {},
   "outputs": [],
   "source": [
    "interp_df = pd.read_hdf('hdf5/super-long_stationary_run.h5', 'interp_df')\n",
    "\n",
    "interp_df = interp_df[['tr'+str(i) for i in range(17)]]\n",
    "\n",
    "probe_uncs = []\n",
    "\n",
    "for probe in range(17):\n",
    "    diffs = np.diff(interp_df['tr'+str(probe)])\n",
    "    diffs = diffs - np.polyval(np.polyfit(range(len(diffs)), diffs, 2), range(len(diffs)))\n",
    "    probe_uncs.append(np.std(diffs))\n",
    "\n",
    "probe_uncs = np.array(probe_uncs)"
   ]
  },
  {
   "cell_type": "code",
   "execution_count": 3,
   "metadata": {},
   "outputs": [
    {
     "name": "stdout",
     "output_type": "stream",
     "text": [
      "[0.3860835  0.49323439 0.30195771 0.43885238 0.32305238 0.65923526\n",
      " 0.33355068 0.34612728 0.37816046 0.41809956 1.36347138 0.55391086\n",
      " 0.29641496 0.35260223 0.34906363 0.54585391 1.41715753]\n"
     ]
    }
   ],
   "source": [
    "print probe_uncs"
   ]
  },
  {
   "cell_type": "code",
   "execution_count": null,
   "metadata": {},
   "outputs": [],
   "source": []
  },
  {
   "cell_type": "code",
   "execution_count": 4,
   "metadata": {},
   "outputs": [],
   "source": [
    "def multipole(order, skew, strength, x_pos, y_pos):\n",
    "    \"\"\"Returns the magnitude of a B-field given multipole parameters\n",
    "    and position.\n",
    "    \"\"\"\n",
    "    # Takes a multipole strength A normalized to 4.5 cm\n",
    "    r_pos = np.sqrt(x_pos**2 + y_pos**2)\n",
    "    theta = np.arctan2(y_pos, x_pos)\n",
    "    if skew == 0:\n",
    "        b_magnitude = strength * (r_pos/4.5)**order * np.cos(order*theta)\n",
    "    if skew == 1:\n",
    "        b_magnitude = strength * (r_pos/4.5)**order * np.sin(order*theta)\n",
    "    return b_magnitude\n",
    "\n",
    "all_ns =    [0, 1, 1, 2, 2, 3, 3, 4, 4, 5, 5, 6, 7, 7, 8, 10, 12]\n",
    "all_skews = [0, 0, 1, 1, 0, 0, 1, 0, 1, 0, 1, 0, 0, 1, 0, 0, 0]\n"
   ]
  },
  {
   "cell_type": "code",
   "execution_count": 5,
   "metadata": {},
   "outputs": [
    {
     "name": "stdout",
     "output_type": "stream",
     "text": [
      "[[1. 0. 0. 0. 0. 0. 0. 0. 0. 0. 0. 0. 0. 0. 0. 0. 0.]\n",
      " [0. 1. 0. 0. 0. 0. 0. 0. 0. 0. 0. 0. 0. 0. 0. 0. 0.]\n",
      " [0. 0. 1. 0. 0. 0. 0. 0. 0. 0. 0. 0. 0. 0. 0. 0. 0.]\n",
      " [0. 0. 0. 1. 0. 0. 0. 0. 0. 0. 0. 0. 0. 0. 0. 0. 0.]\n",
      " [0. 0. 0. 0. 1. 0. 0. 0. 0. 0. 0. 0. 0. 0. 0. 0. 0.]\n",
      " [0. 0. 0. 0. 0. 1. 0. 0. 0. 0. 0. 0. 0. 0. 0. 0. 0.]\n",
      " [0. 0. 0. 0. 0. 0. 1. 0. 0. 0. 0. 0. 0. 0. 0. 0. 0.]\n",
      " [0. 0. 0. 0. 0. 0. 0. 1. 0. 0. 0. 0. 0. 0. 0. 0. 0.]\n",
      " [0. 0. 0. 0. 0. 0. 0. 0. 1. 0. 0. 0. 0. 0. 0. 0. 0.]\n",
      " [0. 0. 0. 0. 0. 0. 0. 0. 0. 1. 0. 0. 0. 0. 0. 0. 0.]\n",
      " [0. 0. 0. 0. 0. 0. 0. 0. 0. 0. 1. 0. 0. 0. 0. 0. 0.]\n",
      " [0. 0. 0. 0. 0. 0. 0. 0. 0. 0. 0. 1. 0. 0. 0. 0. 0.]\n",
      " [0. 0. 0. 0. 0. 0. 0. 0. 0. 0. 0. 0. 1. 0. 0. 0. 0.]\n",
      " [0. 0. 0. 0. 0. 0. 0. 0. 0. 0. 0. 0. 0. 1. 0. 0. 0.]\n",
      " [0. 0. 0. 0. 0. 0. 0. 0. 0. 0. 0. 0. 0. 0. 1. 0. 0.]\n",
      " [0. 0. 0. 0. 0. 0. 0. 0. 0. 0. 0. 0. 0. 0. 0. 1. 0.]\n",
      " [0. 0. 0. 0. 0. 0. 0. 0. 0. 0. 0. 0. 0. 0. 0. 0. 1.]]\n"
     ]
    }
   ],
   "source": [
    "mults = np.array([multipole(all_ns[i], all_skews[i], 1, trfp.TR_X, trfp.TR_Y) for i in range(len(all_ns))])\n",
    "mults[np.abs(mults) < 1.0e-9] = 0\n",
    "\n",
    "theta_tr_all = np.linalg.pinv(np.transpose(mults))\n",
    "theta_tr_all[np.abs(theta_tr_all) < 1.0e-9] = 0\n",
    "\n",
    "test_m = np.matmul(theta_tr_all, np.transpose(mults))\n",
    "test_m[np.abs(test_m) < 1.0e-4] = 0\n",
    "print np.round(test_m,2)"
   ]
  },
  {
   "cell_type": "code",
   "execution_count": null,
   "metadata": {},
   "outputs": [],
   "source": []
  },
  {
   "cell_type": "code",
   "execution_count": 10,
   "metadata": {},
   "outputs": [
    {
     "name": "stdout",
     "output_type": "stream",
     "text": [
      "[33028.12766088 32849.70868391 23187.38636979  9616.96099266\n",
      "  9550.5249507   7346.00072514  7166.78736439  7024.53602157\n",
      "  2226.54122597  2101.45825064  2092.54638724   221.61283936\n",
      "   221.15335875   215.03735752   154.92289842    64.10356816]\n",
      "[2064.25797881 2189.98057893 1656.24188356  739.7662302   795.87707923\n",
      "  667.81824774  716.67873644  780.5040024   278.31765325  300.20832152\n",
      "  348.75773121   44.32256787   55.28833969   71.67911917   77.46144921\n",
      "   64.10356816]\n"
     ]
    }
   ],
   "source": [
    "chi2s = []\n",
    "\n",
    "through = 16\n",
    "\n",
    "for fit_order in range(1,through+1):\n",
    "\n",
    "    # make a theta_tr matrix using only a set number of multipoles\n",
    "\n",
    "    ns = all_ns[0:fit_order]\n",
    "    skews = all_skews[0:fit_order]\n",
    "\n",
    "    mults = np.array([multipole(ns[i], skews[i], 1, trfp.TR_X, trfp.TR_Y) for i in range(fit_order)])\n",
    "    mults[np.abs(mults) < 1.0e-9] = 0\n",
    "\n",
    "    theta_tr = np.linalg.pinv(np.transpose(mults))\n",
    "    theta_tr[np.abs(theta_tr) < 1.0e-9] = 0\n",
    "\n",
    "    # run a set of trolley probe measurements through the matrix\n",
    "\n",
    "    meas = interp_df.iloc[20000].values\n",
    "\n",
    "    fit_coeffs = np.matmul(theta_tr, meas)\n",
    "\n",
    "    fit_values = np.zeros(17)\n",
    "    for i in range(fit_order):\n",
    "        fit_values += multipole(ns[i], skews[i], fit_coeffs[i], trfp.TR_X, trfp.TR_Y)\n",
    "\n",
    "    resids = meas - fit_values\n",
    "    \n",
    "    probe_uncs = np.full(17, 3)\n",
    "\n",
    "    chi2 = 0\n",
    "    for i in range(17):\n",
    "        chi2 += resids[i]**2/probe_uncs[i]**2\n",
    "\n",
    "    chi2s.append(chi2)\n",
    "    \n",
    "chi2s = np.array(chi2s)\n",
    "dof = np.array([17 - m for m in range(1,through+1)])\n",
    "dof_Nm1 = np.array([17 - m - 1 for m in range(1,through)])\n",
    "print chi2s\n",
    "print chi2s/dof\n",
    "F_chi = (chi2s[:-1] - chi2s[1:])/(chi2s[1:]/dof_Nm1)"
   ]
  },
  {
   "cell_type": "code",
   "execution_count": 7,
   "metadata": {},
   "outputs": [
    {
     "data": {
      "text/plain": [
       "[<matplotlib.lines.Line2D at 0x7fdce0adee90>]"
      ]
     },
     "execution_count": 7,
     "metadata": {},
     "output_type": "execute_result"
    },
    {
     "data": {
      "image/png": "[encoded data removed]",
      "text/plain": [
       "<Figure size 432x288 with 1 Axes>"
      ]
     },
     "metadata": {
      "needs_background": "light"
     },
     "output_type": "display_data"
    }
   ],
   "source": [
    "plt.plot(F_chi, '.')"
   ]
  },
  {
   "cell_type": "code",
   "execution_count": null,
   "metadata": {},
   "outputs": [],
   "source": []
  }
 ],
 "metadata": {
  "kernelspec": {
   "display_name": "Python 2",
   "language": "python",
   "name": "python2"
  },
  "language_info": {
   "codemirror_mode": {
    "name": "ipython",
    "version": 2
   },
   "file_extension": ".py",
   "mimetype": "text/x-python",
   "name": "python",
   "nbconvert_exporter": "python",
   "pygments_lexer": "ipython2",
   "version": "2.7.14"
  }
 },
 "nbformat": 4,
 "nbformat_minor": 2
}
