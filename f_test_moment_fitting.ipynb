{
 "cells": [
  {
   "cell_type": "code",
   "execution_count": 1,
   "metadata": {},
   "outputs": [
    {
     "name": "stdout",
     "output_type": "stream",
     "text": [
      "Welcome to JupyROOT 6.12/04\n"
     ]
    }
   ],
   "source": [
    "%load_ext autoreload\n",
    "%autoreload 2\n",
    "\n",
    "%matplotlib inline\n",
    "import matplotlib\n",
    "import matplotlib.pyplot as plt\n",
    "import seaborn as sns\n",
    "\n",
    "import numpy as np\n",
    "import pandas as pd\n",
    "from scipy.optimize import curve_fit\n",
    "import scipy\n",
    "\n",
    "import gm2\n",
    "import trfp\n",
    "import plotting_functions as plt2\n",
    "import analysis_helper as helper\n",
    "import helper_function_candidates as helper_old\n",
    "\n",
    "import mu_avg.mu_avg as mu_avg"
   ]
  },
  {
   "cell_type": "code",
   "execution_count": 2,
   "metadata": {},
   "outputs": [
    {
     "name": "stdout",
     "output_type": "stream",
     "text": [
      "Functions defined.\n"
     ]
    }
   ],
   "source": [
    "def probe_uncertainties(interp_df):\n",
    "    interp_df = interp_df[['tr'+str(i) for i in range(17)]]\n",
    "    probe_uncs = []\n",
    "    for probe in range(17):\n",
    "        diffs = np.diff(interp_df['tr'+str(probe)])\n",
    "        diffs = diffs - np.polyval(np.polyfit(range(len(diffs)), diffs, 2), range(len(diffs)))\n",
    "        probe_uncs.append(np.std(diffs))\n",
    "    probe_uncs = np.array(probe_uncs)\n",
    "    \n",
    "    return probe_uncs\n",
    "\n",
    "def multipole(order, skew, strength, x_pos, y_pos):\n",
    "    \"\"\"Returns the magnitude of a B-field given multipole parameters\n",
    "    and position.\n",
    "    \"\"\"\n",
    "    # Takes a multipole strength A normalized to 4.5 cm\n",
    "    r_pos = np.sqrt(x_pos**2 + y_pos**2)\n",
    "    theta = np.arctan2(y_pos, x_pos)\n",
    "    if skew == 0:\n",
    "        b_magnitude = strength * (r_pos/4.5)**order * np.cos(order*theta)\n",
    "    if skew == 1:\n",
    "        b_magnitude = strength * (r_pos/4.5)**order * np.sin(order*theta)\n",
    "    return b_magnitude\n",
    "\n",
    "all_ns =    [0, 1, 1, 2, 2, 3, 3, 4, 4, 5, 5, 6, 7, 7, 8, 10, 12]\n",
    "all_skews = [0, 0, 1, 1, 0, 1, 0, 0, 1, 0, 1, 0, 0, 1, 0, 0, 0]\n",
    "\n",
    "def calc_chi2s_single(interp_df, probe_uncs, pos=0, order=1):\n",
    "    \n",
    "    interp_df = interp_df[['tr'+str(tr) for tr in range(17)]]\n",
    "    meas = interp_df.iloc[pos].values\n",
    "    chi2s = []\n",
    "    \n",
    "    instance_ns = [all_ns[0], all_ns[order]]\n",
    "    instance_skews = [all_skews[0], all_skews[order]]\n",
    "    \n",
    "    for fit_order in range(1,3):\n",
    "        ns = instance_ns[0:fit_order]\n",
    "        skews = instance_skews[0:fit_order]\n",
    "\n",
    "        mults = np.array([multipole(ns[i], skews[i], 1, trfp.TR_X, trfp.TR_Y) for i in range(fit_order)])\n",
    "        mults[np.abs(mults) < 1.0e-9] = 0\n",
    "\n",
    "        theta_tr = np.linalg.pinv(np.transpose(mults))\n",
    "        theta_tr[np.abs(theta_tr) < 1.0e-9] = 0\n",
    "\n",
    "        # run a set of trolley probe measurements through the matrix\n",
    "        \n",
    "        fit_coeffs = np.matmul(theta_tr, meas)\n",
    "\n",
    "        fit_values = np.zeros(17)\n",
    "        for i in range(fit_order):\n",
    "            fit_values += multipole(ns[i], skews[i], fit_coeffs[i], trfp.TR_X, trfp.TR_Y)\n",
    "\n",
    "        resids = meas - fit_values\n",
    "\n",
    "        probe_uncs = np.full(17, 3)\n",
    "\n",
    "        chi2 = 0\n",
    "        for i in range(17):\n",
    "            chi2 += resids[i]**2/probe_uncs[i]**2\n",
    "\n",
    "        chi2s.append(chi2)\n",
    "    \n",
    "    chi2s = np.array(chi2s)\n",
    "    dof = np.array([17 - m for m in range(1,3)])\n",
    "    dof_Nm1 = np.array([17 - m - 1 for m in range(1,2)])\n",
    "    F_chi = (chi2s[:-1] - chi2s[1:])/(chi2s[1:]/dof_Nm1)\n",
    "    \n",
    "    return chi2s, dof, F_chi[0]\n",
    "\n",
    "def calc_chi2s_sequential(interp_df, probe_uncs, pos=0, through=16):\n",
    "    \n",
    "    interp_df = interp_df[['tr'+str(tr) for tr in range(17)]]\n",
    "    meas = interp_df.iloc[pos].values\n",
    "    chi2s = []\n",
    "\n",
    "    for fit_order in range(1,through+1):\n",
    "\n",
    "        # make a theta_tr matrix using only a set number of multipoles\n",
    "\n",
    "        ns = all_ns[0:fit_order]\n",
    "        skews = all_skews[0:fit_order]\n",
    "\n",
    "        mults = np.array([multipole(ns[i], skews[i], 1, trfp.TR_X, trfp.TR_Y) for i in range(fit_order)])\n",
    "        mults[np.abs(mults) < 1.0e-9] = 0\n",
    "\n",
    "        theta_tr = np.linalg.pinv(np.transpose(mults))\n",
    "        theta_tr[np.abs(theta_tr) < 1.0e-9] = 0\n",
    "\n",
    "        # run a set of trolley probe measurements through the matrix\n",
    "        \n",
    "        fit_coeffs = np.matmul(theta_tr, meas)\n",
    "\n",
    "        fit_values = np.zeros(17)\n",
    "        for i in range(fit_order):\n",
    "            fit_values += multipole(ns[i], skews[i], fit_coeffs[i], trfp.TR_X, trfp.TR_Y)\n",
    "\n",
    "        resids = meas - fit_values\n",
    "\n",
    "        probe_uncs = np.full(17, 3)\n",
    "\n",
    "        chi2 = 0\n",
    "        for i in range(17):\n",
    "            chi2 += resids[i]**2/probe_uncs[i]**2\n",
    "\n",
    "        chi2s.append(chi2)\n",
    "    \n",
    "    chi2s = np.array(chi2s)\n",
    "    dof = np.array([17 - m for m in range(1,through+1)])\n",
    "    dof_Nm1 = np.array([17 - m - 1 for m in range(1,through)])\n",
    "    F_chi = (chi2s[:-1] - chi2s[1:])/(chi2s[1:]/dof_Nm1)\n",
    "    \n",
    "    return chi2s, dof, F_chi\n",
    "\n",
    "print 'Functions defined.'"
   ]
  },
  {
   "cell_type": "markdown",
   "metadata": {},
   "source": [
    "Read in a stationary trolley run. Use the full run to estimate the uncertainty in the probe measurements by looking at the differences between subsequent measurements."
   ]
  },
  {
   "cell_type": "code",
   "execution_count": 5,
   "metadata": {},
   "outputs": [],
   "source": [
    "mults = np.array([multipole(all_ns[i], all_skews[i], 1, trfp.TR_X, trfp.TR_Y) for i in range(len(all_ns))])\n",
    "mults[np.abs(mults) < 1.0e-9] = 0\n",
    "\n",
    "theta_tr_all = np.linalg.pinv(np.transpose(mults))\n",
    "theta_tr_all[np.abs(theta_tr_all) < 1.0e-9] = 0\n",
    "\n",
    "test_m = np.matmul(theta_tr_all, np.transpose(mults))\n",
    "test_m[np.abs(test_m) < 1.0e-4] = 0\n",
    "\n",
    "# print 'If the multipole functions are properly defined, the following should be the 17x17 identity matrix.\\n'\n",
    "# print np.round(test_m,2)"
   ]
  },
  {
   "cell_type": "code",
   "execution_count": 3,
   "metadata": {},
   "outputs": [],
   "source": [
    "interp_df = pd.read_hdf('hdf5/calibration_region.h5', 'tr_df')\n",
    "probe_uncs = probe_uncertainties(interp_df)"
   ]
  },
  {
   "cell_type": "code",
   "execution_count": 6,
   "metadata": {},
   "outputs": [
    {
     "name": "stdout",
     "output_type": "stream",
     "text": [
      "[14.39917243 18.05522719 13.81186296 14.74386239 12.1434747  24.91718762\n",
      " 21.46406709 16.12787123 12.67501166 12.72551533 26.25674085 18.8731963\n",
      " 15.88041055 13.27510659 10.09888067 13.00527022 30.76568953]\n",
      "\n",
      "\n",
      "[ 5.18142117e+04 -3.83846718e+00 -1.01916600e+02  6.58310718e+00\n",
      "  4.15783291e+01  1.46110599e+02 -2.61578006e+01 -4.12227241e+02\n",
      " -1.35157590e+02  6.59845703e+01 -1.08452953e+03 -7.04402264e+01\n",
      " -1.57159089e+02 -1.73904921e+03  1.05810979e+03  1.26294892e+01\n",
      " -2.80197080e+02]\n"
     ]
    }
   ],
   "source": [
    "print probe_uncs\n",
    "print '\\n'\n",
    "print np.matmul(theta_tr_all, interp_df[['tr'+str(tr) for tr in range(17)]].iloc[500].values)"
   ]
  },
  {
   "cell_type": "code",
   "execution_count": null,
   "metadata": {},
   "outputs": [],
   "source": []
  },
  {
   "cell_type": "code",
   "execution_count": 7,
   "metadata": {},
   "outputs": [
    {
     "name": "stdout",
     "output_type": "stream",
     "text": [
      "After fitting just a dipole, incorporating a single other moment in the fit yields:\n",
      "\n",
      "norm 4-pole: F = 0.010092929657313798\n",
      "skew 4-pole: F = 12.193080271913812\n",
      "skew 6-pole: F = 0.014760296037532403\n",
      "norm 6-pole: F = 0.6898904408342396\n",
      "skew 8-pole: F = 6.78263507833021\n",
      "norm 8-pole: F = 0.1440082667117723\n",
      "norm 10-pole: F = 0.076082920295111\n",
      "skew 10-pole: F = 2.6812024517743716\n",
      "norm 12-pole: F = 0.0644100158329466\n",
      "skew 12-pole: F = 0.09039949014074877\n",
      "norm 14-pole: F = 0.4642682402632269\n",
      "norm 16-pole: F = 0.06410693327695627\n",
      "skew 16-pole: F = 0.08257991796410542\n",
      "norm 18-pole: F = 0.07817150328445291\n",
      "norm 22-pole: F = 0.6655134581272172\n",
      "norm 26-pole: F = 0.024078463819288787\n"
     ]
    }
   ],
   "source": [
    "skew_labels = ['norm', 'skew']\n",
    "\n",
    "print \"After fitting just a dipole, incorporating a single other moment in the fit yields:\\n\"\n",
    "for order in range(1,17):\n",
    "    _, _, F_chi = calc_chi2s_single(interp_df, probe_uncs, pos=500, order=order)\n",
    "    print skew_labels[all_skews[order]] + ' ' + str(2*all_ns[order]+2) + '-pole: F = ' + str(F_chi)"
   ]
  },
  {
   "cell_type": "code",
   "execution_count": 8,
   "metadata": {},
   "outputs": [
    {
     "name": "stdout",
     "output_type": "stream",
     "text": [
      "[10755.1395684  10747.90770996  5925.42056317  5914.84769748\n",
      "  5441.94012645  2250.29143678  2149.06071134  2094.78385237\n",
      "   463.85933473   418.21842409   360.28049654    35.9771207\n",
      "    35.89503045    25.84340451    19.36764523    19.3399492 ]\n",
      "[672.19622302 716.52718066 423.24432594 454.98828442 453.49501054\n",
      " 204.5719488  214.90607113 232.75376137  57.98241684  59.74548916\n",
      "  60.04674942   7.19542414   8.97375761   8.61446817   9.68382261\n",
      "  19.3399492 ]\n",
      "[1.00929297e-02 1.13940976e+01 2.32376658e-02 1.04280656e+00\n",
      " 1.56015950e+01 4.71046373e-01 2.33194337e-01 2.81279154e+01\n",
      " 7.63922286e-01 9.64880333e-01 4.50707796e+01 9.14781227e-03\n",
      " 1.16683070e+00 6.68719321e-01 1.43206287e-03]\n"
     ]
    },
    {
     "data": {
      "text/plain": [
       "[<matplotlib.lines.Line2D at 0x7f9351498a90>]"
      ]
     },
     "execution_count": 8,
     "metadata": {},
     "output_type": "execute_result"
    },
    {
     "data": {
      "image/png": "[encoded data removed]",
      "text/plain": [
       "<Figure size 432x288 with 1 Axes>"
      ]
     },
     "metadata": {
      "needs_background": "light"
     },
     "output_type": "display_data"
    }
   ],
   "source": [
    "chi2s, dof, F_chi = calc_chi2s_sequential(interp_df, probe_uncs, pos=500)\n",
    "\n",
    "print chi2s\n",
    "print chi2s/dof\n",
    "print F_chi\n",
    "\n",
    "plt.plot(F_chi, '.')"
   ]
  },
  {
   "cell_type": "code",
   "execution_count": null,
   "metadata": {},
   "outputs": [],
   "source": [
    "\n",
    "\n"
   ]
  },
  {
   "cell_type": "code",
   "execution_count": null,
   "metadata": {},
   "outputs": [],
   "source": []
  },
  {
   "cell_type": "code",
   "execution_count": null,
   "metadata": {},
   "outputs": [],
   "source": []
  }
 ],
 "metadata": {
  "kernelspec": {
   "display_name": "Python 2",
   "language": "python",
   "name": "python2"
  },
  "language_info": {
   "codemirror_mode": {
    "name": "ipython",
    "version": 2
   },
   "file_extension": ".py",
   "mimetype": "text/x-python",
   "name": "python",
   "nbconvert_exporter": "python",
   "pygments_lexer": "ipython2",
   "version": "2.7.14"
  }
 },
 "nbformat": 4,
 "nbformat_minor": 2
}
