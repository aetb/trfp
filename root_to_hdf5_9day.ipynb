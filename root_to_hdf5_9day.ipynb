{
 "cells": [
  {
   "cell_type": "code",
   "execution_count": 1,
   "metadata": {},
   "outputs": [
    {
     "name": "stdout",
     "output_type": "stream",
     "text": [
      "Welcome to JupyROOT 6.12/04\n"
     ]
    }
   ],
   "source": [
    "import trfp\n",
    "from IPython.display import clear_output"
   ]
  },
  {
   "cell_type": "code",
   "execution_count": 2,
   "metadata": {},
   "outputs": [
    {
     "name": "stdout",
     "output_type": "stream",
     "text": [
      "Saving run 4140.\n",
      "Trolley run.\n",
      "Reading event 1250/1259 99.29%  \n",
      "loop done: 100%                                    \n",
      "Reading event 370/378 97.88% \n",
      "loop done: 100%                                    \n",
      "Interpolating trolley position.\n",
      "Interpolating trolley frequencies.\n",
      "Interpolating fixed probe frequencies.\n",
      "Finished calculating all moments for 621 events.\n",
      "Saving run 4140.\n",
      "CPU times: user 41.2 s, sys: 9.6 s, total: 50.8 s\n",
      "Wall time: 1min 3s\n"
     ]
    }
   ],
   "source": [
    "%%time\n",
    "# First trolley run of 9 day set (First of short part)\n",
    "file_name = \"9day_trolley_runs_1.h5\"\n",
    "for run in range(4136,4141):\n",
    "    \n",
    "    clear_output()\n",
    "    print \"Saving run \" + str(run) + '.'\n",
    "\n",
    "    trolley_run = trfp.Run(run)\n",
    "    trolley_run.save_h5(file_name)"
   ]
  },
  {
   "cell_type": "code",
   "execution_count": 3,
   "metadata": {},
   "outputs": [
    {
     "name": "stdout",
     "output_type": "stream",
     "text": [
      "Saving run 4181.\n",
      "Trolley run.\n",
      "Reading event 8720/8723 99.97%   \n",
      "loop done: 100%                                    \n",
      "Reading event 2610/2614 99.85%  \n",
      "loop done: 100%                                    \n",
      "Interpolating trolley position.\n",
      "Interpolating trolley frequencies.\n",
      "Interpolating fixed probe frequencies.\n",
      "Finished calculating all moments for 4354 events.\n",
      "Saving run 4181.\n",
      "CPU times: user 27.2 s, sys: 6.58 s, total: 33.8 s\n",
      "Wall time: 53.3 s\n"
     ]
    }
   ],
   "source": [
    "%%time\n",
    "# Second trolley run of 9 day set (Second of short part)\n",
    "file_name = \"9day_trolley_runs_2.h5\"\n",
    "for run in range(4179,4182): # note this cuts out runs 4182, 4183 during slow dump\n",
    "    \n",
    "    clear_output()\n",
    "    print \"Saving run \" + str(run) + '.'\n",
    "\n",
    "    trolley_run = trfp.Run(run)\n",
    "    trolley_run.save_h5(file_name)"
   ]
  },
  {
   "cell_type": "code",
   "execution_count": 4,
   "metadata": {},
   "outputs": [
    {
     "name": "stdout",
     "output_type": "stream",
     "text": [
      "Saving run 4192.\n",
      "Trolley run.\n",
      "Reading event 980/988 99.19% \n",
      "loop done: 100%                                    \n",
      "Reading event 290/297 97.64% \n",
      "loop done: 100%                                    \n",
      "Interpolating trolley position.\n",
      "Interpolating trolley frequencies.\n",
      "Interpolating fixed probe frequencies.\n",
      "Finished calculating all moments for 485 events.\n",
      "Saving run 4192.\n",
      "CPU times: user 40.8 s, sys: 12.5 s, total: 53.3 s\n",
      "Wall time: 43.3 s\n"
     ]
    }
   ],
   "source": [
    "%%time\n",
    "# Third trolley run of 9 day set (First of long part)\n",
    "file_name = \"9day_trolley_runs_3.h5\"\n",
    "for run in range(4188,4193):\n",
    "    \n",
    "    clear_output()\n",
    "    print \"Saving run \" + str(run) + '.'\n",
    "\n",
    "    trolley_run = trfp.Run(run)\n",
    "    trolley_run.save_h5(file_name)"
   ]
  },
  {
   "cell_type": "code",
   "execution_count": 5,
   "metadata": {},
   "outputs": [
    {
     "name": "stdout",
     "output_type": "stream",
     "text": [
      "Saving run 4228.\n",
      "Trolley run.\n",
      "Reading event 890/893 99.66% \n",
      "loop done: 100%                                    \n",
      "Reading event 260/269 96.65% \n",
      "loop done: 100%                                    \n",
      "Interpolating trolley position.\n",
      "Interpolating trolley frequencies.\n",
      "Interpolating fixed probe frequencies.\n",
      "Finished calculating all moments for 438 events.\n",
      "Saving run 4228.\n",
      "CPU times: user 29.1 s, sys: 5.26 s, total: 34.4 s\n",
      "Wall time: 1min 6s\n"
     ]
    }
   ],
   "source": [
    "%%time\n",
    "# Fourth trolley run of 9 day set (Second of long part)\n",
    "file_name = \"9day_trolley_runs_4.h5\"\n",
    "for run in range(4223,4227)+range(4228,4229):  # note there is no 4227 for now, should be soon\n",
    "    \n",
    "    clear_output()\n",
    "    print \"Saving run \" + str(run) + '.'\n",
    "\n",
    "    trolley_run = trfp.Run(run)\n",
    "    trolley_run.save_h5(file_name)"
   ]
  },
  {
   "cell_type": "code",
   "execution_count": 6,
   "metadata": {},
   "outputs": [
    {
     "name": "stdout",
     "output_type": "stream",
     "text": [
      "Saving run 4267.\n",
      "Trolley run.\n",
      "Reading event 3360/3364 99.88% \n",
      "loop done: 100%                                    \n",
      "Reading event 1000/1009 99.11% \n",
      "loop done: 100%                                    \n",
      "Interpolating trolley position.\n",
      "Interpolating trolley frequencies.\n",
      "Interpolating fixed probe frequencies.\n",
      "Finished calculating all moments for 1673 events.\n",
      "Saving run 4267.\n",
      "CPU times: user 47.3 s, sys: 9.8 s, total: 57.1 s\n",
      "Wall time: 1min 42s\n"
     ]
    }
   ],
   "source": [
    "%%time\n",
    "# Fifth trolley run of 9 day set (Third of long part)\n",
    "file_name = \"9day_trolley_runs_5.h5\"\n",
    "for run in range(4263,4268):\n",
    "    \n",
    "    clear_output()\n",
    "    print \"Saving run \" + str(run) + '.'\n",
    "\n",
    "    trolley_run = trfp.Run(run)\n",
    "    trolley_run.save_h5(file_name)"
   ]
  },
  {
   "cell_type": "code",
   "execution_count": 7,
   "metadata": {},
   "outputs": [
    {
     "name": "stdout",
     "output_type": "stream",
     "text": [
      "Saving run 4493.\n",
      "Trolley run.\n",
      "Reading event 8720/8721 99.99%   \n",
      "loop done: 100%                                    \n",
      "Reading event 2610/2617 99.73%     \n",
      "loop done: 100%                                    \n",
      "Interpolating trolley position.\n",
      "Interpolating trolley frequencies.\n",
      "Interpolating fixed probe frequencies.\n",
      "Finished calculating all moments for 4354 events.\n",
      "Saving run 4493.\n",
      "CPU times: user 25.9 s, sys: 4.24 s, total: 30.1 s\n",
      "Wall time: 49 s\n"
     ]
    }
   ],
   "source": [
    "%%time\n",
    "# Sixth trolley run of 9 day set (Fourth of long part)\n",
    "file_name = \"9day_trolley_runs_6.h5\"\n",
    "for run in range(4489,4494):\n",
    "    \n",
    "    clear_output()\n",
    "    print \"Saving run \" + str(run) + '.'\n",
    "\n",
    "    trolley_run = trfp.Run(run)\n",
    "    trolley_run.save_h5(file_name)"
   ]
  },
  {
   "cell_type": "code",
   "execution_count": null,
   "metadata": {},
   "outputs": [],
   "source": [
    "%%time\n",
    "# First fixed probe run of 9 day set (short part)\n",
    "missed_runs = []\n",
    "file_name = \"9day_fixed_probe_runs_1.h5\"\n",
    "for run in range(4164,4178):\n",
    "    \n",
    "#     clear_output()\n",
    "    print \"Saving run \" + str(run) + '.'\n",
    "    try:\n",
    "        fixed_probe_run = trfp.Run(run)\n",
    "#         trolley_run.save_h5(file_name)\n",
    "    except IndexError:\n",
    "        print '##################'\n",
    "        print '##################'\n",
    "        print 'Run ' + str(run) + ' is empty!'\n",
    "        print '##################'\n",
    "        print '##################'\n",
    "        missed_runs = missed_runs + [run]\n",
    "    except:\n",
    "        print '##################'\n",
    "        print '##################'\n",
    "        print 'Something went wrong with run ' + str(run) + '.'\n",
    "        print '##################'\n",
    "        print '##################'\n",
    "        missed_runs = missed_runs + [run]\n",
    "\n",
    "    print '\\n'\n",
    "print 'The following runs were missed:' + str(missed_runs)"
   ]
  },
  {
   "cell_type": "code",
   "execution_count": null,
   "metadata": {},
   "outputs": [],
   "source": [
    "# # look for missing fixed probe runs\n",
    "\n",
    "# # have fixed probe runs [4164--4177]\n",
    "# # have fixed probe runs [4183--4222]\n",
    "# # have fixed probe runs [4229--4262]\n",
    "# # have fixed probe runs [4283--4366]\n",
    "\n",
    "# import os\n",
    "\n",
    "# path_1 = '/home/newg2/DataProduction/Offline/ArtTFSDir/v9_20_00/FieldPlainRootOutput_0'\n",
    "# path_2 = '_tier1.root'\n",
    "\n",
    "# for run in range(4283,4367):\n",
    "#     file_name = path_1 + str(run) + path_2\n",
    "#     exists = os.path.isfile(file_name)\n",
    "#     if exists == False:\n",
    "#         print 'Missing run ' + str(run)"
   ]
  },
  {
   "cell_type": "code",
   "execution_count": null,
   "metadata": {},
   "outputs": [],
   "source": []
  }
 ],
 "metadata": {
  "kernelspec": {
   "display_name": "Python 2",
   "language": "python",
   "name": "python2"
  },
  "language_info": {
   "codemirror_mode": {
    "name": "ipython",
    "version": 2
   },
   "file_extension": ".py",
   "mimetype": "text/x-python",
   "name": "python",
   "nbconvert_exporter": "python",
   "pygments_lexer": "ipython2",
   "version": "2.7.14"
  }
 },
 "nbformat": 4,
 "nbformat_minor": 2
}
