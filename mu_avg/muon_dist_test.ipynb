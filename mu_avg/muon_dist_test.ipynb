{
 "cells": [
  {
   "cell_type": "code",
   "execution_count": 1,
   "metadata": {},
   "outputs": [],
   "source": [
    "%load_ext autoreload\n",
    "%autoreload 2\n",
    "\n",
    "%matplotlib inline\n",
    "import matplotlib\n",
    "import matplotlib.pyplot as plt\n",
    "import seaborn as sns\n",
    "\n",
    "import numpy as np\n",
    "import pandas as pd\n",
    "import scipy\n",
    "\n",
    "from scipy.optimize import curve_fit"
   ]
  },
  {
   "cell_type": "code",
   "execution_count": 2,
   "metadata": {},
   "outputs": [],
   "source": [
    "input_12 = np.loadtxt('sample_st12.txt')\n",
    "input_18 = np.loadtxt('sample_st18.txt')\n",
    "\n",
    "x_12 = input_12[:,0].reshape(60,60).transpose()\n",
    "y_12 = input_12[:,1].reshape(60,60).transpose()\n",
    "N_12 = input_12[:,2].reshape(60,60).transpose()\n",
    "\n",
    "x_18 = input_18[:,0].reshape(60,60).transpose()\n",
    "y_18 = input_18[:,1].reshape(60,60).transpose()\n",
    "N_18 = input_18[:,2].reshape(60,60).transpose()\n",
    "\n",
    "x = np.arange(-59,60,2)\n",
    "y = np.arange(-59,60,2)\n",
    "\n",
    "x_dist_12 = np.sum(N_12,axis=0)\n",
    "x_dist_12 /= np.max(x_dist_12)\n",
    "y_dist_12 = np.sum(N_12,axis=1)\n",
    "y_dist_12 /= np.max(y_dist_12)\n",
    "\n",
    "x_dist_18 = np.sum(N_18,axis=0)\n",
    "x_dist_18 /= np.max(x_dist_18)\n",
    "y_dist_18 = np.sum(N_18,axis=1)\n",
    "y_dist_18 /= np.max(y_dist_18)"
   ]
  },
  {
   "cell_type": "code",
   "execution_count": 3,
   "metadata": {},
   "outputs": [],
   "source": [
    "def _x_dist_long(x, A1, A2, A3, x1, x2, x3, w1, w2, w3):\n",
    "    f1 = A1 * np.exp(-(x-x1)**2/2/w1**2)\n",
    "    f2 = A2 * np.exp(-(x-x2)**2/2/w2**2)\n",
    "    f3 = A3 * np.exp(-(x-x3)**2/2/w3**2)\n",
    "    return f1+f2+f3\n",
    "\n",
    "def _y_dist(y, A, y0, wy):\n",
    "    f1 = np.exp(-(y-y0)**2/2/wy**2)\n",
    "    return A * f1 / wy / np.sqrt(2*np.pi)\n",
    "\n",
    "coeffs_x_12, _ = curve_fit(_x_dist_long, x, x_dist_12, p0=[0.17, 0.5, 0.9, -24, -2, 20, 8.3, 12.7, 9.9])\n",
    "coeffs_x_18, _ = curve_fit(_x_dist_long, x, x_dist_18, p0=[0.17, 0.5, 0.9, -23, -2, 20, 8.3, 12.7, 9.9])\n",
    "\n",
    "coeffs_y_12, _ = curve_fit(_y_dist, y, y_dist_12, p0=[1, 30, 10])\n",
    "coeffs_y_18, _ = curve_fit(_y_dist, y, y_dist_18, p0=[1, 30, 10])\n",
    "\n",
    "## need to find averages, even if they are out of order\n",
    "## order by center paramters\n",
    "x_order_12 = np.argsort(coeffs_x_12[3:6])\n",
    "x_order_18 = np.argsort(coeffs_x_18[3:6])\n",
    "\n",
    "x23 = ((coeffs_x_12[3:6][x_order_12][1] - coeffs_x_12[3:6][x_order_12][2]\n",
    "        + coeffs_x_18[3:6][x_order_18][1] - coeffs_x_18[3:6][x_order_18][2])\n",
    "       / (coeffs_x_12[3:6][x_order_12][0] - coeffs_x_12[3:6][x_order_12][2]\n",
    "          + coeffs_x_18[3:6][x_order_18][0] - coeffs_x_18[3:6][x_order_18][2]))\n",
    "\n",
    "w1 = np.abs(coeffs_x_12[6:9][x_order_12][0]/(coeffs_x_12[3:6][x_order_12][0] - coeffs_x_12[3:6][x_order_12][2])\n",
    "      + coeffs_x_18[6:9][x_order_18][0]/(coeffs_x_18[3:6][x_order_18][0] - coeffs_x_18[3:6][x_order_18][2])\n",
    "     )/2\n",
    "w2 = np.abs(coeffs_x_12[6:9][x_order_12][1]/(coeffs_x_12[3:6][x_order_12][0] - coeffs_x_12[3:6][x_order_12][2])\n",
    "      + coeffs_x_18[6:9][x_order_18][1]/(coeffs_x_18[3:6][x_order_18][0] - coeffs_x_18[3:6][x_order_18][2])\n",
    "     )/2\n",
    "w3 = np.abs(coeffs_x_12[6:9][x_order_12][2]/(coeffs_x_12[3:6][x_order_12][0] - coeffs_x_12[3:6][x_order_12][2])\n",
    "      + coeffs_x_18[6:9][x_order_18][2]/(coeffs_x_18[3:6][x_order_18][0] - coeffs_x_18[3:6][x_order_18][2])\n",
    "     )/2\n",
    "\n",
    "A13 = (coeffs_x_12[0:3][x_order_12][0]/coeffs_x_12[0:3][x_order_12][2]\n",
    "       + coeffs_x_18[0:3][x_order_18][0]/coeffs_x_18[0:3][x_order_18][2]\n",
    "      )/2\n",
    "A23 = (coeffs_x_12[0:3][x_order_12][1]/coeffs_x_12[0:3][x_order_12][2]\n",
    "       + coeffs_x_18[0:3][x_order_18][1]/coeffs_x_18[0:3][x_order_18][2]\n",
    "      )/2\n",
    "\n",
    "def _x_dist(x, A, x3, x31):\n",
    "    f3 = np.exp(-(x-x3)**2/2/(w3*x31)**2)\n",
    "    f1 = A13 * np.exp(-(x-x3+x31)**2/2/(w1*x31)**2)\n",
    "    f2 = A23 * np.exp(-(x-x3+x23*x31)**2/2/(w2*x31)**2)\n",
    "    \n",
    "    F3 = np.sqrt(2*np.pi) * w3 * x31\n",
    "    F1 = A13 * np.sqrt(2*np.pi) * w1 * x31\n",
    "    F2 = A23 * np.sqrt(2*np.pi) * w2 * x31\n",
    "    \n",
    "    return A*(f1 + f2 + f3)/(F1+F2+F3)\n"
   ]
  },
  {
   "cell_type": "code",
   "execution_count": 4,
   "metadata": {},
   "outputs": [],
   "source": [
    "def _xy_dist_fit(XY, A, x3, x31, y0, wy):\n",
    "    x, y = XY\n",
    "    fx = _x_dist(x, 1, x3, x31)\n",
    "    fy = _y_dist(y, 1, y0, wy)\n",
    "    return A * fx * fy\n",
    "\n",
    "def _xy_dist(x, y, A, x3, x31, y0, wy):\n",
    "    fx = _x_dist(x, 1, x3, x31)\n",
    "    fy = _y_dist(y, 1, y0, wy)\n",
    "    return A * fx * fy"
   ]
  },
  {
   "cell_type": "code",
   "execution_count": null,
   "metadata": {},
   "outputs": [],
   "source": []
  },
  {
   "cell_type": "code",
   "execution_count": 6,
   "metadata": {},
   "outputs": [],
   "source": [
    "## include azimuthal dependence\n",
    "\n",
    "R0 = 7112\n",
    "\n",
    "def _x3(theta):  # just a sample, would need to be filled by radial closed orbit\n",
    "    return 19.4 + 0.05*np.cos(theta)\n",
    "def _x31(theta):  # needs to be fit by betatron breathing?\n",
    "    return 45.9 * (1 + 0.05*np.cos(4*theta))\n",
    "def _y0(theta):  # vertical offset/closed orbit\n",
    "    return -0.17\n",
    "def _wy(theta):\n",
    "    return 13.5 * (1 - 0.1*np.cos(4*theta))\n",
    "\n",
    "def _xyz_dist(x, y, theta, A):\n",
    "    x3 = _x3(theta)\n",
    "    x31 = _x31(theta)\n",
    "    y0 = _y0(theta)\n",
    "    wy = _wy(theta)\n",
    "    return _xy_dist(x, y, 1, x3, x31, y0, wy) / (2*np.pi*R0)  # crappy normalization\n",
    "\n",
    "def _xyz_integrand(x, y, theta, A):\n",
    "    return (R0+x) * _xyz_dist(x, y, theta, A)\n"
   ]
  },
  {
   "cell_type": "code",
   "execution_count": 7,
   "metadata": {},
   "outputs": [
    {
     "name": "stdout",
     "output_type": "stream",
     "text": [
      "(1.000843782249345, 1.4853437684643574e-08)\n",
      "CPU times: user 8.42 s, sys: 17 ms, total: 8.44 s\n",
      "Wall time: 8.39 s\n"
     ]
    }
   ],
   "source": [
    "%%time\n",
    "## takes ~20 seconds\n",
    "\n",
    "print scipy.integrate.nquad(_xyz_integrand, [[-60,60],[-60,60],[0,2*np.pi]], args=[1])"
   ]
  },
  {
   "cell_type": "code",
   "execution_count": 8,
   "metadata": {},
   "outputs": [
    {
     "name": "stdout",
     "output_type": "stream",
     "text": [
      "(1.0008437809218271, 0.008624994043847886)\n",
      "CPU times: user 504 ms, sys: 12 ms, total: 516 ms\n",
      "Wall time: 479 ms\n"
     ]
    }
   ],
   "source": [
    "%%time\n",
    "\n",
    "opts = {'epsabs':1.0e-2, 'epsrel':1.0e-3}\n",
    "\n",
    "print scipy.integrate.nquad(_xyz_integrand, [[-60,60],[-60,60],[0,2*np.pi]], args=[1], opts=opts)"
   ]
  },
  {
   "cell_type": "code",
   "execution_count": null,
   "metadata": {},
   "outputs": [],
   "source": []
  },
  {
   "cell_type": "code",
   "execution_count": 9,
   "metadata": {},
   "outputs": [
    {
     "name": "stdout",
     "output_type": "stream",
     "text": [
      "[ 3.60531293e+07  1.94517004e+01  4.48784407e+01 -1.70286871e-01\n",
      "  1.35600571e+01]\n"
     ]
    },
    {
     "data": {
      "image/png": "[encoded data removed]",
      "text/plain": [
       "<Figure size 864x288 with 4 Axes>"
      ]
     },
     "metadata": {
      "needs_background": "light"
     },
     "output_type": "display_data"
    },
    {
     "data": {
      "image/png": "[encoded data removed]",
      "text/plain": [
       "<Figure size 432x288 with 2 Axes>"
      ]
     },
     "metadata": {
      "needs_background": "light"
     },
     "output_type": "display_data"
    }
   ],
   "source": [
    "p0 = 8820000, 20, 44, 0, 13\n",
    "coeffs_xy_12, _ = curve_fit(_xy_dist_fit, (input_12[:,0],input_12[:,1]), input_12[:,2], p0=p0)\n",
    "print coeffs_xy_12\n",
    "\n",
    "fig, axs = plt.subplots(1,2)\n",
    "\n",
    "c1 = axs[0].contourf(x_12, y_12, N_12, 20)\n",
    "c2 = axs[1].contourf(x_12, y_12, _xy_dist_fit((x_12, y_12), *coeffs_xy_12), 20)\n",
    "fig.colorbar(c1, ax=axs[0])\n",
    "fig.colorbar(c2, ax=axs[1])\n",
    "\n",
    "fig.set_size_inches(12,4)\n",
    "fig.tight_layout()\n",
    "\n",
    "fig2, ax2 = plt.subplots(1,1)\n",
    "\n",
    "c_diff = ax2.contourf(x_12, y_12, N_12 - _xy_dist_fit((x_12, y_12), *coeffs_xy_12), 20)\n",
    "fig2.colorbar(c_diff)\n",
    "\n",
    "fig2.set_size_inches(6,4)\n",
    "fig2.tight_layout()"
   ]
  },
  {
   "cell_type": "code",
   "execution_count": 10,
   "metadata": {},
   "outputs": [
    {
     "name": "stdout",
     "output_type": "stream",
     "text": [
      "(0.9999999999936976, 1.1847023525445213e-08)\n",
      "(0.9999999999936976, 1.1847023525445213e-08)\n"
     ]
    }
   ],
   "source": [
    "print scipy.integrate.nquad(_xy_dist, [[-90,90],[-90,90]], args=(1, 20, 44, 0, 13))\n",
    "\n",
    "print scipy.integrate.dblquad(_xy_dist, -90, 90, lambda x: -90, lambda x: 90, args=(1, 20, 44, 0, 13))"
   ]
  },
  {
   "cell_type": "code",
   "execution_count": 27,
   "metadata": {},
   "outputs": [
    {
     "data": {
      "image/png": "[encoded data removed]",
      "text/plain": [
       "<Figure size 468x180 with 4 Axes>"
      ]
     },
     "metadata": {
      "needs_background": "light"
     },
     "output_type": "display_data"
    },
    {
     "data": {
      "image/png": "[encoded data removed]",
      "text/plain": [
       "<Figure size 234x180 with 2 Axes>"
      ]
     },
     "metadata": {
      "needs_background": "light"
     },
     "output_type": "display_data"
    }
   ],
   "source": [
    "p0 = 8820000, 20, 44, 0, 13\n",
    "coeffs_xy_18, _ = curve_fit(_xy_dist_fit, (input_18[:,0],input_18[:,1]), input_18[:,2], p0=p0)\n",
    "\n",
    "fig, axs = plt.subplots(1,2)\n",
    "\n",
    "c1 = axs[0].contourf(x_18, y_18, N_18, 20)\n",
    "c2 = axs[1].contourf(x_18, y_18, _xy_dist_fit((x_18, y_18), *coeffs_xy_18), 20)\n",
    "fig.colorbar(c1, ax=axs[0])\n",
    "fig.colorbar(c2, ax=axs[1])\n",
    "\n",
    "for ax in axs:\n",
    "    ax.set_xlabel('x (mm)', fontdict={'size':12, 'family':'serif'})\n",
    "    ax.set_ylabel('y (mm)', fontdict={'size':12, 'family':'serif'})\n",
    "axs[0].set_title('$\\mu$ distribution', fontdict={'size':12, 'family':'serif'})\n",
    "axs[1].set_title('$\\mu$ distribution fit', fontdict={'size':12, 'family':'serif'})\n",
    "\n",
    "fig.set_size_inches(6.5,2.5)\n",
    "fig.tight_layout()\n",
    "\n",
    "fig2, ax2 = plt.subplots(1,1)\n",
    "\n",
    "c_diff = ax2.contourf(x_18, y_18, N_18 - _xy_dist_fit((x_18, y_18), *coeffs_xy_18), 20)\n",
    "fig2.colorbar(c_diff)\n",
    "\n",
    "ax2.set_xlabel('x (mm)', fontdict={'size':12, 'family':'serif'})\n",
    "ax2.set_ylabel('y (mm)', fontdict={'size':12, 'family':'serif'})\n",
    "ax2.set_title('fit residuals', fontdict={'size':12, 'family':'serif'})\n",
    "\n",
    "fig2.set_size_inches(3.25,2.5)\n",
    "fig2.tight_layout()\n",
    "\n",
    "fig.savefig('2d_fit.png', dpi=300)\n",
    "fig2.savefig('2d_fit_resid.png', dpi=300)"
   ]
  },
  {
   "cell_type": "code",
   "execution_count": 12,
   "metadata": {},
   "outputs": [
    {
     "name": "stdout",
     "output_type": "stream",
     "text": [
      "[ 3.60531293e+07  1.94517004e+01  4.48784407e+01 -1.70286871e-01\n",
      "  1.35600571e+01]\n"
     ]
    }
   ],
   "source": [
    "print coeffs_xy_12"
   ]
  },
  {
   "cell_type": "code",
   "execution_count": 13,
   "metadata": {},
   "outputs": [
    {
     "ename": "NameError",
     "evalue": "name 'x_dist' is not defined",
     "output_type": "error",
     "traceback": [
      "\u001b[0;31m---------------------------------------------------------------------------\u001b[0m",
      "\u001b[0;31mNameError\u001b[0m                                 Traceback (most recent call last)",
      "\u001b[0;32m<ipython-input-13-c55b1439623f>\u001b[0m in \u001b[0;36m<module>\u001b[0;34m()\u001b[0m\n\u001b[0;32m----> 1\u001b[0;31m \u001b[0mcoeffs_12\u001b[0m\u001b[0;34m,\u001b[0m \u001b[0m_\u001b[0m \u001b[0;34m=\u001b[0m \u001b[0mcurve_fit\u001b[0m\u001b[0;34m(\u001b[0m\u001b[0mx_dist\u001b[0m\u001b[0;34m,\u001b[0m \u001b[0mx\u001b[0m\u001b[0;34m,\u001b[0m \u001b[0mx_dist_12\u001b[0m\u001b[0;34m)\u001b[0m\u001b[0;34m\u001b[0m\u001b[0m\n\u001b[0m\u001b[1;32m      2\u001b[0m \u001b[0mcoeffs_18\u001b[0m\u001b[0;34m,\u001b[0m \u001b[0m_\u001b[0m \u001b[0;34m=\u001b[0m \u001b[0mcurve_fit\u001b[0m\u001b[0;34m(\u001b[0m\u001b[0mx_dist\u001b[0m\u001b[0;34m,\u001b[0m \u001b[0mx\u001b[0m\u001b[0;34m,\u001b[0m \u001b[0mx_dist_18\u001b[0m\u001b[0;34m)\u001b[0m\u001b[0;34m\u001b[0m\u001b[0m\n",
      "\u001b[0;31mNameError\u001b[0m: name 'x_dist' is not defined"
     ]
    }
   ],
   "source": [
    "coeffs_12, _ = curve_fit(x_dist, x, x_dist_12)\n",
    "coeffs_18, _ = curve_fit(x_dist, x, x_dist_18)"
   ]
  },
  {
   "cell_type": "code",
   "execution_count": null,
   "metadata": {},
   "outputs": [],
   "source": [
    "print coeffs_12\n",
    "print coeffs_18"
   ]
  },
  {
   "cell_type": "code",
   "execution_count": null,
   "metadata": {},
   "outputs": [],
   "source": [
    "fig, axs = plt.subplots(2,1)\n",
    "\n",
    "axs[0].plot(x, x_dist_12, '.')\n",
    "axs[0].plot(x, x_dist(x, *coeffs_12))\n",
    "\n",
    "axs[1].plot(x, x_dist_18, '.')\n",
    "axs[1].plot(x, x_dist(x, *coeffs_18))\n",
    "\n",
    "fig.set_size_inches(12,8)\n",
    "fig.tight_layout()"
   ]
  },
  {
   "cell_type": "code",
   "execution_count": null,
   "metadata": {},
   "outputs": [],
   "source": [
    "fig, axs = plt.subplots(1,2)\n",
    "axs[0].contourf(x_st12, y_st12, N_st12, 50)\n",
    "axs[1].contourf(x_st18, y_st18, N_st18, 50)\n",
    "fig.set_size_inches(12,6)\n",
    "fig.tight_layout()"
   ]
  },
  {
   "cell_type": "code",
   "execution_count": null,
   "metadata": {},
   "outputs": [],
   "source": [
    "fig, axs = plt.subplots(2,1)\n",
    "\n",
    "axs[0].plot(x_dist_12, '.')\n",
    "axs[1].plot(y_dist_12, '.')\n",
    "\n",
    "axs[0].plot(x_dist_18, '.', color='red')\n",
    "axs[1].plot(y_dist_18, '.', color='red')\n",
    "\n",
    "fig.set_size_inches(12,6)\n",
    "fig.tight_layout()\n",
    "\n",
    "def _x_dist(x, A1, A2, A3, x1, x2, x3, w1, w2, w3):\n",
    "    f1 = A1 * np.exp(-(x-x1)**2/2/w1**2)\n",
    "    f2 = A2 * np.exp(-(x-x2)**2/2/w2**2)\n",
    "    f3 = A3 * np.exp(-(x-x3)**2/2/w3**2)\n",
    "    return f1+f2+f3\n",
    "\n",
    "def _y_dist(x, A1, x1, w1):\n",
    "    f1 = A1 * np.exp(-(x-x1)**2/2/w1**2)\n",
    "    return f1\n",
    "\n",
    "x_fit = np.arange(0,60)\n",
    "y_fit = np.arange(0,60)\n",
    "\n",
    "coeffs_x_12, _ = curve_fit(_x_dist, x_fit, x_dist_12, p0=np.array([0.3, 0.3, 0.3, 20, 30, 40, 10, 10, 10]))\n",
    "axs[0].plot(x_fit, _x_dist(x_fit, *coeffs_x_12), color='blue')\n",
    "\n",
    "coeffs_x_18, _ = curve_fit(_x_dist, x_fit, x_dist_18, p0=np.array([0.3, 0.3, 0.3, 20, 30, 40, 10, 10, 10]))\n",
    "axs[0].plot(x_fit, _x_dist(x_fit, *coeffs_x_18), color='red')\n",
    "\n",
    "coeffs_y_12, _ = curve_fit(_y_dist, y_fit, y_dist_12, p0=[1, 30, 10])\n",
    "axs[1].plot(y_fit, _y_dist(y_fit, *coeffs_y_12), color='blue')\n",
    "\n",
    "coeffs_y_18, _ = curve_fit(_y_dist, y_fit, y_dist_18, p0=[1, 30, 10])\n",
    "axs[1].plot(y_fit, _y_dist(y_fit, *coeffs_y_18), color='red')"
   ]
  },
  {
   "cell_type": "code",
   "execution_count": 14,
   "metadata": {},
   "outputs": [
    {
     "name": "stdout",
     "output_type": "stream",
     "text": [
      "[  0.17305174   0.50325657   0.85368057 -24.76538518  -2.46282592\n",
      "  19.88228096   7.99053625  13.57313577   9.61525844]\n",
      "[  0.17817801   0.45776299   0.91598508 -22.74572061  -2.56472529\n",
      "  20.25723237   8.66447535  11.7944942   10.21659785]\n",
      "0.5446316496706988\n",
      "0.19861658162656168\n",
      "22.583532264096405\n",
      "43.82530955522893\n",
      "1.2830345228177837\n",
      "0.8395525073893939\n"
     ]
    }
   ],
   "source": [
    "print coeffs_x_12\n",
    "print coeffs_x_18\n",
    "\n",
    "print (coeffs_x_12[1]/coeffs_x_12[2] + coeffs_x_18[1]/coeffs_x_18[2])/2\n",
    "print (coeffs_x_12[0]/coeffs_x_12[2] + coeffs_x_18[0]/coeffs_x_18[2])/2\n",
    "\n",
    "print (coeffs_x_12[5] - coeffs_x_12[4] + coeffs_x_18[5] - coeffs_x_18[4])/2\n",
    "print (coeffs_x_12[5] - coeffs_x_12[3] + coeffs_x_18[5] - coeffs_x_18[3])/2\n",
    "\n",
    "print (coeffs_x_12[7]/coeffs_x_12[8] + coeffs_x_18[7]/coeffs_x_18[8])/2\n",
    "print (coeffs_x_12[6]/coeffs_x_12[8] + coeffs_x_18[6]/coeffs_x_18[8])/2"
   ]
  },
  {
   "cell_type": "code",
   "execution_count": 15,
   "metadata": {},
   "outputs": [],
   "source": [
    "def x_dist(x, A, x0, w):  # x0 is position of third peak, w is width of third peak\n",
    "    f1 = np.exp(-(x-x0)**2/2/w**2)\n",
    "    f2 = 0.54*np.exp(-(x-x0+11.3)**2/2/(1.3*w)**2)\n",
    "    f3 = 0.2*np.exp(-(x-x0+21.9)**2/2/(0.84*w)**2)\n",
    "    return A*(f1+f2+f3)"
   ]
  },
  {
   "cell_type": "code",
   "execution_count": 16,
   "metadata": {},
   "outputs": [
    {
     "ename": "NameError",
     "evalue": "name 'x_fit' is not defined",
     "output_type": "error",
     "traceback": [
      "\u001b[0;31m---------------------------------------------------------------------------\u001b[0m",
      "\u001b[0;31mNameError\u001b[0m                                 Traceback (most recent call last)",
      "\u001b[0;32m<ipython-input-16-a6729285c5e5>\u001b[0m in \u001b[0;36m<module>\u001b[0;34m()\u001b[0m\n\u001b[1;32m      1\u001b[0m \u001b[0mfig\u001b[0m\u001b[0;34m,\u001b[0m \u001b[0maxs\u001b[0m \u001b[0;34m=\u001b[0m \u001b[0mplt\u001b[0m\u001b[0;34m.\u001b[0m\u001b[0msubplots\u001b[0m\u001b[0;34m(\u001b[0m\u001b[0;36m2\u001b[0m\u001b[0;34m,\u001b[0m\u001b[0;36m1\u001b[0m\u001b[0;34m)\u001b[0m\u001b[0;34m\u001b[0m\u001b[0m\n\u001b[1;32m      2\u001b[0m \u001b[0;34m\u001b[0m\u001b[0m\n\u001b[0;32m----> 3\u001b[0;31m \u001b[0mcoeffs_2_x_12\u001b[0m\u001b[0;34m,\u001b[0m \u001b[0m_\u001b[0m \u001b[0;34m=\u001b[0m \u001b[0mcurve_fit\u001b[0m\u001b[0;34m(\u001b[0m\u001b[0mx_dist\u001b[0m\u001b[0;34m,\u001b[0m \u001b[0mx_fit\u001b[0m\u001b[0;34m,\u001b[0m \u001b[0mx_dist_12\u001b[0m\u001b[0;34m,\u001b[0m \u001b[0mp0\u001b[0m\u001b[0;34m=\u001b[0m\u001b[0;34m[\u001b[0m\u001b[0;36m1\u001b[0m\u001b[0;34m,\u001b[0m \u001b[0;36m40\u001b[0m\u001b[0;34m,\u001b[0m \u001b[0;36m5\u001b[0m\u001b[0;34m]\u001b[0m\u001b[0;34m)\u001b[0m\u001b[0;34m\u001b[0m\u001b[0m\n\u001b[0m\u001b[1;32m      4\u001b[0m \u001b[0maxs\u001b[0m\u001b[0;34m[\u001b[0m\u001b[0;36m0\u001b[0m\u001b[0;34m]\u001b[0m\u001b[0;34m.\u001b[0m\u001b[0mplot\u001b[0m\u001b[0;34m(\u001b[0m\u001b[0mx_fit\u001b[0m\u001b[0;34m,\u001b[0m \u001b[0mx_dist\u001b[0m\u001b[0;34m(\u001b[0m\u001b[0mx_fit\u001b[0m\u001b[0;34m,\u001b[0m \u001b[0;34m*\u001b[0m\u001b[0mcoeffs_2_x_12\u001b[0m\u001b[0;34m)\u001b[0m\u001b[0;34m,\u001b[0m \u001b[0mcolor\u001b[0m\u001b[0;34m=\u001b[0m\u001b[0;34m'blue'\u001b[0m\u001b[0;34m)\u001b[0m\u001b[0;34m\u001b[0m\u001b[0m\n\u001b[1;32m      5\u001b[0m \u001b[0;34m\u001b[0m\u001b[0m\n",
      "\u001b[0;31mNameError\u001b[0m: name 'x_fit' is not defined"
     ]
    },
    {
     "data": {
      "image/png": "[encoded data removed]",
      "text/plain": [
       "<Figure size 432x288 with 2 Axes>"
      ]
     },
     "metadata": {
      "needs_background": "light"
     },
     "output_type": "display_data"
    }
   ],
   "source": [
    "fig, axs = plt.subplots(2,1)\n",
    "\n",
    "coeffs_2_x_12, _ = curve_fit(x_dist, x_fit, x_dist_12, p0=[1, 40, 5])\n",
    "axs[0].plot(x_fit, x_dist(x_fit, *coeffs_2_x_12), color='blue')\n",
    "\n",
    "axs[0].plot(x_fit, x_dist_12, '.')\n",
    "\n",
    "coeffs_2_x_18, _ = curve_fit(x_dist, x_fit, x_dist_18, p0=[1, 40, 5])\n",
    "axs[1].plot(x_fit, x_dist(x_fit, *coeffs_2_x_18), color='red')\n",
    "\n",
    "axs[1].plot(x_fit, x_dist_18, '.', color='red')\n",
    "\n",
    "fig.set_size_inches(12,6)\n",
    "fig.tight_layout()"
   ]
  },
  {
   "cell_type": "code",
   "execution_count": null,
   "metadata": {},
   "outputs": [],
   "source": [
    "## 2D dist, x*y\n",
    "\n",
    "def xy_dist(x, y, A, x0, y0, wx, wy):\n",
    "    fx = x_dist(x, 1, x0, wx)\n",
    "    fy = _y_dist(y, 1, y0, wy)\n",
    "    return A * fx * fy"
   ]
  },
  {
   "cell_type": "code",
   "execution_count": null,
   "metadata": {},
   "outputs": [],
   "source": [
    "print coeffs_y_12"
   ]
  },
  {
   "cell_type": "code",
   "execution_count": null,
   "metadata": {},
   "outputs": [],
   "source": [
    "fig, ax = plt.subplots(1,1)\n",
    "\n",
    "X, Y = np.meshgrid(np.arange(0,60), np.arange(0,60))\n",
    "\n",
    "ax.contourf(X, Y, xy_dist(X, Y, 1., 40., 30., 5., 6.7), 50)\n",
    "# ax.plot(y_fit, _y_dist(y_fit, 1, 30, 20))\n",
    "\n",
    "fig.set_size_inches(8,8)\n",
    "fig.tight_layout()"
   ]
  },
  {
   "cell_type": "code",
   "execution_count": null,
   "metadata": {},
   "outputs": [],
   "source": []
  },
  {
   "cell_type": "code",
   "execution_count": null,
   "metadata": {},
   "outputs": [],
   "source": [
    "fig, axs = plt.subplots(2,1)\n",
    "\n",
    "axs[0].plot(np.log(np.sum(N_st12,axis=0)/np.max(np.sum(N_st12,axis=0))), '.')\n",
    "axs[1].plot(np.log(np.sum(N_st12,axis=1)/np.max(np.sum(N_st12,axis=1))), '.')\n",
    "\n",
    "axs[0].plot(np.log(np.sum(N_st18,axis=0)/np.max(np.sum(N_st18,axis=0))), '.', color='red')\n",
    "axs[1].plot(np.log(np.sum(N_st18,axis=1)/np.max(np.sum(N_st18,axis=1))), '.', color='red')\n",
    "\n",
    "fig.set_size_inches(12,6)\n",
    "fig.tight_layout()"
   ]
  },
  {
   "cell_type": "code",
   "execution_count": null,
   "metadata": {},
   "outputs": [],
   "source": []
  }
 ],
 "metadata": {
  "kernelspec": {
   "display_name": "Python 2",
   "language": "python",
   "name": "python2"
  },
  "language_info": {
   "codemirror_mode": {
    "name": "ipython",
    "version": 2
   },
   "file_extension": ".py",
   "mimetype": "text/x-python",
   "name": "python",
   "nbconvert_exporter": "python",
   "pygments_lexer": "ipython2",
   "version": "2.7.14"
  }
 },
 "nbformat": 4,
 "nbformat_minor": 2
}
