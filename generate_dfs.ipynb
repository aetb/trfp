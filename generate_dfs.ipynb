{
 "cells": [
  {
   "cell_type": "markdown",
   "metadata": {},
   "source": [
    "# Import and save all data sets to pandas"
   ]
  },
  {
   "cell_type": "markdown",
   "metadata": {},
   "source": [
    "### Imports and function defs"
   ]
  },
  {
   "cell_type": "code",
   "execution_count": 1,
   "metadata": {},
   "outputs": [
    {
     "name": "stdout",
     "output_type": "stream",
     "text": [
      "Welcome to JupyROOT 6.12/04\n"
     ]
    }
   ],
   "source": [
    "import pandas as pd\n",
    "import numpy as np\n",
    "\n",
    "import csv,datetime,time\n",
    "import psycopg2\n",
    "import sys\n",
    "\n",
    "import gm2\n",
    "import trfp\n",
    "import analysis_helper as helper\n",
    "\n",
    "def get_subrun_df(start_run, end_run):\n",
    "    \n",
    "    dsn  = \"dbname=gm2_online_prod user=gm2_reader host=g2db-priv port=5433\"\n",
    "    conn = psycopg2.connect(dsn)\n",
    "    curr = conn.cursor()\n",
    "    \n",
    "    # get times by subrun\n",
    "    subrun_time_columns = ['run', 'subrun', 'start_time', 'end_time', 'start_gps', 'end_gps']\n",
    "    sql = \"select \"+\", \".join(subrun_time_columns)+\" from gm2dq.subrun_time where run >= %i and run <= %i order by run, subrun\" % (start_run, end_run)\n",
    "    curr.execute(sql)\n",
    "    conn.commit()\n",
    "    subrun_time = curr.fetchall()\n",
    "    subrun_time_df = pd.DataFrame(subrun_time, columns=subrun_time_columns)\n",
    "    \n",
    "    # get ctags by subruns\n",
    "    ctagswithdqc_columns = ['run', 'subrun', 'ctags', 't0val', 'fills']\n",
    "    sql = \"select \"+\", \".join(ctagswithdqc_columns)+\" from gm2dq.ctagswithdqc where run >= %i and run <= %i order by run, subrun\" % (start_run, end_run)\n",
    "    curr.execute(sql)\n",
    "    conn.commit()\n",
    "    ctagswithdqc = curr.fetchall()\n",
    "    ctagswithdqc_df = pd.DataFrame(ctagswithdqc, columns=ctagswithdqc_columns)\n",
    "    \n",
    "    # get subrun status database\n",
    "    subrun_status_columns = ['run', 'subrun', 'quad_condition', 'kicker_condition', 'quad_ok',\n",
    "                             'ctags_ok', 'losses_ok', 'fillcuts_ok', 'field_ok', 'trolley_period', 'field_period',\n",
    "                             'ctags_loose_ok', 'quad_loose_ok', 'ctags_repeat_ok', 'losses_repeat_ok', 'fillcuts_repeat_ok']\n",
    "    sql = \"select \"+\", \".join(subrun_status_columns)+\" from gm2dq.subrun_status where run >= %i and run <= %i order by run, subrun\" % (start_run, end_run)\n",
    "    curr.execute(sql)\n",
    "    conn.commit()\n",
    "    subrun_status = curr.fetchall()\n",
    "    subrun_status_df = pd.DataFrame(subrun_status, columns=subrun_status_columns)\n",
    "    \n",
    "    # merge times, ctags, status into one subrun dataframe\n",
    "    subrun_df = pd.merge(subrun_time_df, ctagswithdqc_df)\n",
    "    subrun_df = pd.merge(subrun_df, subrun_status_df)\n",
    "    subrun_df['ok'] = subrun_df['quad_ok'] & subrun_df['ctags_ok'] & subrun_df['losses_ok'] & subrun_df['fillcuts_ok'] & subrun_df['field_ok']\n",
    "    subrun_df['start_time'] = subrun_df['start_time'].astype(np.int64)/1e9 + 5*60*60\n",
    "    subrun_df['end_time'] = subrun_df['end_time'].astype(np.int64)/1e9 + 5*60*60\n",
    "    subrun_df['start_gps'] = subrun_df['start_gps'].astype(np.int64)/1.0e9 + 5*60*60\n",
    "    subrun_df['end_gps'] = subrun_df['end_gps'].astype(np.int64)/1.0e9 + 5*60*60\n",
    "    \n",
    "    print subrun_df.shape\n",
    "    \n",
    "    return subrun_df"
   ]
  },
  {
   "cell_type": "markdown",
   "metadata": {},
   "source": [
    "## 60 hr"
   ]
  },
  {
   "cell_type": "code",
   "execution_count": 5,
   "metadata": {},
   "outputs": [
    {
     "name": "stdout",
     "output_type": "stream",
     "text": [
      "Reading event 8780/8781 99.99%           \n",
      "loop done: 100%                                    \n",
      "Reading event 2630/2634 99.85% \n",
      "loop done: 100%                                    \n",
      "Reading event 154050/154052 100.00%                                                                                                         \n",
      "loop done: 100%                                    \n",
      "Reading event 8730/8735 99.94%          \n",
      "loop done: 100%                                    \n",
      "Reading event 2610/2619 99.66%  \n",
      "loop done: 100%                                    \n",
      "CPU times: user 57.3 s, sys: 12.3 s, total: 1min 9s\n",
      "Wall time: 2min 9s\n"
     ]
    }
   ],
   "source": [
    "%%time\n",
    "\n",
    "prefix = 'data1/newg2/DataProduction/Offline/ArtTFSDir/v9_21_05_dev/FieldPlainRootOutput_'\n",
    "\n",
    "tr_interp_df_1 = helper.root_to_pandas([3956], prefix=prefix, tr_run=True)\n",
    "fp_interp_df_1 = helper.root_to_pandas(range(3959,3995), prefix=prefix, tr_run=False)\n",
    "tr_interp_df_2 = helper.root_to_pandas([3997], prefix=prefix, tr_run=True)\n"
   ]
  },
  {
   "cell_type": "code",
   "execution_count": 3,
   "metadata": {},
   "outputs": [
    {
     "name": "stdout",
     "output_type": "stream",
     "text": [
      "(27275, 24)\n",
      "CPU times: user 221 ms, sys: 34 ms, total: 255 ms\n",
      "Wall time: 1.29 s\n"
     ]
    }
   ],
   "source": [
    "%%time\n",
    "\n",
    "start_run = 15921\n",
    "end_run = 15992\n",
    "\n",
    "subrun_df = get_subrun_df(start_run, end_run)"
   ]
  },
  {
   "cell_type": "code",
   "execution_count": 6,
   "metadata": {},
   "outputs": [
    {
     "name": "stdout",
     "output_type": "stream",
     "text": [
      "CPU times: user 59 ms, sys: 393 ms, total: 452 ms\n",
      "Wall time: 457 ms\n"
     ]
    }
   ],
   "source": [
    "%%time\n",
    "\n",
    "# Save all the dataframes in one hdf5 file\n",
    "\n",
    "filename = 'hdf5/60hr.h5'\n",
    "\n",
    "tr_interp_df_1.to_hdf(filename, key='tr_df_1')\n",
    "fp_interp_df_1.to_hdf(filename, key='fp_df_1')\n",
    "tr_interp_df_2.to_hdf(filename, key='tr_df_2')\n",
    "\n",
    "subrun_df.to_hdf(filename, key='subrun_df')"
   ]
  },
  {
   "cell_type": "markdown",
   "metadata": {
    "heading_collapsed": true
   },
   "source": [
    "## 9 day"
   ]
  },
  {
   "cell_type": "code",
   "execution_count": null,
   "metadata": {
    "hidden": true
   },
   "outputs": [],
   "source": [
    "%%time\n",
    "\n",
    "prefix = 'data1/newg2/DataProduction/Offline/ArtTFSDir/v9_21_05_dev/FieldPlainRootOutput_'\n",
    "\n",
    "tr_interp_df_1 = helper.root_to_pandas([4138], prefix=prefix, tr_run=True)\n",
    "fp_interp_df_1 = helper.root_to_pandas(range(4141,4179), prefix=prefix, tr_run=False)\n",
    "tr_interp_df_2 = helper.root_to_pandas([4181], prefix=prefix, tr_run=True)\n",
    "\n",
    "## MAGNET CYCLE\n",
    "\n",
    "tr_interp_df_3 = helper.root_to_pandas([4189], prefix=prefix, tr_run=True)\n",
    "fp_interp_df_2 = helper.root_to_pandas(range(4193,4223), prefix=prefix, tr_run=False)\n",
    "tr_interp_df_4 = helper.root_to_pandas([4226], prefix=prefix, tr_run=True)\n",
    "fp_interp_df_3 = helper.root_to_pandas(range(4229,4263), prefix=prefix, tr_run=False)\n",
    "tr_interp_df_5 = helper.root_to_pandas([4265], prefix=prefix, tr_run=True)\n",
    "fp_interp_df_4 = helper.root_to_pandas(range(4283,4489), prefix=prefix, tr_run=False)\n",
    "tr_interp_df_6 = helper.root_to_pandas([4493], prefix=prefix, tr_run=True)"
   ]
  },
  {
   "cell_type": "code",
   "execution_count": null,
   "metadata": {
    "hidden": true
   },
   "outputs": [],
   "source": [
    "%%time\n",
    "\n",
    "start_run = 16355\n",
    "end_run = 16539\n",
    "\n",
    "subrun_df = get_subrun_df(start_run, end_run)"
   ]
  },
  {
   "cell_type": "code",
   "execution_count": null,
   "metadata": {
    "hidden": true
   },
   "outputs": [],
   "source": [
    "%%time\n",
    "\n",
    "## Save all the dataframes in one hdf5 file\n",
    "\n",
    "filename = 'hdf5/9day.h5'\n",
    "\n",
    "tr_interp_df_1.to_hdf(filename, key='tr_df_1')\n",
    "fp_interp_df_1.to_hdf(filename, key='fp_df_1')\n",
    "tr_interp_df_2.to_hdf(filename, key='tr_df_2')\n",
    "\n",
    "tr_interp_df_3.to_hdf(filename, key='tr_df_3')\n",
    "fp_interp_df_2.to_hdf(filename, key='fp_df_2')\n",
    "tr_interp_df_4.to_hdf(filename, key='tr_df_4')\n",
    "fp_interp_df_3.to_hdf(filename, key='fp_df_3')\n",
    "tr_interp_df_5.to_hdf(filename, key='tr_df_5')\n",
    "fp_interp_df_4.to_hdf(filename, key='fp_df_4')\n",
    "tr_interp_df_6.to_hdf(filename, key='tr_df_6')\n",
    "\n",
    "subrun_df.to_hdf(filename, key='subrun_df')"
   ]
  },
  {
   "cell_type": "markdown",
   "metadata": {
    "heading_collapsed": true
   },
   "source": [
    "## Endgame"
   ]
  },
  {
   "cell_type": "code",
   "execution_count": null,
   "metadata": {
    "hidden": true
   },
   "outputs": [],
   "source": [
    "%%time\n",
    "\n",
    "prefix = 'data1/newg2/DataProduction/Offline/ArtTFSDir/v9_21_05_dev/FieldPlainRootOutput_'\n",
    "\n",
    "# tr_interp_df_1 = helper.root_to_pandas([4997], prefix=prefix, tr_run=True)\n",
    "# fp_interp_df_1 = helper.root_to_pandas(range(5000,5050), prefix=prefix, tr_run=False)\n",
    "tr_interp_df_2 = helper.root_to_pandas([5054], prefix=prefix, tr_run=True)\n",
    "fp_interp_df_2 = helper.root_to_pandas(range(5057,5101), prefix=prefix, tr_run=False)\n",
    "tr_interp_df_3 = helper.root_to_pandas([5103], prefix=prefix, tr_run=True)\n",
    "\n",
    "## MAGNET CYCLE runs 5108-5114\n",
    "# magnet_cycle_df_1 = helper.root_to_pandas(range(5108,5115), prefix=prefix, tr_run=False)\n",
    "\n",
    "tr_interp_df_4 = helper.root_to_pandas([5117], prefix=prefix, tr_run=True)\n",
    "fp_interp_df_3 = helper.root_to_pandas(range(5120,5155), prefix=prefix, tr_run=False)\n",
    "tr_interp_df_5 = helper.root_to_pandas([5157], prefix=prefix, tr_run=True)\n",
    "\n",
    "## MAGNET CYCLE runs 5160-5166\n",
    "# magnet_cycle_df_2 = helper.root_to_pandas(range(5160,5167), prefix=prefix, tr_run=False)\n",
    "\n",
    "tr_interp_df_6 = helper.root_to_pandas([5169], prefix=prefix, tr_run=True)\n",
    "fp_interp_df_4 = helper.root_to_pandas(range(5172,5215), prefix=prefix, tr_run=False)\n",
    "tr_interp_df_7 = helper.root_to_pandas([5217], prefix=prefix, tr_run=True)\n",
    "fp_interp_df_5 = helper.root_to_pandas(range(5220,5257), prefix=prefix, tr_run=False)\n",
    "tr_interp_df_8 = helper.root_to_pandas([5259], prefix=prefix, tr_run=True)\n",
    "fp_interp_df_6 = helper.root_to_pandas(range(5262,5301), prefix=prefix, tr_run=False)\n",
    "tr_interp_df_9 = helper.root_to_pandas([5303], prefix=prefix, tr_run=True)\n"
   ]
  },
  {
   "cell_type": "code",
   "execution_count": null,
   "metadata": {
    "hidden": true
   },
   "outputs": [],
   "source": [
    "%%time\n",
    "\n",
    "start_run = 16908\n",
    "end_run = 17528\n",
    "\n",
    "subrun_df = get_subrun_df(start_run, end_run)"
   ]
  },
  {
   "cell_type": "code",
   "execution_count": null,
   "metadata": {
    "hidden": true
   },
   "outputs": [],
   "source": [
    "%%time\n",
    "\n",
    "## Save all the dataframes in one hdf5 file\n",
    "\n",
    "filename = 'hdf5/endgame.h5'\n",
    "\n",
    "subrun_df.to_hdf(filename, key='subrun_df')\n",
    "\n",
    "# tr_interp_df_1.to_hdf(filename, key='tr_df_1')\n",
    "# fp_interp_df_1.to_hdf(filename, key='fp_df_1')\n",
    "tr_interp_df_2.to_hdf(filename, key='tr_df_2')\n",
    "fp_interp_df_2.to_hdf(filename, key='fp_df_2')\n",
    "tr_interp_df_3.to_hdf(filename, key='tr_df_3')\n",
    "\n",
    "# ## MAGNET CYCLE runs 5108-5114\n",
    "# magnet_cycle_df_1.to_hdf(filename, key='magnet_cycle_df_1')\n",
    "\n",
    "tr_interp_df_4.to_hdf(filename, key='tr_df_4')\n",
    "fp_interp_df_3.to_hdf(filename, key='fp_df_3')\n",
    "tr_interp_df_5.to_hdf(filename, key='tr_df_5')\n",
    "\n",
    "## MAGNET CYCLE runs 5160-5166\n",
    "# magnet_cycle_df_2.to_hdf(filename, key='magnet_cycle_df_2')\n",
    "\n",
    "tr_interp_df_6.to_hdf(filename, key='tr_df_6')\n",
    "fp_interp_df_4.to_hdf(filename, key='fp_df_4')\n",
    "tr_interp_df_7.to_hdf(filename, key='tr_df_7')\n",
    "fp_interp_df_5.to_hdf(filename, key='fp_df_5')\n",
    "tr_interp_df_8.to_hdf(filename, key='tr_df_8')\n",
    "fp_interp_df_6.to_hdf(filename, key='fp_df_6')\n",
    "tr_interp_df_9.to_hdf(filename, key='tr_df_9')"
   ]
  },
  {
   "cell_type": "markdown",
   "metadata": {},
   "source": [
    "## High Kick\n",
    "\n",
    "Notes: No run 4122 exists"
   ]
  },
  {
   "cell_type": "code",
   "execution_count": null,
   "metadata": {},
   "outputs": [],
   "source": [
    "%%time\n",
    "\n",
    "prefix = 'data1/newg2/DataProduction/Offline/ArtTFSDir/v9_21_05_dev/FieldPlainRootOutput_'\n",
    "\n",
    "tr_interp_df_1 = helper.root_to_pandas([4058], prefix=prefix, tr_run=True)\n",
    "fp_interp_df_1 = helper.root_to_pandas(range(4061,4096), prefix=prefix, tr_run=False)\n",
    "tr_interp_df_2 = helper.root_to_pandas([4098], prefix=prefix, tr_run=True)\n",
    "fp_interp_df_2 = helper.root_to_pandas(range(4101,4122)+range(4123,4136), prefix=prefix, tr_run=False)\n",
    "tr_interp_df_3 = helper.root_to_pandas([4138], prefix=prefix, tr_run=True)\n"
   ]
  },
  {
   "cell_type": "code",
   "execution_count": null,
   "metadata": {},
   "outputs": [],
   "source": [
    "%%time\n",
    "\n",
    "start_run = 16110\n",
    "end_run = 16256\n",
    "\n",
    "subrun_df = get_subrun_df(start_run, end_run)"
   ]
  },
  {
   "cell_type": "code",
   "execution_count": null,
   "metadata": {},
   "outputs": [],
   "source": [
    "%%time\n",
    "\n",
    "# # Save all the dataframes in one hdf5 file\n",
    "\n",
    "filename = 'hdf5/highkick.h5'\n",
    "\n",
    "tr_interp_df_1.to_hdf(filename, key='tr_df_1')\n",
    "fp_interp_df_1.to_hdf(filename, key='fp_df_1')\n",
    "tr_interp_df_2.to_hdf(filename, key='tr_df_2')\n",
    "fp_interp_df_2.to_hdf(filename, key='fp_df_2')\n",
    "tr_interp_df_3.to_hdf(filename, key='tr_df_3')\n",
    "\n",
    "subrun_df.to_hdf(filename, key='subrun_df')"
   ]
  },
  {
   "cell_type": "markdown",
   "metadata": {},
   "source": [
    "## Low Kick\n",
    "\n",
    "Something is wrong with the omega_a database on this one. No GPS times, for instance?"
   ]
  },
  {
   "cell_type": "code",
   "execution_count": 4,
   "metadata": {},
   "outputs": [
    {
     "name": "stdout",
     "output_type": "stream",
     "text": [
      "Reading event 8780/8789 99.90%                \n",
      "loop done: 100%                                    \n",
      "Reading event 2630/2636 99.77%    \n",
      "loop done: 100%                                    \n",
      "Reading event 8680/8683 99.97%      \n",
      "loop done: 100%                                    \n",
      "Reading event 2600/2604 99.85%   \n",
      "loop done: 100%                                    \n",
      "CPU times: user 4.18 s, sys: 406 ms, total: 4.58 s\n",
      "Wall time: 11.4 s\n"
     ]
    }
   ],
   "source": [
    "%%time\n",
    "\n",
    "prefix = 'data1/newg2/DataProduction/Offline/ArtTFSDir/v9_21_05_dev/FieldPlainRootOutput_'\n",
    "\n",
    "tr_interp_df_1 = helper.root_to_pandas([4539], prefix=prefix, tr_run=True)\n",
    "# fp_interp_df_1 = helper.root_to_pandas(range(4542,4582), prefix=prefix, tr_run=False)\n",
    "tr_interp_df_2 = helper.root_to_pandas([4584], prefix=prefix, tr_run=True)\n"
   ]
  },
  {
   "cell_type": "code",
   "execution_count": null,
   "metadata": {},
   "outputs": [],
   "source": [
    "start_run = 16669\n",
    "end_run = 16714\n",
    "\n",
    "subrun_df = get_subrun_df(start_run, end_run)"
   ]
  },
  {
   "cell_type": "code",
   "execution_count": null,
   "metadata": {},
   "outputs": [],
   "source": [
    "%%time\n",
    "\n",
    "## Save all the dataframes in one hdf5 file\n",
    "\n",
    "filename = 'hdf5/lowkick.h5'\n",
    "\n",
    "tr_interp_df_1.to_hdf(filename, key='tr_df_1')\n",
    "# fp_interp_df_1.to_hdf(filename, key='fp_df_1')\n",
    "tr_interp_df_2.to_hdf(filename, key='tr_df_2')\n",
    "\n",
    "# subrun_df.to_hdf(filename, key='subrun_df')"
   ]
  },
  {
   "cell_type": "code",
   "execution_count": null,
   "metadata": {},
   "outputs": [],
   "source": []
  }
 ],
 "metadata": {
  "kernelspec": {
   "display_name": "Python 2",
   "language": "python",
   "name": "python2"
  },
  "language_info": {
   "codemirror_mode": {
    "name": "ipython",
    "version": 2
   },
   "file_extension": ".py",
   "mimetype": "text/x-python",
   "name": "python",
   "nbconvert_exporter": "python",
   "pygments_lexer": "ipython2",
   "version": "2.7.14"
  }
 },
 "nbformat": 4,
 "nbformat_minor": 2
}
