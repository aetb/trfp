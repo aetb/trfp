{
 "cells": [
  {
   "cell_type": "code",
   "execution_count": 1,
   "metadata": {},
   "outputs": [
    {
     "name": "stdout",
     "output_type": "stream",
     "text": [
      "Welcome to JupyROOT 6.12/04\n"
     ]
    }
   ],
   "source": [
    "%load_ext autoreload\n",
    "%autoreload 2\n",
    "\n",
    "%matplotlib inline\n",
    "import matplotlib\n",
    "import matplotlib.pyplot as plt\n",
    "import seaborn as sns\n",
    "\n",
    "import numpy as np\n",
    "import pandas as pd\n",
    "from scipy.optimize import curve_fit\n",
    "import scipy\n",
    "\n",
    "import gm2\n",
    "import trfp\n",
    "import plotting_functions as plt2\n",
    "import analysis_helper as helper\n",
    "import helper_function_candidates as helper_old\n",
    "\n",
    "import mu_avg.mu_avg as mu_avg"
   ]
  },
  {
   "cell_type": "code",
   "execution_count": 2,
   "metadata": {},
   "outputs": [
    {
     "name": "stdout",
     "output_type": "stream",
     "text": [
      "Finished calculating all moments for 4363 events.\n"
     ]
    }
   ],
   "source": [
    "filename = 'hdf5/60hr.h5'\n",
    "tr_interp_df = pd.read_hdf(filename, key='tr_df_2')\n",
    "tr_moment_df = helper.calc_moment_df(tr_interp_df)"
   ]
  },
  {
   "cell_type": "code",
   "execution_count": 5,
   "metadata": {},
   "outputs": [
    {
     "name": "stderr",
     "output_type": "stream",
     "text": [
      "/home/aetb/.local/lib/python2.7/site-packages/ipykernel_launcher.py:43: RankWarning: Polyfit may be poorly conditioned\n"
     ]
    }
   ],
   "source": [
    "# look at blocks of N measurements at a time, look at the trolley moments\n",
    "# fit a polynomial, take the residuals, take the rms of the residuals as the \"noise\"\n",
    "\n",
    "N = 10\n",
    "ii = range(0,tr_moment_df.shape[0]//N)\n",
    "\n",
    "m=3\n",
    "trm = 'tr,m'+str(m)\n",
    "\n",
    "deg = 4\n",
    "\n",
    "bin_times = []\n",
    "devs = []\n",
    "\n",
    "for i in ii:\n",
    "# for i in [7]:\n",
    "    block = range(i*N, i*N+N)\n",
    "    \n",
    "    times = tr_moment_df.iloc[block].index.values\n",
    "    t0 = times[0]\n",
    "    times = times-t0\n",
    "    \n",
    "    moments = tr_moment_df[trm].iloc[block].values\n",
    "    \n",
    "    coeffs = np.polyfit(times,moments,deg)\n",
    "    resids = moments - np.polyval(coeffs, times)\n",
    "    \n",
    "    bin_times.append(int(np.mean(times)+t0))\n",
    "    devs.append(np.std(resids))\n",
    "    \n",
    "    \n",
    "    \n",
    "# final block\n",
    "\n",
    "block = range(ii[-1]*N+N, tr_moment_df.shape[0])\n",
    "\n",
    "times = tr_moment_df.iloc[block].index.values\n",
    "t0 = times[0]\n",
    "times = times-t0\n",
    "\n",
    "moments = tr_moment_df[trm].iloc[block].values\n",
    "\n",
    "coeffs = np.polyfit(times,moments,deg)\n",
    "resids = moments = np.polyval(coeffs, times)\n",
    "\n",
    "bin_times.append(int(np.mean(times)+t0))\n",
    "devs.append(np.std(resids))\n",
    "\n",
    "bin_times = np.array(bin_times)\n",
    "devs = np.array(devs)"
   ]
  },
  {
   "cell_type": "code",
   "execution_count": 4,
   "metadata": {},
   "outputs": [
    {
     "name": "stdout",
     "output_type": "stream",
     "text": [
      "0.16179919854228872\n"
     ]
    },
    {
     "data": {
      "text/plain": [
       "[<matplotlib.lines.Line2D at 0x7fa3d48f9c50>]"
      ]
     },
     "execution_count": 4,
     "metadata": {},
     "output_type": "execute_result"
    },
    {
     "data": {
      "image/png": "[encoded data removed]",
      "text/plain": [
       "<Figure size 432x288 with 1 Axes>"
      ]
     },
     "metadata": {
      "needs_background": "light"
     },
     "output_type": "display_data"
    }
   ],
   "source": [
    "print np.mean(devs)/61.79\n",
    "\n",
    "fig, ax = plt.subplots(1,1)\n",
    "\n",
    "ax.plot(tr_moment_df['tr_phi'].loc[bin_times], np.array(devs)/61.79, '.', markersize=3)\n",
    "# ax2 = ax.twinx()\n",
    "# ax2.plot(tr_moment_df_1['tr_phi'], tr_moment_df_1['tr,m1'], '.', color='C1', markersize=3)"
   ]
  },
  {
   "cell_type": "code",
   "execution_count": null,
   "metadata": {},
   "outputs": [],
   "source": []
  }
 ],
 "metadata": {
  "kernelspec": {
   "display_name": "Python 2",
   "language": "python",
   "name": "python2"
  },
  "language_info": {
   "codemirror_mode": {
    "name": "ipython",
    "version": 2
   },
   "file_extension": ".py",
   "mimetype": "text/x-python",
   "name": "python",
   "nbconvert_exporter": "python",
   "pygments_lexer": "ipython2",
   "version": "2.7.14"
  }
 },
 "nbformat": 4,
 "nbformat_minor": 2
}
