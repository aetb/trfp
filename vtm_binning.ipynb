{
 "cells": [
  {
   "cell_type": "code",
   "execution_count": null,
   "metadata": {},
   "outputs": [],
   "source": [
    "%load_ext autoreload\n",
    "%autoreload 2\n",
    "\n",
    "%matplotlib inline\n",
    "import matplotlib\n",
    "import matplotlib.pyplot as plt\n",
    "import seaborn as sns\n",
    "\n",
    "import numpy as np\n",
    "import pandas as pd\n",
    "\n",
    "from scipy.optimize import curve_fit\n",
    "\n",
    "import gm2\n",
    "import trfp\n",
    "import plotting_functions as plt2\n",
    "import analysis_helper as helper\n",
    "import helper_function_candidates as helper_old"
   ]
  },
  {
   "cell_type": "code",
   "execution_count": null,
   "metadata": {},
   "outputs": [],
   "source": [
    "def bin_vtm(vtm_df, autobin=True, start=None, end=None, dt=None):\n",
    "    \n",
    "    if autobin:\n",
    "        dt = 1000\n",
    "        start = np.ceil(vtm_df.index.values[0]/dt)*dt\n",
    "        end = np.floor(vtm_df.index.values[-1]/dt)*dt\n",
    "        \n",
    "    bin_edges = np.arange(start, end+dt, dt)\n",
    "    bin_centers = np.arange(start, end, dt)+dt/2\n",
    "        \n",
    "    bin_df = vtm_df.groupby(pd.cut(vtm_df.index, bin_edges)).mean()\n",
    "    bin_df.index = bin_centers\n",
    "    return bin_df\n",
    "\n",
    "def azi_avg_vtm(bin_df):\n",
    "    azi_avg_df = pd.DataFrame(np.zeros((bin_df.shape[0],6)),\n",
    "                              index = bin_df.index,\n",
    "                              columns = ['m' + str(m) for m in np.arange(6)+1])\n",
    "\n",
    "    for m in range(5):\n",
    "        weight = (trfp.STATION_BARCODE_EDGES[1:] - trfp.STATION_BARCODE_EDGES[:-1])%360\n",
    "        total_weight = np.nansum(weight)\n",
    "        stm_list = ['st'+str(st)+',m'+str(m+1) for st in np.arange(72)]\n",
    "        azi_avg_df['m'+str(m+1)] = bin_df[stm_list].multiply(weight).sum(axis=1)/total_weight\n",
    "        \n",
    "    return azi_avg_df\n"
   ]
  },
  {
   "cell_type": "code",
   "execution_count": null,
   "metadata": {},
   "outputs": [],
   "source": [
    "vtm_dict = {'60hr':['vtm_1'],\n",
    "            '9day':['vtm_1', 'vtm_2', 'vtm_3', 'vtm_4'],\n",
    "            'endgame':['vtm_2', 'vtm_3', 'vtm_4', 'vtm_5', 'vtm_6'],\n",
    "            'highkick':['vtm_1', 'vtm_2']}"
   ]
  },
  {
   "cell_type": "code",
   "execution_count": null,
   "metadata": {},
   "outputs": [],
   "source": [
    "filename = 'endgame_vtms_unblinded_2020-04-15'\n",
    "bloch_filename = 'endgame_blochlike_vtms_unblinded_2020-04-15'\n",
    "vtm = 'vtm_2'\n",
    "\n",
    "in_file = 'hdf5/' + filename +'.h5'\n",
    "out_file = 'utility_files/' + filename + '_' + vtm + '.csv'\n",
    "\n",
    "bloch_in_file = 'hdf5/' + bloch_filename +'.h5'\n",
    "bloch_out_file = 'utility_files/' + bloch_filename + '_' + vtm + '.csv'\n",
    "\n",
    "vtm_binned_df = bin_vtm(pd.read_hdf(in_file, key=vtm), autobin=True)\n",
    "vtm_binned_df_bloch = bin_vtm(pd.read_hdf(bloch_in_file, key=vtm), autobin=True)\n",
    "\n",
    "avg_df = azi_avg_vtm(vtm_binned_df)\n",
    "avg_df_bloch = azi_avg_vtm(vtm_binned_df_bloch)\n",
    "\n",
    "avg_df.to_csv(out_file)\n",
    "avg_df_bloch.to_csv(bloch_out_file)"
   ]
  },
  {
   "cell_type": "code",
   "execution_count": null,
   "metadata": {},
   "outputs": [],
   "source": [
    "m = 'm1'\n",
    "\n",
    "fig, axs = plt.subplots(2,1)\n",
    "\n",
    "axs[0].plot(avg_df.index.values, avg_df[m], '.', label='purcell')\n",
    "axs[0].plot(avg_df_bloch.index.values, avg_df_bloch[m], '.', label='bloch-like')\n",
    "axs[0].set_ylabel('(Hz)')\n",
    "axs[0].legend()\n",
    "\n",
    "axs[1].plot(avg_df.index.values, avg_df_bloch[m]-avg_df[m], '.')\n",
    "axs[1].set_ylabel('Difference (Hz)')\n",
    "\n",
    "# axs[1].plot(avg_df.index.values, avg_df_bloch[m]-avg_df[m] + 2.68* vtm_binned_df['st5,m5'].values/72 , '.')\n",
    "# axs[1].set_ylabel('Difference (Hz)')\n",
    "\n",
    "# axs[2].plot(vtm_binned_df.index.values, vtm_binned_df['st5,m5'].values, '.')\n",
    "\n",
    "fig.set_size_inches(12,9)\n",
    "fig.tight_layout()"
   ]
  },
  {
   "cell_type": "code",
   "execution_count": null,
   "metadata": {},
   "outputs": [],
   "source": [
    "# old_bloch = np.loadtxt('utility_files/9day_blochlike_vtms_2020-04-01_vtm_2.csv', skiprows=1, delimiter=',')\n",
    "# old_purcell = np.loadtxt('utility_files/9day_blochlike_vtms_2020-03-03_vtm_2.csv', skiprows=1, delimiter=',')\n",
    "\n",
    "# fig, axs = plt.subplots(2,1)\n",
    "\n",
    "# axs[0].plot(old_purcell[:,0], old_purcell[:,1], '.', label='old')\n",
    "# axs[0].plot(old_bloch[:,0], old_bloch[:,1], '.', label='new')\n",
    "# axs[0].set_ylabel('(Hz)')\n",
    "# axs[0].legend()\n",
    "\n",
    "# axs[1].plot(old_purcell[:,0], old_bloch[:,1]-old_purcell[:,1], '.')\n",
    "# axs[1].set_ylabel('Difference (Hz)')\n",
    "\n",
    "# # axs[1].plot(avg_df.index.values, avg_df_bloch[m]-avg_df[m] + 2.68* vtm_binned_df['st5,m5'].values/72 , '.')\n",
    "# # axs[1].set_ylabel('Difference (Hz)')\n",
    "\n",
    "# # axs[2].plot(vtm_binned_df.index.values, vtm_binned_df['st5,m5'].values, '.')\n",
    "\n",
    "# fig.set_size_inches(12,9)\n",
    "# fig.tight_layout()"
   ]
  },
  {
   "cell_type": "code",
   "execution_count": null,
   "metadata": {},
   "outputs": [],
   "source": [
    "# avg_df.to_csv('utility_files/9day_2020-03-03.csv')\n",
    "# avg_df_bloch.to_csv('utility_files/9day_blochlike_2020-03-03.h5')"
   ]
  },
  {
   "cell_type": "code",
   "execution_count": null,
   "metadata": {},
   "outputs": [],
   "source": [
    "fig, axs = plt.subplots(2,1)\n",
    "\n",
    "axs[0].plot(avg_df.index.values, avg_df['m1'], '.')\n",
    "axs[0].plot(avg_df_bloch.index.values, avg_df_bloch['m1'], '.')\n",
    "\n",
    "axs[1].plot(avg_df.index.values, avg_df_bloch['m1']-avg_df['m1'], '.')\n",
    "\n",
    "fig.set_size_inches(12,8)\n",
    "fig.tight_layout()"
   ]
  },
  {
   "cell_type": "code",
   "execution_count": null,
   "metadata": {},
   "outputs": [],
   "source": [
    "old_df = pd.read_csv('utility_files/9day_blochlike_vtms_2020-03-03_vtm_2.csv', index_col=0)\n",
    "\n",
    "fig, axs = plt.subplots(2,1)\n",
    "\n",
    "axs[0].plot(old_df.index.values, old_df['m1'], '.')\n",
    "axs[0].plot(avg_df_bloch.index.values, avg_df_bloch['m1'], '.')\n",
    "\n",
    "axs[1].plot(avg_df.index.values, avg_df_bloch['m1']-old_df['m1'], '.')\n",
    "\n",
    "fig.set_size_inches(12,8)\n",
    "fig.tight_layout()"
   ]
  },
  {
   "cell_type": "code",
   "execution_count": null,
   "metadata": {},
   "outputs": [],
   "source": []
  },
  {
   "cell_type": "code",
   "execution_count": null,
   "metadata": {},
   "outputs": [],
   "source": [
    "for dataset in vtm_dict:\n",
    "    print 'Dataset: ' + dataset\n",
    "    input_filename = 'hdf5/'+dataset+'_moments_blinded_sanitized.h5'\n",
    "    for key in vtm_dict[dataset]:\n",
    "        print '\\tKey: '+ key\n",
    "        azi_avg_df = azi_avg_vtm(bin_vtm(pd.read_hdf(input_filename, key=key)))\n",
    "        output_filename = 'hdf5/comparison/'+dataset+'_'+key+'_comparison.csv'\n",
    "        azi_avg_df.to_csv(output_filename, float_format='%.2f')"
   ]
  },
  {
   "cell_type": "code",
   "execution_count": null,
   "metadata": {},
   "outputs": [],
   "source": []
  },
  {
   "cell_type": "code",
   "execution_count": null,
   "metadata": {},
   "outputs": [],
   "source": []
  },
  {
   "cell_type": "code",
   "execution_count": null,
   "metadata": {},
   "outputs": [],
   "source": [
    "vtm_df=pd.read_hdf('hdf5/9day_vtms_2020-03-03.h5', key='vtm_2')"
   ]
  },
  {
   "cell_type": "code",
   "execution_count": null,
   "metadata": {},
   "outputs": [],
   "source": [
    "azi_avg_df = azi_avg_vtm(vtm_df)"
   ]
  },
  {
   "cell_type": "code",
   "execution_count": null,
   "metadata": {},
   "outputs": [],
   "source": [
    "import allantools"
   ]
  },
  {
   "cell_type": "code",
   "execution_count": null,
   "metadata": {},
   "outputs": [],
   "source": [
    "taus_in = np.round(np.power(10, np.arange(0,5,0.05)))\n",
    "\n",
    "fig, axs = plt.subplots(1,1)\n",
    "\n",
    "taus, adev, _, _ = allantools.oadev(azi_avg_df['m1'].values, data_type='freq', rate=1, taus=taus_in)\n",
    "axs.loglog(taus, adev, '.')\n",
    "\n",
    "axs.set_xlabel('Averaging time (sec)')\n",
    "axs.set_ylabel('Allan deviation (Hz)')\n",
    "axs.set_title('Sample Allan deviation (9day pair 2)')\n",
    "fig.set_size_inches(8,6)\n",
    "fig.tight_layout()"
   ]
  },
  {
   "cell_type": "code",
   "execution_count": null,
   "metadata": {},
   "outputs": [],
   "source": []
  }
 ],
 "metadata": {
  "kernelspec": {
   "display_name": "Python 2",
   "language": "python",
   "name": "python2"
  },
  "language_info": {
   "codemirror_mode": {
    "name": "ipython",
    "version": 2
   },
   "file_extension": ".py",
   "mimetype": "text/x-python",
   "name": "python",
   "nbconvert_exporter": "python",
   "pygments_lexer": "ipython2",
   "version": "2.7.5"
  }
 },
 "nbformat": 4,
 "nbformat_minor": 2
}
