{
 "cells": [
  {
   "cell_type": "code",
   "execution_count": 1,
   "metadata": {},
   "outputs": [
    {
     "name": "stdout",
     "output_type": "stream",
     "text": [
      "Welcome to JupyROOT 6.22/02\n"
     ]
    }
   ],
   "source": [
    "%load_ext autoreload\n",
    "%autoreload 2\n",
    "\n",
    "%matplotlib inline\n",
    "import matplotlib\n",
    "import matplotlib.pyplot as plt\n",
    "import seaborn as sns\n",
    "\n",
    "import numpy as np\n",
    "import pandas as pd\n",
    "\n",
    "from scipy.optimize import curve_fit\n",
    "\n",
    "import gm2\n",
    "import trfp\n",
    "import plotting_functions as plt2\n",
    "# import analysis_helper as helper\n",
    "# import helper_function_candidates as helper_old\n",
    "# import df_analysis_funcs as df_func\n",
    "import helper_functions as helper\n",
    "\n",
    "import field_map_config_run1 as map_config\n",
    "\n",
    "from IPython.display import clear_output\n",
    "\n",
    "pair_dict = map_config.pair_dict\n",
    "\n",
    "def gaussian(x, A, s, x0):\n",
    "    return A*np.exp(-(x-x0)**2/2/s**2)\n",
    "\n",
    "def cor_to_cov(cor, sigma_a): return np.matmul(np.diag(sigma_a), np.matmul(cor, np.diag(sigma_a)))"
   ]
  },
  {
   "cell_type": "code",
   "execution_count": 2,
   "metadata": {},
   "outputs": [],
   "source": [
    "sync_offset_df = pd.read_hdf('/data2/aetb/2021-01-12_hybrid_sync_offset_df.h5', key='sync_offset_df')\n",
    "bloch_runs = ['run_1a1', 'run_1b1', 'run_1b2', 'run_1c1', 'run_1c2', 'run_1c3', 'run_1d3', 'run_1d4', 'run_1d5']\n",
    "sync_offset_df = sync_offset_df.loc[bloch_runs]"
   ]
  },
  {
   "cell_type": "code",
   "execution_count": 5,
   "metadata": {},
   "outputs": [],
   "source": [
    "## Hybrid rates\n",
    "\n",
    "rates = np.empty((72*9,9))\n",
    "                 \n",
    "for m in range(9):\n",
    "    _ = np.array([])\n",
    "    for st in range(72):\n",
    "        _ = np.append(_, (sync_offset_df['st'+str(st)+',m'+str(m+1)]/sync_offset_df['st'+str(st)+',dt']**0.5).values)\n",
    "    rates[:,m] = _\n",
    "    \n",
    "## dipole rates\n",
    "stm = ['st'+str(st)+',m1' for st in range(72)]\n",
    "stdt = ['st'+str(st)+',dt' for st in range(72)]\n",
    "d_rates = sync_offset_df[stm].values/sync_offset_df[stdt].values**0.5\n",
    "\n",
    "st_d_rates = np.sqrt(np.mean(d_rates**2, axis=0))\n",
    "\n",
    "## compare my sync offsets to Bloch's\n",
    "\n",
    "stms = ['st'+str(st)+',m1' for st in range(72)]\n",
    "\n",
    "bloch_syncs = np.genfromtxt('sync_offsets_bloch_run1.txt', delimiter=',', skip_header=1)\n",
    "bloch_syncs = -1*bloch_syncs[:,2:]\n",
    "\n",
    "bloch_rates = (np.matmul(bloch_syncs.T, np.diag(sync_offset_df['st0,dt'].loc[bloch_runs].values**-0.5))*61.79).T\n",
    "\n",
    "st_bloch_rates = np.sqrt(np.mean(bloch_rates**2, axis=0))"
   ]
  },
  {
   "cell_type": "code",
   "execution_count": 63,
   "metadata": {},
   "outputs": [
    {
     "data": {
      "image/png": "[encoded data removed]",
      "text/plain": [
       "<Figure size 720x432 with 4 Axes>"
      ]
     },
     "metadata": {
      "needs_background": "light"
     },
     "output_type": "display_data"
    }
   ],
   "source": [
    "x = np.linspace(-0.75, 0.75, 1000)\n",
    "y = np.zeros(x.size)\n",
    "for width in st_d_rates:\n",
    "    y += gaussian(x, 1, width/2, 0)\n",
    "\n",
    "fig1, axs1 = plt.subplots(2,2)\n",
    "_ = axs1[0,0].hist(d_rates.flatten(), bins=100)\n",
    "_ = axs1[1,0].hist(d_rates.flatten(), bins=100)\n",
    "axs1[1,0].plot(x, 1*y, '.', ms=2)\n",
    "\n",
    "\n",
    "\n",
    "x = np.linspace(-0.75, 0.75, 1000)\n",
    "y = np.zeros(x.size)\n",
    "for width in st_bloch_rates:\n",
    "    y += gaussian(x, 1, width/2, 0)\n",
    "_ = axs1[0,1].hist(bloch_rates.flatten(), bins=100)\n",
    "_ = axs1[1,1].hist(bloch_rates.flatten(), bins=100)\n",
    "axs1[1,1].plot(x, 0.8*y, '.', ms=2)\n",
    "\n",
    "\n",
    "axs1[0,0].set_title('Hybrid')\n",
    "axs1[0,1].set_title('Bloch')\n",
    "axs1[1,0].set_xlabel('rate (Hz/root-sec)')\n",
    "axs1[1,1].set_xlabel('rate (Hz/root-sec)')\n",
    "\n",
    "for row in axs1:\n",
    "    for ax in row:\n",
    "        ax.set_xlim(-0.75, 0.75)\n",
    "\n",
    "fig1.set_size_inches(10,6)\n",
    "fig1.tight_layout()\n"
   ]
  },
  {
   "cell_type": "code",
   "execution_count": 9,
   "metadata": {},
   "outputs": [],
   "source": [
    "## need my correlation matrix\n",
    "## use sync offsets by station to estimate correlation matrices for each moment\n",
    "\n",
    "cor_matrices = np.empty((72,72,9))\n",
    "\n",
    "for m in range(9):\n",
    "\n",
    "    correlations = np.empty((11,72))\n",
    "\n",
    "    for dataset in range(9):\n",
    "\n",
    "        a = sync_offset_df[['st'+str(st)+',m'+str(m+1) for st in range(72)]].iloc[dataset].values\n",
    "\n",
    "        correlation = np.empty(72)\n",
    "\n",
    "        for ii in range(72):\n",
    "            correlation[ii] = a.dot(np.roll(a, ii))\n",
    "        correlations[dataset,:] = correlation/np.max(correlation)\n",
    "\n",
    "    # plt.errorbar(np.arange(36), np.mean(correlations, axis=0)[0:36], np.std(correlations, axis=0)[0:36], fmt='.')\n",
    "    # plt.hlines(0,0,36,color='r')\n",
    "    # plt.plot(np.arange(36), np.power(mean_corr[1],np.arange(36)))\n",
    "\n",
    "    mean_corr = np.mean(correlations, axis=0)\n",
    "\n",
    "    cor_matrix = np.diag(np.ones(72), 0)\n",
    "\n",
    "    for ii in range(1,20):\n",
    "        cor_matrix += np.roll(np.diag(np.full(72, mean_corr[1]**ii)), ii, axis=0)\n",
    "        cor_matrix += np.roll(np.diag(np.full(72, mean_corr[1]**ii)), -ii, axis=0)\n",
    "\n",
    "    cor_matrices[:,:,m] = cor_matrix\n",
    "\n",
    "d_corr = cor_matrices[:,:,0]"
   ]
  },
  {
   "cell_type": "code",
   "execution_count": 93,
   "metadata": {},
   "outputs": [
    {
     "name": "stdout",
     "output_type": "stream",
     "text": [
      "Hybrid\n",
      "0.0002440148957033999 Hz^2/sec\n",
      "0.015620976144383548 Hz/root-sec\n",
      "15.168450698543664 ppb/root-hr\n",
      "\n",
      "Bloch\n",
      "9.926737508654735e-05 Hz^2/sec\n",
      "0.009963301415020392 Hz/root-sec\n",
      "9.674673651096027 ppb/root-hr\n",
      "\n",
      "Fake, given station walk rate of 60 ppb/root-hr\n",
      "9.620398771975191 ppb/root-hr\n",
      "\n",
      "Fake, given station walk rate of 94.6 ppb/root-hr\n",
      "15.168162063814218 ppb/root-hr\n"
     ]
    }
   ],
   "source": [
    "d_cov = cor_to_cov(d_corr, st_d_rates)\n",
    "b_cov = cor_to_cov(d_corr, st_bloch_rates)\n",
    "\n",
    "weights = np.full(72, 1./72.)\n",
    "\n",
    "print 'Hybrid'\n",
    "print np.dot(weights, np.dot(d_cov, weights)), 'Hz^2/sec'\n",
    "print np.dot(weights, np.dot(d_cov, weights))**0.5, 'Hz/root-sec'\n",
    "print np.dot(weights, np.dot(d_cov, weights))**0.5 * (1000/61.79) * np.sqrt(3600), 'ppb/root-hr'\n",
    "print\n",
    "print 'Bloch'\n",
    "print np.dot(weights, np.dot(b_cov, weights)), 'Hz^2/sec'\n",
    "print np.dot(weights, np.dot(b_cov, weights))**0.5, 'Hz/root-sec'\n",
    "print np.dot(weights, np.dot(b_cov, weights))**0.5 * (1000/61.79) * np.sqrt(3600), 'ppb/root-hr'\n",
    "\n",
    "fake_rate = 60\n",
    "fake_rates = np.full(72, fake_rate)\n",
    "fake_cov = cor_to_cov(d_corr, fake_rates)\n",
    "print \n",
    "print 'Fake, given station walk rate of', fake_rate, 'ppb/root-hr'\n",
    "print np.dot(weights, np.dot(fake_cov, weights))**0.5, 'ppb/root-hr'\n",
    "\n",
    "fake_rate = 94.6\n",
    "fake_rates = np.full(72, fake_rate)\n",
    "fake_cov = cor_to_cov(d_corr, fake_rates)\n",
    "print \n",
    "print 'Fake, given station walk rate of', fake_rate, 'ppb/root-hr'\n",
    "print np.dot(weights, np.dot(fake_cov, weights))**0.5, 'ppb/root-hr'"
   ]
  },
  {
   "cell_type": "code",
   "execution_count": 62,
   "metadata": {},
   "outputs": [
    {
     "data": {
      "text/plain": [
       "[<matplotlib.lines.Line2D at 0x7f60b49dd890>]"
      ]
     },
     "execution_count": 62,
     "metadata": {},
     "output_type": "execute_result"
    },
    {
     "data": {
      "image/png": "[encoded data removed]",
      "text/plain": [
       "<Figure size 432x288 with 1 Axes>"
      ]
     },
     "metadata": {
      "needs_background": "light"
     },
     "output_type": "display_data"
    }
   ],
   "source": [
    "fig3, axs3 = plt.subplots(1)\n",
    "_ = axs3.hist(m_rates.flatten()*1000/61.79*np.sqrt(3600), bins=100)\n",
    "axs3.set_xlabel('Rate (ppb/root-hr)')\n",
    "\n",
    "x = np.linspace(_[1][0], _[1][-1], 1000)\n",
    "y = np.zeros(x.size)\n",
    "\n",
    "for width in st_m_rates*1000/61.79*np.sqrt(3600):\n",
    "    y += gaussian(x, 1, width/2, 0)\n",
    "\n",
    "axs3.plot(x, 0.9*y)"
   ]
  },
  {
   "cell_type": "code",
   "execution_count": 94,
   "metadata": {},
   "outputs": [
    {
     "data": {
      "text/plain": [
       "Text(0.5,1,'summed gaussian 94.6 ppb')"
      ]
     },
     "execution_count": 94,
     "metadata": {},
     "output_type": "execute_result"
    },
    {
     "data": {
      "image/png": "[encoded data removed]",
      "text/plain": [
       "<Figure size 432x288 with 1 Axes>"
      ]
     },
     "metadata": {
      "needs_background": "light"
     },
     "output_type": "display_data"
    }
   ],
   "source": [
    "fig4, axs4 = plt.subplots(1)\n",
    "counts, bins, _ = axs4.hist(m_rates.flatten()*1000/61.79*np.sqrt(3600), bins=100)\n",
    "axs4.set_xlabel('Rate (ppb/root-hr)')\n",
    "bins = (bins[:-1] + bins[1:])/2\n",
    "\n",
    "rate_ppb = m_rates.flatten()*1000/61.79*np.sqrt(3600)\n",
    "\n",
    "# width = np.std(m_rates.flatten()*1000/61.79*np.sqrt(3600))\n",
    "# width = (np.quantile(rate_ppb, .5+.341) - np.quantile(rate_ppb, .5-.341))/2\n",
    "\n",
    "# p, _ = curve_fit(gaussian, bins, counts, p0=[60,60,0])\n",
    "# width = p[1]\n",
    "# axs4.plot(bins, gaussian(bins, *p))\n",
    "\n",
    "width = 94.6\n",
    "\n",
    "axs4.vlines([-width, width], 0, 72, linestyle='dashed', color='C1')\n",
    "\n",
    "axs4.set_title('summed gaussian '+str(np.round(width, 1))+' ppb')"
   ]
  },
  {
   "cell_type": "code",
   "execution_count": 79,
   "metadata": {},
   "outputs": [
    {
     "data": {
      "text/plain": [
       "(array([ 1.,  0.,  1.,  0.,  0.,  1.,  0.,  0.,  0.,  0.,  1.,  0.,  1.,\n",
       "         0.,  3.,  2.,  1.,  1.,  4.,  2.,  0.,  0.,  2.,  6.,  3.,  3.,\n",
       "         4.,  8.,  4.,  7.,  7.,  7.,  8., 12., 24., 28., 49., 37., 47.,\n",
       "        67., 60., 49., 43., 26., 24., 15., 12.,  9., 13., 10., 10.,  3.,\n",
       "         5.,  6.,  2.,  2.,  1.,  3.,  0.,  1.,  1.,  0.,  2.,  1.,  1.,\n",
       "         1.,  0.,  1.,  0.,  1.,  0.,  0.,  0.,  0.,  0.,  1.,  0.,  0.,\n",
       "         0.,  0.,  0.,  1.,  0.,  0.,  0.,  0.,  0.,  0.,  0.,  1.,  0.,\n",
       "         1.,  0.,  0.,  0.,  0.,  0.,  0.,  0.,  1.]),\n",
       " array([-466.52534613, -454.89819732, -443.27104852, -431.64389971,\n",
       "        -420.01675091, -408.38960211, -396.7624533 , -385.1353045 ,\n",
       "        -373.50815569, -361.88100689, -350.25385808, -338.62670928,\n",
       "        -326.99956047, -315.37241167, -303.74526287, -292.11811406,\n",
       "        -280.49096526, -268.86381645, -257.23666765, -245.60951884,\n",
       "        -233.98237004, -222.35522123, -210.72807243, -199.10092363,\n",
       "        -187.47377482, -175.84662602, -164.21947721, -152.59232841,\n",
       "        -140.9651796 , -129.3380308 , -117.71088199, -106.08373319,\n",
       "         -94.45658438,  -82.82943558,  -71.20228678,  -59.57513797,\n",
       "         -47.94798917,  -36.32084036,  -24.69369156,  -13.06654275,\n",
       "          -1.43939395,   10.18775486,   21.81490366,   33.44205246,\n",
       "          45.06920127,   56.69635007,   68.32349888,   79.95064768,\n",
       "          91.57779649,  103.20494529,  114.8320941 ,  126.4592429 ,\n",
       "         138.0863917 ,  149.71354051,  161.34068931,  172.96783812,\n",
       "         184.59498692,  196.22213573,  207.84928453,  219.47643334,\n",
       "         231.10358214,  242.73073094,  254.35787975,  265.98502855,\n",
       "         277.61217736,  289.23932616,  300.86647497,  312.49362377,\n",
       "         324.12077258,  335.74792138,  347.37507018,  359.00221899,\n",
       "         370.62936779,  382.2565166 ,  393.8836654 ,  405.51081421,\n",
       "         417.13796301,  428.76511182,  440.39226062,  452.01940943,\n",
       "         463.64655823,  475.27370703,  486.90085584,  498.52800464,\n",
       "         510.15515345,  521.78230225,  533.40945106,  545.03659986,\n",
       "         556.66374867,  568.29089747,  579.91804627,  591.54519508,\n",
       "         603.17234388,  614.79949269,  626.42664149,  638.0537903 ,\n",
       "         649.6809391 ,  661.30808791,  672.93523671,  684.56238551,\n",
       "         696.18953432]),\n",
       " <a list of 100 Patch objects>)"
      ]
     },
     "execution_count": 79,
     "metadata": {},
     "output_type": "execute_result"
    }
   ],
   "source": [
    "_hist"
   ]
  },
  {
   "cell_type": "code",
   "execution_count": 57,
   "metadata": {},
   "outputs": [
    {
     "data": {
      "image/png": "[encoded data removed]",
      "text/plain": [
       "<Figure size 576x432 with 2 Axes>"
      ]
     },
     "metadata": {
      "needs_background": "light"
     },
     "output_type": "display_data"
    }
   ],
   "source": [
    "## check if this works for higher order moments\n",
    "\n",
    "m = 1\n",
    "\n",
    "stm = ['st'+str(st)+',m'+str(m) for st in range(72)]\n",
    "stdt = ['st'+str(st)+',dt' for st in range(72)]\n",
    "m_rates = sync_offset_df[stm].values/sync_offset_df[stdt].values**0.5\n",
    "st_m_rates = np.sqrt(np.mean(m_rates**2, axis=0))\n",
    "m_corr = cor_matrices[:,:,m-1]\n",
    "\n",
    "fig2, axs2 = plt.subplots(2,1)\n",
    "_ = axs2[0].hist(m_rates.flatten(), bins=100)\n",
    "\n",
    "x = np.linspace(_[1][0], _[1][-1], 1000)\n",
    "y = np.zeros(x.size)\n",
    "\n",
    "for width in st_m_rates:\n",
    "    y += gaussian(x, 1, width/2, 0)\n",
    "\n",
    "\n",
    "_ = axs2[1].hist(m_rates.flatten(), bins=100)\n",
    "axs2[1].plot(x, y, '.', ms=2)\n",
    "\n",
    "fig2.set_size_inches(8,6)\n",
    "fig2.tight_layout()"
   ]
  },
  {
   "cell_type": "code",
   "execution_count": 51,
   "metadata": {},
   "outputs": [],
   "source": [
    "weights = np.full(72, 1./72.)\n",
    "m_rates2 = np.empty(9)\n",
    "for m in range(1,10):\n",
    "    stm = ['st'+str(st)+',m'+str(m) for st in range(72)]\n",
    "    stdt = ['st'+str(st)+',dt' for st in range(72)]\n",
    "    m_rates = sync_offset_df[stm].values/sync_offset_df[stdt].values**0.5\n",
    "    st_m_rates = np.sqrt(np.mean(m_rates**2, axis=0))\n",
    "    m_corr = cor_matrices[:,:,m-1]\n",
    "    m_cov = cor_to_cov(m_corr, st_m_rates)\n",
    "    m_rates2[m-1] = np.dot(weights, np.dot(m_cov, weights))"
   ]
  },
  {
   "cell_type": "code",
   "execution_count": 54,
   "metadata": {},
   "outputs": [
    {
     "name": "stdout",
     "output_type": "stream",
     "text": [
      "[2.44014896e-04 7.17449706e-06 5.59795368e-06 2.47117990e-06\n",
      " 2.46906322e-05 4.98031485e-07 2.35577632e-06 1.32677020e-06\n",
      " 2.73315706e-06]\n"
     ]
    }
   ],
   "source": [
    "old_rates = np.array([1.17615626e-04, 3.89509569e-06, 2.03150011e-06, 9.59640992e-07,\n",
    "                  1.13004927e-05, 2.93817458e-07, 6.89674412e-07, 5.13120763e-07,\n",
    "                  8.01024156e-07])\n",
    "print m_rates2"
   ]
  },
  {
   "cell_type": "code",
   "execution_count": 55,
   "metadata": {},
   "outputs": [
    {
     "data": {
      "text/plain": [
       "array([2.07468092, 1.84193089, 2.75557636, 2.57510873, 2.18491644,\n",
       "       1.69503708, 3.41578038, 2.585688  , 3.4120782 ])"
      ]
     },
     "execution_count": 55,
     "metadata": {},
     "output_type": "execute_result"
    }
   ],
   "source": [
    "m_rates2/old_rates"
   ]
  },
  {
   "cell_type": "code",
   "execution_count": 56,
   "metadata": {},
   "outputs": [
    {
     "name": "stdout",
     "output_type": "stream",
     "text": [
      "[ 0.0002440148957033999 , 7.174497059079315e-06 , 5.597953677893461e-06 , 2.471179896215746e-06 , 2.469063223225018e-05 , 4.98031484960896e-07 , 2.3557763230871967e-06 , 1.3267701986068543e-06 , 2.733157063334935e-06 , ]\n"
     ]
    }
   ],
   "source": [
    "print '[',\n",
    "for _ in m_rates2: print _, ',',\n",
    "print ']'"
   ]
  },
  {
   "cell_type": "code",
   "execution_count": null,
   "metadata": {},
   "outputs": [],
   "source": []
  }
 ],
 "metadata": {
  "kernelspec": {
   "display_name": "Python 2",
   "language": "python",
   "name": "python2"
  },
  "language_info": {
   "codemirror_mode": {
    "name": "ipython",
    "version": 2
   },
   "file_extension": ".py",
   "mimetype": "text/x-python",
   "name": "python",
   "nbconvert_exporter": "python",
   "pygments_lexer": "ipython2",
   "version": "2.7.5"
  }
 },
 "nbformat": 4,
 "nbformat_minor": 2
}
