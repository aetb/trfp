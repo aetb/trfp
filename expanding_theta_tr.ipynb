{
 "cells": [
  {
   "cell_type": "code",
   "execution_count": 1,
   "metadata": {},
   "outputs": [
    {
     "name": "stdout",
     "output_type": "stream",
     "text": [
      "Welcome to JupyROOT 6.22/02\n"
     ]
    }
   ],
   "source": [
    "%load_ext autoreload\n",
    "%autoreload 2\n",
    "\n",
    "%matplotlib inline\n",
    "import matplotlib\n",
    "import matplotlib.pyplot as plt\n",
    "import seaborn as sns\n",
    "\n",
    "import numpy as np\n",
    "import pandas as pd\n",
    "\n",
    "from scipy.optimize import curve_fit\n",
    "\n",
    "import gm2\n",
    "import trfp\n",
    "import plotting_functions as plt2\n",
    "import analysis_helper as helper\n",
    "import helper_function_candidates as helper_old"
   ]
  },
  {
   "cell_type": "code",
   "execution_count": 4,
   "metadata": {},
   "outputs": [],
   "source": [
    "def __multipole(order, skew, strength, x_pos, y_pos):\n",
    "    \"\"\"Returns the magnitude of a B-field given multipole parameters\n",
    "    and position.\n",
    "    \"\"\"\n",
    "    # Takes a multipole strength A normalized to 4.5 cm\n",
    "    r_pos = np.sqrt(x_pos**2 + y_pos**2)\n",
    "    theta = np.arctan2(y_pos, x_pos)\n",
    "    if skew == 0:\n",
    "        b_magnitude = strength * (r_pos/4.5)**order * np.cos(order*theta)\n",
    "    if skew == 1:\n",
    "        b_magnitude = strength * (r_pos/4.5)**order * np.sin(order*theta)\n",
    "    return b_magnitude"
   ]
  },
  {
   "cell_type": "code",
   "execution_count": 5,
   "metadata": {},
   "outputs": [],
   "source": [
    "_MULTIPOLE_ORDER = [0, 1, 1, 2, 2, 3, 3, 4, 4, 5, 5, 6, 7, 7]\n",
    "_MULTIPOLE_SKEW = [0, 0, 1, 1, 0, 1, 0, 0, 1, 0, 1, 0, 0, 1]\n",
    "_MULTS = np.array([__multipole(_MULTIPOLE_ORDER[i], _MULTIPOLE_SKEW[i], 1, trfp.TR_X, trfp.TR_Y) for i in range(14)])\n",
    "_MULTS[np.abs(_MULTS) < 1.0e-9] = 0 \n",
    "\n",
    "THETA_TR = np.linalg.pinv(np.transpose(_MULTS))\n",
    "THETA_TR = np.insert(THETA_TR, 12, np.zeros(17), 0)\n",
    "THETA_TR = np.append(THETA_TR, np.zeros([2,17]), 0)\n",
    "THETA_TR[np.abs(THETA_TR) < 1.0e-9] = 0"
   ]
  },
  {
   "cell_type": "code",
   "execution_count": 7,
   "metadata": {},
   "outputs": [
    {
     "name": "stdout",
     "output_type": "stream",
     "text": [
      "(17, 17)\n"
     ]
    }
   ],
   "source": [
    "print THETA_TR.shape"
   ]
  },
  {
   "cell_type": "code",
   "execution_count": null,
   "metadata": {},
   "outputs": [],
   "source": []
  },
  {
   "cell_type": "code",
   "execution_count": 12,
   "metadata": {},
   "outputs": [],
   "source": [
    "_MULTIPOLE_ORDER = [0, 1, 1, 2, 2, 3, 3, 4, 4, 5, 5, 6, 7, 7, 8, 10, 12]\n",
    "_MULTIPOLE_SKEW = [0, 0, 1, 1, 0, 1, 0, 0, 1, 0, 1, 0, 0, 1, 0, 0, 0]\n",
    "_MULTS = np.array([__multipole(_MULTIPOLE_ORDER[i], _MULTIPOLE_SKEW[i], 1, trfp.TR_X, trfp.TR_Y) for i in range(17)])\n",
    "_MULTS[np.abs(_MULTS) < 1.0e-9] = 0 \n",
    "\n",
    "THETA_TR_2 = np.linalg.inv(np.transpose(_MULTS))\n",
    "THETA_TR_2[np.abs(THETA_TR_2) < 1.0e-9] = 0"
   ]
  },
  {
   "cell_type": "code",
   "execution_count": 15,
   "metadata": {},
   "outputs": [
    {
     "name": "stdout",
     "output_type": "stream",
     "text": [
      "[[ 1.00000000e+00  0.00000000e+00  0.00000000e+00  0.00000000e+00\n",
      "   0.00000000e+00  0.00000000e+00  0.00000000e+00  0.00000000e+00\n",
      "   0.00000000e+00  0.00000000e+00  0.00000000e+00  0.00000000e+00\n",
      "   0.00000000e+00  0.00000000e+00  0.00000000e+00  0.00000000e+00\n",
      "   0.00000000e+00]\n",
      " [ 0.00000000e+00  0.00000000e+00  0.00000000e+00  0.00000000e+00\n",
      "   0.00000000e+00  0.00000000e+00  1.07142857e-01  1.85576872e-01\n",
      "   2.14285714e-01  1.85576872e-01  1.07142857e-01  0.00000000e+00\n",
      "  -1.07142857e-01 -1.85576872e-01 -2.14285714e-01 -1.85576872e-01\n",
      "  -1.07142857e-01]\n",
      " [ 0.00000000e+00  0.00000000e+00  0.00000000e+00  0.00000000e+00\n",
      "   0.00000000e+00 -2.14285714e-01 -1.85576872e-01 -1.07142857e-01\n",
      "   0.00000000e+00  1.07142857e-01  1.85576872e-01  2.14285714e-01\n",
      "   1.85576872e-01  1.07142857e-01  0.00000000e+00 -1.07142857e-01\n",
      "  -1.85576872e-01]\n",
      " [ 0.00000000e+00  0.00000000e+00  0.00000000e+00  0.00000000e+00\n",
      "   0.00000000e+00  0.00000000e+00 -2.38598836e-01 -2.38598836e-01\n",
      "   0.00000000e+00  2.38598836e-01  2.38598836e-01  0.00000000e+00\n",
      "  -2.38598836e-01 -2.38598836e-01  0.00000000e+00  2.38598836e-01\n",
      "   2.38598836e-01]\n",
      " [ 0.00000000e+00 -1.65954382e+00  1.65954382e+00 -1.65954382e+00\n",
      "   1.65954382e+00  9.72388956e-03 -8.10324130e-03  8.10324130e-03\n",
      "  -9.72388956e-03  8.10324130e-03 -8.10324130e-03  9.72388956e-03\n",
      "  -8.10324130e-03  8.10324130e-03 -9.72388956e-03  8.10324130e-03\n",
      "  -8.10324130e-03]\n",
      " [ 0.00000000e+00  0.00000000e+00  0.00000000e+00  0.00000000e+00\n",
      "   0.00000000e+00  3.54227405e-01  0.00000000e+00 -3.54227405e-01\n",
      "   0.00000000e+00  3.54227405e-01  0.00000000e+00 -3.54227405e-01\n",
      "   0.00000000e+00  3.54227405e-01  0.00000000e+00 -3.54227405e-01\n",
      "   0.00000000e+00]\n",
      " [ 0.00000000e+00  0.00000000e+00  0.00000000e+00  0.00000000e+00\n",
      "   0.00000000e+00  0.00000000e+00 -3.54227405e-01  0.00000000e+00\n",
      "   3.54227405e-01  0.00000000e+00 -3.54227405e-01  0.00000000e+00\n",
      "   3.54227405e-01  0.00000000e+00 -3.54227405e-01  0.00000000e+00\n",
      "   3.54227405e-01]\n",
      " [-4.66251822e+01  1.16591420e+01  1.16591420e+01  1.16591420e+01\n",
      "   1.16591420e+01 -3.13111724e-02  1.42323511e-02  1.42323511e-02\n",
      "  -3.13111724e-02  1.42323511e-02  1.42323511e-02 -3.13111724e-02\n",
      "   1.42323511e-02  1.42323511e-02 -3.13111724e-02  1.42323511e-02\n",
      "   1.42323511e-02]\n",
      " [ 0.00000000e+00  0.00000000e+00  0.00000000e+00  0.00000000e+00\n",
      "   0.00000000e+00  0.00000000e+00  3.94418484e-01 -3.94418484e-01\n",
      "   0.00000000e+00  3.94418484e-01 -3.94418484e-01  0.00000000e+00\n",
      "   3.94418484e-01 -3.94418484e-01  0.00000000e+00  3.94418484e-01\n",
      "  -3.94418484e-01]\n",
      " [ 0.00000000e+00  0.00000000e+00  7.49516273e+01  0.00000000e+00\n",
      "  -7.49516273e+01  0.00000000e+00 -3.22057774e+00 -1.06492991e+01\n",
      "  -1.58101089e+01 -1.06492991e+01 -3.22057774e+00  0.00000000e+00\n",
      "   3.22057774e+00  1.06492991e+01  1.58101089e+01  1.06492991e+01\n",
      "   3.22057774e+00]\n",
      " [ 0.00000000e+00 -7.49516273e+01  0.00000000e+00  7.49516273e+01\n",
      "   0.00000000e+00  1.58101089e+01  1.06492991e+01  3.22057774e+00\n",
      "   0.00000000e+00 -3.22057774e+00 -1.06492991e+01 -1.58101089e+01\n",
      "  -1.06492991e+01 -3.22057774e+00  0.00000000e+00  3.22057774e+00\n",
      "   1.06492991e+01]\n",
      " [ 0.00000000e+00  0.00000000e+00  0.00000000e+00  0.00000000e+00\n",
      "   0.00000000e+00 -3.76431164e-01  3.76431164e-01 -3.76431164e-01\n",
      "   3.76431164e-01 -3.76431164e-01  3.76431164e-01 -3.76431164e-01\n",
      "   3.76431164e-01 -3.76431164e-01  3.76431164e-01 -3.76431164e-01\n",
      "   3.76431164e-01]\n",
      " [ 0.00000000e+00  0.00000000e+00 -1.23899629e+02  0.00000000e+00\n",
      "   1.23899629e+02  0.00000000e+00  5.80779510e+00  1.67656603e+01\n",
      "   2.71030438e+01  1.67656603e+01  5.80779510e+00  0.00000000e+00\n",
      "  -5.80779510e+00 -1.67656603e+01 -2.71030438e+01 -1.67656603e+01\n",
      "  -5.80779510e+00]\n",
      " [ 0.00000000e+00 -1.23899629e+02  0.00000000e+00  1.23899629e+02\n",
      "   0.00000000e+00  2.71030438e+01  1.67656603e+01  5.80779510e+00\n",
      "   0.00000000e+00 -5.80779510e+00 -1.67656603e+01 -2.71030438e+01\n",
      "  -1.67656603e+01 -5.80779510e+00  0.00000000e+00  5.80779510e+00\n",
      "   1.67656603e+01]\n",
      " [ 1.27408505e+02 -3.18599045e+01 -3.18599045e+01 -3.18599045e+01\n",
      "  -3.18599045e+01  1.33008879e+00 -6.61155246e-01 -6.61155246e-01\n",
      "   1.33008879e+00 -6.61155246e-01 -6.61155246e-01  1.33008879e+00\n",
      "  -6.61155246e-01 -6.61155246e-01  1.33008879e+00 -6.61155246e-01\n",
      "  -6.61155246e-01]\n",
      " [ 0.00000000e+00  1.23920877e+01 -1.23920877e+01  1.23920877e+01\n",
      "  -1.23920877e+01 -2.12989008e+00 -9.68131853e-01  9.68131853e-01\n",
      "   2.12989008e+00  9.68131853e-01 -9.68131853e-01 -2.12989008e+00\n",
      "  -9.68131853e-01  9.68131853e-01  2.12989008e+00  9.68131853e-01\n",
      "  -9.68131853e-01]\n",
      " [-2.04048606e+01  0.00000000e+00  0.00000000e+00  0.00000000e+00\n",
      "   0.00000000e+00  1.70040505e+00  1.70040505e+00  1.70040505e+00\n",
      "   1.70040505e+00  1.70040505e+00  1.70040505e+00  1.70040505e+00\n",
      "   1.70040505e+00  1.70040505e+00  1.70040505e+00  1.70040505e+00\n",
      "   1.70040505e+00]]\n"
     ]
    }
   ],
   "source": [
    "print THETA_TR_2"
   ]
  },
  {
   "cell_type": "code",
   "execution_count": null,
   "metadata": {},
   "outputs": [],
   "source": []
  },
  {
   "cell_type": "code",
   "execution_count": null,
   "metadata": {},
   "outputs": [],
   "source": [
    "def _choose_theta(st):\n",
    "    if trfp.STATION_PROBE_NUMBER[st] == 4:\n",
    "        if st == 41:\n",
    "            theta_fp = trfp.THETA_FP_4_ST41\n",
    "        elif (st == 37) | (st == 39):\n",
    "            theta_fp = trfp.THETA_FP_4_ST37_ST39\n",
    "        else:\n",
    "            theta_fp = trfp.THETA_FP_4\n",
    "    elif trfp.STATION_PROBE_NUMBER[st] == 6:\n",
    "        theta_fp = trfp.THETA_FP_6\n",
    "    else:\n",
    "        raise Exception('Invalid number of station probes.')\n",
    "    return theta_fp\n",
    "\n",
    "\n",
    "def calc_moment_df(interp_df):\n",
    "    \n",
    "    tr_run = 'tr_phi' in interp_df.columns\n",
    "    \n",
    "    moment_df = pd.DataFrame(index=interp_df.index)\n",
    "    \n",
    "    # calculate trolley moments if needed\n",
    "    if tr_run:\n",
    "        moment_df['tr_phi'] = interp_df['tr_phi'].copy()\n",
    "        print 'Calculating trolley moments.',\n",
    "        theta_tr = THETA_TR\n",
    "        for m in np.arange(17):\n",
    "            tr_probes = ['tr'+str(probe) for probe in np.arange(17)]\n",
    "            moment_df['tr,m'+str(m+1)] = interp_df[tr_probes].dot(theta_tr[m])\n",
    "\n",
    "    # create the 72*6 fixed probe moments\n",
    "    for station in np.arange(72):\n",
    "        print '\\rCalculating station ' + str(station) + ' moments.',\n",
    "        fp_st = ['fp'+str(fp) for fp in trfp.STATION_PROBE_ID[station]]\n",
    "\n",
    "        # choose proper theta matrix\n",
    "        theta_fp = _choose_theta(station)\n",
    "\n",
    "        # step through m values\n",
    "        for m in np.arange(len(trfp.STATION_PROBE_ID[station])):\n",
    "            stm = 'st'+str(station)+',m'+str(m+1)\n",
    "            moment_df[stm] = interp_df[fp_st].dot(theta_fp[m])\n",
    "        if len(trfp.STATION_PROBE_ID[station]) == 4:\n",
    "            moment_df['st'+str(station)+',m5'] = np.nan\n",
    "            moment_df['st'+str(station)+',m6'] = np.nan\n",
    "\n",
    "    # Interpolate the 6-probe m5 and m6 into the 4-probe m5 and m6        \n",
    "    for st in range(72):\n",
    "        if trfp.STATION_PROBE_NUMBER[st] == 4:\n",
    "            wt = trfp.STATION_BARCODE_PHI[(st+1)%72] - trfp.STATION_BARCODE_PHI[(st-1)%72]\n",
    "            w1 = trfp.STATION_BARCODE_PHI[(st+1)%72] - trfp.STATION_BARCODE_PHI[st]\n",
    "            w2 = trfp.STATION_BARCODE_PHI[st] - trfp.STATION_BARCODE_PHI[(st-1)%72]\n",
    "\n",
    "            for m in [5, 6]:\n",
    "                stm = 'st'+str(st)+',m'+str(m)\n",
    "                if not np.isnan(moment_df[stm].iloc[0]):\n",
    "                    print stm + ' is not nan.'\n",
    "                    continue\n",
    "                stm1 = 'st'+str((st-1)%72)+',m'+str(m)\n",
    "                stm2 = 'st'+str((st+1)%72)+',m'+str(m)\n",
    "\n",
    "                moment_df[stm] = (w1*moment_df[stm1] + w2*moment_df[stm2])/wt\n",
    "\n",
    "    print '\\rFinished calculating all moments for ' + str(moment_df.shape[0]) + ' events.'\n",
    "    \n",
    "    return moment_df"
   ]
  }
 ],
 "metadata": {
  "kernelspec": {
   "display_name": "Python 2",
   "language": "python",
   "name": "python2"
  },
  "language_info": {
   "codemirror_mode": {
    "name": "ipython",
    "version": 2
   },
   "file_extension": ".py",
   "mimetype": "text/x-python",
   "name": "python",
   "nbconvert_exporter": "python",
   "pygments_lexer": "ipython2",
   "version": "2.7.5"
  }
 },
 "nbformat": 4,
 "nbformat_minor": 2
}
