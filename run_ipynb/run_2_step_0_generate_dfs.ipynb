{
 "cells": [
  {
   "cell_type": "code",
   "execution_count": 1,
   "metadata": {},
   "outputs": [
    {
     "name": "stdout",
     "output_type": "stream",
     "text": [
      "Fixing 2d tr_df_2\n",
      "Reading event 8590/8593 99.97%       \n",
      "loop done: 100%                                    \n",
      "Reading event 3390/3395 99.85%   \n",
      "loop done: 100%                                    \n",
      "Done.\n"
     ]
    }
   ],
   "source": [
    "%load_ext autoreload\n",
    "%autoreload 2\n",
    "\n",
    "%matplotlib inline\n",
    "import matplotlib\n",
    "import matplotlib.pyplot as plt\n",
    "import seaborn as sns\n",
    "\n",
    "import numpy as np\n",
    "import pandas as pd\n",
    "\n",
    "from scipy.optimize import curve_fit\n",
    "\n",
    "import datetime\n",
    "\n",
    "import gm2\n",
    "import trfp\n",
    "\n",
    "import field_map_config_run2 as map_config\n",
    "import helper_functions as helper\n",
    "\n",
    "from IPython.display import clear_output\n",
    "\n",
    "\n",
    "## paths and dictionaries\n",
    "\n",
    "prefix = map_config.path\n",
    "sanitize = True\n",
    "\n",
    "save_dir = 'hdf5/'\n",
    "save_prefix = str(datetime.date.today())+'_run_'\n",
    "root_dict = map_config.root_dict\n",
    "\n",
    "\n",
    "## generate data frames\n",
    "\n",
    "for run in map_config.runs:\n",
    "    clear_output()\n",
    "    print 'Run:'+run+'\\n'\n",
    "    helper.save_df(root_dict[run], save_dir, save_prefix+run+'.h5', sanitize=True, prefix=prefix)\n",
    "\n",
    "\n",
    "## Need to drop first 45 point from 2c tr_df_2\n",
    "clear_output()\n",
    "print 'Fixing 2d tr_df_2'\n",
    "df = helper.root_to_pandas([6937], tr_run=True, prefix='/data1/newg2/DataProduction/Offline/ArtTFSDir/v9_52_00_dev2/FieldPlainRootOutput_')\n",
    "df = df.iloc[45:]\n",
    "df.to_hdf(save_dir+save_prefix+run+'.h5', key='tr_df_2')\n",
    "print 'Done.'\n"
   ]
  },
  {
   "cell_type": "code",
   "execution_count": null,
   "metadata": {},
   "outputs": [],
   "source": [
    "# run = '2a'\n",
    "# helper.save_df(root_dict[run], save_dir, '2021-01-11_run_' + run + '.h5', sanitize=True, prefix=prefix)"
   ]
  },
  {
   "cell_type": "code",
   "execution_count": null,
   "metadata": {},
   "outputs": [],
   "source": [
    "# run = '2b'\n",
    "# helper.save_df(root_dict[run], save_dir, '2021-01-11_run_' + run + '.h5', sanitize=True, prefix=prefix)"
   ]
  },
  {
   "cell_type": "code",
   "execution_count": null,
   "metadata": {},
   "outputs": [],
   "source": [
    "# prefix = '/data1/newg2/DataProduction/Offline/ArtTFSDir/v9_52_00_dev2/FieldPlainRootOutput_'\n",
    "\n",
    "# run = '2c'\n",
    "# helper.save_df(root_dict[run], save_dir, '2021-01-11_run_' + run + '.h5', sanitize=True, prefix=prefix)\n"
   ]
  },
  {
   "cell_type": "code",
   "execution_count": null,
   "metadata": {},
   "outputs": [],
   "source": [
    "# prefix = '/data1/newg2/DataProduction/Offline/ArtTFSDir/v9_52_00_dev2/FieldPlainRootOutput_'\n",
    "\n",
    "# run = '2d'\n",
    "# helper.save_df(root_dict[run], save_dir, '2021-01-11_run_' + run + '.h5', sanitize=True, prefix=prefix)"
   ]
  },
  {
   "cell_type": "code",
   "execution_count": null,
   "metadata": {},
   "outputs": [],
   "source": [
    "# run = '2e'\n",
    "# helper.save_df(root_dict[run], save_dir, '2021-01-11_run_' + run + '.h5', sanitize=True, prefix=prefix)"
   ]
  },
  {
   "cell_type": "code",
   "execution_count": null,
   "metadata": {},
   "outputs": [],
   "source": [
    "# run = '2f'\n",
    "# helper.save_df(root_dict[run], save_dir, '2021-01-11_run_' + run + '.h5', sanitize=True, prefix=prefix)"
   ]
  },
  {
   "cell_type": "code",
   "execution_count": null,
   "metadata": {},
   "outputs": [],
   "source": [
    "# run = '2g'\n",
    "# helper.save_df(root_dict[run], save_dir, '2021-01-11_run_' + run + '.h5', sanitize=True, prefix=prefix)"
   ]
  },
  {
   "cell_type": "code",
   "execution_count": null,
   "metadata": {},
   "outputs": [],
   "source": [
    "# prefix = '/data1/newg2/DataProduction/Offline/ArtTFSDir/v9_52_00_dev2/FieldPlainRootOutput_'\n",
    "\n",
    "# run = '2h'\n",
    "# helper.save_df(root_dict[run], save_dir, '2021-01-11_run_' + run + '.h5', sanitize=True, prefix=prefix)"
   ]
  },
  {
   "cell_type": "code",
   "execution_count": null,
   "metadata": {},
   "outputs": [],
   "source": [
    "# prefix = '/data1/newg2/DataProduction/Offline/ArtTFSDir/v9_52_00_dev2/FieldPlainRootOutput_'\n",
    "\n",
    "# run = '2i'\n",
    "# helper.save_df(root_dict[run], save_dir, '2021-01-11_run_' + run + '.h5', sanitize=True, prefix=prefix)"
   ]
  },
  {
   "cell_type": "code",
   "execution_count": null,
   "metadata": {
    "scrolled": true
   },
   "outputs": [],
   "source": [
    "# for run in root_dict:\n",
    "#     print run\n",
    "#     helper.save_df(root_dict[run], save_dir, '2021-01-11_run_' + run + '.h5', sanitize=True, prefix=prefix)"
   ]
  },
  {
   "cell_type": "code",
   "execution_count": null,
   "metadata": {},
   "outputs": [],
   "source": []
  }
 ],
 "metadata": {
  "kernelspec": {
   "display_name": "Python 2",
   "language": "python",
   "name": "python2"
  },
  "language_info": {
   "codemirror_mode": {
    "name": "ipython",
    "version": 2
   },
   "file_extension": ".py",
   "mimetype": "text/x-python",
   "name": "python",
   "nbconvert_exporter": "python",
   "pygments_lexer": "ipython2",
   "version": "2.7.5"
  }
 },
 "nbformat": 4,
 "nbformat_minor": 2
}
