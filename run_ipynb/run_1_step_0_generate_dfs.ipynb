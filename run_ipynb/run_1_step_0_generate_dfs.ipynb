{
 "cells": [
  {
   "cell_type": "code",
   "execution_count": 1,
   "metadata": {},
   "outputs": [
    {
     "name": "stdout",
     "output_type": "stream",
     "text": [
      "Welcome to JupyROOT 6.22/02\n"
     ]
    }
   ],
   "source": [
    "%load_ext autoreload\n",
    "%autoreload 2\n",
    "\n",
    "%matplotlib inline\n",
    "import matplotlib\n",
    "import matplotlib.pyplot as plt\n",
    "import seaborn as sns\n",
    "\n",
    "import numpy as np\n",
    "import pandas as pd\n",
    "\n",
    "from scipy.optimize import curve_fit\n",
    "\n",
    "import gm2\n",
    "import trfp\n",
    "\n",
    "import field_map_config_run1 as map_config\n",
    "import helper_functions as helper\n",
    "\n",
    "\n",
    "## paths and dictionaries\n",
    "\n",
    "prefix = 'FieldPlainRootOutput_'\n",
    "sanitize = True\n",
    "\n",
    "save_dir = 'hdf5/'\n",
    "# if sanitize:\n",
    "#     save_dir += 'sanitized/'\n",
    "\n",
    "root_dict = map_config.root_dict\n"
   ]
  },
  {
   "cell_type": "code",
   "execution_count": 2,
   "metadata": {
    "scrolled": false
   },
   "outputs": [
    {
     "name": "stdout",
     "output_type": "stream",
     "text": [
      "tr_df_1\n",
      "Reading event 8780/8781 99.99%       \n",
      "loop done: 100%                                    \n",
      "Reading event 2630/2634 99.85% \n",
      "loop done: 100%                                    \n"
     ]
    },
    {
     "name": "stderr",
     "output_type": "stream",
     "text": [
      "helper_functions.py:557: RuntimeWarning: invalid value encountered in greater\n",
      "  drop = np.abs(start_array[i*bin_len:(i+1)*bin_len] - center) > std*width\n",
      "helper_functions.py:563: RuntimeWarning: invalid value encountered in greater\n",
      "  drop = np.abs(start_array[num_bin*bin_len:] - center) > std*width\n"
     ]
    },
    {
     "name": "stdout",
     "output_type": "stream",
     "text": [
      "Saved to: hdf5/2021-02-17_run_1a.h5\n",
      "tr_df_2\n",
      "Reading event 8730/8735 99.94%           \n",
      "loop done: 100%                                    \n",
      "Reading event 2610/2619 99.66%    \n",
      "loop done: 100%                                    \n",
      "Saved to: hdf5/2021-02-17_run_1a.h5\n",
      "fp_df_1\n",
      "Reading event 154050/154052 100.00%                                               \n",
      "loop done: 100%                                    \n",
      "Saved to: hdf5/2021-02-17_run_1a.h5\n",
      "subrun_df\n",
      "(27275, 24)\n",
      "Saved to: hdf5/2021-02-17_run_1a.h5\n",
      "tr_df_1\n",
      "Reading event 100/8697 1.15% "
     ]
    },
    {
     "name": "stderr",
     "output_type": "stream",
     "text": [
      "/usr/lib64/python2.7/site-packages/pandas/core/generic.py:2377: PerformanceWarning: \n",
      "your performance may suffer as PyTables will pickle object types that it cannot\n",
      "map directly to c-types [inferred_type->mixed,key->block3_values] [items->['quad_condition', 'kicker_condition', 'field_ok', 'quad_loose_ok', 'ctags_repeat_ok', 'losses_repeat_ok', 'fillcuts_repeat_ok']]\n",
      "\n",
      "  return pytables.to_hdf(path_or_buf, key, self, **kwargs)\n"
     ]
    },
    {
     "name": "stdout",
     "output_type": "stream",
     "text": [
      "Reading event 8690/8697 99.92%          \n",
      "loop done: 100%                                    \n",
      "Reading event 2600/2607 99.73% \n",
      "loop done: 100%                                    \n",
      "Saved to: hdf5/2021-02-17_run_1c.h5\n",
      "tr_df_3\n",
      "Reading event 8720/8727 99.92%           \n",
      "loop done: 100%                                    \n",
      "Reading event 2610/2619 99.66%  \n",
      "loop done: 100%                                    \n",
      "Saved to: hdf5/2021-02-17_run_1c.h5\n",
      "tr_df_2\n",
      "Reading event 8720/8723 99.97%     \n",
      "loop done: 100%                                    \n",
      "Reading event 2610/2614 99.85% \n",
      "loop done: 100%                                    \n",
      "Saved to: hdf5/2021-02-17_run_1c.h5\n",
      "tr_df_5\n",
      "Reading event 10030/10037 99.93%       \n",
      "loop done: 100%                                    \n",
      "Reading event 3000/3009 99.70%   \n",
      "loop done: 100%                                    \n",
      "Saved to: hdf5/2021-02-17_run_1c.h5\n",
      "tr_df_4\n",
      "Reading event 8720/8728 99.91%      \n",
      "loop done: 100%                                    \n",
      "Reading event 2620/2621 99.96%   \n",
      "loop done: 100%                                    \n",
      "Saved to: hdf5/2021-02-17_run_1c.h5\n",
      "tr_df_6\n",
      "Reading event 8720/8721 99.99%        \n",
      "loop done: 100%                                    \n",
      "Reading event 2610/2617 99.73%   \n",
      "loop done: 100%                                    \n",
      "Saved to: hdf5/2021-02-17_run_1c.h5\n",
      "fp_df_4\n",
      "Reading event 90870/90873 100.00% \n",
      "loop done: 100%                                    \n",
      "Saved to: hdf5/2021-02-17_run_1c.h5\n",
      "fp_df_1\n",
      "Reading event 155350/155359 99.99%                                                           \n",
      "loop done: 100%                                    \n",
      "Saved to: hdf5/2021-02-17_run_1c.h5\n",
      "fp_df_2\n",
      "Reading event 120460/120461 100.00%                                        \n",
      "loop done: 100%                                    \n",
      "Saved to: hdf5/2021-02-17_run_1c.h5\n",
      "fp_df_3\n",
      "Reading event 140090/140097 100.00%                                                       \n",
      "loop done: 100%                                    \n",
      "Saved to: hdf5/2021-02-17_run_1c.h5\n",
      "subrun_df\n",
      "(56142, 24)\n",
      "Saved to: hdf5/2021-02-17_run_1c.h5\n",
      "fp_df_1\n"
     ]
    },
    {
     "name": "stderr",
     "output_type": "stream",
     "text": [
      "/usr/lib64/python2.7/site-packages/pandas/core/generic.py:2377: PerformanceWarning: \n",
      "your performance may suffer as PyTables will pickle object types that it cannot\n",
      "map directly to c-types [inferred_type->mixed,key->block3_values] [items->['quad_condition', 'kicker_condition', 'ctags_loose_ok']]\n",
      "\n",
      "  return pytables.to_hdf(path_or_buf, key, self, **kwargs)\n"
     ]
    },
    {
     "name": "stdout",
     "output_type": "stream",
     "text": [
      "Reading event 150480/150487 100.00%                                                             \n",
      "loop done: 100%                                    \n",
      "Saved to: hdf5/2021-02-17_run_1b.h5\n",
      "fp_df_2\n",
      "Reading event 131930/131933 100.00%                                      \n",
      "loop done: 100%                                    \n",
      "Saved to: hdf5/2021-02-17_run_1b.h5\n",
      "subrun_df\n",
      "(32690, 24)\n",
      "Saved to: hdf5/2021-02-17_run_1b.h5\n",
      "tr_df_1\n",
      "Reading event 8700/8709 99.90%      \n",
      "loop done: 100%                                    \n",
      "Reading event 2600/2609 99.66%  \n",
      "loop done: 100%                                    \n",
      "Saved to: hdf5/2021-02-17_run_1b.h5\n",
      "tr_df_3\n",
      "Reading event 8690/8697 99.92%              \n",
      "loop done: 100%                                    \n",
      "Reading event 2600/2607 99.73% \n",
      "loop done: 100%                                    \n",
      "Saved to: hdf5/2021-02-17_run_1b.h5\n",
      "tr_df_2\n",
      "Reading event 8750/8752 99.98%    \n",
      "loop done: 100%                                    \n",
      "Reading event 2620/2622 99.92%  \n",
      "loop done: 100%                                    \n",
      "Saved to: hdf5/2021-02-17_run_1b.h5\n",
      "subrun_df\n",
      "(113302, 24)\n",
      "Saved to: hdf5/2021-02-17_run_1d.h5\n",
      "tr_df_8\n",
      "Reading event 100/8797 1.14% "
     ]
    },
    {
     "name": "stderr",
     "output_type": "stream",
     "text": [
      "/usr/lib64/python2.7/site-packages/pandas/core/generic.py:2377: PerformanceWarning: \n",
      "your performance may suffer as PyTables will pickle object types that it cannot\n",
      "map directly to c-types [inferred_type->mixed,key->block3_values] [items->['quad_condition', 'kicker_condition', 'field_ok', 'ctags_loose_ok', 'quad_loose_ok', 'ctags_repeat_ok', 'losses_repeat_ok', 'fillcuts_repeat_ok']]\n",
      "\n",
      "  return pytables.to_hdf(path_or_buf, key, self, **kwargs)\n"
     ]
    },
    {
     "name": "stdout",
     "output_type": "stream",
     "text": [
      "Reading event 8790/8797 99.92%        \n",
      "loop done: 100%                                    \n",
      "Reading event 2630/2634 99.85%  \n",
      "loop done: 100%                                    \n",
      "Saved to: hdf5/2021-02-17_run_1d.h5\n",
      "tr_df_3\n",
      "Reading event 8780/8789 99.90%        \n",
      "loop done: 100%                                    \n",
      "Reading event 2630/2633 99.89%  \n",
      "loop done: 100%                                    \n",
      "Saved to: hdf5/2021-02-17_run_1d.h5\n",
      "tr_df_2\n",
      "Reading event 9830/9836 99.94%     \n",
      "loop done: 100%                                    \n",
      "Reading event 2940/2947 99.76% \n",
      "loop done: 100%                                    \n",
      "Saved to: hdf5/2021-02-17_run_1d.h5\n",
      "tr_df_5\n",
      "Reading event 8740/8750 99.89%    \n",
      "loop done: 100%                                    \n",
      "Reading event 2620/2621 99.96% \n",
      "loop done: 100%                                    \n",
      "Saved to: hdf5/2021-02-17_run_1d.h5\n",
      "tr_df_4\n",
      "Reading event 8700/8708 99.91%     \n",
      "loop done: 100%                                    \n",
      "Reading event 2600/2610 99.62% \n",
      "loop done: 100%                                    \n",
      "Saved to: hdf5/2021-02-17_run_1d.h5\n",
      "tr_df_7\n",
      "Reading event 8700/8709 99.90%      \n",
      "loop done: 100%                                    \n",
      "Reading event 2600/2610 99.62% \n",
      "loop done: 100%                                    \n",
      "Saved to: hdf5/2021-02-17_run_1d.h5\n",
      "tr_df_6\n",
      "Reading event 8690/8698 99.91%                        \n",
      "loop done: 100%                                    \n",
      "Reading event 2600/2605 99.81% \n",
      "loop done: 100%                                    \n",
      "Saved to: hdf5/2021-02-17_run_1d.h5\n",
      "fp_df_5\n",
      "Reading event 160620/160629 99.99%                                                         \n",
      "loop done: 100%                                    \n",
      "Saved to: hdf5/2021-02-17_run_1d.h5\n",
      "fp_df_4\n",
      "Reading event 185650/185651 100.00%                                                                              \n",
      "loop done: 100%                                    \n",
      "Saved to: hdf5/2021-02-17_run_1d.h5\n",
      "fp_df_6\n",
      "Reading event 167950/167957 100.00%                                               \n",
      "loop done: 100%                                    \n",
      "Saved to: hdf5/2021-02-17_run_1d.h5\n",
      "fp_df_3\n",
      "Reading event 150400/150410 99.99%                                                                  \n",
      "loop done: 100%                                    \n",
      "Saved to: hdf5/2021-02-17_run_1d.h5\n",
      "fp_df_2\n",
      "Reading event 183750/183752 100.00%                                                                  \n",
      "loop done: 100%                                    \n",
      "Saved to: hdf5/2021-02-17_run_1d.h5\n"
     ]
    }
   ],
   "source": [
    "for run in root_dict:\n",
    "    helper.save_df(root_dict[run], save_dir, '2021-02-17_run_' + run + '.h5', sanitize=True, prefix=prefix)"
   ]
  },
  {
   "cell_type": "code",
   "execution_count": 3,
   "metadata": {},
   "outputs": [
    {
     "name": "stdout",
     "output_type": "stream",
     "text": [
      "Reading event 8720/8728 99.91%       \n",
      "loop done: 100%                                    \n",
      "Reading event 2620/2621 99.96% \n",
      "loop done: 100%                                    \n",
      "Reading event 1800/1803 99.83% \n",
      "loop done: 100%                                    \n",
      "Reading event 540/541 99.82% \n",
      "loop done: 100%                                    \n"
     ]
    }
   ],
   "source": [
    "## generate the spliced dataframe for 9day trolley run 4 (the azimuthal coil correction)\n",
    "\n",
    "tr_df_long = helper.root_to_pandas([4226], prefix=prefix, tr_run=True, sanitize=sanitize)\n",
    "tr_df_shrt = helper.root_to_pandas([4224], prefix=prefix, tr_run=True, sanitize=sanitize)\n",
    "\n",
    "# put stations 39-53 from the short cw run into the main run\n",
    "\n",
    "cut_low = trfp.STATION_BARCODE_EDGES[39]\n",
    "cut_high = trfp.STATION_BARCODE_EDGES[54]\n",
    "\n",
    "df_ccw = tr_df_long.copy()\n",
    "df_ccw = df_ccw[(df_ccw['tr_phi']<cut_low) | (df_ccw['tr_phi']>cut_high)]\n",
    "\n",
    "df_cw = tr_df_shrt.copy()\n",
    "df_cw = df_cw[(df_cw['tr_phi']>cut_low) & (df_cw['tr_phi']<cut_high)]\n",
    "\n",
    "tr_df_4a = df_cw.copy()\n",
    "tr_df_4a = tr_df_4a.append(df_ccw)\n",
    "\n",
    "filename = save_dir+'2021-02-17_run_1c.h5'\n",
    "\n",
    "tr_df_4a.to_hdf(filename, 'tr_df_4a')\n",
    "\n",
    "# plt.plot(tr_df_4a['tr_phi'], tr_df_4a['tr0'], '.')"
   ]
  },
  {
   "cell_type": "code",
   "execution_count": 4,
   "metadata": {},
   "outputs": [],
   "source": [
    "## generate a tr_df_9 for the end game data set (that's actually just tr_df_8 translated forward in time)\n",
    "\n",
    "tr_df_9 = pd.read_hdf('hdf5/2021-02-17_run_1d.h5', key='tr_df_8')\n",
    "\n",
    "new_index = tr_df_9.index.values + 100000\n",
    "tr_df_9 = tr_df_9.set_index(new_index)\n",
    "\n",
    "tr_df_9.to_hdf('hdf5/2021-02-17_run_1d.h5', key='tr_df_9')"
   ]
  },
  {
   "cell_type": "code",
   "execution_count": null,
   "metadata": {},
   "outputs": [],
   "source": []
  }
 ],
 "metadata": {
  "kernelspec": {
   "display_name": "Python 2",
   "language": "python",
   "name": "python2"
  },
  "language_info": {
   "codemirror_mode": {
    "name": "ipython",
    "version": 2
   },
   "file_extension": ".py",
   "mimetype": "text/x-python",
   "name": "python",
   "nbconvert_exporter": "python",
   "pygments_lexer": "ipython2",
   "version": "2.7.5"
  }
 },
 "nbformat": 4,
 "nbformat_minor": 2
}
