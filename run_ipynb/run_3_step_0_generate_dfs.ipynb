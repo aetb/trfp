{
 "cells": [
  {
   "cell_type": "code",
   "execution_count": 1,
   "metadata": {},
   "outputs": [
    {
     "name": "stdout",
     "output_type": "stream",
     "text": [
      "Welcome to JupyROOT 6.22/02\n"
     ]
    }
   ],
   "source": [
    "%load_ext autoreload\n",
    "%autoreload 2\n",
    "\n",
    "%matplotlib inline\n",
    "import matplotlib.pyplot as plt\n",
    "import numpy as np\n",
    "import pandas as pd\n",
    "\n",
    "import datetime\n",
    "\n",
    "import gm2\n",
    "import trfp\n",
    "\n",
    "import field_map_config_run3 as map_config\n",
    "import helper_functions as helper\n",
    "\n",
    "from IPython.display import clear_output\n",
    "\n",
    "\n",
    "## paths and dictionaries\n",
    "\n",
    "prefix = map_config.path\n",
    "sanitize = True\n",
    "\n",
    "save_dir = 'hdf5/'\n",
    "save_prefix = str(datetime.date.today())+'_run_'\n",
    "root_dict = map_config.root_dict\n",
    "\n",
    "\n",
    "## generate data frames\n",
    "\n",
    "# for run in map_config.runs:\n",
    "#     clear_output()\n",
    "#     print 'Run:'+run+'\\n'\n",
    "#     helper.save_df(root_dict[run], save_dir, save_prefix+run+'.h5', sanitize=True, prefix=prefix)"
   ]
  },
  {
   "cell_type": "code",
   "execution_count": null,
   "metadata": {},
   "outputs": [],
   "source": [
    "run = '3b'\n",
    "helper.save_df(root_dict[run], save_dir, save_prefix+run+'.h5', sanitize=True, prefix=prefix)"
   ]
  },
  {
   "cell_type": "code",
   "execution_count": null,
   "metadata": {},
   "outputs": [],
   "source": [
    "run = '3c'\n",
    "helper.save_df(root_dict[run], save_dir, save_prefix+run+'.h5', sanitize=True, prefix=prefix)"
   ]
  },
  {
   "cell_type": "code",
   "execution_count": null,
   "metadata": {},
   "outputs": [],
   "source": [
    "run = '3d'\n",
    "helper.save_df(root_dict[run], save_dir, save_prefix+run+'.h5', sanitize=True, prefix=prefix)"
   ]
  },
  {
   "cell_type": "code",
   "execution_count": 2,
   "metadata": {},
   "outputs": [
    {
     "name": "stdout",
     "output_type": "stream",
     "text": [
      "subrun_df\n",
      "(0, 24)\n",
      "Saved to: hdf5/2021-05-12_run_3e.h5\n",
      "tr_df_1\n",
      "Reading event 8770/8774 99.95%        \n",
      "loop done: 100%                                    \n",
      "Reading event 3070/3073 99.90%  \n",
      "loop done: 100%                                    \n"
     ]
    },
    {
     "name": "stderr",
     "output_type": "stream",
     "text": [
      "helper_functions.py:558: RuntimeWarning: invalid value encountered in greater\n",
      "  drop = np.abs(start_array[i*bin_len:(i+1)*bin_len] - center) > std*width\n",
      "helper_functions.py:564: RuntimeWarning: invalid value encountered in greater\n",
      "  drop = np.abs(start_array[num_bin*bin_len:] - center) > std*width\n"
     ]
    },
    {
     "name": "stdout",
     "output_type": "stream",
     "text": [
      "Saved to: hdf5/2021-05-12_run_3e.h5\n",
      "tr_df_3\n",
      "Reading event 9020/9030 99.89%       \n",
      "loop done: 100%                                    \n",
      "Reading event 3690/3700 99.73%     \n",
      "loop done: 100%                                    \n",
      "Saved to: hdf5/2021-05-12_run_3e.h5\n",
      "tr_df_2\n",
      "Reading event 9140/9149 99.90%          \n",
      "loop done: 100%                                    \n",
      "Reading event 3100/3108 99.74% \n",
      "loop done: 100%                                    \n"
     ]
    },
    {
     "name": "stderr",
     "output_type": "stream",
     "text": [
      "/usr/lib64/python2.7/site-packages/numpy/lib/function_base.py:3405: RuntimeWarning: All-NaN slice encountered\n",
      "  r = func(a, **kwargs)\n",
      "/usr/lib64/python2.7/site-packages/numpy/lib/nanfunctions.py:1628: RuntimeWarning: Degrees of freedom <= 0 for slice.\n",
      "  keepdims=keepdims)\n"
     ]
    },
    {
     "name": "stdout",
     "output_type": "stream",
     "text": [
      "Saved to: hdf5/2021-05-12_run_3e.h5\n",
      "fp_df_1\n",
      "Reading event 160480/160481 100.00%                                                                \n",
      "loop done: 100%                                    \n",
      "Saved to: hdf5/2021-05-12_run_3e.h5\n",
      "tr_df_4\n",
      "Reading event 8820/8830 99.89%      \n",
      "loop done: 100%                                    \n",
      "Reading event 3530/3535 99.86% \n",
      "loop done: 100%                                    \n",
      "Saved to: hdf5/2021-05-12_run_3e.h5\n",
      "fp_df_3\n",
      "Reading event 201830/201840 100.00%                                                       \n",
      "loop done: 100%                                    \n",
      "Saved to: hdf5/2021-05-12_run_3e.h5\n",
      "fp_df_2\n",
      "Reading event 59740/59748 99.99%                            \n",
      "loop done: 100%                                    \n",
      "Saved to: hdf5/2021-05-12_run_3e.h5\n"
     ]
    }
   ],
   "source": [
    "run = '3e'\n",
    "helper.save_df(root_dict[run], save_dir, save_prefix+run+'.h5', sanitize=True, prefix=prefix)\n",
    "\n",
    "## make the fake-bookend runs\n",
    "\n",
    "# ## book_3e2\n",
    "# book = helper.root_to_pandas([9235], tr_run=True, prefix=prefix)\n",
    "# book.index = book.index + 72*60*60\n",
    "# book.to_hdf(save_dir+save_prefix+'3e.h5', key='book_3e2')\n",
    "\n",
    "# ## book_3e3\n",
    "# book = helper.root_to_pandas([9314], tr_run=True, prefix=prefix)\n",
    "# book.index = book.index - 72*60*60\n",
    "# book.to_hdf(save_dir+save_prefix+'3e.h5', key='book_3e3')"
   ]
  },
  {
   "cell_type": "code",
   "execution_count": null,
   "metadata": {},
   "outputs": [],
   "source": [
    "run = '3f'\n",
    "helper.save_df(root_dict[run], save_dir, save_prefix+run+'.h5', sanitize=True, prefix=prefix)"
   ]
  },
  {
   "cell_type": "code",
   "execution_count": null,
   "metadata": {},
   "outputs": [],
   "source": [
    "run = '3g'\n",
    "helper.save_df(root_dict[run], save_dir, save_prefix+run+'.h5', sanitize=True, prefix=prefix)"
   ]
  },
  {
   "cell_type": "code",
   "execution_count": null,
   "metadata": {},
   "outputs": [],
   "source": [
    "run = '3i'\n",
    "helper.save_df(root_dict[run], save_dir, save_prefix+run+'.h5', sanitize=True, prefix=prefix)"
   ]
  },
  {
   "cell_type": "code",
   "execution_count": null,
   "metadata": {},
   "outputs": [],
   "source": [
    "run = '3j'\n",
    "helper.save_df(root_dict[run], save_dir, save_prefix+run+'.h5', sanitize=True, prefix=prefix)"
   ]
  },
  {
   "cell_type": "code",
   "execution_count": null,
   "metadata": {},
   "outputs": [],
   "source": [
    "run = '3k'\n",
    "helper.save_df(root_dict[run], save_dir, save_prefix+run+'.h5', sanitize=True, prefix=prefix)\n",
    "\n",
    "## make the fake-bookend runs\n",
    "\n",
    "## book_3k1\n",
    "book = helper.root_to_pandas([9709], tr_run=True, prefix=prefix)\n",
    "book.index = book.index + 72*60*60\n",
    "book.to_hdf(save_dir+save_prefix+'3k.h5', key='book_3k1')"
   ]
  },
  {
   "cell_type": "code",
   "execution_count": null,
   "metadata": {},
   "outputs": [],
   "source": [
    "run = '3l'\n",
    "helper.save_df(root_dict[run], save_dir, save_prefix+run+'.h5', sanitize=True, prefix=prefix)"
   ]
  },
  {
   "cell_type": "code",
   "execution_count": null,
   "metadata": {},
   "outputs": [],
   "source": [
    "run = '3m'\n",
    "helper.save_df(root_dict[run], save_dir, save_prefix+run+'.h5', sanitize=True, prefix=prefix)"
   ]
  },
  {
   "cell_type": "code",
   "execution_count": null,
   "metadata": {},
   "outputs": [],
   "source": [
    "run = '3n'\n",
    "helper.save_df(root_dict[run], save_dir, save_prefix+run+'.h5', sanitize=True, prefix=prefix)"
   ]
  },
  {
   "cell_type": "code",
   "execution_count": null,
   "metadata": {},
   "outputs": [],
   "source": [
    "run = '3o'\n",
    "helper.save_df(root_dict[run], save_dir, save_prefix+run+'.h5', sanitize=True, prefix=prefix)"
   ]
  },
  {
   "cell_type": "code",
   "execution_count": null,
   "metadata": {},
   "outputs": [],
   "source": []
  }
 ],
 "metadata": {
  "kernelspec": {
   "display_name": "Python 2",
   "language": "python",
   "name": "python2"
  },
  "language_info": {
   "codemirror_mode": {
    "name": "ipython",
    "version": 2
   },
   "file_extension": ".py",
   "mimetype": "text/x-python",
   "name": "python",
   "nbconvert_exporter": "python",
   "pygments_lexer": "ipython2",
   "version": "2.7.5"
  }
 },
 "nbformat": 4,
 "nbformat_minor": 2
}
