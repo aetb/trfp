{
 "cells": [
  {
   "cell_type": "code",
   "execution_count": 1,
   "metadata": {},
   "outputs": [
    {
     "name": "stdout",
     "output_type": "stream",
     "text": [
      "Welcome to JupyROOT 6.22/02\n"
     ]
    }
   ],
   "source": [
    "%load_ext autoreload\n",
    "%autoreload 2\n",
    "\n",
    "%matplotlib inline\n",
    "import matplotlib\n",
    "import matplotlib.pyplot as plt\n",
    "import seaborn as sns\n",
    "\n",
    "import numpy as np\n",
    "import pandas as pd\n",
    "\n",
    "from scipy.optimize import curve_fit\n",
    "\n",
    "import gm2\n",
    "import trfp\n",
    "import plotting_functions as plt2\n",
    "# import analysis_helper as helper\n",
    "# import helper_function_candidates as helper_old\n",
    "# import df_analysis_funcs as df_func\n",
    "import helper_functions as helper\n",
    "\n",
    "import field_map_config_run1 as map_config\n",
    "\n",
    "from IPython.display import clear_output\n",
    "\n",
    "# blinds = np.loadtxt('blinds.txt')\n",
    "pair_dict = map_config.pair_dict\n"
   ]
  },
  {
   "cell_type": "code",
   "execution_count": 3,
   "metadata": {
    "scrolled": false
   },
   "outputs": [
    {
     "name": "stdout",
     "output_type": "stream",
     "text": [
      "Saving run_1d5\n",
      "Saving run_1d4\n",
      "Saving run_1d6\n",
      "Saving run_1d3\n",
      "Saving run_1d2\n"
     ]
    }
   ],
   "source": [
    "# runs = ['1a']\n",
    "runs = ['1b', '1c', '1d']\n",
    "# runs = ['1a', '1b', '1c', '1d']\n",
    "\n",
    "for run in runs:\n",
    "    filename = 'hdf5/2021-02-17_run_' + run + '.h5'\n",
    "\n",
    "    interp_dfs, keys, subrun_df = helper.read_dfs(filename)\n",
    "    run_pair_dict = pair_dict[run]\n",
    "\n",
    "    moment_dfs = helper.interp_to_moment(interp_dfs, keys)\n",
    "    # moment_dfs = blind_moments(moment_dfs, keys, blinds)\n",
    "    corrected_dfs = helper.moment_to_corrected(moment_dfs, keys)\n",
    "\n",
    "    baselines = helper.station_average(corrected_dfs, keys)\n",
    "\n",
    "    ## for endgame only\n",
    "    # for item in baselines:\n",
    "    #     baselines[item]['tr_df_9'] = baselines[item]['tr_df_8']\n",
    "    # baselines['time']['tr_df_9'] = baselines['time']['tr_df_7']\n",
    "\n",
    "    vtm_dfs = helper.calculate_vtms(corrected_dfs, keys, baselines, run_pair_dict)\n",
    "\n",
    "    bloch_style_dfs = helper.bloch_style_moments(corrected_dfs, keys)\n",
    "    baselines_bloch = helper.station_average(bloch_style_dfs, keys)\n",
    "\n",
    "    ## for endgame only\n",
    "    # for item in baselines_bloch:\n",
    "    #     baselines_bloch[item]['tr_df_9'] = baselines_bloch[item]['tr_df_8']\n",
    "    # baselines_bloch['time']['tr_df_9'] = baselines_bloch['time']['tr_df_7']\n",
    "\n",
    "    vtm_dfs_bloch = helper.calculate_vtms(bloch_style_dfs, keys, baselines_bloch, run_pair_dict)\n",
    "\n",
    "    clear_output()\n",
    "    \n",
    "    for key in vtm_dfs.keys():\n",
    "#         a = vtm_dfs[key].index.values\n",
    "#         bins = np.array([a,a]).T.flatten()[:len(a)]\n",
    "\n",
    "#         vtm_2_sec_df = vtm_dfs_bloch[key].groupby(bins).mean()\n",
    "#         vtm_2_sec_df = vtm_2_sec_df.set_index((a[::2]+0.5))\n",
    "\n",
    "#         weight = trfp.STATION_BARCODE_EDGES[1:] - trfp.STATION_BARCODE_EDGES[:-1]\n",
    "#         weight[2] = weight[2] + 360\n",
    "\n",
    "#         vtm_2_sec_azi_avg_df = pd.DataFrame(index=vtm_2_sec_df.index)\n",
    "\n",
    "#         for m in range(9):\n",
    "#             stm_list = ['st'+str(st)+',m'+str(m+1) for st in np.arange(72)]\n",
    "#             vtm_2_sec_azi_avg_df['m'+str(m+1)] = vtm_2_sec_df[stm_list].multiply(weight).sum(axis=1)/360\n",
    "            \n",
    "        # need to save 4 data frames\n",
    "\n",
    "        save_key = 'run_' + run + key[6]\n",
    "        save_dir = '/data2/aetb/'\n",
    "        save_prefix = '2021-02-17_'\n",
    "        \n",
    "        print 'Saving ' + save_key\n",
    "\n",
    "        # save purcell style\n",
    "\n",
    "#         save_path = save_dir + save_prefix + 'purcell_maps.h5'\n",
    "#         vtm_dfs[key].to_hdf(save_path, key=save_key)\n",
    "\n",
    "        # save hybrid\n",
    "\n",
    "        save_path = save_dir + save_prefix + 'hybrid_maps.h5'\n",
    "        vtm_dfs_bloch[key].to_hdf(save_path, key=save_key)\n",
    "\n",
    "        # save 2 sec hybrid\n",
    "\n",
    "#         save_path = save_dir + save_prefix + 'hybrid_maps_2sec.h5'\n",
    "#         vtm_2_sec_df.to_hdf(save_path, key=save_key)\n",
    "\n",
    "        # save 2 sec azi avg hybrid\n",
    "\n",
    "#         save_path = save_dir + save_prefix + 'hybrid_maps_2sec_aziavg.h5'\n",
    "#         vtm_2_sec_azi_avg_df.to_hdf(save_path, key=save_key)"
   ]
  },
  {
   "cell_type": "code",
   "execution_count": null,
   "metadata": {},
   "outputs": [],
   "source": []
  }
 ],
 "metadata": {
  "kernelspec": {
   "display_name": "Python 2",
   "language": "python",
   "name": "python2"
  },
  "language_info": {
   "codemirror_mode": {
    "name": "ipython",
    "version": 2
   },
   "file_extension": ".py",
   "mimetype": "text/x-python",
   "name": "python",
   "nbconvert_exporter": "python",
   "pygments_lexer": "ipython2",
   "version": "2.7.5"
  }
 },
 "nbformat": 4,
 "nbformat_minor": 2
}
