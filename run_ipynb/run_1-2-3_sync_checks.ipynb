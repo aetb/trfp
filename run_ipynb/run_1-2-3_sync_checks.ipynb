{
 "cells": [
  {
   "cell_type": "code",
   "execution_count": 1,
   "metadata": {},
   "outputs": [],
   "source": [
    "import pandas as pd\n",
    "import numpy as np\n",
    "import matplotlib.pyplot as plt"
   ]
  },
  {
   "cell_type": "code",
   "execution_count": 13,
   "metadata": {},
   "outputs": [
    {
     "name": "stdout",
     "output_type": "stream",
     "text": [
      "-8.178774226882144\n",
      "0.0\n",
      "798.3720535121515\n",
      "469.9709710207297\n"
     ]
    },
    {
     "data": {
      "image/png": "[encoded data removed]",
      "text/plain": [
       "<Figure size 432x288 with 1 Axes>"
      ]
     },
     "metadata": {},
     "output_type": "display_data"
    }
   ],
   "source": [
    "sync_df_1 = pd.read_hdf('/data2/aetb/2021-01-12_hybrid_sync_offset_df.h5', key='sync_offset_df')\n",
    "\n",
    "m1 = sync_df_1[['st'+str(st)+',m1' for st in range(72)]]\n",
    "\n",
    "print np.mean(m1.values.flatten())/61.79*1000\n",
    "print np.median(m1.values.flatten())/61.79*1000\n",
    "print np.std(m1.values.flatten())/61.79*1000\n",
    "\n",
    "print (np.quantile(m1, 0.5+0.6827/2) - np.quantile(m1, 0.5-0.6827/2))/61.79*1000/2\n",
    "\n",
    "_ = plt.hist(m1.values.flatten()/61.79*1000, bins=np.linspace(-2000,2100+100,100)-50)\n",
    "plt.xlim([-2000,2000])\n",
    "plt.title('Run 1')\n",
    "plt.gcf().patch.set_facecolor('#fffbf0')"
   ]
  },
  {
   "cell_type": "code",
   "execution_count": 12,
   "metadata": {},
   "outputs": [
    {
     "name": "stdout",
     "output_type": "stream",
     "text": [
      "-49.26731406154306\n",
      "-62.09480775981841\n",
      "970.111595757184\n",
      "408.05023539828517\n"
     ]
    },
    {
     "data": {
      "image/png": "[encoded data removed]",
      "text/plain": [
       "<Figure size 432x288 with 1 Axes>"
      ]
     },
     "metadata": {},
     "output_type": "display_data"
    }
   ],
   "source": [
    "sync_df_2 = pd.read_hdf('/data2/aetb/2021-04-26_run-2_hybrid_syncs.h5', key='sync_offset_df')\n",
    "\n",
    "m1 = sync_df_2[['st'+str(st)+',m1' for st in range(72)]]\n",
    "\n",
    "print np.mean(m1.values.flatten())/61.79*1000\n",
    "print np.median(m1.values.flatten())/61.79*1000\n",
    "print np.std(m1.values.flatten())/61.79*1000\n",
    "print (np.quantile(m1, 0.5+0.6827/2) - np.quantile(m1, 0.5-0.6827/2))/61.79*1000/2\n",
    "\n",
    "_ = plt.hist(m1.values.flatten()/61.79*1000, bins=np.linspace(-2000,2100+100,100)-50)\n",
    "plt.xlim([-2000,2000])\n",
    "plt.title('Run 2')\n",
    "plt.gcf().patch.set_facecolor('#fffbf0')"
   ]
  },
  {
   "cell_type": "code",
   "execution_count": 14,
   "metadata": {},
   "outputs": [
    {
     "name": "stdout",
     "output_type": "stream",
     "text": [
      "21.28281971005323\n",
      "0.1816631897074307\n",
      "9544.240246637288\n",
      "343.14226088228605\n"
     ]
    },
    {
     "data": {
      "image/png": "[encoded data removed]",
      "text/plain": [
       "<Figure size 432x288 with 1 Axes>"
      ]
     },
     "metadata": {},
     "output_type": "display_data"
    }
   ],
   "source": [
    "sync_df_3 = pd.read_hdf('/data2/aetb/2021-04-26_run-3_hybrid_syncs.h5', key='sync_offset_df')\n",
    "sync_df_3 = sync_df_3.dropna()\n",
    "\n",
    "m1 = sync_df_3[['st'+str(st)+',m1' for st in range(72)]]\n",
    "\n",
    "print np.mean(m1.values.flatten())/61.79*1000\n",
    "print np.median(m1.values.flatten())/61.79*1000\n",
    "print np.std(m1.values.flatten())/61.79*1000\n",
    "print (np.quantile(m1, 0.5+0.6827/2) - np.quantile(m1, 0.5-0.6827/2))/61.79*1000/2\n",
    "\n",
    "_ = plt.hist(m1.values.flatten()/61.79*1000, bins=np.linspace(-2000,2100+100,100)-50)\n",
    "plt.xlim([-2000,2000])\n",
    "plt.title('Run 3')\n",
    "plt.gcf().patch.set_facecolor('#fffbf0')"
   ]
  },
  {
   "cell_type": "code",
   "execution_count": 16,
   "metadata": {},
   "outputs": [],
   "source": [
    "df = pd.read_hdf('/data2/aetb/2021-04-26_run-2_hybrid_maps.h5', key='run_2f1')"
   ]
  },
  {
   "cell_type": "code",
   "execution_count": 18,
   "metadata": {},
   "outputs": [
    {
     "name": "stdout",
     "output_type": "stream",
     "text": [
      "50918.955166668995\n"
     ]
    }
   ],
   "source": [
    "out = df[['st'+str(st)+',m1' for st in range(72)]].mean(axis=1).mean()\n",
    "print out"
   ]
  },
  {
   "cell_type": "code",
   "execution_count": 19,
   "metadata": {},
   "outputs": [
    {
     "data": {
      "text/plain": [
       "50918.955166668995"
      ]
     },
     "execution_count": 19,
     "metadata": {},
     "output_type": "execute_result"
    }
   ],
   "source": [
    "out"
   ]
  },
  {
   "cell_type": "code",
   "execution_count": 20,
   "metadata": {},
   "outputs": [
    {
     "data": {
      "text/plain": [
       "16.18384851917786"
      ]
     },
     "execution_count": 20,
     "metadata": {},
     "output_type": "execute_result"
    }
   ],
   "source": [
    "1000/61.79"
   ]
  },
  {
   "cell_type": "code",
   "execution_count": null,
   "metadata": {},
   "outputs": [],
   "source": []
  }
 ],
 "metadata": {
  "kernelspec": {
   "display_name": "Python 2",
   "language": "python",
   "name": "python2"
  },
  "language_info": {
   "codemirror_mode": {
    "name": "ipython",
    "version": 2
   },
   "file_extension": ".py",
   "mimetype": "text/x-python",
   "name": "python",
   "nbconvert_exporter": "python",
   "pygments_lexer": "ipython2",
   "version": "2.7.5"
  }
 },
 "nbformat": 4,
 "nbformat_minor": 2
}
