{
 "cells": [
  {
   "cell_type": "code",
   "execution_count": 1,
   "metadata": {},
   "outputs": [],
   "source": [
    "# caclulator\n",
    "\n",
    "import numpy as np"
   ]
  },
  {
   "cell_type": "code",
   "execution_count": 2,
   "metadata": {},
   "outputs": [],
   "source": [
    "x = 1**2 + 23**2 + 10**2\n",
    "\n",
    "m1 = 10**2\n",
    "m2 = 26**2\n",
    "m3 = 2**2"
   ]
  },
  {
   "cell_type": "code",
   "execution_count": 5,
   "metadata": {},
   "outputs": [
    {
     "name": "stdout",
     "output_type": "stream",
     "text": [
      "241.51604501564694\n",
      "60.08327554319921\n",
      "55.98214000911362\n",
      "41.50903516103452\n",
      "74.3706931526122\n",
      "14.923276421516825\n",
      "3.7125455958142792\n",
      "3.459136431163131\n",
      "2.564843282600323\n",
      "4.595365129899909\n"
     ]
    }
   ],
   "source": [
    "print np.sqrt(x + m1 + 240**2)\n",
    "print np.sqrt(x + m2 + 48**2)\n",
    "print np.sqrt(x + m3 + 50**2)\n",
    "print np.sqrt(x + m3 + 33**2)\n",
    "print np.sqrt(x + m2 + 65**2)\n",
    "\n",
    "print np.sqrt(x + m1 + 240**2)*1e-9*61.79e6\n",
    "print np.sqrt(x + m2 + 48**2)*1e-9*61.79e6\n",
    "print np.sqrt(x + m3 + 50**2)*1e-9*61.79e6\n",
    "print np.sqrt(x + m3 + 33**2)*1e-9*61.79e6\n",
    "print np.sqrt(x + m2 + 65**2)*1e-9*61.79e6"
   ]
  },
  {
   "cell_type": "code",
   "execution_count": null,
   "metadata": {},
   "outputs": [],
   "source": []
  }
 ],
 "metadata": {
  "kernelspec": {
   "display_name": "Python 2",
   "language": "python",
   "name": "python2"
  },
  "language_info": {
   "codemirror_mode": {
    "name": "ipython",
    "version": 2
   },
   "file_extension": ".py",
   "mimetype": "text/x-python",
   "name": "python",
   "nbconvert_exporter": "python",
   "pygments_lexer": "ipython2",
   "version": "2.7.14"
  }
 },
 "nbformat": 4,
 "nbformat_minor": 2
}
