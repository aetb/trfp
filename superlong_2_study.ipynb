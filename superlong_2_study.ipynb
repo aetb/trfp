{
 "cells": [
  {
   "cell_type": "code",
   "execution_count": 1,
   "metadata": {},
   "outputs": [
    {
     "name": "stdout",
     "output_type": "stream",
     "text": [
      "Welcome to JupyROOT 6.12/04\n"
     ]
    }
   ],
   "source": [
    "%matplotlib inline\n",
    "import matplotlib.pyplot as plt\n",
    "import seaborn as sns\n",
    "\n",
    "import numpy as np\n",
    "import pandas as pd\n",
    "import allantools\n",
    "\n",
    "import gm2\n",
    "import trfp\n",
    "import analysis_helper as helper\n",
    "\n",
    "import plotting_functions as plt2\n",
    "\n",
    "from IPython.display import clear_output"
   ]
  },
  {
   "cell_type": "code",
   "execution_count": 2,
   "metadata": {},
   "outputs": [],
   "source": [
    "# %%time\n",
    "\n",
    "# prefix = 'data2/newg2/DataProduction/Offline/ArtTFSDir/v9_32_00_dev/FieldPlainRootOutput_'\n",
    "# interp_df = helper.root_to_pandas([8384], prefix=prefix, tr_run=True)\n",
    "\n",
    "# for run in range(8385, 8424):\n",
    "#     clear_output()\n",
    "#     print 'Run: '+str(run)+' of 8423'\n",
    "#     temp_df = helper.root_to_pandas([run], prefix=prefix, tr_run=True)\n",
    "#     fill_times = np.arange(interp_df.index.values[-1]+1, temp_df.index.values[0])\n",
    "#     fill_df = pd.DataFrame(index=fill_times, columns=interp_df.columns)\n",
    "\n",
    "#     for col in interp_df.columns:\n",
    "#         fill_df[col] = np.interp(fill_times, np.append(interp_df.index.values, temp_df.index.values),\n",
    "#                                  np.append(interp_df[col].values, temp_df[col].values))\n",
    "\n",
    "#     interp_df = interp_df.append(fill_df)\n",
    "#     interp_df = interp_df.append(temp_df)\n",
    "\n",
    "# interp_df['tr_phi'] = 14.063\n",
    "\n",
    "# interp_df.to_hdf('hdf5/superlong_2.h5', 'tr_df')\n",
    "\n",
    "interp_df = pd.read_hdf('hdf5/superlong_2.h5', 'tr_df')"
   ]
  },
  {
   "cell_type": "code",
   "execution_count": 3,
   "metadata": {},
   "outputs": [
    {
     "name": "stdout",
     "output_type": "stream",
     "text": [
      "Calculating station 71 moments.                    \n"
     ]
    }
   ],
   "source": [
    "moment_df = pd.DataFrame(index=interp_df.index)\n",
    "moment_df['tr_phi'] = interp_df['tr_phi'].values\n",
    "\n",
    "print 'Calculating trolley moments.',\n",
    "theta_tr = trfp.THETA_TR\n",
    "for m in np.arange(17):\n",
    "    tr_probes = ['tr'+str(probe) for probe in np.arange(17)]\n",
    "    moment_df['tr,m'+str(m+1)] = interp_df[tr_probes].dot(theta_tr[m])\n",
    "    \n",
    "for station in np.arange(72):\n",
    "    print '\\rCalculating station ' + str(station) + ' moments.',\n",
    "    fp_st = ['fp'+str(fp) for fp in trfp.STATION_PROBE_ID[station]]\n",
    "\n",
    "    # choose proper theta matrix\n",
    "    if len(trfp.STATION_PROBE_ID[station]) == 4:\n",
    "        if station == 41:\n",
    "            theta_fp = trfp.THETA_FP_4_ST41\n",
    "        elif (station == 37) | (station == 39):\n",
    "            theta_fp = trfp.THETA_FP_4_ST37_ST39\n",
    "        else:\n",
    "            theta_fp = trfp.THETA_FP_4\n",
    "    else:\n",
    "        theta_fp = trfp.THETA_FP_6\n",
    "\n",
    "    # step through m values\n",
    "    for m in np.arange(len(trfp.STATION_PROBE_ID[station])):\n",
    "        stm = 'st'+str(station)+',m'+str(m+1)\n",
    "        moment_df[stm] = interp_df[fp_st].dot(theta_fp[m])\n",
    "    if len(trfp.STATION_PROBE_ID[station]) == 4:\n",
    "        moment_df['st'+str(station)+',m5'] = np.nan\n",
    "        moment_df['st'+str(station)+',m6'] = np.nan\n",
    "        \n",
    "# calculate baselines using the first 5 points (doesn't actually matter)\n",
    "tr_baseline = np.empty((72,17))\n",
    "\n",
    "df_mean =  np.mean(moment_df.iloc[0:1000], axis=0).values\n",
    "\n",
    "for i in range(72):\n",
    "    tr_baseline[i, :] = df_mean[1:18]\n",
    "fp_baseline = np.reshape(df_mean[18:], (72,6))\n",
    "\n",
    "baseline_time_1 = np.empty((72,6))\n",
    "baseline_time_2 = np.empty((72,6))\n",
    "\n",
    "baseline_time_1[:,:] = moment_df.index.values[0]\n",
    "baseline_time_2[:,:] = moment_df.index.values[-1]\n",
    "\n",
    "fp_df = moment_df.copy()\n",
    "\n",
    "fp_df = fp_df.drop(columns=['tr_phi']+['tr,m'+str(m) for m in range(1,18)])\n",
    "\n",
    "vtm_df = helper.vtm_calc(fp_df, baseline_time_1, baseline_time_2, tr_baseline, tr_baseline, fp_baseline, fp_baseline)"
   ]
  },
  {
   "cell_type": "code",
   "execution_count": null,
   "metadata": {},
   "outputs": [],
   "source": [
    "plt.plot(vtm_df.index.values, vtm_df['st5,m1'], '.')"
   ]
  },
  {
   "cell_type": "code",
   "execution_count": null,
   "metadata": {},
   "outputs": [],
   "source": [
    "taus_in = np.round(np.power(10, np.arange(0,5.5,0.05)))\n",
    "\n",
    "taus, adev, _, _ = allantools.oadev(vtm_df['st5,m1'].values, data_type='freq', rate=1, taus=taus_in)\n",
    "plt.loglog(taus, adev, '.')"
   ]
  },
  {
   "cell_type": "code",
   "execution_count": null,
   "metadata": {},
   "outputs": [],
   "source": [
    "taus_in = np.round(np.power(10, np.arange(0,5.5,0.05)))\n",
    "\n",
    "taus, adev, _, _ = allantools.oadev(moment_df['st5,m1'].values, data_type='freq', rate=1, taus=taus_in)\n",
    "plt.loglog(taus, adev, '.')"
   ]
  },
  {
   "cell_type": "code",
   "execution_count": null,
   "metadata": {},
   "outputs": [],
   "source": [
    "taus_in = np.round(np.power(10, np.arange(0,5.5,0.05)))\n",
    "\n",
    "taus, adev, _, _ = allantools.oadev((moment_df['tr,m1']-vtm_df['st5,m1']).values, data_type='freq', rate=1, taus=taus_in)\n",
    "plt.loglog(taus, adev, '.')\n",
    "\n",
    "taus_in = np.round(np.power(10, np.arange(0,5.5,0.05)))\n",
    "\n",
    "taus, adev, _, _ = allantools.oadev((moment_df['tr,m1']-0.5*vtm_df['st4,m1']-0.5*vtm_df['st6,m1']).values, data_type='freq', rate=1, taus=taus_in)\n",
    "plt.loglog(taus, adev, '.')"
   ]
  },
  {
   "cell_type": "code",
   "execution_count": 7,
   "metadata": {},
   "outputs": [
    {
     "ename": "KeyboardInterrupt",
     "evalue": "",
     "output_type": "error",
     "traceback": [
      "\u001b[0;31m\u001b[0m",
      "\u001b[0;31mKeyboardInterrupt\u001b[0mTraceback (most recent call last)",
      "\u001b[0;32m<ipython-input-7-17a57995b10d>\u001b[0m in \u001b[0;36m<module>\u001b[0;34m()\u001b[0m\n\u001b[0;32m----> 1\u001b[0;31m \u001b[0mget_ipython\u001b[0m\u001b[0;34m(\u001b[0m\u001b[0;34m)\u001b[0m\u001b[0;34m.\u001b[0m\u001b[0mrun_cell_magic\u001b[0m\u001b[0;34m(\u001b[0m\u001b[0;34mu'time'\u001b[0m\u001b[0;34m,\u001b[0m \u001b[0;34mu''\u001b[0m\u001b[0;34m,\u001b[0m \u001b[0;34mu\"\\ntaus_in = np.round(np.power(10, np.arange(0,5,1)))\\n\\ntaus, adev, _, _ = allantools.htotdev((moment_df['tr,m1']-vtm_df['st5,m1']).values, data_type='freq', rate=1, taus=taus_in)\\nplt.loglog(taus, adev, '.')\\n\\ntaus, adev, _, _ = allantools.htotdev((moment_df['tr,m1']-0.5*vtm_df['st4,m1']-0.5*vtm_df['st6,m1']).values, data_type='freq', rate=1, taus=taus_in)\\nplt.loglog(taus, adev, '.')\"\u001b[0m\u001b[0;34m)\u001b[0m\u001b[0;34m\u001b[0m\u001b[0m\n\u001b[0m",
      "\u001b[0;32m/home/aetb/.local/lib/python2.7/site-packages/IPython/core/interactiveshell.pyc\u001b[0m in \u001b[0;36mrun_cell_magic\u001b[0;34m(self, magic_name, line, cell)\u001b[0m\n\u001b[1;32m   2115\u001b[0m             \u001b[0mmagic_arg_s\u001b[0m \u001b[0;34m=\u001b[0m \u001b[0mself\u001b[0m\u001b[0;34m.\u001b[0m\u001b[0mvar_expand\u001b[0m\u001b[0;34m(\u001b[0m\u001b[0mline\u001b[0m\u001b[0;34m,\u001b[0m \u001b[0mstack_depth\u001b[0m\u001b[0;34m)\u001b[0m\u001b[0;34m\u001b[0m\u001b[0m\n\u001b[1;32m   2116\u001b[0m             \u001b[0;32mwith\u001b[0m \u001b[0mself\u001b[0m\u001b[0;34m.\u001b[0m\u001b[0mbuiltin_trap\u001b[0m\u001b[0;34m:\u001b[0m\u001b[0;34m\u001b[0m\u001b[0m\n\u001b[0;32m-> 2117\u001b[0;31m                 \u001b[0mresult\u001b[0m \u001b[0;34m=\u001b[0m \u001b[0mfn\u001b[0m\u001b[0;34m(\u001b[0m\u001b[0mmagic_arg_s\u001b[0m\u001b[0;34m,\u001b[0m \u001b[0mcell\u001b[0m\u001b[0;34m)\u001b[0m\u001b[0;34m\u001b[0m\u001b[0m\n\u001b[0m\u001b[1;32m   2118\u001b[0m             \u001b[0;32mreturn\u001b[0m \u001b[0mresult\u001b[0m\u001b[0;34m\u001b[0m\u001b[0m\n\u001b[1;32m   2119\u001b[0m \u001b[0;34m\u001b[0m\u001b[0m\n",
      "\u001b[0;32m<decorator-gen-60>\u001b[0m in \u001b[0;36mtime\u001b[0;34m(self, line, cell, local_ns)\u001b[0m\n",
      "\u001b[0;32m/home/aetb/.local/lib/python2.7/site-packages/IPython/core/magic.pyc\u001b[0m in \u001b[0;36m<lambda>\u001b[0;34m(f, *a, **k)\u001b[0m\n\u001b[1;32m    186\u001b[0m     \u001b[0;31m# but it's overkill for just that one bit of state.\u001b[0m\u001b[0;34m\u001b[0m\u001b[0;34m\u001b[0m\u001b[0m\n\u001b[1;32m    187\u001b[0m     \u001b[0;32mdef\u001b[0m \u001b[0mmagic_deco\u001b[0m\u001b[0;34m(\u001b[0m\u001b[0marg\u001b[0m\u001b[0;34m)\u001b[0m\u001b[0;34m:\u001b[0m\u001b[0;34m\u001b[0m\u001b[0m\n\u001b[0;32m--> 188\u001b[0;31m         \u001b[0mcall\u001b[0m \u001b[0;34m=\u001b[0m \u001b[0;32mlambda\u001b[0m \u001b[0mf\u001b[0m\u001b[0;34m,\u001b[0m \u001b[0;34m*\u001b[0m\u001b[0ma\u001b[0m\u001b[0;34m,\u001b[0m \u001b[0;34m**\u001b[0m\u001b[0mk\u001b[0m\u001b[0;34m:\u001b[0m \u001b[0mf\u001b[0m\u001b[0;34m(\u001b[0m\u001b[0;34m*\u001b[0m\u001b[0ma\u001b[0m\u001b[0;34m,\u001b[0m \u001b[0;34m**\u001b[0m\u001b[0mk\u001b[0m\u001b[0;34m)\u001b[0m\u001b[0;34m\u001b[0m\u001b[0m\n\u001b[0m\u001b[1;32m    189\u001b[0m \u001b[0;34m\u001b[0m\u001b[0m\n\u001b[1;32m    190\u001b[0m         \u001b[0;32mif\u001b[0m \u001b[0mcallable\u001b[0m\u001b[0;34m(\u001b[0m\u001b[0marg\u001b[0m\u001b[0;34m)\u001b[0m\u001b[0;34m:\u001b[0m\u001b[0;34m\u001b[0m\u001b[0m\n",
      "\u001b[0;32m/home/aetb/.local/lib/python2.7/site-packages/IPython/core/magics/execution.pyc\u001b[0m in \u001b[0;36mtime\u001b[0;34m(self, line, cell, local_ns)\u001b[0m\n\u001b[1;32m   1191\u001b[0m         \u001b[0;32melse\u001b[0m\u001b[0;34m:\u001b[0m\u001b[0;34m\u001b[0m\u001b[0m\n\u001b[1;32m   1192\u001b[0m             \u001b[0mst\u001b[0m \u001b[0;34m=\u001b[0m \u001b[0mclock2\u001b[0m\u001b[0;34m(\u001b[0m\u001b[0;34m)\u001b[0m\u001b[0;34m\u001b[0m\u001b[0m\n\u001b[0;32m-> 1193\u001b[0;31m             \u001b[0;32mexec\u001b[0m\u001b[0;34m(\u001b[0m\u001b[0mcode\u001b[0m\u001b[0;34m,\u001b[0m \u001b[0mglob\u001b[0m\u001b[0;34m,\u001b[0m \u001b[0mlocal_ns\u001b[0m\u001b[0;34m)\u001b[0m\u001b[0;34m\u001b[0m\u001b[0m\n\u001b[0m\u001b[1;32m   1194\u001b[0m             \u001b[0mend\u001b[0m \u001b[0;34m=\u001b[0m \u001b[0mclock2\u001b[0m\u001b[0;34m(\u001b[0m\u001b[0;34m)\u001b[0m\u001b[0;34m\u001b[0m\u001b[0m\n\u001b[1;32m   1195\u001b[0m             \u001b[0mout\u001b[0m \u001b[0;34m=\u001b[0m \u001b[0mNone\u001b[0m\u001b[0;34m\u001b[0m\u001b[0m\n",
      "\u001b[0;32m<timed exec>\u001b[0m in \u001b[0;36m<module>\u001b[0;34m()\u001b[0m\n",
      "\u001b[0;32m/home/aetb/.local/lib/python2.7/site-packages/allantools/allantools.pyc\u001b[0m in \u001b[0;36mhtotdev\u001b[0;34m(data, rate, data_type, taus)\u001b[0m\n\u001b[1;32m    837\u001b[0m             (devs[idx],\n\u001b[1;32m    838\u001b[0m              \u001b[0mdeverrs\u001b[0m\u001b[0;34m[\u001b[0m\u001b[0midx\u001b[0m\u001b[0;34m]\u001b[0m\u001b[0;34m,\u001b[0m\u001b[0;34m\u001b[0m\u001b[0m\n\u001b[0;32m--> 839\u001b[0;31m              ns[idx]) = calc_htotdev_freq(freq, mj)\n\u001b[0m\u001b[1;32m    840\u001b[0m \u001b[0;34m\u001b[0m\u001b[0m\n\u001b[1;32m    841\u001b[0m     \u001b[0;32mreturn\u001b[0m \u001b[0mremove_small_ns\u001b[0m\u001b[0;34m(\u001b[0m\u001b[0mtaus_used\u001b[0m\u001b[0;34m,\u001b[0m \u001b[0mdevs\u001b[0m\u001b[0;34m,\u001b[0m \u001b[0mdeverrs\u001b[0m\u001b[0;34m,\u001b[0m \u001b[0mns\u001b[0m\u001b[0;34m)\u001b[0m\u001b[0;34m\u001b[0m\u001b[0m\n",
      "\u001b[0;32m/home/aetb/.local/lib/python2.7/site-packages/allantools/allantools.pyc\u001b[0m in \u001b[0;36mcalc_htotdev_freq\u001b[0;34m(freq, m)\u001b[0m\n\u001b[1;32m    893\u001b[0m         \u001b[0mk\u001b[0m \u001b[0;34m=\u001b[0m \u001b[0;36m0\u001b[0m\u001b[0;34m\u001b[0m\u001b[0m\n\u001b[1;32m    894\u001b[0m         \u001b[0;32mfor\u001b[0m \u001b[0mj\u001b[0m \u001b[0;32min\u001b[0m \u001b[0mrange\u001b[0m\u001b[0;34m(\u001b[0m\u001b[0;36m0\u001b[0m\u001b[0;34m,\u001b[0m \u001b[0;36m6\u001b[0m\u001b[0;34m*\u001b[0m\u001b[0mint\u001b[0m\u001b[0;34m(\u001b[0m\u001b[0mm\u001b[0m\u001b[0;34m)\u001b[0m\u001b[0;34m)\u001b[0m\u001b[0;34m:\u001b[0m \u001b[0;31m# summation of the 6m terms.\u001b[0m\u001b[0;34m\u001b[0m\u001b[0m\n\u001b[0;32m--> 895\u001b[0;31m             \u001b[0mxmean1\u001b[0m \u001b[0;34m=\u001b[0m \u001b[0mnp\u001b[0m\u001b[0;34m.\u001b[0m\u001b[0mmean\u001b[0m\u001b[0;34m(\u001b[0m\u001b[0mxstar\u001b[0m\u001b[0;34m[\u001b[0m\u001b[0mj\u001b[0m\u001b[0;34m+\u001b[0m\u001b[0;36m0\u001b[0m\u001b[0;34m*\u001b[0m\u001b[0mm\u001b[0m \u001b[0;34m:\u001b[0m \u001b[0mj\u001b[0m\u001b[0;34m+\u001b[0m\u001b[0;36m1\u001b[0m\u001b[0;34m*\u001b[0m\u001b[0mm\u001b[0m\u001b[0;34m]\u001b[0m\u001b[0;34m)\u001b[0m\u001b[0;34m\u001b[0m\u001b[0m\n\u001b[0m\u001b[1;32m    896\u001b[0m             \u001b[0mxmean2\u001b[0m \u001b[0;34m=\u001b[0m \u001b[0mnp\u001b[0m\u001b[0;34m.\u001b[0m\u001b[0mmean\u001b[0m\u001b[0;34m(\u001b[0m\u001b[0mxstar\u001b[0m\u001b[0;34m[\u001b[0m\u001b[0mj\u001b[0m\u001b[0;34m+\u001b[0m\u001b[0;36m1\u001b[0m\u001b[0;34m*\u001b[0m\u001b[0mm\u001b[0m \u001b[0;34m:\u001b[0m \u001b[0mj\u001b[0m\u001b[0;34m+\u001b[0m\u001b[0;36m2\u001b[0m\u001b[0;34m*\u001b[0m\u001b[0mm\u001b[0m\u001b[0;34m]\u001b[0m\u001b[0;34m)\u001b[0m\u001b[0;34m\u001b[0m\u001b[0m\n\u001b[1;32m    897\u001b[0m             \u001b[0mxmean3\u001b[0m \u001b[0;34m=\u001b[0m \u001b[0mnp\u001b[0m\u001b[0;34m.\u001b[0m\u001b[0mmean\u001b[0m\u001b[0;34m(\u001b[0m\u001b[0mxstar\u001b[0m\u001b[0;34m[\u001b[0m\u001b[0mj\u001b[0m\u001b[0;34m+\u001b[0m\u001b[0;36m2\u001b[0m\u001b[0;34m*\u001b[0m\u001b[0mm\u001b[0m \u001b[0;34m:\u001b[0m \u001b[0mj\u001b[0m\u001b[0;34m+\u001b[0m\u001b[0;36m3\u001b[0m\u001b[0;34m*\u001b[0m\u001b[0mm\u001b[0m\u001b[0;34m]\u001b[0m\u001b[0;34m)\u001b[0m\u001b[0;34m\u001b[0m\u001b[0m\n",
      "\u001b[0;32m/home/aetb/.local/lib/python2.7/site-packages/numpy/core/fromnumeric.pyc\u001b[0m in \u001b[0;36mmean\u001b[0;34m(a, axis, dtype, out, keepdims)\u001b[0m\n\u001b[1;32m   2918\u001b[0m \u001b[0;34m\u001b[0m\u001b[0m\n\u001b[1;32m   2919\u001b[0m     return _methods._mean(a, axis=axis, dtype=dtype,\n\u001b[0;32m-> 2920\u001b[0;31m                           out=out, **kwargs)\n\u001b[0m\u001b[1;32m   2921\u001b[0m \u001b[0;34m\u001b[0m\u001b[0m\n\u001b[1;32m   2922\u001b[0m \u001b[0;34m\u001b[0m\u001b[0m\n",
      "\u001b[0;32m/home/aetb/.local/lib/python2.7/site-packages/numpy/core/_methods.pyc\u001b[0m in \u001b[0;36m_mean\u001b[0;34m(a, axis, dtype, out, keepdims)\u001b[0m\n\u001b[1;32m     73\u001b[0m             \u001b[0mis_float16_result\u001b[0m \u001b[0;34m=\u001b[0m \u001b[0mTrue\u001b[0m\u001b[0;34m\u001b[0m\u001b[0m\n\u001b[1;32m     74\u001b[0m \u001b[0;34m\u001b[0m\u001b[0m\n\u001b[0;32m---> 75\u001b[0;31m     \u001b[0mret\u001b[0m \u001b[0;34m=\u001b[0m \u001b[0mumr_sum\u001b[0m\u001b[0;34m(\u001b[0m\u001b[0marr\u001b[0m\u001b[0;34m,\u001b[0m \u001b[0maxis\u001b[0m\u001b[0;34m,\u001b[0m \u001b[0mdtype\u001b[0m\u001b[0;34m,\u001b[0m \u001b[0mout\u001b[0m\u001b[0;34m,\u001b[0m \u001b[0mkeepdims\u001b[0m\u001b[0;34m)\u001b[0m\u001b[0;34m\u001b[0m\u001b[0m\n\u001b[0m\u001b[1;32m     76\u001b[0m     \u001b[0;32mif\u001b[0m \u001b[0misinstance\u001b[0m\u001b[0;34m(\u001b[0m\u001b[0mret\u001b[0m\u001b[0;34m,\u001b[0m \u001b[0mmu\u001b[0m\u001b[0;34m.\u001b[0m\u001b[0mndarray\u001b[0m\u001b[0;34m)\u001b[0m\u001b[0;34m:\u001b[0m\u001b[0;34m\u001b[0m\u001b[0m\n\u001b[1;32m     77\u001b[0m         ret = um.true_divide(\n",
      "\u001b[0;31mKeyboardInterrupt\u001b[0m: "
     ]
    }
   ],
   "source": [
    "%%time\n",
    "\n",
    "taus_in = np.round(np.power(10, np.arange(0,5,1)))\n",
    "\n",
    "taus, adev, _, _ = allantools.htotdev((moment_df['tr,m1']-vtm_df['st5,m1']).values, data_type='freq', rate=1, taus=taus_in)\n",
    "plt.loglog(taus, adev, '.')\n",
    "\n",
    "taus, adev, _, _ = allantools.htotdev((moment_df['tr,m1']-0.5*vtm_df['st4,m1']-0.5*vtm_df['st6,m1']).values, data_type='freq', rate=1, taus=taus_in)\n",
    "plt.loglog(taus, adev, '.')"
   ]
  },
  {
   "cell_type": "code",
   "execution_count": null,
   "metadata": {},
   "outputs": [],
   "source": [
    "taus_in = np.round(np.power(10, np.arange(0,5,0.05)))\n",
    "\n",
    "taus, adev, _, _ = allantools.oadev((moment_df['tr,m1']-vtm_df['st5,m1']).values, data_type='freq', rate=1, taus=taus_in)\n",
    "plt.loglog(taus, adev, '.')\n",
    "\n",
    "taus, adev, _, _ = allantools.ohdev((moment_df['tr,m1']-vtm_df['st5,m1']).values, data_type='freq', rate=1, taus=taus_in)\n",
    "plt.loglog(taus, adev, '.')"
   ]
  },
  {
   "cell_type": "code",
   "execution_count": null,
   "metadata": {},
   "outputs": [],
   "source": [
    "57*60*60"
   ]
  },
  {
   "cell_type": "code",
   "execution_count": null,
   "metadata": {},
   "outputs": [],
   "source": [
    "taus_in = np.round(np.power(10, np.arange(0,5.5,0.05)))\n",
    "\n",
    "taus, adev, _, _ = allantools.oadev((moment_df['tr,m1']-0.5*vtm_df['st4,m1']-0.5*vtm_df['st6,m1']).values, data_type='freq', rate=1, taus=taus_in)\n",
    "plt.loglog(taus, adev, '.')"
   ]
  },
  {
   "cell_type": "code",
   "execution_count": null,
   "metadata": {},
   "outputs": [],
   "source": [
    "fps = ['fp'+str(fp) for fp in trfp.STATION_PROBE_ID[5]]\n",
    "\n",
    "for fp in fps:\n",
    "    taus, adev, _, _ = allantools.oadev(interp_df[fp].values, data_type='freq', rate=1, taus=taus_in)\n",
    "    plt.loglog(taus, adev, '.', label=fp)\n",
    "plt.legend()"
   ]
  },
  {
   "cell_type": "code",
   "execution_count": null,
   "metadata": {
    "scrolled": true
   },
   "outputs": [],
   "source": [
    "fps = ['fp'+str(fp) for fp in trfp.STATION_PROBE_ID[32]]\n",
    "\n",
    "for fp in fps:\n",
    "    taus, adev, _, _ = allantools.oadev(interp_df[fp].values, data_type='freq', rate=1, taus=taus_in)\n",
    "    plt.loglog(taus, adev, '.', label=fp)\n",
    "plt.legend()"
   ]
  },
  {
   "cell_type": "code",
   "execution_count": null,
   "metadata": {},
   "outputs": [],
   "source": [
    "interp_df_2 = pd.read_hdf('hdf5/9day.h5', 'fp_df_1')"
   ]
  },
  {
   "cell_type": "code",
   "execution_count": null,
   "metadata": {},
   "outputs": [],
   "source": [
    "fps = ['fp'+str(fp) for fp in trfp.STATION_PROBE_ID[5]]\n",
    "\n",
    "for fp in fps:\n",
    "    taus, adev, _, _ = allantools.oadev(interp_df_2[fp].values, data_type='freq', rate=1, taus=taus_in)\n",
    "    plt.loglog(taus, adev, '.', label=fp)\n",
    "plt.legend()"
   ]
  },
  {
   "cell_type": "code",
   "execution_count": null,
   "metadata": {},
   "outputs": [],
   "source": [
    "interp_df_3 = pd.read_hdf('hdf5/super-long_stationary_run.h5', 'interp_df')"
   ]
  },
  {
   "cell_type": "code",
   "execution_count": null,
   "metadata": {
    "scrolled": true
   },
   "outputs": [],
   "source": [
    "taus_in = np.round(np.power(10, np.arange(0,5.5,0.05)))\n",
    "\n",
    "taus, adev, _, _ = allantools.oadev((moment_df['tr,m1']-vtm_df['st5,m1']).values, data_type='freq', rate=1, taus=taus_in)\n",
    "plt.loglog(taus, adev, '.')\n",
    "\n",
    "taus, adev, _, _ = allantools.oadev((moment_df['tr,m1']-0.5*vtm_df['st4,m1']-0.5*vtm_df['st6,m1']).values, data_type='freq', rate=1, taus=taus_in)\n",
    "plt.loglog(taus, adev, '.')\n",
    "\n",
    "new_dipole = (interp_df['fp33'] + interp_df['fp34'] + interp_df['fp35'])/3\n",
    "\n",
    "taus, adev, _, _ = allantools.oadev((moment_df['tr,m1']-new_dipole).values, data_type='freq', rate=1, taus=taus_in)\n",
    "plt.loglog(taus, adev, '.')"
   ]
  },
  {
   "cell_type": "code",
   "execution_count": null,
   "metadata": {},
   "outputs": [],
   "source": []
  },
  {
   "cell_type": "code",
   "execution_count": null,
   "metadata": {},
   "outputs": [],
   "source": [
    "new_m3 = 0.5*vtm_df['st4,m3'] + 0.5*vtm_df['st6,m3']\n",
    "new_m3 = new_m3 - new_m3.values[0]\n",
    "\n",
    "adjusted_m1 = new_dipole - new_m3*7.7/4.5\n",
    "\n",
    "taus_in = np.round(np.power(10, np.arange(0,5,0.05)))\n",
    "\n",
    "taus, adev, _, _ = allantools.oadev((moment_df['tr,m1']-vtm_df['st5,m1']).values, data_type='freq', rate=1, taus=taus_in)\n",
    "plt.loglog(taus, adev, '.')\n",
    "\n",
    "taus, adev, _, _ = allantools.oadev((moment_df['tr,m1']-0.5*vtm_df['st4,m1']-0.5*vtm_df['st6,m1']).values, data_type='freq', rate=1, taus=taus_in)\n",
    "plt.loglog(taus, adev, '.')\n",
    "\n",
    "taus, adev, _, _ = allantools.oadev((moment_df['tr,m1']-adjusted_m1).values, data_type='freq', rate=1, taus=taus_in)\n",
    "plt.loglog(taus, adev, '.')"
   ]
  },
  {
   "cell_type": "code",
   "execution_count": null,
   "metadata": {},
   "outputs": [],
   "source": []
  }
 ],
 "metadata": {
  "kernelspec": {
   "display_name": "Python 2",
   "language": "python",
   "name": "python2"
  },
  "language_info": {
   "codemirror_mode": {
    "name": "ipython",
    "version": 2
   },
   "file_extension": ".py",
   "mimetype": "text/x-python",
   "name": "python",
   "nbconvert_exporter": "python",
   "pygments_lexer": "ipython2",
   "version": "2.7.17"
  }
 },
 "nbformat": 4,
 "nbformat_minor": 2
}
