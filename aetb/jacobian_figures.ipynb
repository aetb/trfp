{
 "cells": [
  {
   "cell_type": "code",
   "execution_count": 4,
   "metadata": {},
   "outputs": [],
   "source": [
    "import numpy as np\n",
    "import matplotlib.pyplot as plt\n",
    "import seaborn as sns\n",
    "import scipy\n",
    "\n",
    "import trfp\n",
    "\n",
    "import matplotlib\n",
    "matplotlib.rc('xtick', labelsize=10)     \n",
    "matplotlib.rc('ytick', labelsize=10)\n",
    "matplotlib.rc('axes', titlesize=10)\n",
    "matplotlib.rc('axes', labelsize=10)\n",
    "plt.rcParams[\"font.family\"] = \"serif\"\n",
    "\n",
    "sns.set_style('darkgrid')\n",
    "\n",
    "\n",
    "tr_x = np.array([0] + [1.75 * np.sin(2*np.pi/4*i) for i in np.arange(4)] + [3.5 * np.sin(2*np.pi/12*i) for i in np.arange(12)])\n",
    "tr_y = np.array([0] + [-1.75 * np.cos(2*np.pi/4*i) for i in np.arange(4)] + [-3.5 * np.cos(2*np.pi/12*i) for i in np.arange(12)])\n",
    "\n",
    "fp_x = np.array([-3, 0, 3, -3, 0, 3])\n",
    "fp_x_offset = np.array([-4, -1, 2, -4, -1, 2])\n",
    "fp_y = np.array([7.7, 7.7, 7.7, -7.7, -7.7, -7.7])\n",
    "\n",
    "fp_x_4 = np.array([0, 3, 0, 3])\n",
    "fp_y_4 = np.array([7.7, 7.7, -7.7, -7.7])\n",
    "\n",
    "fp_x_4_st41 = np.array([3, 0, -3, 0])\n",
    "fp_x_4_st37_st39 = np.array([0, 3, -3, 0])\n",
    "\n",
    "def multipole(N,s,A,x,y):\n",
    "    r = np.sqrt(x**2+y**2)\n",
    "    theta = np.arctan2(y,x)\n",
    "    if(s==0):\n",
    "        By = 61.79e6 + A * (r/4.5)**N * np.cos(N*theta)\n",
    "        Bx = A * (r/4.5)**N * np.sin(N*theta)\n",
    "    if(s==1):\n",
    "        By = 61.79e6 + A * (r/4.5)**N * np.sin(N*theta)\n",
    "        Bx = -A * (r/4.5)**N * np.cos(N*theta)\n",
    "    B = np.sqrt(Bx**2 + By**2) - 61.79e6\n",
    "    return B\n",
    "\n",
    "Ns = [0,1,1,2,2,3,3,4,4,5,5,6,6,7,7,8,8];\n",
    "ss = [0,0,1,1,0,1,0,0,1,0,1,0,1,0,1,0,1];\n",
    "\n",
    "# THETA_TR = np.linalg.pinv(np.transpose(np.array([multipole(Ns[i],ss[i],1,tr_x,tr_y) for i in np.arange(17)])))\n",
    "\n",
    "THETA_FP_6 = np.array([np.array([1, 1, 1, 1, 1, 1])/6.,  # dipole\n",
    "                       np.array([1, 0, -1, 1, 0, -1])/-12.*4.5,  # n quad\n",
    "                       np.array([1, 1, 1, -1, -1, -1])/46.2*4.5,  # s quad\n",
    "                       np.array([1, 0, -1, -1, 0, 1])/-92.4/2.*4.5**2,  # s sext\n",
    "                       np.array([1, -2, 1, 1, -2, 1])/18./2.*4.5**2,  # n sext\n",
    "                       np.array([1, -2, 1, -1, 2, -1])/-138.6*4.5**3]  # NOT oct\n",
    "                     )\n",
    "\n",
    "THETA_FP_4 = np.array([np.array([1, 0, 1, 0])/2.,  # dipole\n",
    "                       np.array([1, -1, 1, -1])/-6.*4.5,  # n quad\n",
    "                       np.array([1, 1, -1, -1])/30.8*4.5,  # s quad\n",
    "                       np.array([1, -1, -1, 1])/-46.2/2*4.5**2]  # sext\n",
    "                     )\n",
    "\n",
    "THETA_FP_4_ST37_ST39 = np.array([np.array([1, 0, 0, 1])/2.,  #dipole\n",
    "                                 np.array([-1, 1, -1, 1])/6.*4.5,  # n quad\n",
    "                                 np.array([1, 1, -1, -1])/30.8*4.5,  # s quad\n",
    "                                 np.array([-1, 1, 1, -1])/46.2/2*4.5**2]  # sext?\n",
    "                               )\n",
    "\n",
    "THETA_FP_4_ST41 = np.array([np.array([0, 1, 0, 1])/2.,  #dipole\n",
    "                            np.array([1, -1, -1, 1])/6.*4.5,  # n quad\n",
    "                            np.array([1, 1, -1, -1])/30.8*4.5,  # s quad\n",
    "                            np.array([1, -1, 1, -1])/46.2/2*4.5**2]  # sext?\n",
    "                          )"
   ]
  },
  {
   "cell_type": "code",
   "execution_count": 26,
   "metadata": {},
   "outputs": [],
   "source": [
    "Nss = [[0,0], [1,0], [1,1], [2,1], [2,0]]\n",
    "\n",
    "J_6_PROBE = np.empty((5,5))\n",
    "for i in range(5):\n",
    "    Ns = Nss[i]\n",
    "\n",
    "    B_fp = multipole(Ns[0], Ns[1], 1, fp_x, fp_y)\n",
    "    J_6_PROBE[:, i] = np.matmul(THETA_FP_6, B_fp)[0:5]\n",
    "J_6_PROBE = np.linalg.inv(J_6_PROBE)\n",
    "J_6_PROBE[np.abs(J_6_PROBE)<1.0e-6] = 0\n",
    "\n",
    "J_6_PROBE = np.round(J_6_PROBE, 3)"
   ]
  },
  {
   "cell_type": "code",
   "execution_count": 36,
   "metadata": {},
   "outputs": [
    {
     "name": "stdout",
     "output_type": "stream",
     "text": [
      "1.0 & 0.222 & 0 & 0 & 2.681\\\\\n",
      "0 & 1.0 & 0 & 0 & 0.444\\\\\n",
      "0 & 0 & 1.0 & 0.444 & 0\\\\\n",
      "0 & 0 & 0 & 1.0 & 0\\\\\n",
      "0 & 0 & 0 & 0 & 1.0\\\\\n"
     ]
    }
   ],
   "source": [
    "matrix = trfp.matrices.J_6_PROBE_OFFSET\n",
    "\n",
    "for row in matrix:\n",
    "    row_str = [str(item) for item in np.round(row,3)]\n",
    "    for i in range(len(row_str)):\n",
    "        if row_str[i] == '0.0':\n",
    "            row_str[i] = '0'\n",
    "    print \" & \".join(row_str) + r\"\\\\\""
   ]
  },
  {
   "cell_type": "code",
   "execution_count": 32,
   "metadata": {},
   "outputs": [
    {
     "name": "stdout",
     "output_type": "stream",
     "text": [
      "1.0 & 0 & 0 & 0 & 2.9279\\\\\n",
      "0 & 1.0 & 0 & 0 & 0\\\\\n",
      "0 & -0.1948 & 1.0 & 0 & 0\\\\\n",
      "0 & 0 & 0 & 1.0 & -0.1948\\\\\n",
      "0 & 0 & 0 & 0 & 1.0\\\\\n"
     ]
    }
   ],
   "source": [
    "matrix = trfp.matrices.J_4_PROBE_ST41\n",
    "\n",
    "for row in matrix:\n",
    "    row_str = [str(item) for item in np.round(row,4)]\n",
    "    for i in range(len(row_str)):\n",
    "        if row_str[i] == '0.0':\n",
    "            row_str[i] = '0'\n",
    "    print \" & \".join(row_str) + r\"\\\\\""
   ]
  },
  {
   "cell_type": "code",
   "execution_count": null,
   "metadata": {},
   "outputs": [],
   "source": []
  }
 ],
 "metadata": {
  "kernelspec": {
   "display_name": "Python 2",
   "language": "python",
   "name": "python2"
  },
  "language_info": {
   "codemirror_mode": {
    "name": "ipython",
    "version": 2
   },
   "file_extension": ".py",
   "mimetype": "text/x-python",
   "name": "python",
   "nbconvert_exporter": "python",
   "pygments_lexer": "ipython2",
   "version": "2.7.14"
  }
 },
 "nbformat": 4,
 "nbformat_minor": 2
}
