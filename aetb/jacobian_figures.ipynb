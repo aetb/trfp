{
 "cells": [
  {
   "cell_type": "code",
   "execution_count": 15,
   "metadata": {},
   "outputs": [],
   "source": [
    "import numpy as np\n",
    "import matplotlib.pyplot as plt\n",
    "import seaborn as sns\n",
    "import scipy\n",
    "\n",
    "import trfp\n",
    "\n",
    "import matplotlib\n",
    "matplotlib.rc('xtick', labelsize=10)     \n",
    "matplotlib.rc('ytick', labelsize=10)\n",
    "matplotlib.rc('axes', titlesize=10)\n",
    "matplotlib.rc('axes', labelsize=10)\n",
    "plt.rcParams[\"font.family\"] = \"serif\"\n",
    "\n",
    "sns.set_style('darkgrid')\n",
    "\n",
    "\n",
    "tr_x = np.array([0] + [1.75 * np.sin(2*np.pi/4*i) for i in np.arange(4)] + [3.5 * np.sin(2*np.pi/12*i) for i in np.arange(12)])\n",
    "tr_y = np.array([0] + [-1.75 * np.cos(2*np.pi/4*i) for i in np.arange(4)] + [-3.5 * np.cos(2*np.pi/12*i) for i in np.arange(12)])\n",
    "\n",
    "fp_x = np.array([-3, 0, 3, -3, 0, 3])\n",
    "fp_x_offset = np.array([-4, -1, 2, -4, -1, 2])\n",
    "fp_y = np.array([7.7, 7.7, 7.7, -7.7, -7.7, -7.7])\n",
    "\n",
    "fp_x_4 = np.array([0, 3, 0, 3])\n",
    "fp_y_4 = np.array([7.7, 7.7, -7.7, -7.7])\n",
    "\n",
    "fp_x_4_st41 = np.array([3, 0, -3, 0])\n",
    "fp_x_4_st37_st39 = np.array([0, 3, -3, 0])\n",
    "\n",
    "def multipole(N,s,A,x,y):\n",
    "    r = np.sqrt(x**2+y**2)\n",
    "    theta = np.arctan2(y,x)\n",
    "    if(s==0):\n",
    "        By = 61.79e6 + A * (r/4.5)**N * np.cos(N*theta)\n",
    "        Bx = A * (r/4.5)**N * np.sin(N*theta)\n",
    "    if(s==1):\n",
    "        By = 61.79e6 + A * (r/4.5)**N * np.sin(N*theta)\n",
    "        Bx = -A * (r/4.5)**N * np.cos(N*theta)\n",
    "    B = np.sqrt(Bx**2 + By**2) - 61.79e6\n",
    "    return B\n",
    "\n",
    "Ns = [0,1,1,2,2,3,3,4,4,5,5,6,6,7,7,8,8];\n",
    "ss = [0,0,1,1,0,1,0,0,1,0,1,0,1,0,1,0,1];\n",
    "\n",
    "THETA_TR = np.linalg.pinv(np.transpose(np.array([multipole(Ns[i],ss[i],1,tr_x,tr_y) for i in np.arange(17)])))\n",
    "\n",
    "THETA_FP_6 = np.array([np.array([1, 1, 1, 1, 1, 1])/6.,  # dipole\n",
    "                       np.array([1, 0, -1, 1, 0, -1])/-12.*4.5,  # n quad\n",
    "                       np.array([1, 1, 1, -1, -1, -1])/46.2*4.5,  # s quad\n",
    "                       np.array([1, 0, -1, -1, 0, 1])/-92.4/2.*4.5**2,  # s sext\n",
    "                       np.array([1, -2, 1, 1, -2, 1])/18./2.*4.5**2,  # n sext\n",
    "                       np.array([1, -2, 1, -1, 2, -1])/-138.6*4.5**3]  # NOT oct\n",
    "                     )\n",
    "\n",
    "THETA_FP_4 = np.array([np.array([1, 0, 1, 0])/2.,  # dipole\n",
    "                       np.array([1, -1, 1, -1])/-6.*4.5,  # n quad\n",
    "                       np.array([1, 1, -1, -1])/30.8*4.5,  # s quad\n",
    "                       np.array([1, -1, -1, 1])/-46.2/2*4.5**2]  # sext\n",
    "                     )\n",
    "\n",
    "THETA_FP_4_ST37_ST39 = np.array([np.array([1, 0, 0, 1])/2.,  #dipole\n",
    "                                 np.array([-1, 1, -1, 1])/6.*4.5,  # n quad\n",
    "                                 np.array([1, 1, -1, -1])/30.8*4.5,  # s quad\n",
    "                                 np.array([-1, 1, 1, -1])/46.2/2*4.5**2]  # sext?\n",
    "                               )\n",
    "\n",
    "THETA_FP_4_ST41 = np.array([np.array([0, 1, 0, 1])/2.,  #dipole\n",
    "                            np.array([1, -1, -1, 1])/6.*4.5,  # n quad\n",
    "                            np.array([1, 1, -1, -1])/30.8*4.5,  # s quad\n",
    "                            np.array([1, -1, 1, -1])/46.2/2*4.5**2]  # sext?\n",
    "                          )"
   ]
  },
  {
   "cell_type": "code",
   "execution_count": 2,
   "metadata": {},
   "outputs": [],
   "source": [
    "multipole2 = trfp.matrices.__multipole"
   ]
  },
  {
   "cell_type": "code",
   "execution_count": 17,
   "metadata": {},
   "outputs": [
    {
     "data": {
      "text/plain": [
       "array([ 2.63122337e-09, -2.66432043e-09, -1.31977762e-14, -3.87190280e-15,\n",
       "       -7.88756740e-09,  2.03813215e-14,  3.13363369e-14, -2.98811337e-10,\n",
       "       -3.92741395e-14,  3.07344536e-08,  7.30970839e-13,  5.63686714e-09,\n",
       "        1.04621662e-18, -4.83865907e-08,  1.04360964e-12,  1.77635684e-15,\n",
       "        9.71445147e-17])"
      ]
     },
     "execution_count": 17,
     "metadata": {},
     "output_type": "execute_result"
    }
   ],
   "source": [
    "A = multipole(1,0,1,tr_x, tr_y)\n",
    "B = multipole2(1,0,1,tr_x, tr_y)\n",
    "\n",
    "np.matmul(trfp.THETA_TR, A) - np.matmul(THETA_TR, A)"
   ]
  },
  {
   "cell_type": "code",
   "execution_count": 9,
   "metadata": {},
   "outputs": [
    {
     "data": {
      "text/plain": [
       "array([ 1.87243072e-03, -2.05434389e-08, -2.70006240e-13,  1.42108547e-13,\n",
       "       -4.04596133e-03,  3.16705382e-08, -1.61113242e-13, -1.43147479e-04,\n",
       "        8.52651283e-14,  7.94957941e-07,  1.18234311e-11, -2.10036433e-11,\n",
       "        0.00000000e+00, -1.31747629e-06,  2.09183781e-11,  0.00000000e+00,\n",
       "        0.00000000e+00])"
      ]
     },
     "execution_count": 9,
     "metadata": {},
     "output_type": "execute_result"
    }
   ],
   "source": []
  },
  {
   "cell_type": "code",
   "execution_count": null,
   "metadata": {},
   "outputs": [],
   "source": [
    "Nss = [[0,0], [1,0], [1,1], [2,1], [2,0]]\n",
    "\n",
    "J_6_PROBE = np.empty((5,5))\n",
    "for i in range(5):\n",
    "    Ns = Nss[i]\n",
    "\n",
    "    B_fp = multipole(Ns[0], Ns[1], 1, fp_x, fp_y)\n",
    "    J_6_PROBE[:, i] = np.matmul(THETA_FP_6, B_fp)[0:5]\n",
    "J_6_PROBE = np.linalg.inv(J_6_PROBE)\n",
    "J_6_PROBE[np.abs(J_6_PROBE)<1.0e-6] = 0\n",
    "\n",
    "J_6_PROBE = np.round(J_6_PROBE, 3)"
   ]
  },
  {
   "cell_type": "code",
   "execution_count": null,
   "metadata": {},
   "outputs": [],
   "source": [
    "matrix = trfp.matrices.J_6_PROBE_OFFSET\n",
    "\n",
    "for row in matrix:\n",
    "    row_str = [str(item) for item in np.round(row,3)]\n",
    "    for i in range(len(row_str)):\n",
    "        if row_str[i] == '0.0':\n",
    "            row_str[i] = '0'\n",
    "    print \" & \".join(row_str) + r\"\\\\\""
   ]
  },
  {
   "cell_type": "code",
   "execution_count": null,
   "metadata": {},
   "outputs": [],
   "source": [
    "matrix = trfp.matrices.J_4_PROBE_ST41\n",
    "\n",
    "for row in matrix:\n",
    "    row_str = [str(item) for item in np.round(row,4)]\n",
    "    for i in range(len(row_str)):\n",
    "        if row_str[i] == '0.0':\n",
    "            row_str[i] = '0'\n",
    "    print \" & \".join(row_str) + r\"\\\\\""
   ]
  },
  {
   "cell_type": "code",
   "execution_count": null,
   "metadata": {},
   "outputs": [],
   "source": []
  }
 ],
 "metadata": {
  "kernelspec": {
   "display_name": "Python 2",
   "language": "python",
   "name": "python2"
  },
  "language_info": {
   "codemirror_mode": {
    "name": "ipython",
    "version": 2
   },
   "file_extension": ".py",
   "mimetype": "text/x-python",
   "name": "python",
   "nbconvert_exporter": "python",
   "pygments_lexer": "ipython2",
   "version": "2.7.14"
  }
 },
 "nbformat": 4,
 "nbformat_minor": 2
}
