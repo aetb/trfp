{
 "cells": [
  {
   "cell_type": "code",
   "execution_count": 84,
   "metadata": {},
   "outputs": [],
   "source": [
    "## generates figures demonstrating how the time grid interpolation works\n",
    "\n",
    "%matplotlib inline\n",
    "import matplotlib\n",
    "import matplotlib.pyplot as plt\n",
    "\n",
    "import seaborn as sns\n",
    "\n",
    "import numpy as np\n",
    "import pandas as pd\n",
    "import scipy\n",
    "from scipy.integrate import cumtrapz\n",
    "\n",
    "import trfp\n",
    "import gm2\n",
    "\n",
    "matplotlib.rc('xtick', labelsize=10)     \n",
    "matplotlib.rc('ytick', labelsize=10)\n",
    "matplotlib.rc('axes', titlesize=10)\n",
    "matplotlib.rc('axes', labelsize=10)\n",
    "plt.rcParams[\"font.family\"] = \"serif\"\n",
    "\n",
    "sns.set_style('darkgrid')"
   ]
  },
  {
   "cell_type": "code",
   "execution_count": 2,
   "metadata": {},
   "outputs": [
    {
     "name": "stdout",
     "output_type": "stream",
     "text": [
      "Reading event 4360/4370 99.77%  \n",
      "loop done: 100%                                    \n"
     ]
    }
   ],
   "source": [
    "## import a single run from ROOT. 3960 is fine.\n",
    "prefix = 'data1/newg2/DataProduction/Offline/ArtTFSDir/v9_20_00/FieldPlainRootOutput_'\n",
    "fp_run = gm2.FixedProbe([3960], prefix=prefix)\n",
    "fp_time, fp_freq, fp_qual = fp_run.getBasics()\n",
    "# drop first event, which is always 0 from import\n",
    "fp_time = fp_time[1:,:]/1.0e9  # convert nsec to sec\n",
    "fp_freq = fp_freq[1:,:]\n",
    "fp_qual = fp_qual[1:,:]"
   ]
  },
  {
   "cell_type": "code",
   "execution_count": 17,
   "metadata": {},
   "outputs": [],
   "source": [
    "grid_times = np.arange(np.ceil(np.max(fp_time[0,:])),\n",
    "                       np.floor(np.min(fp_time[-1,:]))+1,\n",
    "                       1.0)\n",
    "edge_times = np.arange(grid_times[0]-0.5, grid_times[-1]+1.5, 1.0)\n",
    "grid_freqs = np.empty([grid_times.size, 378])\n",
    "\n",
    "for fp in range(378):\n",
    "    all_times = np.append(edge_times,fp_time[:,fp])\n",
    "\n",
    "    sort_index = np.argsort(all_times)\n",
    "    unsort_index = np.argsort(sort_index)\n",
    "    edge_index = unsort_index[0:len(grid_times)+1]\n",
    "\n",
    "    # interpolate the freqs on the time grid edges\n",
    "    edge_freqs = np.interp(edge_times, fp_time[:,fp], fp_freq[:,fp])\n",
    "\n",
    "    # sort all times and all freqs by method calculated above\n",
    "    all_freqs = np.append(edge_freqs, fp_freq[:,fp])\n",
    "    sort_freqs = all_freqs[sort_index]\n",
    "    sort_times = all_times[sort_index]\n",
    "\n",
    "    # run cumtrapz on sorted times and freqs\n",
    "    integrated_freqs = cumtrapz(sort_freqs, x=sort_times, initial=0)\n",
    "\n",
    "    # take differences of the integrated freqs at grid edge points\n",
    "    # to find the integral between the two points\n",
    "\n",
    "    grid_freqs[:,fp] = np.diff(integrated_freqs[edge_index])\n"
   ]
  },
  {
   "cell_type": "code",
   "execution_count": null,
   "metadata": {},
   "outputs": [],
   "source": []
  },
  {
   "cell_type": "code",
   "execution_count": 96,
   "metadata": {},
   "outputs": [
    {
     "data": {
      "image/png": "[encoded data removed]",
      "text/plain": [
       "<Figure size 432x216 with 1 Axes>"
      ]
     },
     "metadata": {},
     "output_type": "display_data"
    }
   ],
   "source": [
    "pr = 200\n",
    "range_ = range(100,110)\n",
    "\n",
    "fig1, ax1 = plt.subplots(1,1)\n",
    "\n",
    "ax1.plot(fp_time[range_,pr], fp_freq[range_,pr], color='C0', label='data')\n",
    "ax1.plot(fp_time[range_,pr], fp_freq[range_,pr], '.', color='C0', markersize=7)\n",
    "\n",
    "ylow, yhigh = ax1.get_ylim()\n",
    "xlow, xhigh = ax1.get_xlim()\n",
    "\n",
    "ax1.plot(fp_time[:,pr], fp_freq[:,pr], color='C0')\n",
    "\n",
    "ax1.vlines(edge_times, ylow, yhigh, linestyles='dashed', color='C1', label='limits')\n",
    "\n",
    "ax1.fill_between(fp_time[:,pr], fp_freq[:,pr], color='C9')\n",
    "\n",
    "ax1.plot(grid_times[:], grid_freqs[:,pr], '.', color='C1', markersize=7, label='interpolated points')\n",
    "\n",
    "ax1.set_xlim(xlow+0.5, xhigh-0.5)\n",
    "ax1.set_ylim(ylow, yhigh)\n",
    "\n",
    "ax1.set_ylabel('frequency - 61.79 MHz (Hz)', fontdict={'family':'serif'})\n",
    "\n",
    "xticks = ax1.get_xticks()\n",
    "ax1.set_xticklabels(xticks-xticks[0]-2)\n",
    "ax1.set_xlabel('time (sec)', fontdict={'family':'serif'})\n",
    "\n",
    "ax1.legend(prop={'size':10, 'family':'serif'})\n",
    "\n",
    "fig1.set_size_inches(6,3)\n",
    "fig1.tight_layout()\n",
    "\n",
    "fig1.savefig('time_grid.png', dpi=300)"
   ]
  },
  {
   "cell_type": "code",
   "execution_count": 53,
   "metadata": {},
   "outputs": [
    {
     "data": {
      "text/plain": [
       "array([1.52439102e+09, 1.52439102e+09, 1.52439102e+09, 1.52439102e+09,\n",
       "       1.52439102e+09, 1.52439103e+09, 1.52439103e+09, 1.52439103e+09,\n",
       "       1.52439103e+09, 1.52439103e+09])"
      ]
     },
     "execution_count": 53,
     "metadata": {},
     "output_type": "execute_result"
    }
   ],
   "source": [
    "xticks"
   ]
  },
  {
   "cell_type": "code",
   "execution_count": null,
   "metadata": {},
   "outputs": [],
   "source": []
  }
 ],
 "metadata": {
  "kernelspec": {
   "display_name": "Python 2",
   "language": "python",
   "name": "python2"
  },
  "language_info": {
   "codemirror_mode": {
    "name": "ipython",
    "version": 2
   },
   "file_extension": ".py",
   "mimetype": "text/x-python",
   "name": "python",
   "nbconvert_exporter": "python",
   "pygments_lexer": "ipython2",
   "version": "2.7.14"
  }
 },
 "nbformat": 4,
 "nbformat_minor": 2
}
