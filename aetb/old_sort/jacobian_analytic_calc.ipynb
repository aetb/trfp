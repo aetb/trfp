{
 "cells": [
  {
   "cell_type": "code",
   "execution_count": 1,
   "metadata": {
    "colab": {},
    "colab_type": "code",
    "id": "ytSvQQLChLDp"
   },
   "outputs": [],
   "source": [
    "import numpy as np\n",
    "import matplotlib.pyplot as plt\n",
    "import scipy\n",
    "\n",
    "\n",
    "tr_x = np.array([0] + [1.75 * np.sin(2*np.pi/4*i) for i in np.arange(4)] + [3.5 * np.sin(2*np.pi/12*i) for i in np.arange(12)])\n",
    "tr_y = np.array([0] + [-1.75 * np.cos(2*np.pi/4*i) for i in np.arange(4)] + [-3.5 * np.cos(2*np.pi/12*i) for i in np.arange(12)])\n",
    "\n",
    "fp_x = np.array([-3, 0, 3, -3, 0, 3])\n",
    "fp_x_offset = np.array([-4, -1, 2, -4, -1, 2])\n",
    "fp_y = np.array([7.7, 7.7, 7.7, -7.7, -7.7, -7.7])\n",
    "\n",
    "fp_x_4 = np.array([0, 3, 0, 3])\n",
    "fp_y_4 = np.array([7.7, 7.7, -7.7, -7.7])\n",
    "\n",
    "fp_x_4_st41 = np.array([3, 0, -3, 0])\n",
    "fp_x_4_st37_st39 = np.array([0, 3, -3, 0])\n",
    "\n",
    "def multipole(N,s,A,x,y):\n",
    "    r = np.sqrt(x**2+y**2)\n",
    "    theta = np.arctan2(y,x)\n",
    "    if(s==0):\n",
    "        By = 61.79e6 + A * (r/4.5)**N * np.cos(N*theta)\n",
    "        Bx = A * (r/4.5)**N * np.sin(N*theta)\n",
    "    if(s==1):\n",
    "        By = 61.79e6 + A * (r/4.5)**N * np.sin(N*theta)\n",
    "        Bx = -A * (r/4.5)**N * np.cos(N*theta)\n",
    "    B = np.sqrt(Bx**2 + By**2) - 61.79e6\n",
    "    return B\n",
    "\n",
    "Ns = [0,1,1,2,2,3,3,4,4,5,5,6,6,7,7,8,8];\n",
    "ss = [0,0,1,1,0,0,1,0,1,0,1,0,1,0,1,0,1];\n",
    "\n",
    "# THETA_TR = np.linalg.pinv(np.transpose(np.array([multipole(Ns[i],ss[i],1,tr_x,tr_y) for i in np.arange(17)])))\n",
    "\n",
    "THETA_FP_6 = np.array([np.array([1, 1, 1, 1, 1, 1])/6.,  # dipole\n",
    "                       np.array([1, 0, -1, 1, 0, -1])/-12.*4.5,  # n quad\n",
    "                       np.array([1, 1, 1, -1, -1, -1])/46.2*4.5,  # s quad\n",
    "                       np.array([1, 0, -1, -1, 0, 1])/-92.4/2.*4.5**2,  # s sext\n",
    "                       np.array([1, -2, 1, 1, -2, 1])/18./2.*4.5**2,  # n sext\n",
    "                       np.array([1, -2, 1, -1, 2, -1])/-138.6*4.5**3]  # NOT oct\n",
    "                     )\n",
    "\n",
    "THETA_FP_4 = np.array([np.array([1, 0, 1, 0])/2.,  # dipole\n",
    "                       np.array([1, -1, 1, -1])/-6.*4.5,  # n quad\n",
    "                       np.array([1, 1, -1, -1])/30.8*4.5,  # s quad\n",
    "                       np.array([1, -1, -1, 1])/-46.2/2*4.5**2]  # sext\n",
    "                     )\n",
    "\n",
    "THETA_FP_4_ST37_ST39 = np.array([np.array([1, 0, 0, 1])/2.,  #dipole\n",
    "                                 np.array([-1, 1, -1, 1])/6.*4.5,  # n quad\n",
    "                                 np.array([1, 1, -1, -1])/30.8*4.5,  # s quad\n",
    "                                 np.array([-1, 1, 1, -1])/46.2/2*4.5**2]  # sext?\n",
    "                               )\n",
    "\n",
    "THETA_FP_4_ST41 = np.array([np.array([0, 1, 0, 1])/2.,  #dipole\n",
    "                            np.array([1, -1, -1, 1])/6.*4.5,  # n quad\n",
    "                            np.array([1, 1, -1, -1])/30.8*4.5,  # s quad\n",
    "                            np.array([1, -1, 1, -1])/46.2/2*4.5**2]  # sext?\n",
    "                          )\n",
    "                           "
   ]
  },
  {
   "cell_type": "markdown",
   "metadata": {
    "colab_type": "text",
    "id": "UZSXhwK1G-3S"
   },
   "source": [
    "## Calculate Jacobian matrices"
   ]
  },
  {
   "cell_type": "markdown",
   "metadata": {
    "heading_collapsed": true
   },
   "source": [
    "### Higher order fields into 6 probe stations"
   ]
  },
  {
   "cell_type": "code",
   "execution_count": 6,
   "metadata": {
    "hidden": true
   },
   "outputs": [
    {
     "name": "stdout",
     "output_type": "stream",
     "text": [
      "[-2.63160491  0.          0.          0.          1.00000009  0.        ]\n",
      "[ 3.49913583e+00  0.00000000e+00 -1.11022302e-16  0.00000000e+00\n",
      " -1.71229606e+01 -1.77635684e-15]\n"
     ]
    }
   ],
   "source": [
    "# n sext\n",
    "B_fp = multipole(2, 0, 1, fp_x, fp_y)\n",
    "\n",
    "print np.matmul(THETA_FP_6, B_fp)\n",
    "\n",
    "#n dec\n",
    "B_fp = multipole(4, 0, 1, fp_x, fp_y)\n",
    "\n",
    "print np.matmul(THETA_FP_6, B_fp)"
   ]
  },
  {
   "cell_type": "code",
   "execution_count": 7,
   "metadata": {
    "hidden": true
   },
   "outputs": [
    {
     "name": "stdout",
     "output_type": "stream",
     "text": [
      "[-2.92790124  0.66666673  0.          0.        ]\n",
      "[  8.57260564 -11.41530708   0.           0.        ]\n"
     ]
    }
   ],
   "source": [
    "# n sext\n",
    "B_fp = multipole(2, 0, 1, fp_x_4, fp_y_4)\n",
    "\n",
    "print np.matmul(THETA_FP_4, B_fp)\n",
    "\n",
    "#n dec\n",
    "B_fp = multipole(4, 0, 1, fp_x_4, fp_y_4)\n",
    "\n",
    "print np.matmul(THETA_FP_4, B_fp)"
   ]
  },
  {
   "cell_type": "code",
   "execution_count": null,
   "metadata": {
    "hidden": true
   },
   "outputs": [],
   "source": []
  },
  {
   "cell_type": "markdown",
   "metadata": {
    "colab_type": "text",
    "id": "Fc24EtVoHuxg"
   },
   "source": [
    "### 6-probe stations\n",
    "Normal and (inflector chamber) offset"
   ]
  },
  {
   "cell_type": "code",
   "execution_count": 2,
   "metadata": {
    "colab": {
     "base_uri": "https://localhost:8080/",
     "height": 221
    },
    "colab_type": "code",
    "id": "OJHroDwVkpXN",
    "outputId": "0376e0fc-e9df-4200-cbb5-f615736a15eb"
   },
   "outputs": [],
   "source": [
    "Nss = [[0,0], [1,0], [1,1], [2,1], [2,0]]\n",
    "\n",
    "#####\n",
    "J_6_PROBE = np.empty((5,5))\n",
    "for i in range(5):\n",
    "  Ns = Nss[i]\n",
    "\n",
    "  B_fp = multipole(Ns[0], Ns[1], 1, fp_x, fp_y)\n",
    "  J_6_PROBE[:, i] = np.matmul(THETA_FP_6, B_fp)[0:5]\n",
    "J_6_PROBE = np.linalg.inv(J_6_PROBE)\n",
    "J_6_PROBE[np.abs(J_6_PROBE)<1.0e-6] = 0\n",
    "\n",
    "#####\n",
    "J_6_PROBE_OFFSET = np.empty((5,5))\n",
    "for i in range(5):\n",
    "  Ns = Nss[i]\n",
    "\n",
    "  B_fp = multipole(Ns[0], Ns[1], 1, fp_x_offset, fp_y)\n",
    "  J_6_PROBE_OFFSET[:, i] = np.matmul(THETA_FP_6, B_fp)[0:5]\n",
    "J_6_PROBE_OFFSET = np.linalg.inv(J_6_PROBE_OFFSET)\n",
    "J_6_PROBE_OFFSET[np.abs(J_6_PROBE_OFFSET)<1.0e-6] = 0\n",
    "\n",
    "#####\n",
    "J_4_PROBE = np.zeros((5,5))\n",
    "for i in range(5):\n",
    "  Ns = Nss[i]\n",
    "\n",
    "  B_fp = multipole(Ns[0], Ns[1], 1, fp_x_4, fp_y_4)\n",
    "  J_4_PROBE[0:4, i] = np.matmul(THETA_FP_4, B_fp)[0:4]\n",
    "J_4_PROBE[4,4] = 1\n",
    "J_4_PROBE = np.linalg.inv(J_4_PROBE)\n",
    "J_4_PROBE[np.abs(J_4_PROBE)<1.0e-6] = 0\n",
    "\n",
    "#####\n",
    "J_4_PROBE_ST41 = np.zeros((5,5))\n",
    "for i in range(5):\n",
    "  Ns = Nss[i]\n",
    "  B_fp = multipole(Ns[0], Ns[1], 1, fp_x_4_st41, fp_y_4)\n",
    "  J_4_PROBE_ST41[0:4, i] = np.matmul(THETA_FP_4_ST41, B_fp)[0:4]\n",
    "J_4_PROBE_ST41[4,4] = 1\n",
    "J_4_PROBE_ST41 = np.linalg.inv(J_4_PROBE_ST41)\n",
    "J_4_PROBE_ST41[4,:] = np.array([0, 0, 0, 0, 1])\n",
    "J_4_PROBE_ST41[np.abs(J_4_PROBE_ST41)<1.0e-6] = 0\n",
    "\n",
    "#####\n",
    "J_4_PROBE_ST37_ST39 = np.zeros((5,5))\n",
    "for i in range(5):\n",
    "  Ns = Nss[i]\n",
    "  B_fp = multipole(Ns[0], Ns[1], 1, fp_x_4_st37_st39, fp_y_4)\n",
    "  J_4_PROBE_ST37_ST39[0:4, i] = np.matmul(THETA_FP_4_ST37_ST39, B_fp)[0:4]\n",
    "J_4_PROBE_ST37_ST39[4,4] = 1\n",
    "J_4_PROBE_ST37_ST39 = np.linalg.inv(J_4_PROBE_ST37_ST39)\n",
    "J_4_PROBE_ST37_ST39[4,:] = np.array([0, 0, 0, 0, 1])\n",
    "J_4_PROBE_ST37_ST39[np.abs(J_4_PROBE_ST37_ST39)<1.0e-6] = 0"
   ]
  },
  {
   "cell_type": "markdown",
   "metadata": {
    "colab_type": "text",
    "id": "zCrEusz4Y4zx"
   },
   "source": [
    "### Copy-Pastable Jacobians"
   ]
  },
  {
   "cell_type": "code",
   "execution_count": 3,
   "metadata": {
    "colab": {
     "base_uri": "https://localhost:8080/",
     "height": 122
    },
    "colab_type": "code",
    "id": "ey2aMnm7Y9ps",
    "outputId": "4bc819c1-fdc2-4a2f-e17c-bdc8b1d45fce"
   },
   "outputs": [
    {
     "name": "stdout",
     "output_type": "stream",
     "text": [
      "J_6_PROBE = [[1.0, 0.0, 0.0, 0.0, 2.631605], [0.0, 1.0, 0.0, 0.0, 0.0], [0.0, 0.0, 1.0, 0.0, 0.0], [0.0, 0.0, 0.0, 1.0, 0.0], [0.0, 0.0, 0.0, 0.0, 1.0]]\n",
      "J_6_PROBE_OFFSET = [[1.0, 0.222222, 0.0, 0.0, 2.680987], [0.0, 1.0, 0.0, 0.0, 0.444444], [0.0, 0.0, 1.0, 0.444444, 0.0], [0.0, 0.0, 0.0, 1.0, 0.0], [0.0, 0.0, 0.0, 0.0, 1.0]]\n",
      "J_4_PROBE = [[1.0, 0.0, 0.0, 0.0, 2.927901], [0.0, 1.0, 0.0, 0.0, -0.666667], [0.0, 0.0, 1.0, -0.666667, 0.0], [0.0, 0.0, 0.0, 1.0, 0.0], [0.0, 0.0, 0.0, 0.0, 1.0]]\n",
      "J_4_PROBE_ST41 = [[1.0, 0.0, 0.0, 0.0, 2.927901], [0.0, 1.0, 0.0, 0.0, 0.0], [0.0, -0.194805, 1.0, 0.0, 0.0], [0.0, 0.0, 0.0, 1.0, -0.194805], [0.0, 0.0, 0.0, 0.0, 1.0]]\n",
      "J_4_PROBE_ST37_ST39 = [[1.0, 0.0, 0.0, 0.0, 2.927901], [0.0, 1.0, 0.0, 0.0, 0.0], [0.0, -0.194805, 1.0, 0.0, 0.0], [0.0, 0.0, 0.0, 1.0, -0.194805], [0.0, 0.0, 0.0, 0.0, 1.0]]\n"
     ]
    }
   ],
   "source": [
    "print('J_6_PROBE = '+str([list(i) for i in np.round(J_6_PROBE,6)]))\n",
    "\n",
    "print('J_6_PROBE_OFFSET = '+str([list(i) for i in np.round(J_6_PROBE_OFFSET,6)]))\n",
    "\n",
    "print('J_4_PROBE = '+str([list(i) for i in np.round(J_4_PROBE,6)]))\n",
    "\n",
    "print('J_4_PROBE_ST41 = '+str([list(i) for i in np.round(J_4_PROBE_ST41,6)]))\n",
    "print('J_4_PROBE_ST37_ST39 = '+str([list(i) for i in np.round(J_4_PROBE_ST37_ST39,6)]))"
   ]
  },
  {
   "cell_type": "code",
   "execution_count": null,
   "metadata": {
    "colab": {},
    "colab_type": "code",
    "id": "fsurUS6XA4oD"
   },
   "outputs": [],
   "source": []
  }
 ],
 "metadata": {
  "colab": {
   "name": "jacobian_analytic_calc.ipynb",
   "provenance": [],
   "version": "0.3.2"
  },
  "kernelspec": {
   "display_name": "Python 2",
   "language": "python",
   "name": "python2"
  },
  "language_info": {
   "codemirror_mode": {
    "name": "ipython",
    "version": 2
   },
   "file_extension": ".py",
   "mimetype": "text/x-python",
   "name": "python",
   "nbconvert_exporter": "python",
   "pygments_lexer": "ipython2",
   "version": "2.7.14"
  }
 },
 "nbformat": 4,
 "nbformat_minor": 1
}
