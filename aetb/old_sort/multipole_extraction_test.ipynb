{
 "cells": [
  {
   "cell_type": "code",
   "execution_count": null,
   "metadata": {},
   "outputs": [],
   "source": [
    "import trfp\n",
    "import pandas as pd\n",
    "import numpy as np\n",
    "import scipy\n",
    "\n",
    "import matplotlib.pyplot as plt\n",
    "\n",
    "def multipole(order, skew, strength, x_pos, y_pos):\n",
    "    \"\"\"Returns the magnitude of a B-field given multipole parameters\n",
    "    and position.\n",
    "    \"\"\"\n",
    "    # Takes a multipole strength A normalized to 4.5 cm\n",
    "    r_pos = np.sqrt(x_pos**2 + y_pos**2)\n",
    "    theta = np.arctan2(y_pos, x_pos)\n",
    "    if skew == 0:\n",
    "        b_magnitude = strength * (r_pos/4.5)**order * np.cos(order*theta)\n",
    "    if skew == 1:\n",
    "        b_magnitude = strength * (r_pos/4.5)**order * np.sin(order*theta)\n",
    "    return b_magnitude"
   ]
  },
  {
   "cell_type": "code",
   "execution_count": null,
   "metadata": {},
   "outputs": [],
   "source": [
    "print multipole(4, 0, 1, trfp.TR_X, trfp.TR_Y)\n",
    "\n",
    "print multipole(8, 0, 1, trfp.TR_X, trfp.TR_Y)"
   ]
  },
  {
   "cell_type": "code",
   "execution_count": null,
   "metadata": {},
   "outputs": [],
   "source": [
    "Bs_df = pd.read_csv(filepath_or_buffer='sample_trolley_measurements.csv', index_col=0)\n",
    "Bs_df.head()"
   ]
  },
  {
   "cell_type": "code",
   "execution_count": null,
   "metadata": {},
   "outputs": [],
   "source": [
    "mults_df = pd.DataFrame(index=Bs_df.index)\n",
    "trp = ['tr'+str(i) for i in range(17)]\n",
    "trm = ['tr,'+str(m+1) for m in range(17)]\n",
    "for m in range(17):\n",
    "    mults_df[trm[m]] = Bs_df.dot(trfp.THETA_TR[m])\n",
    "mults_df.head()"
   ]
  },
  {
   "cell_type": "code",
   "execution_count": null,
   "metadata": {},
   "outputs": [],
   "source": [
    "joes_freqs = np.array([52.74127,52.71351,52.76751,52.78379,52.69151,52.60777,52.38269,52.6757,52.8073,52.98435,\n",
    "                       52.9413,52.9126,52.51062,52.43007,52.64167,52.97253,52.87799])\n",
    "\n",
    "joes_mults = np.dot(trfp.THETA_TR, joes_freqs)\n",
    "\n",
    "for ii in np.round(joes_mults,5):\n",
    "    print ii"
   ]
  },
  {
   "cell_type": "code",
   "execution_count": null,
   "metadata": {},
   "outputs": [],
   "source": [
    "def multipole_fit()"
   ]
  },
  {
   "cell_type": "code",
   "execution_count": null,
   "metadata": {},
   "outputs": [],
   "source": [
    "np.mean(joes_freqs)"
   ]
  },
  {
   "cell_type": "code",
   "execution_count": null,
   "metadata": {},
   "outputs": [],
   "source": [
    "THETA_TR = np.linalg.pinv(np.transpose(np.array([multipole(trfp.matrices.__MULTIPOLE_ORDER[i],\n",
    "                                                             trfp.matrices.__MULTIPOLE_SKEW[i],\n",
    "                                                             1, trfp.TR_X,\n",
    "                                                             trfp.TR_Y\n",
    "                                                            )\n",
    "                                                 for i in np.arange(10)])))\n",
    "\n",
    "joes_mults_2 = np.dot(THETA_TR, joes_freqs)\n",
    "\n",
    "for ii in np.roung(joes_mults_2, 5):\n",
    "    print ii"
   ]
  },
  {
   "cell_type": "code",
   "execution_count": null,
   "metadata": {},
   "outputs": [],
   "source": [
    "print THETA_TR"
   ]
  },
  {
   "cell_type": "code",
   "execution_count": null,
   "metadata": {},
   "outputs": [],
   "source": []
  },
  {
   "cell_type": "code",
   "execution_count": null,
   "metadata": {},
   "outputs": [],
   "source": []
  },
  {
   "cell_type": "code",
   "execution_count": null,
   "metadata": {},
   "outputs": [],
   "source": [
    "mult_high = [56000,  # dipole\n",
    "             2000,  # nq\n",
    "             2000,  # sq\n",
    "             2000,  # ss\n",
    "             1000,  # ns\n",
    "             1000,  # no\n",
    "             1500,  # so\n",
    "             4000,  # nd\n",
    "             500,  # sd\n",
    "             3000,  # n12\n",
    "             5000,  # s12\n",
    "             500,  # n14\n",
    "             5000,  # s14\n",
    "             5000,  # n16\n",
    "             5000,  # s16\n",
    "             5000,  # n18\n",
    "             300]#,  # s18\n",
    "#              5000,  # n20\n",
    "#              5000,  # s20\n",
    "#              5000]  # n22\n",
    "\n",
    "mult_low = [48000,  # dipole\n",
    "            -2000,  # nq\n",
    "            -2000,  # sq\n",
    "            -2000,  # ss\n",
    "            -1000,  # ns\n",
    "            -1000,  # no\n",
    "            -1500,  # so\n",
    "            -4000,  # nd\n",
    "            -500,  # sd\n",
    "            -3000,  # n12\n",
    "            -5000,  # s12\n",
    "            -500,  # n14\n",
    "            -5000,  # s14\n",
    "            -5000,  # n16\n",
    "            -5000,  # s16\n",
    "            -5000,  # n18\n",
    "            -300]#,  # s18\n",
    "#             -5000,  # n20\n",
    "#             -5000,  # s20\n",
    "#             -5000]  # n22\n",
    "\n",
    "mult_high = np.array(mult_high)\n",
    "mult_low = np.array(mult_low)\n",
    "\n",
    "mult_avg = (mult_high+mult_low)/2\n",
    "mult_spread = mult_high - mult_avg\n",
    "\n",
    "# generate a bunch of random multipole strengths\n",
    "\n",
    "N = 1000\n",
    "nParams = 17\n",
    "\n",
    "truths = np.zeros((N, mult_high.size))\n",
    "\n",
    "for ii in range(N):\n",
    "    for mult in range(mult_high.size):\n",
    "        truths[ii, mult] = np.random.uniform(mult_avg[mult], mult_spread[mult])\n",
    "        \n",
    "# for each row of truths, calculate fields at each probe, then fit those\n",
    "\n",
    "mult_order = [0, 1, 1, 2, 2, 3, 3, 4, 4, 5, 5, 6, 6, 7, 7, 8, 8, 9, 9, 10, 10, 11, 11, 12, 12]\n",
    "mult_skew = [0, 0, 1, 1, 0, 0, 1, 0, 1, 0, 1, 0, 1, 0, 1, 0, 1, 0, 1, 0, 1, 0, 1, 0, 1]\n",
    "\n",
    "fits = np.zeros((N,nParams))\n",
    "B = np.zeros((N,17))\n",
    "\n",
    "for N in range(truths.shape[0]):\n",
    "    for ii in range(truths[N].size):\n",
    "        B[N,:] += multipole(mult_order[ii], mult_skew[ii], truths[N, ii], trfp.TR_X, trfp.TR_Y)\n",
    "    fit_mults = np.matmul(trfp.THETA_TR, B[N,:])\n",
    "    fits[N, :] = fit_mults\n",
    "    \n",
    "errors = truths[:,0:17]-fits"
   ]
  },
  {
   "cell_type": "code",
   "execution_count": null,
   "metadata": {},
   "outputs": [],
   "source": [
    "plt.plot(errors[:,7],'.')"
   ]
  },
  {
   "cell_type": "code",
   "execution_count": null,
   "metadata": {},
   "outputs": [],
   "source": []
  }
 ],
 "metadata": {
  "kernelspec": {
   "display_name": "Python 2",
   "language": "python",
   "name": "python2"
  },
  "language_info": {
   "codemirror_mode": {
    "name": "ipython",
    "version": 2
   },
   "file_extension": ".py",
   "mimetype": "text/x-python",
   "name": "python",
   "nbconvert_exporter": "python",
   "pygments_lexer": "ipython2",
   "version": "2.7.14"
  }
 },
 "nbformat": 4,
 "nbformat_minor": 2
}
