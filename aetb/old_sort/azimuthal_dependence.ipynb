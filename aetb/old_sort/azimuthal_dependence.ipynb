{
 "cells": [
  {
   "cell_type": "code",
   "execution_count": 1,
   "metadata": {},
   "outputs": [
    {
     "name": "stdout",
     "output_type": "stream",
     "text": [
      "Welcome to JupyROOT 6.12/04\n"
     ]
    }
   ],
   "source": [
    "import matplotlib\n",
    "import matplotlib.pyplot as plt\n",
    "import seaborn as sns\n",
    "%matplotlib inline\n",
    "\n",
    "import numpy as np\n",
    "import pandas as pd\n",
    "import scipy.optimize\n",
    "\n",
    "from datetime import datetime\n",
    "import pytz\n",
    "\n",
    "import gm2\n",
    "import trfp"
   ]
  },
  {
   "cell_type": "code",
   "execution_count": 3,
   "metadata": {},
   "outputs": [],
   "source": [
    "tr3956_df = pd.read_hdf('60hr_trolley_runs_1.h5', key='run_3956_moment_df')"
   ]
  },
  {
   "cell_type": "code",
   "execution_count": 5,
   "metadata": {},
   "outputs": [],
   "source": [
    "df_1 = tr3956_df.copy()\n",
    "df_2 = tr3956_df.copy()\n",
    "df_3 = tr3956_df.copy()\n",
    "\n",
    "df_1['tr_phi'] -= 360\n",
    "df_3['tr_phi'] += 360\n",
    "\n",
    "output_df = df_1.append(df_2).append(df_3)\n"
   ]
  },
  {
   "cell_type": "code",
   "execution_count": 11,
   "metadata": {},
   "outputs": [],
   "source": [
    "new_phis = np.arange(0,360,0.1)\n",
    "\n",
    "new_df = pd.DataFrame(index = new_phis)\n",
    "\n",
    "trms = ['tr,m'+str(m+1) for m in range(7)]\n",
    "for trm in trms:\n",
    "    interp_function = scipy.interpolate.interp1d(output_df['tr_phi'], output_df[trm])\n",
    "    new_df[trm] = interp_function(new_phis)"
   ]
  },
  {
   "cell_type": "code",
   "execution_count": 12,
   "metadata": {},
   "outputs": [
    {
     "data": {
      "text/html": [
       "<div>\n",
       "<style scoped>\n",
       "    .dataframe tbody tr th:only-of-type {\n",
       "        vertical-align: middle;\n",
       "    }\n",
       "\n",
       "    .dataframe tbody tr th {\n",
       "        vertical-align: top;\n",
       "    }\n",
       "\n",
       "    .dataframe thead th {\n",
       "        text-align: right;\n",
       "    }\n",
       "</style>\n",
       "<table border=\"1\" class=\"dataframe\">\n",
       "  <thead>\n",
       "    <tr style=\"text-align: right;\">\n",
       "      <th></th>\n",
       "      <th>tr,m1</th>\n",
       "      <th>tr,m2</th>\n",
       "      <th>tr,m3</th>\n",
       "      <th>tr,m4</th>\n",
       "      <th>tr,m5</th>\n",
       "      <th>tr,m6</th>\n",
       "      <th>tr,m7</th>\n",
       "    </tr>\n",
       "  </thead>\n",
       "  <tbody>\n",
       "    <tr>\n",
       "      <th>0.0</th>\n",
       "      <td>50720.060257</td>\n",
       "      <td>61.175660</td>\n",
       "      <td>73.236499</td>\n",
       "      <td>999.571895</td>\n",
       "      <td>-13.752354</td>\n",
       "      <td>45.788665</td>\n",
       "      <td>49.393730</td>\n",
       "    </tr>\n",
       "    <tr>\n",
       "      <th>0.1</th>\n",
       "      <td>50745.095472</td>\n",
       "      <td>60.559073</td>\n",
       "      <td>94.708960</td>\n",
       "      <td>1013.840791</td>\n",
       "      <td>2.547450</td>\n",
       "      <td>21.725597</td>\n",
       "      <td>37.697607</td>\n",
       "    </tr>\n",
       "    <tr>\n",
       "      <th>0.2</th>\n",
       "      <td>50743.444879</td>\n",
       "      <td>39.475124</td>\n",
       "      <td>72.224770</td>\n",
       "      <td>998.820849</td>\n",
       "      <td>40.661640</td>\n",
       "      <td>49.045939</td>\n",
       "      <td>32.460493</td>\n",
       "    </tr>\n",
       "    <tr>\n",
       "      <th>0.3</th>\n",
       "      <td>50729.388631</td>\n",
       "      <td>4.999063</td>\n",
       "      <td>21.454362</td>\n",
       "      <td>980.893253</td>\n",
       "      <td>82.105298</td>\n",
       "      <td>114.310388</td>\n",
       "      <td>41.854717</td>\n",
       "    </tr>\n",
       "    <tr>\n",
       "      <th>0.4</th>\n",
       "      <td>50717.342999</td>\n",
       "      <td>-13.424352</td>\n",
       "      <td>-6.951078</td>\n",
       "      <td>956.200632</td>\n",
       "      <td>103.534949</td>\n",
       "      <td>126.905537</td>\n",
       "      <td>52.440076</td>\n",
       "    </tr>\n",
       "  </tbody>\n",
       "</table>\n",
       "</div>"
      ],
      "text/plain": [
       "            tr,m1      tr,m2      tr,m3        tr,m4       tr,m5       tr,m6  \\\n",
       "0.0  50720.060257  61.175660  73.236499   999.571895  -13.752354   45.788665   \n",
       "0.1  50745.095472  60.559073  94.708960  1013.840791    2.547450   21.725597   \n",
       "0.2  50743.444879  39.475124  72.224770   998.820849   40.661640   49.045939   \n",
       "0.3  50729.388631   4.999063  21.454362   980.893253   82.105298  114.310388   \n",
       "0.4  50717.342999 -13.424352  -6.951078   956.200632  103.534949  126.905537   \n",
       "\n",
       "         tr,m7  \n",
       "0.0  49.393730  \n",
       "0.1  37.697607  \n",
       "0.2  32.460493  \n",
       "0.3  41.854717  \n",
       "0.4  52.440076  "
      ]
     },
     "execution_count": 12,
     "metadata": {},
     "output_type": "execute_result"
    }
   ],
   "source": [
    "new_df.head()"
   ]
  },
  {
   "cell_type": "code",
   "execution_count": 43,
   "metadata": {},
   "outputs": [],
   "source": [
    "fft_df = pd.DataFrame(index=range(new_phis.size))\n",
    "\n",
    "temp = np.fft.fft(new_df['tr,m1'])/new_phis.size\n",
    "fft_df['dipole_amp'] = np.abs(temp)/61.79e6*1.45\n",
    "fft_df['dipole_amp'].loc[0] += 1.45\n",
    "fft_df['dipole_angle'] = np.rad2deg(np.angle(temp))\n",
    "\n",
    "temp = np.fft.fft(new_df['tr,m2'])/new_phis.size\n",
    "fft_df['nq_amp'] = np.abs(temp)/61.79e6*1.45\n",
    "fft_df['nq_angle'] = np.rad2deg(np.angle(temp))\n",
    "temp = np.fft.fft(new_df['tr,m3'])/new_phis.size\n",
    "fft_df['sq_amp'] = np.abs(temp)/61.79e6*1.45\n",
    "fft_df['sq_angle'] = np.rad2deg(np.angle(temp))\n",
    "\n",
    "temp = np.fft.fft(new_df['tr,m5'])/new_phis.size\n",
    "fft_df['ns_amp'] = np.abs(temp)/61.79e6*1.45\n",
    "fft_df['ns_angle'] = np.rad2deg(np.angle(temp))\n",
    "temp = np.fft.fft(new_df['tr,m4'])/new_phis.size\n",
    "fft_df['ss_amp'] = np.abs(temp)/61.79e6*1.45\n",
    "fft_df['ss_angle'] = np.rad2deg(np.angle(temp))\n",
    "\n",
    "temp = np.fft.fft(new_df['tr,m6'])/new_phis.size\n",
    "fft_df['no_amp'] = np.abs(temp)/61.79e6*1.45\n",
    "fft_df['no_angle'] = np.rad2deg(np.angle(temp))\n",
    "temp = np.fft.fft(new_df['tr,m7'])/new_phis.size\n",
    "fft_df['so_amp'] = np.abs(temp)/61.79e6*1.45\n",
    "fft_df['so_angle'] = np.rad2deg(np.angle(temp))\n",
    "\n",
    "\n",
    "\n",
    "fft_df.to_csv('higher_order_azi_dependence', index_label='fft_term', float_format='%0.4e')"
   ]
  },
  {
   "cell_type": "code",
   "execution_count": 38,
   "metadata": {},
   "outputs": [
    {
     "data": {
      "text/plain": [
       "17.486827017925936"
      ]
     },
     "execution_count": 38,
     "metadata": {},
     "output_type": "execute_result"
    }
   ],
   "source": [
    "np.mean(new_df['tr,m7'])"
   ]
  },
  {
   "cell_type": "code",
   "execution_count": null,
   "metadata": {},
   "outputs": [],
   "source": []
  }
 ],
 "metadata": {
  "kernelspec": {
   "display_name": "Python 2",
   "language": "python",
   "name": "python2"
  },
  "language_info": {
   "codemirror_mode": {
    "name": "ipython",
    "version": 2
   },
   "file_extension": ".py",
   "mimetype": "text/x-python",
   "name": "python",
   "nbconvert_exporter": "python",
   "pygments_lexer": "ipython2",
   "version": "2.7.14"
  }
 },
 "nbformat": 4,
 "nbformat_minor": 2
}
