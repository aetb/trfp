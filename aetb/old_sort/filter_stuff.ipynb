{
 "cells": [
  {
   "cell_type": "markdown",
   "metadata": {},
   "source": [
    "# Playing with filtering (deprecated?)"
   ]
  },
  {
   "cell_type": "code",
   "execution_count": null,
   "metadata": {},
   "outputs": [],
   "source": [
    "%matplotlib inline\n",
    "import matplotlib\n",
    "import matplotlib.pyplot as plt\n",
    "import seaborn as sns\n",
    "\n",
    "import numpy as np\n",
    "import pandas as pd\n",
    "import scipy.optimize\n",
    "import scipy.signal as signal\n",
    "from scipy.integrate import cumtrapz\n",
    "\n",
    "import gm2\n",
    "import trfp\n",
    "import root_to_pandas\n",
    "import helper_function_candidates as helper\n",
    "import plotting_functions as plt2\n",
    "\n",
    "import allantools"
   ]
  },
  {
   "cell_type": "markdown",
   "metadata": {},
   "source": [
    "## Import tier-1 data from ROOT tree"
   ]
  },
  {
   "cell_type": "code",
   "execution_count": null,
   "metadata": {},
   "outputs": [],
   "source": [
    "%%time\n",
    "fp_interp_df = root_to_pandas.root_to_pandas(range(3960,3990), prefix='v9_21_03_dev/FieldPlainRootOutput_', tr_run=False)\n",
    "fp_moment_df = root_to_pandas.calc_moment_df(fp_interp_df)"
   ]
  },
  {
   "cell_type": "markdown",
   "metadata": {},
   "source": [
    "# Everything below here is after initial run loading"
   ]
  },
  {
   "cell_type": "code",
   "execution_count": null,
   "metadata": {},
   "outputs": [],
   "source": [
    "interp_df.head()\n",
    "plt.plot(interp_df['fp3'])"
   ]
  },
  {
   "cell_type": "code",
   "execution_count": null,
   "metadata": {},
   "outputs": [],
   "source": [
    "taus, adev, _, _ = allantools.mdev(interp_df['fp0'].values, data_type='freq', rate=1, taus='decade')\n",
    "plt.loglog(taus, adev, '.')\n",
    "taus, adev, _, _ = allantools.mdev(interp_df['fp3'].values, data_type='freq', rate=1, taus='decade')\n",
    "plt.loglog(taus, adev, '.')"
   ]
  },
  {
   "cell_type": "markdown",
   "metadata": {},
   "source": [
    "## Need to define good, ok, and bad probes for filter\n",
    "\n",
    "This should come from looking at Allan deviations. In general, the bad probes have $adev(\\tau=1) > 10$, good probes have $adev(\\tau=1) < 1$, and ok probes form the middle ground. "
   ]
  },
  {
   "cell_type": "code",
   "execution_count": null,
   "metadata": {},
   "outputs": [],
   "source": [
    "# fp_bad = [3,4,5,9,10,11,15,16,17,21,22,23,27,28,33,34,35,\n",
    "#           74,75,124,221,257,332,341,342,372]\n",
    "\n",
    "# fp_ok = []\n",
    "\n",
    "# fp_good = range(378)\n",
    "# for bad in fp_bad:\n",
    "#     fp_good.remove(bad)\n",
    "# for ok in fp_ok:\n",
    "#     fp_good.remove(ok)\n",
    "\n",
    "# fp_bad = []\n",
    "# fp_ok = []\n",
    "# fp_good = []\n",
    "\n",
    "# for fp in range(378):\n",
    "#     # look at adev of tau = 1\n",
    "#     if np.sqrt(0.5 * np.mean(np.diff(fp_freq_interp[:,fp])**2)) > 10.0:\n",
    "#         fp_bad.append(fp)\n",
    "#     elif np.sqrt(0.5 * np.mean(np.diff(fp_freq_interp[:,fp])**2)) < 1.0:\n",
    "#         fp_good.append(fp)\n",
    "#     else:\n",
    "#         fp_ok.append(fp)\n",
    "\n",
    "# print fp_bad\n",
    "# print fp_ok\n",
    "# print fp_good\n",
    "\n",
    "fp_bad = [3, 4, 5, 9, 11, 15, 16, 17, 21, 22, 23, 27, 28, 33, 34, 35, 74, 257]"
   ]
  },
  {
   "cell_type": "markdown",
   "metadata": {},
   "source": [
    "## Filter fixed probes based on the lists above\n",
    "Include filtering in trolley footprint removal"
   ]
  },
  {
   "cell_type": "code",
   "execution_count": null,
   "metadata": {},
   "outputs": [],
   "source": [
    "# filter the bad probes with 3rd order Butterworth\n",
    "tau = 200.\n",
    "b, a = signal.butter(3, 1./tau)\n",
    "\n",
    "fp_freq_filt = grid_freqs.copy()\n",
    "\n",
    "for fp in fp_bad:\n",
    "    # use \"Gustafson’s method\", which makes initial conditions such that\n",
    "    # forward-backward filtering gives same results as backward-forward\n",
    "    fp_freq_filt[:, fp] = signal.filtfilt(b, a, fp_freq_filt[:, fp], method='gust')"
   ]
  },
  {
   "cell_type": "code",
   "execution_count": null,
   "metadata": {
    "scrolled": true
   },
   "outputs": [],
   "source": [
    "print np.reshape(qual[0,:],[378/3,3])"
   ]
  },
  {
   "cell_type": "code",
   "execution_count": null,
   "metadata": {},
   "outputs": [],
   "source": [
    "print freq2.shape\n",
    "print np.max(np.max(qual))"
   ]
  },
  {
   "cell_type": "code",
   "execution_count": null,
   "metadata": {},
   "outputs": [],
   "source": [
    "dropped = np.empty(378)\n",
    "for pr in range(378):\n",
    "    dropped[pr] = float(np.count_nonzero(np.isnan(freq2[:,pr])))/float(freq2[:,pr].size)\n",
    "\n",
    "    \n",
    "print np.max(dropped)\n",
    "plt.hist(dropped, bins = 50)"
   ]
  },
  {
   "cell_type": "code",
   "execution_count": null,
   "metadata": {},
   "outputs": [],
   "source": [
    "times = np.arange(np.ceil(time[0, 377]),\n",
    "                  np.floor(time[-1, 0]) + 1,\n",
    "                  1)  # NOTE THIS IS 1 SECOND NOW, DOESN'T MATTER BECAUSE OF INTEGRATION METHOD\n",
    "\n",
    "interp = np.empty((times.size, 378))\n",
    "for pr in range(378):\n",
    "    not_nan = ~np.isnan(freq2[:,pr])\n",
    "    interp[:,pr] = np.interp(times,time[:,pr][not_nan],freq2[:,pr][not_nan])"
   ]
  },
  {
   "cell_type": "code",
   "execution_count": null,
   "metadata": {},
   "outputs": [],
   "source": [
    "probe = 3\n",
    "\n",
    "fig, axs = plt.subplots(4,1)\n",
    "\n",
    "plt.sca(axs[0])\n",
    "plt.plot(time[:,probe], freq[:,probe], '.')\n",
    "\n",
    "# axs[0].set_xlim([1525283150,1525283350])\n",
    "\n",
    "plt.sca(axs[1])\n",
    "plt.plot(time[:,probe], qual[:,probe], '.')\n",
    "# axs[1].set_xlim([1525283150,1525283350])\n",
    "\n",
    "plt.sca(axs[2])\n",
    "plt.plot(time[:,probe], freq2[:,probe], '.')\n",
    "\n",
    "# axs[2].set_xlim([1525283150,1525283350])\n",
    "\n",
    "plt.sca(axs[3])\n",
    "plt.plot(times, interp[:,probe], '.')\n",
    "\n",
    "fig.set_size_inches(12,12)\n",
    "fig.tight_layout()"
   ]
  },
  {
   "cell_type": "code",
   "execution_count": null,
   "metadata": {
    "scrolled": true
   },
   "outputs": [],
   "source": [
    "# try filtering a super noisy probe\n",
    "from scipy import signal\n",
    "import allantools\n",
    "\n",
    "probe = 100\n",
    "\n",
    "taus, adev, _, _ = allantools.mdev(interp[:,probe], data_type='freq', rate=1, taus='all')\n",
    "\n",
    "b, a = signal.butter(1,1./10.)\n",
    "y = signal.filtfilt(b, a, interp[:,probe])\n",
    "\n",
    "taus2, adev2, _, _ = allantools.mdev(y, data_type='freq', rate=1, taus='all')\n",
    "\n",
    "fig, axs = plt.subplots(4,1)\n",
    "\n",
    "plt.sca(axs[0])\n",
    "plt.plot(times, interp[:,probe], '.')\n",
    "\n",
    "# axs[0].set_xlim([1525283150,1525283350])\n",
    "\n",
    "plt.sca(axs[1])\n",
    "plt.loglog(taus, adev, '.')\n",
    "\n",
    "plt.sca(axs[2])\n",
    "plt.plot(times, y, '.')\n",
    "# axs[1].set_xlim([1525283150,1525283350])\n",
    "\n",
    "plt.sca(axs[3])\n",
    "plt.loglog(taus2, adev2, '.')\n",
    "\n",
    "fig.set_size_inches(12,12)\n",
    "fig.tight_layout()"
   ]
  },
  {
   "cell_type": "code",
   "execution_count": null,
   "metadata": {
    "scrolled": true
   },
   "outputs": [],
   "source": [
    "start = 0 * 42  # steps of 42\n",
    "\n",
    "fig, axs = plt.subplots(126,3)\n",
    "\n",
    "for i in range(126):\n",
    "    for j in range(3):\n",
    "        plt.sca(axs[i,j])\n",
    "        taus, adev, _, _ = allantools.mdev(interp[:,start + 3*i + j], data_type='freq', rate=1, taus='octave')\n",
    "        plt.loglog(taus, adev, ':.', markersize=3)\n",
    "        axs[i,j].set_title('pr'+ str(start + 3*i + j))\n",
    "\n",
    "fig.set_size_inches(15,240)\n",
    "fig.tight_layout()\n",
    "\n",
    "# fig.savefig('all_allan_4141.png', dpi=100)"
   ]
  },
  {
   "cell_type": "code",
   "execution_count": null,
   "metadata": {},
   "outputs": [],
   "source": []
  },
  {
   "cell_type": "code",
   "execution_count": null,
   "metadata": {},
   "outputs": [],
   "source": [
    "pr = 100\n",
    "\n",
    "print np.mean(interp2[:,pr] - interp[:,pr])\n",
    "print np.std(interp2[:,pr] - interp[:,pr])\n",
    "\n",
    "fig, ax = plt.subplots(1,1)\n",
    "plt.plot(times, interp2[:,pr] - interp[:,pr], '.')\n",
    "\n",
    "fig.set_size_inches(12,4)\n",
    "fig.tight_layout()"
   ]
  },
  {
   "cell_type": "code",
   "execution_count": null,
   "metadata": {},
   "outputs": [],
   "source": []
  }
 ],
 "metadata": {
  "kernelspec": {
   "display_name": "Python 2",
   "language": "python",
   "name": "python2"
  },
  "language_info": {
   "codemirror_mode": {
    "name": "ipython",
    "version": 2
   },
   "file_extension": ".py",
   "mimetype": "text/x-python",
   "name": "python",
   "nbconvert_exporter": "python",
   "pygments_lexer": "ipython2",
   "version": "2.7.14"
  }
 },
 "nbformat": 4,
 "nbformat_minor": 2
}
