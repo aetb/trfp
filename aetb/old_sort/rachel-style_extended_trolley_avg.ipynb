{
 "cells": [
  {
   "cell_type": "code",
   "execution_count": 1,
   "metadata": {},
   "outputs": [
    {
     "name": "stdout",
     "output_type": "stream",
     "text": [
      "Welcome to JupyROOT 6.12/04\n"
     ]
    }
   ],
   "source": [
    "import gm2\n",
    "import trfp\n",
    "\n",
    "import numpy as np\n",
    "import pandas as pd\n",
    "\n",
    "import matplotlib.pyplot as plt"
   ]
  },
  {
   "cell_type": "code",
   "execution_count": 2,
   "metadata": {},
   "outputs": [
    {
     "name": "stdout",
     "output_type": "stream",
     "text": [
      "Reading event 8780/8781 99.99%          \n",
      "loop done: 100%                                    \n"
     ]
    }
   ],
   "source": [
    "tr_run = gm2.Trolley([3956], prefix='v9_20_00/FieldPlainRootOutput_')\n",
    "tr_time, tr_phi, tr_freq = tr_run.getBasics()\n",
    "\n",
    "# drop first 5 events, which are 0, and last event, which can some times be 0\n",
    "tr_time = tr_time[5:-91,:]/1.0e9  # convert nsec to sec\n",
    "tr_phi = tr_phi[5:-91,:]\n",
    "tr_freq = tr_freq[5:-91,:]\n",
    "for tr in range(17):\n",
    "    tr_freq[:, tr] += trfp.PLUNGING_PROBE_CALIBRATIONS[tr]"
   ]
  },
  {
   "cell_type": "code",
   "execution_count": 18,
   "metadata": {},
   "outputs": [],
   "source": [
    "pos = tr_phi[:,8]\n",
    "\n",
    "freq = np.zeros(tr_freq.shape)\n",
    "\n",
    "freq[:,8] = tr_freq[:,8]\n",
    "for i in range(17):\n",
    "    if i == 8: continue\n",
    "    freq[:,i] = np.interp(pos, tr_phi[:,i], tr_freq[:,i], period=360)\n",
    "    \n",
    "theta = trfp.THETA_TR\n",
    "moment = np.transpose(np.matmul(theta, np.transpose(freq)))"
   ]
  },
  {
   "cell_type": "code",
   "execution_count": 19,
   "metadata": {},
   "outputs": [],
   "source": [
    "sort_ind = np.argsort(pos)"
   ]
  },
  {
   "cell_type": "code",
   "execution_count": 20,
   "metadata": {},
   "outputs": [],
   "source": [
    "weights = ((np.roll(pos[sort_ind], -1) - np.roll(pos[sort_ind], 1))%360)/720"
   ]
  },
  {
   "cell_type": "code",
   "execution_count": 21,
   "metadata": {},
   "outputs": [
    {
     "name": "stdout",
     "output_type": "stream",
     "text": [
      "[6333]\n"
     ]
    }
   ],
   "source": [
    "print np.arange(len(weights))[weights == 0.0]"
   ]
  },
  {
   "cell_type": "code",
   "execution_count": 22,
   "metadata": {},
   "outputs": [],
   "source": [
    "ms = np.zeros(17)\n",
    "for m in range(17):\n",
    "    ms[m] = np.sum(weights*moment[sort_ind,m])"
   ]
  },
  {
   "cell_type": "code",
   "execution_count": 23,
   "metadata": {},
   "outputs": [
    {
     "name": "stdout",
     "output_type": "stream",
     "text": [
      "[ 5.20102223e+04 -1.31314418e+00  9.48085695e+00  1.74735318e+01\n",
      " -7.22058370e+01  1.32578073e-01  1.74605364e+01  3.45419787e+00\n",
      " -8.56247474e+01  1.75565220e+02  2.36577208e+02 -6.84174640e+01\n",
      "  0.00000000e+00 -3.71530151e+02  4.11279356e+02  0.00000000e+00\n",
      "  0.00000000e+00]\n"
     ]
    }
   ],
   "source": [
    "print ms"
   ]
  },
  {
   "cell_type": "code",
   "execution_count": null,
   "metadata": {},
   "outputs": [],
   "source": [
    "plt.plot(pos, moment[:,0], '.')"
   ]
  },
  {
   "cell_type": "code",
   "execution_count": 17,
   "metadata": {},
   "outputs": [
    {
     "name": "stdout",
     "output_type": "stream",
     "text": [
      "52008.17898737412\n"
     ]
    }
   ],
   "source": [
    "import scipy.integrate as integrate\n",
    "\n",
    "print integrate.trapz(x=pos, y=moment[:,0])/(pos[-1]-pos[0])"
   ]
  },
  {
   "cell_type": "code",
   "execution_count": null,
   "metadata": {},
   "outputs": [],
   "source": []
  }
 ],
 "metadata": {
  "kernelspec": {
   "display_name": "Python 2",
   "language": "python",
   "name": "python2"
  },
  "language_info": {
   "codemirror_mode": {
    "name": "ipython",
    "version": 2
   },
   "file_extension": ".py",
   "mimetype": "text/x-python",
   "name": "python",
   "nbconvert_exporter": "python",
   "pygments_lexer": "ipython2",
   "version": "2.7.14"
  }
 },
 "nbformat": 4,
 "nbformat_minor": 2
}
