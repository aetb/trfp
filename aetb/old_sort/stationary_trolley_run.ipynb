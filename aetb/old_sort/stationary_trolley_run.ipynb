{
 "cells": [
  {
   "cell_type": "markdown",
   "metadata": {},
   "source": [
    "### Alec Tewsley-Booth\n",
    "# Stationary trolley runs 7309-7310\n",
    "This study replicates the inflector chamber tracking study for runs 7303-7305 for the stationary runs 7309-7310, with trolley at -6 deg azimuth. This places is close to station 1."
   ]
  },
  {
   "cell_type": "code",
   "execution_count": 1,
   "metadata": {},
   "outputs": [
    {
     "name": "stdout",
     "output_type": "stream",
     "text": [
      "Welcome to JupyROOT 6.12/04\n"
     ]
    }
   ],
   "source": [
    "import matplotlib\n",
    "import matplotlib.pyplot as plt\n",
    "import seaborn as sns\n",
    "%matplotlib inline\n",
    "\n",
    "import numpy as np\n",
    "import pandas as pd\n",
    "import scipy.optimize\n",
    "\n",
    "import gm2\n",
    "import trfp\n",
    "import helper_function_candidates as helper\n",
    "import plotting_functions as plt2\n",
    "\n",
    "import allantools"
   ]
  },
  {
   "cell_type": "code",
   "execution_count": 2,
   "metadata": {},
   "outputs": [
    {
     "name": "stdout",
     "output_type": "stream",
     "text": [
      "Fixed probe run.\n",
      "Cannot load ids, no data present\n",
      "\n",
      "loop done: 100%                                    \n"
     ]
    },
    {
     "ename": "IndexError",
     "evalue": "index 0 is out of bounds for axis 0 with size 0",
     "output_type": "error",
     "traceback": [
      "\u001b[0;31m\u001b[0m",
      "\u001b[0;31mIndexError\u001b[0mTraceback (most recent call last)",
      "\u001b[0;32m<ipython-input-2-c4ec6b755024>\u001b[0m in \u001b[0;36m<module>\u001b[0;34m()\u001b[0m\n\u001b[1;32m      4\u001b[0m \u001b[0;34m\u001b[0m\u001b[0m\n\u001b[1;32m      5\u001b[0m \u001b[0;32mfor\u001b[0m \u001b[0mnum\u001b[0m \u001b[0;32min\u001b[0m \u001b[0mrun_nums\u001b[0m\u001b[0;34m:\u001b[0m\u001b[0;34m\u001b[0m\u001b[0m\n\u001b[0;32m----> 6\u001b[0;31m     \u001b[0mruns\u001b[0m\u001b[0;34m[\u001b[0m\u001b[0mnum\u001b[0m\u001b[0;34m]\u001b[0m \u001b[0;34m=\u001b[0m \u001b[0mtrfp\u001b[0m\u001b[0;34m.\u001b[0m\u001b[0mRun\u001b[0m\u001b[0;34m(\u001b[0m\u001b[0mnum\u001b[0m\u001b[0;34m)\u001b[0m\u001b[0;34m\u001b[0m\u001b[0m\n\u001b[0m",
      "\u001b[0;32m/home/aetb/pythonScripts/trfp/trfp/runs.pyc\u001b[0m in \u001b[0;36m__init__\u001b[0;34m(self, run)\u001b[0m\n\u001b[1;32m     54\u001b[0m             \u001b[0mself\u001b[0m\u001b[0;34m.\u001b[0m\u001b[0minterp_df\u001b[0m \u001b[0;34m=\u001b[0m \u001b[0mpd\u001b[0m\u001b[0;34m.\u001b[0m\u001b[0mDataFrame\u001b[0m\u001b[0;34m(\u001b[0m\u001b[0mdata\u001b[0m\u001b[0;34m,\u001b[0m \u001b[0mindex\u001b[0m\u001b[0;34m=\u001b[0m\u001b[0mtimes\u001b[0m\u001b[0;34m,\u001b[0m \u001b[0mcolumns\u001b[0m\u001b[0;34m=\u001b[0m\u001b[0mcols\u001b[0m\u001b[0;34m)\u001b[0m\u001b[0;34m\u001b[0m\u001b[0m\n\u001b[1;32m     55\u001b[0m         \u001b[0;32melse\u001b[0m\u001b[0;34m:\u001b[0m\u001b[0;34m\u001b[0m\u001b[0m\n\u001b[0;32m---> 56\u001b[0;31m             \u001b[0mtimes\u001b[0m\u001b[0;34m,\u001b[0m \u001b[0mfp_freq_interp\u001b[0m \u001b[0;34m=\u001b[0m \u001b[0mself\u001b[0m\u001b[0;34m.\u001b[0m\u001b[0m__time_interpolation_fp\u001b[0m\u001b[0;34m(\u001b[0m\u001b[0;34m)\u001b[0m\u001b[0;34m\u001b[0m\u001b[0m\n\u001b[0m\u001b[1;32m     57\u001b[0m             \u001b[0mcols\u001b[0m \u001b[0;34m=\u001b[0m \u001b[0;34m[\u001b[0m\u001b[0;34m\"fp\"\u001b[0m \u001b[0;34m+\u001b[0m \u001b[0mstr\u001b[0m\u001b[0;34m(\u001b[0m\u001b[0mi\u001b[0m\u001b[0;34m)\u001b[0m \u001b[0;32mfor\u001b[0m \u001b[0mi\u001b[0m \u001b[0;32min\u001b[0m \u001b[0mnp\u001b[0m\u001b[0;34m.\u001b[0m\u001b[0marange\u001b[0m\u001b[0;34m(\u001b[0m\u001b[0;36m378\u001b[0m\u001b[0;34m)\u001b[0m\u001b[0;34m]\u001b[0m\u001b[0;34m\u001b[0m\u001b[0m\n\u001b[1;32m     58\u001b[0m             \u001b[0mdata\u001b[0m \u001b[0;34m=\u001b[0m \u001b[0mfp_freq_interp\u001b[0m\u001b[0;34m\u001b[0m\u001b[0m\n",
      "\u001b[0;32m/home/aetb/pythonScripts/trfp/trfp/runs.pyc\u001b[0m in \u001b[0;36m__time_interpolation_fp\u001b[0;34m(self)\u001b[0m\n\u001b[1;32m    169\u001b[0m         \u001b[0mfp_indices\u001b[0m \u001b[0;34m=\u001b[0m \u001b[0mnp\u001b[0m\u001b[0;34m.\u001b[0m\u001b[0marange\u001b[0m\u001b[0;34m(\u001b[0m\u001b[0mlen\u001b[0m\u001b[0;34m(\u001b[0m\u001b[0mfp_freq\u001b[0m\u001b[0;34m)\u001b[0m\u001b[0;34m)\u001b[0m \u001b[0;34m>=\u001b[0m \u001b[0;36m1\u001b[0m  \u001b[0;31m# drop first 3 fixed probe events\u001b[0m\u001b[0;34m\u001b[0m\u001b[0m\n\u001b[1;32m    170\u001b[0m \u001b[0;34m\u001b[0m\u001b[0m\n\u001b[0;32m--> 171\u001b[0;31m         times = np.arange(np.ceil(fp_time[fp_indices][0, 377]),\n\u001b[0m\u001b[1;32m    172\u001b[0m                           \u001b[0mnp\u001b[0m\u001b[0;34m.\u001b[0m\u001b[0mfloor\u001b[0m\u001b[0;34m(\u001b[0m\u001b[0mfp_time\u001b[0m\u001b[0;34m[\u001b[0m\u001b[0mfp_indices\u001b[0m\u001b[0;34m]\u001b[0m\u001b[0;34m[\u001b[0m\u001b[0;34m-\u001b[0m\u001b[0;36m1\u001b[0m\u001b[0;34m,\u001b[0m \u001b[0;36m0\u001b[0m\u001b[0;34m]\u001b[0m\u001b[0;34m)\u001b[0m \u001b[0;34m+\u001b[0m \u001b[0;36m1\u001b[0m\u001b[0;34m,\u001b[0m\u001b[0;34m\u001b[0m\u001b[0m\n\u001b[1;32m    173\u001b[0m                           1)  # NOTE THIS IS 1 SECOND NOW, DOESN'T MATTER BECAUSE OF INTEGRATION METHOD\n",
      "\u001b[0;31mIndexError\u001b[0m: index 0 is out of bounds for axis 0 with size 0"
     ]
    },
    {
     "name": "stderr",
     "output_type": "stream",
     "text": [
      "Error in <TFile::TFile>: file /FieldPlainRootOutput_07309_tier1.root does not exist\n",
      "Error in <TFile::TFile>: file /FieldPlainRootOutput_07309_tier1.root does not exist\n",
      "Error in <TFile::TFile>: file /FieldPlainRootOutput_07309_tier1.root does not exist\n"
     ]
    }
   ],
   "source": [
    "run_nums = [7309, 7310]\n",
    "\n",
    "runs = {}\n",
    "\n",
    "for num in run_nums:\n",
    "    runs[num] = trfp.Run(num)"
   ]
  },
  {
   "cell_type": "code",
   "execution_count": 3,
   "metadata": {},
   "outputs": [],
   "source": [
    "stationary_df = runs[7309].moment_df.copy()\n",
    "# stationary_df = stationary_df.append(runs[7310].moment_df)\n",
    "\n",
    "stationary_df['tr_phi'] = 360-5.969"
   ]
  },
  {
   "cell_type": "code",
   "execution_count": 19,
   "metadata": {},
   "outputs": [
    {
     "data": {
      "text/html": [
       "<div>\n",
       "<style scoped>\n",
       "    .dataframe tbody tr th:only-of-type {\n",
       "        vertical-align: middle;\n",
       "    }\n",
       "\n",
       "    .dataframe tbody tr th {\n",
       "        vertical-align: top;\n",
       "    }\n",
       "\n",
       "    .dataframe thead th {\n",
       "        text-align: right;\n",
       "    }\n",
       "</style>\n",
       "<table border=\"1\" class=\"dataframe\">\n",
       "  <thead>\n",
       "    <tr style=\"text-align: right;\">\n",
       "      <th></th>\n",
       "      <th>tr_phi</th>\n",
       "      <th>tr0</th>\n",
       "      <th>tr1</th>\n",
       "      <th>tr2</th>\n",
       "      <th>tr3</th>\n",
       "      <th>tr4</th>\n",
       "      <th>tr5</th>\n",
       "      <th>tr6</th>\n",
       "      <th>tr7</th>\n",
       "      <th>tr8</th>\n",
       "      <th>...</th>\n",
       "      <th>fp368</th>\n",
       "      <th>fp369</th>\n",
       "      <th>fp370</th>\n",
       "      <th>fp371</th>\n",
       "      <th>fp372</th>\n",
       "      <th>fp373</th>\n",
       "      <th>fp374</th>\n",
       "      <th>fp375</th>\n",
       "      <th>fp376</th>\n",
       "      <th>fp377</th>\n",
       "    </tr>\n",
       "  </thead>\n",
       "  <tbody>\n",
       "    <tr>\n",
       "      <th>1.557649e+09</th>\n",
       "      <td>359.000000</td>\n",
       "      <td>50660.132710</td>\n",
       "      <td>50519.541955</td>\n",
       "      <td>50677.151862</td>\n",
       "      <td>50907.376248</td>\n",
       "      <td>50575.662781</td>\n",
       "      <td>50498.485450</td>\n",
       "      <td>50274.764082</td>\n",
       "      <td>50555.034699</td>\n",
       "      <td>50668.099621</td>\n",
       "      <td>...</td>\n",
       "      <td>48908.219825</td>\n",
       "      <td>51513.245856</td>\n",
       "      <td>58297.510949</td>\n",
       "      <td>50698.735112</td>\n",
       "      <td>54720.267700</td>\n",
       "      <td>53663.231459</td>\n",
       "      <td>50270.192969</td>\n",
       "      <td>49375.154980</td>\n",
       "      <td>52226.108153</td>\n",
       "      <td>46408.380134</td>\n",
       "    </tr>\n",
       "    <tr>\n",
       "      <th>1.557649e+09</th>\n",
       "      <td>359.000001</td>\n",
       "      <td>50659.854122</td>\n",
       "      <td>50520.068247</td>\n",
       "      <td>50677.199517</td>\n",
       "      <td>50906.700125</td>\n",
       "      <td>50575.338502</td>\n",
       "      <td>50497.888865</td>\n",
       "      <td>50274.502858</td>\n",
       "      <td>50554.287661</td>\n",
       "      <td>50667.175047</td>\n",
       "      <td>...</td>\n",
       "      <td>48905.882496</td>\n",
       "      <td>51513.334241</td>\n",
       "      <td>58296.954869</td>\n",
       "      <td>50698.449843</td>\n",
       "      <td>54717.137408</td>\n",
       "      <td>53663.028404</td>\n",
       "      <td>50269.987743</td>\n",
       "      <td>49374.776861</td>\n",
       "      <td>52225.875270</td>\n",
       "      <td>46407.632617</td>\n",
       "    </tr>\n",
       "    <tr>\n",
       "      <th>1.557649e+09</th>\n",
       "      <td>359.000001</td>\n",
       "      <td>50659.745262</td>\n",
       "      <td>50519.649924</td>\n",
       "      <td>50677.169813</td>\n",
       "      <td>50906.737597</td>\n",
       "      <td>50575.262545</td>\n",
       "      <td>50497.853359</td>\n",
       "      <td>50273.844029</td>\n",
       "      <td>50554.294233</td>\n",
       "      <td>50666.858964</td>\n",
       "      <td>...</td>\n",
       "      <td>48906.248988</td>\n",
       "      <td>51513.560962</td>\n",
       "      <td>58296.706549</td>\n",
       "      <td>50697.949712</td>\n",
       "      <td>54716.307724</td>\n",
       "      <td>53662.989913</td>\n",
       "      <td>50270.015486</td>\n",
       "      <td>49374.817318</td>\n",
       "      <td>52226.417278</td>\n",
       "      <td>46408.434377</td>\n",
       "    </tr>\n",
       "    <tr>\n",
       "      <th>1.557649e+09</th>\n",
       "      <td>359.000001</td>\n",
       "      <td>50659.662665</td>\n",
       "      <td>50519.161602</td>\n",
       "      <td>50676.876919</td>\n",
       "      <td>50906.600093</td>\n",
       "      <td>50575.121228</td>\n",
       "      <td>50497.797804</td>\n",
       "      <td>50274.565963</td>\n",
       "      <td>50553.928754</td>\n",
       "      <td>50666.756742</td>\n",
       "      <td>...</td>\n",
       "      <td>48907.800399</td>\n",
       "      <td>51513.754082</td>\n",
       "      <td>58296.791129</td>\n",
       "      <td>50696.332503</td>\n",
       "      <td>54722.312937</td>\n",
       "      <td>53662.411108</td>\n",
       "      <td>50270.021527</td>\n",
       "      <td>49374.631916</td>\n",
       "      <td>52226.176381</td>\n",
       "      <td>46406.547716</td>\n",
       "    </tr>\n",
       "    <tr>\n",
       "      <th>1.557649e+09</th>\n",
       "      <td>359.000001</td>\n",
       "      <td>50659.733134</td>\n",
       "      <td>50519.430481</td>\n",
       "      <td>50677.145069</td>\n",
       "      <td>50906.577438</td>\n",
       "      <td>50575.258952</td>\n",
       "      <td>50497.030361</td>\n",
       "      <td>50274.660284</td>\n",
       "      <td>50554.214444</td>\n",
       "      <td>50667.047882</td>\n",
       "      <td>...</td>\n",
       "      <td>48906.335213</td>\n",
       "      <td>51513.633698</td>\n",
       "      <td>58296.925419</td>\n",
       "      <td>50697.037802</td>\n",
       "      <td>54720.886907</td>\n",
       "      <td>53662.563424</td>\n",
       "      <td>50269.809038</td>\n",
       "      <td>49374.231401</td>\n",
       "      <td>52225.230876</td>\n",
       "      <td>46407.170776</td>\n",
       "    </tr>\n",
       "  </tbody>\n",
       "</table>\n",
       "<p>5 rows × 396 columns</p>\n",
       "</div>"
      ],
      "text/plain": [
       "                  tr_phi           tr0           tr1           tr2  \\\n",
       "1.557649e+09  359.000000  50660.132710  50519.541955  50677.151862   \n",
       "1.557649e+09  359.000001  50659.854122  50520.068247  50677.199517   \n",
       "1.557649e+09  359.000001  50659.745262  50519.649924  50677.169813   \n",
       "1.557649e+09  359.000001  50659.662665  50519.161602  50676.876919   \n",
       "1.557649e+09  359.000001  50659.733134  50519.430481  50677.145069   \n",
       "\n",
       "                       tr3           tr4           tr5           tr6  \\\n",
       "1.557649e+09  50907.376248  50575.662781  50498.485450  50274.764082   \n",
       "1.557649e+09  50906.700125  50575.338502  50497.888865  50274.502858   \n",
       "1.557649e+09  50906.737597  50575.262545  50497.853359  50273.844029   \n",
       "1.557649e+09  50906.600093  50575.121228  50497.797804  50274.565963   \n",
       "1.557649e+09  50906.577438  50575.258952  50497.030361  50274.660284   \n",
       "\n",
       "                       tr7           tr8      ...              fp368  \\\n",
       "1.557649e+09  50555.034699  50668.099621      ...       48908.219825   \n",
       "1.557649e+09  50554.287661  50667.175047      ...       48905.882496   \n",
       "1.557649e+09  50554.294233  50666.858964      ...       48906.248988   \n",
       "1.557649e+09  50553.928754  50666.756742      ...       48907.800399   \n",
       "1.557649e+09  50554.214444  50667.047882      ...       48906.335213   \n",
       "\n",
       "                     fp369         fp370         fp371         fp372  \\\n",
       "1.557649e+09  51513.245856  58297.510949  50698.735112  54720.267700   \n",
       "1.557649e+09  51513.334241  58296.954869  50698.449843  54717.137408   \n",
       "1.557649e+09  51513.560962  58296.706549  50697.949712  54716.307724   \n",
       "1.557649e+09  51513.754082  58296.791129  50696.332503  54722.312937   \n",
       "1.557649e+09  51513.633698  58296.925419  50697.037802  54720.886907   \n",
       "\n",
       "                     fp373         fp374         fp375         fp376  \\\n",
       "1.557649e+09  53663.231459  50270.192969  49375.154980  52226.108153   \n",
       "1.557649e+09  53663.028404  50269.987743  49374.776861  52225.875270   \n",
       "1.557649e+09  53662.989913  50270.015486  49374.817318  52226.417278   \n",
       "1.557649e+09  53662.411108  50270.021527  49374.631916  52226.176381   \n",
       "1.557649e+09  53662.563424  50269.809038  49374.231401  52225.230876   \n",
       "\n",
       "                     fp377  \n",
       "1.557649e+09  46408.380134  \n",
       "1.557649e+09  46407.632617  \n",
       "1.557649e+09  46408.434377  \n",
       "1.557649e+09  46406.547716  \n",
       "1.557649e+09  46407.170776  \n",
       "\n",
       "[5 rows x 396 columns]"
      ]
     },
     "execution_count": 19,
     "metadata": {},
     "output_type": "execute_result"
    }
   ],
   "source": [
    "runs[7309].interp_df.head()"
   ]
  },
  {
   "cell_type": "markdown",
   "metadata": {},
   "source": [
    "## Allan deviation of difference of fixed probe stations"
   ]
  },
  {
   "cell_type": "code",
   "execution_count": null,
   "metadata": {},
   "outputs": [],
   "source": [
    "st = 0\n",
    "fig, ax = plt.subplots(1,1)\n",
    "plt.plot(stationary_df.index, (stationary_df['st'+str(st)+',m1'] - stationary_df['st'+str(st+2)+',m1']).values, '.')\n",
    "ax.set_title('st0 - st2')\n",
    "fig.set_size_inches(12,4)\n",
    "fig.tight_layout()"
   ]
  },
  {
   "cell_type": "code",
   "execution_count": null,
   "metadata": {},
   "outputs": [],
   "source": []
  },
  {
   "cell_type": "code",
   "execution_count": null,
   "metadata": {
    "scrolled": true
   },
   "outputs": [],
   "source": [
    "# calculate Allan deviation of differential drift\n",
    "fig, axs = plt.subplots(6,3)\n",
    "\n",
    "st = 0\n",
    "for i in range(6):\n",
    "    for j in range(3):\n",
    "        plt.sca(axs[i,j])\n",
    "        differential_drift = (stationary_df['st'+str(st)+',m1'] - stationary_df['st'+str(st+36)+',m1']).values\n",
    "        taus, adev, _, _ = allantools.mdev(differential_drift, data_type='freq', rate=1, taus='decade')\n",
    "        plt.loglog(taus, adev, ':.', color='navy')\n",
    "        axs[i,j].set_title('st'+str(st)+' - st'+str(st+36))\n",
    "        axs[i,j].set_ylim(0.01,1)\n",
    "        st += 2\n",
    "\n",
    "fig.set_size_inches(12,16)\n",
    "fig.tight_layout()\n"
   ]
  },
  {
   "cell_type": "code",
   "execution_count": null,
   "metadata": {},
   "outputs": [],
   "source": [
    "# calculate Allan deviation of differential drift\n",
    "fig, axs = plt.subplots(3,3)\n",
    "\n",
    "st = 27\n",
    "for i in range(3):\n",
    "    for j in range(3):\n",
    "        plt.sca(axs[i,j])\n",
    "        differential_drift = (stationary_df['st30,m1'] - stationary_df['st'+str(st)+',m1']).values\n",
    "        taus, adev, _, _ = allantools.mdev(differential_drift, data_type='freq', rate=1, taus='decade')\n",
    "        plt.loglog(taus, adev, ':.', color='navy')\n",
    "        axs[i,j].set_title('st30 - st'+str(st))\n",
    "        axs[i,j].set_ylim(0.01,1)\n",
    "        st += 1\n",
    "\n",
    "fig.set_size_inches(12,12)\n",
    "fig.tight_layout()"
   ]
  },
  {
   "cell_type": "code",
   "execution_count": null,
   "metadata": {},
   "outputs": [],
   "source": []
  },
  {
   "cell_type": "markdown",
   "metadata": {},
   "source": [
    "## Allan deviation of the sync offsets"
   ]
  },
  {
   "cell_type": "code",
   "execution_count": 16,
   "metadata": {},
   "outputs": [
    {
     "data": {
      "image/png": "[encoded data removed]",
      "text/plain": [
       "<Figure size 864x576 with 2 Axes>"
      ]
     },
     "metadata": {
      "needs_background": "light"
     },
     "output_type": "display_data"
    }
   ],
   "source": [
    "### define a fake trolley baseline with the first measurement\n",
    "### this doesn't need to be accurate --- we just care about drift away\n",
    "### compare to station 4, a \"good\" station near the trolley (but outside its footprint)\n",
    "\n",
    "st = 'st30'\n",
    "\n",
    "stms = [st+',m'+str(m+1) for m in range(6)]\n",
    "\n",
    "tr_baseline = stationary_df[['tr,m'+str(m+1) for m in range(17)]].iloc[0].values\n",
    "fp_baseline = stationary_df[stms].iloc[0].values\n",
    "\n",
    "vtm_st4 = stationary_df[stms].copy()\n",
    "\n",
    "# subtract fp baseline\n",
    "for m in range(6):\n",
    "    vtm_st4[st+',m'+str(m+1)] =  vtm_st4[st+',m'+str(m+1)] - fp_baseline[m]\n",
    "    \n",
    "# apply Jacobian (6 probe offset)\n",
    "J = trfp.J_6_PROBE_OFFSET\n",
    "stms = [st+',m'+str(m+1) for m in range(5)]\n",
    "vtm_st4[stms] = vtm_st4[stms].dot(J)\n",
    "\n",
    "# add tr baseline\n",
    "for m in range(6):\n",
    "    vtm_st4[st+',m'+str(m+1)] =  vtm_st4[st+',m'+str(m+1)] + tr_baseline[m]\n",
    "    \n",
    "# find sync offset as function of time\n",
    "times =  vtm_st4.index.values\n",
    "sync_offset = (stationary_df['tr,m1'].values - vtm_st4[st+',m1'].values)/61.79\n",
    "\n",
    "fig, axs = plt.subplots(2,1)\n",
    "plt.sca(axs[0])\n",
    "plt.plot(times, sync_offset, '.', color='navy')\n",
    "axs[0].set_ylabel('m1 sync offset (ppm)')\n",
    "axs[0].set_title(st)\n",
    "plt2.plt_unix_time_to_CST(axs[0])\n",
    "\n",
    "# calculate Allan deviation of sync offsets\n",
    "rate = 1.\n",
    "taus_to_use = np.arange(0, 1000)\n",
    "taus, adev, _, _ = allantools.mdev(sync_offset, data_type='freq', rate=rate, taus='all')\n",
    "\n",
    "plt.sca(axs[1])\n",
    "plt.loglog(taus, adev, '.', color='navy')\n",
    "axs[1].set_ylim(0.001, 0.1)\n",
    "axs[1].set_xlabel(r'$\\tau$ (sec)')\n",
    "axs[1].set_ylabel(r'Allan dev (ppm)')\n",
    "\n",
    "fig.set_size_inches(12,8)\n",
    "fig.tight_layout()"
   ]
  },
  {
   "cell_type": "markdown",
   "metadata": {},
   "source": [
    "## Allan deviation of the trolley moments"
   ]
  },
  {
   "cell_type": "code",
   "execution_count": 26,
   "metadata": {},
   "outputs": [
    {
     "data": {
      "text/plain": [
       "1"
      ]
     },
     "execution_count": 26,
     "metadata": {},
     "output_type": "execute_result"
    }
   ],
   "source": [
    "5//3"
   ]
  },
  {
   "cell_type": "code",
   "execution_count": 44,
   "metadata": {
    "scrolled": false
   },
   "outputs": [
    {
     "data": {
      "image/png": "[encoded data removed]",
      "text/plain": [
       "<Figure size 864x576 with 6 Axes>"
      ]
     },
     "metadata": {
      "needs_background": "light"
     },
     "output_type": "display_data"
    },
    {
     "data": {
      "image/png": "[encoded data removed]",
      "text/plain": [
       "<Figure size 864x288 with 1 Axes>"
      ]
     },
     "metadata": {
      "needs_background": "light"
     },
     "output_type": "display_data"
    }
   ],
   "source": [
    "rate = 1.\n",
    "st = 30\n",
    "taus_to_use = np.arange(0, 5000)\n",
    "\n",
    "fig, axs = plt.subplots(2,3)\n",
    "\n",
    "probes = trfp.STATION_PROBE_ID[st]\n",
    "\n",
    "for ii in range (6):\n",
    "    plt.sca(axs[ii//3,ii%3])\n",
    "#     trm = 'tr,m'+str(ms[ii-1,0])\n",
    "    taus, adev, _, _ = allantools.mdev(runs[7309].interp_df['fp'+str(probes[ii])].values, data_type='freq', rate=rate, taus=taus_to_use)\n",
    "    plt.loglog(taus, adev, '.')\n",
    "    axs[ii//3, ii%3].set_title('probe '+str(probes[ii]))\n",
    "    axs[ii//3, ii%3].set_ylim(0.1,100)\n",
    "    \n",
    "\n",
    "fig.set_size_inches(12,8)\n",
    "fig.tight_layout()\n",
    "\n",
    "fig2, ax2 = plt.subplots(1,1)\n",
    "plt.sca(ax2)\n",
    "taus, adev, _, _ = allantools.mdev(stationary_df['st'+str(st)+',m1'].values, data_type='freq', rate=rate, taus=taus_to_use)\n",
    "plt.loglog(taus, adev, '.')\n",
    "ax2.set_title('st'+str(st)+',m1')\n",
    "ax2.set_ylim(0.1,100)\n",
    "\n",
    "ax2.set_ylabel('Allan dev (ppm)')\n",
    "ax2.set_xlabel(r'$\\tau$ (sec)')\n",
    "\n",
    "fig2.set_size_inches(12,4)\n",
    "fig2.tight_layout()"
   ]
  },
  {
   "cell_type": "code",
   "execution_count": null,
   "metadata": {},
   "outputs": [],
   "source": [
    "rate = 1.\n",
    "\n",
    "taus_to_use = np.arange(0, 5000)\n",
    "\n",
    "fig, axs = plt.subplots(5,2)\n",
    "\n",
    "taus, adev, _, _ = allantools.mdev(stationary_df['tr,m1'].values, data_type='freq', rate=rate, taus=taus_to_use)\n",
    "\n",
    "plt.sca(axs[0,0])\n",
    "plt.loglog(taus, adev, '.')\n",
    "axs[0,0].set_title('tr,m1')\n",
    "\n",
    "ms = np.array([[2,3],[5,4],[6,7],[8,9]])\n",
    "\n",
    "for ii in range (1,5):\n",
    "    plt.sca(axs[ii,0])\n",
    "    trm = 'tr,m'+str(ms[ii-1,0])\n",
    "    taus, adev, _, _ = allantools.mdev(stationary_df[trm].values, data_type='freq', rate=rate, taus=taus_to_use)\n",
    "    plt.loglog(taus, adev, '.')\n",
    "    axs[ii,0].set_title(trm)\n",
    "    plt.sca(axs[ii,1])\n",
    "    trm = 'tr,m'+str(ms[ii-1,1])\n",
    "    taus, adev, _, _ = allantools.mdev(stationary_df[trm].values, data_type='freq', rate=rate, taus=taus_to_use)\n",
    "    plt.loglog(taus, adev, '.')\n",
    "    axs[ii,1].set_title(trm)\n",
    "    \n",
    "axs[4,0].set_xlabel(r'$\\tau$ (sec)')\n",
    "axs[4,1].set_xlabel(r'$\\tau$ (sec)')\n",
    "\n",
    "fig.set_size_inches(12,16)\n",
    "fig.tight_layout()"
   ]
  },
  {
   "cell_type": "code",
   "execution_count": null,
   "metadata": {},
   "outputs": [],
   "source": [
    "def plt_unix_time_to_CST(ax):\n",
    "    ax.locator_params(axis='x', nbins=4)\n",
    "    xticks = ax.get_xticks()\n",
    "    ax.set_xticklabels([pd.to_datetime(tm, unit='s').tz_localize('UTC').tz_convert('US/Central').strftime('%Y-%m-%d\\n %H:%M:%S %Z')\n",
    "                          for tm in xticks], rotation=30)\n"
   ]
  },
  {
   "cell_type": "markdown",
   "metadata": {},
   "source": [
    "## Inflector region tracking\n",
    "The following plots show both the trolley m1 (dipole) and the three \"noisy\" fixed probes stations (stations 1, 3, and 5) versus time. In both cases the mean over time has been subtracted to put them on the same baseline. Note that the trolley is closest to positioned under station 3."
   ]
  },
  {
   "cell_type": "code",
   "execution_count": null,
   "metadata": {},
   "outputs": [],
   "source": [
    "fig, axs = plt.subplots(3,1)\n",
    "plt.sca(axs[1])\n",
    "plt.plot(stationary_df.index.values, stationary_df['st3,m1']-np.mean(stationary_df['st3,m1']), '.', color='orange',\n",
    "        label='st3, m1')\n",
    "plt.plot(stationary_df.index.values, stationary_df['tr,m1']-np.mean(stationary_df['tr,m1']), '.', color='navy',\n",
    "        label='tr, m1')\n",
    "\n",
    "plt.sca(axs[0])\n",
    "plt.plot(stationary_df.index.values, stationary_df['st1,m1']-np.mean(stationary_df['st1,m1']), '.', color='orange',\n",
    "        label='st1, m1')\n",
    "plt.plot(stationary_df.index.values, stationary_df['tr,m1']-np.mean(stationary_df['tr,m1']), '.', color='navy',\n",
    "        label='tr, m1')\n",
    "\n",
    "plt.sca(axs[2])\n",
    "plt.plot(stationary_df.index.values, stationary_df['st5,m1']-np.mean(stationary_df['st5,m1']), '.', color='orange',\n",
    "        label='st5, m1')\n",
    "plt.plot(stationary_df.index.values, stationary_df['tr,m1']-np.mean(stationary_df['tr,m1']), '.', color='navy',\n",
    "        label='tr, m1')\n",
    "\n",
    "for ax in axs:\n",
    "    plt_unix_time_to_CST(ax)\n",
    "    ax.set_ylabel('Field - Mean Field (Hz)')\n",
    "    ax.set_ylim((-110,110))\n",
    "    ax.legend()\n",
    "\n",
    "fig.set_size_inches(12,12)\n",
    "fig.tight_layout()"
   ]
  },
  {
   "cell_type": "code",
   "execution_count": null,
   "metadata": {},
   "outputs": [],
   "source": [
    "taus_to_use = np.arange(0, 5000)\n",
    "\n",
    "taus, adev, _, _ = allantools.mdev(stationary_df['st1,m1'].values, data_type='freq', rate=rate, taus=taus_to_use)\n",
    "fig, axs = plt.subplots(3,1)\n",
    "plt.sca(axs[0])\n",
    "plt.loglog(taus, adev, '.')\n",
    "axs[0].set_title('st1,m1')\n",
    "\n",
    "taus, adev, _, _ = allantools.mdev(stationary_df['st3,m1'].values, data_type='freq', rate=rate, taus=taus_to_use)\n",
    "plt.sca(axs[1])\n",
    "plt.loglog(taus, adev, '.')\n",
    "axs[1].set_title('st3,m1')\n",
    "\n",
    "taus, adev, _, _ = allantools.mdev(stationary_df['st5,m1'].values, data_type='freq', rate=rate, taus=taus_to_use)\n",
    "plt.sca(axs[2])\n",
    "plt.loglog(taus, adev, '.')\n",
    "axs[2].set_title('st5,m1')\n",
    "\n",
    "fig.set_size_inches(12,9)\n",
    "fig.tight_layout()"
   ]
  },
  {
   "cell_type": "markdown",
   "metadata": {},
   "source": [
    "The general trends seem to match. The following plots show the same data but averaged into bins of 25 seconds."
   ]
  },
  {
   "cell_type": "code",
   "execution_count": null,
   "metadata": {},
   "outputs": [],
   "source": [
    "print min(stationary_df.index.values)\n",
    "print max(stationary_df.index.values)"
   ]
  },
  {
   "cell_type": "code",
   "execution_count": null,
   "metadata": {},
   "outputs": [],
   "source": [
    "bins = np.arange(1557650000, 1557656000, 25)-12.5\n",
    "bin_centers = np.arange(1557650000, 1557655975, 25)\n",
    "\n",
    "stationary_time_bin_df = stationary_df.groupby(pd.cut(stationary_df.index,bins)).mean()\n",
    "stationary_time_bin_df.index = bin_centers\n"
   ]
  },
  {
   "cell_type": "code",
   "execution_count": null,
   "metadata": {},
   "outputs": [],
   "source": [
    "fig, axs = plt.subplots(3,1)\n",
    "plt.sca(axs[1])\n",
    "plt.plot(stationary_time_bin_df.index.values,\n",
    "         stationary_time_bin_df['st3,m1']-np.mean(stationary_time_bin_df['st3,m1']), '.', color='orange',\n",
    "         label='st3, m1')\n",
    "plt.plot(stationary_time_bin_df.index.values,\n",
    "         stationary_time_bin_df['tr,m1']-np.mean(stationary_time_bin_df['tr,m1']), '.', color='navy',\n",
    "         label='tr, m1')\n",
    "\n",
    "plt.sca(axs[0])\n",
    "plt.plot(stationary_time_bin_df.index.values,\n",
    "         stationary_time_bin_df['st1,m1']-np.mean(stationary_time_bin_df['st1,m1']), '.', color='orange',\n",
    "         label='st1, m1')\n",
    "plt.plot(stationary_time_bin_df.index.values,\n",
    "         stationary_time_bin_df['tr,m1']-np.mean(stationary_time_bin_df['tr,m1']), '.', color='navy',\n",
    "         label='tr, m1')\n",
    "\n",
    "plt.sca(axs[2])\n",
    "plt.plot(stationary_time_bin_df.index.values,\n",
    "         stationary_time_bin_df['st5,m1']-np.mean(stationary_time_bin_df['st5,m1']), '.', color='orange',\n",
    "         label='st5, m1')\n",
    "plt.plot(stationary_time_bin_df.index.values,\n",
    "         stationary_time_bin_df['tr,m1']-np.mean(stationary_time_bin_df['tr,m1']), '.', color='navy',\n",
    "         label='tr, m1')\n",
    "\n",
    "for ax in axs:\n",
    "    plt_unix_time_to_CST(ax)\n",
    "    ax.set_ylabel('Field - Mean Field (Hz)')\n",
    "    ax.set_ylim((-30,30))\n",
    "    ax.legend()\n",
    "\n",
    "fig.set_size_inches(12,12)\n",
    "fig.tight_layout()\n"
   ]
  },
  {
   "cell_type": "markdown",
   "metadata": {},
   "source": [
    "There is good agreement of long-term drift and structure, especially in station 3. The other two stations track better with longer averaging times as they are intrinsically noisier."
   ]
  },
  {
   "cell_type": "markdown",
   "metadata": {},
   "source": [
    "## Long averaging for tracking\n",
    "\n",
    "The following plots show the inflector station m1 tracking for an averaging window of 250 seconds instead of 25."
   ]
  },
  {
   "cell_type": "code",
   "execution_count": null,
   "metadata": {},
   "outputs": [],
   "source": [
    "bins = np.arange(1557650000, 1557656000, 250)-125\n",
    "bin_centers = np.arange(1557650000, 1557655750, 250)\n",
    "\n",
    "stationary_time_bin_df = stationary_df.groupby(pd.cut(stationary_df.index,bins)).mean()\n",
    "stationary_time_bin_df.index = bin_centers\n",
    "\n",
    "fig, axs = plt.subplots(3,1)\n",
    "plt.sca(axs[1])\n",
    "plt.plot(stationary_time_bin_df.index.values,\n",
    "         stationary_time_bin_df['st3,m1']-np.mean(stationary_time_bin_df['st3,m1']), '.', color='orange',\n",
    "         label='st3, m1')\n",
    "plt.plot(stationary_time_bin_df.index.values,\n",
    "         stationary_time_bin_df['tr,m1']-np.mean(stationary_time_bin_df['tr,m1']), '.', color='navy',\n",
    "         label='tr, m1')\n",
    "\n",
    "plt.sca(axs[0])\n",
    "plt.plot(stationary_time_bin_df.index.values,\n",
    "         stationary_time_bin_df['st1,m1']-np.mean(stationary_time_bin_df['st1,m1']), '.', color='orange',\n",
    "         label='st1, m1')\n",
    "plt.plot(stationary_time_bin_df.index.values,\n",
    "         stationary_time_bin_df['tr,m1']-np.mean(stationary_time_bin_df['tr,m1']), '.', color='navy',\n",
    "         label='tr, m1')\n",
    "\n",
    "plt.sca(axs[2])\n",
    "plt.plot(stationary_time_bin_df.index.values,\n",
    "         stationary_time_bin_df['st5,m1']-np.mean(stationary_time_bin_df['st5,m1']), '.', color='orange',\n",
    "         label='st5, m1')\n",
    "plt.plot(stationary_time_bin_df.index.values,\n",
    "         stationary_time_bin_df['tr,m1']-np.mean(stationary_time_bin_df['tr,m1']), '.', color='navy',\n",
    "         label='tr, m1')\n",
    "\n",
    "for ax in axs:\n",
    "    plt_unix_time_to_CST(ax)\n",
    "    ax.set_ylabel('Field - Mean Field (Hz)')\n",
    "    ax.set_ylim((-10,10))\n",
    "    ax.legend()\n",
    "\n",
    "fig.set_size_inches(12,12)\n",
    "fig.tight_layout()\n",
    "\n"
   ]
  },
  {
   "cell_type": "code",
   "execution_count": null,
   "metadata": {},
   "outputs": [],
   "source": [
    "# Apply Jacobian\n",
    "\n",
    "print \"\\n\\nApplying Jacobian.\"\n",
    "vtr_df = stationary_time_bin_df.copy()\n",
    "\n",
    "for st in np.arange(72):\n",
    "    num_probes = len(trfp.STATION_PROBE_ID[st])\n",
    "    if num_probes == 4:\n",
    "        num_moments = 4\n",
    "        if st == 41:\n",
    "            J = trfp.J_4_PROBE_ST41\n",
    "        elif st == 37 | st == 39:\n",
    "            J = trfp.J_4_PROBE_ST37_ST39\n",
    "        else:\n",
    "            J = trfp.J_4_PROBE\n",
    "    else:\n",
    "        num_moments = 5\n",
    "        if st < 7:\n",
    "            J = trfp.J_6_PROBE_OFFSET.copy()\n",
    "        else:\n",
    "            J = trfp.J_6_PROBE\n",
    "#         J[0,4] = 0\n",
    "    # run over each vtr moment:\n",
    "    for m in np.arange(num_moments):\n",
    "        vtr_stm = 'st'+str(st)+',m'+str(m+1)\n",
    "        fp_stm = ['st'+str(st)+',m'+str(fp_m+1) for fp_m in np.arange(num_moments)]\n",
    "        vtr_df[vtr_stm] = stationary_df[fp_stm].dot(J[m])\n",
    "        "
   ]
  },
  {
   "cell_type": "code",
   "execution_count": null,
   "metadata": {},
   "outputs": [],
   "source": [
    "J = trfp.J_6_PROBE_OFFSET.copy()\n",
    "\n",
    "print np.round(J,2)"
   ]
  },
  {
   "cell_type": "code",
   "execution_count": null,
   "metadata": {
    "scrolled": false
   },
   "outputs": [],
   "source": [
    "fig, axs = plt.subplots(3,2)\n",
    "plt.sca(axs[1,0])\n",
    "plt.plot(vtr_df.index.values,\n",
    "         vtr_df['st3,m1']-np.mean(vtr_df['st3,m1']), '.', color='orange',\n",
    "         label='st3, m1')\n",
    "plt.plot(vtr_df.index.values,\n",
    "         vtr_df['tr,m1']-np.mean(vtr_df['tr,m1']), '.', color='navy',\n",
    "         label='tr, m1')\n",
    "\n",
    "plt.sca(axs[0,0])\n",
    "plt.plot(vtr_df.index.values,\n",
    "         vtr_df['st1,m1']-np.mean(vtr_df['st1,m1']), '.', color='orange',\n",
    "         label='st1, m1')\n",
    "plt.plot(vtr_df.index.values,\n",
    "         vtr_df['tr,m1']-np.mean(vtr_df['tr,m1']), '.', color='navy',\n",
    "         label='tr, m1')\n",
    "\n",
    "plt.sca(axs[2,0])\n",
    "plt.plot(vtr_df.index.values,\n",
    "         vtr_df['st5,m1']-np.mean(vtr_df['st5,m1']), '.', color='orange',\n",
    "         label='st5, m1')\n",
    "plt.plot(vtr_df.index.values,\n",
    "         vtr_df['tr,m1']-np.mean(vtr_df['tr,m1']), '.', color='navy',\n",
    "         label='tr, m1')\n",
    "\n",
    "plt.sca(axs[1,1])\n",
    "plt.plot(vtr_df.index.values,\n",
    "         (vtr_df['tr,m1']-np.mean(vtr_df['tr,m1'])) - \n",
    "         (vtr_df['st3,m1']-np.mean(vtr_df['st3,m1'])), '.', color='navy')\n",
    "\n",
    "plt.sca(axs[0,1])\n",
    "plt.plot(vtr_df.index.values,\n",
    "         (vtr_df['tr,m1']-np.mean(vtr_df['tr,m1'])) - \n",
    "         (vtr_df['st1,m1']-np.mean(vtr_df['st1,m1'])), '.', color='navy')\n",
    "\n",
    "plt.sca(axs[2,1])\n",
    "plt.plot(vtr_df.index.values,\n",
    "         (vtr_df['tr,m1']-np.mean(vtr_df['tr,m1'])) - \n",
    "         (vtr_df['st5,m1']-np.mean(vtr_df['st5,m1'])), '.', color='navy')\n",
    "\n",
    "for ax in axs[:,0]:\n",
    "    plt_unix_time_to_CST(ax)\n",
    "    ax.set_ylabel('Field - Mean Field (Hz)')\n",
    "    ax.set_ylim((-500,500))\n",
    "    ax.legend()\n",
    "    \n",
    "for ax in axs[:,1]:\n",
    "    plt_unix_time_to_CST(ax)\n",
    "    ax.set_ylabel('Tr - FP Residuals')\n",
    "    ax.set_ylim((-600,600))\n",
    "\n",
    "fig.set_size_inches(12,12)\n",
    "fig.tight_layout()\n",
    "\n"
   ]
  },
  {
   "cell_type": "code",
   "execution_count": null,
   "metadata": {},
   "outputs": [],
   "source": []
  }
 ],
 "metadata": {
  "kernelspec": {
   "display_name": "Python 2",
   "language": "python",
   "name": "python2"
  },
  "language_info": {
   "codemirror_mode": {
    "name": "ipython",
    "version": 2
   },
   "file_extension": ".py",
   "mimetype": "text/x-python",
   "name": "python",
   "nbconvert_exporter": "python",
   "pygments_lexer": "ipython2",
   "version": "2.7.14"
  }
 },
 "nbformat": 4,
 "nbformat_minor": 2
}
