{
 "cells": [
  {
   "cell_type": "code",
   "execution_count": 1,
   "metadata": {},
   "outputs": [
    {
     "name": "stdout",
     "output_type": "stream",
     "text": [
      "Welcome to JupyROOT 6.12/04\n"
     ]
    }
   ],
   "source": [
    "import numpy as np\n",
    "\n",
    "import matplotlib.pyplot as plt\n",
    "import matplotlib\n",
    "import seaborn as sns\n",
    "\n",
    "import scipy\n",
    "import scipy.optimize\n",
    "\n",
    "import trfp"
   ]
  },
  {
   "cell_type": "code",
   "execution_count": 2,
   "metadata": {},
   "outputs": [],
   "source": [
    "# Plotting parameters (maybe define standard functions based on these reqs later?)\n",
    "\n",
    "matplotlib.rc('xtick', labelsize=8)     \n",
    "matplotlib.rc('ytick', labelsize=8)\n",
    "matplotlib.rc('axes', titlesize=16)\n",
    "matplotlib.rc('axes', labelsize=12)\n",
    "sns.set(style=\"darkgrid\")\n",
    "\n",
    "single_column_small = (6.202, 3.833)  #inches\n",
    "single_column_med = (6.202, 6.202)\n",
    "single_column_large = (6.202, 7.666)\n",
    "\n",
    "def plt_unix_time_to_CST(ax):\n",
    "    plt.locator_params(axis='x', nbins=5)\n",
    "    xticks = ax.get_xticks()\n",
    "    ax.set_xticklabels([pd.to_datetime(tm, unit='s').tz_localize('UTC').tz_convert('US/Central').strftime('%Y-%m-%d\\n %H:%M:%S %Z')\n",
    "                          for tm in xticks], rotation=30)\n",
    "\n",
    "def plt_set_labels(ax, x_label, y_label, title):\n",
    "    plt.rcParams[\"font.family\"] = \"serif\"\n",
    "    ax.set_xlabel(x_label)\n",
    "    ax.set_ylabel(y_label)\n",
    "    ax.set_title(title)\n",
    "\n",
    "def fig_watermark(fig):\n",
    "    fig.text(0.5, 0.5, 'BLINDED\\nPRELIMINARY',\n",
    "         fontsize=36, color='black', rotation=45,\n",
    "         ha='center', va='center', alpha=0.25)"
   ]
  },
  {
   "cell_type": "code",
   "execution_count": 3,
   "metadata": {},
   "outputs": [],
   "source": [
    "tr_x = np.array([0] + [1.75 * np.sin(2*np.pi/4*i) for i in np.arange(4)] + [3.5 * np.sin(2*np.pi/12*i) for i in np.arange(12)])\n",
    "tr_y = np.array([0] + [-1.75 * np.cos(2*np.pi/4*i) for i in np.arange(4)] + [-3.5 * np.cos(2*np.pi/12*i) for i in np.arange(12)])\n",
    "\n",
    "fp6_x = np.array([-3, 0, 3, -3, 0, 3])\n",
    "fp6_x_2 = np.array([-4, -1, 2, -4, -1, 2])\n",
    "fp6_y = np.array([7.7, 7.7, 7.7, -7.7, -7.7, -7.7])\n",
    "\n",
    "fp4_x = np.array([0, 3, 0, 3])\n",
    "fp4_y = np.array([7.7, 7.7, -7.7, -7.7])\n",
    "\n",
    "def multipole(N,s,A,x,y):\n",
    "    r = np.sqrt(x**2+y**2)\n",
    "    theta = np.arctan2(y,x)\n",
    "    if(s==0):\n",
    "        By = 61.79e6 + A * (r/4.5)**N * np.cos(N*theta)\n",
    "        Bx = A * (r/4.5)**N * np.sin(N*theta)\n",
    "    if(s==1):\n",
    "        By = 61.79e6 + A * (r/4.5)**N * np.sin(N*theta)\n",
    "        Bx = -A * (r/4.5)**N * np.cos(N*theta)\n",
    "    B = np.sqrt(Bx**2 + By**2) - 61.79e6\n",
    "    return B\n",
    "\n",
    "def lin_fit(x, a, b):\n",
    "    return a + b*x\n",
    "\n",
    "Ns = [0,1,1,2,2,3,3,4,4,5,5,6,6,7,7,8,8];\n",
    "ss = [0,0,1,1,0,0,1,0,1,0,1,0,1,0,1,0,1];\n",
    "\n",
    "THETA_TR = np.linalg.pinv(np.transpose(np.array([multipole(Ns[i],ss[i],1,tr_x,tr_y) for i in np.arange(17)])))\n",
    "\n",
    "THETA_FP_6 = np.array([np.array([1, 1, 1, 1, 1, 1])/6.,  # dipole\n",
    "                       np.array([1, 0, -1, 1, 0, -1])/-12.*4.5,  # n quad\n",
    "                       np.array([1, 1, 1, -1, -1, -1])/46.2*4.5,  # s quad\n",
    "                       np.array([1, 0, -1, -1, 0, 1])/-92.4*4.5**2,  # s sext\n",
    "                       np.array([1, -2, 1, 1, -2, 1])/18.*4.5**2,  # n sext\n",
    "                       np.array([1, -2, 1, -1, 2, -1])/-138.6*4.5**3]  # NOT oct\n",
    "                     )\n",
    "\n",
    "THETA_FP_4 = np.array([np.array([1, 0, 1, 0])/2.,  # dipole\n",
    "                       np.array([1, -1, 1, -1])/-6.*4.5,  # n quad\n",
    "                       np.array([1, 1, -1, -1])/30.8*4.5,  # s quad\n",
    "                       np.array([1, -1, -1, 1])/-46.2*4.5**2]  # sext\n",
    "                     )\n",
    "\n",
    "def jacobian_calc(probes, offset):\n",
    "    if probes == 6:\n",
    "        THETA_FP = THETA_FP_6\n",
    "        if offset:\n",
    "            fp_x = fp6_x_2\n",
    "            fp_y = fp6_y\n",
    "        else:\n",
    "            fp_x = fp6_x\n",
    "            fp_y = fp6_y\n",
    "    else:\n",
    "        probes = 4\n",
    "        THETA_FP = THETA_FP_4\n",
    "        fp_x = fp4_x\n",
    "        fp_y = fp4_y\n",
    "        \n",
    "    As = np.arange(-10,10)\n",
    "\n",
    "    dfp_dtr = np.zeros((probes, probes))\n",
    "    \n",
    "    for ii in np.arange(probes):\n",
    "        N = Ns[ii]\n",
    "        s = ss[ii]\n",
    "\n",
    "        tr_out = np.empty((len(As),probes))\n",
    "        tr_out[:] = np.nan\n",
    "        fp_out = np.empty((len(As),probes))\n",
    "        fp_out[:] = np.nan\n",
    "\n",
    "        for jj in np.arange(len(As)):\n",
    "            A = As[jj]\n",
    "            B_tr = multipole(N, s, A, tr_x, tr_y)\n",
    "            B_fp = multipole(N, s, A, fp_x, fp_y)\n",
    "\n",
    "            tr_out[jj,:] = np.matmul(THETA_TR, B_tr)[0:probes]\n",
    "            fp_out[jj,:] = np.matmul(THETA_FP, B_fp)\n",
    "\n",
    "        for kk in np.arange(probes):\n",
    "            coeffs, covar = scipy.optimize.curve_fit(lin_fit, As, fp_out[:,kk])\n",
    "            dfp_dtr[kk,ii] = coeffs[1]\n",
    "    return dfp_dtr[0:5,0:5]"
   ]
  },
  {
   "cell_type": "code",
   "execution_count": 4,
   "metadata": {},
   "outputs": [
    {
     "data": {
      "image/png": "[encoded data removed]",
      "text/plain": [
       "<Figure size 446.544x137.988 with 3 Axes>"
      ]
     },
     "metadata": {},
     "output_type": "display_data"
    }
   ],
   "source": [
    "# Plotting parameters (maybe define standard functions based on these reqs later?)\n",
    "probes = 6\n",
    "\n",
    "As = np.arange(-10,10)\n",
    "tr_out = np.empty((len(As),probes))\n",
    "tr_out[:] = np.nan\n",
    "fp_out = np.empty((len(As),probes))\n",
    "fp_out[:] = np.nan\n",
    "\n",
    "for jj in np.arange(len(As)):\n",
    "    A = As[jj]\n",
    "    B_tr = multipole(1, 0, A, tr_x, tr_y)\n",
    "    B_fp = multipole(1, 0, A, fp6_x_2, fp6_y)\n",
    "\n",
    "    tr_out[jj,:] = np.matmul(THETA_TR, B_tr)[0:probes]\n",
    "    fp_out[jj,:] = np.matmul(trfp.THETA_FP_6, B_fp)\n",
    "    \n",
    "fig, ax = plt.subplots(1,3)\n",
    "plt.sca(ax[0])\n",
    "plt.plot(tr_out[:,1], fp_out[:,0], '.')\n",
    "plt_set_labels(ax[0], '$m^{tr}_2$ (arb)', '$m^{fp}_1$ (arb)', '')\n",
    "\n",
    "plt.sca(ax[1])\n",
    "plt.plot(tr_out[:,1], fp_out[:,1], '.')\n",
    "plt_set_labels(ax[1], '$m^{tr}_2$ (arb)', '$m^{fp}_2$ (arb)', '')\n",
    "\n",
    "plt.sca(ax[2])\n",
    "plt.plot(tr_out[:,1], fp_out[:,2], '.')\n",
    "plt_set_labels(ax[2], '$m^{tr}_2$ (arb)', '$m^{fp}_3$ (arb)', '')\n",
    "\n",
    "ax[0].set_ylim((-10,10))\n",
    "ax[1].set_ylim((-10,10))\n",
    "ax[2].set_ylim((-10,10))\n",
    "\n",
    "\n",
    "\n",
    "fig.set_size_inches((6.202,3.833/2))\n",
    "fig.tight_layout()\n",
    "# fig.savefig('jacobian_calc.png', dpi=600)"
   ]
  },
  {
   "cell_type": "code",
   "execution_count": 5,
   "metadata": {},
   "outputs": [
    {
     "name": "stdout",
     "output_type": "stream",
     "text": [
      "1 & 0.22 & 0 & 0 & 1.34\\\\\n",
      "0 & 1 & 0 & 0 & 0.22\\\\\n",
      "0 & 0 & 1 & 0.22 & 0\\\\\n",
      "0 & 0 & 0 & 0.5 & 0\\\\\n",
      "0 & 0 & 0 & 0 & 0.5\n"
     ]
    }
   ],
   "source": [
    "j_6_offset = trfp.J_6_PROBE_OFFSET\n",
    "j_6 = trfp.J_6_PROBE\n",
    "j_4 = trfp.J_4_PROBE\n",
    "\n",
    "output = np.round(j_6_offset,2)\n",
    "# output[0,1] = 0.0\n",
    "# output[0,2] = 0.0\n",
    "# output[1,4] = 0.0\n",
    "# output[2,3] = 0.0\n",
    "# output[3,1] = 0.0\n",
    "# output[3,2] = 0.0\n",
    "# output[4,2] = 0.0\n",
    "\n",
    "output[1,3] = 0.0\n",
    "output[2,1] = 0.0\n",
    "output[3,2] = 0.0\n",
    "output[4,1] = 0.0\n",
    "\n",
    "\n",
    "step2 = [map(str,line) for line in output]\n",
    "step3 = []\n",
    "for line in step2:\n",
    "    new_line = []\n",
    "    for entry in line:\n",
    "        new_line.append(entry.rstrip('0').rstrip('.'))\n",
    "    step3.append(new_line)\n",
    "\n",
    "print \"\\\\\\\\\\n\".join([\" & \".join(map(str,line)) for line in step3])"
   ]
  },
  {
   "cell_type": "code",
   "execution_count": 6,
   "metadata": {},
   "outputs": [
    {
     "name": "stdout",
     "output_type": "stream",
     "text": [
      "0.08 & 0 & 0 & 0 & 0 & 0.08 & 0.08 & 0.08 & 0.08 & 0.08 & 0.08 & 0.08 & 0.08 & 0.08 & 0.08 & 0.08 & 0.08\\\\\n",
      "0 & 0 & 0 & 0 & 0 & 0 & 0.11 & 0.19 & 0.21 & 0.19 & 0.11 & 0 & -0.11 & -0.19 & -0.21 & -0.19 & -0.11\\\\\n",
      "0 & 0 & 0 & 0 & 0 & -0.21 & -0.19 & -0.11 & 0 & 0.11 & 0.19 & 0.21 & 0.19 & 0.11 & 0 & -0.11 & -0.19\\\\\n",
      "0 & 0 & 0 & 0 & 0 & 0 & -0.24 & -0.24 & 0 & 0.24 & 0.24 & 0 & -0.24 & -0.24 & 0 & 0.24 & 0.24\\\\\n",
      "0 & -0.07 & 0.07 & -0.07 & 0.07 & -0.26 & -0.13 & 0.13 & 0.26 & 0.13 & -0.13 & -0.26 & -0.13 & 0.13 & 0.26 & 0.13 & -0.13\\\\\n",
      "0 & 0 & 0 & 0 & 0 & 0 & -0.35 & 0 & 0.35 & 0 & -0.35 & 0 & 0.35 & 0 & -0.35 & 0 & 0.35\\\\\n",
      "0 & 0 & 0 & 0 & 0 & 0.35 & 0 & -0.35 & 0 & 0.35 & 0 & -0.35 & 0 & 0.35 & 0 & -0.35 & 0\\\\\n",
      "-3.59 & 11.66 & 11.66 & 11.66 & 11.66 & -3.62 & -3.57 & -3.57 & -3.62 & -3.57 & -3.57 & -3.62 & -3.57 & -3.57 & -3.62 & -3.57 & -3.57\\\\\n",
      "0 & 0 & 0 & 0 & 0 & 0 & 0.35 & -0.35 & 0 & 0.35 & -0.35 & 0 & 0.35 & -0.35 & 0 & 0.35 & -0.35\\\\\n",
      "0 & 0 & 74.95 & 0 & -74.95 & 0 & -3.22 & -10.65 & -15.81 & -10.65 & -3.22 & 0 & 3.22 & 10.65 & 15.81 & 10.65 & 3.22\\\\\n",
      "0 & -74.95 & 0 & 74.95 & 0 & 15.81 & 10.65 & 3.22 & 0 & -3.22 & -10.65 & -15.81 & -10.65 & -3.22 & 0 & 3.22 & 10.65\\\\\n",
      "0 & -0.01 & 0.01 & -0.01 & 0.01 & -0.38 & 0.38 & -0.38 & 0.38 & -0.38 & 0.38 & -0.38 & 0.38 & -0.38 & 0.38 & -0.38 & 0.38\\\\\n",
      "0 & 0 & 0 & 0 & 0 & 0 & 0 & 0 & 0 & 0 & 0 & 0 & 0 & 0 & 0 & 0 & 0\\\\\n",
      "0 & 0 & -123.9 & 0 & 123.9 & 0 & 5.81 & 16.77 & 27.1 & 16.77 & 5.81 & 0 & -5.81 & -16.77 & -27.1 & -16.77 & -5.81\\\\\n",
      "0 & -123.9 & 0 & 123.9 & 0 & 27.1 & 16.77 & 5.81 & 0 & -5.81 & -16.77 & -27.1 & -16.77 & -5.81 & 0 & 5.81 & 16.77\\\\\n",
      "9.8 & -31.86 & -31.86 & -31.86 & -31.86 & 11.13 & 9.14 & 9.14 & 11.13 & 9.14 & 9.14 & 11.13 & 9.14 & 9.14 & 11.13 & 9.14 & 9.14\\\\\n",
      "0 & 0 & 0 & 0 & 0 & 0 & -0.13 & 0.13 & 0 & -0.13 & 0.13 & 0 & -0.13 & 0.13 & 0 & -0.13 & 0.13\n"
     ]
    }
   ],
   "source": [
    "theta_4 = trfp.THETA_FP_4\n",
    "theta_6 = trfp.THETA_FP_6\n",
    "theta_tr = trfp.THETA_TR\n",
    "\n",
    "output = np.round(theta_tr,2)\n",
    "\n",
    "step2 = [map(str,line) for line in output]\n",
    "step3 = []\n",
    "for line in step2:\n",
    "    new_line = []\n",
    "    for entry in line:\n",
    "        if float(entry) == 0.0:\n",
    "            new_line.append(entry.rstrip('0').rstrip('.').lstrip('-'))\n",
    "        else:\n",
    "            new_line.append(entry.rstrip('0').rstrip('.'))\n",
    "    step3.append(new_line)\n",
    "\n",
    "print \"\\\\\\\\\\n\".join([\" & \".join(map(str,line)) for line in step3])"
   ]
  },
  {
   "cell_type": "code",
   "execution_count": 7,
   "metadata": {},
   "outputs": [
    {
     "name": "stdout",
     "output_type": "stream",
     "text": [
      "[[ 1.    -0.    -0.    -0.    -2.632]\n",
      " [ 0.     1.     0.     0.     0.   ]\n",
      " [ 0.     0.     1.     0.     0.   ]\n",
      " [ 0.     0.     0.     2.     0.   ]\n",
      " [ 0.     0.    -0.     0.     2.   ]]\n",
      "[[ 1.     0.     0.    -0.     1.316]\n",
      " [ 0.     1.     0.     0.     0.   ]\n",
      " [ 0.     0.     1.     0.     0.   ]\n",
      " [ 0.    -0.     0.     0.5    0.   ]\n",
      " [ 0.    -0.     0.    -0.     0.5  ]]\n"
     ]
    }
   ],
   "source": [
    "# look at fp vs tr (tr is good proxy for actual at low m)\n",
    "\n",
    "probes = 6\n",
    "offset = False\n",
    "\n",
    "dfp_dtr = jacobian_calc(probes, offset)\n",
    "\n",
    "print np.round(dfp_dtr, 3)\n",
    "print np.round(np.linalg.inv(dfp_dtr), 3)\n",
    "# print np.round(np.linalg.pinv(dfp_dtr[0:5,0:5]), 3)\n",
    "# print np.round(np.matmul(np.linalg.pinv(dfp_dtr[0:5,0:5]),\n",
    "#                          dfp_dtr[0:5,0:5]\n",
    "#                         ),\n",
    "#                3)\n",
    "        \n"
   ]
  },
  {
   "cell_type": "code",
   "execution_count": 8,
   "metadata": {},
   "outputs": [
    {
     "name": "stdout",
     "output_type": "stream",
     "text": [
      "[[ 1.     0.     0.     0.   ]\n",
      " [-0.    -0.    -0.    -1.711]\n",
      " [ 0.    -0.195  1.     0.   ]\n",
      " [ 0.     0.292  0.     0.   ]]\n",
      "[ 0.    0.    4.7  -1.35]\n",
      "[ 0.   0.   3.8 -2.7]\n",
      "[0.   4.62 3.8  0.  ]\n"
     ]
    }
   ],
   "source": [
    "# test Jacobian\n",
    "\n",
    "probes = 6\n",
    "offset = True\n",
    "\n",
    "J_6_probe = trfp.J_6_PROBE\n",
    "J_6_probe_offset = trfp.J_6_PROBE_OFFSET\n",
    "J_4_probe = trfp.J_4_PROBE\n",
    "\n",
    "# print np.round(dfp_dtr, 3)\n",
    "print np.round(J_4_probe, 3)\n",
    "\n",
    "B_tr = multipole(1, 1, 4.7, tr_x, tr_y) + multipole(2, 1, -1.35, tr_x, tr_y)\n",
    "B_fp = multipole(1, 1, 4.7, fp4_x, fp4_y) + multipole(2, 1, -1.35, fp4_x, fp4_y)\n",
    "\n",
    "m_tr = np.matmul(THETA_TR, B_tr)\n",
    "m_fp = np.matmul(THETA_FP_4, B_fp)\n",
    "\n",
    "print np.round(m_tr[0:4], 3)\n",
    "print np.round(m_fp, 3)\n",
    "\n",
    "print np.round(np.matmul(J_4_probe, m_fp), 3)"
   ]
  },
  {
   "cell_type": "code",
   "execution_count": null,
   "metadata": {},
   "outputs": [],
   "source": []
  }
 ],
 "metadata": {
  "kernelspec": {
   "display_name": "Python 2",
   "language": "python",
   "name": "python2"
  },
  "language_info": {
   "codemirror_mode": {
    "name": "ipython",
    "version": 2
   },
   "file_extension": ".py",
   "mimetype": "text/x-python",
   "name": "python",
   "nbconvert_exporter": "python",
   "pygments_lexer": "ipython2",
   "version": "2.7.5"
  }
 },
 "nbformat": 4,
 "nbformat_minor": 2
}
