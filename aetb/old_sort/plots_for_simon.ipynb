{
 "cells": [
  {
   "cell_type": "markdown",
   "metadata": {},
   "source": [
    "# Fixed probe studies for Simon\n",
    "\n",
    "For PSFB stuff. He just wanted azimuthally averaged fixed probe readings."
   ]
  },
  {
   "cell_type": "code",
   "execution_count": null,
   "metadata": {},
   "outputs": [],
   "source": [
    "%load_ext autoreload\n",
    "%autoreload 2\n",
    "\n",
    "%matplotlib inline\n",
    "import matplotlib\n",
    "import matplotlib.pyplot as plt\n",
    "import seaborn as sns\n",
    "\n",
    "import numpy as np\n",
    "import pandas as pd\n",
    "\n",
    "import gm2\n",
    "import trfp\n",
    "import plotting_functions as plt2\n",
    "import analysis_helper as helper\n",
    "import helper_function_candidates as helper_old"
   ]
  },
  {
   "cell_type": "markdown",
   "metadata": {},
   "source": [
    "Note that these use files currently present at `/mnt/nfs/g2field-server-2/newg2/DataProduction/Nearline/ArtTFSDir/`.\n",
    "\n",
    "Adjust `rootbase.py` in `gm2` accordingly."
   ]
  },
  {
   "cell_type": "markdown",
   "metadata": {
    "heading_collapsed": true
   },
   "source": [
    "# Runs 8206-8215"
   ]
  },
  {
   "cell_type": "code",
   "execution_count": null,
   "metadata": {
    "hidden": true
   },
   "outputs": [],
   "source": [
    "fp_interp_df = helper.root_to_pandas(range(8206,8216), prefix='FieldGraphOut', tr_run=False)\n",
    "fp_moment_df = helper.calc_moment_df(fp_interp_df)\n",
    "\n",
    "test_df = fp_moment_df.copy()\n",
    "\n",
    "azi_avg_df = pd.DataFrame(np.zeros((test_df.shape[0],6)),\n",
    "                         index = test_df.index,\n",
    "                         columns = ['m' + str(m) for m in np.arange(6)+1])\n",
    "\n",
    "for m in range(5):\n",
    "    weight = np.diff(trfp.STATION_BARCODE_EDGES)%360\n",
    "    total_weight = np.nansum(weight)\n",
    "    stm_list = ['st'+str(st)+',m'+str(m+1) for st in np.arange(72)]\n",
    "    azi_avg_df['m'+str(m+1)] = test_df[stm_list].multiply(weight).sum(axis=1)/total_weight\n",
    "    \n",
    "print_df = azi_avg_df[['m1','m2','m3','m5']].copy()/61.79\n",
    "\n",
    "print_df = print_df.sort_index(axis='columns')\n",
    "\n",
    "fig, ax = plt.subplots(1,1)\n",
    "plt.plot(print_df.index.values, print_df['m1'], '.')\n",
    "plt2.plt_set_labels(ax, '', 'fp m1 (ppm)', 'Runs 8206-8215')\n",
    "plt2.plt_unix_time_to_CST(ax)\n",
    "\n",
    "fig.set_size_inches(12,4)\n",
    "fig.tight_layout()\n",
    "\n",
    "print_df.to_pickle('run8206-8215.pkl')"
   ]
  },
  {
   "cell_type": "markdown",
   "metadata": {
    "heading_collapsed": true
   },
   "source": [
    "# Runs 8229 to 8227"
   ]
  },
  {
   "cell_type": "code",
   "execution_count": null,
   "metadata": {
    "hidden": true
   },
   "outputs": [],
   "source": [
    "fp_interp_df = helper.root_to_pandas(range(8220,8228), prefix='FieldGraphOut', tr_run=False)\n",
    "fp_moment_df = helper.calc_moment_df(fp_interp_df)\n",
    "\n",
    "test_df = fp_moment_df.copy()\n",
    "\n",
    "azi_avg_df = pd.DataFrame(np.zeros((test_df.shape[0],6)),\n",
    "                         index = test_df.index,\n",
    "                         columns = ['m' + str(m) for m in np.arange(6)+1])\n",
    "\n",
    "for m in range(5):\n",
    "    weight = np.diff(trfp.STATION_BARCODE_EDGES)%360\n",
    "    total_weight = np.nansum(weight)\n",
    "    stm_list = ['st'+str(st)+',m'+str(m+1) for st in np.arange(72)]\n",
    "    azi_avg_df['m'+str(m+1)] = test_df[stm_list].multiply(weight).sum(axis=1)/total_weight\n",
    "    \n",
    "print_df = azi_avg_df[['m1','m2','m3','m5']].copy()/61.79\n",
    "\n",
    "print_df = print_df.sort_index(axis='columns')\n",
    "\n",
    "fig, ax = plt.subplots(1,1)\n",
    "plt.plot(print_df.index.values, print_df['m1'], '.')\n",
    "plt2.plt_set_labels(ax, '', 'fp m1 (ppm)', 'Runs 8220-8227')\n",
    "plt2.plt_unix_time_to_CST(ax)\n",
    "\n",
    "fig.set_size_inches(12,4)\n",
    "fig.tight_layout()\n",
    "\n",
    "print_df.to_pickle('run8220-8227.pkl')"
   ]
  }
 ],
 "metadata": {
  "kernelspec": {
   "display_name": "Python 2",
   "language": "python",
   "name": "python2"
  },
  "language_info": {
   "codemirror_mode": {
    "name": "ipython",
    "version": 2
   },
   "file_extension": ".py",
   "mimetype": "text/x-python",
   "name": "python",
   "nbconvert_exporter": "python",
   "pygments_lexer": "ipython2",
   "version": "2.7.14"
  }
 },
 "nbformat": 4,
 "nbformat_minor": 2
}
