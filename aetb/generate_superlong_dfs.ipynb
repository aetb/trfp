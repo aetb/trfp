{
 "cells": [
  {
   "cell_type": "code",
   "execution_count": 1,
   "metadata": {},
   "outputs": [
    {
     "name": "stdout",
     "output_type": "stream",
     "text": [
      "Welcome to JupyROOT 6.12/04\n"
     ]
    }
   ],
   "source": [
    "%matplotlib inline\n",
    "import matplotlib.pyplot as plt\n",
    "import seaborn as sns\n",
    "\n",
    "import numpy as np\n",
    "import pandas as pd\n",
    "import allantools\n",
    "\n",
    "import gm2\n",
    "import trfp\n",
    "import analysis_helper as helper\n",
    "\n",
    "import plotting_functions as plt2\n",
    "\n",
    "from IPython.display import clear_output"
   ]
  },
  {
   "cell_type": "code",
   "execution_count": null,
   "metadata": {},
   "outputs": [],
   "source": [
    "# %%time\n",
    "\n",
    "prefix = 'data2/newg2/DataProduction/Offline/ArtTFSDir/v9_24_00_dev2/FieldPlainRootOutput_'\n",
    "interp_df = helper.root_to_pandas([7780], prefix=prefix, tr_run=True)\n",
    "\n",
    "for run in range(7781, 7794)+range(7795, 7825):  # no 7794 yet\n",
    "    clear_output()\n",
    "    print 'Run: '+str(run)+' of 7825'\n",
    "    temp_df = helper.root_to_pandas([run], prefix=prefix, tr_run=True)\n",
    "    fill_times = np.arange(interp_df.index.values[-1]+1, temp_df.index.values[0])\n",
    "    fill_df = pd.DataFrame(index=fill_times, columns=interp_df.columns)\n",
    "\n",
    "    for col in interp_df.columns:\n",
    "        fill_df[col] = np.interp(fill_times, np.append(interp_df.index.values, temp_df.index.values),\n",
    "                                 np.append(interp_df[col].values, temp_df[col].values))\n",
    "\n",
    "    interp_df = interp_df.append(fill_df)\n",
    "    interp_df = interp_df.append(temp_df)\n",
    "\n",
    "interp_df['tr_phi'] = 99.03\n",
    "\n",
    "interp_df.to_hdf('hdf5/superlong_1.h5', 'tr_df')"
   ]
  },
  {
   "cell_type": "code",
   "execution_count": null,
   "metadata": {},
   "outputs": [],
   "source": [
    "# %%time\n",
    "\n",
    "prefix = 'data2/newg2/DataProduction/Offline/ArtTFSDir/v9_32_00_dev/FieldPlainRootOutput_'\n",
    "interp_df = helper.root_to_pandas([8384], prefix=prefix, tr_run=True)\n",
    "\n",
    "# for run in range(8385, 8424):\n",
    "for run in range(8385, 8387):\n",
    "    clear_output()\n",
    "    print 'Run: '+str(run)+' of 8423'\n",
    "    temp_df = helper.root_to_pandas([run], prefix=prefix, tr_run=True)\n",
    "    fill_times = np.arange(interp_df.index.values[-1]+1, temp_df.index.values[0])\n",
    "    fill_df = pd.DataFrame(index=fill_times, columns=interp_df.columns)\n",
    "\n",
    "    for col in interp_df.columns:\n",
    "        fill_df[col] = np.interp(fill_times, np.append(interp_df.index.values, temp_df.index.values),\n",
    "                                 np.append(interp_df[col].values, temp_df[col].values))\n",
    "\n",
    "    interp_df = interp_df.append(fill_df)\n",
    "    interp_df = interp_df.append(temp_df)\n",
    "\n",
    "interp_df['tr_phi'] = 14.063\n",
    "\n",
    "# interp_df.to_hdf('hdf5/superlong_2.h5', 'tr_df')"
   ]
  },
  {
   "cell_type": "code",
   "execution_count": 2,
   "metadata": {},
   "outputs": [
    {
     "name": "stdout",
     "output_type": "stream",
     "text": [
      "Reading event 5510/5514 99.93%      \n",
      "loop done: 100%                                    \n",
      "Reading event 1660/1661 99.94%   \n",
      "loop done: 100%                                    \n",
      "Reading event 5510/5514 99.93%   \n",
      "loop done: 100%                                    \n",
      "Reading event 1660/1661 99.94%    \n",
      "loop done: 100%                                    \n"
     ]
    }
   ],
   "source": [
    "# %%time\n",
    "\n",
    "prefix = 'data2/newg2/DataProduction/Offline/ArtTFSDir/v9_21_04_dev/FieldPlainRootOutput_'\n",
    "interp_df = helper.root_to_pandas([5440], prefix=prefix, tr_run=True)\n",
    "\n",
    "interp_df['tr_phi'] = np.nan\n",
    "\n",
    "interp_df.to_hdf('hdf5/calibration_region.h5', 'tr_df')"
   ]
  },
  {
   "cell_type": "code",
   "execution_count": null,
   "metadata": {},
   "outputs": [],
   "source": []
  }
 ],
 "metadata": {
  "kernelspec": {
   "display_name": "Python 2",
   "language": "python",
   "name": "python2"
  },
  "language_info": {
   "codemirror_mode": {
    "name": "ipython",
    "version": 2
   },
   "file_extension": ".py",
   "mimetype": "text/x-python",
   "name": "python",
   "nbconvert_exporter": "python",
   "pygments_lexer": "ipython2",
   "version": "2.7.14"
  }
 },
 "nbformat": 4,
 "nbformat_minor": 2
}
