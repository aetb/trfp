{
 "cells": [
  {
   "cell_type": "code",
   "execution_count": null,
   "metadata": {},
   "outputs": [],
   "source": [
    "import trfp\n",
    "from IPython.display import clear_output"
   ]
  },
  {
   "cell_type": "code",
   "execution_count": null,
   "metadata": {},
   "outputs": [],
   "source": [
    "%%time\n",
    "# First trolley run of 60 hour challenge (runs 3955--3958)\n",
    "file_name = \"60hr_trolley_runs_1.h5\"\n",
    "for run in range(3955,3959):\n",
    "    \n",
    "    clear_output()\n",
    "    print \"Saving run \" + str(run) + '.'\n",
    "\n",
    "    trolley_run = trfp.Run(run)\n",
    "    trolley_run.save_h5(file_name)"
   ]
  },
  {
   "cell_type": "code",
   "execution_count": null,
   "metadata": {},
   "outputs": [],
   "source": [
    "%%time\n",
    "# Second trolley run of 60 hour challenge (runs 3995--3998)\n",
    "file_name = \"60hr_trolley_runs_2.h5\"\n",
    "for run in range(3995,3999):\n",
    "    clear_output()\n",
    "    print \"Saving run \" + str(run) + '.'\n",
    "\n",
    "    trolley_run = trfp.Run(run)\n",
    "    trolley_run.save_h5(file_name)"
   ]
  },
  {
   "cell_type": "code",
   "execution_count": null,
   "metadata": {},
   "outputs": [],
   "source": [
    "%%time\n",
    "# Fixed probe run of 60 hour challenge (runs 3959--3994)\n",
    "file_name = \"60hr_fixed_probe_runs.h5\"\n",
    "for run in range(3959,3995):\n",
    "    clear_output()\n",
    "    print \"Saving run \" + str(run) + '.'\n",
    "\n",
    "    trolley_run = trfp.Run(run)\n",
    "    trolley_run.save_h5(file_name)"
   ]
  },
  {
   "cell_type": "code",
   "execution_count": null,
   "metadata": {},
   "outputs": [],
   "source": []
  }
 ],
 "metadata": {
  "kernelspec": {
   "display_name": "Python 2",
   "language": "python",
   "name": "python2"
  },
  "language_info": {
   "codemirror_mode": {
    "name": "ipython",
    "version": 2
   },
   "file_extension": ".py",
   "mimetype": "text/x-python",
   "name": "python",
   "nbconvert_exporter": "python",
   "pygments_lexer": "ipython2",
   "version": "2.7.14"
  }
 },
 "nbformat": 4,
 "nbformat_minor": 2
}
