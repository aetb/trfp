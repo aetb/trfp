{
 "cells": [
  {
   "cell_type": "code",
   "execution_count": 1,
   "metadata": {},
   "outputs": [
    {
     "name": "stdout",
     "output_type": "stream",
     "text": [
      "Welcome to JupyROOT 6.12/04\n"
     ]
    }
   ],
   "source": [
    "import trfp\n",
    "from IPython.display import clear_output"
   ]
  },
  {
   "cell_type": "code",
   "execution_count": 3,
   "metadata": {},
   "outputs": [
    {
     "name": "stdout",
     "output_type": "stream",
     "text": [
      "Saving run 3958.\n",
      "Trolley run.\n",
      "Reading event 1090/1095 99.54% \n",
      "loop done: 100%                                    \n",
      "Reading event 320/329 97.26% \n",
      "loop done: 100%                                    \n",
      "Interpolating trolley position.\n",
      "Interpolating trolley frequencies.\n",
      "Interpolating fixed probe frequencies.\n",
      "Finished calculating all moments for 539 events.\n",
      "Saving run 3958.\n",
      "CPU times: user 12.5 s, sys: 7.39 s, total: 19.8 s\n",
      "Wall time: 32 s\n"
     ]
    }
   ],
   "source": [
    "%%time\n",
    "# First trolley run of 60 hour challenge (runs 3955--3958)\n",
    "file_name = \"60hr_trolley_runs_1.h5\"\n",
    "for run in range(3955,3959):\n",
    "    \n",
    "    clear_output()\n",
    "    print \"Saving run \" + str(run) + '.'\n",
    "\n",
    "    trolley_run = trfp.Run(run)\n",
    "    trolley_run.save_h5(file_name)"
   ]
  },
  {
   "cell_type": "code",
   "execution_count": 4,
   "metadata": {},
   "outputs": [
    {
     "name": "stdout",
     "output_type": "stream",
     "text": [
      "Saving run 3998.\n",
      "Trolley run.\n",
      "Reading event 5720/5723 99.95%  \n",
      "loop done: 100%                                    \n",
      "Reading event 1710/1717 99.59% \n",
      "loop done: 100%                                    \n",
      "Interpolating trolley position.\n",
      "Interpolating trolley frequencies.\n",
      "Interpolating fixed probe frequencies.\n",
      "Finished calculating all moments for 2853 events.\n",
      "Saving run 3998.\n",
      "CPU times: user 12.6 s, sys: 8.01 s, total: 20.6 s\n",
      "Wall time: 29.9 s\n"
     ]
    }
   ],
   "source": [
    "%%time\n",
    "# Second trolley run of 60 hour challenge (runs 3995--3998)\n",
    "file_name = \"60hr_trolley_runs_2.h5\"\n",
    "for run in range(3995,3999):\n",
    "    clear_output()\n",
    "    print \"Saving run \" + str(run) + '.'\n",
    "\n",
    "    trolley_run = trfp.Run(run)\n",
    "    trolley_run.save_h5(file_name)"
   ]
  },
  {
   "cell_type": "code",
   "execution_count": 2,
   "metadata": {},
   "outputs": [
    {
     "name": "stdout",
     "output_type": "stream",
     "text": [
      "Saving run 3994.\n",
      "Fixed probe run.\n",
      "Reading event 1090/1093 99.73% \n",
      "loop done: 100%                                    \n",
      "Interpolating fixed probe frequencies.\n",
      "Finished calculating all moments for 1819 events.\n",
      "Saving run 3994.\n",
      "CPU times: user 4min 19s, sys: 2min 22s, total: 6min 42s\n",
      "Wall time: 4min 43s\n"
     ]
    }
   ],
   "source": [
    "%%time\n",
    "# Fixed probe run of 60 hour challenge (runs 3959--3994)\n",
    "file_name = \"60hr_fixed_probe_runs.h5\"\n",
    "for run in range(3959,3995):\n",
    "    clear_output()\n",
    "    print \"Saving run \" + str(run) + '.'\n",
    "\n",
    "    trolley_run = trfp.Run(run)\n",
    "    trolley_run.save_h5(file_name)"
   ]
  },
  {
   "cell_type": "code",
   "execution_count": null,
   "metadata": {},
   "outputs": [],
   "source": []
  }
 ],
 "metadata": {
  "kernelspec": {
   "display_name": "Python 2",
   "language": "python",
   "name": "python2"
  },
  "language_info": {
   "codemirror_mode": {
    "name": "ipython",
    "version": 2
   },
   "file_extension": ".py",
   "mimetype": "text/x-python",
   "name": "python",
   "nbconvert_exporter": "python",
   "pygments_lexer": "ipython2",
   "version": "2.7.14"
  }
 },
 "nbformat": 4,
 "nbformat_minor": 2
}
