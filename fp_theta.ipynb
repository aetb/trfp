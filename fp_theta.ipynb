{
 "cells": [
  {
   "cell_type": "code",
   "execution_count": null,
   "metadata": {},
   "outputs": [],
   "source": [
    "%load_ext autoreload\n",
    "%autoreload 2\n",
    "\n",
    "%matplotlib inline\n",
    "import matplotlib\n",
    "import matplotlib.pyplot as plt\n",
    "import seaborn as sns\n",
    "\n",
    "import numpy as np\n",
    "import pandas as pd\n",
    "\n",
    "from scipy.optimize import curve_fit\n",
    "\n",
    "import gm2\n",
    "import trfp\n",
    "import plotting_functions as plt2\n",
    "import analysis_helper as helper\n",
    "import helper_function_candidates as helper_old"
   ]
  },
  {
   "cell_type": "code",
   "execution_count": null,
   "metadata": {},
   "outputs": [],
   "source": [
    "def __fp_moment(order, strength, x_pos, y_pos):\n",
    "    \"\"\"Returns the magnitude of a B-field given fp moment parameters\n",
    "    and position.\n",
    "    \"\"\"\n",
    "    \n",
    "    if order == 0: return strength * x_pos ** 0\n",
    "    elif order == 1: return strength * x_pos / 4.5 \n",
    "    elif order == 2: return strength * y_pos / 4.5\n",
    "    elif order == 3: return strength * x_pos * y_pos / 4.5**2\n",
    "    elif order == 4: return strength * x_pos ** 2 / 4.5**2\n",
    "    elif order == 5: return 0.5 * strength * x_pos ** 2 * y_pos / 4.5**3\n",
    "    \n",
    "def __multipole(order, skew, strength, x_pos, y_pos):\n",
    "    \"\"\"Returns the magnitude of a B-field given multipole parameters\n",
    "    and position.\n",
    "    \"\"\"\n",
    "    # Takes a multipole strength A normalized to 4.5 cm\n",
    "    r_pos = np.sqrt(x_pos**2 + y_pos**2)\n",
    "    theta = np.arctan2(y_pos, x_pos)\n",
    "    if skew == 0:\n",
    "        b_magnitude = strength * (r_pos/4.5)**order * np.cos(order*theta)\n",
    "    if skew == 1:\n",
    "        b_magnitude = strength * (r_pos/4.5)**order * np.sin(order*theta)\n",
    "    return b_magnitude\n",
    "\n",
    "FP6_X = np.array([-3, 0, 3, -3, 0, 3])\n",
    "FP6_Y = np.array([7.7, 7.7, 7.7, -7.7, -7.7, -7.7])\n",
    "\n",
    "_MOMENT_ORDER = [0, 1, 2, 3, 4, 5]\n",
    "\n",
    "_MULTIPOLE_ORDER = [0, 1, 1, 2, 2]\n",
    "_MULTIPOLE_SKEW = [0, 0, 1, 1, 0]\n",
    "\n",
    "_MOMENTS = np.array([__multipole(_MULTIPOLE_ORDER[i], _MULTIPOLE_SKEW[i], 1, FP6_X, FP6_Y) for i in range(5)])\n",
    "_MOMENTS[np.abs(_MOMENTS) < 1.0e-9] = 0 \n",
    "\n",
    "THETA_FP6 = np.linalg.pinv(np.transpose(_MOMENTS))\n",
    "THETA_FP6[np.abs(THETA_FP6) < 1.0e-9] = 0"
   ]
  },
  {
   "cell_type": "code",
   "execution_count": null,
   "metadata": {
    "scrolled": true
   },
   "outputs": [],
   "source": [
    "print THETA_FP6"
   ]
  },
  {
   "cell_type": "code",
   "execution_count": null,
   "metadata": {},
   "outputs": [],
   "source": [
    "print np.dot(trfp.J_6_PROBE, trfp.THETA_FP_6[:5])"
   ]
  },
  {
   "cell_type": "code",
   "execution_count": null,
   "metadata": {},
   "outputs": [],
   "source": [
    "print np.dot(THETA_FP6, np.transpose(_MOMENTS))"
   ]
  },
  {
   "cell_type": "code",
   "execution_count": null,
   "metadata": {},
   "outputs": [],
   "source": [
    "print np.dot(theta_test, np.transpose(theta_test))"
   ]
  },
  {
   "cell_type": "code",
   "execution_count": null,
   "metadata": {},
   "outputs": [],
   "source": []
  }
 ],
 "metadata": {
  "kernelspec": {
   "display_name": "Python 2",
   "language": "python",
   "name": "python2"
  },
  "language_info": {
   "codemirror_mode": {
    "name": "ipython",
    "version": 2
   },
   "file_extension": ".py",
   "mimetype": "text/x-python",
   "name": "python",
   "nbconvert_exporter": "python",
   "pygments_lexer": "ipython2",
   "version": "2.7.5"
  }
 },
 "nbformat": 4,
 "nbformat_minor": 2
}
