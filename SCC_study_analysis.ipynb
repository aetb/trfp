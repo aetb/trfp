{
 "cells": [
  {
   "cell_type": "code",
   "execution_count": null,
   "metadata": {},
   "outputs": [],
   "source": [
    "import matplotlib\n",
    "import matplotlib.pyplot as plt\n",
    "%matplotlib inline\n",
    "\n",
    "import seaborn as sns\n",
    "\n",
    "import numpy as np\n",
    "import pandas as pd\n",
    "import scipy.optimize\n",
    "\n",
    "from datetime import datetime\n",
    "import pytz\n",
    "\n",
    "import trfp\n",
    "import gm2\n",
    "\n",
    "central_time = pytz.timezone('US/Central')\n",
    "\n",
    "matplotlib.rc('xtick', labelsize=10)     \n",
    "matplotlib.rc('ytick', labelsize=10)\n",
    "matplotlib.rc('axes', titlesize=16)\n",
    "matplotlib.rc('axes', labelsize=12)\n",
    "\n",
    "# sns.set(style=\"darkgrid\")\n",
    "# sns.set(rc={'figure.figsize':(7,4.33)})"
   ]
  },
  {
   "cell_type": "code",
   "execution_count": null,
   "metadata": {},
   "outputs": [],
   "source": [
    "tr6271 = trfp.TrolleyRun(6271)\n",
    "fp6271 = trfp.FixedProbeRun(6271)"
   ]
  },
  {
   "cell_type": "code",
   "execution_count": null,
   "metadata": {},
   "outputs": [],
   "source": [
    "print fp6271.moment_df.shape\n",
    "print tr6271.moment_df.shape"
   ]
  },
  {
   "cell_type": "code",
   "execution_count": null,
   "metadata": {},
   "outputs": [],
   "source": [
    "x_moment = 'st30,m1'\n",
    "y_moment = 'st66,m1'\n",
    "\n",
    "fig1 = fp6271.moment_time_plot(x_moment)\n",
    "fig1.show()\n",
    "\n",
    "fig2 = fp6271.moment_time_plot(y_moment)\n",
    "fig2.show()"
   ]
  },
  {
   "cell_type": "code",
   "execution_count": null,
   "metadata": {},
   "outputs": [],
   "source": [
    "fig3 = tr6271.moment_correlation_plot(x_moment=x_moment, y_moment=y_moment)\n",
    "fig3.show()\n",
    "\n",
    "slope, intercept, r_value, p_value, std_err = scipy.stats.linregress(tr6271.moment_df[x_moment],\n",
    "                                                                     tr6271.moment_df[y_moment])\n",
    "print slope"
   ]
  },
  {
   "cell_type": "code",
   "execution_count": null,
   "metadata": {},
   "outputs": [],
   "source": []
  }
 ],
 "metadata": {
  "kernelspec": {
   "display_name": "Python 2",
   "language": "python",
   "name": "python2"
  },
  "language_info": {
   "codemirror_mode": {
    "name": "ipython",
    "version": 2
   },
   "file_extension": ".py",
   "mimetype": "text/x-python",
   "name": "python",
   "nbconvert_exporter": "python",
   "pygments_lexer": "ipython2",
   "version": "2.7.14"
  }
 },
 "nbformat": 4,
 "nbformat_minor": 2
}
