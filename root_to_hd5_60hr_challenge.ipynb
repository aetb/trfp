{
 "cells": [
  {
   "cell_type": "code",
   "execution_count": 1,
   "metadata": {},
   "outputs": [
    {
     "name": "stdout",
     "output_type": "stream",
     "text": [
      "Welcome to JupyROOT 6.12/04\n"
     ]
    }
   ],
   "source": [
    "import matplotlib\n",
    "import matplotlib.pyplot as plt\n",
    "import seaborn as sns\n",
    "%matplotlib inline\n",
    "\n",
    "import numpy as np\n",
    "import pandas as pd\n",
    "import scipy.optimize\n",
    "\n",
    "from datetime import datetime\n",
    "import pytz\n",
    "\n",
    "import trfp\n",
    "\n",
    "central_time = pytz.timezone('US/Central')\n",
    "\n",
    "matplotlib.rc('xtick', labelsize=10)     \n",
    "matplotlib.rc('ytick', labelsize=10)\n",
    "matplotlib.rc('axes', titlesize=16)\n",
    "matplotlib.rc('axes', labelsize=12)\n",
    "plt.rcParams[\"font.family\"] = \"serif\"\n",
    "\n",
    "from IPython.display import clear_output"
   ]
  },
  {
   "cell_type": "code",
   "execution_count": 2,
   "metadata": {},
   "outputs": [
    {
     "name": "stdout",
     "output_type": "stream",
     "text": [
      "Saving run 3958.\n",
      "Reading event 1090/1095 99.54% \n",
      "loop done: 100%                                    \n",
      "Reading event 320/329 97.26% \n",
      "loop done: 100%                                    \n",
      "Finished calculating all moments for 544 events.                                    \n",
      "Finished removing trolley images from 544 events.                                           \n"
     ]
    }
   ],
   "source": [
    "# First trolley run of 60 hour challenge (runs 3955--3958)\n",
    "file_name = \"60hr_trolley_runs_1.h5\"\n",
    "for run in np.arange(3955,3959):\n",
    "    interp_key = \"run_\" + str(run) + \"_interp_df\"\n",
    "    moment_key = \"run_\" + str(run) + \"_moment_df\"\n",
    "    corrected_key = \"run_\" + str(run) + \"_corrected_df\"\n",
    "    \n",
    "    clear_output()\n",
    "    print \"Saving run \" + str(run) + '.'\n",
    "\n",
    "    trolley_run = trfp.TrolleyRun(run)\n",
    "    corrected_df = trfp.remove_trolley_effect(trolley_run)\n",
    "    \n",
    "    trolley_run.interp_df.to_hdf(file_name, key=interp_key)\n",
    "    trolley_run.moment_df.to_hdf(file_name, key=moment_key)\n",
    "    corrected_df.to_hdf(file_name, key=corrected_key)"
   ]
  },
  {
   "cell_type": "code",
   "execution_count": 3,
   "metadata": {},
   "outputs": [
    {
     "name": "stdout",
     "output_type": "stream",
     "text": [
      "Saving run 3998.\n",
      "Reading event 5720/5723 99.95% \n",
      "loop done: 100%                                    \n",
      "Reading event 1710/1717 99.59% \n",
      "loop done: 100%                                    \n",
      "Finished calculating all moments for 2857 events.                                                     \n",
      "Finished removing trolley images from 2857 events.             \n"
     ]
    }
   ],
   "source": [
    "# Second trolley run of 60 hour challenge (runs 3995--3998)\n",
    "file_name = \"60hr_trolley_runs_2.h5\"\n",
    "for run in np.arange(3995,3999):\n",
    "    interp_key = \"run_\" + str(run) + \"_interp_df\"\n",
    "    moment_key = \"run_\" + str(run) + \"_moment_df\"\n",
    "    corrected_key = \"run_\" + str(run) + \"_corrected_df\"\n",
    "    \n",
    "    clear_output()\n",
    "    print \"Saving run \" + str(run) + '.'\n",
    "\n",
    "    trolley_run = trfp.TrolleyRun(run)\n",
    "    corrected_df = trfp.remove_trolley_effect(trolley_run)\n",
    "    \n",
    "    trolley_run.interp_df.to_hdf(file_name, key=interp_key)\n",
    "    trolley_run.moment_df.to_hdf(file_name, key=moment_key)\n",
    "    corrected_df.to_hdf(file_name, key=corrected_key)"
   ]
  },
  {
   "cell_type": "code",
   "execution_count": 4,
   "metadata": {},
   "outputs": [
    {
     "name": "stdout",
     "output_type": "stream",
     "text": [
      "Saving run 36 of 36.\n",
      "Reading event 1090/1093 99.73% \n",
      "loop done: 100%                                    \n",
      "Finished calculating all moments for 910 events.       \n"
     ]
    }
   ],
   "source": [
    "# Fixed probe run of 60 hour challenge (runs 3959--3994)\n",
    "file_name = \"60hr_fixed_probe_runs.h5\"\n",
    "for run in np.arange(3959,3995):\n",
    "    \n",
    "    interp_key = \"run_\" + str(run) + \"_interp_df\"\n",
    "    moment_key = \"run_\" + str(run) + \"_moment_df\"\n",
    "    \n",
    "    clear_output()\n",
    "    print \"Saving run \" + str(run-3958) + \" of 36.\"\n",
    "    fixed_probe_run = trfp.FixedProbeRun(run)\n",
    "    \n",
    "    fixed_probe_run.interp_df.to_hdf(file_name, key=interp_key)\n",
    "    fixed_probe_run.moment_df.to_hdf(file_name, key=moment_key)"
   ]
  },
  {
   "cell_type": "code",
   "execution_count": null,
   "metadata": {},
   "outputs": [],
   "source": []
  }
 ],
 "metadata": {
  "kernelspec": {
   "display_name": "Python 2",
   "language": "python",
   "name": "python2"
  },
  "language_info": {
   "codemirror_mode": {
    "name": "ipython",
    "version": 2
   },
   "file_extension": ".py",
   "mimetype": "text/x-python",
   "name": "python",
   "nbconvert_exporter": "python",
   "pygments_lexer": "ipython2",
   "version": "2.7.14"
  }
 },
 "nbformat": 4,
 "nbformat_minor": 2
}
