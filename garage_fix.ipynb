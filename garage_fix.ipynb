{
 "cells": [
  {
   "cell_type": "code",
   "execution_count": 1,
   "metadata": {},
   "outputs": [
    {
     "name": "stdout",
     "output_type": "stream",
     "text": [
      "Welcome to JupyROOT 6.12/04\n"
     ]
    }
   ],
   "source": [
    "import matplotlib\n",
    "import matplotlib.pyplot as plt\n",
    "import seaborn as sns\n",
    "%matplotlib inline\n",
    "\n",
    "import numpy as np\n",
    "import pandas as pd\n",
    "import scipy.optimize\n",
    "\n",
    "from datetime import datetime\n",
    "import pytz\n",
    "\n",
    "import gm2\n",
    "import trfp"
   ]
  },
  {
   "cell_type": "code",
   "execution_count": 2,
   "metadata": {},
   "outputs": [
    {
     "name": "stdout",
     "output_type": "stream",
     "text": [
      "Reading event 4360/4370 99.77%       \n",
      "loop done: 100%                                    \n",
      "Finished calculating all moments for 3640 events.                                                     \n"
     ]
    }
   ],
   "source": [
    "fp_df = trfp.FixedProbeRun(3960)"
   ]
  },
  {
   "cell_type": "code",
   "execution_count": 3,
   "metadata": {},
   "outputs": [
    {
     "data": {
      "text/html": [
       "<div>\n",
       "<style scoped>\n",
       "    .dataframe tbody tr th:only-of-type {\n",
       "        vertical-align: middle;\n",
       "    }\n",
       "\n",
       "    .dataframe tbody tr th {\n",
       "        vertical-align: top;\n",
       "    }\n",
       "\n",
       "    .dataframe thead th {\n",
       "        text-align: right;\n",
       "    }\n",
       "</style>\n",
       "<table border=\"1\" class=\"dataframe\">\n",
       "  <thead>\n",
       "    <tr style=\"text-align: right;\">\n",
       "      <th></th>\n",
       "      <th>st33,m2</th>\n",
       "      <th>st34,m2</th>\n",
       "      <th>st35,m2</th>\n",
       "      <th>st36,m2</th>\n",
       "      <th>st37,m2</th>\n",
       "      <th>st38,m2</th>\n",
       "      <th>st39,m2</th>\n",
       "      <th>st40,m2</th>\n",
       "      <th>st41,m2</th>\n",
       "      <th>st42,m2</th>\n",
       "      <th>st43,m2</th>\n",
       "    </tr>\n",
       "  </thead>\n",
       "  <tbody>\n",
       "    <tr>\n",
       "      <th>1.524391e+09</th>\n",
       "      <td>2304.985942</td>\n",
       "      <td>-4072.159046</td>\n",
       "      <td>-2064.801578</td>\n",
       "      <td>106.187461</td>\n",
       "      <td>-1966.815276</td>\n",
       "      <td>1522.440469</td>\n",
       "      <td>80.124333</td>\n",
       "      <td>-1540.219402</td>\n",
       "      <td>-1000.814800</td>\n",
       "      <td>-563.918853</td>\n",
       "      <td>-657.731864</td>\n",
       "    </tr>\n",
       "    <tr>\n",
       "      <th>1.524391e+09</th>\n",
       "      <td>2307.308450</td>\n",
       "      <td>-4074.170254</td>\n",
       "      <td>-2068.194659</td>\n",
       "      <td>104.798108</td>\n",
       "      <td>-1965.573834</td>\n",
       "      <td>1522.800315</td>\n",
       "      <td>60.229795</td>\n",
       "      <td>-1541.329591</td>\n",
       "      <td>-1002.692337</td>\n",
       "      <td>-564.502341</td>\n",
       "      <td>-659.072522</td>\n",
       "    </tr>\n",
       "    <tr>\n",
       "      <th>1.524391e+09</th>\n",
       "      <td>2307.087579</td>\n",
       "      <td>-4074.256304</td>\n",
       "      <td>-2065.518936</td>\n",
       "      <td>105.750167</td>\n",
       "      <td>-1971.470694</td>\n",
       "      <td>1523.693706</td>\n",
       "      <td>74.613352</td>\n",
       "      <td>-1540.578841</td>\n",
       "      <td>-996.579639</td>\n",
       "      <td>-565.481328</td>\n",
       "      <td>-652.332836</td>\n",
       "    </tr>\n",
       "    <tr>\n",
       "      <th>1.524391e+09</th>\n",
       "      <td>2305.562235</td>\n",
       "      <td>-4072.932211</td>\n",
       "      <td>-2062.712450</td>\n",
       "      <td>106.442638</td>\n",
       "      <td>-1969.842880</td>\n",
       "      <td>1521.076526</td>\n",
       "      <td>78.601615</td>\n",
       "      <td>-1542.347263</td>\n",
       "      <td>-995.221624</td>\n",
       "      <td>-565.271407</td>\n",
       "      <td>-646.063495</td>\n",
       "    </tr>\n",
       "    <tr>\n",
       "      <th>1.524391e+09</th>\n",
       "      <td>2306.410030</td>\n",
       "      <td>-4072.365300</td>\n",
       "      <td>-2068.269565</td>\n",
       "      <td>105.941213</td>\n",
       "      <td>-1966.873208</td>\n",
       "      <td>1519.963146</td>\n",
       "      <td>79.342538</td>\n",
       "      <td>-1542.485996</td>\n",
       "      <td>-999.022177</td>\n",
       "      <td>-564.892105</td>\n",
       "      <td>-648.802710</td>\n",
       "    </tr>\n",
       "  </tbody>\n",
       "</table>\n",
       "</div>"
      ],
      "text/plain": [
       "                  st33,m2      st34,m2      st35,m2     st36,m2      st37,m2  \\\n",
       "1.524391e+09  2304.985942 -4072.159046 -2064.801578  106.187461 -1966.815276   \n",
       "1.524391e+09  2307.308450 -4074.170254 -2068.194659  104.798108 -1965.573834   \n",
       "1.524391e+09  2307.087579 -4074.256304 -2065.518936  105.750167 -1971.470694   \n",
       "1.524391e+09  2305.562235 -4072.932211 -2062.712450  106.442638 -1969.842880   \n",
       "1.524391e+09  2306.410030 -4072.365300 -2068.269565  105.941213 -1966.873208   \n",
       "\n",
       "                  st38,m2    st39,m2      st40,m2      st41,m2     st42,m2  \\\n",
       "1.524391e+09  1522.440469  80.124333 -1540.219402 -1000.814800 -563.918853   \n",
       "1.524391e+09  1522.800315  60.229795 -1541.329591 -1002.692337 -564.502341   \n",
       "1.524391e+09  1523.693706  74.613352 -1540.578841  -996.579639 -565.481328   \n",
       "1.524391e+09  1521.076526  78.601615 -1542.347263  -995.221624 -565.271407   \n",
       "1.524391e+09  1519.963146  79.342538 -1542.485996  -999.022177 -564.892105   \n",
       "\n",
       "                 st43,m2  \n",
       "1.524391e+09 -657.731864  \n",
       "1.524391e+09 -659.072522  \n",
       "1.524391e+09 -652.332836  \n",
       "1.524391e+09 -646.063495  \n",
       "1.524391e+09 -648.802710  "
      ]
     },
     "execution_count": 3,
     "metadata": {},
     "output_type": "execute_result"
    }
   ],
   "source": [
    "stm_list = ['st'+str(st)+',m2' for st in np.arange(11)+33]\n",
    "fp_df.moment_df.head()[stm_list]"
   ]
  },
  {
   "cell_type": "code",
   "execution_count": 4,
   "metadata": {},
   "outputs": [],
   "source": [
    "corrected_df_1 = pd.read_hdf('60hr_trolley_runs_1.h5', key='run_3956_corrected_df')\n",
    "tr_baseline_1, fp_baseline_1, baseline_time_1, summed_azimuth_1, _ = trfp.trolley_run_station_average(corrected_df_1)"
   ]
  },
  {
   "cell_type": "code",
   "execution_count": 6,
   "metadata": {},
   "outputs": [
    {
     "name": "stdout",
     "output_type": "stream",
     "text": [
      "[-2126.60461964  -661.1961334   -987.9403624 ]\n"
     ]
    }
   ],
   "source": [
    "print fp_baseline_1[[37,39,41],2]"
   ]
  },
  {
   "cell_type": "code",
   "execution_count": null,
   "metadata": {},
   "outputs": [],
   "source": []
  }
 ],
 "metadata": {
  "kernelspec": {
   "display_name": "Python 2",
   "language": "python",
   "name": "python2"
  },
  "language_info": {
   "codemirror_mode": {
    "name": "ipython",
    "version": 2
   },
   "file_extension": ".py",
   "mimetype": "text/x-python",
   "name": "python",
   "nbconvert_exporter": "python",
   "pygments_lexer": "ipython2",
   "version": "2.7.14"
  }
 },
 "nbformat": 4,
 "nbformat_minor": 2
}
