{
 "cells": [
  {
   "cell_type": "code",
   "execution_count": 1,
   "metadata": {},
   "outputs": [
    {
     "name": "stdout",
     "output_type": "stream",
     "text": [
      "Welcome to JupyROOT 6.12/04\n"
     ]
    }
   ],
   "source": [
    "%load_ext autoreload\n",
    "%autoreload 2\n",
    "\n",
    "%matplotlib inline\n",
    "import matplotlib\n",
    "import matplotlib.pyplot as plt\n",
    "import seaborn as sns\n",
    "\n",
    "import numpy as np\n",
    "import pandas as pd\n",
    "from scipy.optimize import curve_fit\n",
    "import scipy\n",
    "\n",
    "import gm2\n",
    "import trfp\n",
    "import plotting_functions as plt2\n",
    "import analysis_helper as helper\n",
    "import helper_function_candidates as helper_old\n"
   ]
  },
  {
   "cell_type": "code",
   "execution_count": 2,
   "metadata": {},
   "outputs": [],
   "source": [
    "def trolley_run_station_average_2(corrected_df):\n",
    "        \n",
    "    station_edges = trfp.STATION_BARCODE_EDGES\n",
    "    station_edges_6_probe = trfp.STATION_BARCODE_EDGES_6\n",
    "\n",
    "    # tr_phi is not monotonic, so sort by tr_phi\n",
    "\n",
    "    corrected_df = corrected_df.sort_values(by=['tr_phi'])\n",
    "\n",
    "    measured_phi = corrected_df['tr_phi'].values\n",
    "    measured_extent = (np.roll(measured_phi,-1)-np.roll(measured_phi,1))/2\n",
    "    measured_extent[0] = measured_extent[0]+180\n",
    "    measured_extent[-1] = measured_extent[-1]+180\n",
    "    # print np.max(measured_extent)\n",
    "\n",
    "    corrected_df['tr_extent'] = pd.Series(measured_extent, index=corrected_df.index)\n",
    "    corrected_df = corrected_df.sort_index()\n",
    "\n",
    "    # for a given station:\n",
    "    # create a mask for when trolley is in [low edge, high edge)\n",
    "    tr_baseline = np.full((72,17), np.nan)\n",
    "    fp_baseline = np.full((72,6), np.nan)\n",
    "    summed_azimuth = np.full((72,6), np.nan)\n",
    "    summed_pts = np.full((72,6), np.nan)\n",
    "    baseline_time = np.full((72,6), np.nan)\n",
    "\n",
    "    for st in range(72):\n",
    "        \n",
    "        num_probes = len(trfp.STATION_PROBE_ID[st])\n",
    "        # first do m1-4 for all stations\n",
    "        \n",
    "        if station_edges[st+1] > station_edges[st]:\n",
    "            mask = (corrected_df['tr_phi'] >= station_edges[st]) & (corrected_df['tr_phi'] < station_edges[st+1])\n",
    "        else:  # case where we go over the 360 deg line\n",
    "            mask = (corrected_df['tr_phi'] >= station_edges[st]) | (corrected_df['tr_phi'] < station_edges[st+1])\n",
    "\n",
    "        out_df = corrected_df[mask].copy()\n",
    "        summed_pts[st, :] = out_df.shape[0]\n",
    "        summed_azimuth[st, :] = sum(out_df['tr_extent'].values)\n",
    "        baseline_time[st, :] = sum(out_df.index.values)/summed_pts[st, 0]\n",
    "\n",
    "        for m in range(6):\n",
    "            st_id = 'tr,m'+str(m+1)\n",
    "            if sum(out_df['tr_extent'].values) != 0:\n",
    "                tr_baseline[st, m] = sum(out_df['tr_extent'].values*out_df[st_id].values)/sum(out_df['tr_extent'].values)\n",
    "\n",
    "            st_id = 'st'+str(st)+',m'+str(m+1)\n",
    "            if sum(out_df['tr_extent'].values) != 0:\n",
    "                fp_baseline[st, m] = np.mean(out_df[st_id])\n",
    "                \n",
    "        for m in range(6,17):\n",
    "            st_id = 'tr,m'+str(m+1)\n",
    "            if sum(out_df['tr_extent'].values) != 0:\n",
    "                tr_baseline[st, m] = sum(out_df['tr_extent'].values*out_df[st_id].values)/sum(out_df['tr_extent'].values)\n",
    "    \n",
    "    return tr_baseline, fp_baseline, baseline_time, summed_azimuth, summed_pts"
   ]
  },
  {
   "cell_type": "code",
   "execution_count": 9,
   "metadata": {},
   "outputs": [
    {
     "name": "stdout",
     "output_type": "stream",
     "text": [
      "Finished calculating all moments for 4386 events.\n",
      "Finished calculating all moments for 4363 events.\n",
      "Removing trolley image from station 71.                        \n"
     ]
    }
   ],
   "source": [
    "filename = 'hdf5/60hr.h5'\n",
    "\n",
    "tr_interp_df_1 = pd.read_hdf(filename, key='tr_df_1')\n",
    "tr_interp_df_2 = pd.read_hdf(filename, key='tr_df_2')\n",
    "\n",
    "tr_moment_df_1 = helper.calc_moment_df(tr_interp_df_1)\n",
    "tr_moment_df_2 = helper.calc_moment_df(tr_interp_df_2)\n",
    "\n",
    "tr_corr_df_1 = helper_old.trolley_footprint_replacement(tr_moment_df_1)\n",
    "tr_corr_df_2 = helper_old.trolley_footprint_replacement(tr_moment_df_2)\n",
    "\n",
    "tr_baseline_1, _, _, _, _ = trolley_run_station_average_2(tr_corr_df_1)\n",
    "tr_baseline_2, _, _, _, _ = trolley_run_station_average_2(tr_corr_df_2)\n",
    "\n",
    "sync_offsets_1, _ = helper.sync_offset_calc(tr_corr_df_1, tr_corr_df_2)\n",
    "\n",
    "delta_tr_60hr_1 = np.mean(tr_baseline_2 - tr_baseline_1, axis=0)\n",
    "so_60hr_1 = np.mean(sync_offsets_1,axis=0)\n"
   ]
  },
  {
   "cell_type": "code",
   "execution_count": 22,
   "metadata": {},
   "outputs": [
    {
     "name": "stdout",
     "output_type": "stream",
     "text": [
      "tr run 1\n",
      "Finished calculating all moments for 4344 events.\n",
      "tr run 2\n",
      "Finished calculating all moments for 4357 events.\n",
      "tr run 3\n",
      "Finished calculating all moments for 4359 events.\n",
      "tr run 4\n",
      "Finished calculating all moments for 4360 events.\n",
      "tr run 5\n",
      "Finished calculating all moments for 4702 events.\n",
      "tr run 6\n",
      "Finished calculating all moments for 4356 events.\n",
      "Removing trolley image from station 71.                                                                          \n"
     ]
    }
   ],
   "source": [
    "filename = 'hdf5/9day.h5'\n",
    "\n",
    "print 'tr run 1'\n",
    "tr_moment_df_1 = helper.calc_moment_df(pd.read_hdf(filename, 'tr_df_1'))\n",
    "print 'tr run 2'\n",
    "tr_moment_df_2 = helper.calc_moment_df(pd.read_hdf(filename, 'tr_df_2'))\n",
    "print 'tr run 3'\n",
    "tr_moment_df_3 = helper.calc_moment_df(pd.read_hdf(filename, 'tr_df_3'))\n",
    "print 'tr run 4'\n",
    "tr_moment_df_4 = helper.calc_moment_df(pd.read_hdf(filename, 'tr_df_4'))\n",
    "print 'tr run 5'\n",
    "tr_moment_df_5 = helper.calc_moment_df(pd.read_hdf(filename, 'tr_df_5'))\n",
    "print 'tr run 6'\n",
    "tr_moment_df_6 = helper.calc_moment_df(pd.read_hdf(filename, 'tr_df_6'))\n",
    "\n",
    "tr_corr_df_1 = helper_old.trolley_footprint_replacement(tr_moment_df_1)\n",
    "tr_corr_df_2 = helper_old.trolley_footprint_replacement(tr_moment_df_2)\n",
    "tr_corr_df_3 = helper_old.trolley_footprint_replacement(tr_moment_df_3)\n",
    "tr_corr_df_4 = helper_old.trolley_footprint_replacement(tr_moment_df_4)\n",
    "tr_corr_df_5 = helper_old.trolley_footprint_replacement(tr_moment_df_5)\n",
    "tr_corr_df_6 = helper_old.trolley_footprint_replacement(tr_moment_df_6)\n",
    "\n",
    "tr_baseline_1, _, _, _, _ = trolley_run_station_average_2(tr_corr_df_1)\n",
    "tr_baseline_2, _, _, _, _ = trolley_run_station_average_2(tr_corr_df_2)\n",
    "tr_baseline_3, _, _, _, _ = trolley_run_station_average_2(tr_corr_df_3)\n",
    "tr_baseline_4, _, _, _, _ = trolley_run_station_average_2(tr_corr_df_4)\n",
    "tr_baseline_5, _, _, _, _ = trolley_run_station_average_2(tr_corr_df_5)\n",
    "tr_baseline_6, _, _, _, _ = trolley_run_station_average_2(tr_corr_df_6)\n",
    "\n",
    "delta_tr_9day_1 = np.mean(tr_baseline_2 - tr_baseline_1, axis=0)\n",
    "delta_tr_9day_2 = np.mean(tr_baseline_4 - tr_baseline_3, axis=0)\n",
    "delta_tr_9day_3 = np.mean(tr_baseline_5 - tr_baseline_4, axis=0)\n",
    "delta_tr_9day_4 = np.mean(tr_baseline_6 - tr_baseline_5, axis=0)\n",
    "\n",
    "sync_offsets_1, _ = helper.sync_offset_calc(tr_corr_df_1, tr_corr_df_2)\n",
    "sync_offsets_2, _ = helper.sync_offset_calc(tr_corr_df_3, tr_corr_df_4)\n",
    "sync_offsets_3, _ = helper.sync_offset_calc(tr_corr_df_4, tr_corr_df_5)\n",
    "sync_offsets_4, _ = helper.sync_offset_calc(tr_corr_df_5, tr_corr_df_6)\n",
    "\n",
    "so_9day_1 = np.mean(sync_offsets_1, axis=0)\n",
    "so_9day_2 = np.mean(sync_offsets_2, axis=0)\n",
    "so_9day_3 = np.mean(sync_offsets_3, axis=0)\n",
    "so_9day_4 = np.mean(sync_offsets_4, axis=0)\n"
   ]
  },
  {
   "cell_type": "code",
   "execution_count": 11,
   "metadata": {},
   "outputs": [
    {
     "name": "stdout",
     "output_type": "stream",
     "text": [
      " tr run 2\n",
      "Finished calculating all moments for 4914 events.\n",
      "tr run 3\n",
      "Finished calculating all moments for 4141 events.\n",
      "tr run 4\n",
      "Finished calculating all moments for 4350 events.\n",
      "tr run 5\n",
      "Finished calculating all moments for 4371 events.\n",
      "tr run 6\n",
      "Finished calculating all moments for 4345 events.\n",
      "tr run 7\n",
      "Finished calculating all moments for 4350 events.\n",
      "tr run 8\n",
      "Finished calculating all moments for 4394 events.\n",
      "Removing trolley image from station 71.                                                                                          \n"
     ]
    }
   ],
   "source": [
    "filename = 'hdf5/endgame.h5'\n",
    "\n",
    "print 'tr run 2'\n",
    "tr_moment_df_2 = helper.calc_moment_df(pd.read_hdf(filename, 'tr_df_2'))\n",
    "print 'tr run 3'\n",
    "tr_moment_df_3 = helper.calc_moment_df(pd.read_hdf(filename, 'tr_df_3'))\n",
    "print 'tr run 4'\n",
    "tr_moment_df_4 = helper.calc_moment_df(pd.read_hdf(filename, 'tr_df_4'))\n",
    "print 'tr run 5'\n",
    "tr_moment_df_5 = helper.calc_moment_df(pd.read_hdf(filename, 'tr_df_5'))\n",
    "print 'tr run 6'\n",
    "tr_moment_df_6 = helper.calc_moment_df(pd.read_hdf(filename, 'tr_df_6'))\n",
    "print 'tr run 7'\n",
    "tr_moment_df_7 = helper.calc_moment_df(pd.read_hdf(filename, 'tr_df_7'))\n",
    "print 'tr run 8'\n",
    "tr_moment_df_8 = helper.calc_moment_df(pd.read_hdf(filename, 'tr_df_8'))\n",
    "\n",
    "tr_corr_df_2 = helper_old.trolley_footprint_replacement(tr_moment_df_2)\n",
    "tr_corr_df_3 = helper_old.trolley_footprint_replacement(tr_moment_df_3)\n",
    "tr_corr_df_4 = helper_old.trolley_footprint_replacement(tr_moment_df_4)\n",
    "tr_corr_df_5 = helper_old.trolley_footprint_replacement(tr_moment_df_5)\n",
    "tr_corr_df_6 = helper_old.trolley_footprint_replacement(tr_moment_df_6)\n",
    "tr_corr_df_7 = helper_old.trolley_footprint_replacement(tr_moment_df_7)\n",
    "tr_corr_df_8 = helper_old.trolley_footprint_replacement(tr_moment_df_8)\n",
    "\n",
    "tr_baseline_2, _, _, _, _ = trolley_run_station_average_2(tr_corr_df_2)\n",
    "tr_baseline_3, _, _, _, _ = trolley_run_station_average_2(tr_corr_df_3)\n",
    "tr_baseline_4, _, _, _, _ = trolley_run_station_average_2(tr_corr_df_4)\n",
    "tr_baseline_5, _, _, _, _ = trolley_run_station_average_2(tr_corr_df_5)\n",
    "tr_baseline_6, _, _, _, _ = trolley_run_station_average_2(tr_corr_df_6)\n",
    "tr_baseline_7, _, _, _, _ = trolley_run_station_average_2(tr_corr_df_7)\n",
    "tr_baseline_8, _, _, _, _ = trolley_run_station_average_2(tr_corr_df_8)\n",
    "\n",
    "delta_tr_eg_1 = np.mean(tr_baseline_3 - tr_baseline_2, axis=0)\n",
    "delta_tr_eg_2 = np.mean(tr_baseline_5 - tr_baseline_4, axis=0)\n",
    "delta_tr_eg_3 = np.mean(tr_baseline_7 - tr_baseline_6, axis=0)\n",
    "delta_tr_eg_4 = np.mean(tr_baseline_8 - tr_baseline_7, axis=0)\n",
    "\n",
    "sync_offsets_1, _ = helper.sync_offset_calc(tr_corr_df_2, tr_corr_df_3)\n",
    "sync_offsets_2, _ = helper.sync_offset_calc(tr_corr_df_4, tr_corr_df_5)\n",
    "sync_offsets_3, _ = helper.sync_offset_calc(tr_corr_df_6, tr_corr_df_7)\n",
    "sync_offsets_4, _ = helper.sync_offset_calc(tr_corr_df_7, tr_corr_df_8)\n",
    "\n",
    "so_eg_1 = np.mean(sync_offsets_1, axis=0)\n",
    "so_eg_2 = np.mean(sync_offsets_2, axis=0)\n",
    "so_eg_3 = np.mean(sync_offsets_3, axis=0)\n",
    "so_eg_4 = np.mean(sync_offsets_4, axis=0)\n"
   ]
  },
  {
   "cell_type": "code",
   "execution_count": 12,
   "metadata": {},
   "outputs": [
    {
     "name": "stdout",
     "output_type": "stream",
     "text": [
      "tr run 1\n",
      "Finished calculating all moments for 4351 events.\n",
      "tr run 2\n",
      "Finished calculating all moments for 4372 events.\n",
      "tr run 3\n",
      "Finished calculating all moments for 4344 events.\n",
      "Removing trolley image from station 71.                                    \n"
     ]
    }
   ],
   "source": [
    "filename = 'hdf5/highkick.h5'\n",
    "\n",
    "print 'tr run 1'\n",
    "tr_moment_df_1 = helper.calc_moment_df(pd.read_hdf(filename, 'tr_df_1'))\n",
    "print 'tr run 2'\n",
    "tr_moment_df_2 = helper.calc_moment_df(pd.read_hdf(filename, 'tr_df_2'))\n",
    "print 'tr run 3'\n",
    "tr_moment_df_3 = helper.calc_moment_df(pd.read_hdf(filename, 'tr_df_3'))\n",
    "\n",
    "tr_corr_df_1 = helper_old.trolley_footprint_replacement(tr_moment_df_1)\n",
    "tr_corr_df_2 = helper_old.trolley_footprint_replacement(tr_moment_df_2)\n",
    "tr_corr_df_3 = helper_old.trolley_footprint_replacement(tr_moment_df_3)\n",
    "\n",
    "tr_baseline_1, _, _, _, _ = trolley_run_station_average_2(tr_corr_df_1)\n",
    "tr_baseline_2, _, _, _, _ = trolley_run_station_average_2(tr_corr_df_2)\n",
    "tr_baseline_3, _, _, _, _ = trolley_run_station_average_2(tr_corr_df_2)\n",
    "\n",
    "delta_tr_hk_1 = np.mean(tr_baseline_2 - tr_baseline_1, axis=0)\n",
    "delta_tr_hk_2 = np.mean(tr_baseline_3 - tr_baseline_2, axis=0)\n",
    "\n",
    "sync_offsets_1, _ = helper.sync_offset_calc(tr_corr_df_1, tr_corr_df_2)\n",
    "sync_offsets_2, _ = helper.sync_offset_calc(tr_corr_df_2, tr_corr_df_3)\n",
    "\n",
    "so_hk_1 = np.mean(sync_offsets_1, axis=0)\n",
    "so_hk_2 = np.mean(sync_offsets_2, axis=0)"
   ]
  },
  {
   "cell_type": "code",
   "execution_count": 13,
   "metadata": {},
   "outputs": [
    {
     "name": "stdout",
     "output_type": "stream",
     "text": [
      "tr run 1\n",
      "Finished calculating all moments for 4391 events.\n",
      "tr run 2\n",
      "Finished calculating all moments for 4338 events.\n",
      "Removing trolley image from station 71.                                                 \n"
     ]
    }
   ],
   "source": [
    "filename = 'hdf5/lowkick.h5'\n",
    "\n",
    "print 'tr run 1'\n",
    "tr_moment_df_1 = helper.calc_moment_df(pd.read_hdf(filename, 'tr_df_1'))\n",
    "print 'tr run 2'\n",
    "tr_moment_df_2 = helper.calc_moment_df(pd.read_hdf(filename, 'tr_df_2'))\n",
    "\n",
    "tr_corr_df_1 = helper_old.trolley_footprint_replacement(tr_moment_df_1)\n",
    "tr_corr_df_2 = helper_old.trolley_footprint_replacement(tr_moment_df_2)\n",
    "\n",
    "tr_baseline_1, _, _, _, _ = trolley_run_station_average_2(tr_corr_df_1)\n",
    "tr_baseline_2, _, _, _, _ = trolley_run_station_average_2(tr_corr_df_2)\n",
    "\n",
    "delta_tr_lk_1 = np.mean(tr_baseline_2 - tr_baseline_1, axis=0)\n",
    "\n",
    "sync_offsets_1, _ = helper.sync_offset_calc(tr_corr_df_1, tr_corr_df_2)\n",
    "\n",
    "so_lk_1 = np.mean(sync_offsets_1, axis=0)"
   ]
  },
  {
   "cell_type": "code",
   "execution_count": 24,
   "metadata": {},
   "outputs": [],
   "source": [
    "so_list = [so_60hr_1,\n",
    "           so_9day_1, so_9day_2, so_9day_3, so_9day_4,\n",
    "           so_eg_1, so_eg_2, so_eg_3, so_eg_4,\n",
    "           so_hk_1, so_hk_2,\n",
    "           so_lk_1]\n",
    "\n",
    "so = np.empty((12,5))\n",
    "for i in range(12):\n",
    "    so[i,:] = so_list[i]\n",
    "\n",
    "\n",
    "tr_list = [delta_tr_60hr_1,\n",
    "           delta_tr_9day_1, delta_tr_9day_2, delta_tr_9day_3, delta_tr_9day_4,\n",
    "           delta_tr_eg_1, delta_tr_eg_2, delta_tr_eg_3, delta_tr_eg_4,\n",
    "           delta_tr_hk_1, delta_tr_hk_2,\n",
    "           delta_tr_lk_1]\n",
    "\n",
    "tr = np.empty((12,17))\n",
    "for i in range(12):\n",
    "    tr[i,:] = tr_list[i]"
   ]
  },
  {
   "cell_type": "code",
   "execution_count": 44,
   "metadata": {},
   "outputs": [
    {
     "data": {
      "text/plain": [
       "[<matplotlib.lines.Line2D at 0x7f4222f75610>]"
      ]
     },
     "execution_count": 44,
     "metadata": {},
     "output_type": "execute_result"
    },
    {
     "data": {
      "image/png": "[encoded data removed]",
      "text/plain": [
       "<Figure size 432x288 with 1 Axes>"
      ]
     },
     "metadata": {
      "needs_background": "light"
     },
     "output_type": "display_data"
    }
   ],
   "source": [
    "plt.plot(tr[:,4], tr[:,7], '.')\n",
    "# plt.xlim(-3,+3)"
   ]
  },
  {
   "cell_type": "code",
   "execution_count": null,
   "metadata": {},
   "outputs": [],
   "source": []
  }
 ],
 "metadata": {
  "kernelspec": {
   "display_name": "Python 2",
   "language": "python",
   "name": "python2"
  },
  "language_info": {
   "codemirror_mode": {
    "name": "ipython",
    "version": 2
   },
   "file_extension": ".py",
   "mimetype": "text/x-python",
   "name": "python",
   "nbconvert_exporter": "python",
   "pygments_lexer": "ipython2",
   "version": "2.7.5"
  }
 },
 "nbformat": 4,
 "nbformat_minor": 2
}
